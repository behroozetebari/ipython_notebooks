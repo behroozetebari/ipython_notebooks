{
 "cells": [
  {
   "cell_type": "markdown",
   "metadata": {},
   "source": [
    "###GEOG827\n",
    "###Assignment \\#1\n",
    "###M. J. Brodzik\n",
    "###due 3/12/17\n",
    "\n",
    "##Question 1\n",
    "\n",
    "<i>Using the tables and/or equations in the \"Calculating Evaporation\" documents posted in\n",
    "blackboard, notes and/or other sources (state the source), express results as mean W/m2\n",
    "over the day.</i>\n",
    "\n",
    "##Q1. Part 1\n",
    "\n",
    "<i>Part i) estimate the daily average solar radiation to the top of the Earth's atmosphere at\n",
    "56oN on July 2nd.</i>\n",
    "\n",
    "Total daily solar radiation to top of the atmosphere (TOA) is a function of latitude, season and time of day.  From Table D, \"Calculating Evaporation Notes\", the Total daily solar radiation, $K_A\\ [W m^{-2}]$, is given in 10-degree latitude increments, for Jun 22 and Jul 15.  I begin by plotting these to see how much variability there is in $K_A$:"
   ]
  },
  {
   "cell_type": "code",
   "execution_count": 1,
   "metadata": {
    "collapsed": false,
    "scrolled": false
   },
   "outputs": [
    {
     "name": "stdout",
     "output_type": "stream",
     "text": [
      "Populating the interactive namespace from numpy and matplotlib\n"
     ]
    },
    {
     "name": "stderr",
     "output_type": "stream",
     "text": [
      "/Users/brodzik/.conda/envs/pmesdr/lib/python2.7/site-packages/matplotlib/font_manager.py:273: UserWarning: Matplotlib is building the font cache using fc-list. This may take a moment.\n",
      "  warnings.warn('Matplotlib is building the font cache using fc-list. This may take a moment.')\n"
     ]
    },
    {
     "data": {
      "image/png": "[encoded data removed]",
      "text/plain": [
       "<matplotlib.figure.Figure at 0x105ee25d0>"
      ]
     },
     "metadata": {},
     "output_type": "display_data"
    }
   ],
   "source": [
    "%pylab inline\n",
    "import matplotlib.pyplot as plt\n",
    "import numpy as np\n",
    "\n",
    "# Define data to plot\n",
    "lats = np.arange(10) * 10\n",
    "jun22 = np.array([382.68, 422.88, 452.91, 472.29, 480.04,\n",
    "                  479.07, 474.23, 490.21, 513.46, 521.70])\n",
    "jul15 = np.array([387.52, 424.82, 450.49, 465.02, 468.41,\n",
    "                  462.12, 450.01, 452.43, 474.71, 481.49])\n",
    "\n",
    "# Make the plot:\n",
    "plt.rc('text', usetex=True)\n",
    "fig, ax = plt.subplots(1)\n",
    "ax.plot(lats, jun22, 'co', label='jun22')\n",
    "ax.plot(lats, jul15, 'bo', label='jul15')\n",
    "ax.set_title(\"Total daily solar radiation to horizontal surface at TOA\")\n",
    "ax.set_xlabel(\"Latitude\")\n",
    "ax.set_ylabel(r'$K_A (W m^{-2})$')\n",
    "ax.legend(loc='best', numpoints=1)\n",
    "plt.show()\n",
    "fig.savefig('HW1.1i_fig1.png')"
   ]
  },
  {
   "cell_type": "markdown",
   "metadata": {},
   "source": [
    "So although there is an inflection point in the data above 60N, for an estimate I think it's sufficient to just linearly interpolate $K_A$ for the given dates to a value for Jul 2, and then interpolate to 56$^{\\circ}$ N."
   ]
  },
  {
   "cell_type": "code",
   "execution_count": 2,
   "metadata": {
    "collapsed": false
   },
   "outputs": [],
   "source": [
    "# define a quick linear interpolation function\n",
    "# calculate slope and intercept and the value of the line at \n",
    "# the new value\n",
    "def linear_model_value_at(x, x1, y1, x2, y2):\n",
    "    slope = (y2 - y1) / (x2 - x1)\n",
    "    # y = mx + b ==> b = y - mx\n",
    "    intercept =  y1 - (slope * x1)\n",
    "    return (slope * x) + intercept"
   ]
  },
  {
   "cell_type": "code",
   "execution_count": 3,
   "metadata": {
    "collapsed": false
   },
   "outputs": [],
   "source": [
    "KA_56N_jun22 = linear_model_value_at(56., 50., 479.07, 60., 474.23)\n",
    "KA_56N_jul15 = linear_model_value_at(56., 50., 462.12, 60., 450.01)"
   ]
  },
  {
   "cell_type": "markdown",
   "metadata": {},
   "source": [
    "Linearly interpolate $K_A$ at 56 N to July 2 between Jun22 and Jul15:"
   ]
  },
  {
   "cell_type": "code",
   "execution_count": 4,
   "metadata": {
    "collapsed": false
   },
   "outputs": [
    {
     "name": "stdout",
     "output_type": "stream",
     "text": [
      "(173, 183, 196)\n"
     ]
    },
    {
     "data": {
      "text/plain": [
       "466.8999130434783"
      ]
     },
     "execution_count": 4,
     "metadata": {},
     "output_type": "execute_result"
    }
   ],
   "source": [
    "import datetime\n",
    "jun22_doy = datetime.datetime(2017, 6, 22).timetuple().tm_yday\n",
    "jul2_doy = datetime.datetime(2017, 7, 2).timetuple().tm_yday\n",
    "jul15_doy = datetime.datetime(2017, 7, 15).timetuple().tm_yday\n",
    "print(jun22_doy, jul2_doy, jul15_doy)\n",
    "\n",
    "KA_56N_jul2 = linear_model_value_at(jul2_doy, \n",
    "                                    jun22_doy, KA_56N_jun22,\n",
    "                                    jul15_doy, KA_56N_jul15)\n",
    "KA_56N_jul2"
   ]
  },
  {
   "cell_type": "markdown",
   "metadata": {},
   "source": [
    "Adding my interpolated values to the plot, I think it's sufficient to use this approximation:"
   ]
  },
  {
   "cell_type": "code",
   "execution_count": 5,
   "metadata": {
    "collapsed": false,
    "scrolled": false
   },
   "outputs": [
    {
     "data": {
      "image/png": "[encoded data removed]",
      "text/plain": [
       "<matplotlib.figure.Figure at 0x10f038110>"
      ]
     },
     "metadata": {},
     "output_type": "display_data"
    }
   ],
   "source": [
    "fig, ax = plt.subplots(1)\n",
    "\n",
    "ax.plot(lats, jun22, 'co', label='jun22')\n",
    "ax.plot(lats, jul15, 'bo', label='jul15')\n",
    "ax.plot(56, KA_56N_jun22, 'cx', label='jun22 @ 56N')\n",
    "ax.plot(56, KA_56N_jul15, 'bx', label='jul15 @ 56N')\n",
    "ax.plot(56, KA_56N_jul2, 'kx', label='jul2 @ 56N')\n",
    "ax.annotate('$K_A$ at 56 N on Jul 2 = %.2f $W m^{-2}$' % KA_56N_jul2, \n",
    "            xy=(56, KA_56N_jul2), \n",
    "            xytext=(30, 430),\n",
    "            arrowprops=dict(facecolor='k', shrink=0.05))\n",
    "\n",
    "ax.set_title(\"Total daily solar radiation to horizontal surface at TOA\")\n",
    "ax.set_xlabel(\"Latitude\")\n",
    "ax.set_ylabel(r'$K_A (W m^{-2})$')\n",
    "plt.legend(bbox_to_anchor=(1.05, 1), loc=2, borderaxespad=0., numpoints=1)\n",
    "plt.show()\n",
    "fig.savefig('HW1.1i_fig2.png')"
   ]
  },
  {
   "cell_type": "markdown",
   "metadata": {
    "collapsed": true
   },
   "source": [
    "So the estimated daily average solar radiation to the top of the Earth's atmosphere at 56$^{\\circ}$ N on July 2nd is 466.90 $W m^{-2}$."
   ]
  },
  {
   "cell_type": "markdown",
   "metadata": {
    "collapsed": true
   },
   "source": [
    "##Q1. Part ii\n",
    "\n",
    "<i>ii) if there are 7 hours of bright sunshine, what is the average incoming solar radiation to the surface of a flat unvegetated field at this location on this day?</i>"
   ]
  },
  {
   "cell_type": "markdown",
   "metadata": {},
   "source": [
    "Eq 7. from \"Calculating Evaporation Notes\" gives the equation for mean incoming shortwave radiation $K\\downarrow [W m^{-2}]$ as:\n",
    "\n",
    "$K\\downarrow = K_A[a + b(\\frac{n}{N})]$\n",
    "\n",
    "Looking at latitudes of locations in Table B, I think the closest location would be that of Central SK, Canada from Mudiare(1985). I will use the rainfree values for a and b.\n",
    "\n",
    "Let:\n",
    "\n",
    "<pre>\n",
    "a = 0.27 (From Table B, Mudiare, rain-free, May-Aug, central SK)\n",
    "b = 0.47 (From Table B, Mudiare, rain-free, May-Aug, central SK)\n",
    "n = 7. (actual sunshine hours)\n",
    "N = maximum possible number of sunshine hours \n",
    "</pre>\n",
    "\n",
    "Estimate N from Table C, values given for latitude=56N, interpolate values from Jul1 - Jul5 to a value for Jul2, and remember to convert (hours,minutes) to decimal hours)\n",
    "\n",
    "<pre>\n",
    "Date:  N at 56N\n",
    "Jul1: 17h 31m                                                                   \n",
    "Jul5: 17h 25m          \n",
    "</pre>"
   ]
  },
  {
   "cell_type": "code",
   "execution_count": 6,
   "metadata": {
    "collapsed": false
   },
   "outputs": [
    {
     "name": "stdout",
     "output_type": "stream",
     "text": [
      "Estimate of N at 56N on Jul 2 is: 17.49\n"
     ]
    }
   ],
   "source": [
    "N = linear_model_value_at(2., 1, 17. + (31./60.), 5, 17. + (25./60.))\n",
    "print(\"Estimate of N at 56N on Jul 2 is: %.2f\" % N)"
   ]
  },
  {
   "cell_type": "code",
   "execution_count": 7,
   "metadata": {
    "collapsed": false
   },
   "outputs": [
    {
     "data": {
      "text/plain": [
       "213.881978746401"
      ]
     },
     "execution_count": 7,
     "metadata": {},
     "output_type": "execute_result"
    }
   ],
   "source": [
    "a = 0.27\n",
    "b = 0.47\n",
    "n = 7.\n",
    "K_down = KA_56N_jul2 * (a + b * (n/N))\n",
    "K_down"
   ]
  },
  {
   "cell_type": "markdown",
   "metadata": {},
   "source": [
    "So with 7 hours of direct sunshine at this location, the mean incoming solar radiation to the surface of a flat unvegetated field at about 56$^{\\circ}$ N on July 2nd is 213.88 $W m^{-2}$.  So atmospheric transmittance reduces the shortwave by more than half of that reaching TOA."
   ]
  },
  {
   "cell_type": "markdown",
   "metadata": {},
   "source": [
    "##Q1. Part iii\n",
    "\n",
    "<i>iii) if the mean daily air temperature is 15°C and the mean daily relative\n",
    "humidity is 70%, what is the daily average clear sky incoming longwave \n",
    "radiation and what is the actual daily average incoming longwave radiation to this field?\n",
    "</i>\n",
    "\n",
    "From our class notes, incoming longwave clear sky radiation from the atmosphere, $L_{0,clear} [W m^{-2}]$, is expressed by the Stephan-Boltzmann Law:\n",
    "\n",
    "$L_{0,clear} = \\varepsilon_{clear}(T,e) \\sigma T^4$\n",
    "\n",
    "Where apparent clear-sky emissivity, $\\varepsilon_{clear}$, is a function of air temperature near the ground, $T [K]$, and water vapour pressure, $e [mb]$, near the ground. Brutsaert(1975) derived an empirical relationship for $\\varepsilon_{clear}$ as a function of $T$ and $e$:\n",
    "\n",
    "$$\\varepsilon_{clear} = C(\\frac{e}{T})^{1/m}$$\n",
    "\n",
    "where:\n",
    "\n",
    "$T$ = air temperature, $[K]$  \n",
    "$e$ = vapour pressure near the ground, $[mb]$  \n",
    "$C$ = 1.24  \n",
    "$m$ = 7  \n",
    "\n",
    "From lectures, I can use the Magnus Formula to approximate saturated water vapour pressure $e_s [hPa=mb]$, at 15-deg C:\n",
    "\n",
    "$e_s [mb] = 6.1094 \\exp{\\frac{17.625 T}{T + 243.04}}$\n",
    "\n",
    "where:\n",
    "$T$ = air temperature $[°C] = 15.$  \n"
   ]
  },
  {
   "cell_type": "code",
   "execution_count": 8,
   "metadata": {
    "collapsed": false
   },
   "outputs": [
    {
     "name": "stdout",
     "output_type": "stream",
     "text": [
      "Saturated water vapour pressure at 15°C is 17.02 mb\n"
     ]
    }
   ],
   "source": [
    "T_C = 15. # air temperature, degrees C\n",
    "es_15C = 6.1094 * np.exp((17.625 * T_C) / (T_C + 243.04))\n",
    "print(\"Saturated water vapour pressure at 15°C is %.2f mb\" % es_15C)"
   ]
  },
  {
   "cell_type": "markdown",
   "metadata": {},
   "source": [
    "So water vapour pressure near the ground, $e [mb]$, is 70% of $e_s(T=15°C)$:"
   ]
  },
  {
   "cell_type": "code",
   "execution_count": 9,
   "metadata": {
    "collapsed": false
   },
   "outputs": [
    {
     "name": "stdout",
     "output_type": "stream",
     "text": [
      "Water vapour pressure near the ground is 11.91 mb\n"
     ]
    }
   ],
   "source": [
    "RH = 70\n",
    "e = RH / 100. * es_15C\n",
    "print(\"Water vapour pressure near the ground is %.2f mb\" % e)"
   ]
  },
  {
   "cell_type": "code",
   "execution_count": 10,
   "metadata": {
    "collapsed": false
   },
   "outputs": [
    {
     "name": "stdout",
     "output_type": "stream",
     "text": [
      "Air temperature = 288.15 K\n"
     ]
    }
   ],
   "source": [
    "# For the Brutsaert equation, temperature needs to be in Kelvins, so convert 15C to Kelvins\n",
    "T_K = T_C + 273.15\n",
    "print(\"Air temperature = %.2f K\" % T_K)"
   ]
  },
  {
   "cell_type": "code",
   "execution_count": 11,
   "metadata": {
    "collapsed": false
   },
   "outputs": [
    {
     "name": "stdout",
     "output_type": "stream",
     "text": [
      "Clear sky emissivity (using Brutsaert's formula) is 0.79\n"
     ]
    }
   ],
   "source": [
    "C = 1.24\n",
    "m = 7.\n",
    "e_clear = C * ((e / T_K)**(1./m))\n",
    "print(\"Clear sky emissivity (using Brutsaert's formula) is %.2f\" % e_clear)"
   ]
  },
  {
   "cell_type": "markdown",
   "metadata": {},
   "source": [
    "So using the Stephan-Boltzmann Law, let:\n",
    "\n",
    "$\\varepsilon_{clear}(T=15°C,e=11.91mb)$ = 0.79  \n",
    "$\\sigma$ = 5.67 x $10^{-8} W m^{-2} K^{-4}$    \n",
    "$T$ = 288.15 $K$  "
   ]
  },
  {
   "cell_type": "code",
   "execution_count": 12,
   "metadata": {
    "collapsed": false
   },
   "outputs": [
    {
     "name": "stdout",
     "output_type": "stream",
     "text": [
      "Incoming longwave clearsky 307.49 [W/m^2]\n"
     ]
    }
   ],
   "source": [
    "sigma = 5.67e-08\n",
    "longwave_clearsky = e_clear * sigma * T_K**4\n",
    "print(\"Incoming longwave clearsky %.2f [W/m^2]\" % longwave_clearsky)"
   ]
  },
  {
   "cell_type": "markdown",
   "metadata": {},
   "source": [
    "So I estimate daily average clear sky incoming longwave radiation, $L\\downarrow$, to be 307.49 $W m^{-2}$, which is greater than the incoming shortwave from part i).  "
   ]
  },
  {
   "cell_type": "markdown",
   "metadata": {},
   "source": [
    "For the actual daily average incoming longwave radiation to this field, since it there are only 7 hours of bright sunshine, I think the actual atmospheric emissivity will need to be adjusted upward, to account for increased emission from the clouds.  I will use the adjustment used in Sicart et al 2006, equation (9).  The adjustment for emissivity from clouds is:\n",
    "\n",
    "$$\\varepsilon_{cloudy} = \\varepsilon_{clear}(1 + 0.44 RH - 0.18 \\tau_{atm})$$\n",
    "\n",
    "where:  \n",
    "\n",
    "$RH$ = relative humidity (as a percent)  \n",
    "$\\tau_{atm}$ = shortwave transmissivity of the atmosphere \n",
    "\n",
    "Shortwave atmospheric transmissivity is the ratio of my answers from part i) and ii):"
   ]
  },
  {
   "cell_type": "code",
   "execution_count": 13,
   "metadata": {
    "collapsed": false
   },
   "outputs": [
    {
     "name": "stdout",
     "output_type": "stream",
     "text": [
      "KA = 466.90, K_down = 213.88, tau_atm = 0.46\n"
     ]
    }
   ],
   "source": [
    "tau_atm = K_down / KA_56N_jul2\n",
    "print(\"KA = %.2f, K_down = %.2f, tau_atm = %.2f\" %(\n",
    "        KA_56N_jul2, K_down, tau_atm))"
   ]
  },
  {
   "cell_type": "markdown",
   "metadata": {},
   "source": [
    "So using emissivity of the cloudy atmosphere in Stephan-Boltzmann:"
   ]
  },
  {
   "cell_type": "code",
   "execution_count": 14,
   "metadata": {
    "collapsed": false
   },
   "outputs": [
    {
     "name": "stdout",
     "output_type": "stream",
     "text": [
      "Clear-sky emissivity 0.79\n",
      "Cloudy-sky emissivity 0.96\n",
      "Incoming longwave radiation 376.84\n"
     ]
    }
   ],
   "source": [
    "e_cloudy = e_clear * (1. + 0.44 * (RH/100.) - 0.18* (tau_atm))\n",
    "longwave_cloudysky = e_cloudy * sigma * T_K**4\n",
    "print(\"Clear-sky emissivity %.2f\" % e_clear)\n",
    "print(\"Cloudy-sky emissivity %.2f\" % e_cloudy)\n",
    "print(\"Incoming longwave radiation %.2f\" % longwave_cloudysky)"
   ]
  },
  {
   "cell_type": "markdown",
   "metadata": {},
   "source": [
    "So this matches my expectation from class notes that $\\varepsilon_{clear} < \\varepsilon_{cloudy}$, and I estimate actual daily average incoming longwave radiation to this field as 376.84 $W m^{-2}$."
   ]
  },
  {
   "cell_type": "markdown",
   "metadata": {},
   "source": [
    "##Q1. Part iv\n",
    "\n",
    "<i>iv) if the surface temperature is 20°C and albedo is 0.15 what is the average net radiation over the day?</i>\n",
    "\n",
    "The average net radiation over the day is the sum of net shortwave and net longwave:\n",
    "\n",
    "$$Q^\\ast = K^\\ast - L^\\ast = K\\downarrow(1 - \\alpha) + L\\downarrow - L\\uparrow$$\n",
    "\n",
    "where:  \n",
    "$K^\\ast$ = net shortwave  \n",
    "$L^\\ast$ = net longwave  \n",
    "$K\\downarrow$ = incoming shortwave  \n",
    "$\\alpha$ = shortwave albedo  \n",
    "$L\\downarrow$ = incoming longwave  \n",
    "$L\\uparrow$ = outgoing longwave from the terrain surface\n",
    "\n",
    "Air temperature is not a factor for the incoming shortwave, so I can use incoming shortwave from part ii:\n",
    "\n",
    "$K\\downarrow = 213.88 W m^{-2}$  \n",
    "$\\alpha = 0.15$  "
   ]
  },
  {
   "cell_type": "code",
   "execution_count": 15,
   "metadata": {
    "collapsed": false
   },
   "outputs": [
    {
     "data": {
      "text/plain": [
       "181.79968193444083"
      ]
     },
     "execution_count": 15,
     "metadata": {},
     "output_type": "execute_result"
    }
   ],
   "source": [
    "albedo = 0.15\n",
    "K_net = K_down * (1. - albedo)\n",
    "K_net"
   ]
  },
  {
   "cell_type": "markdown",
   "metadata": {},
   "source": [
    "And adjust the incoming longwave from part iii for the higher temperature:"
   ]
  },
  {
   "cell_type": "code",
   "execution_count": 16,
   "metadata": {
    "collapsed": false
   },
   "outputs": [
    {
     "name": "stdout",
     "output_type": "stream",
     "text": [
      "Incoming longwave radiation for T=20°C is now 402.69 W/m^2\n"
     ]
    }
   ],
   "source": [
    "T_C = 20. # air temperature, degrees C\n",
    "T_K = T_C + 273.15\n",
    "e_clear_20 = C * ((e / T_K)**(1./m)) # clear sky emission at T=20\n",
    "e_cloudy_20 = e_clear_20 * (1. + 0.44 * (RH/100.) - 0.18* (tau_atm))\n",
    "longwave_cloudysky_20 = e_cloudy_20 * sigma * T_K**4 # W/m^2\n",
    "print(\"Incoming longwave radiation for T=20°C is now %.2f W/m^2\" % longwave_cloudysky_20)"
   ]
  },
  {
   "cell_type": "markdown",
   "metadata": {},
   "source": [
    "Outgoing longwave is longwave emission from the terrain surface. I use the Stephan-Boltzmann equation, assuming albedo of the terrain is close to 1, say 0.98, and that the air temperature is an adequate estimate for the surface temperature:"
   ]
  },
  {
   "cell_type": "code",
   "execution_count": 17,
   "metadata": {
    "collapsed": false
   },
   "outputs": [
    {
     "name": "stdout",
     "output_type": "stream",
     "text": [
      "Outgoing longwave radiation from surface for T=20°C is 410.36 W/m^2\n"
     ]
    }
   ],
   "source": [
    "surface_emissivity = 0.98\n",
    "longwave_up = 0.98 * sigma * T_K**4 # W/m^2\n",
    "print(\"Outgoing longwave radiation from surface for T=20°C is %.2f W/m^2\" %\n",
    "      longwave_up)"
   ]
  },
  {
   "cell_type": "code",
   "execution_count": 18,
   "metadata": {
    "collapsed": false
   },
   "outputs": [
    {
     "name": "stdout",
     "output_type": "stream",
     "text": [
      "(181.79968193444083, 402.69262523294549, 410.3635032136096)\n",
      "Net_radiation for T=20 is 174.13\n"
     ]
    }
   ],
   "source": [
    "net = K_net + longwave_cloudysky_20 - longwave_up\n",
    "print(K_net, longwave_cloudysky_20, longwave_up)\n",
    "print(\"Net_radiation for T=20 is %.2f\" % net)"
   ]
  },
  {
   "cell_type": "markdown",
   "metadata": {},
   "source": [
    "So I estimate average net radiation in this location over the day to be 159.67 $W m^{-2}$."
   ]
  },
  {
   "cell_type": "markdown",
   "metadata": {},
   "source": [
    "##Q1. Part v\n",
    "\n",
    "<i>v) what would the daily average incoming solar radiation and incoming longwave radiation fluxes be to the sub-canopy floor under an adjacent pine canopy at this location on this day, if the pine canopy had a leaf area index of 2.1 and a sky view factor of 0.2? If the sub-canopy surface temperature and albedo are the same as in the field, what is the sub-canopy net radiation?</i>\n",
    "\n",
    "Per Pomeroy and Dion, 1996, the transmittance through a forest canopy can be modeled with an extinction coefficient:\n",
    "\n",
    "$$\\tau = exp^{\\frac{-Q_{ext}\\ {LAI}'}{\\sin\\theta}}$$  \n",
    "\n",
    "where:\n",
    "\n",
    "$\\tau$ = transmittance through forest canopy  \n",
    "$Q_{ext}$ = extinction efficiency (dimensionless)  \n",
    "$LAI'$ = effective winter leaf area index  \n",
    "$\\theta$ = solar angle above the horizon  \n",
    "\n",
    "From Pomeroy lecture on Day 1, slide 42, apparently $Q_{ext}$ cancels $\\sin\\theta$ , so $Q_{ext} \\approx \\sin\\theta$ so their ratio will $\\rightarrow$1. and $\\tau$ is:"
   ]
  },
  {
   "cell_type": "code",
   "execution_count": 19,
   "metadata": {
    "collapsed": false
   },
   "outputs": [
    {
     "data": {
      "text/plain": [
       "0.12245642825298191"
      ]
     },
     "execution_count": 19,
     "metadata": {},
     "output_type": "execute_result"
    }
   ],
   "source": [
    "eff_lai = 2.1\n",
    "forest_tau = exp(-1 * eff_lai)\n",
    "forest_tau"
   ]
  },
  {
   "cell_type": "markdown",
   "metadata": {},
   "source": [
    "So I estimate $\\tau$ = 0.12. This is consistent with my notes from class, which indicate that a good rule of thumb for $\\tau$ in forests is 0.1.\n",
    "\n",
    "For daily average incoming solar radiation and incoming longwave radiation fluxes to the sub-canopy floor under an adjacent pine canopy at this location on this day, incoming shortwave will be $K^\\ast$ times the transmittance, and net shortwave will be incoming shortwave times $(1 - \\alpha)$:"
   ]
  },
  {
   "cell_type": "code",
   "execution_count": 20,
   "metadata": {
    "collapsed": false
   },
   "outputs": [
    {
     "name": "stdout",
     "output_type": "stream",
     "text": [
      "shortwave down to subcanopy 22.26 W/m^2\n",
      "net subcanopy shortwave 18.92 W/m^2\n"
     ]
    }
   ],
   "source": [
    "subcanopy_shortwave_down = K_net * forest_tau\n",
    "net_subcanopy_shortwave = subcanopy_shortwave_down * (1. - albedo)\n",
    "print(\"shortwave down to subcanopy %.2f W/m^2\" % subcanopy_shortwave_down)\n",
    "print(\"net subcanopy shortwave %.2f W/m^2\" % net_subcanopy_shortwave)"
   ]
  },
  {
   "cell_type": "markdown",
   "metadata": {},
   "source": [
    "The incoming longwave to the subcanopy will come from a combination of the sky and the trees.  Sicart et al. 2006 (equation 6) found that terrain and vegetation emissions of longwave radiation could be represented as separate components weighted by sky view factor:\n",
    "\n",
    "$$L = V_f L_0 + (1 - V_f) \\varepsilon_s \\sigma T_{s}^4$$\n",
    "\n",
    "let:  \n",
    "$V_f$ = 0.2 (given)  \n",
    "$L_0$ = longwave from the cloudysky at 20°C from part iv, $W m^{-2}$  \n",
    "$\\varepsilon_s$ = 0.98 emissivity of the forest, assume it is close to 1, from Sicart \"terrain emissivity is close to 1 for snow and most natural surfaces\"  \n",
    "$T_{s}$ = 20 + 273.15 $K$ (same temperature as surrounding field)  \n",
    "\n",
    "The outgoing longwave from the subcanopy floor will be the same as that from the surrounding field."
   ]
  },
  {
   "cell_type": "code",
   "execution_count": 21,
   "metadata": {
    "collapsed": false
   },
   "outputs": [
    {
     "name": "stdout",
     "output_type": "stream",
     "text": [
      "longwave down to subcanopy 408.83 W/m^2\n",
      "longwave up from subcanopy 410.36 W/m^2\n",
      "net subcanopy longwave -1.53 W/m^2\n"
     ]
    }
   ],
   "source": [
    "sky_view_factor = 0.2\n",
    "subcanopy_longwave_down = sky_view_factor * longwave_cloudysky_20 + \\\n",
    "       (1. - sky_view_factor) * surface_emissivity * sigma * T_K**4 \n",
    "net_subcanopy_longwave = subcanopy_longwave_down - longwave_up\n",
    "print(\"longwave down to subcanopy %.2f W/m^2\" % subcanopy_longwave_down)\n",
    "print(\"longwave up from subcanopy %.2f W/m^2\" % longwave_up)\n",
    "print(\"net subcanopy longwave %.2f W/m^2\" % net_subcanopy_longwave)\n"
   ]
  },
  {
   "cell_type": "markdown",
   "metadata": {},
   "source": [
    "So the subcanopy is losing longwave radiation."
   ]
  },
  {
   "cell_type": "code",
   "execution_count": 22,
   "metadata": {
    "collapsed": false
   },
   "outputs": [],
   "source": [
    "net_subcanopy = net_subcanopy_shortwave + net_subcanopy_longwave"
   ]
  },
  {
   "cell_type": "markdown",
   "metadata": {},
   "source": [
    "Finally, the subcanopy net radiation $Q^\\ast = K^\\ast + L^\\ast$ = 14.50 $W m^{-1}$."
   ]
  },
  {
   "cell_type": "markdown",
   "metadata": {
    "collapsed": true
   },
   "source": [
    "##Question 2\n",
    "\n",
    "<i>Use equations presented in the paper by Harder and Pomeroy (2013) to estimate precipitation phase:</i>\n",
    "\n",
    "<i>During a precipitation measurement of 5 mm over an hour into a remote unattended Alter-shielded weighing precipitation gauge in a forested clearing you measure an air temperature of +1.0 C, RH of 60%, with very low wind speed. What is the water equivalent depth of snowfall? What is the depth of rainfall?</i>\n",
    "\n",
    "Harder and Pomeroy (2013) derive a psychrometric equation to derive phase change, expressed as rainfall fraction, $f_r$, as a sigmoidal function:\n",
    "\n",
    "$$f_r(T_i) = \\frac{1}{1 + b * c^{T_{i}}}$$\n",
    "\n",
    "where:  \n",
    "$b$, $c$ = best fit coefficients, both are functions of time scale of measurement (15-min, hourly, daily)  \n",
    "$T_i$ = hydrometeor temperature\n",
    "\n",
    "An iterative solution for $T_i$, Appendix eq. A.5, is:\n",
    "\n",
    "$$T_i = T_a + \\frac{D}{\\lambda_t}  L (\\rho_{T_a} - \\rho_{sat(T_i)})$$\n",
    "\n",
    "where:  \n",
    "$T_a$ = air temperature $[K]$  \n",
    "$D$ = diffusivity of water vapour in air $[m^2 s^{-1}]$  \n",
    "$\\lambda_t$ = thermal conductivity of air $[J\\ m^{-1} s^{-1} K^{-1}]$  \n",
    "$L$ = latent heat of vaporisation or sublimation $[J\\ kg^{-1}]$  \n",
    "$\\rho_{T_a}$ = water vapour density in the free atmosphere $[kg\\ m^{-3}]$    \n",
    "$\\rho_{sat(T_i)}$ = saturated water vapour density at the hydrometeor surface $[kg\\ m^{-3}]$  \n",
    "\n",
    "Since the wind speed is low, I will assume thermodynamic equilibrium.\n",
    "\n",
    "I am given $T_a$ = 1.0 °$C$ = 274.15 $K$.  For each of the next terms:  \n",
    "\n",
    "$D$: Following the appendix equation A.6 (Thorpe and Mason, 1966), I can estimate $D [m^2 s^{-1}]$ as function of $T_a [K]$:\n",
    "\n",
    "$$D = 2.06 * 10^{-5} * \\left(\\frac{T_a}{273.15}\\right)^{1.75}$$"
   ]
  },
  {
   "cell_type": "code",
   "execution_count": 23,
   "metadata": {
    "collapsed": false
   },
   "outputs": [
    {
     "data": {
      "text/plain": [
       "(273.15, 274.15, 2.0732159900990022e-05)"
      ]
     },
     "execution_count": 23,
     "metadata": {},
     "output_type": "execute_result"
    }
   ],
   "source": [
    "C_to_K_offset = 273.15\n",
    "Tair_C = 1.0  \n",
    "Tair_K = Tair_C + C_to_K_offset\n",
    "D_m2ps = 2.06e-5 * (Tair_K/273.15)**1.75\n",
    "C_to_K_offset, Tair_K, D_m2ps"
   ]
  },
  {
   "cell_type": "markdown",
   "metadata": {},
   "source": [
    "$\\lambda_t$: Following appendix equation A.9 (List, 1949), I can estimate $\\lambda_t\\ [J m^{-1} s^{-1} K^{-1}]$ as function of $T_a [K]$:\n",
    "\n",
    "$$\\lambda_t = 0.000063 * T_a + 0.00673$$"
   ]
  },
  {
   "cell_type": "code",
   "execution_count": 24,
   "metadata": {
    "collapsed": false
   },
   "outputs": [
    {
     "name": "stdout",
     "output_type": "stream",
     "text": [
      "(2.0732159900990022e-05, 0.024001449999999997, 0.0008637878086944757)\n"
     ]
    }
   ],
   "source": [
    "lambda_t = 0.000063 * Tair_K + 0.00673\n",
    "print(D_m2ps, lambda_t, D_m2ps/lambda_t)"
   ]
  },
  {
   "cell_type": "markdown",
   "metadata": {},
   "source": [
    "(I wasn't sure about temperature units in $C$ or $K$, but my value for the psychrometric exchange ratio, $D/\\lambda_t$, at 0 °C is consistent with the plot in Figure A1(b)).  \n",
    "\n",
    "$L$: Since the temperature is > 0 °C, I will use heat of vaporization, $L_v [J\\ kg^{-1}]$, equation A.11, as a function of $T_a [C]$:\n",
    "\n",
    "$$L_v = 1000(2501 - (2.361 T))$$"
   ]
  },
  {
   "cell_type": "code",
   "execution_count": 25,
   "metadata": {
    "collapsed": false
   },
   "outputs": [
    {
     "name": "stdout",
     "output_type": "stream",
     "text": [
      "Latent heat of vaporization = 2.50E+06 J/kg\n"
     ]
    }
   ],
   "source": [
    "Lv_Jpkg = 1000. * (2501 - (2.361 * Tair_C))\n",
    "print(\"Latent heat of vaporization = %.2E J/kg\" % Lv_Jpkg)"
   ]
  },
  {
   "cell_type": "markdown",
   "metadata": {},
   "source": [
    "$\\rho_{T_a}$, $\\rho_{sat(T_s)}$ : To estimate water vapour density $[kg\\ m^{-3}]$ in the free atmosphere, I calculate the water vapour pressure, e $[Pa]$, using Dingman (2015), eq 3.9a, p.113:\n",
    "\n",
    "$$e = \\frac{RH}{100} * 611\\ exp\\left(\\frac{17.27\\ T}{T + 237.3}\\right)$$\n",
    "\n",
    "where:  \n",
    "RH = relative humidity = 70%  \n",
    "T = air temperature, $°C$  "
   ]
  },
  {
   "cell_type": "code",
   "execution_count": 26,
   "metadata": {
    "collapsed": false
   },
   "outputs": [
    {
     "name": "stdout",
     "output_type": "stream",
     "text": [
      "saturated vapour pressure [Pa] = 656.92 Pa\n",
      "free air vapour pressure [Pa] for 60% RH = 394.15 Pa\n"
     ]
    }
   ],
   "source": [
    "RH = 60.\n",
    "saturated_vapour_pressure_Pa = 611 * np.exp((17.27 * Tair_C)/(Tair_C + 237.3))\n",
    "free_air_vapour_pressure_Pa = (RH / 100.) * saturated_vapour_pressure_Pa\n",
    "print(\"saturated vapour pressure [Pa] = %.2f Pa\" % (saturated_vapour_pressure_Pa))\n",
    "print(\"free air vapour pressure [Pa] for %d%% RH = %.2f Pa\" % (\n",
    "        RH, free_air_vapour_pressure_Pa))"
   ]
  },
  {
   "cell_type": "markdown",
   "metadata": {},
   "source": [
    "And then convert pressure to density using the ideal gas law (also from Appendix A.8):\n",
    "\n",
    "$$\\rho = \\frac{m_we}{RT}$$\n",
    "\n",
    "where:    \n",
    "$m_w$ = molecular weight of water = 0.01801528 $kg\\ mol^{-1}$  \n",
    "$e$ = water vapour pressure, $kPa$  \n",
    "$R$ = Universal Gas Constant 8.31441 $J\\ mol^{-1}\\ K^{-1}$  \n",
    "$T$ = temperature $K$  "
   ]
  },
  {
   "cell_type": "code",
   "execution_count": 27,
   "metadata": {
    "collapsed": false
   },
   "outputs": [
    {
     "name": "stdout",
     "output_type": "stream",
     "text": [
      "saturated water vapour density = 5.19E-06 kg m^-3\n",
      "free air water vapour density for 60 % RH = 3.12E-06 kg m^-3\n"
     ]
    }
   ],
   "source": [
    "mw = 0.01801528  # kg mol^-1\n",
    "R = 8.31441      # J mol^-1 K^-1\n",
    "Pa_per_kPa = 1000.  # conversion\n",
    "saturated_vapour_density_kgpm3 = (\n",
    "    mw * saturated_vapour_pressure_Pa / Pa_per_kPa) / (R * Tair_K)\n",
    "free_air_vapour_density_kgpm3 = (\n",
    "    mw * free_air_vapour_pressure_Pa / Pa_per_kPa) / (R * Tair_K)\n",
    "print(\"saturated water vapour density = %.2E kg m^-3\" % (saturated_vapour_density_kgpm3))\n",
    "print(\"free air water vapour density for %d %% RH = %.2E kg m^-3\" % (\n",
    "        RH, free_air_vapour_density_kgpm3))"
   ]
  },
  {
   "cell_type": "markdown",
   "metadata": {},
   "source": [
    "Solving for hydrometeor temperature:"
   ]
  },
  {
   "cell_type": "code",
   "execution_count": 28,
   "metadata": {
    "collapsed": false
   },
   "outputs": [
    {
     "name": "stdout",
     "output_type": "stream",
     "text": [
      "hydrometeor temperature = 9.96E-01 deg-C\n"
     ]
    }
   ],
   "source": [
    "T_i = Tair_C + (D_m2ps/lambda_t) * Lv_Jpkg * (\n",
    "    free_air_vapour_density_kgpm3 - saturated_vapour_density_kgpm3)\n",
    "print(\"hydrometeor temperature = %.2E deg-C\" % T_i)"
   ]
  },
  {
   "cell_type": "markdown",
   "metadata": {},
   "source": [
    "And finally, using b and c from middle plot (hourly) of Fig. 6:"
   ]
  },
  {
   "cell_type": "code",
   "execution_count": 29,
   "metadata": {
    "collapsed": false
   },
   "outputs": [
    {
     "name": "stdout",
     "output_type": "stream",
     "text": [
      "(0.75999258631298428, 3.7999629315649215, 1.2000370684350785)\n"
     ]
    }
   ],
   "source": [
    "b = 2.50286\n",
    "c = 0.125006\n",
    "rainfall_fraction = 1. / (1. + (b * c**T_i))\n",
    "precip_mm = 5\n",
    "print(rainfall_fraction, rainfall_fraction * precip_mm, \\\n",
    "      ((1 - rainfall_fraction) * precip_mm))\n",
    "                          "
   ]
  },
  {
   "cell_type": "markdown",
   "metadata": {},
   "source": [
    "So given a gauge precip measurement of 5 $mm$, I estimate it fell as 3.8 $mm$ of rainfall, and 1.2 $mm$ water equivalent from snowfall."
   ]
  },
  {
   "cell_type": "markdown",
   "metadata": {},
   "source": [
    "##Question 3\n",
    "\n",
    "<i>You are measuring air temperature and water vapour content over a natural grassland (roughness length = 0.03 m) to get an idea of how available energy is being used at this site. You have installed the minimum of two levels of measurements of wind speed, temperature and humidity. The daily average measurements are (heights above the ground):</i\n",
    "<i>\n",
    "- 1-m height, wind speed is 0.6 $m\\ s^{-1}$, air temperature 20 $^oC$, and vapour pressure 2.0 $kPa$;  \n",
    "- 2-m height, wind speed is 0.62 $m\\ s^{-1}$, air temperature 19 $^oC$, and vapour pressure 1.5 $kPa$.</i>\n",
    "\n",
    "<i>Assume Pa = 101.3 kPa, $\\rho_a$ = 1.2 $kg\\ m^{-3}$, and $c_p$ = 1005 $J\\ kg^{-1} K^{-1}$ and $L_v$ = 2.454 $MJ\\ kg^{-1}$.  \n",
    "(a) Estimate a $z_0$ for momentum, heat and water vapour from the vegetation height. Then using bulk transfer flux-gradient calculations (example in Helgason and Pomeroy, 1995) and ignoring stability corrections find $Q_E$ and $Q_H$.  \n",
    "(b) Calculate the footprint representative of these measurements which accounts for 80% of the flux. Recall that you will first need to calculate u*.</i>\n",
    "\n",
    "Per Helgason and Pomeroy, 2005, a typical method to estimate momentum roughness length $z_{0m}$ is to plot $ln(z)$ vs. $\\bar{u}$ for neutral conditions and then determine the value of $z_{0m}$ as the y-intercept where $\\bar{u}$ =0.\n"
   ]
  },
  {
   "cell_type": "code",
   "execution_count": 62,
   "metadata": {
    "collapsed": false
   },
   "outputs": [
    {
     "name": "stdout",
     "output_type": "stream",
     "text": [
      "y-intercept: ln(z) = -20.794415\n"
     ]
    },
    {
     "data": {
      "image/png": "[encoded data removed]",
      "text/plain": [
       "<matplotlib.figure.Figure at 0x10fdbfbd0>"
      ]
     },
     "metadata": {},
     "output_type": "display_data"
    }
   ],
   "source": [
    "import numpy as np\n",
    "\n",
    "u1 = 0.6  # m/s\n",
    "u2 = 0.62 # m/s\n",
    "z1 = 1.0  # m\n",
    "z2 = 2.0  # m\n",
    "\n",
    "# quick linear interpolation function\n",
    "# returns slope and intercept\n",
    "def linear_model_parms(x1, y1, x2, y2):\n",
    "    slope = (y2 - y1) / (x2 - x1)\n",
    "    # y = mx + b ==> b = y - mx\n",
    "    intercept =  y1 - (slope * x1)\n",
    "    return {'m':slope, 'b':intercept}\n",
    "\n",
    "parms = linear_model_parms(u1, np.log(z1), u2, np.log(z2))\n",
    "print(\"y-intercept: ln(z) = %f\" % parms['b'])\n",
    "\n",
    "# Make the plot:\n",
    "plt.rc('text', usetex=True)\n",
    "fig, ax = plt.subplots(1)\n",
    "ax.plot([u1, u2], [np.log(z1), np.log(z2)], \"co-\")\n",
    "#ax.set_title(\"$ln(z) vs. \\bar{u}\")\n",
    "ax.set_xlabel('Averge wind speed $(m\\ s^{-1})$')\n",
    "ax.set_ylabel(\"$ln(z)$\")\n",
    "ax.set_xlim([0,0.63])\n",
    "ax.set_ylim([-20, 1.0])\n",
    "\n",
    "plt.show()\n",
    "fig.savefig('HW1.3_fig1.png')"
   ]
  },
  {
   "cell_type": "markdown",
   "metadata": {},
   "source": [
    "Solving for the corresponding height:"
   ]
  },
  {
   "cell_type": "code",
   "execution_count": 71,
   "metadata": {
    "collapsed": false
   },
   "outputs": [
    {
     "name": "stdout",
     "output_type": "stream",
     "text": [
      "Momentum roughness length z_0m = 9.313226e-10 meters\n"
     ]
    }
   ],
   "source": [
    "print(\"Momentum roughness length z_0m = %e meters\" % np.exp(parms['b']))"
   ]
  },
  {
   "cell_type": "markdown",
   "metadata": {},
   "source": [
    "So my calculated momentum roughness length is about 10 Angstroms, which seems impossibly small.  But I am unsure as to what I've done wrong, here.\n",
    "\n",
    "Taking a different approach, the problem states that the roughness length is 0.03 m.  Using Dingman eq (3.28 and 3.29), p. 122, if this roughness length is $z_0$, then the average vegetation height $z_{veg}$ = 0.3 m = 30 cm , which seems reasonable for a \"natural grassland\".  And, the zero-plane displacement height, $z_d$ is therefore 0.7 * 0.3 = 0.21 m.\n",
    "\n",
    "Using equation 3.30b to estimate friction velocity, $u^*$:\n",
    "\n",
    "$$u^* = \\frac{\\kappa [u(z_2) - u(z_1)]}{ln(\\frac{z_2 - z_d}{z_1 - z_d})}$$\n",
    "\n",
    "where:  \n",
    "\n",
    "$\\kappa$ = 0.4\n"
   ]
  },
  {
   "cell_type": "code",
   "execution_count": 74,
   "metadata": {
    "collapsed": false
   },
   "outputs": [
    {
     "name": "stdout",
     "output_type": "stream",
     "text": [
      "friction velocity u* = 0.009781 m/s\n"
     ]
    }
   ],
   "source": [
    "z_veg = 10. * 0.03\n",
    "z_d = 0.7 * z_veg\n",
    "kappa = 0.4\n",
    "friction_u = (kappa * (u2 - u1)) / np.log((z2 - z_d) / (z1 - z_d))\n",
    "print(\"friction velocity u* = %f m/s\" % friction_u)"
   ]
  },
  {
   "cell_type": "markdown",
   "metadata": {},
   "source": [
    "So I estimate the friction velocity $u^*$ = 0.0098 $m\\ s^{-1}$"
   ]
  },
  {
   "cell_type": "markdown",
   "metadata": {},
   "source": [
    "Using Dingman eq. 3.35, the momentum flux is:\n",
    "\n",
    "$$F_M = - \\rho_a\\ {u^*}^2$$\n",
    "\n",
    "Letting \n",
    "\n",
    "$\\rho_a$ = 1.2 $kg\\ m^{-3}$\n",
    "\n",
    "$u^*$ = friction velocity $m\\ s^{-1}$ "
   ]
  },
  {
   "cell_type": "code",
   "execution_count": 77,
   "metadata": {
    "collapsed": false
   },
   "outputs": [
    {
     "name": "stdout",
     "output_type": "stream",
     "text": [
      "Momentum flux is -0.011737 kg/m/s^2\n"
     ]
    }
   ],
   "source": [
    "# Units kg/m3 * m2/s2 = kg/m/s2  ?? flux units make sense,\n",
    "#                                   kg m/s per unit area per unit time\n",
    "rho_a = 1.2 # kg/m-3\n",
    "momentum_flux = -1 * rho_a * friction_u\n",
    "print(\"Momentum flux is %f kg/m/s^2\" % momentum_flux)"
   ]
  },
  {
   "cell_type": "markdown",
   "metadata": {},
   "source": [
    "To calculate latent heat flux $Q_E$, I think I would need to use Dingman eq 3.47, but I've gotten thoroughly confused and don't understand what $z_m$ is supposed to represent.\n",
    "\n",
    "To calculate sensible heat flux $Q_H$, I think I would need to use Dingman eq 3.57, but again, I can't figure out what $z_m$ represents."
   ]
  },
  {
   "cell_type": "markdown",
   "metadata": {},
   "source": [
    "(Problems 4 and 5 not attempted.)"
   ]
  },
  {
   "cell_type": "code",
   "execution_count": null,
   "metadata": {
    "collapsed": true
   },
   "outputs": [],
   "source": []
  }
 ],
 "metadata": {
  "kernelspec": {
   "display_name": "Python 2",
   "language": "python",
   "name": "python2"
  },
  "language_info": {
   "codemirror_mode": {
    "name": "ipython",
    "version": 2
   },
   "file_extension": ".py",
   "mimetype": "text/x-python",
   "name": "python",
   "nbconvert_exporter": "python",
   "pygments_lexer": "ipython2",
   "version": "2.7.12"
  }
 },
 "nbformat": 4,
 "nbformat_minor": 0
}
