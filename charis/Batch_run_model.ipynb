{
 "cells": [
  {
   "cell_type": "markdown",
   "metadata": {},
   "source": [
    "<h2>Runs the ti_melt model for a set of drainageIDs and years</h2>\n"
   ]
  },
  {
   "cell_type": "code",
   "execution_count": null,
   "metadata": {
    "collapsed": false
   },
   "outputs": [],
   "source": [
    "%pylab notebook\n",
    "import matplotlib.pyplot as plt\n",
    "from charistools.hypsometry import Hypsometry\n",
    "from charistools.meltModels import TriSurfTempIndexMelt\n",
    "from charistools.meltModels import ImshowTriSurfMelt\n",
    "from charistools.meltModels import PlotTriSurfInput\n",
    "from charistools.meltModels import PlotTriSurfMelt\n",
    "from charistools.modelEnv import ModelEnv\n",
    "from charistools.timeSeries import TimeSeries\n",
    "import pandas as pd\n",
    "import re\n",
    "import os"
   ]
  },
  {
   "cell_type": "code",
   "execution_count": null,
   "metadata": {
    "collapsed": false,
    "scrolled": false
   },
   "outputs": [],
   "source": [
    "configFile = '/Users/brodzik/projects/CHARIS/charistools_test_data/UIB_GDBD_modelEnv_config.ini'\n",
    "myEnv = ModelEnv(tileConfigFile=configFile)"
   ]
  },
  {
   "cell_type": "code",
   "execution_count": null,
   "metadata": {
    "collapsed": false
   },
   "outputs": [],
   "source": [
    "names = ['Astore', 'DrasNala', 'Gilgit', 'Hunza', 'Kharmong', 'Shigar', 'Shyok', 'Tarbela', 'Zanskar']\n",
    "#names = ['DrasNala', 'Gilgit', 'Hunza', 'Kharmong', 'Shyok', 'Tarbela', 'Zanskar']\n",
    "#names = ['Astore']\n",
    "drainageIDs = [\"IN_%s_GDBD\" % name for name in names]\n",
    "years = np.arange(14) + 2001\n",
    "#years = np.arange(1) + 2001               \n",
    "ablation_method = 'grsize_scag'\n",
    "threshold = 205"
   ]
  },
  {
   "cell_type": "code",
   "execution_count": null,
   "metadata": {
    "collapsed": false
   },
   "outputs": [],
   "source": [
    "drainageIDs, years"
   ]
  },
  {
   "cell_type": "code",
   "execution_count": null,
   "metadata": {
    "collapsed": true
   },
   "outputs": [],
   "source": [
    "def run_model(drainageID, year=2001, ablation_method='grsize_scag', threshold=205, \n",
    "              model_str=\"8.67_8.67_10.0_17.0\", label='best_model'):\n",
    "    input = myEnv.model_inputs(drainageID=drainageID,\n",
    "                               year=year,\n",
    "                               ablation_method=ablation_method,\n",
    "                               threshold=threshold)\n",
    "\n",
    "    (min_snow_ddf, max_snow_ddf, min_ice_ddf, max_ice_ddf) = model_str.split(\"_\")\n",
    "    min_snow_ddf = float(min_snow_ddf)\n",
    "    max_snow_ddf = float(max_snow_ddf)\n",
    "    min_ice_ddf = float(min_ice_ddf)\n",
    "    max_ice_ddf = float(max_ice_ddf)\n",
    "    \n",
    "    (SOLmelt, SOImelt, EGImelt) = TriSurfTempIndexMelt(\n",
    "        input['snow_on_land_by_elevation_filename'],\n",
    "        input['snow_on_ice_by_elevation_filename'],\n",
    "        input['exposed_glacier_ice_by_elevation_filename'],\n",
    "        input['temperature_by_elevation_filename'],\n",
    "        min_snow_ddf=min_snow_ddf,\n",
    "        max_snow_ddf=max_snow_ddf,\n",
    "        min_ice_ddf=min_ice_ddf,\n",
    "        max_ice_ddf=max_ice_ddf)\n",
    "    \n",
    "    SOLmeltfile = input['snow_on_land_by_elevation_filename']\n",
    "    SOImeltfile = input['snow_on_ice_by_elevation_filename']\n",
    "    EGImeltfile = input['exposed_glacier_ice_by_elevation_filename']\n",
    "    SOLmeltfile = SOLmeltfile.replace('area_by_elev.', 'melt_by_elev.' + label + '.')\n",
    "    SOImeltfile = SOImeltfile.replace('area_by_elev.', 'melt_by_elev.' + label + '.')\n",
    "    EGImeltfile = EGImeltfile.replace('area_by_elev.', 'melt_by_elev.' + label + '.')\n",
    "\n",
    "    columns = [float(i) for i in SOLmelt.data.columns]\n",
    "    SOLmelt.data.columns = columns\n",
    "    SOLmelt.data = SOLmelt.data[sort(columns)]\n",
    "\n",
    "    # Temporary fix for SOLmelt.data NaNs\n",
    "    SOLmelt.data = SOLmelt.data.fillna(value=0.)\n",
    "\n",
    "    columns = [float(i) for i in SOImelt.data.columns]\n",
    "    SOImelt.data.columns = columns\n",
    "    SOImelt.data = SOImelt.data[sort(columns)]\n",
    "\n",
    "    columns = [float(i) for i in EGImelt.data.columns]\n",
    "    EGImelt.data.columns = columns\n",
    "    EGImelt.data = EGImelt.data[sort(columns)]\n",
    "\n",
    "    SOLmelt.write(filename=SOLmeltfile, decimal_places=2)\n",
    "    SOImelt.write(filename=SOImeltfile, decimal_places=2)\n",
    "    EGImelt.write(filename=EGImeltfile, decimal_places=2)\n",
    "    \n",
    "    print(\"%s : %d : model=%s\" % (drainageID, year, model_str))\n",
    "    \n",
    "    baseFilename = SOImeltfile\n",
    "    p = re.compile(r'snow_on_ice.+')\n",
    "    baseFilename = p.sub('', baseFilename)\n",
    "    \n",
    "    return(baseFilename, input, model_str, SOLmelt, SOImelt, EGImelt)"
   ]
  },
  {
   "cell_type": "code",
   "execution_count": null,
   "metadata": {
    "collapsed": true
   },
   "outputs": [],
   "source": [
    "def show_melt_hyps(drainageID, year, baseFilename, SOLmelt, SOImelt, EGImelt):\n",
    "    year_str = str(year)\n",
    "    fig, axes = plt.subplots(3,1)\n",
    "    ImshowTriSurfMelt(axes, SOLmelt, SOImelt, EGImelt)\n",
    "    for ax in axes:\n",
    "        ax.set_title(drainageID + \" (\" + year_str + \") \" + ax.get_title())\n",
    "    fig.tight_layout()\n",
    "    outfile = baseFilename + 'melt_hyps.png'\n",
    "    fig.savefig(outfile)\n",
    "    print(\"Wrote melt_hyps to %s\" % outfile)\n",
    "    plt.close('all')"
   ]
  },
  {
   "cell_type": "code",
   "execution_count": null,
   "metadata": {
    "collapsed": true
   },
   "outputs": [],
   "source": [
    "def show_melt_tseries(drainageID, year, baseFilename, input, model_str, SOLmelt, SOImelt, EGImelt):\n",
    "    year_str = str(year)\n",
    "    (min_snow_ddf, max_snow_ddf, min_ice_ddf, max_ice_ddf) = model_str.split(\"_\")\n",
    "    min_snow_ddf = float(min_snow_ddf)\n",
    "    max_snow_ddf = float(max_snow_ddf)\n",
    "    min_ice_ddf = float(min_ice_ddf)\n",
    "    max_ice_ddf = float(max_ice_ddf)\n",
    "    \n",
    "    melt_by_doy = (SOLmelt.data_by_doy() +\n",
    "                   SOImelt.data_by_doy() +\n",
    "                   EGImelt.data_by_doy())\n",
    "    total_melt = melt_by_doy.sum()\n",
    "    print(\"total melt = %.2f\" % total_melt)\n",
    "    melt_by_month = melt_by_doy.groupby([pd.TimeGrouper('M')]).sum().to_frame(name='melt')\n",
    "\n",
    "    yyyymm_index = pd.to_datetime(melt_by_month.index.map(lambda x: x.strftime('%Y-%m-15')))\n",
    "    df = pd.DataFrame(data=melt_by_month.values, index=yyyymm_index, columns=['melt'])\n",
    "    df['SOLmelt'] = SOLmelt.data_by_doy().groupby([pd.TimeGrouper('M')]).sum().values\n",
    "    df['SOImelt'] = SOImelt.data_by_doy().groupby([pd.TimeGrouper('M')]).sum().values\n",
    "    df['EGImelt'] = EGImelt.data_by_doy().groupby([pd.TimeGrouper('M')]).sum().values\n",
    "    #print(df)\n",
    "    \n",
    "    \n",
    "    fig, ax = plt.subplots(3,1,figsize=(9,9))\n",
    "    left_ax, right_ax = PlotTriSurfInput(ax[0], \n",
    "                             input['snow_on_land_by_elevation_hyps'],\n",
    "                             input['snow_on_ice_by_elevation_hyps'],\n",
    "                             input['exposed_glacier_ice_by_elevation_hyps'],\n",
    "                             input['temperature_by_elevation_hyps'],\n",
    "                             title=\"Inputs for %s (%d)\" % (drainageID, year))\n",
    "    \n",
    "    h, l = left_ax.get_legend_handles_labels()                                       \n",
    "    h1, l1 = right_ax.get_legend_handles_labels()                                    \n",
    "    left_ax.legend(h+h1, l+l1, framealpha=0.5) \n",
    "    #left_ax.legend(framealpha=0.5)\n",
    "    ax[1] = PlotTriSurfMelt(ax[1], SOLmelt, SOImelt, EGImelt, \n",
    "                            title=\"Modelled melt for %s (%d)\" % (drainageID, year))\n",
    "    ax[1].legend(framealpha=0.5)\n",
    "    ax[1].text(ax[1].get_xlim()[0] + (0.03 * (ax[1].get_xlim()[1] - ax[1].get_xlim()[0])), \n",
    "               ax[1].get_ylim()[1] * 0.7,\n",
    "               'snow DDF = %.2f - %.2f $mm/C/day$\\nice DDF = %.2f - %.2f $mm/C/day$' % \n",
    "               (min_snow_ddf, max_snow_ddf, min_ice_ddf, max_ice_ddf),\n",
    "               style='italic',\n",
    "               bbox={'facecolor':'gray', 'alpha':0.1, 'pad':10})\n",
    "    \n",
    "    # Get the line colors used by PlotTriSurfMelt\n",
    "    lines = ax[1].get_lines()\n",
    "    SOIcolor = lines[1].get_color()\n",
    "    EGIcolor = lines[2].get_color()\n",
    "    SOLcolor = lines[3].get_color()\n",
    "    \n",
    "    df[['EGImelt', 'SOImelt', 'SOLmelt']].plot(ax=ax[2], \n",
    "                                               stacked=True, kind=\"bar\", \n",
    "                                               position=0.25,\n",
    "                                               edgecolor=\"white\",\n",
    "                                               color=[EGIcolor, SOIcolor, SOLcolor])\n",
    "    ax[2].set_title(\"Monthly Melt\")\n",
    "    ax[2].set_ylabel('Volume (' + r'$km^3$' + ')') \n",
    "    ax[2].xaxis.set_major_formatter(plt.NullFormatter())\n",
    "    for container in ax[2].containers:\n",
    "        plt.setp(container, width=0.25)\n",
    "    ax[2].set_ylim([0,1.1 * np.amax(df[\"melt\"])])\n",
    "    ax[2].text(ax[2].get_xlim()[0] + (0.03 * (ax[2].get_xlim()[1] - ax[2].get_xlim()[0])), \n",
    "               ax[2].get_ylim()[1] * 0.7,\n",
    "               'melt = %.2f $km^3$' % \n",
    "               (df[\"melt\"].sum()),\n",
    "               style='italic',\n",
    "               bbox={'facecolor':'gray', 'alpha':0.1, 'pad':10})\n",
    "    handles, labels = ax[2].get_legend_handles_labels()\n",
    "    ax[2].legend(reversed(handles), reversed(labels))\n",
    "\n",
    "    fig.tight_layout()\n",
    "    outfile = baseFilename + 'melt_tseries.png'\n",
    "    fig.savefig(outfile)\n",
    "    print(\"Wrote melt_tseries to %s\" % outfile)\n",
    "    plt.close('all')"
   ]
  },
  {
   "cell_type": "code",
   "execution_count": null,
   "metadata": {
    "collapsed": false,
    "scrolled": true
   },
   "outputs": [],
   "source": [
    "for drainageID in drainageIDs:\n",
    "    for year in years:\n",
    "        (baseFilename, input, model_str, SOLmelt, SOImelt, EGImelt) = run_model(\n",
    "            drainageID=drainageID, year=year, ablation_method=ablation_method, threshold=threshold)\n",
    "        show_melt_hyps(drainageID, year, baseFilename, SOLmelt, SOImelt, EGImelt)\n",
    "        show_melt_tseries(drainageID, year, baseFilename, input, model_str, SOLmelt, SOImelt, EGImelt)"
   ]
  },
  {
   "cell_type": "code",
   "execution_count": null,
   "metadata": {
    "collapsed": false
   },
   "outputs": [],
   "source": [
    "12./61."
   ]
  },
  {
   "cell_type": "code",
   "execution_count": null,
   "metadata": {
    "collapsed": true
   },
   "outputs": [],
   "source": []
  }
 ],
 "metadata": {
  "kernelspec": {
   "display_name": "Python 2",
   "language": "python",
   "name": "python2"
  },
  "language_info": {
   "codemirror_mode": {
    "name": "ipython",
    "version": 2
   },
   "file_extension": ".py",
   "mimetype": "text/x-python",
   "name": "python",
   "nbconvert_exporter": "python",
   "pygments_lexer": "ipython2",
   "version": "2.7.12"
  }
 },
 "nbformat": 4,
 "nbformat_minor": 0
}
