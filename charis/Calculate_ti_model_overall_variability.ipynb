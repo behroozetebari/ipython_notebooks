{
 "cells": [
  {
   "cell_type": "markdown",
   "metadata": {},
   "source": [
    "# Using the 20 best SA models, plot overall variability in melt data that we generated\n"
   ]
  },
  {
   "cell_type": "code",
   "execution_count": null,
   "metadata": {},
   "outputs": [],
   "source": [
    "from __future__ import print_function\n",
    "%pylab notebook\n",
    "# import datetime as dt\n",
    "import glob\n",
    "import matplotlib.pyplot as plt\n",
    "#import matplotlib.dates as md\n",
    "#from nose.tools import set_trace\n",
    "import pandas as pd\n",
    "import re\n",
    "import seaborn as sns\n",
    "import os\n",
    "import sys\n",
    "sns.set()\n",
    "sns.axes_style(\"darkgrid\")"
   ]
  },
  {
   "cell_type": "markdown",
   "metadata": {},
   "source": [
    "# Make a plot of overall variability by basin and surface type"
   ]
  },
  {
   "cell_type": "code",
   "execution_count": null,
   "metadata": {},
   "outputs": [],
   "source": [
    "dir = \"/Users/brodzik/projects/CHARIS/derived_hypsometries\"\n",
    "drainageIDs = [\"IN_Hunza_at_DainyorBridge\", \n",
    "               \"AM_Vakhsh_at_Komsomolabad\", \n",
    "               \"SY_Naryn_at_NarynTown\", \n",
    "               \"GA_SaptaKosi_at_Chatara\",\n",
    "               \"GA_Karnali_at_Benighat\"]\n",
    "\n",
    "alldf = pd.DataFrame([])\n",
    "\n",
    "for drainageID in drainageIDs:\n",
    "    #file = \"%s/REECv0_CycleSummary/%s.annual_melt.last20.dat\" % (dir, drainageID)\n",
    "    #print(\"last20 file %s\" % file, file=sys.stderr)\n",
    "    file = \"%s/REECv0_ModelRankSummary/%s.annual_melt.best20.dat\" % (dir, drainageID)\n",
    "    print(\"best20 file %s\" % file, file=sys.stderr)\n",
    "    df = pd.read_pickle(file)\n",
    "\n",
    "    melt = df.copy()\n",
    "    melt.drop(['Snow_on_land_min_ddf','Snow_on_land_max_ddf',\n",
    "               'Snow_on_ice_min_ddf','Snow_on_ice_max_ddf',\n",
    "               'Exposed_glacier_ice_min_ddf','Exposed_glacier_ice_max_ddf'], axis=1, inplace=True)\n",
    "    # This idiotic step is necessary for seaborn to work in the plots\n",
    "    melt[\"Snow_on_land_melt_km3\"] = melt[\"Snow_on_land_melt_km3\"].astype(float)\n",
    "    melt[\"Snow_on_ice_melt_km3\"] = melt[\"Snow_on_ice_melt_km3\"].astype(float)\n",
    "    melt[\"Exposed_glacier_ice_melt_km3\"] = melt[\"Exposed_glacier_ice_melt_km3\"].astype(float)\n",
    "\n",
    "    alldf = alldf.append(melt)"
   ]
  },
  {
   "cell_type": "code",
   "execution_count": null,
   "metadata": {},
   "outputs": [],
   "source": [
    "alldf[\"ID\"] = alldf.drainageID.str.extract(r\"_(.+)_at\")"
   ]
  },
  {
   "cell_type": "code",
   "execution_count": null,
   "metadata": {
    "scrolled": true
   },
   "outputs": [],
   "source": [
    "alldf"
   ]
  },
  {
   "cell_type": "code",
   "execution_count": null,
   "metadata": {
    "scrolled": false
   },
   "outputs": [],
   "source": [
    "fig, axes = plt.subplots(3, 1, figsize=(7,10))\n",
    "\n",
    "alldf.boxplot(ax=axes[0],\n",
    "              column='Snow_on_ice_melt_km3',\n",
    "              by='ID',\n",
    "              rot=0)\n",
    "axes[0].set_title(\"Melt from Snow on Ice\")\n",
    "\n",
    "alldf.boxplot(ax=axes[1],\n",
    "              column='Exposed_glacier_ice_melt_km3',\n",
    "              by='ID',\n",
    "              rot=0)\n",
    "axes[1].set_title(\"Melt from Exposed Glacier Ice\")\n",
    "\n",
    "alldf.boxplot(ax=axes[2],\n",
    "              column='Snow_on_land_melt_km3',\n",
    "              by='ID',\n",
    "              rot=0)\n",
    "axes[2].set_title(\"Melt from Snow on Land\")\n",
    "\n",
    "for ax in axes:                  \n",
    "    ax.set_ylabel('Melt ($km^3$)')\n",
    "\n",
    "fig.suptitle(\"Variability in Melt from 20 Best Models (2001-2014)\")\n",
    "\n",
    "fig.tight_layout()\n",
    "fig.subplots_adjust(top=0.95)\n"
   ]
  },
  {
   "cell_type": "code",
   "execution_count": null,
   "metadata": {
    "scrolled": false
   },
   "outputs": [],
   "source": [
    "fig, axes = plt.subplots(3, 1, figsize=(7,10))\n",
    "\n",
    "soi_color = '#%02x%02x%02x' % (141, 160, 203)\n",
    "egi_color = '#%02x%02x%02x' % (252, 141, 98)\n",
    "sol_color = '#%02x%02x%02x' % (102, 194, 165)\n",
    "\n",
    "order=['Naryn','Vakhsh','Hunza','Karnali','SaptaKosi']\n",
    "axes[0] = sns.boxplot(ax=axes[0],\n",
    "                      x='ID',\n",
    "                      y='Snow_on_ice_melt_km3',\n",
    "                      order=order,\n",
    "                      color=soi_color,\n",
    "                      data=alldf)\n",
    "axes[0].set_title(\"Melt from Snow on Ice\")\n",
    "axes[0].set_xlabel(\"\")\n",
    "#axes[0].set_xticklabels([])\n",
    "\n",
    "axes[1] = sns.boxplot(ax=axes[1],\n",
    "                      x='ID',\n",
    "                      y='Exposed_glacier_ice_melt_km3',\n",
    "                      order=order,\n",
    "                      color=egi_color,\n",
    "                      data=alldf)\n",
    "axes[1].set_title(\"Melt from Exposed Glacier Ice\")\n",
    "axes[1].set_xlabel(\"\")\n",
    "#axes[1].set_xticklabels([])\n",
    "\n",
    "axes[2] = sns.boxplot(ax=axes[2],\n",
    "                      x='ID',\n",
    "                      y='Snow_on_land_melt_km3',\n",
    "                      order=order,\n",
    "                      color=sol_color,\n",
    "                      data=alldf)\n",
    "axes[2].set_title(\"Melt from Snow on Land\")\n",
    "#axes[2].set_xticklabels(['Naryn (SY)','Vakhsh (AM)','Hunza (IN)','Karnali (GA)','SaptaKosi (BR)'])\n",
    "axes[2].set_xlabel('Calibration Basin (Used for Major Basin)')\n",
    "\n",
    "#ymax = 1.1 * alldf[['Snow_on_land_melt_km3', 'Snow_on_ice_melt_km3', 'Exposed_glacier_ice_melt_km3']].max().max()\n",
    "for ax in axes:                  \n",
    "    ax.set_ylabel('Melt ($km^3$)')\n",
    "#    ax.set_ylim([0., ymax])\n",
    "    \n",
    "\n",
    "fig.suptitle(\"Variability in Melt from 20 Best Models (2001-2014)\")\n",
    "\n",
    "fig.tight_layout()\n",
    "fig.subplots_adjust(top=0.93)"
   ]
  },
  {
   "cell_type": "markdown",
   "metadata": {
    "scrolled": false
   },
   "source": [
    "# How to combine all 3 columns of data into a Single melt column with another column as label"
   ]
  },
  {
   "cell_type": "code",
   "execution_count": null,
   "metadata": {
    "scrolled": true
   },
   "outputs": [],
   "source": [
    "test = alldf.copy()\n",
    "#test.drop(['year','cycle','drainageID'],inplace=True,axis=1)\n",
    "test.drop(['year','rank','drainageID'],inplace=True,axis=1)\n",
    "test.set_index('ID', inplace=True)\n",
    "\n",
    "multicol = pd.MultiIndex.from_tuples([('Melt', 'Snow on land melt'),\n",
    "                                      ('Melt', 'Snow on ice melt'),\n",
    "                                      ('Melt', 'Exposed glacier ice melt')])\n",
    "test.columns = multicol\n",
    "test = test.stack()\n",
    "test = test.reset_index()\n",
    "test.columns = ['ID', 'Surface', 'Melt']\n",
    "test"
   ]
  },
  {
   "cell_type": "code",
   "execution_count": null,
   "metadata": {
    "scrolled": false
   },
   "outputs": [],
   "source": [
    "plt.rcParams"
   ]
  },
  {
   "cell_type": "code",
   "execution_count": null,
   "metadata": {
    "scrolled": false
   },
   "outputs": [],
   "source": [
    "params = {'legend.fontsize': 14,\n",
    "          'legend.handlelength': 2}\n",
    "plt.rcParams.update(params)\n",
    "fig, ax = plt.subplots(figsize=(9,6))\n",
    "my_palette = {\"Snow on land melt\": sol_color,\n",
    "              \"Exposed glacier ice melt\": egi_color,\n",
    "              \"Snow on ice melt\": soi_color}\n",
    "order=['Naryn','Vakhsh','Hunza','Karnali','SaptaKosi']\n",
    "sns.boxplot(ax=ax,\n",
    "            x=\"ID\",\n",
    "            hue=\"Surface\",\n",
    "            y=\"Melt\",\n",
    "            order=order,\n",
    "            data=test,\n",
    "            palette=my_palette,\n",
    "            width=0.6)\n",
    "ax.set_ylabel('Melt ($km^3$)')\n",
    "ax.set_title(\"Variability in Melt from 20 Best Models (2001-2014)\")\n",
    "ax.set_xticklabels(['Naryn (SY)','Vakhsh (AM)','Hunza (IN)','Karnali (GA)','SaptaKosi (BR)'])\n",
    "ax.set_xlabel('Calibration Basin (Used for Major Basin)')\n",
    "for item in ([ax.xaxis.label, ax.yaxis.label] +\n",
    "             ax.get_xticklabels() + ax.get_yticklabels()):\n",
    "    item.set_fontsize(14)\n",
    "ax.title.set_fontsize(20)\n",
    "lg = ax.legend(title=\"Surface\", fontsize=14)\n",
    "title = lg.get_title()\n",
    "title.set_fontsize(14)\n",
    "\n",
    "file = \"%s/REECv0_ModelRankSummary/Calibration_basins.model_variability.v2.pdf\" % (dir)\n",
    "fig.savefig(file)"
   ]
  },
  {
   "cell_type": "code",
   "execution_count": null,
   "metadata": {},
   "outputs": [],
   "source": []
  }
 ],
 "metadata": {
  "kernelspec": {
   "display_name": "Python 2",
   "language": "python",
   "name": "python2"
  },
  "language_info": {
   "codemirror_mode": {
    "name": "ipython",
    "version": 2
   },
   "file_extension": ".py",
   "mimetype": "text/x-python",
   "name": "python",
   "nbconvert_exporter": "python",
   "pygments_lexer": "ipython2",
   "version": "2.7.15"
  }
 },
 "nbformat": 4,
 "nbformat_minor": 2
}
