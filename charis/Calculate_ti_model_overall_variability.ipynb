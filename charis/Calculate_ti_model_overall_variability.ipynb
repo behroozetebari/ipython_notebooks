{
 "cells": [
  {
   "cell_type": "markdown",
   "metadata": {},
   "source": [
    "# Using the 20 \"best\" SA models, plot overall variability in melt data that we generated\n"
   ]
  },
  {
   "cell_type": "code",
   "execution_count": null,
   "metadata": {},
   "outputs": [],
   "source": [
    "from __future__ import print_function\n",
    "%pylab notebook\n",
    "# import datetime as dt\n",
    "import glob\n",
    "import matplotlib.pyplot as plt\n",
    "#import matplotlib.dates as md\n",
    "#from nose.tools import set_trace\n",
    "import pandas as pd\n",
    "import re\n",
    "import os\n",
    "import sys"
   ]
  },
  {
   "cell_type": "markdown",
   "metadata": {},
   "source": [
    "# Make a plot of overall variability by basin and surface type"
   ]
  },
  {
   "cell_type": "code",
   "execution_count": null,
   "metadata": {},
   "outputs": [],
   "source": [
    "dir = \"/Users/brodzik/projects/CHARIS/derived_hypsometries\"\n",
    "drainageIDs = [\"IN_Hunza_at_DainyorBridge\", \n",
    "               \"AM_Vakhsh_at_Komsomolabad\", \n",
    "               \"SY_Naryn_at_NarynTown\", \n",
    "               \"GA_SaptaKosi_at_Chatara\",\n",
    "               \"GA_Karnali_at_Benighat\"]\n",
    "\n",
    "alldf = pd.DataFrame([])\n",
    "\n",
    "for drainageID in drainageIDs:\n",
    "    file = \"%s/REECv0_CycleSummary/%s.annual_melt.last20.dat\" % (dir, drainageID)\n",
    "    print(\"last20 file %s\" % file, file=sys.stderr)\n",
    "    df = pd.read_pickle(file)\n",
    "\n",
    "    melt = df.copy()\n",
    "    melt.drop(['Snow_on_land_min_ddf','Snow_on_land_max_ddf',\n",
    "               'Snow_on_ice_min_ddf','Snow_on_ice_max_ddf',\n",
    "               'Exposed_glacier_ice_min_ddf','Exposed_glacier_ice_max_ddf'], axis=1, inplace=True)\n",
    "    # This idiotic step is necessary for seaborn to work in the plots\n",
    "    melt[\"Snow_on_land_melt_km3\"] = melt[\"Snow_on_land_melt_km3\"].astype(float)\n",
    "    melt[\"Snow_on_ice_melt_km3\"] = melt[\"Snow_on_ice_melt_km3\"].astype(float)\n",
    "    melt[\"Exposed_glacier_ice_melt_km3\"] = melt[\"Exposed_glacier_ice_melt_km3\"].astype(float)\n",
    "\n",
    "    alldf = alldf.append(melt)"
   ]
  },
  {
   "cell_type": "code",
   "execution_count": null,
   "metadata": {},
   "outputs": [],
   "source": [
    "alldf[\"ID\"] = alldf.drainageID.str.extract(r\"_(.+)_at\")"
   ]
  },
  {
   "cell_type": "code",
   "execution_count": null,
   "metadata": {},
   "outputs": [],
   "source": [
    "alldf"
   ]
  },
  {
   "cell_type": "code",
   "execution_count": null,
   "metadata": {},
   "outputs": [],
   "source": [
    "alldf[['ID', 'year', 'Snow_on_ice_melt_km3', 'Exposed_glacier_ice_melt_km3', 'Snow_on_land_melt_km3']]"
   ]
  },
  {
   "cell_type": "code",
   "execution_count": null,
   "metadata": {},
   "outputs": [],
   "source": [
    "fig, axes = plt.subplots(3, 1, figsize=(7,10))\n",
    "\n",
    "alldf.boxplot(ax=axes[0],\n",
    "              column='Snow_on_ice_melt_km3',\n",
    "              by='ID',\n",
    "              rot=0)\n",
    "axes[0].set_title(\"Melt from Snow on Ice\")\n",
    "\n",
    "alldf.boxplot(ax=axes[1],\n",
    "              column='Exposed_glacier_ice_melt_km3',\n",
    "              by='ID',\n",
    "              rot=0)\n",
    "axes[1].set_title(\"Melt from Exposed Glacier Ice\")\n",
    "\n",
    "alldf.boxplot(ax=axes[2],\n",
    "              column='Snow_on_land_melt_km3',\n",
    "              by='ID',\n",
    "              rot=0)\n",
    "axes[2].set_title(\"Melt from Snow on Land\")\n",
    "\n",
    "for ax in axes:                  \n",
    "    ax.set_ylabel('Melt ($km^3$)')\n",
    "\n",
    "fig.suptitle(\"Variability in Melt from Best Models for last 20 cycles (2001-2014)\")\n",
    "\n",
    "fig.tight_layout()\n",
    "fig.subplots_adjust(top=0.95)\n"
   ]
  },
  {
   "cell_type": "code",
   "execution_count": null,
   "metadata": {
    "scrolled": false
   },
   "outputs": [],
   "source": [
    "fig, axes = plt.subplots(3, 1, figsize=(7,10))\n",
    "\n",
    "order=['Naryn','Vakhsh','Hunza','Karnali','SaptaKosi']\n",
    "axes[0] = sns.boxplot(ax=axes[0],\n",
    "                      x='ID',\n",
    "                      y='Snow_on_ice_melt_km3',\n",
    "                      order=order,\n",
    "                      color='Blue',\n",
    "                      data=alldf)\n",
    "axes[0].set_title(\"Melt from Snow on Ice\")\n",
    "axes[0].set_xlabel(\"\")\n",
    "axes[0].set_xticklabels([])\n",
    "\n",
    "axes[1] = sns.boxplot(ax=axes[1],\n",
    "                      x='ID',\n",
    "                      y='Exposed_glacier_ice_melt_km3',\n",
    "                      order=order,\n",
    "                      color='purple',\n",
    "                      data=alldf)\n",
    "axes[1].set_title(\"Melt from Exposed Glacier Ice\")\n",
    "axes[1].set_xlabel(\"\")\n",
    "axes[1].set_xticklabels([])\n",
    "\n",
    "axes[2] = sns.boxplot(ax=axes[2],\n",
    "                      x='ID',\n",
    "                      y='Snow_on_land_melt_km3',\n",
    "                      order=order,\n",
    "                      color='green',\n",
    "                      data=alldf)\n",
    "axes[2].set_title(\"Melt from Snow on Land\")\n",
    "axes[2].set_xticklabels(['Naryn (SY)','Vakhsh (AM)','Hunza (IN)','Karnali (GA)','SaptaKosi (BR)'])\n",
    "axes[2].set_xlabel('Calibration Basin(Used for Major Basin)')\n",
    "\n",
    "#ymax = 1.1 * alldf[['Snow_on_land_melt_km3', 'Snow_on_ice_melt_km3', 'Exposed_glacier_ice_melt_km3']].max().max()\n",
    "for ax in axes:                  \n",
    "    ax.set_ylabel('Melt ($km^3$)')\n",
    "#    ax.set_ylim([0., ymax])\n",
    "    \n",
    "\n",
    "fig.suptitle(\"Variability in Melt from Best Models for last 20 cycles (2001-2014)\")\n",
    "\n",
    "fig.tight_layout()\n",
    "fig.subplots_adjust(top=0.93)"
   ]
  },
  {
   "cell_type": "markdown",
   "metadata": {
    "scrolled": false
   },
   "source": [
    "# How to combine all 3 columns of data into a Single melt column with another column as label"
   ]
  },
  {
   "cell_type": "code",
   "execution_count": null,
   "metadata": {
    "scrolled": false
   },
   "outputs": [],
   "source": [
    "alldf.iloc[0:3]"
   ]
  },
  {
   "cell_type": "code",
   "execution_count": null,
   "metadata": {
    "scrolled": true
   },
   "outputs": [],
   "source": [
    "test = alldf.copy()\n",
    "test"
   ]
  },
  {
   "cell_type": "code",
   "execution_count": null,
   "metadata": {
    "scrolled": true
   },
   "outputs": [],
   "source": [
    "test.drop(['year','cycle','drainageID'],inplace=True,axis=1)\n",
    "test"
   ]
  },
  {
   "cell_type": "code",
   "execution_count": null,
   "metadata": {},
   "outputs": [],
   "source": [
    "test.set_index('ID', inplace=True)"
   ]
  },
  {
   "cell_type": "code",
   "execution_count": null,
   "metadata": {},
   "outputs": [],
   "source": [
    "test"
   ]
  },
  {
   "cell_type": "code",
   "execution_count": null,
   "metadata": {
    "scrolled": true
   },
   "outputs": [],
   "source": [
    "test = test.stack()"
   ]
  },
  {
   "cell_type": "code",
   "execution_count": null,
   "metadata": {},
   "outputs": [],
   "source": [
    "test.as_DataFrame()"
   ]
  },
  {
   "cell_type": "code",
   "execution_count": null,
   "metadata": {},
   "outputs": [],
   "source": [
    "fig, ax = plt.subplots(1)\n",
    "b = sns.boxplot(x='ID'\n",
    "                y='Snow_on_land_melt_km3',\n",
    "                data=test)\n"
   ]
  },
  {
   "cell_type": "code",
   "execution_count": null,
   "metadata": {},
   "outputs": [],
   "source": [
    "alldf"
   ]
  },
  {
   "cell_type": "code",
   "execution_count": null,
   "metadata": {},
   "outputs": [],
   "source": [
    "fig, ax = plt.subplots(1)\n",
    "b = sns.boxplot(x='ID',\n",
    "                y='year',\n",
    "                data=alldf)"
   ]
  },
  {
   "cell_type": "code",
   "execution_count": null,
   "metadata": {
    "scrolled": true
   },
   "outputs": [],
   "source": [
    "tips"
   ]
  },
  {
   "cell_type": "code",
   "execution_count": null,
   "metadata": {},
   "outputs": [],
   "source": [
    "alldf.reindex(np.arange(1400))"
   ]
  },
  {
   "cell_type": "code",
   "execution_count": null,
   "metadata": {},
   "outputs": [],
   "source": [
    "1400 / 5\n"
   ]
  },
  {
   "cell_type": "code",
   "execution_count": null,
   "metadata": {},
   "outputs": [],
   "source": [
    "#alldf.drop(['Snow_on_land_melt_km3','Snow_on_ice_melt_km3'], inplace=True, axis=1)\n",
    "test = pd.DataFrame([])\n",
    "for i in np.arange(5):\n",
    "    test = test.append(alldf.iloc[i * 280:(i*280)+3])\n",
    "test\n"
   ]
  },
  {
   "cell_type": "code",
   "execution_count": null,
   "metadata": {},
   "outputs": [],
   "source": [
    "test.columns = ['year','value', 'ID']\n",
    "test"
   ]
  },
  {
   "cell_type": "code",
   "execution_count": null,
   "metadata": {},
   "outputs": [],
   "source": [
    "d = {'year':[2001,2002,2003,2001,2002,2003],\n",
    "     'value':[1., 1.5, 1.8, 2.3, 2.8, 2.8],\n",
    "     'ID':['Hunza','Hunza','Hunza','Naryn','Naryn','Naryn']}\n",
    "df = pd.DataFrame(data=d)\n",
    "df"
   ]
  },
  {
   "cell_type": "code",
   "execution_count": null,
   "metadata": {},
   "outputs": [],
   "source": [
    "type(df['value'][0])"
   ]
  },
  {
   "cell_type": "code",
   "execution_count": null,
   "metadata": {},
   "outputs": [],
   "source": [
    "test['value'] = test['value'].astype(float)"
   ]
  },
  {
   "cell_type": "code",
   "execution_count": null,
   "metadata": {},
   "outputs": [],
   "source": [
    "test"
   ]
  },
  {
   "cell_type": "code",
   "execution_count": null,
   "metadata": {},
   "outputs": [],
   "source": [
    "\n",
    "fig, ax = plt.subplots(1)\n",
    "b = sns.boxplot(x='ID',\n",
    "                y='value',\n",
    "                data=test)"
   ]
  },
  {
   "cell_type": "code",
   "execution_count": null,
   "metadata": {},
   "outputs": [],
   "source": []
  }
 ],
 "metadata": {
  "kernelspec": {
   "display_name": "Python 3",
   "language": "python",
   "name": "python3"
  },
  "language_info": {
   "codemirror_mode": {
    "name": "ipython",
    "version": 3
   },
   "file_extension": ".py",
   "mimetype": "text/x-python",
   "name": "python",
   "nbconvert_exporter": "python",
   "pygments_lexer": "ipython3",
   "version": "3.6.5"
  }
 },
 "nbformat": 4,
 "nbformat_minor": 2
}
