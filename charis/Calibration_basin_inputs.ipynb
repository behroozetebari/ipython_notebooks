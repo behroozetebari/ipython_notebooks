{
 "cells": [
  {
   "cell_type": "code",
   "execution_count": null,
   "metadata": {
    "collapsed": false
   },
   "outputs": [],
   "source": [
    "%pylab notebook\n",
    "import matplotlib.pyplot as plt\n",
    "from charistools.hypsometry import Hypsometry\n",
    "from charistools.modelEnv import ModelEnv"
   ]
  },
  {
   "cell_type": "code",
   "execution_count": null,
   "metadata": {
    "collapsed": true
   },
   "outputs": [],
   "source": [
    "from charistools.meltModels import PlotTriSurfInput"
   ]
  },
  {
   "cell_type": "code",
   "execution_count": null,
   "metadata": {
    "collapsed": true
   },
   "outputs": [],
   "source": [
    "configFile = '/Users/brodzik/ipython_notebooks/charis/calibration_ModelEnv_config.ini'\n",
    "myEnv = ModelEnv(tileConfigFile=configFile)"
   ]
  },
  {
   "cell_type": "code",
   "execution_count": null,
   "metadata": {
    "collapsed": false
   },
   "outputs": [],
   "source": [
    "ablation_method = \"albedo_MOD10A1\""
   ]
  },
  {
   "cell_type": "code",
   "execution_count": null,
   "metadata": {
    "collapsed": false
   },
   "outputs": [],
   "source": [
    "years = arange(14) + 2001\n",
    "thresholds = [0.40, 0.45, 0.50]"
   ]
  },
  {
   "cell_type": "code",
   "execution_count": null,
   "metadata": {
    "collapsed": false
   },
   "outputs": [],
   "source": [
    "import glob\n",
    "import os\n",
    "list = glob.glob(\"/Users/brodzik/projects/CHARIS/charistools_test_data/derived_hypsometries/*\")\n",
    "ids = [os.path.basename(a) for a in list]\n",
    "ids = sort(ids)\n",
    "ids\n"
   ]
  },
  {
   "cell_type": "code",
   "execution_count": null,
   "metadata": {
    "collapsed": false
   },
   "outputs": [],
   "source": [
    "for id_idx, id in enumerate(ids):\n",
    "    print(id_idx, id)\n",
    "print(len(ids))"
   ]
  },
  {
   "cell_type": "code",
   "execution_count": null,
   "metadata": {
    "collapsed": false
   },
   "outputs": [],
   "source": [
    "iceFile = myEnv.hypsometry_filename(type='modice_min05yr_by_elevation', drainageID=ids[0], verbose=True)\n",
    "iceFile"
   ]
  },
  {
   "cell_type": "code",
   "execution_count": null,
   "metadata": {
    "collapsed": false,
    "scrolled": true
   },
   "outputs": [],
   "source": [
    "threshold = 0.40\n",
    "fig, ax = plt.subplots(len(years), len(ids), figsize=(45, 45))\n",
    "for id_idx, id in enumerate(ids):\n",
    "    for year_idx, year in enumerate(years):\n",
    "        result = myEnv.model_inputs(drainageID=id, \n",
    "                                    year=year,\n",
    "                                    ablation_method=ablation_method,\n",
    "                                    threshold=threshold)\n",
    "        iceFile = myEnv.hypsometry_filename(type='modice_min05yr_by_elevation',\n",
    "                                            drainageID=id)\n",
    "        iceHyps = Hypsometry(filename=iceFile)\n",
    "        title = \"%s (%d) MOD10A_alb t=%.2f\" % (id, year, threshold)\n",
    "        PlotTriSurfInput(ax=ax[year_idx, id_idx], \n",
    "                         SOL_hyps=result['snow_on_land_by_elevation_hyps'], \n",
    "                         SOI_hyps=result['snow_on_ice_by_elevation_hyps'], \n",
    "                         EGI_hyps=result['exposed_glacier_ice_by_elevation_hyps'], \n",
    "                         temperature_hyps=result['temperature_by_elevation_hyps'],\n",
    "                         ice_hyps=iceHyps,\n",
    "                         ice_color='Red',\n",
    "                         temperature_color=[0.3, 0.3, 0.3],\n",
    "                         title=title)\n",
    "plt.tight_layout()\n",
    "outfile = \"201607_calibration_model_inputs_unclass_fix.png\"\n",
    "plt.savefig(outfile)"
   ]
  },
  {
   "cell_type": "code",
   "execution_count": null,
   "metadata": {
    "collapsed": false
   },
   "outputs": [],
   "source": [
    "%pwd"
   ]
  },
  {
   "cell_type": "code",
   "execution_count": null,
   "metadata": {
    "collapsed": false,
    "scrolled": true
   },
   "outputs": [],
   "source": [
    "%ls"
   ]
  },
  {
   "cell_type": "code",
   "execution_count": 3,
   "metadata": {
    "collapsed": false
   },
   "outputs": [
    {
     "data": {
      "text/plain": [
       "2408"
      ]
     },
     "execution_count": 3,
     "metadata": {},
     "output_type": "execute_result"
    }
   ],
   "source": [
    "43*4*14"
   ]
  },
  {
   "cell_type": "code",
   "execution_count": null,
   "metadata": {
    "collapsed": true
   },
   "outputs": [],
   "source": []
  }
 ],
 "metadata": {
  "kernelspec": {
   "display_name": "Python 2",
   "language": "python",
   "name": "python2"
  },
  "language_info": {
   "codemirror_mode": {
    "name": "ipython",
    "version": 2
   },
   "file_extension": ".py",
   "mimetype": "text/x-python",
   "name": "python",
   "nbconvert_exporter": "python",
   "pygments_lexer": "ipython2",
   "version": "2.7.12"
  }
 },
 "nbformat": 4,
 "nbformat_minor": 0
}
