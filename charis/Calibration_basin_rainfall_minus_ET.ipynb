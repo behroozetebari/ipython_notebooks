{
 "cells": [
  {
   "cell_type": "code",
   "execution_count": null,
   "metadata": {
    "collapsed": false
   },
   "outputs": [],
   "source": [
    "%pylab notebook\n",
    "import matplotlib.pyplot as plt\n",
    "from charistools.timeSeries import TimeSeries\n",
    "import datetime as dt\n",
    "import pandas as pd"
   ]
  },
  {
   "cell_type": "code",
   "execution_count": null,
   "metadata": {
    "collapsed": true
   },
   "outputs": [],
   "source": [
    "drainageids = ['AM_Vakhsh_at_Komsomolabad',\n",
    "               'IN_Hunza_at_DainyorBridge',\n",
    "               'GA_Karnali_at_Benighat',\n",
    "               'GA_Narayani_at_Devghat',\n",
    "               'GA_SaptaKosi_at_Chatara']"
   ]
  },
  {
   "cell_type": "code",
   "execution_count": null,
   "metadata": {
    "collapsed": false,
    "scrolled": false
   },
   "outputs": [],
   "source": [
    "fig, ax = plt.subplots(5,1, figsize=(8,10))"
   ]
  },
  {
   "cell_type": "code",
   "execution_count": null,
   "metadata": {
    "collapsed": false
   },
   "outputs": [],
   "source": [
    "for i, id in enumerate(drainageids):\n",
    "    rainfallFile = '/Users/brodzik/projects/CHARIS/rainfall/Aphrodite_V1101R2/monthly_by_drainage/' + id + \\\n",
    "        '.APHRODITE_rainfall_km3.monthly.csv'\n",
    "    ETFile = '/Users/brodzik/projects/CHARIS/evaporation/merra/' + id + '.merra.ET_clim.txt'\n",
    "    rainfall = TimeSeries(rainfallFile)\n",
    "    et_df = pd.read_csv(ETFile)\n",
    "    et_df = et_df.set_index('month')\n",
    "    for j in rainfall.data.index:\n",
    "        month = j.month\n",
    "        rainfall.data.loc[j,'et_km3'] = et_df.loc[month]['ET_km3']\n",
    "    new = rainfall.data['rainfall'] - rainfall.data['et_km3']\n",
    "    new[new < 0.] = 0.\n",
    "    rainfall.data['rainfall-et_km3'] = new\n",
    "    ax[i].plot(rainfall.data['rainfall'], color='b', label='rainfall')\n",
    "    ax[i].plot(rainfall.data['et_km3'], '--', color='g', label='et')\n",
    "    ax[i].plot(rainfall.data['rainfall-et_km3'], color='r', label='rainfall-ET')\n",
    "    ax[i].set_title(id)\n",
    "    ax[i].legend()\n",
    "    newFile = '/Users/brodzik/projects/CHARIS/rainfall/Aphrodite_V1101R2/' \\\n",
    "        + 'monthly_by_drainage_less_et/' \\\n",
    "        + id + '.APHRODITE_rainfall_adj_merra_ETclim_km3.monthly.csv'\n",
    "    rainfall.comments = rainfall.comments + [\n",
    "        str(dt.datetime.now()) + ' MJB subtracted MERRA climatology ET']\n",
    "    rainfall.write(newFile)\n",
    "plt.tight_layout()        "
   ]
  },
  {
   "cell_type": "code",
   "execution_count": null,
   "metadata": {
    "collapsed": true
   },
   "outputs": [],
   "source": [
    "plt.savefig('calibration_basins.rainfall-ET.png')"
   ]
  },
  {
   "cell_type": "code",
   "execution_count": null,
   "metadata": {
    "collapsed": true
   },
   "outputs": [],
   "source": [
    "rainfallFile = '/Users/brodzik/projects/CHARIS/rainfall/' \\\n",
    "    + 'Aphrodite_V1101R2/monthly_by_drainage_less_et/' + id + \\\n",
    "    '.APHRODITE_rainfall_adj_merra_ETclim_km3.monthly.csv'"
   ]
  },
  {
   "cell_type": "code",
   "execution_count": null,
   "metadata": {
    "collapsed": true
   },
   "outputs": [],
   "source": [
    "rainfall = TimeSeries(rainfallFile)\n"
   ]
  },
  {
   "cell_type": "code",
   "execution_count": null,
   "metadata": {
    "collapsed": false
   },
   "outputs": [],
   "source": [
    "rainfall.comments\n"
   ]
  },
  {
   "cell_type": "code",
   "execution_count": null,
   "metadata": {
    "collapsed": false
   },
   "outputs": [],
   "source": [
    "rainfall.data\n"
   ]
  },
  {
   "cell_type": "code",
   "execution_count": null,
   "metadata": {
    "collapsed": true
   },
   "outputs": [],
   "source": []
  }
 ],
 "metadata": {
  "kernelspec": {
   "display_name": "Python 2",
   "language": "python",
   "name": "python2"
  },
  "language_info": {
   "codemirror_mode": {
    "name": "ipython",
    "version": 2
   },
   "file_extension": ".py",
   "mimetype": "text/x-python",
   "name": "python",
   "nbconvert_exporter": "python",
   "pygments_lexer": "ipython2",
   "version": "2.7.12"
  }
 },
 "nbformat": 4,
 "nbformat_minor": 0
}
