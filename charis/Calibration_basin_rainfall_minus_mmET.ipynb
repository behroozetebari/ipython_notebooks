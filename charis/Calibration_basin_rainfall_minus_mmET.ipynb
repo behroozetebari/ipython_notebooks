{
 "cells": [
  {
   "cell_type": "markdown",
   "metadata": {},
   "source": [
    "<h2>For calibration basins, combines separate rainfall and ET files into one file to be used by model calibration routines.</h2>"
   ]
  },
  {
   "cell_type": "code",
   "execution_count": null,
   "metadata": {
    "collapsed": false
   },
   "outputs": [],
   "source": [
    "%pylab notebook\n",
    "import matplotlib.pyplot as plt\n",
    "from charistools.timeSeries import TimeSeries\n",
    "import pandas as pd"
   ]
  },
  {
   "cell_type": "code",
   "execution_count": null,
   "metadata": {
    "collapsed": true
   },
   "outputs": [],
   "source": [
    "drainageids = ['AM_Vakhsh_at_Komsomolabad',\n",
    "               'IN_Hunza_at_DainyorBridge',\n",
    "               'GA_Karnali_at_Benighat',\n",
    "               'GA_Narayani_at_Devghat',\n",
    "               'GA_SaptaKosi_at_Chatara']"
   ]
  },
  {
   "cell_type": "code",
   "execution_count": null,
   "metadata": {
    "collapsed": false,
    "scrolled": false
   },
   "outputs": [],
   "source": [
    "fig, ax = plt.subplots(len(drainageids),1, figsize=(8,10))"
   ]
  },
  {
   "cell_type": "code",
   "execution_count": null,
   "metadata": {
    "collapsed": false
   },
   "outputs": [],
   "source": [
    "def orig_rainfile(source, id):\n",
    "    if 'MERRA' == source:\n",
    "        return \"/Users/brodzik/projects/CHARIS/rainfall/MERRA/%s.MERRA_rainfall_km3.monthly.csv\" % id\n",
    "    else:\n",
    "        return \"/Users/brodzik/projects/CHARIS/rainfall/Aphrodite_V1101R2/monthly_by_drainage/%s.APHRODITE_rainfall_km3.monthly.v01.csv\" % id\n",
    "\n",
    "def new_rainfile(source, id):\n",
    "    if 'MERRA' == source:\n",
    "        return \"/Users/brodzik/projects/CHARIS/rainfall/MERRA_rainfall_less_ET/%s.MERRA_rainfall_adj_mod16_ET_km3.monthly.csv\" % id\n",
    "    else:\n",
    "        return \"/Users/brodzik/projects/CHARIS/rainfall/Aphrodite_V1101R2/monthly_by_drainage_less_et/%s.APHRODITE_rainfall_adj_mod16_ET_km3.monthly.v01.csv\" % id\n",
    "    "
   ]
  },
  {
   "cell_type": "code",
   "execution_count": null,
   "metadata": {
    "collapsed": false
   },
   "outputs": [],
   "source": [
    "for source in ['MERRA', 'other']:\n",
    "    print(source)\n",
    "    print(orig_rainfile(source, 'AM_Vakhsh'))\n",
    "    print(new_rainfile(source, 'AM_Vakhsh'))"
   ]
  },
  {
   "cell_type": "code",
   "execution_count": null,
   "metadata": {
    "collapsed": false,
    "scrolled": false
   },
   "outputs": [],
   "source": [
    "for i, id in enumerate(drainageids):\n",
    "    source = \"MERRA\"\n",
    "    rainfallFile = orig_rainfile(source, id)\n",
    "    ETFile = '/Users/brodzik/projects/CHARIS/evapotranspiration/mod16/' + id + '.mod16.ET.csv'\n",
    "    rainfall = TimeSeries(rainfallFile)\n",
    "    et = TimeSeries(ETFile)\n",
    "    rainfall.data['et_km3'] = et.data[\"et\"]\n",
    "    rainfall.data['diff_km3'] = rainfall.data[\"rainfall\"] - rainfall.data[\"et_km3\"]\n",
    "    rainfall.data['rainfall-et_km3'] = rainfall.data['diff_km3']\n",
    "    rainfall.data['rainfall-et_km3'][rainfall.data['rainfall-et_km3'] < 0.] = 0.\n",
    "    #print(rainfall.data)\n",
    "    \n",
    "    ax[i].plot(rainfall.data['rainfall'], color='b', label='MERRA rainfall')\n",
    "    ax[i].plot(rainfall.data['et_km3'], color='g', label='ET')\n",
    "    ax[i].plot(rainfall.data['rainfall-et_km3'], color='r', label='MERRA rainfall-ET')\n",
    "   \n",
    "    ax[i].set_title(id)\n",
    "    ax[i].legend()\n",
    "    newFile = new_rainfile(source, id)\n",
    "    rainfall.write(newFile)\n",
    "plt.tight_layout()        "
   ]
  },
  {
   "cell_type": "code",
   "execution_count": null,
   "metadata": {
    "collapsed": false
   },
   "outputs": [],
   "source": [
    "plt.savefig('/Users/brodzik/projects/CHARIS/rainfall/MERRA_rainfall_less_ET/calibration_basins.MERRA.rainfall-ET.png')"
   ]
  },
  {
   "cell_type": "code",
   "execution_count": null,
   "metadata": {
    "collapsed": false
   },
   "outputs": [],
   "source": [
    "%pwd"
   ]
  },
  {
   "cell_type": "code",
   "execution_count": null,
   "metadata": {
    "collapsed": false
   },
   "outputs": [],
   "source": [
    "%cd /Users/brodzik/projects/CHARIS/rainfall/MERRA\n",
    "%ls"
   ]
  },
  {
   "cell_type": "code",
   "execution_count": null,
   "metadata": {
    "collapsed": false
   },
   "outputs": [],
   "source": [
    "file = 'AM_Vakhsh_at_Komsomolabad.MERRA_rainfall_km3.monthly.csv'\n",
    "data = TimeSeries(file)\n",
    "data.data"
   ]
  },
  {
   "cell_type": "code",
   "execution_count": null,
   "metadata": {
    "collapsed": false,
    "scrolled": false
   },
   "outputs": [],
   "source": [
    "fig, ax = plt.subplots(len(drainageids),1, figsize=(8,10))\n",
    "for i, id in enumerate(drainageids):\n",
    "    merraRainfallFile = new_rainfile('MERRA', id)\n",
    "    aphRainfallFile = new_rainfile('Aphrodite', id)\n",
    "    merraRainfall = TimeSeries(merraRainfallFile)\n",
    "    aphRainfall = TimeSeries(aphRainfallFile)\n",
    "    \n",
    "    ax[i].plot(aphRainfall.data['rainfall-et_km3'], color='r', \n",
    "               label='Aphrodite rainfall-ET')\n",
    "    ax[i].plot(merraRainfall.data['rainfall-et_km3'], color='k', \n",
    "               label='MERRA rainfall-ET')\n",
    "    \n",
    "    ax[i].set_title(id)\n",
    "    ax[i].legend()\n",
    "plt.tight_layout()"
   ]
  },
  {
   "cell_type": "code",
   "execution_count": null,
   "metadata": {
    "collapsed": true
   },
   "outputs": [],
   "source": [
    "plt.savefig('/Users/brodzik/projects/CHARIS/rainfall/MERRA_rainfall_less_ET/calibration_basins.Aphrodite.v01_vs_MERRA.rainfall-ET.png')"
   ]
  },
  {
   "cell_type": "code",
   "execution_count": null,
   "metadata": {
    "collapsed": true
   },
   "outputs": [],
   "source": []
  }
 ],
 "metadata": {
  "kernelspec": {
   "display_name": "Python 2",
   "language": "python",
   "name": "python2"
  },
  "language_info": {
   "codemirror_mode": {
    "name": "ipython",
    "version": 2
   },
   "file_extension": ".py",
   "mimetype": "text/x-python",
   "name": "python",
   "nbconvert_exporter": "python",
   "pygments_lexer": "ipython2",
   "version": "2.7.12"
  }
 },
 "nbformat": 4,
 "nbformat_minor": 0
}
