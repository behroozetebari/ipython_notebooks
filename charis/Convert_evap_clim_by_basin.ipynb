{
 "cells": [
  {
   "cell_type": "markdown",
   "metadata": {},
   "source": [
    "<h2>Converts Andy's merra evaporation climatology data to files with a value to use by basin</h2>"
   ]
  },
  {
   "cell_type": "code",
   "execution_count": null,
   "metadata": {
    "collapsed": false
   },
   "outputs": [],
   "source": [
    "import pandas as pd\n",
    "import numpy as np\n",
    "from charistools.hypsometry import Hypsometry\n",
    "from charistools.modelEnv import ModelEnv\n",
    "from charistools.readers import read_tile"
   ]
  },
  {
   "cell_type": "code",
   "execution_count": null,
   "metadata": {
    "collapsed": false
   },
   "outputs": [],
   "source": [
    "dirname = '/Users/brodzik/projects/CHARIS/evaporation/merra'\n",
    "%cd $dirname\n",
    "%ls"
   ]
  },
  {
   "cell_type": "code",
   "execution_count": null,
   "metadata": {
    "collapsed": true
   },
   "outputs": [],
   "source": [
    "filename = 'merra_evap_high_asia_calibration_basins_month_clim.txt'"
   ]
  },
  {
   "cell_type": "code",
   "execution_count": null,
   "metadata": {
    "collapsed": false
   },
   "outputs": [],
   "source": [
    "drainageids = ['AM_Vakhsh_at_Komsomolabad',\n",
    "               'IN_Hunza_at_DainyorBridge',\n",
    "               'GA_Karnali_at_Benighat',\n",
    "               'GA_Narayani_at_Devghat',\n",
    "               'GA_SaptaKosi_at_Chatara']\n",
    "names = ['month'] + drainageids\n",
    "names"
   ]
  },
  {
   "cell_type": "code",
   "execution_count": null,
   "metadata": {
    "collapsed": false
   },
   "outputs": [],
   "source": [
    "clim = pd.read_csv(filename, delim_whitespace=True, skiprows=3, header=None, \n",
    "                   names=names)"
   ]
  },
  {
   "cell_type": "markdown",
   "metadata": {},
   "source": [
    "Data units are cm.\n"
   ]
  },
  {
   "cell_type": "code",
   "execution_count": null,
   "metadata": {
    "collapsed": false
   },
   "outputs": [],
   "source": [
    "clim"
   ]
  },
  {
   "cell_type": "markdown",
   "metadata": {},
   "source": [
    "For each of the calibration basins, open the masks and calculate the area. "
   ]
  },
  {
   "cell_type": "code",
   "execution_count": null,
   "metadata": {
    "collapsed": true
   },
   "outputs": [],
   "source": [
    "def basin_area(drainageid):\n",
    "    myEnv = ModelEnv(\"/Users/brodzik/ipython_notebooks/charis/calibration_modelEnv_config.ini\")\n",
    "    tiles = myEnv.tileIDs_for_drainage(drainageid)\n",
    "    area = 0.\n",
    "    for tile in tiles:\n",
    "        maskFile = myEnv.fixed_filename(type='basin_mask', drainageID=drainageid, tileID=tile)\n",
    "        data = read_tile(maskFile, verbose=True)\n",
    "        area = area + (data[data == 1].sum() * myEnv.modis_tile_500m_pixel_area_km2)\n",
    "    return(area)"
   ]
  },
  {
   "cell_type": "code",
   "execution_count": null,
   "metadata": {
    "collapsed": false
   },
   "outputs": [],
   "source": [
    "for drainageid in drainageids:\n",
    "    area = basin_area(drainageid)\n",
    "    sub = clim[['month', drainageid]]\n",
    "    sub['Area_km2'] = area\n",
    "    cm_to_km = 1. / (1000. * 100.)\n",
    "    sub['ET_km3'] = sub[drainageid] * cm_to_km * sub['Area_km2']\n",
    "    outfile = drainageid + '.merra.ET_clim.txt'\n",
    "    sub.to_csv(outfile)"
   ]
  },
  {
   "cell_type": "code",
   "execution_count": null,
   "metadata": {
    "collapsed": false,
    "scrolled": true
   },
   "outputs": [],
   "source": [
    "myEnv.modis_tile_500m_pixel_area_km2"
   ]
  },
  {
   "cell_type": "code",
   "execution_count": null,
   "metadata": {
    "collapsed": false
   },
   "outputs": [],
   "source": [
    "test"
   ]
  },
  {
   "cell_type": "code",
   "execution_count": null,
   "metadata": {
    "collapsed": false
   },
   "outputs": [],
   "source": [
    "test[test < 6]"
   ]
  },
  {
   "cell_type": "code",
   "execution_count": null,
   "metadata": {
    "collapsed": false
   },
   "outputs": [],
   "source": [
    "test[test < 6].sum()"
   ]
  },
  {
   "cell_type": "code",
   "execution_count": null,
   "metadata": {
    "collapsed": true
   },
   "outputs": [],
   "source": []
  }
 ],
 "metadata": {
  "kernelspec": {
   "display_name": "Python 2",
   "language": "python",
   "name": "python2"
  },
  "language_info": {
   "codemirror_mode": {
    "name": "ipython",
    "version": 2
   },
   "file_extension": ".py",
   "mimetype": "text/x-python",
   "name": "python",
   "nbconvert_exporter": "python",
   "pygments_lexer": "ipython2",
   "version": "2.7.12"
  }
 },
 "nbformat": 4,
 "nbformat_minor": 0
}
