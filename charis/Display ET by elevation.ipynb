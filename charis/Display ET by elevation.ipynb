{
 "cells": [
  {
   "cell_type": "code",
   "execution_count": null,
   "metadata": {},
   "outputs": [],
   "source": [
    "%pylab notebook\n",
    "import glob\n",
    "import matplotlib.pyplot as plt\n",
    "from charistools.hypsometry import Hypsometry"
   ]
  },
  {
   "cell_type": "code",
   "execution_count": null,
   "metadata": {},
   "outputs": [],
   "source": [
    "list = glob.glob(\"/Users/brodzik/projects/CHARIS/derived_hypsometries/evapotranspiration/mod16/monthly/AM_*fullbasinmasks*txt\")\n",
    "list"
   ]
  },
  {
   "cell_type": "code",
   "execution_count": null,
   "metadata": {
    "scrolled": true
   },
   "outputs": [],
   "source": [
    "fig, ax = plt.subplots(5, 2, figsize=(14,16))"
   ]
  },
  {
   "cell_type": "code",
   "execution_count": null,
   "metadata": {},
   "outputs": [],
   "source": [
    "basins = ['AM', 'BR', 'GA_v01', 'IN_v01', 'SY_v01']\n",
    "vmax = [0.75, 5.5, 19.0, 5.5, 0.8]\n",
    "for i, basin in enumerate(basins):\n",
    "    list = sort(glob.glob(\"/Users/brodzik/projects/CHARIS/derived_hypsometries/evapotranspiration/mod16/monthly/\" + basin + \"_*fullbasinmasks*txt\"))\n",
    "    print(list)\n",
    "    snowhyps = Hypsometry(filename=list[1])\n",
    "    snowhyps.data = snowhyps.data['2001-01-01':'2001-12-31']\n",
    "    hyps = Hypsometry(filename=list[0])\n",
    "    hyps.data = hyps.data['2001-01-01':'2001-12-31']\n",
    "    snowhyps.imshow(ax=ax[i,0], title=basin + ' (snowy) ET', cmap='Greens_r', \n",
    "                    xlabel='Date', dateFormat='%b', ylabel='Elevation ($m$)',\n",
    "                    vmax=vmax[i])\n",
    "    hyps.imshow(ax=ax[i,1], title=basin + ' ET', cmap='Greens_r', \n",
    "                xlabel='Date', dateFormat='%b', ylabel='Elevation ($m$)',\n",
    "                vmax=vmax[i])\n",
    "fig.tight_layout()"
   ]
  },
  {
   "cell_type": "code",
   "execution_count": null,
   "metadata": {
    "scrolled": false
   },
   "outputs": [],
   "source": [
    "#ax[0,0].plot(hyps.data['2001-01-01':'2001-01-01'])\n",
    "snowhyps.imshow(ax=ax[0,0], title='AM (snowy)', cmap='Greys_r', \n",
    "                xlabel='Date', dateFormat='%b', \n",
    "                ylabel='Elevation ($m$)')\n",
    "hyps.imshow(ax=ax[0,1], title='AM', cmap='Greys_r', \n",
    "            xlabel='Date', dateFormat='%b', \n",
    "            ylabel='Elevation ($m$)')\n"
   ]
  },
  {
   "cell_type": "code",
   "execution_count": null,
   "metadata": {},
   "outputs": [],
   "source": [
    "hyps.data"
   ]
  },
  {
   "cell_type": "code",
   "execution_count": null,
   "metadata": {
    "collapsed": true
   },
   "outputs": [],
   "source": [
    "fig.savefig(\"/Users/brodzik/ipython_notebooks/charis/ET.2001.png\")"
   ]
  },
  {
   "cell_type": "code",
   "execution_count": null,
   "metadata": {
    "collapsed": true
   },
   "outputs": [],
   "source": [
    "fig, ax = plt.subplots(1)\n",
    "list = glob.glob(\"/Users/brodzik/projects/CHARIS/derived_hypsometries/evapotranspiration/mod16/monthly/AM_*fullbasinmasks*txt\")\n",
    "#    snowhyps = Hypsometry(filename=list[0])\n",
    "#    snowhyps.data = snowhyps.data['2001-01-01':'2001-12-31']\n",
    "#    hyps = Hypsometry(filename=list[1])\n",
    "#    hyps.data = hyps.data['2001-01-01':'2001-12-31']\n",
    "#    snowhyps.imshow(ax=ax[i,0], title=basin + ' (snowy) ET', cmap='Greens_r', \n",
    "#                    xlabel='Date', dateFormat='%b', ylabel='Elevation ($m$)')\n",
    "#    hyps.imshow(ax=ax[i,1], title=basin + ' ET', cmap='Greens_r', \n",
    "#                xlabel='Date', dateFormat='%b', ylabel='Elevation ($m$)')\n",
    "fig.tight_layout()"
   ]
  }
 ],
 "metadata": {
  "kernelspec": {
   "display_name": "Python 2",
   "language": "python",
   "name": "python2"
  },
  "language_info": {
   "codemirror_mode": {
    "name": "ipython",
    "version": 2
   },
   "file_extension": ".py",
   "mimetype": "text/x-python",
   "name": "python",
   "nbconvert_exporter": "python",
   "pygments_lexer": "ipython2",
   "version": "2.7.13"
  }
 },
 "nbformat": 4,
 "nbformat_minor": 1
}
