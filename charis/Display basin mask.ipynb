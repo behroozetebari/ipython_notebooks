{
 "cells": [
  {
   "cell_type": "code",
   "execution_count": 1,
   "metadata": {
    "collapsed": false
   },
   "outputs": [
    {
     "name": "stderr",
     "output_type": "stream",
     "text": [
      "/Users/brodzik/.conda/envs/charis/lib/python2.7/site-packages/matplotlib/font_manager.py:273: UserWarning: Matplotlib is building the font cache using fc-list. This may take a moment.\n",
      "  warnings.warn('Matplotlib is building the font cache using fc-list. This may take a moment.')\n"
     ]
    },
    {
     "name": "stdout",
     "output_type": "stream",
     "text": [
      "Populating the interactive namespace from numpy and matplotlib\n"
     ]
    }
   ],
   "source": [
    "%pylab notebook\n",
    "from charistools.readers import read_tile\n",
    "import glob\n",
    "import numpy as np\n",
    "import matplotlib.pyplot as plt\n",
    "import pandas as pd\n",
    "import re\n",
    "pd.options.display.max_rows = 200"
   ]
  },
  {
   "cell_type": "code",
   "execution_count": 3,
   "metadata": {
    "collapsed": false
   },
   "outputs": [
    {
     "name": "stdout",
     "output_type": "stream",
     "text": [
      "/Users/brodzik/projects/CHARIS/basins/subbasins_of_major_basins\n",
      "/Users/brodzik/projects/CHARIS/basins/subbasins_of_major_basins/SY_v01_snow_subs_basins_modis_masks\n"
     ]
    }
   ],
   "source": [
    "#basin_version = \"IN_v01\"\n",
    "#basin_version = \"SY\"\n",
    "#basin_version = \"BR\"\n",
    "#basin_version = \"GA_v01\"\n",
    "basin_version = \"SY_v01\"\n",
    "basin_dir = \"%s_snow_subs_basins_modis_masks\" % basin_version\n",
    "%cd /Users/brodzik/projects/CHARIS/basins/subbasins_of_major_basins/\n",
    "%cd $basin_dir\n"
   ]
  },
  {
   "cell_type": "code",
   "execution_count": 4,
   "metadata": {
    "collapsed": false
   },
   "outputs": [
    {
     "data": {
      "text/plain": [
       "array(['SY_v01_OBJECTID941_h22v04.tif', 'SY_v01_OBJECTID950_h22v04.tif',\n",
       "       'SY_v01_OBJECTID950_h23v04.tif', 'SY_v01_OBJECTID951_h22v04.tif',\n",
       "       'SY_v01_OBJECTID951_h23v04.tif', 'SY_v01_OBJECTID952_h23v04.tif',\n",
       "       'SY_v01_OBJECTID953_h23v04.tif', 'SY_v01_OBJECTID955_h23v04.tif',\n",
       "       'SY_v01_OBJECTID956_h23v04.tif', 'SY_v01_OBJECTID957_h23v04.tif',\n",
       "       'SY_v01_OBJECTID958_h23v04.tif', 'SY_v01_OBJECTID959_h23v04.tif',\n",
       "       'SY_v01_OBJECTID960_h23v04.tif', 'SY_v01_OBJECTID961_h22v04.tif',\n",
       "       'SY_v01_OBJECTID961_h23v04.tif', 'SY_v01_OBJECTID961_h23v05.tif',\n",
       "       'SY_v01_OBJECTID962_h23v04.tif', 'SY_v01_OBJECTID964_h23v04.tif',\n",
       "       'SY_v01_OBJECTID964_h23v05.tif', 'SY_v01_OBJECTID965_h23v04.tif',\n",
       "       'SY_v01_OBJECTID965_h23v05.tif', 'SY_v01_OBJECTID966_h23v04.tif',\n",
       "       'SY_v01_OBJECTID966_h23v05.tif', 'SY_v01_OBJECTID967_h23v04.tif',\n",
       "       'SY_v01_OBJECTID967_h23v05.tif'], \n",
       "      dtype='|S29')"
      ]
     },
     "execution_count": 4,
     "metadata": {},
     "output_type": "execute_result"
    }
   ],
   "source": [
    "list = glob.glob(\"%s_OBJECTID*tif\" % basin_version)\n",
    "list = sort(list)\n",
    "list"
   ]
  },
  {
   "cell_type": "code",
   "execution_count": 5,
   "metadata": {
    "collapsed": false
   },
   "outputs": [
    {
     "data": {
      "text/plain": [
       "(25,)"
      ]
     },
     "execution_count": 5,
     "metadata": {},
     "output_type": "execute_result"
    }
   ],
   "source": [
    "list.shape"
   ]
  },
  {
   "cell_type": "code",
   "execution_count": 6,
   "metadata": {
    "collapsed": false
   },
   "outputs": [
    {
     "name": "stdout",
     "output_type": "stream",
     "text": [
      "25\n",
      "17\n"
     ]
    }
   ],
   "source": [
    "# Count how many unique basins there are:\n",
    "basins = [re.search('.._(OBJECTID[0-9]{1,3})', file).group(1) for file in sort(list)]\n",
    "print(len(basins))\n",
    "uniq_basins = set(basins)\n",
    "print(len(uniq_basins))"
   ]
  },
  {
   "cell_type": "code",
   "execution_count": null,
   "metadata": {
    "collapsed": true
   },
   "outputs": [],
   "source": [
    "def display_basin_mask(file):\n",
    "    data = read_tile(filename=file)\n",
    "    fig, ax = plt.subplots()\n",
    "    print(np.amin(data), np.amax(data))\n",
    "    ax.imshow(data, cmap='Greys', vmin=np.amin(data), vmax=np.amax(data), interpolation='None')\n",
    "    ax.set_title(file)\n",
    "    plt.axis('off')"
   ]
  },
  {
   "cell_type": "code",
   "execution_count": null,
   "metadata": {
    "collapsed": false
   },
   "outputs": [],
   "source": [
    "data = read_tile(filename=\"GA_Langtang_at_Kyanjin.basin_mask.h25v06.tif\")\n",
    "w2 = data[data == 2]\n",
    "w2.shape[0] * 463. * 463. / (1000. * 1000.)\n",
    "#%ls\n",
    "display_basin_mask(filename)"
   ]
  },
  {
   "cell_type": "code",
   "execution_count": null,
   "metadata": {
    "collapsed": false,
    "scrolled": false
   },
   "outputs": [],
   "source": [
    "for file in sort(list):\n",
    "    display_basin_mask(file)\n",
    "\n",
    "#plt.close('all')\n"
   ]
  },
  {
   "cell_type": "code",
   "execution_count": 7,
   "metadata": {
    "collapsed": false,
    "scrolled": false
   },
   "outputs": [
    {
     "data": {
      "text/html": [
       "<div>\n",
       "<table border=\"1\" class=\"dataframe\">\n",
       "  <thead>\n",
       "    <tr style=\"text-align: right;\">\n",
       "      <th></th>\n",
       "      <th>File</th>\n",
       "      <th>basename</th>\n",
       "      <th>tileID</th>\n",
       "    </tr>\n",
       "  </thead>\n",
       "  <tbody>\n",
       "    <tr>\n",
       "      <th>0</th>\n",
       "      <td>SY_v01_OBJECTID941_h22v04.tif</td>\n",
       "      <td>SY_v01_OBJECTID941</td>\n",
       "      <td>h22v04</td>\n",
       "    </tr>\n",
       "    <tr>\n",
       "      <th>1</th>\n",
       "      <td>SY_v01_OBJECTID950_h22v04.tif</td>\n",
       "      <td>SY_v01_OBJECTID950</td>\n",
       "      <td>h22v04</td>\n",
       "    </tr>\n",
       "    <tr>\n",
       "      <th>2</th>\n",
       "      <td>SY_v01_OBJECTID950_h23v04.tif</td>\n",
       "      <td>SY_v01_OBJECTID950</td>\n",
       "      <td>h23v04</td>\n",
       "    </tr>\n",
       "    <tr>\n",
       "      <th>3</th>\n",
       "      <td>SY_v01_OBJECTID951_h22v04.tif</td>\n",
       "      <td>SY_v01_OBJECTID951</td>\n",
       "      <td>h22v04</td>\n",
       "    </tr>\n",
       "    <tr>\n",
       "      <th>4</th>\n",
       "      <td>SY_v01_OBJECTID951_h23v04.tif</td>\n",
       "      <td>SY_v01_OBJECTID951</td>\n",
       "      <td>h23v04</td>\n",
       "    </tr>\n",
       "    <tr>\n",
       "      <th>5</th>\n",
       "      <td>SY_v01_OBJECTID952_h23v04.tif</td>\n",
       "      <td>SY_v01_OBJECTID952</td>\n",
       "      <td>h23v04</td>\n",
       "    </tr>\n",
       "    <tr>\n",
       "      <th>6</th>\n",
       "      <td>SY_v01_OBJECTID953_h23v04.tif</td>\n",
       "      <td>SY_v01_OBJECTID953</td>\n",
       "      <td>h23v04</td>\n",
       "    </tr>\n",
       "    <tr>\n",
       "      <th>7</th>\n",
       "      <td>SY_v01_OBJECTID955_h23v04.tif</td>\n",
       "      <td>SY_v01_OBJECTID955</td>\n",
       "      <td>h23v04</td>\n",
       "    </tr>\n",
       "    <tr>\n",
       "      <th>8</th>\n",
       "      <td>SY_v01_OBJECTID956_h23v04.tif</td>\n",
       "      <td>SY_v01_OBJECTID956</td>\n",
       "      <td>h23v04</td>\n",
       "    </tr>\n",
       "    <tr>\n",
       "      <th>9</th>\n",
       "      <td>SY_v01_OBJECTID957_h23v04.tif</td>\n",
       "      <td>SY_v01_OBJECTID957</td>\n",
       "      <td>h23v04</td>\n",
       "    </tr>\n",
       "    <tr>\n",
       "      <th>10</th>\n",
       "      <td>SY_v01_OBJECTID958_h23v04.tif</td>\n",
       "      <td>SY_v01_OBJECTID958</td>\n",
       "      <td>h23v04</td>\n",
       "    </tr>\n",
       "    <tr>\n",
       "      <th>11</th>\n",
       "      <td>SY_v01_OBJECTID959_h23v04.tif</td>\n",
       "      <td>SY_v01_OBJECTID959</td>\n",
       "      <td>h23v04</td>\n",
       "    </tr>\n",
       "    <tr>\n",
       "      <th>12</th>\n",
       "      <td>SY_v01_OBJECTID960_h23v04.tif</td>\n",
       "      <td>SY_v01_OBJECTID960</td>\n",
       "      <td>h23v04</td>\n",
       "    </tr>\n",
       "    <tr>\n",
       "      <th>13</th>\n",
       "      <td>SY_v01_OBJECTID961_h22v04.tif</td>\n",
       "      <td>SY_v01_OBJECTID961</td>\n",
       "      <td>h22v04</td>\n",
       "    </tr>\n",
       "    <tr>\n",
       "      <th>14</th>\n",
       "      <td>SY_v01_OBJECTID961_h23v04.tif</td>\n",
       "      <td>SY_v01_OBJECTID961</td>\n",
       "      <td>h23v04</td>\n",
       "    </tr>\n",
       "    <tr>\n",
       "      <th>15</th>\n",
       "      <td>SY_v01_OBJECTID961_h23v05.tif</td>\n",
       "      <td>SY_v01_OBJECTID961</td>\n",
       "      <td>h23v05</td>\n",
       "    </tr>\n",
       "    <tr>\n",
       "      <th>16</th>\n",
       "      <td>SY_v01_OBJECTID962_h23v04.tif</td>\n",
       "      <td>SY_v01_OBJECTID962</td>\n",
       "      <td>h23v04</td>\n",
       "    </tr>\n",
       "    <tr>\n",
       "      <th>17</th>\n",
       "      <td>SY_v01_OBJECTID964_h23v04.tif</td>\n",
       "      <td>SY_v01_OBJECTID964</td>\n",
       "      <td>h23v04</td>\n",
       "    </tr>\n",
       "    <tr>\n",
       "      <th>18</th>\n",
       "      <td>SY_v01_OBJECTID964_h23v05.tif</td>\n",
       "      <td>SY_v01_OBJECTID964</td>\n",
       "      <td>h23v05</td>\n",
       "    </tr>\n",
       "    <tr>\n",
       "      <th>19</th>\n",
       "      <td>SY_v01_OBJECTID965_h23v04.tif</td>\n",
       "      <td>SY_v01_OBJECTID965</td>\n",
       "      <td>h23v04</td>\n",
       "    </tr>\n",
       "    <tr>\n",
       "      <th>20</th>\n",
       "      <td>SY_v01_OBJECTID965_h23v05.tif</td>\n",
       "      <td>SY_v01_OBJECTID965</td>\n",
       "      <td>h23v05</td>\n",
       "    </tr>\n",
       "    <tr>\n",
       "      <th>21</th>\n",
       "      <td>SY_v01_OBJECTID966_h23v04.tif</td>\n",
       "      <td>SY_v01_OBJECTID966</td>\n",
       "      <td>h23v04</td>\n",
       "    </tr>\n",
       "    <tr>\n",
       "      <th>22</th>\n",
       "      <td>SY_v01_OBJECTID966_h23v05.tif</td>\n",
       "      <td>SY_v01_OBJECTID966</td>\n",
       "      <td>h23v05</td>\n",
       "    </tr>\n",
       "    <tr>\n",
       "      <th>23</th>\n",
       "      <td>SY_v01_OBJECTID967_h23v04.tif</td>\n",
       "      <td>SY_v01_OBJECTID967</td>\n",
       "      <td>h23v04</td>\n",
       "    </tr>\n",
       "    <tr>\n",
       "      <th>24</th>\n",
       "      <td>SY_v01_OBJECTID967_h23v05.tif</td>\n",
       "      <td>SY_v01_OBJECTID967</td>\n",
       "      <td>h23v05</td>\n",
       "    </tr>\n",
       "  </tbody>\n",
       "</table>\n",
       "</div>"
      ],
      "text/plain": [
       "                             File            basename  tileID\n",
       "0   SY_v01_OBJECTID941_h22v04.tif  SY_v01_OBJECTID941  h22v04\n",
       "1   SY_v01_OBJECTID950_h22v04.tif  SY_v01_OBJECTID950  h22v04\n",
       "2   SY_v01_OBJECTID950_h23v04.tif  SY_v01_OBJECTID950  h23v04\n",
       "3   SY_v01_OBJECTID951_h22v04.tif  SY_v01_OBJECTID951  h22v04\n",
       "4   SY_v01_OBJECTID951_h23v04.tif  SY_v01_OBJECTID951  h23v04\n",
       "5   SY_v01_OBJECTID952_h23v04.tif  SY_v01_OBJECTID952  h23v04\n",
       "6   SY_v01_OBJECTID953_h23v04.tif  SY_v01_OBJECTID953  h23v04\n",
       "7   SY_v01_OBJECTID955_h23v04.tif  SY_v01_OBJECTID955  h23v04\n",
       "8   SY_v01_OBJECTID956_h23v04.tif  SY_v01_OBJECTID956  h23v04\n",
       "9   SY_v01_OBJECTID957_h23v04.tif  SY_v01_OBJECTID957  h23v04\n",
       "10  SY_v01_OBJECTID958_h23v04.tif  SY_v01_OBJECTID958  h23v04\n",
       "11  SY_v01_OBJECTID959_h23v04.tif  SY_v01_OBJECTID959  h23v04\n",
       "12  SY_v01_OBJECTID960_h23v04.tif  SY_v01_OBJECTID960  h23v04\n",
       "13  SY_v01_OBJECTID961_h22v04.tif  SY_v01_OBJECTID961  h22v04\n",
       "14  SY_v01_OBJECTID961_h23v04.tif  SY_v01_OBJECTID961  h23v04\n",
       "15  SY_v01_OBJECTID961_h23v05.tif  SY_v01_OBJECTID961  h23v05\n",
       "16  SY_v01_OBJECTID962_h23v04.tif  SY_v01_OBJECTID962  h23v04\n",
       "17  SY_v01_OBJECTID964_h23v04.tif  SY_v01_OBJECTID964  h23v04\n",
       "18  SY_v01_OBJECTID964_h23v05.tif  SY_v01_OBJECTID964  h23v05\n",
       "19  SY_v01_OBJECTID965_h23v04.tif  SY_v01_OBJECTID965  h23v04\n",
       "20  SY_v01_OBJECTID965_h23v05.tif  SY_v01_OBJECTID965  h23v05\n",
       "21  SY_v01_OBJECTID966_h23v04.tif  SY_v01_OBJECTID966  h23v04\n",
       "22  SY_v01_OBJECTID966_h23v05.tif  SY_v01_OBJECTID966  h23v05\n",
       "23  SY_v01_OBJECTID967_h23v04.tif  SY_v01_OBJECTID967  h23v04\n",
       "24  SY_v01_OBJECTID967_h23v05.tif  SY_v01_OBJECTID967  h23v05"
      ]
     },
     "execution_count": 7,
     "metadata": {},
     "output_type": "execute_result"
    }
   ],
   "source": [
    "df = pd.DataFrame(list, columns = [\"File\"])\n",
    "df[\"basename\"] = [re.search('(.+_OBJECTID[0-9]{1,3})', file).group(1) for file in df[\"File\"]]\n",
    "df[\"tileID\"] = [re.search('(h[0-9]{2}v[0-9]{2})', file).group(1) for file in df[\"File\"]]\n",
    "df"
   ]
  },
  {
   "cell_type": "code",
   "execution_count": 8,
   "metadata": {
    "collapsed": false
   },
   "outputs": [
    {
     "name": "stdout",
     "output_type": "stream",
     "text": [
      "set(['h22v04', 'h23v05', 'h23v04'])\n"
     ]
    }
   ],
   "source": [
    "print(set(df[\"tileID\"]))"
   ]
  },
  {
   "cell_type": "code",
   "execution_count": 9,
   "metadata": {
    "collapsed": false,
    "scrolled": false
   },
   "outputs": [
    {
     "data": {
      "text/html": [
       "<div>\n",
       "<table border=\"1\" class=\"dataframe\">\n",
       "  <thead>\n",
       "    <tr style=\"text-align: right;\">\n",
       "      <th></th>\n",
       "      <th>basename</th>\n",
       "      <th>num_tiles</th>\n",
       "    </tr>\n",
       "  </thead>\n",
       "  <tbody>\n",
       "    <tr>\n",
       "      <th>0</th>\n",
       "      <td>SY_v01_OBJECTID941</td>\n",
       "      <td>1</td>\n",
       "    </tr>\n",
       "    <tr>\n",
       "      <th>3</th>\n",
       "      <td>SY_v01_OBJECTID952</td>\n",
       "      <td>1</td>\n",
       "    </tr>\n",
       "    <tr>\n",
       "      <th>4</th>\n",
       "      <td>SY_v01_OBJECTID953</td>\n",
       "      <td>1</td>\n",
       "    </tr>\n",
       "    <tr>\n",
       "      <th>5</th>\n",
       "      <td>SY_v01_OBJECTID955</td>\n",
       "      <td>1</td>\n",
       "    </tr>\n",
       "    <tr>\n",
       "      <th>6</th>\n",
       "      <td>SY_v01_OBJECTID956</td>\n",
       "      <td>1</td>\n",
       "    </tr>\n",
       "    <tr>\n",
       "      <th>7</th>\n",
       "      <td>SY_v01_OBJECTID957</td>\n",
       "      <td>1</td>\n",
       "    </tr>\n",
       "    <tr>\n",
       "      <th>8</th>\n",
       "      <td>SY_v01_OBJECTID958</td>\n",
       "      <td>1</td>\n",
       "    </tr>\n",
       "    <tr>\n",
       "      <th>9</th>\n",
       "      <td>SY_v01_OBJECTID959</td>\n",
       "      <td>1</td>\n",
       "    </tr>\n",
       "    <tr>\n",
       "      <th>10</th>\n",
       "      <td>SY_v01_OBJECTID960</td>\n",
       "      <td>1</td>\n",
       "    </tr>\n",
       "    <tr>\n",
       "      <th>12</th>\n",
       "      <td>SY_v01_OBJECTID962</td>\n",
       "      <td>1</td>\n",
       "    </tr>\n",
       "    <tr>\n",
       "      <th>1</th>\n",
       "      <td>SY_v01_OBJECTID950</td>\n",
       "      <td>2</td>\n",
       "    </tr>\n",
       "    <tr>\n",
       "      <th>2</th>\n",
       "      <td>SY_v01_OBJECTID951</td>\n",
       "      <td>2</td>\n",
       "    </tr>\n",
       "    <tr>\n",
       "      <th>13</th>\n",
       "      <td>SY_v01_OBJECTID964</td>\n",
       "      <td>2</td>\n",
       "    </tr>\n",
       "    <tr>\n",
       "      <th>14</th>\n",
       "      <td>SY_v01_OBJECTID965</td>\n",
       "      <td>2</td>\n",
       "    </tr>\n",
       "    <tr>\n",
       "      <th>15</th>\n",
       "      <td>SY_v01_OBJECTID966</td>\n",
       "      <td>2</td>\n",
       "    </tr>\n",
       "    <tr>\n",
       "      <th>16</th>\n",
       "      <td>SY_v01_OBJECTID967</td>\n",
       "      <td>2</td>\n",
       "    </tr>\n",
       "    <tr>\n",
       "      <th>11</th>\n",
       "      <td>SY_v01_OBJECTID961</td>\n",
       "      <td>3</td>\n",
       "    </tr>\n",
       "  </tbody>\n",
       "</table>\n",
       "</div>"
      ],
      "text/plain": [
       "              basename  num_tiles\n",
       "0   SY_v01_OBJECTID941          1\n",
       "3   SY_v01_OBJECTID952          1\n",
       "4   SY_v01_OBJECTID953          1\n",
       "5   SY_v01_OBJECTID955          1\n",
       "6   SY_v01_OBJECTID956          1\n",
       "7   SY_v01_OBJECTID957          1\n",
       "8   SY_v01_OBJECTID958          1\n",
       "9   SY_v01_OBJECTID959          1\n",
       "10  SY_v01_OBJECTID960          1\n",
       "12  SY_v01_OBJECTID962          1\n",
       "1   SY_v01_OBJECTID950          2\n",
       "2   SY_v01_OBJECTID951          2\n",
       "13  SY_v01_OBJECTID964          2\n",
       "14  SY_v01_OBJECTID965          2\n",
       "15  SY_v01_OBJECTID966          2\n",
       "16  SY_v01_OBJECTID967          2\n",
       "11  SY_v01_OBJECTID961          3"
      ]
     },
     "execution_count": 9,
     "metadata": {},
     "output_type": "execute_result"
    }
   ],
   "source": [
    "# Count the number of tiles per basin\n",
    "basins = df.groupby(['basename'], as_index=False).count().sort_values(by=[\"File\", \"basename\"])\n",
    "basins.drop('tileID', axis=1, inplace=True)\n",
    "basins.columns = ['basename', 'num_tiles']\n",
    "basins"
   ]
  },
  {
   "cell_type": "code",
   "execution_count": 10,
   "metadata": {
    "collapsed": false
   },
   "outputs": [
    {
     "name": "stdout",
     "output_type": "stream",
     "text": [
      "('out file: ', 'SY_1tile_basins.txt')\n",
      "('out file: ', 'SY_2tile_basins.txt')\n",
      "('out file: ', 'SY_3tile_basins.txt')\n"
     ]
    }
   ],
   "source": [
    "# Get the basin prefix (basically the 2-letter ID) for output files\n",
    "basin_prefix = re.search('(..)_', basins[\"basename\"][0]).group(1)\n",
    "for num_tiles in set(basins[\"num_tiles\"]):\n",
    "    out_filename = \"%s_%dtile_basins.txt\" % (basin_prefix, num_tiles)\n",
    "    print(\"out file: \", out_filename)\n",
    "    out_fh = open(out_filename, 'w')\n",
    "    for subbasin in basins[basins[\"num_tiles\"] == num_tiles][\"basename\"].values:\n",
    "        # Get the list of tileIDs for this basin\n",
    "        out_fh.write(\"%s\\n\" % subbasin)\n",
    "    out_fh.close()"
   ]
  },
  {
   "cell_type": "code",
   "execution_count": null,
   "metadata": {
    "collapsed": false
   },
   "outputs": [],
   "source": [
    "%cat GA_4tile_basins.txt"
   ]
  },
  {
   "cell_type": "code",
   "execution_count": 11,
   "metadata": {
    "collapsed": false
   },
   "outputs": [
    {
     "name": "stdout",
     "output_type": "stream",
     "text": [
      "SY_v01_OBJECTID961\r\n"
     ]
    }
   ],
   "source": [
    "%cat SY_3tile_basins.txt"
   ]
  },
  {
   "cell_type": "code",
   "execution_count": 12,
   "metadata": {
    "collapsed": false
   },
   "outputs": [
    {
     "name": "stdout",
     "output_type": "stream",
     "text": [
      "SY_v01_OBJECTID950\r\n",
      "SY_v01_OBJECTID951\r\n",
      "SY_v01_OBJECTID964\r\n",
      "SY_v01_OBJECTID965\r\n",
      "SY_v01_OBJECTID966\r\n",
      "SY_v01_OBJECTID967\r\n"
     ]
    }
   ],
   "source": [
    "%cat SY_2tile_basins.txt"
   ]
  },
  {
   "cell_type": "code",
   "execution_count": 13,
   "metadata": {
    "collapsed": false
   },
   "outputs": [
    {
     "name": "stdout",
     "output_type": "stream",
     "text": [
      "SY_v01_OBJECTID941\r\n",
      "SY_v01_OBJECTID952\r\n",
      "SY_v01_OBJECTID953\r\n",
      "SY_v01_OBJECTID955\r\n",
      "SY_v01_OBJECTID956\r\n",
      "SY_v01_OBJECTID957\r\n",
      "SY_v01_OBJECTID958\r\n",
      "SY_v01_OBJECTID959\r\n",
      "SY_v01_OBJECTID960\r\n",
      "SY_v01_OBJECTID962\r\n"
     ]
    }
   ],
   "source": [
    "%cat SY_1tile_basins.txt"
   ]
  },
  {
   "cell_type": "code",
   "execution_count": null,
   "metadata": {
    "collapsed": false,
    "scrolled": false
   },
   "outputs": [],
   "source": [
    "# Special processing if we need to separate out basins that intersect only certain tiles\n",
    "# Get the basin prefix (basically the 2-letter ID) for output files\n",
    "basin_prefix = re.search('(..)_', basins[\"basename\"][0]).group(1)\n",
    "for num_tiles in set(basins[\"num_tiles\"]):\n",
    "    wh23_4_filename = \"%s_%dtile_basins_with_h23-4.txt\" % (basin_prefix, num_tiles)\n",
    "    other_filename = \"%s_%dtile_basins_other.txt\" % (basin_prefix, num_tiles)\n",
    "    print(\"next file: \", wh23_4_filename)\n",
    "    print(\"other file: \", other_filename)\n",
    "    h23_fh = open(wh23_4_filename, 'w')\n",
    "    other_fh = open(other_filename, 'w')\n",
    "    for subbasin in basins[basins[\"num_tiles\"] == num_tiles][\"basename\"].values:\n",
    "        # Get the list of tileIDs for this basin\n",
    "        # Skip this basin if tileIDs include anything other than: [h23v05 h24v05]\n",
    "        h23_4_basin = True\n",
    "        for tileID in df.loc[df['basename'] == subbasin][\"tileID\"].values:\n",
    "            if re.search('(h2[34]v05)', tileID):\n",
    "                print(\"have this one\")\n",
    "            else:\n",
    "                print(\"Don't have tileID=%s, need to skip basin=%s\" % (tileID, subbasin))\n",
    "                h23_4_basin=False\n",
    "        if h23_4_basin:\n",
    "            print(\"H23-4 BASIN: %s: %s\" % (subbasin, ' '.join(df.loc[df['basename'] == subbasin][\"tileID\"].values)))\n",
    "            h23_fh.write(\"%s\\n\" % subbasin)\n",
    "        else:\n",
    "            print(\"OTHER BASIN: %s: %s\" % (subbasin, ' '.join(df.loc[df['basename'] == subbasin][\"tileID\"].values)))\n",
    "            other_fh.write(\"%s\\n\" % subbasin)\n",
    "    h23_fh.close()\n",
    "    other_fh.close()"
   ]
  },
  {
   "cell_type": "code",
   "execution_count": null,
   "metadata": {
    "collapsed": false,
    "scrolled": true
   },
   "outputs": [],
   "source": [
    "%cat IN_2tile_basins_with_h23-4.txt"
   ]
  },
  {
   "cell_type": "code",
   "execution_count": null,
   "metadata": {
    "collapsed": false
   },
   "outputs": [],
   "source": [
    "%cat IN_2tile_basins_other.txt"
   ]
  },
  {
   "cell_type": "code",
   "execution_count": null,
   "metadata": {
    "collapsed": false
   },
   "outputs": [],
   "source": [
    "%cat IN_1tile_basins_with_h23-4.txt"
   ]
  },
  {
   "cell_type": "code",
   "execution_count": null,
   "metadata": {
    "collapsed": true
   },
   "outputs": [],
   "source": [
    "%cat IN_1tile_basins_other.txt"
   ]
  },
  {
   "cell_type": "code",
   "execution_count": null,
   "metadata": {
    "collapsed": true
   },
   "outputs": [],
   "source": []
  }
 ],
 "metadata": {
  "kernelspec": {
   "display_name": "Python 2",
   "language": "python",
   "name": "python2"
  },
  "language_info": {
   "codemirror_mode": {
    "name": "ipython",
    "version": 2
   },
   "file_extension": ".py",
   "mimetype": "text/x-python",
   "name": "python",
   "nbconvert_exporter": "python",
   "pygments_lexer": "ipython2",
   "version": "2.7.12"
  }
 },
 "nbformat": 4,
 "nbformat_minor": 0
}
