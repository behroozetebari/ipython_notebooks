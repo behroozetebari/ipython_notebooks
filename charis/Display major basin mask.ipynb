{
 "cells": [
  {
   "cell_type": "code",
   "execution_count": 14,
   "metadata": {},
   "outputs": [
    {
     "name": "stdout",
     "output_type": "stream",
     "text": [
      "Populating the interactive namespace from numpy and matplotlib\n"
     ]
    }
   ],
   "source": [
    "%pylab notebook\n",
    "from charistools.convertors import Modice2Hypsometry\n",
    "from charistools.readers import read_tile\n",
    "from charistools.modelEnv import ModelEnv\n",
    "import glob\n",
    "import numpy as np\n",
    "import matplotlib.pyplot as plt\n",
    "import pandas as pd\n",
    "import re\n",
    "pd.options.display.max_rows = 200"
   ]
  },
  {
   "cell_type": "code",
   "execution_count": 8,
   "metadata": {},
   "outputs": [
    {
     "name": "stdout",
     "output_type": "stream",
     "text": [
      "/Users/brodzik/projects/CHARIS/basins/major_basins_from_GRDC/MODIStiles\n",
      "00notes.txt\n",
      "00notes.txt~\n",
      "AM_AmuDarya_at_Chatly_h22v04.tif\n",
      "AM_AmuDarya_at_Chatly_h22v05.tif\n",
      "AM_AmuDarya_at_Chatly_h23v04.tif\n",
      "AM_AmuDarya_at_Chatly_h23v05.tif\n",
      "AM_AmuDarya_at_Chatly_noholes_h22v04.tif\n",
      "AM_AmuDarya_at_Chatly_noholes_h22v05.tif\n",
      "AM_AmuDarya_at_Chatly_noholes_h23v04.tif\n",
      "AM_AmuDarya_at_Chatly_noholes_h23v05.tif\n",
      "BR_Bramaputra_at_Bahadurabad_h25v05.tif\n",
      "BR_Bramaputra_at_Bahadurabad_h25v06.tif\n",
      "BR_Bramaputra_at_Bahadurabad_h26v05.tif\n",
      "BR_Bramaputra_at_Bahadurabad_h26v06.tif\n",
      "BR_Bramaputra_at_Bahadurabad_noholes_h25v05.tif\n",
      "BR_Bramaputra_at_Bahadurabad_noholes_h25v06.tif\n",
      "BR_Bramaputra_at_Bahadurabad_noholes_h26v05.tif\n",
      "BR_Bramaputra_at_Bahadurabad_noholes_h26v06.tif\n",
      "GA_Ganges_at_Paksey_h24v05.tif\n",
      "GA_Ganges_at_Paksey_h24v06.tif\n",
      "GA_Ganges_at_Paksey_h25v05.tif\n",
      "GA_Ganges_at_Paksey_h25v06.tif\n",
      "GA_Ganges_at_Paksey_h26v06.tif\n",
      "IN_Indus_at_Kotri_h23v05.tif\n",
      "IN_Indus_at_Kotri_h23v06.tif\n",
      "IN_Indus_at_Kotri_h24v05.tif\n",
      "IN_Indus_at_Kotri_h24v06.tif\n",
      "IN_Indus_at_Kotri_h25v05.tif\n",
      "IN_Indus_at_Kotri_nolobe_gcs_noholes_h23v05.tif\n",
      "IN_Indus_at_Kotri_nolobe_gcs_noholes_h23v06.tif\n",
      "IN_Indus_at_Kotri_nolobe_gcs_noholes_h24v05.tif\n",
      "IN_Indus_at_Kotri_nolobe_gcs_noholes_h24v06.tif\n",
      "IN_Indus_at_Kotri_nolobe_gcs_noholes_h25v05.tif\n",
      "IN_Indus_at_Kotri_nolobe_h23v05.tif\n",
      "IN_Indus_at_Kotri_nolobe_h23v06.tif\n",
      "IN_Indus_at_Kotri_nolobe_h24v05.tif\n",
      "IN_Indus_at_Kotri_nolobe_h24v06.tif\n",
      "IN_Indus_at_Kotri_nolobe_h25v05.tif\n",
      "IN_Indus_at_Kotri_revised_h23v05.tif\n",
      "IN_Indus_at_Kotri_revised_h23v06.tif\n",
      "IN_Indus_at_Kotri_revised_h24v05.tif\n",
      "IN_Indus_at_Kotri_revised_h24v06.tif\n",
      "IN_Indus_at_Kotri_revised_h25v05.tif\n",
      "SY_SyrDarya_at_TyumenAryk_h22v04.tif\n",
      "SY_SyrDarya_at_TyumenAryk_h23v04.tif\n",
      "SY_SyrDarya_at_TyumenAryk_h23v05.tif\n",
      "basin_codes_h22v04.tif\n",
      "basin_codes_h22v05.tif\n",
      "basin_codes_h23v04.tif\n",
      "basin_codes_h23v05.tif\n",
      "basin_codes_h23v06.tif\n",
      "basin_codes_h24v05.tif\n",
      "basin_codes_h24v06.tif\n",
      "basin_codes_h25v05.tif\n",
      "basin_codes_h25v06.tif\n",
      "basin_codes_h26v05.tif\n",
      "basin_codes_h26v06.tif\n",
      "\u001b[34mempty_tiles\u001b[m\u001b[m/\n",
      "indus_nolobe_qgis_project.qgs\n",
      "indus_nolobe_qgis_project.qgs~\n",
      "indus_revised_qgis_project.qgs\n",
      "indus_revised_qgis_project.qgs~\n",
      "\u001b[31mmk_masks_IN_Indus_at_Kotri_new.sh\u001b[m\u001b[m*\n",
      "\u001b[34mtmp\u001b[m\u001b[m/\n"
     ]
    }
   ],
   "source": [
    "%cd /Users/brodzik/projects/CHARIS/basins/major_basins_from_GRDC/MODIStiles\n",
    "%ls\n"
   ]
  },
  {
   "cell_type": "code",
   "execution_count": 3,
   "metadata": {},
   "outputs": [],
   "source": [
    "majorBasinIDs = [\"SY_SyrDarya_at_TyumenAryk\"]\n",
    "#                 \"AM_AmuDarya_at_Chatly\",\n",
    "#                 \"AM_AmuDarya_at_Chatly_noholes\",\n",
    "#                 \"IN_Indus_at_Kotri\",\n",
    "#                 \"IN_Indus_at_Kotri_nolobe\",\n",
    "#                 \"IN_Indus_at_Kotri_nolobe_gcs_noholes\",\n",
    "#                 \"GA_Ganges_at_Paksey\",\n",
    "#                 \"BR_Bramaputra_at_Bahadurabad\",\n",
    "#                 \"BR_Bramaputra_at_Bahadurabad_noholes\"]"
   ]
  },
  {
   "cell_type": "code",
   "execution_count": null,
   "metadata": {},
   "outputs": [],
   "source": []
  },
  {
   "cell_type": "code",
   "execution_count": null,
   "metadata": {},
   "outputs": [],
   "source": [
    "def display_basin_mask(file):\n",
    "    data = read_tile(filename=file)\n",
    "    fig, ax = plt.subplots()\n",
    "    print(np.amin(data), np.amax(data))\n",
    "    ax.imshow(data, cmap='Greys', vmin=np.amin(data), vmax=np.amax(data), interpolation='None')\n",
    "    ax.set_title(file)\n",
    "    plt.axis('off')"
   ]
  },
  {
   "cell_type": "code",
   "execution_count": 5,
   "metadata": {},
   "outputs": [
    {
     "name": "stdout",
     "output_type": "stream",
     "text": [
      "('file=', 'SY_SyrDarya_at_TyumenAryk_h22v04.tif')\n",
      "('shape=', (79258,))\n",
      "area= 17013.417163\n",
      "('file=', 'SY_SyrDarya_at_TyumenAryk_h23v04.tif')\n",
      "('shape=', (977815,))\n",
      "area= 209896.471057\n",
      "('file=', 'SY_SyrDarya_at_TyumenAryk_h23v05.tif')\n",
      "('shape=', (103223,))\n",
      "area= 22157.712279\n",
      "SY_SyrDarya_at_TyumenAryk total area= 249067.600499\n"
     ]
    }
   ],
   "source": [
    "for i in np.arange(len(majorBasinIDs)):\n",
    "    \n",
    "    list = glob.glob(\"%s_h[0-9][0-9]v*.tif\" % majorBasinIDs[i])\n",
    "\n",
    "    total_area = 0.\n",
    "    for file in sort(list):\n",
    "        print(\"file=\", file)\n",
    "        data = read_tile(filename=file)\n",
    "        w2 = data[data == 1]\n",
    "        print(\"shape=\", w2.shape)\n",
    "        area = w2.shape[0] * 463.312717 * 463.312717 / (1000. * 1000.)\n",
    "        print(\"area= %f\" % area)\n",
    "        total_area = total_area + area\n",
    "    \n",
    "    print(\"%s total area= %f\" % (majorBasinIDs[i], total_area))\n",
    "    \n"
   ]
  },
  {
   "cell_type": "markdown",
   "metadata": {},
   "source": [
    "# Sanity check on MODICE area in major basin"
   ]
  },
  {
   "cell_type": "code",
   "execution_count": 15,
   "metadata": {},
   "outputs": [
    {
     "data": {
      "text/plain": [
       "{'dir': '%MODEL_TOP_DIR%/basins/major_basins_from_GRDC/MODIStiles/', 'pattern': '%DRAINAGEID%_%TILEID%.tif', 'id': 'CHARIS'}"
      ]
     },
     "execution_count": 15,
     "metadata": {},
     "output_type": "execute_result"
    }
   ],
   "source": [
    "configFile = '/Users/brodzik/ipython_notebooks/charis/calibration_modelEnv_config.ini'\n",
    "myEnv = ModelEnv(tileConfigFile=configFile)\n",
    "myEnv.tileConfig['input']['fixed']['basin_mask']"
   ]
  },
  {
   "cell_type": "code",
   "execution_count": 16,
   "metadata": {},
   "outputs": [
    {
     "name": "stderr",
     "output_type": "stream",
     "text": [
      "> charistools.modelEnv: fixed_filename is /Users/brodzik/projects/CHARIS/elevation_data/SRTMGL3_version2_SIN/CHARIS_DEM.v2.0.h22v04.tif; file_exists=True\n",
      "> charistools.modelEnv: fixed_filename is /Users/brodzik/projects/CHARIS/basins/major_basins_from_GRDC/MODIStiles/SY_SyrDarya_at_TyumenAryk_h22v04.tif; file_exists=True\n",
      "> charistools.modelEnv: fixed_filename is /Users/brodzik/projects/CHARIS/snow_cover/modice.v0.4/min05yr_nc/MODICE.v0.4.h22v04.2strike.min05yr.mask.nc; file_exists=True\n",
      "> charistools.modelEnv: fixed_filename is /Users/brodzik/projects/CHARIS/elevation_data/SRTMGL3_version2_SIN/CHARIS_DEM.v2.0.h23v04.tif; file_exists=True\n",
      "> charistools.modelEnv: fixed_filename is /Users/brodzik/projects/CHARIS/basins/major_basins_from_GRDC/MODIStiles/SY_SyrDarya_at_TyumenAryk_h23v04.tif; file_exists=True\n",
      "> charistools.modelEnv: fixed_filename is /Users/brodzik/projects/CHARIS/snow_cover/modice.v0.4/min05yr_nc/MODICE.v0.4.h23v04.2strike.min05yr.mask.nc; file_exists=True\n",
      "> charistools.modelEnv: fixed_filename is /Users/brodzik/projects/CHARIS/elevation_data/SRTMGL3_version2_SIN/CHARIS_DEM.v2.0.h23v05.tif; file_exists=True\n",
      "> charistools.modelEnv: fixed_filename is /Users/brodzik/projects/CHARIS/basins/major_basins_from_GRDC/MODIStiles/SY_SyrDarya_at_TyumenAryk_h23v05.tif; file_exists=True\n",
      "> charistools.modelEnv: fixed_filename is /Users/brodzik/projects/CHARIS/snow_cover/modice.v0.4/min05yr_nc/MODICE.v0.4.h23v05.2strike.min05yr.mask.nc; file_exists=True\n"
     ]
    }
   ],
   "source": [
    "from \n",
    "hyps = Modice2Hypsometry(majorBasinIDs[0],\n",
    "                         myEnv,\n",
    "                        contour_m=100,\n",
    "                        modice_nstrikes=2,\n",
    "                      verbose=True)"
   ]
  },
  {
   "cell_type": "code",
   "execution_count": 17,
   "metadata": {},
   "outputs": [
    {
     "data": {
      "text/html": [
       "<div>\n",
       "<table border=\"1\" class=\"dataframe\">\n",
       "  <thead>\n",
       "    <tr style=\"text-align: right;\">\n",
       "      <th></th>\n",
       "      <th>100.0</th>\n",
       "      <th>200.0</th>\n",
       "      <th>300.0</th>\n",
       "      <th>400.0</th>\n",
       "      <th>500.0</th>\n",
       "      <th>600.0</th>\n",
       "      <th>700.0</th>\n",
       "      <th>800.0</th>\n",
       "      <th>900.0</th>\n",
       "      <th>1000.0</th>\n",
       "      <th>...</th>\n",
       "      <th>4600.0</th>\n",
       "      <th>4700.0</th>\n",
       "      <th>4800.0</th>\n",
       "      <th>4900.0</th>\n",
       "      <th>5000.0</th>\n",
       "      <th>5100.0</th>\n",
       "      <th>5200.0</th>\n",
       "      <th>5300.0</th>\n",
       "      <th>5400.0</th>\n",
       "      <th>5500.0</th>\n",
       "    </tr>\n",
       "    <tr>\n",
       "      <th>Date</th>\n",
       "      <th></th>\n",
       "      <th></th>\n",
       "      <th></th>\n",
       "      <th></th>\n",
       "      <th></th>\n",
       "      <th></th>\n",
       "      <th></th>\n",
       "      <th></th>\n",
       "      <th></th>\n",
       "      <th></th>\n",
       "      <th></th>\n",
       "      <th></th>\n",
       "      <th></th>\n",
       "      <th></th>\n",
       "      <th></th>\n",
       "      <th></th>\n",
       "      <th></th>\n",
       "      <th></th>\n",
       "      <th></th>\n",
       "      <th></th>\n",
       "      <th></th>\n",
       "    </tr>\n",
       "  </thead>\n",
       "  <tbody>\n",
       "    <tr>\n",
       "      <th>NoDate</th>\n",
       "      <td>0.0</td>\n",
       "      <td>0.0</td>\n",
       "      <td>0.0</td>\n",
       "      <td>0.0</td>\n",
       "      <td>0.0</td>\n",
       "      <td>0.0</td>\n",
       "      <td>0.0</td>\n",
       "      <td>0.0</td>\n",
       "      <td>0.0</td>\n",
       "      <td>0.0</td>\n",
       "      <td>...</td>\n",
       "      <td>102.392187</td>\n",
       "      <td>65.041578</td>\n",
       "      <td>31.984142</td>\n",
       "      <td>14.382131</td>\n",
       "      <td>8.371688</td>\n",
       "      <td>2.790563</td>\n",
       "      <td>1.717269</td>\n",
       "      <td>0.858635</td>\n",
       "      <td>0.429317</td>\n",
       "      <td>0.214659</td>\n",
       "    </tr>\n",
       "  </tbody>\n",
       "</table>\n",
       "<p>1 rows × 55 columns</p>\n",
       "</div>"
      ],
      "text/plain": [
       "        100.0   200.0   300.0   400.0   500.0   600.0   700.0   800.0   \\\n",
       "Date                                                                     \n",
       "NoDate     0.0     0.0     0.0     0.0     0.0     0.0     0.0     0.0   \n",
       "\n",
       "        900.0   1000.0    ...         4600.0     4700.0     4800.0     4900.0  \\\n",
       "Date                      ...                                                   \n",
       "NoDate     0.0     0.0    ...     102.392187  65.041578  31.984142  14.382131   \n",
       "\n",
       "          5000.0    5100.0    5200.0    5300.0    5400.0    5500.0  \n",
       "Date                                                                \n",
       "NoDate  8.371688  2.790563  1.717269  0.858635  0.429317  0.214659  \n",
       "\n",
       "[1 rows x 55 columns]"
      ]
     },
     "execution_count": 17,
     "metadata": {},
     "output_type": "execute_result"
    }
   ],
   "source": [
    "hyps.data\n"
   ]
  },
  {
   "cell_type": "code",
   "execution_count": null,
   "metadata": {
    "scrolled": false
   },
   "outputs": [],
   "source": [
    "list = glob.glob(\"%s_h[0-9][0-9]v*.tif\" % majorBasinIDs[1])\n",
    "\n",
    "for file in sort(list):\n",
    "    display_basin_mask(file)\n",
    "\n",
    "#plt.close('all')\n"
   ]
  },
  {
   "cell_type": "code",
   "execution_count": null,
   "metadata": {
    "scrolled": false
   },
   "outputs": [],
   "source": [
    "df = pd.DataFrame(list, columns = [\"File\"])\n",
    "df[\"basename\"] = [re.search('(.+_OBJECTID[0-9]{1,3})', file).group(1) for file in df[\"File\"]]\n",
    "df[\"tileID\"] = [re.search('(h[0-9]{2}v[0-9]{2})', file).group(1) for file in df[\"File\"]]\n",
    "df"
   ]
  },
  {
   "cell_type": "code",
   "execution_count": null,
   "metadata": {},
   "outputs": [],
   "source": [
    "print(set(df[\"tileID\"]))"
   ]
  },
  {
   "cell_type": "code",
   "execution_count": null,
   "metadata": {
    "scrolled": false
   },
   "outputs": [],
   "source": [
    "# Count the number of tiles per basin\n",
    "basins = df.groupby(['basename'], as_index=False).count().sort_values(by=[\"File\", \"basename\"])\n",
    "basins.drop('tileID', axis=1, inplace=True)\n",
    "basins.columns = ['basename', 'num_tiles']\n",
    "basins"
   ]
  },
  {
   "cell_type": "code",
   "execution_count": null,
   "metadata": {},
   "outputs": [],
   "source": [
    "# Get the basin prefix (basically the 2-letter ID) for output files\n",
    "basin_prefix = re.search('(..)_', basins[\"basename\"][0]).group(1)\n",
    "for num_tiles in set(basins[\"num_tiles\"]):\n",
    "    out_filename = \"%s_%dtile_basins.txt\" % (basin_prefix, num_tiles)\n",
    "    print(\"out file: \", out_filename)\n",
    "    out_fh = open(out_filename, 'w')\n",
    "    for subbasin in basins[basins[\"num_tiles\"] == num_tiles][\"basename\"].values:\n",
    "        # Get the list of tileIDs for this basin\n",
    "        out_fh.write(\"%s\\n\" % subbasin)\n",
    "    out_fh.close()"
   ]
  },
  {
   "cell_type": "code",
   "execution_count": null,
   "metadata": {},
   "outputs": [],
   "source": [
    "%cat GA_4tile_basins.txt"
   ]
  },
  {
   "cell_type": "code",
   "execution_count": null,
   "metadata": {},
   "outputs": [],
   "source": [
    "%cat SY_3tile_basins.txt"
   ]
  },
  {
   "cell_type": "code",
   "execution_count": null,
   "metadata": {},
   "outputs": [],
   "source": [
    "%cat SY_2tile_basins.txt"
   ]
  },
  {
   "cell_type": "code",
   "execution_count": null,
   "metadata": {},
   "outputs": [],
   "source": [
    "%cat SY_1tile_basins.txt"
   ]
  },
  {
   "cell_type": "code",
   "execution_count": null,
   "metadata": {
    "scrolled": false
   },
   "outputs": [],
   "source": [
    "# Special processing if we need to separate out basins that intersect only certain tiles\n",
    "# Get the basin prefix (basically the 2-letter ID) for output files\n",
    "basin_prefix = re.search('(..)_', basins[\"basename\"][0]).group(1)\n",
    "for num_tiles in set(basins[\"num_tiles\"]):\n",
    "    wh23_4_filename = \"%s_%dtile_basins_with_h23-4.txt\" % (basin_prefix, num_tiles)\n",
    "    other_filename = \"%s_%dtile_basins_other.txt\" % (basin_prefix, num_tiles)\n",
    "    print(\"next file: \", wh23_4_filename)\n",
    "    print(\"other file: \", other_filename)\n",
    "    h23_fh = open(wh23_4_filename, 'w')\n",
    "    other_fh = open(other_filename, 'w')\n",
    "    for subbasin in basins[basins[\"num_tiles\"] == num_tiles][\"basename\"].values:\n",
    "        # Get the list of tileIDs for this basin\n",
    "        # Skip this basin if tileIDs include anything other than: [h23v05 h24v05]\n",
    "        h23_4_basin = True\n",
    "        for tileID in df.loc[df['basename'] == subbasin][\"tileID\"].values:\n",
    "            if re.search('(h2[34]v05)', tileID):\n",
    "                print(\"have this one\")\n",
    "            else:\n",
    "                print(\"Don't have tileID=%s, need to skip basin=%s\" % (tileID, subbasin))\n",
    "                h23_4_basin=False\n",
    "        if h23_4_basin:\n",
    "            print(\"H23-4 BASIN: %s: %s\" % (subbasin, ' '.join(df.loc[df['basename'] == subbasin][\"tileID\"].values)))\n",
    "            h23_fh.write(\"%s\\n\" % subbasin)\n",
    "        else:\n",
    "            print(\"OTHER BASIN: %s: %s\" % (subbasin, ' '.join(df.loc[df['basename'] == subbasin][\"tileID\"].values)))\n",
    "            other_fh.write(\"%s\\n\" % subbasin)\n",
    "    h23_fh.close()\n",
    "    other_fh.close()"
   ]
  },
  {
   "cell_type": "code",
   "execution_count": null,
   "metadata": {
    "scrolled": true
   },
   "outputs": [],
   "source": [
    "%cat IN_2tile_basins_with_h23-4.txt"
   ]
  },
  {
   "cell_type": "code",
   "execution_count": null,
   "metadata": {},
   "outputs": [],
   "source": [
    "%cat IN_2tile_basins_other.txt"
   ]
  },
  {
   "cell_type": "code",
   "execution_count": null,
   "metadata": {},
   "outputs": [],
   "source": [
    "%cat IN_1tile_basins_with_h23-4.txt"
   ]
  },
  {
   "cell_type": "code",
   "execution_count": null,
   "metadata": {},
   "outputs": [],
   "source": [
    "%cat IN_1tile_basins_other.txt"
   ]
  },
  {
   "cell_type": "code",
   "execution_count": null,
   "metadata": {},
   "outputs": [],
   "source": []
  }
 ],
 "metadata": {
  "kernelspec": {
   "display_name": "Python 2",
   "language": "python",
   "name": "python2"
  },
  "language_info": {
   "codemirror_mode": {
    "name": "ipython",
    "version": 2
   },
   "file_extension": ".py",
   "mimetype": "text/x-python",
   "name": "python",
   "nbconvert_exporter": "python",
   "pygments_lexer": "ipython2",
   "version": "2.7.15"
  }
 },
 "nbformat": 4,
 "nbformat_minor": 1
}
