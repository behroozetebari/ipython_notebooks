{
 "cells": [
  {
   "cell_type": "code",
   "execution_count": null,
   "metadata": {},
   "outputs": [],
   "source": [
    "%pylab notebook\n",
    "from charistools.readers import read_tile\n",
    "import glob\n",
    "import numpy as np\n",
    "import matplotlib.pyplot as plt\n",
    "import pandas as pd\n",
    "import re\n",
    "pd.options.display.max_rows = 200"
   ]
  },
  {
   "cell_type": "code",
   "execution_count": null,
   "metadata": {},
   "outputs": [],
   "source": [
    "%cd /Users/brodzik/projects/CHARIS/basins/major_basins_from_GRDC/MODIStiles\n",
    "%ls\n"
   ]
  },
  {
   "cell_type": "code",
   "execution_count": null,
   "metadata": {},
   "outputs": [],
   "source": [
    "majorBasinIDs = [#\"SY_SyrDarya_at_TyumenAryk\",\n",
    "                 \"AM_AmuDarya_at_Chatly\",\n",
    "                 \"AM_AmuDarya_at_Chatly_noholes\"]\n",
    "#                 \"IN_Indus_at_Kotri\",\n",
    "#                 \"IN_Indus_at_Kotri_nolobe\",\n",
    "#                 \"IN_Indus_at_Kotri_nolobe_gcs_noholes\",\n",
    "#                 \"GA_Ganges_at_Paksey\",\n",
    "#                 \"BR_Bramaputra_at_Bahadurabad\",\n",
    "#                 \"BR_Bramaputra_at_Bahadurabad_noholes\"]"
   ]
  },
  {
   "cell_type": "code",
   "execution_count": null,
   "metadata": {},
   "outputs": [],
   "source": []
  },
  {
   "cell_type": "code",
   "execution_count": null,
   "metadata": {},
   "outputs": [],
   "source": [
    "def display_basin_mask(file):\n",
    "    data = read_tile(filename=file)\n",
    "    fig, ax = plt.subplots()\n",
    "    print(np.amin(data), np.amax(data))\n",
    "    ax.imshow(data, cmap='Greys', vmin=np.amin(data), vmax=np.amax(data), interpolation='None')\n",
    "    ax.set_title(file)\n",
    "    plt.axis('off')"
   ]
  },
  {
   "cell_type": "code",
   "execution_count": null,
   "metadata": {},
   "outputs": [],
   "source": [
    "for i in np.arange(len(majorBasinIDs)):\n",
    "    \n",
    "    list = glob.glob(\"%s_h[0-9][0-9]v*.tif\" % majorBasinIDs[i])\n",
    "\n",
    "    total_area = 0.\n",
    "    for file in sort(list):\n",
    "        print(\"file=\", file)\n",
    "        data = read_tile(filename=file)\n",
    "        w2 = data[data == 1]\n",
    "        print(\"shape=\", w2.shape)\n",
    "        area = w2.shape[0] * 463. * 463. / (1000. * 1000.)\n",
    "        print(\"area= %f\" % area)\n",
    "        total_area = total_area + area\n",
    "    \n",
    "    print(\"%s total area= %f\" % (majorBasinIDs[i], total_area))\n",
    "    \n"
   ]
  },
  {
   "cell_type": "code",
   "execution_count": null,
   "metadata": {
    "scrolled": false
   },
   "outputs": [],
   "source": [
    "list = glob.glob(\"%s_h[0-9][0-9]v*.tif\" % majorBasinIDs[1])\n",
    "\n",
    "for file in sort(list):\n",
    "    display_basin_mask(file)\n",
    "\n",
    "#plt.close('all')\n"
   ]
  },
  {
   "cell_type": "code",
   "execution_count": null,
   "metadata": {
    "scrolled": false
   },
   "outputs": [],
   "source": [
    "df = pd.DataFrame(list, columns = [\"File\"])\n",
    "df[\"basename\"] = [re.search('(.+_OBJECTID[0-9]{1,3})', file).group(1) for file in df[\"File\"]]\n",
    "df[\"tileID\"] = [re.search('(h[0-9]{2}v[0-9]{2})', file).group(1) for file in df[\"File\"]]\n",
    "df"
   ]
  },
  {
   "cell_type": "code",
   "execution_count": null,
   "metadata": {},
   "outputs": [],
   "source": [
    "print(set(df[\"tileID\"]))"
   ]
  },
  {
   "cell_type": "code",
   "execution_count": null,
   "metadata": {
    "scrolled": false
   },
   "outputs": [],
   "source": [
    "# Count the number of tiles per basin\n",
    "basins = df.groupby(['basename'], as_index=False).count().sort_values(by=[\"File\", \"basename\"])\n",
    "basins.drop('tileID', axis=1, inplace=True)\n",
    "basins.columns = ['basename', 'num_tiles']\n",
    "basins"
   ]
  },
  {
   "cell_type": "code",
   "execution_count": null,
   "metadata": {},
   "outputs": [],
   "source": [
    "# Get the basin prefix (basically the 2-letter ID) for output files\n",
    "basin_prefix = re.search('(..)_', basins[\"basename\"][0]).group(1)\n",
    "for num_tiles in set(basins[\"num_tiles\"]):\n",
    "    out_filename = \"%s_%dtile_basins.txt\" % (basin_prefix, num_tiles)\n",
    "    print(\"out file: \", out_filename)\n",
    "    out_fh = open(out_filename, 'w')\n",
    "    for subbasin in basins[basins[\"num_tiles\"] == num_tiles][\"basename\"].values:\n",
    "        # Get the list of tileIDs for this basin\n",
    "        out_fh.write(\"%s\\n\" % subbasin)\n",
    "    out_fh.close()"
   ]
  },
  {
   "cell_type": "code",
   "execution_count": null,
   "metadata": {},
   "outputs": [],
   "source": [
    "%cat GA_4tile_basins.txt"
   ]
  },
  {
   "cell_type": "code",
   "execution_count": null,
   "metadata": {},
   "outputs": [],
   "source": [
    "%cat SY_3tile_basins.txt"
   ]
  },
  {
   "cell_type": "code",
   "execution_count": null,
   "metadata": {},
   "outputs": [],
   "source": [
    "%cat SY_2tile_basins.txt"
   ]
  },
  {
   "cell_type": "code",
   "execution_count": null,
   "metadata": {},
   "outputs": [],
   "source": [
    "%cat SY_1tile_basins.txt"
   ]
  },
  {
   "cell_type": "code",
   "execution_count": null,
   "metadata": {
    "scrolled": false
   },
   "outputs": [],
   "source": [
    "# Special processing if we need to separate out basins that intersect only certain tiles\n",
    "# Get the basin prefix (basically the 2-letter ID) for output files\n",
    "basin_prefix = re.search('(..)_', basins[\"basename\"][0]).group(1)\n",
    "for num_tiles in set(basins[\"num_tiles\"]):\n",
    "    wh23_4_filename = \"%s_%dtile_basins_with_h23-4.txt\" % (basin_prefix, num_tiles)\n",
    "    other_filename = \"%s_%dtile_basins_other.txt\" % (basin_prefix, num_tiles)\n",
    "    print(\"next file: \", wh23_4_filename)\n",
    "    print(\"other file: \", other_filename)\n",
    "    h23_fh = open(wh23_4_filename, 'w')\n",
    "    other_fh = open(other_filename, 'w')\n",
    "    for subbasin in basins[basins[\"num_tiles\"] == num_tiles][\"basename\"].values:\n",
    "        # Get the list of tileIDs for this basin\n",
    "        # Skip this basin if tileIDs include anything other than: [h23v05 h24v05]\n",
    "        h23_4_basin = True\n",
    "        for tileID in df.loc[df['basename'] == subbasin][\"tileID\"].values:\n",
    "            if re.search('(h2[34]v05)', tileID):\n",
    "                print(\"have this one\")\n",
    "            else:\n",
    "                print(\"Don't have tileID=%s, need to skip basin=%s\" % (tileID, subbasin))\n",
    "                h23_4_basin=False\n",
    "        if h23_4_basin:\n",
    "            print(\"H23-4 BASIN: %s: %s\" % (subbasin, ' '.join(df.loc[df['basename'] == subbasin][\"tileID\"].values)))\n",
    "            h23_fh.write(\"%s\\n\" % subbasin)\n",
    "        else:\n",
    "            print(\"OTHER BASIN: %s: %s\" % (subbasin, ' '.join(df.loc[df['basename'] == subbasin][\"tileID\"].values)))\n",
    "            other_fh.write(\"%s\\n\" % subbasin)\n",
    "    h23_fh.close()\n",
    "    other_fh.close()"
   ]
  },
  {
   "cell_type": "code",
   "execution_count": null,
   "metadata": {
    "scrolled": true
   },
   "outputs": [],
   "source": [
    "%cat IN_2tile_basins_with_h23-4.txt"
   ]
  },
  {
   "cell_type": "code",
   "execution_count": null,
   "metadata": {},
   "outputs": [],
   "source": [
    "%cat IN_2tile_basins_other.txt"
   ]
  },
  {
   "cell_type": "code",
   "execution_count": null,
   "metadata": {},
   "outputs": [],
   "source": [
    "%cat IN_1tile_basins_with_h23-4.txt"
   ]
  },
  {
   "cell_type": "code",
   "execution_count": null,
   "metadata": {},
   "outputs": [],
   "source": [
    "%cat IN_1tile_basins_other.txt"
   ]
  },
  {
   "cell_type": "code",
   "execution_count": null,
   "metadata": {},
   "outputs": [],
   "source": []
  }
 ],
 "metadata": {
  "kernelspec": {
   "display_name": "Python 2",
   "language": "python",
   "name": "python2"
  },
  "language_info": {
   "codemirror_mode": {
    "name": "ipython",
    "version": 2
   },
   "file_extension": ".py",
   "mimetype": "text/x-python",
   "name": "python",
   "nbconvert_exporter": "python",
   "pygments_lexer": "ipython2",
   "version": "2.7.15"
  }
 },
 "nbformat": 4,
 "nbformat_minor": 1
}
