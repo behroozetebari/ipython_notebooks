{
 "cells": [
  {
   "cell_type": "code",
   "execution_count": null,
   "metadata": {},
   "outputs": [],
   "source": [
    "%pylab notebook\n",
    "from __future__ import print_function\n",
    "from charistools.convertors import ET2Hypsometry\n",
    "from charistools.hypsometry import Hypsometry\n",
    "from charistools.modelEnv import ModelEnv\n",
    "import datetime as dt\n",
    "import matplotlib.pyplot as plt\n",
    "import os"
   ]
  },
  {
   "cell_type": "code",
   "execution_count": null,
   "metadata": {
    "collapsed": true
   },
   "outputs": [],
   "source": [
    "configFile = '/Users/brodzik/ipython_notebooks/charis/et_modelEnv_config.ini'\n",
    "myEnv = ModelEnv(tileConfigFile=configFile)\n",
    "#basins = ['AM_Vakhsh_at_Komsomolabad',\n",
    "#          'GA_Karnali_at_Benighat',\n",
    "#          'GA_Langtang_at_Kyanjin',\n",
    "#          'GA_Narayani_at_Devghat',\n",
    "#          'GA_SaptaKosi_at_Chatara',\n",
    "#          'IN_Hunza_at_DainyorBridge']\n",
    "ids = ['AM', 'BR', 'IN_v01', 'GA_v01', 'SY_v01']\n"
   ]
  },
  {
   "cell_type": "code",
   "execution_count": null,
   "metadata": {
    "collapsed": true
   },
   "outputs": [],
   "source": [
    "fullbasins = [\"%s_fullbasinmasks\" % id for id in ids]\n",
    "snowybasins = [\"%s_snow_fullbasinmasks\" % id for id in ids]"
   ]
  },
  {
   "cell_type": "code",
   "execution_count": null,
   "metadata": {
    "collapsed": true
   },
   "outputs": [],
   "source": [
    "basins = snowybasins + fullbasins\n",
    "basins[7:]\n"
   ]
  },
  {
   "cell_type": "code",
   "execution_count": null,
   "metadata": {
    "collapsed": true,
    "scrolled": true
   },
   "outputs": [],
   "source": [
    "for basin in basins[7:]:\n",
    "    outfile = myEnv.hypsometry_filename(\n",
    "        type='et_by_elevation',\n",
    "        drainageID=basin,\n",
    "        et_source='mod16')\n",
    "    by_elev = ET2Hypsometry(drainageID=basin,\n",
    "                            modelEnv=myEnv,\n",
    "                            start_yyyymm=200101,\n",
    "                            stop_yyyymm=201412,\n",
    "                            decimal_places=9,\n",
    "                            outfile=outfile,\n",
    "                            verbose=True)"
   ]
  },
  {
   "cell_type": "code",
   "execution_count": null,
   "metadata": {
    "scrolled": false
   },
   "outputs": [],
   "source": [
    "basin='SY_Naryn_at_NarynTown'\n",
    "outfile = myEnv.hypsometry_filename(\n",
    "        type='et_by_elevation',\n",
    "        drainageID=basin,\n",
    "        et_source='mod16')\n",
    "#by_elev = ET2Hypsometry(drainageID=basin,\n",
    "#                        modelEnv=myEnv,\n",
    "#                        start_yyyymm=200101,\n",
    "#                        stop_yyyymm=201412,\n",
    "#                        decimal_places=9,\n",
    "#                        outfile=outfile,\n",
    "#                        verbose=True)\n",
    "outfile"
   ]
  },
  {
   "cell_type": "code",
   "execution_count": null,
   "metadata": {
    "collapsed": true
   },
   "outputs": [],
   "source": [
    "by_elev = Hypsometry(outfile)"
   ]
  },
  {
   "cell_type": "code",
   "execution_count": null,
   "metadata": {
    "collapsed": true,
    "scrolled": true
   },
   "outputs": [],
   "source": [
    "by_elev.data"
   ]
  },
  {
   "cell_type": "code",
   "execution_count": null,
   "metadata": {},
   "outputs": [],
   "source": [
    "# Collapse the ET by elevation into just a time series by date:\n",
    "monthlyET_file = \"/Users/brodzik/projects/CHARIS/evapotranspiration/mod16/%s.mod16.ET.csv\" % basin\n",
    "monthlyET_file"
   ]
  },
  {
   "cell_type": "code",
   "execution_count": null,
   "metadata": {
    "collapsed": true
   },
   "outputs": [],
   "source": [
    "by_elev.data_by_doy()"
   ]
  },
  {
   "cell_type": "code",
   "execution_count": null,
   "metadata": {
    "collapsed": true,
    "scrolled": false
   },
   "outputs": [],
   "source": [
    "\n",
    "comments=[\"Time Series created : \" + str(dt.datetime.now()),\n",
    "          \"MOD16 ET for drainageID : %s\" % basin,\n",
    "          \"Units : km^3\",\n",
    "          \"Hypsometry used to derive this time series: %s\" % os.path.basename(outfile),\n",
    "          \"COLUMNS: Year Month Day DOY ET\"]\n",
    "f = open(monthlyET_file, \"w\")\n",
    "for line in comments:\n",
    "    f.write(\"# %s\\n\" % line)\n",
    "for key,value in by_elev.data_by_doy().iteritems():\n",
    "    print(\"%4d %2d %2d %3d %.9f\" % (key.year, key.month, key.day, key.dayofyear, value),\n",
    "          file=f)\n",
    "f.close()"
   ]
  },
  {
   "cell_type": "code",
   "execution_count": null,
   "metadata": {
    "collapsed": true
   },
   "outputs": [],
   "source": [
    "fig, ax = plt.subplots(1)\n",
    "by_elev.data_by_doy().plot(label=\"from ET_by_elevation\")\n",
    "ax.legend()\n",
    "ax.set_title(\"%s ET\" % basin)"
   ]
  },
  {
   "cell_type": "code",
   "execution_count": null,
   "metadata": {
    "collapsed": true
   },
   "outputs": [],
   "source": [
    "fig, ax = plt.subplots(1)\n",
    "by_elev.imshow(ax=ax, title=basin + ' ET', cmap='Greens_r', \n",
    "               xlabel='Date', dateFormat='%b', ylabel='Elevation ($m$)',\n",
    "               vmax=0.049)"
   ]
  },
  {
   "cell_type": "code",
   "execution_count": null,
   "metadata": {
    "collapsed": true
   },
   "outputs": [],
   "source": [
    "# Read the annual file that Karl produced before\n",
    "from charistools.timeSeries import TimeSeries\n",
    "origfile = '/Users/brodzik/projects/CHARIS/evapotranspiration/mod16/IN_Hunza_at_DainyorBridge.mod16.ET.csv'\n",
    "origts = TimeSeries(origfile)"
   ]
  },
  {
   "cell_type": "code",
   "execution_count": null,
   "metadata": {
    "collapsed": true,
    "scrolled": false
   },
   "outputs": [],
   "source": [
    "fig, ax = plt.subplots(1)\n",
    "origts.data['et'].plot(label=\"Karl's ET\")\n",
    "by_elev.data_by_doy().plot(label=\"from ET_by_elevation\")\n",
    "ax.legend()\n",
    "ax.set_title(\"%s ET\" % basin)\n",
    "plt.savefig(\"/Users/brodzik/projects/CHARIS/evapotranspiration/mod16/Hunza_ET_orig_vs_by_elev.png\")"
   ]
  },
  {
   "cell_type": "code",
   "execution_count": null,
   "metadata": {},
   "outputs": [],
   "source": [
    "from charistools.timeSeries import TimeSeries\n",
    "et = TimeSeries(monthlyET_file)\n",
    "print(et.comments)\n",
    "print(et.data)"
   ]
  },
  {
   "cell_type": "code",
   "execution_count": null,
   "metadata": {
    "collapsed": true
   },
   "outputs": [],
   "source": []
  }
 ],
 "metadata": {
  "kernelspec": {
   "display_name": "Python 2",
   "language": "python",
   "name": "python2"
  },
  "language_info": {
   "codemirror_mode": {
    "name": "ipython",
    "version": 2
   },
   "file_extension": ".py",
   "mimetype": "text/x-python",
   "name": "python",
   "nbconvert_exporter": "python",
   "pygments_lexer": "ipython2",
   "version": "2.7.13"
  }
 },
 "nbformat": 4,
 "nbformat_minor": 1
}
