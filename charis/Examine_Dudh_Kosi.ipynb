{
 "cells": [
  {
   "cell_type": "markdown",
   "metadata": {},
   "source": [
    "# Examine Dudh Kosi ti-melt model inputs and results"
   ]
  },
  {
   "cell_type": "code",
   "execution_count": null,
   "metadata": {},
   "outputs": [],
   "source": [
    "from __future__ import print_function\n",
    "%pylab notebook\n",
    "import datetime as dt\n",
    "import glob\n",
    "import matplotlib.pyplot as plt\n",
    "import pdb\n",
    "from charistools.hypsometry import Hypsometry\n",
    "from charistools.meltModels import ImshowTriSurfMelt\n",
    "from charistools.meltModels import PlotTriSurfInput\n",
    "from charistools.meltModels import PlotTriSurfMelt\n",
    "from charistools.modelEnv import ModelEnv\n",
    "from charistools.timeSeries import TimeSeries\n",
    "import pandas as pd\n",
    "import re\n",
    "import os"
   ]
  },
  {
   "cell_type": "markdown",
   "metadata": {},
   "source": [
    "# Look at SOL input and melt for basin id 11066"
   ]
  },
  {
   "cell_type": "code",
   "execution_count": null,
   "metadata": {},
   "outputs": [],
   "source": [
    "#on Summit:\n",
    "#dir = '/work/charis/ti_model/derived_hypsometries/partner_basins/GA_DudhKosi_at_GokyoHydroID11066'\n",
    "#on macice:\n",
    "dir = '/Users/brodzik/modscag'\n",
    "%cd $dir\n",
    "%ls *2012*2strike*\n",
    "\n",
    "nstrikes = 2\n",
    "year = 2012\n",
    "solHyps = Hypsometry('GA_DudhKosi_at_GokyoHydroID11066.2012.0100m.modicev04_2strike.snow_on_land_area_by_elev.txt')\n",
    "solMeltHyps = Hypsometry('GA_DudhKosi_at_GokyoHydroID11066.2012.0100m.modicev04_2strike.snow_on_land_melt_by_elev.best_Karnali_SA_model.txt')\n"
   ]
  },
  {
   "cell_type": "code",
   "execution_count": null,
   "metadata": {
    "scrolled": true
   },
   "outputs": [],
   "source": [
    "solHyps.data"
   ]
  },
  {
   "cell_type": "code",
   "execution_count": null,
   "metadata": {},
   "outputs": [],
   "source": [
    "sol_by_doy = solHyps.data_by_doy()\n",
    "sol_melt_by_doy = solMeltHyps.data_by_doy()"
   ]
  },
  {
   "cell_type": "code",
   "execution_count": null,
   "metadata": {
    "scrolled": true
   },
   "outputs": [],
   "source": [
    "sol_by_doy"
   ]
  },
  {
   "cell_type": "code",
   "execution_count": null,
   "metadata": {},
   "outputs": [],
   "source": [
    "sol_melt_by_month = sol_melt_by_doy.groupby([pd.TimeGrouper('M')]).sum().to_frame(name='melt')\n",
    "yyyymm_index = pd.to_datetime(sol_melt_by_month.index.map(lambda x: x.strftime('%Y-%m-15')))\n",
    "df = pd.DataFrame(data=sol_melt_by_month.values, index=yyyymm_index, columns=['melt'])\n",
    "df['SOLmelt'] = sol_melt_by_doy.groupby([pd.TimeGrouper('M')]).sum().values\n",
    "df\n",
    "#sol_melt_by_month\n",
    "    "
   ]
  },
  {
   "cell_type": "code",
   "execution_count": null,
   "metadata": {},
   "outputs": [],
   "source": [
    "import matplotlib.dates as mdates\n",
    "\n",
    "fig, ax = plt.subplots(3, 1, figsize=(10,6))\n",
    "ax[0].plot(sol_by_doy)\n",
    "ax[0].set_title('Dudh Kosi Basin Snow Covered Area 2012')\n",
    "ax[0].set_ylabel('Area (' + r'$km^2$' + ')') \n",
    "\n",
    "ax[1].plot(sol_melt_by_doy)\n",
    "ax[1].set_title('Dudh Kosi Basin SOL Modeled Melt Volume 2012')\n",
    "ax[1].set_ylabel('Volume (' + r'$km^3$' + ')') \n",
    "\n",
    "start = dt.datetime(2012,1,1)\n",
    "end = dt.datetime(2012,12,31)\n",
    "dates_list = [start + dt.timedelta(days=x) for x in range(0, (end-start).days+1)]\n",
    "\n",
    "myFmt = mdates.DateFormatter('%m/%d') \n",
    "months = mdates.MonthLocator()  \n",
    "days = mdates.DayLocator(bymonthday=(1))   \n",
    "dayss = mdates.DayLocator()\n",
    "\n",
    "for i in np.arange(2):\n",
    "    ax[i].set_xlim(dates_list[0],dates_list[-1])\n",
    "    ax[i].xaxis.set_major_formatter(myFmt)\n",
    "    ax[i].xaxis.set_major_locator(days)\n",
    "    ax[i].xaxis.set_minor_locator(dayss)\n",
    "    \n",
    "ylim = np.amax(df[\"SOLmelt\"])\n",
    "ylim_min = 0.\n",
    "df[[\"SOLmelt\"]].plot(ax=ax[2], kind=\"bar\",\n",
    "                     edgecolor=(0.9, 0.9, 0.9))\n",
    "ax[2].set_title(\"Monthly SOL Modeled Melt Volume 2012\")\n",
    "ax[2].set_ylabel('Volume (' + r'$km^3$' + ')') \n",
    "ax[2].xaxis.set_major_formatter(plt.NullFormatter())\n",
    "#for container in ax[2].containers:\n",
    "#    plt.setp(container, width=0.25)\n",
    "ax[2].set_ylim([1.1 * ylim_min, 1.1 * ylim])\n",
    "#ax[2].text(ax[2].get_xlim()[0] + (0.03 * (ax[2].get_xlim()[1] - ax[2].get_xlim()[0])),\n",
    "#          ax[2].get_ylim()[1] * 0.7,\n",
    "#          monthly_annotation,\n",
    "#          style='italic',\n",
    "#          bbox={'facecolor':'gray', 'alpha':0.1, 'pad':10})\n",
    "#        handles, labels = ax[2].get_legend_handles_labels()\n",
    "#ax[3].legend(loc='upper right')    \n",
    "\n",
    "fig.tight_layout()\n",
    "outfile = \"basin_SOL_area_and_melt.2012.png\"\n",
    "fig.savefig(outfile)\n",
    "print(\"Wrote melt_hyps to %s\" % outfile)\n",
    "\n"
   ]
  },
  {
   "cell_type": "code",
   "execution_count": null,
   "metadata": {},
   "outputs": [],
   "source": [
    "%pwd\n"
   ]
  },
  {
   "cell_type": "code",
   "execution_count": null,
   "metadata": {
    "scrolled": true
   },
   "outputs": [],
   "source": [
    "scag2015 = pd.read_csv('sca2015.txt', sep=' ')\n",
    "scag2015 = scag2015.set_index('Date')\n",
    "scag2015.index = pd.to_datetime(scag2015.index, format='%Y%m%d')\n",
    "scag2015"
   ]
  },
  {
   "cell_type": "code",
   "execution_count": null,
   "metadata": {
    "scrolled": true
   },
   "outputs": [],
   "source": [
    "scag2016 = pd.read_csv('sca2016.txt', sep=' ')\n",
    "scag2016 = scag2016.set_index('Date')\n",
    "scag2016.index = pd.to_datetime(scag2016.index, format='%Y%m%d')\n",
    "scag2016"
   ]
  },
  {
   "cell_type": "code",
   "execution_count": null,
   "metadata": {
    "scrolled": true
   },
   "outputs": [],
   "source": [
    "scag2012 = pd.read_csv('sca2012.txt', sep=' ')\n",
    "scag2012 = scag2012.set_index('Date')\n",
    "scag2012.index = pd.to_datetime(scag2012.index, format='%Y%m%d')\n",
    "scag2012"
   ]
  },
  {
   "cell_type": "code",
   "execution_count": null,
   "metadata": {
    "scrolled": true
   },
   "outputs": [],
   "source": [
    "tmp2016 = scag2016.copy()\n",
    "tmp2016"
   ]
  },
  {
   "cell_type": "code",
   "execution_count": null,
   "metadata": {
    "scrolled": true
   },
   "outputs": [],
   "source": [
    "tmp2016.index = tmp2016.index - pd.DateOffset(years=4)\n",
    "tmp2016"
   ]
  },
  {
   "cell_type": "code",
   "execution_count": null,
   "metadata": {
    "scrolled": true
   },
   "outputs": [],
   "source": [
    "tmp2015 = scag2015.copy()\n",
    "tmp2015.index = tmp2015.index - pd.DateOffset(years=3)\n",
    "tmp2015"
   ]
  },
  {
   "cell_type": "code",
   "execution_count": null,
   "metadata": {
    "scrolled": false
   },
   "outputs": [],
   "source": [
    "fig, ax = plt.subplots(1, 1, figsize=(10,6))\n",
    "\n",
    "ax.plot(tmp2016.SCA_km2, label='2016', color='green')\n",
    "ax.plot(tmp2015.SCA_km2, label='2015', color='purple')\n",
    "ax.plot(scag2012.SCA_km2, label='2012', color='orange')\n",
    "ax.set_ylabel('Area (' + r'$km^2$' + ')') \n",
    "\n",
    "ax.set_title('Dudh Kosi Basin Snow Covered Area from scag')\n",
    "ax.set_ylim([0., 1100.])\n",
    "\n",
    "start = dt.datetime(2012,1,1)\n",
    "end = dt.datetime(2012,12,31)\n",
    "dates_list = [start + dt.timedelta(days=x) for x in range(0, (end-start).days+1)]\n",
    "\n",
    "myFmt = mdates.DateFormatter('%m/%d') \n",
    "months = mdates.MonthLocator()  \n",
    "days = mdates.DayLocator(bymonthday=(1))   \n",
    "dayss = mdates.DayLocator()\n",
    "\n",
    "for i in np.arange(2):\n",
    "    ax.set_xlim(dates_list[0],dates_list[-1])\n",
    "    ax.xaxis.set_major_formatter(myFmt)\n",
    "    ax.xaxis.set_major_locator(days)\n",
    "    ax.xaxis.set_minor_locator(dayss)\n",
    "\n",
    "# myFmt = mdates.DateFormatter('%m/%d')\n",
    "# ax.xaxis.set_major_formatter(myFmt)\n",
    "\n",
    "ax.legend()\n",
    "fig.tight_layout()\n",
    "outfile = \"scag2012_vs_2016.from_h25v06.png\"\n",
    "outfile = \"scag2012_vs_2015_vs_2016.from_h25v06.png\"\n",
    "fig.savefig(outfile)\n",
    "print(\"Wrote to %s\" % outfile)\n"
   ]
  },
  {
   "cell_type": "code",
   "execution_count": null,
   "metadata": {},
   "outputs": [],
   "source": [
    "%pwd\n",
    "%ls *.mat\n"
   ]
  },
  {
   "cell_type": "code",
   "execution_count": null,
   "metadata": {},
   "outputs": [],
   "source": [
    "from scipy.io import loadmat"
   ]
  },
  {
   "cell_type": "markdown",
   "metadata": {},
   "source": [
    "# x = loadmat('test.mat')\n",
    "# lon = x['lon']\n",
    "# lat = x['lat']\n",
    "## one-liner to read a single variable\n",
    "# lon = loadmat('test.mat')['lon']"
   ]
  },
  {
   "cell_type": "code",
   "execution_count": null,
   "metadata": {},
   "outputs": [],
   "source": [
    "def read_sca_from_matfile(filename):\n",
    "    mdata = loadmat(filename)\n",
    "    \n",
    "    # Scale SCA array by 10000. to get fraction of pixel\n",
    "    matSCA = mdata['Sc'] / 10000.\n",
    "    RefMatrix = mdata['RefMatrix']\n",
    "    \n",
    "    # Return SCA and RefMatrix\n",
    "    return(matSCA, RefMatrix)\n"
   ]
  },
  {
   "cell_type": "code",
   "execution_count": null,
   "metadata": {},
   "outputs": [],
   "source": [
    "from charistools.readers import ModisTileCube\n"
   ]
  },
  {
   "cell_type": "code",
   "execution_count": null,
   "metadata": {},
   "outputs": [],
   "source": [
    "def read_sca_from_cubefile(cubeFilename, doy):\n",
    "    cube = ModisTileCube(cubeFilename, varname='fsca')\n",
    "    cubeSCA = cube.read(doy=doy)\n",
    "    cube.close()\n",
    "    return(cubeSCA)"
   ]
  },
  {
   "cell_type": "code",
   "execution_count": null,
   "metadata": {},
   "outputs": [],
   "source": [
    "def read_sca_data(mmdd_str, doy):\n",
    "    \n",
    "    matFile = '2012%s_h25v05.mat' % mmdd_str\n",
    "    matSCA, RefMatrix = read_sca_from_matfile(matFile)\n",
    "    \n",
    "    cubeFile = 'MODSCAG_GF_Snow.v0.9.h25v05_2012.h5'\n",
    "    cubeSCA = read_sca_from_cubefile(cubeFile, doy)\n",
    "    \n",
    "    fig, ax = plt.subplots(1,2,figsize=(8,4))\n",
    "\n",
    "    ax[0].imshow(cubeSCA, vmin=0.0, vmax=1.0, interpolation='None')\n",
    "    ax[0].set_title(\"SCAG from cube (orig) doy=%03d\" % doy)\n",
    "    ax[0].legend()\n",
    "\n",
    "    ax[1].imshow(matSCA, vmin=0.0, vmax=1.0, interpolation='None')\n",
    "    ax[1].set_title(\"SCAG from mat file (new) mmdd=%s\" % mmdd_str)\n",
    "    ax[1].legend()\n",
    "\n",
    "    fig.tight_layout()\n",
    "    outfile = \"scag_origCube_vs_newMat.2012%s.png\" % mmdd_str\n",
    "    fig.savefig(outfile)\n",
    "    print(\"Wrote to %s\" % outfile)\n",
    "\n",
    "    return(matSCA, cubeSCA, RefMatrix)"
   ]
  },
  {
   "cell_type": "code",
   "execution_count": null,
   "metadata": {},
   "outputs": [],
   "source": [
    "doy = 1\n",
    "read_sca_data('0101', doy)"
   ]
  },
  {
   "cell_type": "code",
   "execution_count": null,
   "metadata": {},
   "outputs": [],
   "source": [
    "doy = 31 + 29 + 31 +30 + 15\n",
    "read_sca_data('0515', doy)"
   ]
  },
  {
   "cell_type": "code",
   "execution_count": null,
   "metadata": {},
   "outputs": [],
   "source": [
    "np.min(cdata), np.max(cdata)"
   ]
  },
  {
   "cell_type": "code",
   "execution_count": null,
   "metadata": {
    "scrolled": false
   },
   "outputs": [],
   "source": [
    "fig, ax = plt.subplots(1,2,figsize=(10,6))\n",
    "\n",
    "ax[0].imshow(cdata, vmin=0.0, vmax=1.0, interpolation='None')\n",
    "ax[0].set_title(\"SCAG from cube (orig)\")\n",
    "ax[0].legend()\n",
    "\n",
    "ax[1].imshow(matSCA, vmin=0.0, vmax=1.0, interpolation='None')\n",
    "ax[1].set_title(\"SCAG from mat file (new)\")\n",
    "ax[1].legend()\n",
    "\n",
    "fig.tight_layout()\n",
    "#outfile = baseFilename + label + '.melt_tseries.png'\n",
    "#fig.savefig(outfile)\n",
    "#print(\"Wrote melt_tseries to %s\" % outfile)\n"
   ]
  },
  {
   "cell_type": "code",
   "execution_count": null,
   "metadata": {},
   "outputs": [],
   "source": [
    "from charistools.readers import read_tile"
   ]
  },
  {
   "cell_type": "code",
   "execution_count": null,
   "metadata": {},
   "outputs": [],
   "source": [
    "maskFile = 'GA_DudhKosi_at_GokyoHydroID11066.basin_mask.h25v06.tif'\n",
    "maskFile\n"
   ]
  },
  {
   "cell_type": "code",
   "execution_count": null,
   "metadata": {},
   "outputs": [],
   "source": [
    "mask = read_tile(maskFile)\n",
    "mask.shape"
   ]
  },
  {
   "cell_type": "code",
   "execution_count": null,
   "metadata": {},
   "outputs": [],
   "source": [
    "fig, ax = plt.subplots(1,1,figsize=(6,6))\n",
    "\n",
    "ax.imshow(mask, vmin=0.0, vmax=1.0, interpolation='None')\n",
    "ax.set_title(\"Dudh Kosi mask\")\n",
    "\n",
    "fig.tight_layout()\n",
    "#outfile = baseFilename + label + '.melt_tseries.png'\n",
    "#fig.savefig(outfile)\n",
    "#print(\"Wrote melt_tseries to %s\" % outfile)"
   ]
  },
  {
   "cell_type": "code",
   "execution_count": null,
   "metadata": {},
   "outputs": [],
   "source": []
  }
 ],
 "metadata": {
  "kernelspec": {
   "display_name": "Python 2",
   "language": "python",
   "name": "python2"
  },
  "language_info": {
   "codemirror_mode": {
    "name": "ipython",
    "version": 2
   },
   "file_extension": ".py",
   "mimetype": "text/x-python",
   "name": "python",
   "nbconvert_exporter": "python",
   "pygments_lexer": "ipython2",
   "version": "2.7.15"
  }
 },
 "nbformat": 4,
 "nbformat_minor": 1
}
