{
 "cells": [
  {
   "cell_type": "markdown",
   "metadata": {},
   "source": [
    "# Make a table with best model by calibration basin, including years of calibration"
   ]
  },
  {
   "cell_type": "code",
   "execution_count": null,
   "metadata": {},
   "outputs": [],
   "source": [
    "from __future__ import print_function\n",
    "%pylab notebook\n",
    "# import datetime as dt\n",
    "import glob\n",
    "import matplotlib.pyplot as plt\n",
    "import matplotlib.dates as md\n",
    "#from nose.tools import set_trace\n",
    "from charistools.hypsometry import Hypsometry\n",
    "from charistools.meltModels import CalibrationCost\n",
    "from charistools.modelEnv import ModelEnv\n",
    "import pandas as pd\n",
    "import re\n",
    "import os"
   ]
  },
  {
   "cell_type": "code",
   "execution_count": null,
   "metadata": {},
   "outputs": [],
   "source": [
    "dir = \"/Users/brodzik/projects/CHARIS/calibrations_correct_cost\"\n",
    "list = glob.glob(\"%s/*2str*stats.best20.dat\" % dir)\n",
    "list"
   ]
  },
  {
   "cell_type": "code",
   "execution_count": null,
   "metadata": {},
   "outputs": [],
   "source": [
    "drainageIDs = [\"SY_Naryn_at_NarynTown\",\n",
    "               \"AM_Vakhsh_at_Komsomolabad\",\n",
    "               \"IN_Hunza_at_DainyorBridge\",\n",
    "               \"GA_Karnali_at_Benighat\",\n",
    "               \"GA_SaptaKosi_at_Chatara\"]\n",
    "majorIDs = ['SY', 'AM', 'IN', 'GA', 'BR']\n",
    "cal_years = [\"2003, 2005, 2007\",\n",
    "             \"2004, 2005, 2007\",\n",
    "             \"2001, 2002, 2003\",\n",
    "             \"2001, 2003, 2004\",\n",
    "             \"2003, 2004, 2005\"]\n"
   ]
  },
  {
   "cell_type": "code",
   "execution_count": null,
   "metadata": {},
   "outputs": [],
   "source": [
    "df = pd.DataFrame([])\n",
    "for drainageID in drainageIDs:\n",
    "    f = \"%s/%s.2str_DDFnbr=10mm_N100_M050.stats.best20.dat\" % (dir, drainageID)\n",
    "    basin_df = pd.read_pickle(f)\n",
    "    basin_df['basin'] = drainageID\n",
    "    basin_df['name'] = basin_df['basin'].str.findall(r\".{2}_(.+)_at\")\n",
    "    basin_df['name'] = [i[0] for i in basin_df['name']]\n",
    "    df = df.append(basin_df.iloc[0])\n",
    "\n",
    "df.drop(['basin', 'abs_voldiff_pcent', 'model', 'monthly_rmse_pcent', 'z'], axis=1, inplace=True)\n",
    "df['major_basin'] = majorIDs\n",
    "df['cal_years'] = cal_years\n",
    "cols = ['name', 'major_basin', \n",
    "        'min_snow_ddf', 'max_snow_ddf', 'min_ice_ddf', 'max_ice_ddf', \n",
    "        'cal_years', 'annual_voldiff_pcent', 'monthly_rmse_km3']\n",
    "df = df[cols]\n",
    "df.columns = [\"Basin\", \n",
    "              \"Major Basin\", \n",
    "              \"Min Snow DDF mm oC-1 day-1\",\n",
    "              \"Max Snow DDF mm oC-1 day-1\",\n",
    "              \"Min Ice DDF mm oC-1 day-1\",\n",
    "              \"Max Ice DDF mm oC-1 day-1\",\n",
    "              \"Calibration Years\",\n",
    "              \"Annual Volumetric Difference (%)\",\n",
    "              \"Monthly RMSE (km3)\"]\n",
    "df"
   ]
  },
  {
   "cell_type": "code",
   "execution_count": null,
   "metadata": {},
   "outputs": [],
   "source": [
    "outFile = \"%s/calibration_DDFs_best.csv\" % dir\n",
    "df.to_csv(outFile)\n",
    "outFile\n"
   ]
  },
  {
   "cell_type": "code",
   "execution_count": null,
   "metadata": {},
   "outputs": [],
   "source": []
  }
 ],
 "metadata": {
  "kernelspec": {
   "display_name": "Python 2",
   "language": "python",
   "name": "python2"
  },
  "language_info": {
   "codemirror_mode": {
    "name": "ipython",
    "version": 2
   },
   "file_extension": ".py",
   "mimetype": "text/x-python",
   "name": "python",
   "nbconvert_exporter": "python",
   "pygments_lexer": "ipython2",
   "version": "2.7.15"
  }
 },
 "nbformat": 4,
 "nbformat_minor": 2
}
