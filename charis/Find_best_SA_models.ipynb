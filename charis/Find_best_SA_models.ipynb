{
 "cells": [
  {
   "cell_type": "markdown",
   "metadata": {},
   "source": [
    "# Using results from a simulated annealing calibration, determine the best 100 models and create their model strings for running batch processing\n"
   ]
  },
  {
   "cell_type": "code",
   "execution_count": null,
   "metadata": {},
   "outputs": [],
   "source": [
    "from __future__ import print_function\n",
    "%pylab notebook\n",
    "# import datetime as dt\n",
    "import glob\n",
    "import matplotlib.pyplot as plt\n",
    "import matplotlib.dates as md\n",
    "#from nose.tools import set_trace\n",
    "from charistools.hypsometry import Hypsometry\n",
    "from charistools.meltModels import CalibrationCost\n",
    "from charistools.modelEnv import ModelEnv\n",
    "import pandas as pd\n",
    "import re\n",
    "import os"
   ]
  },
  {
   "cell_type": "code",
   "execution_count": null,
   "metadata": {},
   "outputs": [],
   "source": [
    "%cd /work/charis/ti_model/calibrations_correct_cost\n",
    "%ls GA_Karn*2str*"
   ]
  },
  {
   "cell_type": "code",
   "execution_count": null,
   "metadata": {},
   "outputs": [],
   "source": [
    "saFile = \"GA_Karnali_at_Benighat.2str_DDFnbr=10mm_N100_M050.SA_summary.dat\"\n",
    "#caldf = pd.read_pickle(saFile)"
   ]
  },
  {
   "cell_type": "code",
   "execution_count": null,
   "metadata": {},
   "outputs": [],
   "source": [
    "def find_best_models(drainageID, nstrikes=3):\n",
    "    \n",
    "    # Read the SA stats file, this is all models tested \n",
    "    dir = \"/Users/brodzik/projects/CHARIS/calibrations_correct_cost\"\n",
    "    params = \"DDFnbr=10mm_N100_M050\"\n",
    "    list = glob.glob(\"%s/%s.%dstr_%s.stats.txt\" % (\n",
    "        dir, drainageID, nstrikes, params))\n",
    "    if 1 != len(list):\n",
    "        print(\"Error looking for stats file for %s\" % drainageID, file=sys.stderr)\n",
    "    file = list[0]\n",
    "    print(\"stats file : %s\" % file, file=sys.stderr)\n",
    "    df = pd.read_table(file, sep='\\s+')\n",
    "    \n",
    "    # Sort all models by z-score\n",
    "    df, stats_df = CalibrationCost(df, verbose=True)\n",
    "    \n",
    "    # Move the index to a column of its own\n",
    "    stats_df.reset_index(inplace=True)\n",
    "    \n",
    "    # Save the top 20 models\n",
    "    outFile = \"%s/%s.%dstr_%s.stats.best20.dat\" % (dir, drainageID, nstrikes, params)\n",
    "    stats_df.iloc[:20].to_pickle(outFile)\n",
    "    print(\"Best 20 models will be saved in order to: %s\" % outFile)\n",
    "\n",
    "    return df, stats_df"
   ]
  },
  {
   "cell_type": "code",
   "execution_count": null,
   "metadata": {},
   "outputs": [],
   "source": [
    "drainageID = \"GA_Karnali_at_Benighat\"\n",
    "df, stats_df = find_best_models(drainageID, nstrikes=2)\n",
    "stats_df.head()"
   ]
  },
  {
   "cell_type": "code",
   "execution_count": null,
   "metadata": {},
   "outputs": [],
   "source": [
    "file = \"/Users/brodzik/projects/CHARIS/calibrations_correct_cost/IN_Hunza_at_DainyorBridge.2str_DDFnbr=10mm_N100_M050.stats.best20.dat\"\n",
    "newdf = pd.read_pickle(file)\n",
    "newdf"
   ]
  },
  {
   "cell_type": "code",
   "execution_count": null,
   "metadata": {},
   "outputs": [],
   "source": [
    "newdf.iloc[0].model"
   ]
  },
  {
   "cell_type": "code",
   "execution_count": null,
   "metadata": {
    "scrolled": false
   },
   "outputs": [],
   "source": [
    "drainageIDs = ['SY_Naryn_at_NarynTown',\n",
    "               'AM_Vakhsh_at_Komsomolabad',\n",
    "               'IN_Hunza_at_DainyorBridge',\n",
    "               'GA_Karnali_at_Benighat',\n",
    "               'GA_Narayani_at_Devghat',\n",
    "               'GA_SaptaKosi_at_Chatara']\n",
    "strikes = [2, 3]\n",
    "for drainageID in drainageIDs:\n",
    "    for strike in strikes:\n",
    "        df, stats_df = find_best_models(drainageID, nstrikes=strike)"
   ]
  },
  {
   "cell_type": "code",
   "execution_count": null,
   "metadata": {},
   "outputs": [],
   "source": [
    "#drainageID = \"GA_Karnali_at_Benighat\"\n",
    "#nstrikes = 2\n",
    "def best_models(drainageID, nstrikes=3):\n",
    "    # Read SA summary file, this is DDFs and z at end of each cycle\n",
    "    dir = \"/work/charis/ti_model/calibrations_correct_cost\"\n",
    "    params = \"DDFnbr=10mm_N100_M050\"\n",
    "    list = glob.glob(\"%s/%s.%dstr_%s.SA_summary.dat\" % (\n",
    "        dir, drainageID, nstrikes, params))\n",
    "    if 1 != len(list):\n",
    "        print(\"Error looking for SA_summary file for %s\" % drainageID, file=sys.stderr)\n",
    "    SAFile = list[0]\n",
    "    print(\"SA_summary file : %s\" % SAFile, file=sys.stderr)\n",
    "    df = pd.read_pickle(SAFile)\n",
    "    \n",
    "    df.loc[:, \"model\"] = (\n",
    "        df[\"winter_snow_ddf\"].map(str) + \"_\" +\n",
    "        df[\"summer_snow_ddf\"].map(str) + \"_\" +\n",
    "        df[\"winter_ice_ddf\"].map(str) + \"_\" +\n",
    "        df[\"summer_ice_ddf\"].map(str))\n",
    "\n",
    "    df[\"nstrikes\"] = nstrikes\n",
    "\n",
    "    outfile = \"%s/%s.%dstr_%s.SA_summary.best20.dat\" % (\n",
    "        dir, drainageID, nstrikes, params)\n",
    "\n",
    "    df.to_pickle(outfile)\n",
    "    print(\"outfile: %s\" % outfile, file=sys.stderr)"
   ]
  },
  {
   "cell_type": "code",
   "execution_count": null,
   "metadata": {},
   "outputs": [],
   "source": [
    "drainageIDs = ['SY_Naryn_at_NarynTown',\n",
    "               'AM_Vakhsh_at_Komsomolabad',\n",
    "               'IN_Hunza_at_DainyorBridge',\n",
    "               'GA_Karnali_at_Benighat',\n",
    "               'GA_Narayani_at_Devghat',\n",
    "               'GA_SaptaKosi_at_Chatara']\n",
    "strikes = [2, 3]\n",
    "for drainageID in drainageIDs:\n",
    "    for strike in strikes:\n",
    "        best_models(drainageID, nstrikes=strike)"
   ]
  },
  {
   "cell_type": "code",
   "execution_count": null,
   "metadata": {},
   "outputs": [],
   "source": [
    "#newfile = '/work/charis/ti_model/calibrations_correct_cost/IN_Hunza_at_DainyorBridge.2str_DDFnbr=10mm_N100_M050.SA_summary.best20.dat'\n",
    "newfile = '/work/charis/ti_model/calibrations_correct_cost/AM_Vakhsh_at_Komsomolabad.2str_DDFnbr=10mm_N100_M050.SA_summary.best20.dat'\n",
    "new = pd.read_pickle(newfile)"
   ]
  },
  {
   "cell_type": "code",
   "execution_count": null,
   "metadata": {},
   "outputs": [],
   "source": [
    "new"
   ]
  },
  {
   "cell_type": "markdown",
   "metadata": {},
   "source": [
    "to get the best model for cycle 95:\n"
   ]
  },
  {
   "cell_type": "code",
   "execution_count": null,
   "metadata": {},
   "outputs": [],
   "source": [
    "new.at[82, \"model\"]"
   ]
  },
  {
   "cell_type": "code",
   "execution_count": null,
   "metadata": {},
   "outputs": [],
   "source": []
  }
 ],
 "metadata": {
  "kernelspec": {
   "display_name": "Python 2",
   "language": "python",
   "name": "python2"
  },
  "language_info": {
   "codemirror_mode": {
    "name": "ipython",
    "version": 2
   },
   "file_extension": ".py",
   "mimetype": "text/x-python",
   "name": "python",
   "nbconvert_exporter": "python",
   "pygments_lexer": "ipython2",
   "version": "2.7.15"
  }
 },
 "nbformat": 4,
 "nbformat_minor": 2
}
