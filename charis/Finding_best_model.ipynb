{
 "cells": [
  {
   "cell_type": "code",
   "execution_count": null,
   "metadata": {},
   "outputs": [],
   "source": [
    "%pylab notebook\n",
    "from __future__ import print_function\n",
    "import glob\n",
    "import matplotlib.pyplot as plt\n",
    "import numpy as np\n",
    "import pandas as pd\n",
    "import re\n",
    "import sys\n",
    "pd.options.display.max_rows = 100"
   ]
  },
  {
   "cell_type": "code",
   "execution_count": null,
   "metadata": {
    "collapsed": true
   },
   "outputs": [],
   "source": [
    "import charistools.find_best_model as fbm"
   ]
  },
  {
   "cell_type": "code",
   "execution_count": null,
   "metadata": {},
   "outputs": [],
   "source": [
    "%cd /Users/brodzik/mjb/charis/calibrations/summit/SY_Naryn_calibration_2strikes\n",
    "%ls -las\n",
    "\n"
   ]
  },
  {
   "cell_type": "code",
   "execution_count": null,
   "metadata": {
    "scrolled": true
   },
   "outputs": [],
   "source": [
    "filename = 'Naryn_01.out'\n",
    "drainage = 'Naryn'\n",
    "nstrikes = 2\n",
    "#filename = 'Hunza_calibration-negRainfall-ET.out'\n",
    "#drainage = \"IN_Hunza_at_DainyorBridge\"\n",
    "#nstrikes = 3\n",
    "cal = fbm.get_calibration_stats(filename, verbose=1)\n",
    "cal[\"stats\"]"
   ]
  },
  {
   "cell_type": "code",
   "execution_count": null,
   "metadata": {
    "collapsed": true
   },
   "outputs": [],
   "source": [
    "df = cal[\"stats\"]"
   ]
  },
  {
   "cell_type": "code",
   "execution_count": null,
   "metadata": {},
   "outputs": [],
   "source": [
    "#df.dtypes"
   ]
  },
  {
   "cell_type": "code",
   "execution_count": null,
   "metadata": {
    "scrolled": false
   },
   "outputs": [],
   "source": [
    "fig, ax = plt.subplots(2, 3, figsize=(8,6))\n",
    "\n",
    "fig.suptitle(\n",
    "    \"%s Best=%s \\n(%d strikes, RMSE=%.3f $km^3$, Voldiff=%.3f%%, numModels=%d)\" % (\n",
    "        drainage, df.index[0], \n",
    "        nstrikes,\n",
    "        df[\"Monthly_rmse_km3\"].iloc[0], \n",
    "        df[\"Annual_voldiff_pcent\"].iloc[0],\n",
    "        len(df.index)),\n",
    "    fontsize=12)\n",
    "\n",
    "surfaces = [\"ice\", \"snow\"]\n",
    "markers =  [\"^\", \"o\"]\n",
    "for i, surface in enumerate(surfaces):\n",
    "    \n",
    "    row = i\n",
    "    min_ddf = \"min_%s_ddf\" % surface\n",
    "    max_ddf = \"max_%s_ddf\" % surface\n",
    "    # Upper Left: RMSE as function of min/max snow ddf \n",
    "    col = 0\n",
    "    rmse_plot = ax[row, col].scatter(df[min_ddf],\n",
    "                             df[max_ddf],\n",
    "                             c=df[\"Monthly_rmse_km3\"],\n",
    "                             cmap=\"Greens\",\n",
    "                             edgecolor=\"\",\n",
    "                             marker=markers[i])\n",
    "    ax[row, col].plot([df[min_ddf].iloc[0]],\n",
    "                      [df[max_ddf].iloc[0]],\n",
    "                      marker=\"x\",\n",
    "                      color=\"red\")\n",
    "    fig.colorbar(rmse_plot, ax=ax[row,col])\n",
    "    ax[row, col].set_title('Monthly RMSE ($km^3$)')\n",
    "    ax[row, col].set_xlabel(min_ddf)\n",
    "    ax[row, col].set_ylabel(max_ddf)\n",
    "\n",
    "    # Middle: Annual volume difference\n",
    "    col = 1\n",
    "    vmax = np.max(df[\"Abs_voldiff_pcent\"])\n",
    "    vmin = -1.0 * vmax\n",
    "    voldiff_plot = ax[row, col].scatter(df[min_ddf],\n",
    "                             df[max_ddf],\n",
    "                             c=df[\"Annual_voldiff_pcent\"],\n",
    "                             cmap=\"BrBG_r\",\n",
    "                             vmin=vmin,\n",
    "                             vmax=vmax,\n",
    "                             edgecolor=\"\",\n",
    "                             marker=markers[i])\n",
    "    ax[row, col].plot([df[min_ddf].iloc[0]],\n",
    "                      [df[max_ddf].iloc[0]],\n",
    "                      marker=\"x\",\n",
    "                      color=\"red\")\n",
    "    fig.colorbar(voldiff_plot, ax=ax[row,col])\n",
    "    ax[row, col].set_title('Annual vol diff (%)')\n",
    "    ax[row, col].set_xlabel(min_ddf)\n",
    "    ax[row, col].set_ylabel(max_ddf)\n",
    "\n",
    "    # Right: Combined Z score\n",
    "    col = 2\n",
    "    z_plot = ax[row, col].scatter(df[min_ddf],\n",
    "                             df[max_ddf],\n",
    "                             c=df[\"z\"],\n",
    "                             cmap=\"Greys\",\n",
    "                             vmin=0.0,\n",
    "                             edgecolor=\"\",\n",
    "                             marker=markers[i])\n",
    "    ax[row, col].plot([df[min_ddf].iloc[0]],\n",
    "                      [df[max_ddf].iloc[0]],\n",
    "                      marker=\"x\",\n",
    "                      color=\"red\")\n",
    "    fig.colorbar(z_plot, ax=ax[row,col])\n",
    "    ax[row, col].set_title('Z')\n",
    "    ax[row, col].set_xlabel(min_ddf)\n",
    "    ax[row, col].set_ylabel(max_ddf)\n",
    "\n",
    "\n",
    "fig.tight_layout()\n",
    "fig.subplots_adjust(top=0.86)"
   ]
  },
  {
   "cell_type": "code",
   "execution_count": null,
   "metadata": {},
   "outputs": [],
   "source": [
    "len(df.index)\n",
    "\n"
   ]
  },
  {
   "cell_type": "code",
   "execution_count": null,
   "metadata": {
    "collapsed": true
   },
   "outputs": [],
   "source": []
  }
 ],
 "metadata": {
  "kernelspec": {
   "display_name": "Python 2",
   "language": "python",
   "name": "python2"
  },
  "language_info": {
   "codemirror_mode": {
    "name": "ipython",
    "version": 2
   },
   "file_extension": ".py",
   "mimetype": "text/x-python",
   "name": "python",
   "nbconvert_exporter": "python",
   "pygments_lexer": "ipython2",
   "version": "2.7.13"
  }
 },
 "nbformat": 4,
 "nbformat_minor": 1
}
