{
 "cells": [
  {
   "cell_type": "code",
   "execution_count": null,
   "metadata": {
    "collapsed": false
   },
   "outputs": [],
   "source": [
    "import numpy as np\n",
    "import pandas as pd\n",
    "%pylab inline"
   ]
  },
  {
   "cell_type": "code",
   "execution_count": null,
   "metadata": {
    "collapsed": false
   },
   "outputs": [],
   "source": [
    "%cd /Users/brodzik/charis\n",
    "%ls\n",
    "filename = 'Hunza_calibration_batch_model.stats.2016-19-Apr.0-80.txt'\n",
    "#filename = 'Hunza_calibration_batch_model.stats.2016-Apr.all.txt'"
   ]
  },
  {
   "cell_type": "code",
   "execution_count": null,
   "metadata": {
    "collapsed": false
   },
   "outputs": [],
   "source": [
    "df = pd.read_table(filename, sep='\\s+')\n",
    "subdf = df[['Model_Config','Monthly_Vol_Diff_pcent','Monthly_RMSE']]\n",
    "subdf"
   ]
  },
  {
   "cell_type": "code",
   "execution_count": null,
   "metadata": {
    "collapsed": false
   },
   "outputs": [],
   "source": [
    "for name, group in subdf.groupby(['Model_Config']):\n",
    "    print(name)\n",
    "    print(group)\n"
   ]
  },
  {
   "cell_type": "code",
   "execution_count": null,
   "metadata": {
    "collapsed": false
   },
   "outputs": [],
   "source": [
    "mean_vol_diff = subdf.groupby(['Model_Config']).mean()['Monthly_Vol_Diff_pcent']\n",
    "mean_rmse = subdf.groupby(['Model_Config']).mean()['Monthly_RMSE']"
   ]
  },
  {
   "cell_type": "code",
   "execution_count": null,
   "metadata": {
    "collapsed": false
   },
   "outputs": [],
   "source": [
    "new = mean_rmse.to_frame()\n",
    "new['Monthly_Vol_Diff_pcent'] = mean_vol_diff\n",
    "new"
   ]
  },
  {
   "cell_type": "code",
   "execution_count": null,
   "metadata": {
    "collapsed": false
   },
   "outputs": [],
   "source": [
    "min_vol_diff = np.min(mean_vol_diff)\n",
    "max_vol_diff = np.max(mean_vol_diff)\n",
    "print(\"min vol_diff=%f\" % min_vol_diff)\n",
    "print(\"max_vol_diff=%f\" % max_vol_diff)"
   ]
  },
  {
   "cell_type": "code",
   "execution_count": null,
   "metadata": {
    "collapsed": false
   },
   "outputs": [],
   "source": [
    "min_rmse = np.min(mean_rmse)\n",
    "max_rmse = np.max(mean_rmse)\n",
    "print(\"min rmse=%f\" % min_rmse)\n",
    "print(\"max rmse=%f\" % max_rmse)"
   ]
  },
  {
   "cell_type": "markdown",
   "metadata": {
    "collapsed": false
   },
   "source": [
    "<h2>Now, normalize the two variables so they range from 0.0 to 1.0</h2>\n",
    "This should map vol_diff -224.9 to 0. and -110.8 to 1.0\n",
    "\n",
    "and             rmse 1.22 to 0. and 2.42 to 1.0:\n"
   ]
  },
  {
   "cell_type": "code",
   "execution_count": null,
   "metadata": {
    "collapsed": false
   },
   "outputs": [],
   "source": [
    "new['z_Vol_Diff'] = (new['Monthly_Vol_Diff_pcent'] - min_vol_diff) / (max_vol_diff - min_vol_diff)\n",
    "new['z_RMSE'] = (new['Monthly_RMSE'] - min_rmse) / (max_rmse - min_rmse)\n",
    "new['z'] = new['z_Vol_Diff'] + new['z_RMSE']\n",
    "new"
   ]
  },
  {
   "cell_type": "markdown",
   "metadata": {},
   "source": [
    "Now calculate the combined statistic (z_vol_diff + z_rmse) and find the minimum:\n"
   ]
  },
  {
   "cell_type": "code",
   "execution_count": null,
   "metadata": {
    "collapsed": false
   },
   "outputs": [],
   "source": [
    "new['z'].plot(kind='barh',figsize=(12,20))"
   ]
  },
  {
   "cell_type": "code",
   "execution_count": null,
   "metadata": {
    "collapsed": false
   },
   "outputs": [],
   "source": [
    "sorted = new.sort(['z'], ascending=True)\n",
    "sorted"
   ]
  },
  {
   "cell_type": "code",
   "execution_count": null,
   "metadata": {
    "collapsed": false
   },
   "outputs": [],
   "source": [
    "print(\"Best model is %s\" % sorted.index[0])"
   ]
  },
  {
   "cell_type": "code",
   "execution_count": null,
   "metadata": {
    "collapsed": false
   },
   "outputs": [],
   "source": []
  },
  {
   "cell_type": "code",
   "execution_count": null,
   "metadata": {
    "collapsed": true
   },
   "outputs": [],
   "source": []
  }
 ],
 "metadata": {
  "kernelspec": {
   "display_name": "Python 2",
   "language": "python",
   "name": "python2"
  },
  "language_info": {
   "codemirror_mode": {
    "name": "ipython",
    "version": 2
   },
   "file_extension": ".py",
   "mimetype": "text/x-python",
   "name": "python",
   "nbconvert_exporter": "python",
   "pygments_lexer": "ipython2",
   "version": "2.7.12"
  }
 },
 "nbformat": 4,
 "nbformat_minor": 0
}
