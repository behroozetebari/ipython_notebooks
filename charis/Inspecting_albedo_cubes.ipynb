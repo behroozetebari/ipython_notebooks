{
 "cells": [
  {
   "cell_type": "code",
   "execution_count": 5,
   "metadata": {
    "collapsed": false
   },
   "outputs": [
    {
     "name": "stdout",
     "output_type": "stream",
     "text": [
      "Populating the interactive namespace from numpy and matplotlib\n"
     ]
    },
    {
     "name": "stderr",
     "output_type": "stream",
     "text": [
      "/Users/brodzik/.conda/envs/pmesdr/lib/python2.7/site-packages/matplotlib/font_manager.py:273: UserWarning: Matplotlib is building the font cache using fc-list. This may take a moment.\n",
      "  warnings.warn('Matplotlib is building the font cache using fc-list. This may take a moment.')\n"
     ]
    }
   ],
   "source": [
    "%pylab notebook\n",
    "from charistools.readers import ModisTileCube\n",
    "from charistools.readers import read_tile\n",
    "import matplotlib.pyplot as plt\n",
    "from netCDF4 import Dataset\n",
    "import numpy as np"
   ]
  },
  {
   "cell_type": "code",
   "execution_count": 2,
   "metadata": {
    "collapsed": false
   },
   "outputs": [
    {
     "name": "stdout",
     "output_type": "stream",
     "text": [
      "/Users/brodzik/projects/CHARIS/albedo/MOD10A1_Collection_005/MOD10A1_005_GF/v06/h23v05\n",
      "MOD10A1_GF_Albedo_shortwave.v0.6.h23v05_2001.h5\n",
      "MOD10A1_GF_Albedo_shortwave.v0.6.h23v05_2002.h5\n",
      "MOD10A1_GF_Albedo_shortwave.v0.6.h23v05_2003.h5\n",
      "MOD10A1_GF_Albedo_shortwave.v0.6.h23v05_2004.h5\n",
      "MOD10A1_GF_Albedo_shortwave.v0.6.h23v05_2005.h5\n",
      "MOD10A1_GF_Albedo_shortwave.v0.6.h23v05_2006.h5\n",
      "MOD10A1_GF_Albedo_shortwave.v0.6.h23v05_2007.h5\n",
      "MOD10A1_GF_Albedo_shortwave.v0.6.h23v05_2008.h5\n",
      "MOD10A1_GF_Albedo_shortwave.v0.6.h23v05_2009.h5\n",
      "MOD10A1_GF_Albedo_shortwave.v0.6.h23v05_2010.h5\n",
      "MOD10A1_GF_Albedo_shortwave.v0.6.h23v05_2011.h5\n",
      "MOD10A1_GF_Albedo_shortwave.v0.6.h23v05_2012.h5\n",
      "MOD10A1_GF_Albedo_shortwave.v0.6.h23v05_2013.h5\n",
      "MOD10A1_GF_Albedo_shortwave.v0.6.h23v05_2014.h5\n"
     ]
    }
   ],
   "source": [
    "%cd /Users/brodzik/projects/CHARIS/albedo/MOD10A1_Collection_005/MOD10A1_005_GF/v06/h23v05\n",
    "%ls"
   ]
  },
  {
   "cell_type": "code",
   "execution_count": 6,
   "metadata": {
    "collapsed": false
   },
   "outputs": [
    {
     "name": "stdout",
     "output_type": "stream",
     "text": [
      "/Users/brodzik/projects/CHARIS/albedo/MOD10A1_Collection_005/MOD10A1_005_GF/v05/h23v05/MOD10A1_GF_Albedo_shortwave.v0.5.h23v05_2001.h5\n",
      "/Users/brodzik/projects/CHARIS/albedo/MOD10A1_Collection_005/MOD10A1_005_GF/v06/h23v05/MOD10A1_GF_Albedo_shortwave.v0.6.h23v05_2001.h5\n"
     ]
    }
   ],
   "source": [
    "h23Filev5 = \"/Users/brodzik/projects/CHARIS/albedo/MOD10A1_Collection_005/\" \\\n",
    "\"MOD10A1_005_GF/v05/h23v05/MOD10A1_GF_Albedo_shortwave.v0.5.h23v05_2001.h5\"\n",
    "h23Filev6 = \"/Users/brodzik/projects/CHARIS/albedo/MOD10A1_Collection_005/\" \\\n",
    "\"MOD10A1_005_GF/v06/h23v05/MOD10A1_GF_Albedo_shortwave.v0.6.h23v05_2001.h5\"\n",
    "print(h23Filev5)\n",
    "print(h23Filev6)"
   ]
  },
  {
   "cell_type": "code",
   "execution_count": 9,
   "metadata": {
    "collapsed": false
   },
   "outputs": [],
   "source": [
    "tile5 = ModisTileCube(filename=h23Filev5, varname='albedo_shortwave')\n",
    "tile6 = ModisTileCube(filename=h23Filev6, varname='albedo_shortwave')"
   ]
  },
  {
   "cell_type": "code",
   "execution_count": 10,
   "metadata": {
    "collapsed": false
   },
   "outputs": [],
   "source": [
    "albedo5 = tile5.read(doy=180)\n",
    "albedo6 = tile6.read(doy=180)"
   ]
  },
  {
   "cell_type": "code",
   "execution_count": 11,
   "metadata": {
    "collapsed": false
   },
   "outputs": [
    {
     "name": "stdout",
     "output_type": "stream",
     "text": [
      "<type 'numpy.ndarray'>\n",
      "<class 'numpy.ma.core.MaskedArray'>\n"
     ]
    }
   ],
   "source": [
    "print(type(albedo5))\n",
    "print(type(albedo6))\n"
   ]
  },
  {
   "cell_type": "code",
   "execution_count": 13,
   "metadata": {
    "collapsed": false
   },
   "outputs": [
    {
     "name": "stdout",
     "output_type": "stream",
     "text": [
      "227569\n"
     ]
    }
   ],
   "source": [
    "#print(albedo5.count())\n",
    "print(albedo6.count())"
   ]
  },
  {
   "cell_type": "code",
   "execution_count": 17,
   "metadata": {
    "collapsed": false
   },
   "outputs": [
    {
     "name": "stdout",
     "output_type": "stream",
     "text": [
      "(0.0, 1.0)\n",
      "(0.0099999998, 1.0)\n",
      "(0.0099999998, 1.0)\n"
     ]
    }
   ],
   "source": [
    "print(np.amin(albedo5), np.amax(albedo5))\n",
    "print(np.amin(albedo5[albedo5 > 0.]), np.amax(albedo5))\n",
    "print(np.amin(albedo6), np.amax(albedo6))"
   ]
  },
  {
   "cell_type": "code",
   "execution_count": 18,
   "metadata": {
    "collapsed": false
   },
   "outputs": [
    {
     "data": {
      "text/plain": [
       "227569"
      ]
     },
     "execution_count": 18,
     "metadata": {},
     "output_type": "execute_result"
    }
   ],
   "source": [
    "sub = albedo5[albedo5 > 0.]\n",
    "len(sub)"
   ]
  },
  {
   "cell_type": "code",
   "execution_count": 32,
   "metadata": {
    "collapsed": true
   },
   "outputs": [],
   "source": [
    "_albedo5 = np.ma.masked_where(np.ma.getmask(albedo6), albedo5)"
   ]
  },
  {
   "cell_type": "code",
   "execution_count": 34,
   "metadata": {
    "collapsed": false
   },
   "outputs": [
    {
     "name": "stdout",
     "output_type": "stream",
     "text": [
      "(0.0, 0.0)\n"
     ]
    }
   ],
   "source": [
    "diff = albedo6 - _albedo5\n",
    "print(np.amin(diff), np.amax(diff))\n"
   ]
  },
  {
   "cell_type": "code",
   "execution_count": 35,
   "metadata": {
    "collapsed": false
   },
   "outputs": [
    {
     "data": {
      "text/plain": [
       "5532431"
      ]
     },
     "execution_count": 35,
     "metadata": {},
     "output_type": "execute_result"
    }
   ],
   "source": [
    "test = albedo5[np.ma.getmask(albedo6)]\n",
    "len(test)"
   ]
  },
  {
   "cell_type": "code",
   "execution_count": 36,
   "metadata": {
    "collapsed": false
   },
   "outputs": [
    {
     "name": "stdout",
     "output_type": "stream",
     "text": [
      "(0.0, 0.0)\n"
     ]
    }
   ],
   "source": [
    "print(np.amin(test), np.amax(test))"
   ]
  },
  {
   "cell_type": "code",
   "execution_count": 47,
   "metadata": {
    "collapsed": false
   },
   "outputs": [
    {
     "name": "stdout",
     "output_type": "stream",
     "text": [
      "<class 'numpy.ma.core.MaskedArray'>\n",
      "[0.0 -- -- 3.0 4.0]\n"
     ]
    }
   ],
   "source": [
    "test = np.ma.masked_array(np.arange(5.), mask=[False, True, True, False, False])\n",
    "print(type(test))\n",
    "print(test)\n"
   ]
  },
  {
   "cell_type": "code",
   "execution_count": 55,
   "metadata": {
    "collapsed": false
   },
   "outputs": [
    {
     "name": "stdout",
     "output_type": "stream",
     "text": [
      "[0 1 2 3 4]\n",
      "[3 4]\n",
      "[0]\n"
     ]
    }
   ],
   "source": [
    "new = np.arange(5)\n",
    "print(new)\n",
    "print(new[np.logical_and(~np.ma.getmaskarray(test), test > 2)])\n",
    "print(new[np.logical_and(~np.ma.getmaskarray(test), test <= 2)])"
   ]
  },
  {
   "cell_type": "code",
   "execution_count": 54,
   "metadata": {
    "collapsed": false
   },
   "outputs": [
    {
     "name": "stdout",
     "output_type": "stream",
     "text": [
      "<type 'numpy.ndarray'>\n",
      "[0 1 2 3 4]\n",
      "[False False False False False]\n",
      "<class 'numpy.ma.core.MaskedArray'>\n",
      "[0 -- -- 3 4]\n",
      "[False  True  True False False]\n"
     ]
    }
   ],
   "source": [
    "other = np.arange(5)\n",
    "print(type(other))\n",
    "print(other)\n",
    "print(np.ma.getmaskarray(other))\n",
    "_other = np.ma.masked_where(np.ma.getmask(test), other) \n",
    "print(type(_other))\n",
    "print(_other)\n",
    "print(np.ma.getmaskarray(_other))\n"
   ]
  },
  {
   "cell_type": "code",
   "execution_count": 39,
   "metadata": {
    "collapsed": false
   },
   "outputs": [
    {
     "name": "stdout",
     "output_type": "stream",
     "text": [
      "[0 1 2 3 4]\n",
      "[0 1 2 3 4]\n"
     ]
    }
   ],
   "source": [
    "myarr = np.arange(5)\n",
    "_myarr = myarr.copy()\n",
    "print(myarr)\n",
    "print(_myarr)"
   ]
  },
  {
   "cell_type": "code",
   "execution_count": 40,
   "metadata": {
    "collapsed": false
   },
   "outputs": [
    {
     "name": "stdout",
     "output_type": "stream",
     "text": [
      "[0 1 2 3 4]\n",
      "[0 1 2 0 4]\n"
     ]
    }
   ],
   "source": [
    "_myarr[3] = 0\n",
    "print(myarr)\n",
    "print(_myarr)"
   ]
  },
  {
   "cell_type": "code",
   "execution_count": 7,
   "metadata": {
    "collapsed": false,
    "scrolled": true
   },
   "outputs": [
    {
     "data": {
      "application/javascript": [
       "/* Put everything inside the global mpl namespace */\n",
       "window.mpl = {};\n",
       "\n",
       "mpl.get_websocket_type = function() {\n",
       "    if (typeof(WebSocket) !== 'undefined') {\n",
       "        return WebSocket;\n",
       "    } else if (typeof(MozWebSocket) !== 'undefined') {\n",
       "        return MozWebSocket;\n",
       "    } else {\n",
       "        alert('Your browser does not have WebSocket support.' +\n",
       "              'Please try Chrome, Safari or Firefox ≥ 6. ' +\n",
       "              'Firefox 4 and 5 are also supported but you ' +\n",
       "              'have to enable WebSockets in about:config.');\n",
       "    };\n",
       "}\n",
       "\n",
       "mpl.figure = function(figure_id, websocket, ondownload, parent_element) {\n",
       "    this.id = figure_id;\n",
       "\n",
       "    this.ws = websocket;\n",
       "\n",
       "    this.supports_binary = (this.ws.binaryType != undefined);\n",
       "\n",
       "    if (!this.supports_binary) {\n",
       "        var warnings = document.getElementById(\"mpl-warnings\");\n",
       "        if (warnings) {\n",
       "            warnings.style.display = 'block';\n",
       "            warnings.textContent = (\n",
       "                \"This browser does not support binary websocket messages. \" +\n",
       "                    \"Performance may be slow.\");\n",
       "        }\n",
       "    }\n",
       "\n",
       "    this.imageObj = new Image();\n",
       "\n",
       "    this.context = undefined;\n",
       "    this.message = undefined;\n",
       "    this.canvas = undefined;\n",
       "    this.rubberband_canvas = undefined;\n",
       "    this.rubberband_context = undefined;\n",
       "    this.format_dropdown = undefined;\n",
       "\n",
       "    this.image_mode = 'full';\n",
       "\n",
       "    this.root = $('<div/>');\n",
       "    this._root_extra_style(this.root)\n",
       "    this.root.attr('style', 'display: inline-block');\n",
       "\n",
       "    $(parent_element).append(this.root);\n",
       "\n",
       "    this._init_header(this);\n",
       "    this._init_canvas(this);\n",
       "    this._init_toolbar(this);\n",
       "\n",
       "    var fig = this;\n",
       "\n",
       "    this.waiting = false;\n",
       "\n",
       "    this.ws.onopen =  function () {\n",
       "            fig.send_message(\"supports_binary\", {value: fig.supports_binary});\n",
       "            fig.send_message(\"send_image_mode\", {});\n",
       "            fig.send_message(\"refresh\", {});\n",
       "        }\n",
       "\n",
       "    this.imageObj.onload = function() {\n",
       "            if (fig.image_mode == 'full') {\n",
       "                // Full images could contain transparency (where diff images\n",
       "                // almost always do), so we need to clear the canvas so that\n",
       "                // there is no ghosting.\n",
       "                fig.context.clearRect(0, 0, fig.canvas.width, fig.canvas.height);\n",
       "            }\n",
       "            fig.context.drawImage(fig.imageObj, 0, 0);\n",
       "        };\n",
       "\n",
       "    this.imageObj.onunload = function() {\n",
       "        this.ws.close();\n",
       "    }\n",
       "\n",
       "    this.ws.onmessage = this._make_on_message_function(this);\n",
       "\n",
       "    this.ondownload = ondownload;\n",
       "}\n",
       "\n",
       "mpl.figure.prototype._init_header = function() {\n",
       "    var titlebar = $(\n",
       "        '<div class=\"ui-dialog-titlebar ui-widget-header ui-corner-all ' +\n",
       "        'ui-helper-clearfix\"/>');\n",
       "    var titletext = $(\n",
       "        '<div class=\"ui-dialog-title\" style=\"width: 100%; ' +\n",
       "        'text-align: center; padding: 3px;\"/>');\n",
       "    titlebar.append(titletext)\n",
       "    this.root.append(titlebar);\n",
       "    this.header = titletext[0];\n",
       "}\n",
       "\n",
       "\n",
       "\n",
       "mpl.figure.prototype._canvas_extra_style = function(canvas_div) {\n",
       "\n",
       "}\n",
       "\n",
       "\n",
       "mpl.figure.prototype._root_extra_style = function(canvas_div) {\n",
       "\n",
       "}\n",
       "\n",
       "mpl.figure.prototype._init_canvas = function() {\n",
       "    var fig = this;\n",
       "\n",
       "    var canvas_div = $('<div/>');\n",
       "\n",
       "    canvas_div.attr('style', 'position: relative; clear: both; outline: 0');\n",
       "\n",
       "    function canvas_keyboard_event(event) {\n",
       "        return fig.key_event(event, event['data']);\n",
       "    }\n",
       "\n",
       "    canvas_div.keydown('key_press', canvas_keyboard_event);\n",
       "    canvas_div.keyup('key_release', canvas_keyboard_event);\n",
       "    this.canvas_div = canvas_div\n",
       "    this._canvas_extra_style(canvas_div)\n",
       "    this.root.append(canvas_div);\n",
       "\n",
       "    var canvas = $('<canvas/>');\n",
       "    canvas.addClass('mpl-canvas');\n",
       "    canvas.attr('style', \"left: 0; top: 0; z-index: 0; outline: 0\")\n",
       "\n",
       "    this.canvas = canvas[0];\n",
       "    this.context = canvas[0].getContext(\"2d\");\n",
       "\n",
       "    var rubberband = $('<canvas/>');\n",
       "    rubberband.attr('style', \"position: absolute; left: 0; top: 0; z-index: 1;\")\n",
       "\n",
       "    var pass_mouse_events = true;\n",
       "\n",
       "    canvas_div.resizable({\n",
       "        start: function(event, ui) {\n",
       "            pass_mouse_events = false;\n",
       "        },\n",
       "        resize: function(event, ui) {\n",
       "            fig.request_resize(ui.size.width, ui.size.height);\n",
       "        },\n",
       "        stop: function(event, ui) {\n",
       "            pass_mouse_events = true;\n",
       "            fig.request_resize(ui.size.width, ui.size.height);\n",
       "        },\n",
       "    });\n",
       "\n",
       "    function mouse_event_fn(event) {\n",
       "        if (pass_mouse_events)\n",
       "            return fig.mouse_event(event, event['data']);\n",
       "    }\n",
       "\n",
       "    rubberband.mousedown('button_press', mouse_event_fn);\n",
       "    rubberband.mouseup('button_release', mouse_event_fn);\n",
       "    // Throttle sequential mouse events to 1 every 20ms.\n",
       "    rubberband.mousemove('motion_notify', mouse_event_fn);\n",
       "\n",
       "    rubberband.mouseenter('figure_enter', mouse_event_fn);\n",
       "    rubberband.mouseleave('figure_leave', mouse_event_fn);\n",
       "\n",
       "    canvas_div.on(\"wheel\", function (event) {\n",
       "        event = event.originalEvent;\n",
       "        event['data'] = 'scroll'\n",
       "        if (event.deltaY < 0) {\n",
       "            event.step = 1;\n",
       "        } else {\n",
       "            event.step = -1;\n",
       "        }\n",
       "        mouse_event_fn(event);\n",
       "    });\n",
       "\n",
       "    canvas_div.append(canvas);\n",
       "    canvas_div.append(rubberband);\n",
       "\n",
       "    this.rubberband = rubberband;\n",
       "    this.rubberband_canvas = rubberband[0];\n",
       "    this.rubberband_context = rubberband[0].getContext(\"2d\");\n",
       "    this.rubberband_context.strokeStyle = \"#000000\";\n",
       "\n",
       "    this._resize_canvas = function(width, height) {\n",
       "        // Keep the size of the canvas, canvas container, and rubber band\n",
       "        // canvas in synch.\n",
       "        canvas_div.css('width', width)\n",
       "        canvas_div.css('height', height)\n",
       "\n",
       "        canvas.attr('width', width);\n",
       "        canvas.attr('height', height);\n",
       "\n",
       "        rubberband.attr('width', width);\n",
       "        rubberband.attr('height', height);\n",
       "    }\n",
       "\n",
       "    // Set the figure to an initial 600x600px, this will subsequently be updated\n",
       "    // upon first draw.\n",
       "    this._resize_canvas(600, 600);\n",
       "\n",
       "    // Disable right mouse context menu.\n",
       "    $(this.rubberband_canvas).bind(\"contextmenu\",function(e){\n",
       "        return false;\n",
       "    });\n",
       "\n",
       "    function set_focus () {\n",
       "        canvas.focus();\n",
       "        canvas_div.focus();\n",
       "    }\n",
       "\n",
       "    window.setTimeout(set_focus, 100);\n",
       "}\n",
       "\n",
       "mpl.figure.prototype._init_toolbar = function() {\n",
       "    var fig = this;\n",
       "\n",
       "    var nav_element = $('<div/>')\n",
       "    nav_element.attr('style', 'width: 100%');\n",
       "    this.root.append(nav_element);\n",
       "\n",
       "    // Define a callback function for later on.\n",
       "    function toolbar_event(event) {\n",
       "        return fig.toolbar_button_onclick(event['data']);\n",
       "    }\n",
       "    function toolbar_mouse_event(event) {\n",
       "        return fig.toolbar_button_onmouseover(event['data']);\n",
       "    }\n",
       "\n",
       "    for(var toolbar_ind in mpl.toolbar_items) {\n",
       "        var name = mpl.toolbar_items[toolbar_ind][0];\n",
       "        var tooltip = mpl.toolbar_items[toolbar_ind][1];\n",
       "        var image = mpl.toolbar_items[toolbar_ind][2];\n",
       "        var method_name = mpl.toolbar_items[toolbar_ind][3];\n",
       "\n",
       "        if (!name) {\n",
       "            // put a spacer in here.\n",
       "            continue;\n",
       "        }\n",
       "        var button = $('<button/>');\n",
       "        button.addClass('ui-button ui-widget ui-state-default ui-corner-all ' +\n",
       "                        'ui-button-icon-only');\n",
       "        button.attr('role', 'button');\n",
       "        button.attr('aria-disabled', 'false');\n",
       "        button.click(method_name, toolbar_event);\n",
       "        button.mouseover(tooltip, toolbar_mouse_event);\n",
       "\n",
       "        var icon_img = $('<span/>');\n",
       "        icon_img.addClass('ui-button-icon-primary ui-icon');\n",
       "        icon_img.addClass(image);\n",
       "        icon_img.addClass('ui-corner-all');\n",
       "\n",
       "        var tooltip_span = $('<span/>');\n",
       "        tooltip_span.addClass('ui-button-text');\n",
       "        tooltip_span.html(tooltip);\n",
       "\n",
       "        button.append(icon_img);\n",
       "        button.append(tooltip_span);\n",
       "\n",
       "        nav_element.append(button);\n",
       "    }\n",
       "\n",
       "    var fmt_picker_span = $('<span/>');\n",
       "\n",
       "    var fmt_picker = $('<select/>');\n",
       "    fmt_picker.addClass('mpl-toolbar-option ui-widget ui-widget-content');\n",
       "    fmt_picker_span.append(fmt_picker);\n",
       "    nav_element.append(fmt_picker_span);\n",
       "    this.format_dropdown = fmt_picker[0];\n",
       "\n",
       "    for (var ind in mpl.extensions) {\n",
       "        var fmt = mpl.extensions[ind];\n",
       "        var option = $(\n",
       "            '<option/>', {selected: fmt === mpl.default_extension}).html(fmt);\n",
       "        fmt_picker.append(option)\n",
       "    }\n",
       "\n",
       "    // Add hover states to the ui-buttons\n",
       "    $( \".ui-button\" ).hover(\n",
       "        function() { $(this).addClass(\"ui-state-hover\");},\n",
       "        function() { $(this).removeClass(\"ui-state-hover\");}\n",
       "    );\n",
       "\n",
       "    var status_bar = $('<span class=\"mpl-message\"/>');\n",
       "    nav_element.append(status_bar);\n",
       "    this.message = status_bar[0];\n",
       "}\n",
       "\n",
       "mpl.figure.prototype.request_resize = function(x_pixels, y_pixels) {\n",
       "    // Request matplotlib to resize the figure. Matplotlib will then trigger a resize in the client,\n",
       "    // which will in turn request a refresh of the image.\n",
       "    this.send_message('resize', {'width': x_pixels, 'height': y_pixels});\n",
       "}\n",
       "\n",
       "mpl.figure.prototype.send_message = function(type, properties) {\n",
       "    properties['type'] = type;\n",
       "    properties['figure_id'] = this.id;\n",
       "    this.ws.send(JSON.stringify(properties));\n",
       "}\n",
       "\n",
       "mpl.figure.prototype.send_draw_message = function() {\n",
       "    if (!this.waiting) {\n",
       "        this.waiting = true;\n",
       "        this.ws.send(JSON.stringify({type: \"draw\", figure_id: this.id}));\n",
       "    }\n",
       "}\n",
       "\n",
       "\n",
       "mpl.figure.prototype.handle_save = function(fig, msg) {\n",
       "    var format_dropdown = fig.format_dropdown;\n",
       "    var format = format_dropdown.options[format_dropdown.selectedIndex].value;\n",
       "    fig.ondownload(fig, format);\n",
       "}\n",
       "\n",
       "\n",
       "mpl.figure.prototype.handle_resize = function(fig, msg) {\n",
       "    var size = msg['size'];\n",
       "    if (size[0] != fig.canvas.width || size[1] != fig.canvas.height) {\n",
       "        fig._resize_canvas(size[0], size[1]);\n",
       "        fig.send_message(\"refresh\", {});\n",
       "    };\n",
       "}\n",
       "\n",
       "mpl.figure.prototype.handle_rubberband = function(fig, msg) {\n",
       "    var x0 = msg['x0'];\n",
       "    var y0 = fig.canvas.height - msg['y0'];\n",
       "    var x1 = msg['x1'];\n",
       "    var y1 = fig.canvas.height - msg['y1'];\n",
       "    x0 = Math.floor(x0) + 0.5;\n",
       "    y0 = Math.floor(y0) + 0.5;\n",
       "    x1 = Math.floor(x1) + 0.5;\n",
       "    y1 = Math.floor(y1) + 0.5;\n",
       "    var min_x = Math.min(x0, x1);\n",
       "    var min_y = Math.min(y0, y1);\n",
       "    var width = Math.abs(x1 - x0);\n",
       "    var height = Math.abs(y1 - y0);\n",
       "\n",
       "    fig.rubberband_context.clearRect(\n",
       "        0, 0, fig.canvas.width, fig.canvas.height);\n",
       "\n",
       "    fig.rubberband_context.strokeRect(min_x, min_y, width, height);\n",
       "}\n",
       "\n",
       "mpl.figure.prototype.handle_figure_label = function(fig, msg) {\n",
       "    // Updates the figure title.\n",
       "    fig.header.textContent = msg['label'];\n",
       "}\n",
       "\n",
       "mpl.figure.prototype.handle_cursor = function(fig, msg) {\n",
       "    var cursor = msg['cursor'];\n",
       "    switch(cursor)\n",
       "    {\n",
       "    case 0:\n",
       "        cursor = 'pointer';\n",
       "        break;\n",
       "    case 1:\n",
       "        cursor = 'default';\n",
       "        break;\n",
       "    case 2:\n",
       "        cursor = 'crosshair';\n",
       "        break;\n",
       "    case 3:\n",
       "        cursor = 'move';\n",
       "        break;\n",
       "    }\n",
       "    fig.rubberband_canvas.style.cursor = cursor;\n",
       "}\n",
       "\n",
       "mpl.figure.prototype.handle_message = function(fig, msg) {\n",
       "    fig.message.textContent = msg['message'];\n",
       "}\n",
       "\n",
       "mpl.figure.prototype.handle_draw = function(fig, msg) {\n",
       "    // Request the server to send over a new figure.\n",
       "    fig.send_draw_message();\n",
       "}\n",
       "\n",
       "mpl.figure.prototype.handle_image_mode = function(fig, msg) {\n",
       "    fig.image_mode = msg['mode'];\n",
       "}\n",
       "\n",
       "mpl.figure.prototype.updated_canvas_event = function() {\n",
       "    // Called whenever the canvas gets updated.\n",
       "    this.send_message(\"ack\", {});\n",
       "}\n",
       "\n",
       "// A function to construct a web socket function for onmessage handling.\n",
       "// Called in the figure constructor.\n",
       "mpl.figure.prototype._make_on_message_function = function(fig) {\n",
       "    return function socket_on_message(evt) {\n",
       "        if (evt.data instanceof Blob) {\n",
       "            /* FIXME: We get \"Resource interpreted as Image but\n",
       "             * transferred with MIME type text/plain:\" errors on\n",
       "             * Chrome.  But how to set the MIME type?  It doesn't seem\n",
       "             * to be part of the websocket stream */\n",
       "            evt.data.type = \"image/png\";\n",
       "\n",
       "            /* Free the memory for the previous frames */\n",
       "            if (fig.imageObj.src) {\n",
       "                (window.URL || window.webkitURL).revokeObjectURL(\n",
       "                    fig.imageObj.src);\n",
       "            }\n",
       "\n",
       "            fig.imageObj.src = (window.URL || window.webkitURL).createObjectURL(\n",
       "                evt.data);\n",
       "            fig.updated_canvas_event();\n",
       "            fig.waiting = false;\n",
       "            return;\n",
       "        }\n",
       "        else if (typeof evt.data === 'string' && evt.data.slice(0, 21) == \"data:image/png;base64\") {\n",
       "            fig.imageObj.src = evt.data;\n",
       "            fig.updated_canvas_event();\n",
       "            fig.waiting = false;\n",
       "            return;\n",
       "        }\n",
       "\n",
       "        var msg = JSON.parse(evt.data);\n",
       "        var msg_type = msg['type'];\n",
       "\n",
       "        // Call the  \"handle_{type}\" callback, which takes\n",
       "        // the figure and JSON message as its only arguments.\n",
       "        try {\n",
       "            var callback = fig[\"handle_\" + msg_type];\n",
       "        } catch (e) {\n",
       "            console.log(\"No handler for the '\" + msg_type + \"' message type: \", msg);\n",
       "            return;\n",
       "        }\n",
       "\n",
       "        if (callback) {\n",
       "            try {\n",
       "                // console.log(\"Handling '\" + msg_type + \"' message: \", msg);\n",
       "                callback(fig, msg);\n",
       "            } catch (e) {\n",
       "                console.log(\"Exception inside the 'handler_\" + msg_type + \"' callback:\", e, e.stack, msg);\n",
       "            }\n",
       "        }\n",
       "    };\n",
       "}\n",
       "\n",
       "// from http://stackoverflow.com/questions/1114465/getting-mouse-location-in-canvas\n",
       "mpl.findpos = function(e) {\n",
       "    //this section is from http://www.quirksmode.org/js/events_properties.html\n",
       "    var targ;\n",
       "    if (!e)\n",
       "        e = window.event;\n",
       "    if (e.target)\n",
       "        targ = e.target;\n",
       "    else if (e.srcElement)\n",
       "        targ = e.srcElement;\n",
       "    if (targ.nodeType == 3) // defeat Safari bug\n",
       "        targ = targ.parentNode;\n",
       "\n",
       "    // jQuery normalizes the pageX and pageY\n",
       "    // pageX,Y are the mouse positions relative to the document\n",
       "    // offset() returns the position of the element relative to the document\n",
       "    var x = e.pageX - $(targ).offset().left;\n",
       "    var y = e.pageY - $(targ).offset().top;\n",
       "\n",
       "    return {\"x\": x, \"y\": y};\n",
       "};\n",
       "\n",
       "/*\n",
       " * return a copy of an object with only non-object keys\n",
       " * we need this to avoid circular references\n",
       " * http://stackoverflow.com/a/24161582/3208463\n",
       " */\n",
       "function simpleKeys (original) {\n",
       "  return Object.keys(original).reduce(function (obj, key) {\n",
       "    if (typeof original[key] !== 'object')\n",
       "        obj[key] = original[key]\n",
       "    return obj;\n",
       "  }, {});\n",
       "}\n",
       "\n",
       "mpl.figure.prototype.mouse_event = function(event, name) {\n",
       "    var canvas_pos = mpl.findpos(event)\n",
       "\n",
       "    if (name === 'button_press')\n",
       "    {\n",
       "        this.canvas.focus();\n",
       "        this.canvas_div.focus();\n",
       "    }\n",
       "\n",
       "    var x = canvas_pos.x;\n",
       "    var y = canvas_pos.y;\n",
       "\n",
       "    this.send_message(name, {x: x, y: y, button: event.button,\n",
       "                             step: event.step,\n",
       "                             guiEvent: simpleKeys(event)});\n",
       "\n",
       "    /* This prevents the web browser from automatically changing to\n",
       "     * the text insertion cursor when the button is pressed.  We want\n",
       "     * to control all of the cursor setting manually through the\n",
       "     * 'cursor' event from matplotlib */\n",
       "    event.preventDefault();\n",
       "    return false;\n",
       "}\n",
       "\n",
       "mpl.figure.prototype._key_event_extra = function(event, name) {\n",
       "    // Handle any extra behaviour associated with a key event\n",
       "}\n",
       "\n",
       "mpl.figure.prototype.key_event = function(event, name) {\n",
       "\n",
       "    // Prevent repeat events\n",
       "    if (name == 'key_press')\n",
       "    {\n",
       "        if (event.which === this._key)\n",
       "            return;\n",
       "        else\n",
       "            this._key = event.which;\n",
       "    }\n",
       "    if (name == 'key_release')\n",
       "        this._key = null;\n",
       "\n",
       "    var value = '';\n",
       "    if (event.ctrlKey && event.which != 17)\n",
       "        value += \"ctrl+\";\n",
       "    if (event.altKey && event.which != 18)\n",
       "        value += \"alt+\";\n",
       "    if (event.shiftKey && event.which != 16)\n",
       "        value += \"shift+\";\n",
       "\n",
       "    value += 'k';\n",
       "    value += event.which.toString();\n",
       "\n",
       "    this._key_event_extra(event, name);\n",
       "\n",
       "    this.send_message(name, {key: value,\n",
       "                             guiEvent: simpleKeys(event)});\n",
       "    return false;\n",
       "}\n",
       "\n",
       "mpl.figure.prototype.toolbar_button_onclick = function(name) {\n",
       "    if (name == 'download') {\n",
       "        this.handle_save(this, null);\n",
       "    } else {\n",
       "        this.send_message(\"toolbar_button\", {name: name});\n",
       "    }\n",
       "};\n",
       "\n",
       "mpl.figure.prototype.toolbar_button_onmouseover = function(tooltip) {\n",
       "    this.message.textContent = tooltip;\n",
       "};\n",
       "mpl.toolbar_items = [[\"Home\", \"Reset original view\", \"fa fa-home icon-home\", \"home\"], [\"Back\", \"Back to  previous view\", \"fa fa-arrow-left icon-arrow-left\", \"back\"], [\"Forward\", \"Forward to next view\", \"fa fa-arrow-right icon-arrow-right\", \"forward\"], [\"\", \"\", \"\", \"\"], [\"Pan\", \"Pan axes with left mouse, zoom with right\", \"fa fa-arrows icon-move\", \"pan\"], [\"Zoom\", \"Zoom to rectangle\", \"fa fa-square-o icon-check-empty\", \"zoom\"], [\"\", \"\", \"\", \"\"], [\"Download\", \"Download plot\", \"fa fa-floppy-o icon-save\", \"download\"]];\n",
       "\n",
       "mpl.extensions = [\"eps\", \"jpeg\", \"pdf\", \"png\", \"ps\", \"raw\", \"svg\", \"tif\"];\n",
       "\n",
       "mpl.default_extension = \"png\";var comm_websocket_adapter = function(comm) {\n",
       "    // Create a \"websocket\"-like object which calls the given IPython comm\n",
       "    // object with the appropriate methods. Currently this is a non binary\n",
       "    // socket, so there is still some room for performance tuning.\n",
       "    var ws = {};\n",
       "\n",
       "    ws.close = function() {\n",
       "        comm.close()\n",
       "    };\n",
       "    ws.send = function(m) {\n",
       "        //console.log('sending', m);\n",
       "        comm.send(m);\n",
       "    };\n",
       "    // Register the callback with on_msg.\n",
       "    comm.on_msg(function(msg) {\n",
       "        //console.log('receiving', msg['content']['data'], msg);\n",
       "        // Pass the mpl event to the overriden (by mpl) onmessage function.\n",
       "        ws.onmessage(msg['content']['data'])\n",
       "    });\n",
       "    return ws;\n",
       "}\n",
       "\n",
       "mpl.mpl_figure_comm = function(comm, msg) {\n",
       "    // This is the function which gets called when the mpl process\n",
       "    // starts-up an IPython Comm through the \"matplotlib\" channel.\n",
       "\n",
       "    var id = msg.content.data.id;\n",
       "    // Get hold of the div created by the display call when the Comm\n",
       "    // socket was opened in Python.\n",
       "    var element = $(\"#\" + id);\n",
       "    var ws_proxy = comm_websocket_adapter(comm)\n",
       "\n",
       "    function ondownload(figure, format) {\n",
       "        window.open(figure.imageObj.src);\n",
       "    }\n",
       "\n",
       "    var fig = new mpl.figure(id, ws_proxy,\n",
       "                           ondownload,\n",
       "                           element.get(0));\n",
       "\n",
       "    // Call onopen now - mpl needs it, as it is assuming we've passed it a real\n",
       "    // web socket which is closed, not our websocket->open comm proxy.\n",
       "    ws_proxy.onopen();\n",
       "\n",
       "    fig.parent_element = element.get(0);\n",
       "    fig.cell_info = mpl.find_output_cell(\"<div id='\" + id + \"'></div>\");\n",
       "    if (!fig.cell_info) {\n",
       "        console.error(\"Failed to find cell for figure\", id, fig);\n",
       "        return;\n",
       "    }\n",
       "\n",
       "    var output_index = fig.cell_info[2]\n",
       "    var cell = fig.cell_info[0];\n",
       "\n",
       "};\n",
       "\n",
       "mpl.figure.prototype.handle_close = function(fig, msg) {\n",
       "    fig.root.unbind('remove')\n",
       "\n",
       "    // Update the output cell to use the data from the current canvas.\n",
       "    fig.push_to_output();\n",
       "    var dataURL = fig.canvas.toDataURL();\n",
       "    // Re-enable the keyboard manager in IPython - without this line, in FF,\n",
       "    // the notebook keyboard shortcuts fail.\n",
       "    IPython.keyboard_manager.enable()\n",
       "    $(fig.parent_element).html('<img src=\"' + dataURL + '\">');\n",
       "    fig.close_ws(fig, msg);\n",
       "}\n",
       "\n",
       "mpl.figure.prototype.close_ws = function(fig, msg){\n",
       "    fig.send_message('closing', msg);\n",
       "    // fig.ws.close()\n",
       "}\n",
       "\n",
       "mpl.figure.prototype.push_to_output = function(remove_interactive) {\n",
       "    // Turn the data on the canvas into data in the output cell.\n",
       "    var dataURL = this.canvas.toDataURL();\n",
       "    this.cell_info[1]['text/html'] = '<img src=\"' + dataURL + '\">';\n",
       "}\n",
       "\n",
       "mpl.figure.prototype.updated_canvas_event = function() {\n",
       "    // Tell IPython that the notebook contents must change.\n",
       "    IPython.notebook.set_dirty(true);\n",
       "    this.send_message(\"ack\", {});\n",
       "    var fig = this;\n",
       "    // Wait a second, then push the new image to the DOM so\n",
       "    // that it is saved nicely (might be nice to debounce this).\n",
       "    setTimeout(function () { fig.push_to_output() }, 1000);\n",
       "}\n",
       "\n",
       "mpl.figure.prototype._init_toolbar = function() {\n",
       "    var fig = this;\n",
       "\n",
       "    var nav_element = $('<div/>')\n",
       "    nav_element.attr('style', 'width: 100%');\n",
       "    this.root.append(nav_element);\n",
       "\n",
       "    // Define a callback function for later on.\n",
       "    function toolbar_event(event) {\n",
       "        return fig.toolbar_button_onclick(event['data']);\n",
       "    }\n",
       "    function toolbar_mouse_event(event) {\n",
       "        return fig.toolbar_button_onmouseover(event['data']);\n",
       "    }\n",
       "\n",
       "    for(var toolbar_ind in mpl.toolbar_items){\n",
       "        var name = mpl.toolbar_items[toolbar_ind][0];\n",
       "        var tooltip = mpl.toolbar_items[toolbar_ind][1];\n",
       "        var image = mpl.toolbar_items[toolbar_ind][2];\n",
       "        var method_name = mpl.toolbar_items[toolbar_ind][3];\n",
       "\n",
       "        if (!name) { continue; };\n",
       "\n",
       "        var button = $('<button class=\"btn btn-default\" href=\"#\" title=\"' + name + '\"><i class=\"fa ' + image + ' fa-lg\"></i></button>');\n",
       "        button.click(method_name, toolbar_event);\n",
       "        button.mouseover(tooltip, toolbar_mouse_event);\n",
       "        nav_element.append(button);\n",
       "    }\n",
       "\n",
       "    // Add the status bar.\n",
       "    var status_bar = $('<span class=\"mpl-message\" style=\"text-align:right; float: right;\"/>');\n",
       "    nav_element.append(status_bar);\n",
       "    this.message = status_bar[0];\n",
       "\n",
       "    // Add the close button to the window.\n",
       "    var buttongrp = $('<div class=\"btn-group inline pull-right\"></div>');\n",
       "    var button = $('<button class=\"btn btn-mini btn-primary\" href=\"#\" title=\"Stop Interaction\"><i class=\"fa fa-power-off icon-remove icon-large\"></i></button>');\n",
       "    button.click(function (evt) { fig.handle_close(fig, {}); } );\n",
       "    button.mouseover('Stop Interaction', toolbar_mouse_event);\n",
       "    buttongrp.append(button);\n",
       "    var titlebar = this.root.find($('.ui-dialog-titlebar'));\n",
       "    titlebar.prepend(buttongrp);\n",
       "}\n",
       "\n",
       "mpl.figure.prototype._root_extra_style = function(el){\n",
       "    var fig = this\n",
       "    el.on(\"remove\", function(){\n",
       "\tfig.close_ws(fig, {});\n",
       "    });\n",
       "}\n",
       "\n",
       "mpl.figure.prototype._canvas_extra_style = function(el){\n",
       "    // this is important to make the div 'focusable\n",
       "    el.attr('tabindex', 0)\n",
       "    // reach out to IPython and tell the keyboard manager to turn it's self\n",
       "    // off when our div gets focus\n",
       "\n",
       "    // location in version 3\n",
       "    if (IPython.notebook.keyboard_manager) {\n",
       "        IPython.notebook.keyboard_manager.register_events(el);\n",
       "    }\n",
       "    else {\n",
       "        // location in version 2\n",
       "        IPython.keyboard_manager.register_events(el);\n",
       "    }\n",
       "\n",
       "}\n",
       "\n",
       "mpl.figure.prototype._key_event_extra = function(event, name) {\n",
       "    var manager = IPython.notebook.keyboard_manager;\n",
       "    if (!manager)\n",
       "        manager = IPython.keyboard_manager;\n",
       "\n",
       "    // Check for shift+enter\n",
       "    if (event.shiftKey && event.which == 13) {\n",
       "        this.canvas_div.blur();\n",
       "        event.shiftKey = false;\n",
       "        // Send a \"J\" for go to next cell\n",
       "        event.which = 74;\n",
       "        event.keyCode = 74;\n",
       "        manager.command_mode();\n",
       "        manager.handle_keydown(event);\n",
       "    }\n",
       "}\n",
       "\n",
       "mpl.figure.prototype.handle_save = function(fig, msg) {\n",
       "    fig.ondownload(fig, null);\n",
       "}\n",
       "\n",
       "\n",
       "mpl.find_output_cell = function(html_output) {\n",
       "    // Return the cell and output element which can be found *uniquely* in the notebook.\n",
       "    // Note - this is a bit hacky, but it is done because the \"notebook_saving.Notebook\"\n",
       "    // IPython event is triggered only after the cells have been serialised, which for\n",
       "    // our purposes (turning an active figure into a static one), is too late.\n",
       "    var cells = IPython.notebook.get_cells();\n",
       "    var ncells = cells.length;\n",
       "    for (var i=0; i<ncells; i++) {\n",
       "        var cell = cells[i];\n",
       "        if (cell.cell_type === 'code'){\n",
       "            for (var j=0; j<cell.output_area.outputs.length; j++) {\n",
       "                var data = cell.output_area.outputs[j];\n",
       "                if (data.data) {\n",
       "                    // IPython >= 3 moved mimebundle to data attribute of output\n",
       "                    data = data.data;\n",
       "                }\n",
       "                if (data['text/html'] == html_output) {\n",
       "                    return [cell, data, j];\n",
       "                }\n",
       "            }\n",
       "        }\n",
       "    }\n",
       "}\n",
       "\n",
       "// Register the function which deals with the matplotlib target/channel.\n",
       "// The kernel may be null if the page has been refreshed.\n",
       "if (IPython.notebook.kernel != null) {\n",
       "    IPython.notebook.kernel.comm_manager.register_target('matplotlib', mpl.mpl_figure_comm);\n",
       "}\n"
      ],
      "text/plain": [
       "<IPython.core.display.Javascript object>"
      ]
     },
     "metadata": {},
     "output_type": "display_data"
    },
    {
     "data": {
      "text/html": [
       "<img src=\"data:image/png;base64,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\">"
      ],
      "text/plain": [
       "<IPython.core.display.HTML object>"
      ]
     },
     "metadata": {},
     "output_type": "display_data"
    },
    {
     "data": {
      "text/plain": [
       "<matplotlib.image.AxesImage at 0x119bd7910>"
      ]
     },
     "execution_count": 7,
     "metadata": {},
     "output_type": "execute_result"
    }
   ],
   "source": [
    "plt.imshow(albedo)"
   ]
  },
  {
   "cell_type": "code",
   "execution_count": 8,
   "metadata": {
    "collapsed": false
   },
   "outputs": [
    {
     "name": "stdout",
     "output_type": "stream",
     "text": [
      "/Users/brodzik/projects/CHARIS/snow_cover/modice.v0.4/min05yr_nc\n",
      "MODICE.v0.4.h22v04.1strike.min05yr.mask.nc\n",
      "MODICE.v0.4.h22v04.2strike.min05yr.mask.nc\n",
      "MODICE.v0.4.h22v04.3strike.min05yr.mask.nc\n",
      "MODICE.v0.4.h22v05.1strike.min05yr.mask.nc\n",
      "MODICE.v0.4.h22v05.2strike.min05yr.mask.nc\n",
      "MODICE.v0.4.h22v05.3strike.min05yr.mask.nc\n",
      "MODICE.v0.4.h23v04.1strike.min05yr.mask.nc\n",
      "MODICE.v0.4.h23v04.2strike.min05yr.mask.nc\n",
      "MODICE.v0.4.h23v04.3strike.min05yr.mask.nc\n",
      "MODICE.v0.4.h23v05.1strike.min05yr.mask.nc\n",
      "MODICE.v0.4.h23v05.2strike.min05yr.mask.nc\n",
      "MODICE.v0.4.h23v05.3strike.min05yr.mask.nc\n",
      "MODICE.v0.4.h23v06.1strike.min05yr.mask.nc\n",
      "MODICE.v0.4.h23v06.2strike.min05yr.mask.nc\n",
      "MODICE.v0.4.h23v06.3strike.min05yr.mask.nc\n",
      "MODICE.v0.4.h24v04.1strike.min05yr.mask.nc\n",
      "MODICE.v0.4.h24v04.2strike.min05yr.mask.nc\n",
      "MODICE.v0.4.h24v04.3strike.min05yr.mask.nc\n",
      "MODICE.v0.4.h24v05.1strike.min05yr.mask.nc\n",
      "MODICE.v0.4.h24v05.2strike.min05yr.mask.nc\n",
      "MODICE.v0.4.h24v05.3strike.min05yr.mask.nc\n",
      "MODICE.v0.4.h24v06.1strike.min05yr.mask.nc\n",
      "MODICE.v0.4.h24v06.2strike.min05yr.mask.nc\n",
      "MODICE.v0.4.h24v06.3strike.min05yr.mask.nc\n",
      "MODICE.v0.4.h25v05.1strike.min05yr.mask.nc\n",
      "MODICE.v0.4.h25v05.2strike.min05yr.mask.nc\n",
      "MODICE.v0.4.h25v05.3strike.min05yr.mask.nc\n",
      "MODICE.v0.4.h25v06.1strike.min05yr.mask.nc\n",
      "MODICE.v0.4.h25v06.2strike.min05yr.mask.nc\n",
      "MODICE.v0.4.h25v06.3strike.min05yr.mask.nc\n",
      "MODICE.v0.4.h26v05.1strike.min05yr.mask.nc\n",
      "MODICE.v0.4.h26v05.2strike.min05yr.mask.nc\n",
      "MODICE.v0.4.h26v05.3strike.min05yr.mask.nc\n",
      "MODICE.v0.4.h26v06.1strike.min05yr.mask.nc\n",
      "MODICE.v0.4.h26v06.2strike.min05yr.mask.nc\n",
      "MODICE.v0.4.h26v06.3strike.min05yr.mask.nc\n"
     ]
    }
   ],
   "source": [
    "%cd /Users/brodzik/projects/CHARIS/snow_cover/modice.v0.4/min05yr_nc\n",
    "%ls\n"
   ]
  },
  {
   "cell_type": "code",
   "execution_count": 9,
   "metadata": {
    "collapsed": false
   },
   "outputs": [],
   "source": [
    "modice = read_tile(filename=\"MODICE.v0.4.h23v05.1strike.min05yr.mask.nc\",\n",
    "                   varname=\"modice_min_year_mask\")"
   ]
  },
  {
   "cell_type": "code",
   "execution_count": 10,
   "metadata": {
    "collapsed": false
   },
   "outputs": [
    {
     "data": {
      "text/plain": [
       "(0, 2)"
      ]
     },
     "execution_count": 10,
     "metadata": {},
     "output_type": "execute_result"
    }
   ],
   "source": [
    "np.amin(modice), np.amax(modice)"
   ]
  },
  {
   "cell_type": "code",
   "execution_count": 14,
   "metadata": {
    "collapsed": false
   },
   "outputs": [
    {
     "data": {
      "text/plain": [
       "<matplotlib.image.AxesImage at 0x119bf3510>"
      ]
     },
     "execution_count": 14,
     "metadata": {},
     "output_type": "execute_result"
    }
   ],
   "source": [
    "plt.imshow(modice)"
   ]
  },
  {
   "cell_type": "code",
   "execution_count": 12,
   "metadata": {
    "collapsed": false
   },
   "outputs": [
    {
     "name": "stdout",
     "output_type": "stream",
     "text": [
      "(2400, 2400)\n",
      "0.0\n",
      "1.0\n"
     ]
    }
   ],
   "source": [
    "unclass = np.logical_and(albedo.mask, modice == 2).astype(float)\n",
    "print(unclass.shape)\n",
    "print(np.amin(unclass))\n",
    "print(np.amax(unclass))"
   ]
  },
  {
   "cell_type": "code",
   "execution_count": 13,
   "metadata": {
    "collapsed": false
   },
   "outputs": [
    {
     "data": {
      "text/plain": [
       "<matplotlib.image.AxesImage at 0x111673810>"
      ]
     },
     "execution_count": 13,
     "metadata": {},
     "output_type": "execute_result"
    }
   ],
   "source": [
    "plt.imshow(unclass)"
   ]
  },
  {
   "cell_type": "code",
   "execution_count": null,
   "metadata": {
    "collapsed": false
   },
   "outputs": [],
   "source": [
    "x = np.arange(5.)\n",
    "x[2] = 1.e20\n",
    "x[3] = 1.e20\n",
    "x"
   ]
  },
  {
   "cell_type": "code",
   "execution_count": null,
   "metadata": {
    "collapsed": false
   },
   "outputs": [],
   "source": [
    "y = np.ma.masked_values(x,1.e20)\n",
    "print(type(y))\n",
    "print(y)"
   ]
  },
  {
   "cell_type": "code",
   "execution_count": null,
   "metadata": {
    "collapsed": false,
    "scrolled": true
   },
   "outputs": [],
   "source": [
    "modice = np.asarray([0, 2, 0, 2, 1])\n",
    "modice"
   ]
  },
  {
   "cell_type": "code",
   "execution_count": null,
   "metadata": {
    "collapsed": false
   },
   "outputs": [],
   "source": [
    "print(y.mask)\n",
    "print(modice == 2)"
   ]
  },
  {
   "cell_type": "code",
   "execution_count": null,
   "metadata": {
    "collapsed": false
   },
   "outputs": [],
   "source": [
    "np.logical_and(y.mask, modice == 2).astype(float)"
   ]
  },
  {
   "cell_type": "code",
   "execution_count": null,
   "metadata": {
    "collapsed": false
   },
   "outputs": [],
   "source": [
    "unclass = np.zeros(5)\n",
    "unclass[np.logical_and(y.mask, modice == 2)] = 1\n",
    "unclass\n",
    "#idx = where(y is masked and modice==2)"
   ]
  },
  {
   "cell_type": "code",
   "execution_count": null,
   "metadata": {
    "collapsed": true
   },
   "outputs": [],
   "source": [
    "[np.logical_and(y.mask, modice == 2)] = 1"
   ]
  }
 ],
 "metadata": {
  "kernelspec": {
   "display_name": "Python 2",
   "language": "python",
   "name": "python2"
  },
  "language_info": {
   "codemirror_mode": {
    "name": "ipython",
    "version": 2
   },
   "file_extension": ".py",
   "mimetype": "text/x-python",
   "name": "python",
   "nbconvert_exporter": "python",
   "pygments_lexer": "ipython2",
   "version": "2.7.11"
  }
 },
 "nbformat": 4,
 "nbformat_minor": 0
}
