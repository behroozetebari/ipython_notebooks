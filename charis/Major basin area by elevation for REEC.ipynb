{
 "cells": [
  {
   "cell_type": "markdown",
   "metadata": {},
   "source": [
    "<h2>Calculates the CHARIS major basin area by elevations</h2>\n"
   ]
  },
  {
   "cell_type": "code",
   "execution_count": null,
   "metadata": {},
   "outputs": [],
   "source": [
    "%pylab notebook\n",
    "import datetime as dt\n",
    "import glob\n",
    "import matplotlib.pyplot as plt\n",
    "import matplotlib.dates as md\n",
    "#from nose.tools import set_trace\n",
    "from charistools.convertors import Dem2Hypsometry\n",
    "from charistools.convertors import Modice2Hypsometry\n",
    "from charistools.hypsometry import Hypsometry\n",
    "from charistools.meltModels import TriSurfTempIndexMelt\n",
    "from charistools.meltModels import ImshowTriSurfMelt\n",
    "from charistools.meltModels import PlotTriSurfInput\n",
    "from charistools.meltModels import PlotTriSurfMelt\n",
    "from charistools.modelEnv import ModelEnv\n",
    "from charistools.timeSeries import TimeSeries\n",
    "import numpy as np\n",
    "from netCDF4 import Dataset\n",
    "import numpy as np\n",
    "import pandas as pd\n",
    "import rasterio\n",
    "import re\n",
    "import seaborn as sns\n",
    "import os\n",
    "sns.set()\n",
    "sns.axes_style(\"darkgrid\")"
   ]
  },
  {
   "cell_type": "code",
   "execution_count": null,
   "metadata": {},
   "outputs": [],
   "source": [
    "configFile = '/Users/brodzik/ipython_notebooks/charis/calibration_modelEnv_config.ini'\n",
    "myEnv = ModelEnv(tileConfigFile=configFile)\n",
    "\n",
    "# reset basin mask directory  and filename patterns slightly\n",
    "print(\"Before:\")\n",
    "print(myEnv.tileConfig['input']['fixed']['basin_mask']['dir'])\n",
    "print(myEnv.tileConfig['input']['fixed']['basin_mask']['pattern'])\n",
    "print(myEnv.tileConfig['hypsometry']['area_by_elevation']['dir'])\n",
    "print(myEnv.tileConfig['hypsometry']['modice_min05yr_by_elevation']['dir'])\n",
    "\n",
    "myEnv.tileConfig['input']['fixed']['basin_mask']['dir'] = \"%MODEL_TOP_DIR%/basins/major_basins_from_GRDC/MODIStiles\"\n",
    "myEnv.tileConfig['input']['fixed']['basin_mask']['pattern'] = \"%DRAINAGEID%_%TILEID%.tif\"\n",
    "myEnv.tileConfig['hypsometry']['area_by_elevation']['dir'] = \"%MODEL_TOP_DIR%/derived_hypsometries/REECv0/basin_areas\"\n",
    "myEnv.tileConfig['hypsometry']['modice_min05yr_by_elevation']['dir'] = \"%MODEL_TOP_DIR%/derived_hypsometries/REECv0/basin_areas\"\n",
    "\n",
    "print(\"After:\")\n",
    "print(myEnv.tileConfig['input']['fixed']['basin_mask']['dir'])\n",
    "print(myEnv.tileConfig['input']['fixed']['basin_mask']['pattern'])\n",
    "print(myEnv.tileConfig['hypsometry']['area_by_elevation']['dir'])\n",
    "print(myEnv.tileConfig['hypsometry']['modice_min05yr_by_elevation']['dir'])"
   ]
  },
  {
   "cell_type": "code",
   "execution_count": null,
   "metadata": {
    "scrolled": true
   },
   "outputs": [],
   "source": [
    "# Basins with endorheic holes filled in\n",
    "#majorBasinIDs = [\"SY_SyrDarya_at_TyumenAryk\",\n",
    "#                 \"AM_AmuDarya_at_Chatly_noholes\",\n",
    "#                 \"IN_Indus_at_Kotri_nolobe_gcs_noholes\",\n",
    "#                 \"GA_Ganges_at_Paksey\",\n",
    "#                 \"BR_Bramaputra_at_Bahadurabad_noholes\"]\n",
    "# GRDC Basins, Indus corrected for lobe\n",
    "#majorBasinIDs = [\"SY_SyrDarya_at_TyumenAryk\",\n",
    "#                 \"AM_AmuDarya_at_Chatly\",\n",
    "#                 \"IN_Indus_at_Kotri\",\n",
    "#                 \"GA_Ganges_at_Paksey\",\n",
    "#                 \"BR_Bramaputra_at_Bahadurabad\"]\n",
    "majorBasinIDs = [#\"SY_SyrDarya_at_TyumenAryk\",\n",
    "                 #\"AM_AmuDarya_at_Chatly\",\n",
    "                 #\"AM_AmuDarya_at_Chatly_noholes\",\n",
    "                 #\"IN_Indus_at_Kotri\",\n",
    "                 #\"IN_Indus_at_Kotri_nolobe\",\n",
    "                 \"IN_Indus_at_Kotri_nolobe_gcs_noholes\"]\n",
    "                 #\"GA_Ganges_at_Paksey\",\n",
    "                 #\"BR_Bramaputra_at_Bahadurabad\",\n",
    "                 #\"BR_Bramaputra_at_Bahadurabad_noholes\"]\n",
    "majorBasinNames = [#\"SY (GRDC)\",\n",
    "                   #\"AM (GRDC)\",\n",
    "                   #\"AM (GRDC holes filled)\",\n",
    "                   #\"IN (GRDC)\",\n",
    "                   #\"IN (GRDC no lobe)\",\n",
    "                   \"IN (GRDC no lobe, holes filled)\"]\n",
    "                   #\"GA (GRDC)\",\n",
    "                   #\"BR (GRDC)\",\n",
    "                   #\"BR (GRDC holes filled)\"]\n",
    "majorBasinIDs\n"
   ]
  },
  {
   "cell_type": "code",
   "execution_count": null,
   "metadata": {},
   "outputs": [],
   "source": [
    "#print(ModelEnv.tileIDs_for_drainage(myEnv, drainageID=majorBasinIDs[4]))\n",
    "#print(myEnv.hypsometry_filename(type='area_by_elevation', \n",
    "#                                contour_m=50,\n",
    "#                                drainageID=majorBasinIDs[0]))\n",
    "#print(myEnv.hypsometry_filename(type='modice_min05yr_by_elevation', \n",
    "#                          drainageID=majorBasinIDs[0], modice_nstrikes=3))"
   ]
  },
  {
   "cell_type": "code",
   "execution_count": null,
   "metadata": {},
   "outputs": [],
   "source": [
    "verbose = False\n",
    "contour_m = 100"
   ]
  },
  {
   "cell_type": "code",
   "execution_count": null,
   "metadata": {
    "scrolled": false
   },
   "outputs": [],
   "source": [
    "for id in majorBasinIDs:\n",
    "    outFile = myEnv.hypsometry_filename(type='area_by_elevation', \n",
    "                                        contour_m=contour_m,\n",
    "                                        drainageID=id)\n",
    "    print(\"DEM   : %s\" % outFile)\n",
    "    hyps = Dem2Hypsometry(id, myEnv, contour_m=contour_m,\n",
    "                          outfile=outFile, decimal_places=4,\n",
    "                          verbose=verbose)\n",
    "    print(\"Total masked area = %f\" % hyps.data.sum().sum())\n",
    "    for n in np.arange(3):\n",
    "        outFile = myEnv.hypsometry_filename(type='modice_min05yr_by_elevation', \n",
    "                                            drainageID=id,\n",
    "                                            contour_m=contour_m,\n",
    "                                            modice_nstrikes=n+1)\n",
    "        print(\"MODICE: %d : %s\" % (n, outFile))\n",
    "        hyps = Modice2Hypsometry(id, myEnv, contour_m=contour_m,\n",
    "                                 modice_nstrikes=n+1,\n",
    "                                 outfile=outFile, \n",
    "                                 decimal_places=4, \n",
    "                                 verbose=verbose)"
   ]
  },
  {
   "cell_type": "code",
   "execution_count": null,
   "metadata": {},
   "outputs": [],
   "source": [
    "my_series = pd.Series(majorBasinIDs)\n",
    "df = pd.DataFrame(my_series)\n",
    "df.columns = ['Basin']\n",
    "df.set_index('Basin', inplace=True)\n",
    "df[\"Name\"] = majorBasinNames\n",
    "df"
   ]
  },
  {
   "cell_type": "code",
   "execution_count": null,
   "metadata": {},
   "outputs": [],
   "source": [
    "outdir = \"/Users/brodzik/projects/CHARIS/derived_hypsometries/REECv0/basin_areas\""
   ]
  },
  {
   "cell_type": "code",
   "execution_count": null,
   "metadata": {
    "scrolled": false
   },
   "outputs": [],
   "source": [
    "fig, axes = plt.subplots(1)\n",
    "for id in majorBasinIDs:\n",
    "    outFile = myEnv.hypsometry_filename(type='area_by_elevation', \n",
    "                                        contour_m=contour_m,\n",
    "                                        drainageID=id)\n",
    "    print(outFile)\n",
    "    hyps = Hypsometry(outFile)\n",
    "    label = \"%s (%d $km^2$)\" % (id, hyps.data.sum().sum())\n",
    "    df.ix[id,'Basin Area (km2)'] = hyps.data.sum().sum()\n",
    "    axes.plot(hyps.data.loc['NoDate'].values,\n",
    "              np.array(hyps.data.loc['NoDate'].index),\n",
    "              label=label)\n",
    "    axes.legend()\n",
    "fig.suptitle('CHARIS Major basins')\n",
    "#fig.savefig(\"%s/%s\" % (outdir, \"CHARIS_basins_area_by_elevation.png\"))"
   ]
  },
  {
   "cell_type": "code",
   "execution_count": null,
   "metadata": {},
   "outputs": [],
   "source": [
    "df"
   ]
  },
  {
   "cell_type": "code",
   "execution_count": null,
   "metadata": {
    "scrolled": false
   },
   "outputs": [],
   "source": [
    "limit_m = 2000\n",
    "fig, axes = plt.subplots()\n",
    "for id in majorBasinIDs:\n",
    "    outFile = myEnv.hypsometry_filename(type='area_by_elevation', \n",
    "                                        contour_m = contour_m,\n",
    "                                        drainageID=id)\n",
    "    print(outFile)\n",
    "    hyps = Hypsometry(outFile)\n",
    "    hyps.data.drop(hyps.data.columns[hyps.data.columns < limit_m], axis=1, inplace=True)\n",
    "    label = \"%s (%d $km^2$)\" % (df.Name.loc[id], hyps.data.sum().sum())\n",
    "    df.ix[id,'Basin Area > %dm (km2)' % limit_m] = hyps.data.sum().sum()\n",
    "    axes.plot(hyps.data.loc['NoDate'].values,\n",
    "              np.array(hyps.data.loc['NoDate'].index),\n",
    "              label=label)\n",
    "\n",
    "axes.set_xlabel(\"Area per %d m band ($km^2$)\" % contour_m)\n",
    "axes.set_ylabel(\"Elevation ($m$)\")\n",
    "axes.set_xlim([0., 25000.])\n",
    "axes.set_ylim([2000., 7000.])\n",
    "axes.legend()\n",
    "fig.suptitle('Elevation distribution of CHARIS major basins')\n",
    "#fig.savefig(\"%s/CHARIS_basin_area_by_elevation.above%dm.v1.png\" % (outdir, limit_m))"
   ]
  },
  {
   "cell_type": "code",
   "execution_count": null,
   "metadata": {
    "scrolled": false
   },
   "outputs": [],
   "source": [
    "contour_m = 100\n",
    "limit_m = 2000\n",
    "for id in majorBasinIDs:\n",
    "    for n in np.arange(3) + 1:\n",
    "        outFile = myEnv.hypsometry_filename(type='modice_min05yr_by_elevation', \n",
    "                                            drainageID=id,\n",
    "                                            contour_m=contour_m,\n",
    "                                            modice_nstrikes=n)\n",
    "        print(\"MODICE: %d : %s\" % (n, outFile))\n",
    "    \n",
    "        hyps = Hypsometry(outFile)\n",
    "        print(hyps.data.transpose())\n",
    "        print(\" Total MODICE area: %f\" % hyps.data.sum().sum())\n",
    "        hyps.data.drop(hyps.data.columns[hyps.data.columns < limit_m],\n",
    "                       axis=1, inplace=True)\n",
    "        print(\" Total MODICE area (>2000): %f\" % hyps.data.sum().sum())\n",
    "        \n",
    "        df.ix[id,'MODICE (%dstr) Area > %dm (km2)' % (n, limit_m)] = hyps.data.sum().sum()\n"
   ]
  },
  {
   "cell_type": "code",
   "execution_count": null,
   "metadata": {
    "scrolled": true
   },
   "outputs": [],
   "source": [
    "df"
   ]
  },
  {
   "cell_type": "code",
   "execution_count": null,
   "metadata": {},
   "outputs": [],
   "source": [
    "csvfile = \"%s/CHARIS_basin_area_summary.csv\" % outdir\n",
    "df.to_csv(csvfile)"
   ]
  },
  {
   "cell_type": "code",
   "execution_count": null,
   "metadata": {},
   "outputs": [],
   "source": [
    "outdir\n"
   ]
  },
  {
   "cell_type": "markdown",
   "metadata": {},
   "source": [
    "# Sanity check--find SY MODICE area manually, don't care about hypsometry, just masked area"
   ]
  },
  {
   "cell_type": "code",
   "execution_count": null,
   "metadata": {},
   "outputs": [],
   "source": [
    "basin_dir = \"/Users/brodzik/projects/CHARIS/basins/major_basins_from_GRDC/MODIStiles\"\n",
    "modice_dir = \"/Users/brodzik/projects/CHARIS/snow_cover/modice.v0.4/min05yr_nc\"\n",
    "#drainageID = \"SY_SyrDarya_at_TyumenAryk\"\n",
    "#tiles = ['h22v04', 'h23v04', 'h23v05']\n",
    "#drainageID = \"AM_AmuDarya_at_Chatly_noholes\"\n",
    "#tiles = ['h22v04', 'h22v05', 'h23v04', 'h23v05']\n",
    "#drainageID = \"IN_Indus_at_Kotri_nolobe_gcs_noholes\"\n",
    "#tiles = ['h23v05', 'h23v06', 'h24v05', 'h24v06', 'h25v05']\n",
    "#drainageID = \"GA_Ganges_at_Paksey\"\n",
    "#tiles = ['h24v05', 'h24v06', 'h25v05', 'h25v06', 'h26v06']\n",
    "drainageID = \"BR_Bramaputra_at_Bahadurabad_noholes\"\n",
    "tiles = ['h25v05', 'h25v06', 'h26v05', 'h26v06']\n",
    "nstrikes = 2"
   ]
  },
  {
   "cell_type": "code",
   "execution_count": null,
   "metadata": {
    "scrolled": false
   },
   "outputs": [],
   "source": [
    "total_area = 0.\n",
    "for tile in tiles:\n",
    "    basinFile = \"%s/%s_%s.tif\" % (basin_dir, drainageID, tile)\n",
    "    modiceFile = \"%s/MODICE.v0.4.%s.%dstrike.min05yr.mask.nc\" % (modice_dir, tile, nstrikes)\n",
    "    \n",
    "    # Read mask file\n",
    "    with rasterio.open(basinFile) as src:\n",
    "        mask = np.squeeze(src.read())\n",
    "    \n",
    "    print(basinFile)\n",
    "    \n",
    "    f = Dataset(modiceFile, \"r\", 'NETCDF4')\n",
    "    modice = f.variables['modice_min_year_mask'][:]\n",
    "    modice[modice == 1] = 0\n",
    "    print(modiceFile)\n",
    "    modice_count = modice[modice == 2].shape[0]\n",
    "    unmasked_area = modice_count * 463.312717 * 463.312717 / ( 1000. * 1000.)\n",
    "    \n",
    "    fig, axes = plt.subplots(2, 2, figsize=(12,8))\n",
    "    \n",
    "    axes[0,0].imshow(mask, cmap='Greys', vmin=np.amin(mask), vmax=np.amax(mask), interpolation='None')\n",
    "    axes[0,0].set_title(\"%s: mask\" % drainageID)\n",
    "    axes[0,0].axis('off')\n",
    "    \n",
    "    axes[0,1].imshow(modice, cmap='Greys', vmin=np.amin(modice), vmax=np.amax(modice), interpolation='None')\n",
    "    axes[0,1].set_title(\"%s: modice\" % tile )\n",
    "    axes[0,1].axis('off')\n",
    "    \n",
    "    masked_modice = modice.copy()\n",
    "    masked_modice[mask == 0] = 0\n",
    "    masked_count = masked_modice[masked_modice == 2].shape[0]\n",
    "    masked_area = masked_count * 463.312717 * 463.312717 / ( 1000. * 1000.)\n",
    "    print(\"in %s, %s, ice pixels %d, area = %f sq km\" % (drainageID, tile, masked_count, masked_area ))\n",
    "    axes[1,1].imshow(masked_modice, cmap='Greys', vmin=np.amin(modice), vmax=np.amax(modice), interpolation='None')\n",
    "    axes[1,1].set_title(\"%s: modice masked for %s\" % (tile, drainageID) )\n",
    "    axes[1,1].axis('off')\n",
    "    \n",
    "    total_area = total_area + masked_area\n",
    "    \n",
    "    fig.tight_layout()\n",
    "    \n",
    "print(\"in %s, MODICE area = %f\" % (drainageID, total_area))\n",
    "    \n"
   ]
  },
  {
   "cell_type": "code",
   "execution_count": null,
   "metadata": {},
   "outputs": [],
   "source": []
  }
 ],
 "metadata": {
  "kernelspec": {
   "display_name": "Python 2",
   "language": "python",
   "name": "python2"
  },
  "language_info": {
   "codemirror_mode": {
    "name": "ipython",
    "version": 2
   },
   "file_extension": ".py",
   "mimetype": "text/x-python",
   "name": "python",
   "nbconvert_exporter": "python",
   "pygments_lexer": "ipython2",
   "version": "2.7.15"
  }
 },
 "nbformat": 4,
 "nbformat_minor": 1
}
