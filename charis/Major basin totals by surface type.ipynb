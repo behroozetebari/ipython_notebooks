{
 "cells": [
  {
   "cell_type": "markdown",
   "metadata": {},
   "source": [
    "<h2>Displays ti_melt model results for all snowy basins in a major basin, by surface type</h2>\n"
   ]
  },
  {
   "cell_type": "code",
   "execution_count": 1,
   "metadata": {
    "collapsed": false
   },
   "outputs": [
    {
     "name": "stderr",
     "output_type": "stream",
     "text": [
      "/Users/brodzik/.conda/envs/charis/lib/python2.7/site-packages/matplotlib/font_manager.py:273: UserWarning: Matplotlib is building the font cache using fc-list. This may take a moment.\n",
      "  warnings.warn('Matplotlib is building the font cache using fc-list. This may take a moment.')\n"
     ]
    },
    {
     "name": "stdout",
     "output_type": "stream",
     "text": [
      "Populating the interactive namespace from numpy and matplotlib\n"
     ]
    }
   ],
   "source": [
    "%pylab notebook\n",
    "import datetime as dt\n",
    "import glob\n",
    "import matplotlib.pyplot as plt\n",
    "import matplotlib.dates as md\n",
    "from charistools.hypsometry import Hypsometry\n",
    "from charistools.meltModels import ImshowTriSurfMelt\n",
    "from charistools.meltModels import PlotTriSurfInput\n",
    "from charistools.meltModels import PlotTriSurfMelt\n",
    "from charistools.modelEnv import ModelEnv\n",
    "from charistools.timeSeries import TimeSeries\n",
    "import pandas as pd\n",
    "import re\n",
    "import os\n",
    "pd.set_option('display.max_rows', 366)"
   ]
  },
  {
   "cell_type": "code",
   "execution_count": 2,
   "metadata": {
    "collapsed": false,
    "scrolled": false
   },
   "outputs": [
    {
     "name": "stdout",
     "output_type": "stream",
     "text": [
      "/Users/brodzik/projects/CHARIS/derived_hypsometries/MODSCAG_GF_v09_fromFile_rainv01_less_ET\n",
      "\u001b[34mAM_OBJECTID100\u001b[m\u001b[m/            \u001b[34mGA_Karnali_at_Benighat\u001b[m\u001b[m/\n",
      "\u001b[34mAM_OBJECTID62\u001b[m\u001b[m/             \u001b[34mGA_Langtang_at_Kyanjin\u001b[m\u001b[m/\n",
      "\u001b[34mAM_OBJECTID64\u001b[m\u001b[m/             \u001b[34mGA_Narayani_at_Devghat\u001b[m\u001b[m/\n",
      "\u001b[34mAM_OBJECTID65\u001b[m\u001b[m/             \u001b[34mGA_SaptaKosi_at_Chatara\u001b[m\u001b[m/\n",
      "\u001b[34mAM_OBJECTID66\u001b[m\u001b[m/             \u001b[34mGA_v01_OBJECTID1\u001b[m\u001b[m/\n",
      "\u001b[34mAM_OBJECTID68\u001b[m\u001b[m/             \u001b[34mGA_v01_OBJECTID10\u001b[m\u001b[m/\n",
      "\u001b[34mAM_OBJECTID69\u001b[m\u001b[m/             \u001b[34mGA_v01_OBJECTID12\u001b[m\u001b[m/\n",
      "\u001b[34mAM_OBJECTID72\u001b[m\u001b[m/             \u001b[34mGA_v01_OBJECTID2\u001b[m\u001b[m/\n",
      "\u001b[34mAM_OBJECTID77\u001b[m\u001b[m/             \u001b[34mGA_v01_OBJECTID22\u001b[m\u001b[m/\n",
      "\u001b[34mAM_OBJECTID78\u001b[m\u001b[m/             \u001b[34mGA_v01_OBJECTID3\u001b[m\u001b[m/\n",
      "\u001b[34mAM_OBJECTID79\u001b[m\u001b[m/             \u001b[34mGA_v01_OBJECTID32\u001b[m\u001b[m/\n",
      "\u001b[34mAM_OBJECTID80\u001b[m\u001b[m/             \u001b[34mGA_v01_OBJECTID4\u001b[m\u001b[m/\n",
      "\u001b[34mAM_OBJECTID81\u001b[m\u001b[m/             \u001b[34mGA_v01_OBJECTID6\u001b[m\u001b[m/\n",
      "\u001b[34mAM_OBJECTID82\u001b[m\u001b[m/             \u001b[34mGA_v01_OBJECTID9\u001b[m\u001b[m/\n",
      "\u001b[34mAM_OBJECTID83\u001b[m\u001b[m/             \u001b[34mIN_Hunza_at_DainyorBridge\u001b[m\u001b[m/\n",
      "\u001b[34mAM_OBJECTID84\u001b[m\u001b[m/             \u001b[34mIN_v01_OBJECTID0\u001b[m\u001b[m/\n",
      "\u001b[34mAM_OBJECTID85\u001b[m\u001b[m/             \u001b[34mIN_v01_OBJECTID10\u001b[m\u001b[m/\n",
      "\u001b[34mAM_OBJECTID86\u001b[m\u001b[m/             \u001b[34mIN_v01_OBJECTID11\u001b[m\u001b[m/\n",
      "\u001b[34mAM_OBJECTID88\u001b[m\u001b[m/             \u001b[34mIN_v01_OBJECTID12\u001b[m\u001b[m/\n",
      "\u001b[34mAM_OBJECTID89\u001b[m\u001b[m/             \u001b[34mIN_v01_OBJECTID13\u001b[m\u001b[m/\n",
      "\u001b[34mAM_OBJECTID90\u001b[m\u001b[m/             \u001b[34mIN_v01_OBJECTID14\u001b[m\u001b[m/\n",
      "\u001b[34mAM_OBJECTID91\u001b[m\u001b[m/             \u001b[34mIN_v01_OBJECTID17\u001b[m\u001b[m/\n",
      "\u001b[34mAM_OBJECTID93\u001b[m\u001b[m/             \u001b[34mIN_v01_OBJECTID18\u001b[m\u001b[m/\n",
      "\u001b[34mAM_OBJECTID94\u001b[m\u001b[m/             \u001b[34mIN_v01_OBJECTID19\u001b[m\u001b[m/\n",
      "\u001b[34mAM_OBJECTID97\u001b[m\u001b[m/             \u001b[34mIN_v01_OBJECTID2\u001b[m\u001b[m/\n",
      "\u001b[34mAM_OBJECTID98\u001b[m\u001b[m/             \u001b[34mIN_v01_OBJECTID20\u001b[m\u001b[m/\n",
      "\u001b[34mAM_OBJECTID99\u001b[m\u001b[m/             \u001b[34mIN_v01_OBJECTID21\u001b[m\u001b[m/\n",
      "\u001b[34mAM_Vakhsh_at_Komsomolabad\u001b[m\u001b[m/ \u001b[34mIN_v01_OBJECTID23\u001b[m\u001b[m/\n",
      "\u001b[34mBR_OBJECTID10\u001b[m\u001b[m/             \u001b[34mIN_v01_OBJECTID24\u001b[m\u001b[m/\n",
      "\u001b[34mBR_OBJECTID11\u001b[m\u001b[m/             \u001b[34mIN_v01_OBJECTID25\u001b[m\u001b[m/\n",
      "\u001b[34mBR_OBJECTID12\u001b[m\u001b[m/             \u001b[34mIN_v01_OBJECTID26\u001b[m\u001b[m/\n",
      "\u001b[34mBR_OBJECTID13\u001b[m\u001b[m/             \u001b[34mIN_v01_OBJECTID27\u001b[m\u001b[m/\n",
      "\u001b[34mBR_OBJECTID14\u001b[m\u001b[m/             \u001b[34mIN_v01_OBJECTID29\u001b[m\u001b[m/\n",
      "\u001b[34mBR_OBJECTID15\u001b[m\u001b[m/             \u001b[34mIN_v01_OBJECTID30\u001b[m\u001b[m/\n",
      "\u001b[34mBR_OBJECTID16\u001b[m\u001b[m/             \u001b[34mIN_v01_OBJECTID31\u001b[m\u001b[m/\n",
      "\u001b[34mBR_OBJECTID17\u001b[m\u001b[m/             \u001b[34mIN_v01_OBJECTID32\u001b[m\u001b[m/\n",
      "\u001b[34mBR_OBJECTID18\u001b[m\u001b[m/             \u001b[34mIN_v01_OBJECTID33\u001b[m\u001b[m/\n",
      "\u001b[34mBR_OBJECTID19\u001b[m\u001b[m/             \u001b[34mIN_v01_OBJECTID34\u001b[m\u001b[m/\n",
      "\u001b[34mBR_OBJECTID20\u001b[m\u001b[m/             \u001b[34mIN_v01_OBJECTID36\u001b[m\u001b[m/\n",
      "\u001b[34mBR_OBJECTID21\u001b[m\u001b[m/             \u001b[34mIN_v01_OBJECTID37\u001b[m\u001b[m/\n",
      "\u001b[34mBR_OBJECTID22\u001b[m\u001b[m/             \u001b[34mIN_v01_OBJECTID39\u001b[m\u001b[m/\n",
      "\u001b[34mBR_OBJECTID23\u001b[m\u001b[m/             \u001b[34mIN_v01_OBJECTID4\u001b[m\u001b[m/\n",
      "\u001b[34mBR_OBJECTID24\u001b[m\u001b[m/             \u001b[34mIN_v01_OBJECTID44\u001b[m\u001b[m/\n",
      "\u001b[34mBR_OBJECTID25\u001b[m\u001b[m/             \u001b[34mIN_v01_OBJECTID47\u001b[m\u001b[m/\n",
      "\u001b[34mBR_OBJECTID26\u001b[m\u001b[m/             \u001b[34mIN_v01_OBJECTID48\u001b[m\u001b[m/\n",
      "\u001b[34mBR_OBJECTID27\u001b[m\u001b[m/             \u001b[34mIN_v01_OBJECTID53\u001b[m\u001b[m/\n",
      "\u001b[34mBR_OBJECTID28\u001b[m\u001b[m/             \u001b[34mIN_v01_OBJECTID56\u001b[m\u001b[m/\n",
      "\u001b[34mBR_OBJECTID29\u001b[m\u001b[m/             \u001b[34mIN_v01_OBJECTID57\u001b[m\u001b[m/\n",
      "\u001b[34mBR_OBJECTID30\u001b[m\u001b[m/             \u001b[34mIN_v01_OBJECTID58\u001b[m\u001b[m/\n",
      "\u001b[34mBR_OBJECTID32\u001b[m\u001b[m/             \u001b[34mIN_v01_OBJECTID59\u001b[m\u001b[m/\n",
      "\u001b[34mBR_OBJECTID33\u001b[m\u001b[m/             \u001b[34mIN_v01_OBJECTID6\u001b[m\u001b[m/\n",
      "\u001b[34mBR_OBJECTID34\u001b[m\u001b[m/             \u001b[34mIN_v01_OBJECTID62\u001b[m\u001b[m/\n",
      "\u001b[34mBR_OBJECTID35\u001b[m\u001b[m/             \u001b[34mIN_v01_OBJECTID63\u001b[m\u001b[m/\n",
      "\u001b[34mBR_OBJECTID36\u001b[m\u001b[m/             \u001b[34mIN_v01_OBJECTID65\u001b[m\u001b[m/\n",
      "\u001b[34mBR_OBJECTID37\u001b[m\u001b[m/             \u001b[34mIN_v01_OBJECTID7\u001b[m\u001b[m/\n",
      "\u001b[34mBR_OBJECTID38\u001b[m\u001b[m/             \u001b[34mIN_v01_OBJECTID73\u001b[m\u001b[m/\n",
      "\u001b[34mBR_OBJECTID39\u001b[m\u001b[m/             \u001b[34mIN_v01_OBJECTID8\u001b[m\u001b[m/\n",
      "\u001b[34mBR_OBJECTID4\u001b[m\u001b[m/              \u001b[34mIN_v01_OBJECTID9\u001b[m\u001b[m/\n",
      "\u001b[34mBR_OBJECTID40\u001b[m\u001b[m/             \u001b[34mSY_v01_OBJECTID941\u001b[m\u001b[m/\n",
      "\u001b[34mBR_OBJECTID41\u001b[m\u001b[m/             \u001b[34mSY_v01_OBJECTID950\u001b[m\u001b[m/\n",
      "\u001b[34mBR_OBJECTID42\u001b[m\u001b[m/             \u001b[34mSY_v01_OBJECTID951\u001b[m\u001b[m/\n",
      "\u001b[34mBR_OBJECTID43\u001b[m\u001b[m/             \u001b[34mSY_v01_OBJECTID952\u001b[m\u001b[m/\n",
      "\u001b[34mBR_OBJECTID44\u001b[m\u001b[m/             \u001b[34mSY_v01_OBJECTID953\u001b[m\u001b[m/\n",
      "\u001b[34mBR_OBJECTID46\u001b[m\u001b[m/             \u001b[34mSY_v01_OBJECTID955\u001b[m\u001b[m/\n",
      "\u001b[34mBR_OBJECTID47\u001b[m\u001b[m/             \u001b[34mSY_v01_OBJECTID956\u001b[m\u001b[m/\n",
      "\u001b[34mBR_OBJECTID49\u001b[m\u001b[m/             \u001b[34mSY_v01_OBJECTID957\u001b[m\u001b[m/\n",
      "\u001b[34mBR_OBJECTID5\u001b[m\u001b[m/              \u001b[34mSY_v01_OBJECTID958\u001b[m\u001b[m/\n",
      "\u001b[34mBR_OBJECTID52\u001b[m\u001b[m/             \u001b[34mSY_v01_OBJECTID959\u001b[m\u001b[m/\n",
      "\u001b[34mBR_OBJECTID56\u001b[m\u001b[m/             \u001b[34mSY_v01_OBJECTID960\u001b[m\u001b[m/\n",
      "\u001b[34mBR_OBJECTID57\u001b[m\u001b[m/             \u001b[34mSY_v01_OBJECTID961\u001b[m\u001b[m/\n",
      "\u001b[34mBR_OBJECTID59\u001b[m\u001b[m/             \u001b[34mSY_v01_OBJECTID962\u001b[m\u001b[m/\n",
      "\u001b[34mBR_OBJECTID6\u001b[m\u001b[m/              \u001b[34mSY_v01_OBJECTID964\u001b[m\u001b[m/\n",
      "\u001b[34mBR_OBJECTID61\u001b[m\u001b[m/             \u001b[34mSY_v01_OBJECTID965\u001b[m\u001b[m/\n",
      "\u001b[34mBR_OBJECTID7\u001b[m\u001b[m/              \u001b[34mSY_v01_OBJECTID966\u001b[m\u001b[m/\n",
      "\u001b[34mBR_OBJECTID8\u001b[m\u001b[m/              \u001b[34mSY_v01_OBJECTID967\u001b[m\u001b[m/\n",
      "\u001b[34mBR_OBJECTID9\u001b[m\u001b[m/\n"
     ]
    }
   ],
   "source": [
    "%cd /Users/brodzik/projects/CHARIS/derived_hypsometries/MODSCAG_GF_v09_fromFile_rainv01_less_ET/\n",
    "%ls"
   ]
  },
  {
   "cell_type": "code",
   "execution_count": 32,
   "metadata": {
    "collapsed": false,
    "scrolled": true
   },
   "outputs": [
    {
     "name": "stdout",
     "output_type": "stream",
     "text": [
      "['AM_OBJECTID100', 'AM_OBJECTID62', 'AM_OBJECTID64', 'AM_OBJECTID65', 'AM_OBJECTID66', 'AM_OBJECTID68', 'AM_OBJECTID69', 'AM_OBJECTID72', 'AM_OBJECTID77', 'AM_OBJECTID78', 'AM_OBJECTID79', 'AM_OBJECTID80', 'AM_OBJECTID81', 'AM_OBJECTID82', 'AM_OBJECTID83', 'AM_OBJECTID84', 'AM_OBJECTID85', 'AM_OBJECTID86', 'AM_OBJECTID88', 'AM_OBJECTID89', 'AM_OBJECTID90', 'AM_OBJECTID91', 'AM_OBJECTID93', 'AM_OBJECTID94', 'AM_OBJECTID97', 'AM_OBJECTID98', 'AM_OBJECTID99']\n",
      "There are 27 sub-basins for the AM major basin\n"
     ]
    }
   ],
   "source": [
    "# Generate a list of all OBJECTID basins\n",
    "#majorBasinID = 'IN_v01'\n",
    "majorBasinID = 'AM'\n",
    "#majorBasinID = 'SY_v01'\n",
    "drainageIDs = glob.glob(\"%s_OBJECTID*\" % majorBasinID)\n",
    "drainageIDs.sort()\n",
    "#drainageIDs = drainageIDs[:2]\n",
    "print(drainageIDs)\n",
    "print(\"There are %d sub-basins for the %s major basin\" % (len(drainageIDs), majorBasinID))"
   ]
  },
  {
   "cell_type": "code",
   "execution_count": 33,
   "metadata": {
    "collapsed": false,
    "scrolled": true
   },
   "outputs": [
    {
     "data": {
      "application/javascript": [
       "/* Put everything inside the global mpl namespace */\n",
       "window.mpl = {};\n",
       "\n",
       "mpl.get_websocket_type = function() {\n",
       "    if (typeof(WebSocket) !== 'undefined') {\n",
       "        return WebSocket;\n",
       "    } else if (typeof(MozWebSocket) !== 'undefined') {\n",
       "        return MozWebSocket;\n",
       "    } else {\n",
       "        alert('Your browser does not have WebSocket support.' +\n",
       "              'Please try Chrome, Safari or Firefox ≥ 6. ' +\n",
       "              'Firefox 4 and 5 are also supported but you ' +\n",
       "              'have to enable WebSockets in about:config.');\n",
       "    };\n",
       "}\n",
       "\n",
       "mpl.figure = function(figure_id, websocket, ondownload, parent_element) {\n",
       "    this.id = figure_id;\n",
       "\n",
       "    this.ws = websocket;\n",
       "\n",
       "    this.supports_binary = (this.ws.binaryType != undefined);\n",
       "\n",
       "    if (!this.supports_binary) {\n",
       "        var warnings = document.getElementById(\"mpl-warnings\");\n",
       "        if (warnings) {\n",
       "            warnings.style.display = 'block';\n",
       "            warnings.textContent = (\n",
       "                \"This browser does not support binary websocket messages. \" +\n",
       "                    \"Performance may be slow.\");\n",
       "        }\n",
       "    }\n",
       "\n",
       "    this.imageObj = new Image();\n",
       "\n",
       "    this.context = undefined;\n",
       "    this.message = undefined;\n",
       "    this.canvas = undefined;\n",
       "    this.rubberband_canvas = undefined;\n",
       "    this.rubberband_context = undefined;\n",
       "    this.format_dropdown = undefined;\n",
       "\n",
       "    this.image_mode = 'full';\n",
       "\n",
       "    this.root = $('<div/>');\n",
       "    this._root_extra_style(this.root)\n",
       "    this.root.attr('style', 'display: inline-block');\n",
       "\n",
       "    $(parent_element).append(this.root);\n",
       "\n",
       "    this._init_header(this);\n",
       "    this._init_canvas(this);\n",
       "    this._init_toolbar(this);\n",
       "\n",
       "    var fig = this;\n",
       "\n",
       "    this.waiting = false;\n",
       "\n",
       "    this.ws.onopen =  function () {\n",
       "            fig.send_message(\"supports_binary\", {value: fig.supports_binary});\n",
       "            fig.send_message(\"send_image_mode\", {});\n",
       "            fig.send_message(\"refresh\", {});\n",
       "        }\n",
       "\n",
       "    this.imageObj.onload = function() {\n",
       "            if (fig.image_mode == 'full') {\n",
       "                // Full images could contain transparency (where diff images\n",
       "                // almost always do), so we need to clear the canvas so that\n",
       "                // there is no ghosting.\n",
       "                fig.context.clearRect(0, 0, fig.canvas.width, fig.canvas.height);\n",
       "            }\n",
       "            fig.context.drawImage(fig.imageObj, 0, 0);\n",
       "        };\n",
       "\n",
       "    this.imageObj.onunload = function() {\n",
       "        this.ws.close();\n",
       "    }\n",
       "\n",
       "    this.ws.onmessage = this._make_on_message_function(this);\n",
       "\n",
       "    this.ondownload = ondownload;\n",
       "}\n",
       "\n",
       "mpl.figure.prototype._init_header = function() {\n",
       "    var titlebar = $(\n",
       "        '<div class=\"ui-dialog-titlebar ui-widget-header ui-corner-all ' +\n",
       "        'ui-helper-clearfix\"/>');\n",
       "    var titletext = $(\n",
       "        '<div class=\"ui-dialog-title\" style=\"width: 100%; ' +\n",
       "        'text-align: center; padding: 3px;\"/>');\n",
       "    titlebar.append(titletext)\n",
       "    this.root.append(titlebar);\n",
       "    this.header = titletext[0];\n",
       "}\n",
       "\n",
       "\n",
       "\n",
       "mpl.figure.prototype._canvas_extra_style = function(canvas_div) {\n",
       "\n",
       "}\n",
       "\n",
       "\n",
       "mpl.figure.prototype._root_extra_style = function(canvas_div) {\n",
       "\n",
       "}\n",
       "\n",
       "mpl.figure.prototype._init_canvas = function() {\n",
       "    var fig = this;\n",
       "\n",
       "    var canvas_div = $('<div/>');\n",
       "\n",
       "    canvas_div.attr('style', 'position: relative; clear: both; outline: 0');\n",
       "\n",
       "    function canvas_keyboard_event(event) {\n",
       "        return fig.key_event(event, event['data']);\n",
       "    }\n",
       "\n",
       "    canvas_div.keydown('key_press', canvas_keyboard_event);\n",
       "    canvas_div.keyup('key_release', canvas_keyboard_event);\n",
       "    this.canvas_div = canvas_div\n",
       "    this._canvas_extra_style(canvas_div)\n",
       "    this.root.append(canvas_div);\n",
       "\n",
       "    var canvas = $('<canvas/>');\n",
       "    canvas.addClass('mpl-canvas');\n",
       "    canvas.attr('style', \"left: 0; top: 0; z-index: 0; outline: 0\")\n",
       "\n",
       "    this.canvas = canvas[0];\n",
       "    this.context = canvas[0].getContext(\"2d\");\n",
       "\n",
       "    var rubberband = $('<canvas/>');\n",
       "    rubberband.attr('style', \"position: absolute; left: 0; top: 0; z-index: 1;\")\n",
       "\n",
       "    var pass_mouse_events = true;\n",
       "\n",
       "    canvas_div.resizable({\n",
       "        start: function(event, ui) {\n",
       "            pass_mouse_events = false;\n",
       "        },\n",
       "        resize: function(event, ui) {\n",
       "            fig.request_resize(ui.size.width, ui.size.height);\n",
       "        },\n",
       "        stop: function(event, ui) {\n",
       "            pass_mouse_events = true;\n",
       "            fig.request_resize(ui.size.width, ui.size.height);\n",
       "        },\n",
       "    });\n",
       "\n",
       "    function mouse_event_fn(event) {\n",
       "        if (pass_mouse_events)\n",
       "            return fig.mouse_event(event, event['data']);\n",
       "    }\n",
       "\n",
       "    rubberband.mousedown('button_press', mouse_event_fn);\n",
       "    rubberband.mouseup('button_release', mouse_event_fn);\n",
       "    // Throttle sequential mouse events to 1 every 20ms.\n",
       "    rubberband.mousemove('motion_notify', mouse_event_fn);\n",
       "\n",
       "    rubberband.mouseenter('figure_enter', mouse_event_fn);\n",
       "    rubberband.mouseleave('figure_leave', mouse_event_fn);\n",
       "\n",
       "    canvas_div.on(\"wheel\", function (event) {\n",
       "        event = event.originalEvent;\n",
       "        event['data'] = 'scroll'\n",
       "        if (event.deltaY < 0) {\n",
       "            event.step = 1;\n",
       "        } else {\n",
       "            event.step = -1;\n",
       "        }\n",
       "        mouse_event_fn(event);\n",
       "    });\n",
       "\n",
       "    canvas_div.append(canvas);\n",
       "    canvas_div.append(rubberband);\n",
       "\n",
       "    this.rubberband = rubberband;\n",
       "    this.rubberband_canvas = rubberband[0];\n",
       "    this.rubberband_context = rubberband[0].getContext(\"2d\");\n",
       "    this.rubberband_context.strokeStyle = \"#000000\";\n",
       "\n",
       "    this._resize_canvas = function(width, height) {\n",
       "        // Keep the size of the canvas, canvas container, and rubber band\n",
       "        // canvas in synch.\n",
       "        canvas_div.css('width', width)\n",
       "        canvas_div.css('height', height)\n",
       "\n",
       "        canvas.attr('width', width);\n",
       "        canvas.attr('height', height);\n",
       "\n",
       "        rubberband.attr('width', width);\n",
       "        rubberband.attr('height', height);\n",
       "    }\n",
       "\n",
       "    // Set the figure to an initial 600x600px, this will subsequently be updated\n",
       "    // upon first draw.\n",
       "    this._resize_canvas(600, 600);\n",
       "\n",
       "    // Disable right mouse context menu.\n",
       "    $(this.rubberband_canvas).bind(\"contextmenu\",function(e){\n",
       "        return false;\n",
       "    });\n",
       "\n",
       "    function set_focus () {\n",
       "        canvas.focus();\n",
       "        canvas_div.focus();\n",
       "    }\n",
       "\n",
       "    window.setTimeout(set_focus, 100);\n",
       "}\n",
       "\n",
       "mpl.figure.prototype._init_toolbar = function() {\n",
       "    var fig = this;\n",
       "\n",
       "    var nav_element = $('<div/>')\n",
       "    nav_element.attr('style', 'width: 100%');\n",
       "    this.root.append(nav_element);\n",
       "\n",
       "    // Define a callback function for later on.\n",
       "    function toolbar_event(event) {\n",
       "        return fig.toolbar_button_onclick(event['data']);\n",
       "    }\n",
       "    function toolbar_mouse_event(event) {\n",
       "        return fig.toolbar_button_onmouseover(event['data']);\n",
       "    }\n",
       "\n",
       "    for(var toolbar_ind in mpl.toolbar_items) {\n",
       "        var name = mpl.toolbar_items[toolbar_ind][0];\n",
       "        var tooltip = mpl.toolbar_items[toolbar_ind][1];\n",
       "        var image = mpl.toolbar_items[toolbar_ind][2];\n",
       "        var method_name = mpl.toolbar_items[toolbar_ind][3];\n",
       "\n",
       "        if (!name) {\n",
       "            // put a spacer in here.\n",
       "            continue;\n",
       "        }\n",
       "        var button = $('<button/>');\n",
       "        button.addClass('ui-button ui-widget ui-state-default ui-corner-all ' +\n",
       "                        'ui-button-icon-only');\n",
       "        button.attr('role', 'button');\n",
       "        button.attr('aria-disabled', 'false');\n",
       "        button.click(method_name, toolbar_event);\n",
       "        button.mouseover(tooltip, toolbar_mouse_event);\n",
       "\n",
       "        var icon_img = $('<span/>');\n",
       "        icon_img.addClass('ui-button-icon-primary ui-icon');\n",
       "        icon_img.addClass(image);\n",
       "        icon_img.addClass('ui-corner-all');\n",
       "\n",
       "        var tooltip_span = $('<span/>');\n",
       "        tooltip_span.addClass('ui-button-text');\n",
       "        tooltip_span.html(tooltip);\n",
       "\n",
       "        button.append(icon_img);\n",
       "        button.append(tooltip_span);\n",
       "\n",
       "        nav_element.append(button);\n",
       "    }\n",
       "\n",
       "    var fmt_picker_span = $('<span/>');\n",
       "\n",
       "    var fmt_picker = $('<select/>');\n",
       "    fmt_picker.addClass('mpl-toolbar-option ui-widget ui-widget-content');\n",
       "    fmt_picker_span.append(fmt_picker);\n",
       "    nav_element.append(fmt_picker_span);\n",
       "    this.format_dropdown = fmt_picker[0];\n",
       "\n",
       "    for (var ind in mpl.extensions) {\n",
       "        var fmt = mpl.extensions[ind];\n",
       "        var option = $(\n",
       "            '<option/>', {selected: fmt === mpl.default_extension}).html(fmt);\n",
       "        fmt_picker.append(option)\n",
       "    }\n",
       "\n",
       "    // Add hover states to the ui-buttons\n",
       "    $( \".ui-button\" ).hover(\n",
       "        function() { $(this).addClass(\"ui-state-hover\");},\n",
       "        function() { $(this).removeClass(\"ui-state-hover\");}\n",
       "    );\n",
       "\n",
       "    var status_bar = $('<span class=\"mpl-message\"/>');\n",
       "    nav_element.append(status_bar);\n",
       "    this.message = status_bar[0];\n",
       "}\n",
       "\n",
       "mpl.figure.prototype.request_resize = function(x_pixels, y_pixels) {\n",
       "    // Request matplotlib to resize the figure. Matplotlib will then trigger a resize in the client,\n",
       "    // which will in turn request a refresh of the image.\n",
       "    this.send_message('resize', {'width': x_pixels, 'height': y_pixels});\n",
       "}\n",
       "\n",
       "mpl.figure.prototype.send_message = function(type, properties) {\n",
       "    properties['type'] = type;\n",
       "    properties['figure_id'] = this.id;\n",
       "    this.ws.send(JSON.stringify(properties));\n",
       "}\n",
       "\n",
       "mpl.figure.prototype.send_draw_message = function() {\n",
       "    if (!this.waiting) {\n",
       "        this.waiting = true;\n",
       "        this.ws.send(JSON.stringify({type: \"draw\", figure_id: this.id}));\n",
       "    }\n",
       "}\n",
       "\n",
       "\n",
       "mpl.figure.prototype.handle_save = function(fig, msg) {\n",
       "    var format_dropdown = fig.format_dropdown;\n",
       "    var format = format_dropdown.options[format_dropdown.selectedIndex].value;\n",
       "    fig.ondownload(fig, format);\n",
       "}\n",
       "\n",
       "\n",
       "mpl.figure.prototype.handle_resize = function(fig, msg) {\n",
       "    var size = msg['size'];\n",
       "    if (size[0] != fig.canvas.width || size[1] != fig.canvas.height) {\n",
       "        fig._resize_canvas(size[0], size[1]);\n",
       "        fig.send_message(\"refresh\", {});\n",
       "    };\n",
       "}\n",
       "\n",
       "mpl.figure.prototype.handle_rubberband = function(fig, msg) {\n",
       "    var x0 = msg['x0'];\n",
       "    var y0 = fig.canvas.height - msg['y0'];\n",
       "    var x1 = msg['x1'];\n",
       "    var y1 = fig.canvas.height - msg['y1'];\n",
       "    x0 = Math.floor(x0) + 0.5;\n",
       "    y0 = Math.floor(y0) + 0.5;\n",
       "    x1 = Math.floor(x1) + 0.5;\n",
       "    y1 = Math.floor(y1) + 0.5;\n",
       "    var min_x = Math.min(x0, x1);\n",
       "    var min_y = Math.min(y0, y1);\n",
       "    var width = Math.abs(x1 - x0);\n",
       "    var height = Math.abs(y1 - y0);\n",
       "\n",
       "    fig.rubberband_context.clearRect(\n",
       "        0, 0, fig.canvas.width, fig.canvas.height);\n",
       "\n",
       "    fig.rubberband_context.strokeRect(min_x, min_y, width, height);\n",
       "}\n",
       "\n",
       "mpl.figure.prototype.handle_figure_label = function(fig, msg) {\n",
       "    // Updates the figure title.\n",
       "    fig.header.textContent = msg['label'];\n",
       "}\n",
       "\n",
       "mpl.figure.prototype.handle_cursor = function(fig, msg) {\n",
       "    var cursor = msg['cursor'];\n",
       "    switch(cursor)\n",
       "    {\n",
       "    case 0:\n",
       "        cursor = 'pointer';\n",
       "        break;\n",
       "    case 1:\n",
       "        cursor = 'default';\n",
       "        break;\n",
       "    case 2:\n",
       "        cursor = 'crosshair';\n",
       "        break;\n",
       "    case 3:\n",
       "        cursor = 'move';\n",
       "        break;\n",
       "    }\n",
       "    fig.rubberband_canvas.style.cursor = cursor;\n",
       "}\n",
       "\n",
       "mpl.figure.prototype.handle_message = function(fig, msg) {\n",
       "    fig.message.textContent = msg['message'];\n",
       "}\n",
       "\n",
       "mpl.figure.prototype.handle_draw = function(fig, msg) {\n",
       "    // Request the server to send over a new figure.\n",
       "    fig.send_draw_message();\n",
       "}\n",
       "\n",
       "mpl.figure.prototype.handle_image_mode = function(fig, msg) {\n",
       "    fig.image_mode = msg['mode'];\n",
       "}\n",
       "\n",
       "mpl.figure.prototype.updated_canvas_event = function() {\n",
       "    // Called whenever the canvas gets updated.\n",
       "    this.send_message(\"ack\", {});\n",
       "}\n",
       "\n",
       "// A function to construct a web socket function for onmessage handling.\n",
       "// Called in the figure constructor.\n",
       "mpl.figure.prototype._make_on_message_function = function(fig) {\n",
       "    return function socket_on_message(evt) {\n",
       "        if (evt.data instanceof Blob) {\n",
       "            /* FIXME: We get \"Resource interpreted as Image but\n",
       "             * transferred with MIME type text/plain:\" errors on\n",
       "             * Chrome.  But how to set the MIME type?  It doesn't seem\n",
       "             * to be part of the websocket stream */\n",
       "            evt.data.type = \"image/png\";\n",
       "\n",
       "            /* Free the memory for the previous frames */\n",
       "            if (fig.imageObj.src) {\n",
       "                (window.URL || window.webkitURL).revokeObjectURL(\n",
       "                    fig.imageObj.src);\n",
       "            }\n",
       "\n",
       "            fig.imageObj.src = (window.URL || window.webkitURL).createObjectURL(\n",
       "                evt.data);\n",
       "            fig.updated_canvas_event();\n",
       "            fig.waiting = false;\n",
       "            return;\n",
       "        }\n",
       "        else if (typeof evt.data === 'string' && evt.data.slice(0, 21) == \"data:image/png;base64\") {\n",
       "            fig.imageObj.src = evt.data;\n",
       "            fig.updated_canvas_event();\n",
       "            fig.waiting = false;\n",
       "            return;\n",
       "        }\n",
       "\n",
       "        var msg = JSON.parse(evt.data);\n",
       "        var msg_type = msg['type'];\n",
       "\n",
       "        // Call the  \"handle_{type}\" callback, which takes\n",
       "        // the figure and JSON message as its only arguments.\n",
       "        try {\n",
       "            var callback = fig[\"handle_\" + msg_type];\n",
       "        } catch (e) {\n",
       "            console.log(\"No handler for the '\" + msg_type + \"' message type: \", msg);\n",
       "            return;\n",
       "        }\n",
       "\n",
       "        if (callback) {\n",
       "            try {\n",
       "                // console.log(\"Handling '\" + msg_type + \"' message: \", msg);\n",
       "                callback(fig, msg);\n",
       "            } catch (e) {\n",
       "                console.log(\"Exception inside the 'handler_\" + msg_type + \"' callback:\", e, e.stack, msg);\n",
       "            }\n",
       "        }\n",
       "    };\n",
       "}\n",
       "\n",
       "// from http://stackoverflow.com/questions/1114465/getting-mouse-location-in-canvas\n",
       "mpl.findpos = function(e) {\n",
       "    //this section is from http://www.quirksmode.org/js/events_properties.html\n",
       "    var targ;\n",
       "    if (!e)\n",
       "        e = window.event;\n",
       "    if (e.target)\n",
       "        targ = e.target;\n",
       "    else if (e.srcElement)\n",
       "        targ = e.srcElement;\n",
       "    if (targ.nodeType == 3) // defeat Safari bug\n",
       "        targ = targ.parentNode;\n",
       "\n",
       "    // jQuery normalizes the pageX and pageY\n",
       "    // pageX,Y are the mouse positions relative to the document\n",
       "    // offset() returns the position of the element relative to the document\n",
       "    var x = e.pageX - $(targ).offset().left;\n",
       "    var y = e.pageY - $(targ).offset().top;\n",
       "\n",
       "    return {\"x\": x, \"y\": y};\n",
       "};\n",
       "\n",
       "/*\n",
       " * return a copy of an object with only non-object keys\n",
       " * we need this to avoid circular references\n",
       " * http://stackoverflow.com/a/24161582/3208463\n",
       " */\n",
       "function simpleKeys (original) {\n",
       "  return Object.keys(original).reduce(function (obj, key) {\n",
       "    if (typeof original[key] !== 'object')\n",
       "        obj[key] = original[key]\n",
       "    return obj;\n",
       "  }, {});\n",
       "}\n",
       "\n",
       "mpl.figure.prototype.mouse_event = function(event, name) {\n",
       "    var canvas_pos = mpl.findpos(event)\n",
       "\n",
       "    if (name === 'button_press')\n",
       "    {\n",
       "        this.canvas.focus();\n",
       "        this.canvas_div.focus();\n",
       "    }\n",
       "\n",
       "    var x = canvas_pos.x;\n",
       "    var y = canvas_pos.y;\n",
       "\n",
       "    this.send_message(name, {x: x, y: y, button: event.button,\n",
       "                             step: event.step,\n",
       "                             guiEvent: simpleKeys(event)});\n",
       "\n",
       "    /* This prevents the web browser from automatically changing to\n",
       "     * the text insertion cursor when the button is pressed.  We want\n",
       "     * to control all of the cursor setting manually through the\n",
       "     * 'cursor' event from matplotlib */\n",
       "    event.preventDefault();\n",
       "    return false;\n",
       "}\n",
       "\n",
       "mpl.figure.prototype._key_event_extra = function(event, name) {\n",
       "    // Handle any extra behaviour associated with a key event\n",
       "}\n",
       "\n",
       "mpl.figure.prototype.key_event = function(event, name) {\n",
       "\n",
       "    // Prevent repeat events\n",
       "    if (name == 'key_press')\n",
       "    {\n",
       "        if (event.which === this._key)\n",
       "            return;\n",
       "        else\n",
       "            this._key = event.which;\n",
       "    }\n",
       "    if (name == 'key_release')\n",
       "        this._key = null;\n",
       "\n",
       "    var value = '';\n",
       "    if (event.ctrlKey && event.which != 17)\n",
       "        value += \"ctrl+\";\n",
       "    if (event.altKey && event.which != 18)\n",
       "        value += \"alt+\";\n",
       "    if (event.shiftKey && event.which != 16)\n",
       "        value += \"shift+\";\n",
       "\n",
       "    value += 'k';\n",
       "    value += event.which.toString();\n",
       "\n",
       "    this._key_event_extra(event, name);\n",
       "\n",
       "    this.send_message(name, {key: value,\n",
       "                             guiEvent: simpleKeys(event)});\n",
       "    return false;\n",
       "}\n",
       "\n",
       "mpl.figure.prototype.toolbar_button_onclick = function(name) {\n",
       "    if (name == 'download') {\n",
       "        this.handle_save(this, null);\n",
       "    } else {\n",
       "        this.send_message(\"toolbar_button\", {name: name});\n",
       "    }\n",
       "};\n",
       "\n",
       "mpl.figure.prototype.toolbar_button_onmouseover = function(tooltip) {\n",
       "    this.message.textContent = tooltip;\n",
       "};\n",
       "mpl.toolbar_items = [[\"Home\", \"Reset original view\", \"fa fa-home icon-home\", \"home\"], [\"Back\", \"Back to  previous view\", \"fa fa-arrow-left icon-arrow-left\", \"back\"], [\"Forward\", \"Forward to next view\", \"fa fa-arrow-right icon-arrow-right\", \"forward\"], [\"\", \"\", \"\", \"\"], [\"Pan\", \"Pan axes with left mouse, zoom with right\", \"fa fa-arrows icon-move\", \"pan\"], [\"Zoom\", \"Zoom to rectangle\", \"fa fa-square-o icon-check-empty\", \"zoom\"], [\"\", \"\", \"\", \"\"], [\"Download\", \"Download plot\", \"fa fa-floppy-o icon-save\", \"download\"]];\n",
       "\n",
       "mpl.extensions = [\"eps\", \"pdf\", \"png\", \"ps\", \"raw\", \"svg\"];\n",
       "\n",
       "mpl.default_extension = \"png\";var comm_websocket_adapter = function(comm) {\n",
       "    // Create a \"websocket\"-like object which calls the given IPython comm\n",
       "    // object with the appropriate methods. Currently this is a non binary\n",
       "    // socket, so there is still some room for performance tuning.\n",
       "    var ws = {};\n",
       "\n",
       "    ws.close = function() {\n",
       "        comm.close()\n",
       "    };\n",
       "    ws.send = function(m) {\n",
       "        //console.log('sending', m);\n",
       "        comm.send(m);\n",
       "    };\n",
       "    // Register the callback with on_msg.\n",
       "    comm.on_msg(function(msg) {\n",
       "        //console.log('receiving', msg['content']['data'], msg);\n",
       "        // Pass the mpl event to the overriden (by mpl) onmessage function.\n",
       "        ws.onmessage(msg['content']['data'])\n",
       "    });\n",
       "    return ws;\n",
       "}\n",
       "\n",
       "mpl.mpl_figure_comm = function(comm, msg) {\n",
       "    // This is the function which gets called when the mpl process\n",
       "    // starts-up an IPython Comm through the \"matplotlib\" channel.\n",
       "\n",
       "    var id = msg.content.data.id;\n",
       "    // Get hold of the div created by the display call when the Comm\n",
       "    // socket was opened in Python.\n",
       "    var element = $(\"#\" + id);\n",
       "    var ws_proxy = comm_websocket_adapter(comm)\n",
       "\n",
       "    function ondownload(figure, format) {\n",
       "        window.open(figure.imageObj.src);\n",
       "    }\n",
       "\n",
       "    var fig = new mpl.figure(id, ws_proxy,\n",
       "                           ondownload,\n",
       "                           element.get(0));\n",
       "\n",
       "    // Call onopen now - mpl needs it, as it is assuming we've passed it a real\n",
       "    // web socket which is closed, not our websocket->open comm proxy.\n",
       "    ws_proxy.onopen();\n",
       "\n",
       "    fig.parent_element = element.get(0);\n",
       "    fig.cell_info = mpl.find_output_cell(\"<div id='\" + id + \"'></div>\");\n",
       "    if (!fig.cell_info) {\n",
       "        console.error(\"Failed to find cell for figure\", id, fig);\n",
       "        return;\n",
       "    }\n",
       "\n",
       "    var output_index = fig.cell_info[2]\n",
       "    var cell = fig.cell_info[0];\n",
       "\n",
       "};\n",
       "\n",
       "mpl.figure.prototype.handle_close = function(fig, msg) {\n",
       "    fig.root.unbind('remove')\n",
       "\n",
       "    // Update the output cell to use the data from the current canvas.\n",
       "    fig.push_to_output();\n",
       "    var dataURL = fig.canvas.toDataURL();\n",
       "    // Re-enable the keyboard manager in IPython - without this line, in FF,\n",
       "    // the notebook keyboard shortcuts fail.\n",
       "    IPython.keyboard_manager.enable()\n",
       "    $(fig.parent_element).html('<img src=\"' + dataURL + '\">');\n",
       "    fig.close_ws(fig, msg);\n",
       "}\n",
       "\n",
       "mpl.figure.prototype.close_ws = function(fig, msg){\n",
       "    fig.send_message('closing', msg);\n",
       "    // fig.ws.close()\n",
       "}\n",
       "\n",
       "mpl.figure.prototype.push_to_output = function(remove_interactive) {\n",
       "    // Turn the data on the canvas into data in the output cell.\n",
       "    var dataURL = this.canvas.toDataURL();\n",
       "    this.cell_info[1]['text/html'] = '<img src=\"' + dataURL + '\">';\n",
       "}\n",
       "\n",
       "mpl.figure.prototype.updated_canvas_event = function() {\n",
       "    // Tell IPython that the notebook contents must change.\n",
       "    IPython.notebook.set_dirty(true);\n",
       "    this.send_message(\"ack\", {});\n",
       "    var fig = this;\n",
       "    // Wait a second, then push the new image to the DOM so\n",
       "    // that it is saved nicely (might be nice to debounce this).\n",
       "    setTimeout(function () { fig.push_to_output() }, 1000);\n",
       "}\n",
       "\n",
       "mpl.figure.prototype._init_toolbar = function() {\n",
       "    var fig = this;\n",
       "\n",
       "    var nav_element = $('<div/>')\n",
       "    nav_element.attr('style', 'width: 100%');\n",
       "    this.root.append(nav_element);\n",
       "\n",
       "    // Define a callback function for later on.\n",
       "    function toolbar_event(event) {\n",
       "        return fig.toolbar_button_onclick(event['data']);\n",
       "    }\n",
       "    function toolbar_mouse_event(event) {\n",
       "        return fig.toolbar_button_onmouseover(event['data']);\n",
       "    }\n",
       "\n",
       "    for(var toolbar_ind in mpl.toolbar_items){\n",
       "        var name = mpl.toolbar_items[toolbar_ind][0];\n",
       "        var tooltip = mpl.toolbar_items[toolbar_ind][1];\n",
       "        var image = mpl.toolbar_items[toolbar_ind][2];\n",
       "        var method_name = mpl.toolbar_items[toolbar_ind][3];\n",
       "\n",
       "        if (!name) { continue; };\n",
       "\n",
       "        var button = $('<button class=\"btn btn-default\" href=\"#\" title=\"' + name + '\"><i class=\"fa ' + image + ' fa-lg\"></i></button>');\n",
       "        button.click(method_name, toolbar_event);\n",
       "        button.mouseover(tooltip, toolbar_mouse_event);\n",
       "        nav_element.append(button);\n",
       "    }\n",
       "\n",
       "    // Add the status bar.\n",
       "    var status_bar = $('<span class=\"mpl-message\" style=\"text-align:right; float: right;\"/>');\n",
       "    nav_element.append(status_bar);\n",
       "    this.message = status_bar[0];\n",
       "\n",
       "    // Add the close button to the window.\n",
       "    var buttongrp = $('<div class=\"btn-group inline pull-right\"></div>');\n",
       "    var button = $('<button class=\"btn btn-mini btn-primary\" href=\"#\" title=\"Stop Interaction\"><i class=\"fa fa-power-off icon-remove icon-large\"></i></button>');\n",
       "    button.click(function (evt) { fig.handle_close(fig, {}); } );\n",
       "    button.mouseover('Stop Interaction', toolbar_mouse_event);\n",
       "    buttongrp.append(button);\n",
       "    var titlebar = this.root.find($('.ui-dialog-titlebar'));\n",
       "    titlebar.prepend(buttongrp);\n",
       "}\n",
       "\n",
       "mpl.figure.prototype._root_extra_style = function(el){\n",
       "    var fig = this\n",
       "    el.on(\"remove\", function(){\n",
       "\tfig.close_ws(fig, {});\n",
       "    });\n",
       "}\n",
       "\n",
       "mpl.figure.prototype._canvas_extra_style = function(el){\n",
       "    // this is important to make the div 'focusable\n",
       "    el.attr('tabindex', 0)\n",
       "    // reach out to IPython and tell the keyboard manager to turn it's self\n",
       "    // off when our div gets focus\n",
       "\n",
       "    // location in version 3\n",
       "    if (IPython.notebook.keyboard_manager) {\n",
       "        IPython.notebook.keyboard_manager.register_events(el);\n",
       "    }\n",
       "    else {\n",
       "        // location in version 2\n",
       "        IPython.keyboard_manager.register_events(el);\n",
       "    }\n",
       "\n",
       "}\n",
       "\n",
       "mpl.figure.prototype._key_event_extra = function(event, name) {\n",
       "    var manager = IPython.notebook.keyboard_manager;\n",
       "    if (!manager)\n",
       "        manager = IPython.keyboard_manager;\n",
       "\n",
       "    // Check for shift+enter\n",
       "    if (event.shiftKey && event.which == 13) {\n",
       "        this.canvas_div.blur();\n",
       "        // select the cell after this one\n",
       "        var index = IPython.notebook.find_cell_index(this.cell_info[0]);\n",
       "        IPython.notebook.select(index + 1);\n",
       "    }\n",
       "}\n",
       "\n",
       "mpl.figure.prototype.handle_save = function(fig, msg) {\n",
       "    fig.ondownload(fig, null);\n",
       "}\n",
       "\n",
       "\n",
       "mpl.find_output_cell = function(html_output) {\n",
       "    // Return the cell and output element which can be found *uniquely* in the notebook.\n",
       "    // Note - this is a bit hacky, but it is done because the \"notebook_saving.Notebook\"\n",
       "    // IPython event is triggered only after the cells have been serialised, which for\n",
       "    // our purposes (turning an active figure into a static one), is too late.\n",
       "    var cells = IPython.notebook.get_cells();\n",
       "    var ncells = cells.length;\n",
       "    for (var i=0; i<ncells; i++) {\n",
       "        var cell = cells[i];\n",
       "        if (cell.cell_type === 'code'){\n",
       "            for (var j=0; j<cell.output_area.outputs.length; j++) {\n",
       "                var data = cell.output_area.outputs[j];\n",
       "                if (data.data) {\n",
       "                    // IPython >= 3 moved mimebundle to data attribute of output\n",
       "                    data = data.data;\n",
       "                }\n",
       "                if (data['text/html'] == html_output) {\n",
       "                    return [cell, data, j];\n",
       "                }\n",
       "            }\n",
       "        }\n",
       "    }\n",
       "}\n",
       "\n",
       "// Register the function which deals with the matplotlib target/channel.\n",
       "// The kernel may be null if the page has been refreshed.\n",
       "if (IPython.notebook.kernel != null) {\n",
       "    IPython.notebook.kernel.comm_manager.register_target('matplotlib', mpl.mpl_figure_comm);\n",
       "}\n"
      ],
      "text/plain": [
       "<IPython.core.display.Javascript object>"
      ]
     },
     "metadata": {},
     "output_type": "display_data"
    },
    {
     "data": {
      "text/html": [
       "<img src=\"data:image/png;base64,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\">"
      ],
      "text/plain": [
       "<IPython.core.display.HTML object>"
      ]
     },
     "metadata": {},
     "output_type": "display_data"
    },
    {
     "name": "stdout",
     "output_type": "stream",
     "text": [
      "(2001, 'AM_OBJECTID100')\n"
     ]
    },
    {
     "name": "stderr",
     "output_type": "stream",
     "text": [
      "> charistools.hypsometry : read hypsometry data from AM_OBJECTID100/AM_OBJECTID100.2001.0100m.modicev04_3strike.snow_on_land_melt_by_elev.best_Vakhsh_model.txt\n",
      "> charistools.hypsometry : 7 comments.\n",
      "> charistools.hypsometry : 365 dates.\n",
      "> charistools.hypsometry : 54 elevations.\n",
      "> charistools.hypsometry : initialized new hypsometry object\n",
      "> charistools.hypsometry : read hypsometry data from AM_OBJECTID100/AM_OBJECTID100.2001.0100m.modicev04_3strike.GRSIZE_SCAG.fromFile.snow_on_ice_melt_by_elev.best_Vakhsh_model.txt\n",
      "> charistools.hypsometry : 7 comments.\n",
      "> charistools.hypsometry : 365 dates.\n",
      "> charistools.hypsometry : 54 elevations.\n",
      "> charistools.hypsometry : initialized new hypsometry object\n",
      "> charistools.hypsometry : read hypsometry data from AM_OBJECTID100/AM_OBJECTID100.2001.0100m.modicev04_3strike.GRSIZE_SCAG.fromFile.exposed_glacier_ice_melt_by_elev.best_Vakhsh_model.txt\n",
      "> charistools.hypsometry : 7 comments.\n",
      "> charistools.hypsometry : 365 dates.\n",
      "> charistools.hypsometry : 54 elevations.\n",
      "> charistools.hypsometry : initialized new hypsometry object\n"
     ]
    },
    {
     "name": "stdout",
     "output_type": "stream",
     "text": [
      "(2001, 'AM_OBJECTID62')\n"
     ]
    },
    {
     "name": "stderr",
     "output_type": "stream",
     "text": [
      "> charistools.hypsometry : read hypsometry data from AM_OBJECTID62/AM_OBJECTID62.2001.0100m.modicev04_3strike.snow_on_land_melt_by_elev.best_Vakhsh_model.txt\n",
      "> charistools.hypsometry : 7 comments.\n",
      "> charistools.hypsometry : 365 dates.\n",
      "> charistools.hypsometry : 17 elevations.\n",
      "> charistools.hypsometry : initialized new hypsometry object\n",
      "> charistools.hypsometry : read hypsometry data from AM_OBJECTID62/AM_OBJECTID62.2001.0100m.modicev04_3strike.GRSIZE_SCAG.fromFile.snow_on_ice_melt_by_elev.best_Vakhsh_model.txt\n",
      "> charistools.hypsometry : 7 comments.\n",
      "> charistools.hypsometry : 0 dates.\n",
      "> charistools.hypsometry : 0 elevations.\n",
      "> charistools.hypsometry : initialized new hypsometry object\n",
      "> charistools.hypsometry : read hypsometry data from AM_OBJECTID62/AM_OBJECTID62.2001.0100m.modicev04_3strike.GRSIZE_SCAG.fromFile.exposed_glacier_ice_melt_by_elev.best_Vakhsh_model.txt\n",
      "> charistools.hypsometry : 7 comments.\n",
      "> charistools.hypsometry : 0 dates.\n",
      "> charistools.hypsometry : 0 elevations.\n",
      "> charistools.hypsometry : initialized new hypsometry object\n"
     ]
    },
    {
     "name": "stdout",
     "output_type": "stream",
     "text": [
      "(2001, 'AM_OBJECTID64')\n"
     ]
    },
    {
     "name": "stderr",
     "output_type": "stream",
     "text": [
      "> charistools.hypsometry : read hypsometry data from AM_OBJECTID64/AM_OBJECTID64.2001.0100m.modicev04_3strike.snow_on_land_melt_by_elev.best_Vakhsh_model.txt\n",
      "> charistools.hypsometry : 7 comments.\n",
      "> charistools.hypsometry : 365 dates.\n",
      "> charistools.hypsometry : 2 elevations.\n",
      "> charistools.hypsometry : initialized new hypsometry object\n",
      "> charistools.hypsometry : read hypsometry data from AM_OBJECTID64/AM_OBJECTID64.2001.0100m.modicev04_3strike.GRSIZE_SCAG.fromFile.snow_on_ice_melt_by_elev.best_Vakhsh_model.txt\n",
      "> charistools.hypsometry : 7 comments.\n",
      "> charistools.hypsometry : 0 dates.\n",
      "> charistools.hypsometry : 0 elevations.\n",
      "> charistools.hypsometry : initialized new hypsometry object\n",
      "> charistools.hypsometry : read hypsometry data from AM_OBJECTID64/AM_OBJECTID64.2001.0100m.modicev04_3strike.GRSIZE_SCAG.fromFile.exposed_glacier_ice_melt_by_elev.best_Vakhsh_model.txt\n",
      "> charistools.hypsometry : 7 comments.\n",
      "> charistools.hypsometry : 0 dates.\n",
      "> charistools.hypsometry : 0 elevations.\n",
      "> charistools.hypsometry : initialized new hypsometry object\n"
     ]
    },
    {
     "name": "stdout",
     "output_type": "stream",
     "text": [
      "(2001, 'AM_OBJECTID65')\n"
     ]
    },
    {
     "name": "stderr",
     "output_type": "stream",
     "text": [
      "> charistools.hypsometry : read hypsometry data from AM_OBJECTID65/AM_OBJECTID65.2001.0100m.modicev04_3strike.snow_on_land_melt_by_elev.best_Vakhsh_model.txt\n",
      "> charistools.hypsometry : 7 comments.\n",
      "> charistools.hypsometry : 365 dates.\n",
      "> charistools.hypsometry : 28 elevations.\n",
      "> charistools.hypsometry : initialized new hypsometry object\n",
      "> charistools.hypsometry : read hypsometry data from AM_OBJECTID65/AM_OBJECTID65.2001.0100m.modicev04_3strike.GRSIZE_SCAG.fromFile.snow_on_ice_melt_by_elev.best_Vakhsh_model.txt\n",
      "> charistools.hypsometry : 7 comments.\n",
      "> charistools.hypsometry : 0 dates.\n",
      "> charistools.hypsometry : 0 elevations.\n",
      "> charistools.hypsometry : initialized new hypsometry object\n",
      "> charistools.hypsometry : read hypsometry data from AM_OBJECTID65/AM_OBJECTID65.2001.0100m.modicev04_3strike.GRSIZE_SCAG.fromFile.exposed_glacier_ice_melt_by_elev.best_Vakhsh_model.txt\n",
      "> charistools.hypsometry : 7 comments.\n",
      "> charistools.hypsometry : 0 dates.\n",
      "> charistools.hypsometry : 0 elevations.\n",
      "> charistools.hypsometry : initialized new hypsometry object\n"
     ]
    },
    {
     "name": "stdout",
     "output_type": "stream",
     "text": [
      "(2001, 'AM_OBJECTID66')\n"
     ]
    },
    {
     "name": "stderr",
     "output_type": "stream",
     "text": [
      "> charistools.hypsometry : read hypsometry data from AM_OBJECTID66/AM_OBJECTID66.2001.0100m.modicev04_3strike.snow_on_land_melt_by_elev.best_Vakhsh_model.txt\n",
      "> charistools.hypsometry : 7 comments.\n",
      "> charistools.hypsometry : 365 dates.\n",
      "> charistools.hypsometry : 49 elevations.\n",
      "> charistools.hypsometry : initialized new hypsometry object\n",
      "> charistools.hypsometry : read hypsometry data from AM_OBJECTID66/AM_OBJECTID66.2001.0100m.modicev04_3strike.GRSIZE_SCAG.fromFile.snow_on_ice_melt_by_elev.best_Vakhsh_model.txt\n",
      "> charistools.hypsometry : 7 comments.\n",
      "> charistools.hypsometry : 365 dates.\n",
      "> charistools.hypsometry : 49 elevations.\n",
      "> charistools.hypsometry : initialized new hypsometry object\n",
      "> charistools.hypsometry : read hypsometry data from AM_OBJECTID66/AM_OBJECTID66.2001.0100m.modicev04_3strike.GRSIZE_SCAG.fromFile.exposed_glacier_ice_melt_by_elev.best_Vakhsh_model.txt\n",
      "> charistools.hypsometry : 7 comments.\n",
      "> charistools.hypsometry : 365 dates.\n",
      "> charistools.hypsometry : 49 elevations.\n",
      "> charistools.hypsometry : initialized new hypsometry object\n"
     ]
    },
    {
     "name": "stdout",
     "output_type": "stream",
     "text": [
      "(2001, 'AM_OBJECTID68')\n"
     ]
    },
    {
     "name": "stderr",
     "output_type": "stream",
     "text": [
      "> charistools.hypsometry : read hypsometry data from AM_OBJECTID68/AM_OBJECTID68.2001.0100m.modicev04_3strike.snow_on_land_melt_by_elev.best_Vakhsh_model.txt\n",
      "> charistools.hypsometry : 7 comments.\n",
      "> charistools.hypsometry : 365 dates.\n",
      "> charistools.hypsometry : 20 elevations.\n",
      "> charistools.hypsometry : initialized new hypsometry object\n",
      "> charistools.hypsometry : read hypsometry data from AM_OBJECTID68/AM_OBJECTID68.2001.0100m.modicev04_3strike.GRSIZE_SCAG.fromFile.snow_on_ice_melt_by_elev.best_Vakhsh_model.txt\n",
      "> charistools.hypsometry : 7 comments.\n",
      "> charistools.hypsometry : 0 dates.\n",
      "> charistools.hypsometry : 0 elevations.\n",
      "> charistools.hypsometry : initialized new hypsometry object\n",
      "> charistools.hypsometry : read hypsometry data from AM_OBJECTID68/AM_OBJECTID68.2001.0100m.modicev04_3strike.GRSIZE_SCAG.fromFile.exposed_glacier_ice_melt_by_elev.best_Vakhsh_model.txt\n",
      "> charistools.hypsometry : 7 comments.\n",
      "> charistools.hypsometry : 0 dates.\n",
      "> charistools.hypsometry : 0 elevations.\n",
      "> charistools.hypsometry : initialized new hypsometry object\n"
     ]
    },
    {
     "name": "stdout",
     "output_type": "stream",
     "text": [
      "(2001, 'AM_OBJECTID69')\n"
     ]
    },
    {
     "name": "stderr",
     "output_type": "stream",
     "text": [
      "> charistools.hypsometry : read hypsometry data from AM_OBJECTID69/AM_OBJECTID69.2001.0100m.modicev04_3strike.snow_on_land_melt_by_elev.best_Vakhsh_model.txt\n",
      "> charistools.hypsometry : 7 comments.\n",
      "> charistools.hypsometry : 365 dates.\n",
      "> charistools.hypsometry : 30 elevations.\n",
      "> charistools.hypsometry : initialized new hypsometry object\n",
      "> charistools.hypsometry : read hypsometry data from AM_OBJECTID69/AM_OBJECTID69.2001.0100m.modicev04_3strike.GRSIZE_SCAG.fromFile.snow_on_ice_melt_by_elev.best_Vakhsh_model.txt\n",
      "> charistools.hypsometry : 7 comments.\n",
      "> charistools.hypsometry : 0 dates.\n",
      "> charistools.hypsometry : 0 elevations.\n",
      "> charistools.hypsometry : initialized new hypsometry object\n",
      "> charistools.hypsometry : read hypsometry data from AM_OBJECTID69/AM_OBJECTID69.2001.0100m.modicev04_3strike.GRSIZE_SCAG.fromFile.exposed_glacier_ice_melt_by_elev.best_Vakhsh_model.txt\n",
      "> charistools.hypsometry : 7 comments.\n",
      "> charistools.hypsometry : 0 dates.\n",
      "> charistools.hypsometry : 0 elevations.\n",
      "> charistools.hypsometry : initialized new hypsometry object\n"
     ]
    },
    {
     "name": "stdout",
     "output_type": "stream",
     "text": [
      "(2001, 'AM_OBJECTID72')\n"
     ]
    },
    {
     "name": "stderr",
     "output_type": "stream",
     "text": [
      "> charistools.hypsometry : read hypsometry data from AM_OBJECTID72/AM_OBJECTID72.2001.0100m.modicev04_3strike.snow_on_land_melt_by_elev.best_Vakhsh_model.txt\n",
      "> charistools.hypsometry : 7 comments.\n",
      "> charistools.hypsometry : 365 dates.\n",
      "> charistools.hypsometry : 42 elevations.\n",
      "> charistools.hypsometry : initialized new hypsometry object\n",
      "> charistools.hypsometry : read hypsometry data from AM_OBJECTID72/AM_OBJECTID72.2001.0100m.modicev04_3strike.GRSIZE_SCAG.fromFile.snow_on_ice_melt_by_elev.best_Vakhsh_model.txt\n",
      "> charistools.hypsometry : 7 comments.\n",
      "> charistools.hypsometry : 365 dates.\n",
      "> charistools.hypsometry : 42 elevations.\n",
      "> charistools.hypsometry : initialized new hypsometry object\n",
      "> charistools.hypsometry : read hypsometry data from AM_OBJECTID72/AM_OBJECTID72.2001.0100m.modicev04_3strike.GRSIZE_SCAG.fromFile.exposed_glacier_ice_melt_by_elev.best_Vakhsh_model.txt\n",
      "> charistools.hypsometry : 7 comments.\n",
      "> charistools.hypsometry : 365 dates.\n",
      "> charistools.hypsometry : 42 elevations.\n",
      "> charistools.hypsometry : initialized new hypsometry object\n"
     ]
    },
    {
     "name": "stdout",
     "output_type": "stream",
     "text": [
      "(2001, 'AM_OBJECTID77')\n"
     ]
    },
    {
     "name": "stderr",
     "output_type": "stream",
     "text": [
      "> charistools.hypsometry : read hypsometry data from AM_OBJECTID77/AM_OBJECTID77.2001.0100m.modicev04_3strike.snow_on_land_melt_by_elev.best_Vakhsh_model.txt\n",
      "> charistools.hypsometry : 7 comments.\n",
      "> charistools.hypsometry : 365 dates.\n",
      "> charistools.hypsometry : 53 elevations.\n",
      "> charistools.hypsometry : initialized new hypsometry object\n",
      "> charistools.hypsometry : read hypsometry data from AM_OBJECTID77/AM_OBJECTID77.2001.0100m.modicev04_3strike.GRSIZE_SCAG.fromFile.snow_on_ice_melt_by_elev.best_Vakhsh_model.txt\n",
      "> charistools.hypsometry : 7 comments.\n",
      "> charistools.hypsometry : 365 dates.\n",
      "> charistools.hypsometry : 53 elevations.\n",
      "> charistools.hypsometry : initialized new hypsometry object\n",
      "> charistools.hypsometry : read hypsometry data from AM_OBJECTID77/AM_OBJECTID77.2001.0100m.modicev04_3strike.GRSIZE_SCAG.fromFile.exposed_glacier_ice_melt_by_elev.best_Vakhsh_model.txt\n",
      "> charistools.hypsometry : 7 comments.\n",
      "> charistools.hypsometry : 365 dates.\n",
      "> charistools.hypsometry : 53 elevations.\n",
      "> charistools.hypsometry : initialized new hypsometry object\n"
     ]
    },
    {
     "name": "stdout",
     "output_type": "stream",
     "text": [
      "(2001, 'AM_OBJECTID78')\n"
     ]
    },
    {
     "name": "stderr",
     "output_type": "stream",
     "text": [
      "> charistools.hypsometry : read hypsometry data from AM_OBJECTID78/AM_OBJECTID78.2001.0100m.modicev04_3strike.snow_on_land_melt_by_elev.best_Vakhsh_model.txt\n",
      "> charistools.hypsometry : 7 comments.\n",
      "> charistools.hypsometry : 365 dates.\n",
      "> charistools.hypsometry : 55 elevations.\n",
      "> charistools.hypsometry : initialized new hypsometry object\n",
      "> charistools.hypsometry : read hypsometry data from AM_OBJECTID78/AM_OBJECTID78.2001.0100m.modicev04_3strike.GRSIZE_SCAG.fromFile.snow_on_ice_melt_by_elev.best_Vakhsh_model.txt\n",
      "> charistools.hypsometry : 7 comments.\n",
      "> charistools.hypsometry : 365 dates.\n",
      "> charistools.hypsometry : 55 elevations.\n",
      "> charistools.hypsometry : initialized new hypsometry object\n",
      "> charistools.hypsometry : read hypsometry data from AM_OBJECTID78/AM_OBJECTID78.2001.0100m.modicev04_3strike.GRSIZE_SCAG.fromFile.exposed_glacier_ice_melt_by_elev.best_Vakhsh_model.txt\n",
      "> charistools.hypsometry : 7 comments.\n",
      "> charistools.hypsometry : 365 dates.\n",
      "> charistools.hypsometry : 55 elevations.\n",
      "> charistools.hypsometry : initialized new hypsometry object\n"
     ]
    },
    {
     "name": "stdout",
     "output_type": "stream",
     "text": [
      "(2001, 'AM_OBJECTID79')\n"
     ]
    },
    {
     "name": "stderr",
     "output_type": "stream",
     "text": [
      "> charistools.hypsometry : read hypsometry data from AM_OBJECTID79/AM_OBJECTID79.2001.0100m.modicev04_3strike.snow_on_land_melt_by_elev.best_Vakhsh_model.txt\n",
      "> charistools.hypsometry : 7 comments.\n",
      "> charistools.hypsometry : 365 dates.\n",
      "> charistools.hypsometry : 71 elevations.\n",
      "> charistools.hypsometry : initialized new hypsometry object\n",
      "> charistools.hypsometry : read hypsometry data from AM_OBJECTID79/AM_OBJECTID79.2001.0100m.modicev04_3strike.GRSIZE_SCAG.fromFile.snow_on_ice_melt_by_elev.best_Vakhsh_model.txt\n",
      "> charistools.hypsometry : 7 comments.\n",
      "> charistools.hypsometry : 365 dates.\n",
      "> charistools.hypsometry : 71 elevations.\n",
      "> charistools.hypsometry : initialized new hypsometry object\n",
      "> charistools.hypsometry : read hypsometry data from AM_OBJECTID79/AM_OBJECTID79.2001.0100m.modicev04_3strike.GRSIZE_SCAG.fromFile.exposed_glacier_ice_melt_by_elev.best_Vakhsh_model.txt\n",
      "> charistools.hypsometry : 7 comments.\n",
      "> charistools.hypsometry : 365 dates.\n",
      "> charistools.hypsometry : 71 elevations.\n",
      "> charistools.hypsometry : initialized new hypsometry object\n"
     ]
    },
    {
     "name": "stdout",
     "output_type": "stream",
     "text": [
      "(2001, 'AM_OBJECTID80')\n"
     ]
    },
    {
     "name": "stderr",
     "output_type": "stream",
     "text": [
      "> charistools.hypsometry : read hypsometry data from AM_OBJECTID80/AM_OBJECTID80.2001.0100m.modicev04_3strike.snow_on_land_melt_by_elev.best_Vakhsh_model.txt\n",
      "> charistools.hypsometry : 7 comments.\n",
      "> charistools.hypsometry : 365 dates.\n",
      "> charistools.hypsometry : 43 elevations.\n",
      "> charistools.hypsometry : initialized new hypsometry object\n",
      "> charistools.hypsometry : read hypsometry data from AM_OBJECTID80/AM_OBJECTID80.2001.0100m.modicev04_3strike.GRSIZE_SCAG.fromFile.snow_on_ice_melt_by_elev.best_Vakhsh_model.txt\n",
      "> charistools.hypsometry : 7 comments.\n",
      "> charistools.hypsometry : 365 dates.\n",
      "> charistools.hypsometry : 43 elevations.\n",
      "> charistools.hypsometry : initialized new hypsometry object\n",
      "> charistools.hypsometry : read hypsometry data from AM_OBJECTID80/AM_OBJECTID80.2001.0100m.modicev04_3strike.GRSIZE_SCAG.fromFile.exposed_glacier_ice_melt_by_elev.best_Vakhsh_model.txt\n",
      "> charistools.hypsometry : 7 comments.\n",
      "> charistools.hypsometry : 365 dates.\n",
      "> charistools.hypsometry : 43 elevations.\n",
      "> charistools.hypsometry : initialized new hypsometry object\n"
     ]
    },
    {
     "name": "stdout",
     "output_type": "stream",
     "text": [
      "(2001, 'AM_OBJECTID81')\n"
     ]
    },
    {
     "name": "stderr",
     "output_type": "stream",
     "text": [
      "> charistools.hypsometry : read hypsometry data from AM_OBJECTID81/AM_OBJECTID81.2001.0100m.modicev04_3strike.snow_on_land_melt_by_elev.best_Vakhsh_model.txt\n",
      "> charistools.hypsometry : 7 comments.\n",
      "> charistools.hypsometry : 365 dates.\n",
      "> charistools.hypsometry : 43 elevations.\n",
      "> charistools.hypsometry : initialized new hypsometry object\n",
      "> charistools.hypsometry : read hypsometry data from AM_OBJECTID81/AM_OBJECTID81.2001.0100m.modicev04_3strike.GRSIZE_SCAG.fromFile.snow_on_ice_melt_by_elev.best_Vakhsh_model.txt\n",
      "> charistools.hypsometry : 7 comments.\n",
      "> charistools.hypsometry : 365 dates.\n",
      "> charistools.hypsometry : 43 elevations.\n",
      "> charistools.hypsometry : initialized new hypsometry object\n",
      "> charistools.hypsometry : read hypsometry data from AM_OBJECTID81/AM_OBJECTID81.2001.0100m.modicev04_3strike.GRSIZE_SCAG.fromFile.exposed_glacier_ice_melt_by_elev.best_Vakhsh_model.txt\n",
      "> charistools.hypsometry : 7 comments.\n",
      "> charistools.hypsometry : 365 dates.\n",
      "> charistools.hypsometry : 43 elevations.\n",
      "> charistools.hypsometry : initialized new hypsometry object\n"
     ]
    },
    {
     "name": "stdout",
     "output_type": "stream",
     "text": [
      "(2001, 'AM_OBJECTID82')\n"
     ]
    },
    {
     "name": "stderr",
     "output_type": "stream",
     "text": [
      "> charistools.hypsometry : read hypsometry data from AM_OBJECTID82/AM_OBJECTID82.2001.0100m.modicev04_3strike.snow_on_land_melt_by_elev.best_Vakhsh_model.txt\n",
      "> charistools.hypsometry : 7 comments.\n",
      "> charistools.hypsometry : 365 dates.\n",
      "> charistools.hypsometry : 62 elevations.\n",
      "> charistools.hypsometry : initialized new hypsometry object\n",
      "> charistools.hypsometry : read hypsometry data from AM_OBJECTID82/AM_OBJECTID82.2001.0100m.modicev04_3strike.GRSIZE_SCAG.fromFile.snow_on_ice_melt_by_elev.best_Vakhsh_model.txt\n",
      "> charistools.hypsometry : 7 comments.\n",
      "> charistools.hypsometry : 365 dates.\n",
      "> charistools.hypsometry : 62 elevations.\n",
      "> charistools.hypsometry : initialized new hypsometry object\n",
      "> charistools.hypsometry : read hypsometry data from AM_OBJECTID82/AM_OBJECTID82.2001.0100m.modicev04_3strike.GRSIZE_SCAG.fromFile.exposed_glacier_ice_melt_by_elev.best_Vakhsh_model.txt\n",
      "> charistools.hypsometry : 7 comments.\n",
      "> charistools.hypsometry : 365 dates.\n",
      "> charistools.hypsometry : 62 elevations.\n",
      "> charistools.hypsometry : initialized new hypsometry object\n"
     ]
    },
    {
     "name": "stdout",
     "output_type": "stream",
     "text": [
      "(2001, 'AM_OBJECTID83')\n"
     ]
    },
    {
     "name": "stderr",
     "output_type": "stream",
     "text": [
      "> charistools.hypsometry : read hypsometry data from AM_OBJECTID83/AM_OBJECTID83.2001.0100m.modicev04_3strike.snow_on_land_melt_by_elev.best_Vakhsh_model.txt\n",
      "> charistools.hypsometry : 7 comments.\n",
      "> charistools.hypsometry : 365 dates.\n",
      "> charistools.hypsometry : 44 elevations.\n",
      "> charistools.hypsometry : initialized new hypsometry object\n",
      "> charistools.hypsometry : read hypsometry data from AM_OBJECTID83/AM_OBJECTID83.2001.0100m.modicev04_3strike.GRSIZE_SCAG.fromFile.snow_on_ice_melt_by_elev.best_Vakhsh_model.txt\n",
      "> charistools.hypsometry : 7 comments.\n",
      "> charistools.hypsometry : 365 dates.\n",
      "> charistools.hypsometry : 44 elevations.\n",
      "> charistools.hypsometry : initialized new hypsometry object\n",
      "> charistools.hypsometry : read hypsometry data from AM_OBJECTID83/AM_OBJECTID83.2001.0100m.modicev04_3strike.GRSIZE_SCAG.fromFile.exposed_glacier_ice_melt_by_elev.best_Vakhsh_model.txt\n",
      "> charistools.hypsometry : 7 comments.\n",
      "> charistools.hypsometry : 365 dates.\n",
      "> charistools.hypsometry : 44 elevations.\n",
      "> charistools.hypsometry : initialized new hypsometry object\n"
     ]
    },
    {
     "name": "stdout",
     "output_type": "stream",
     "text": [
      "(2001, 'AM_OBJECTID84')\n"
     ]
    },
    {
     "name": "stderr",
     "output_type": "stream",
     "text": [
      "> charistools.hypsometry : read hypsometry data from AM_OBJECTID84/AM_OBJECTID84.2001.0100m.modicev04_3strike.snow_on_land_melt_by_elev.best_Vakhsh_model.txt\n",
      "> charistools.hypsometry : 7 comments.\n",
      "> charistools.hypsometry : 365 dates.\n",
      "> charistools.hypsometry : 36 elevations.\n",
      "> charistools.hypsometry : initialized new hypsometry object\n",
      "> charistools.hypsometry : read hypsometry data from AM_OBJECTID84/AM_OBJECTID84.2001.0100m.modicev04_3strike.GRSIZE_SCAG.fromFile.snow_on_ice_melt_by_elev.best_Vakhsh_model.txt\n",
      "> charistools.hypsometry : 7 comments.\n",
      "> charistools.hypsometry : 0 dates.\n",
      "> charistools.hypsometry : 0 elevations.\n",
      "> charistools.hypsometry : initialized new hypsometry object\n",
      "> charistools.hypsometry : read hypsometry data from AM_OBJECTID84/AM_OBJECTID84.2001.0100m.modicev04_3strike.GRSIZE_SCAG.fromFile.exposed_glacier_ice_melt_by_elev.best_Vakhsh_model.txt\n",
      "> charistools.hypsometry : 7 comments.\n",
      "> charistools.hypsometry : 0 dates.\n",
      "> charistools.hypsometry : 0 elevations.\n",
      "> charistools.hypsometry : initialized new hypsometry object\n"
     ]
    },
    {
     "name": "stdout",
     "output_type": "stream",
     "text": [
      "(2001, 'AM_OBJECTID85')\n"
     ]
    },
    {
     "name": "stderr",
     "output_type": "stream",
     "text": [
      "> charistools.hypsometry : read hypsometry data from AM_OBJECTID85/AM_OBJECTID85.2001.0100m.modicev04_3strike.snow_on_land_melt_by_elev.best_Vakhsh_model.txt\n",
      "> charistools.hypsometry : 7 comments.\n",
      "> charistools.hypsometry : 365 dates.\n",
      "> charistools.hypsometry : 50 elevations.\n",
      "> charistools.hypsometry : initialized new hypsometry object\n",
      "> charistools.hypsometry : read hypsometry data from AM_OBJECTID85/AM_OBJECTID85.2001.0100m.modicev04_3strike.GRSIZE_SCAG.fromFile.snow_on_ice_melt_by_elev.best_Vakhsh_model.txt\n",
      "> charistools.hypsometry : 7 comments.\n",
      "> charistools.hypsometry : 365 dates.\n",
      "> charistools.hypsometry : 50 elevations.\n",
      "> charistools.hypsometry : initialized new hypsometry object\n",
      "> charistools.hypsometry : read hypsometry data from AM_OBJECTID85/AM_OBJECTID85.2001.0100m.modicev04_3strike.GRSIZE_SCAG.fromFile.exposed_glacier_ice_melt_by_elev.best_Vakhsh_model.txt\n",
      "> charistools.hypsometry : 7 comments.\n",
      "> charistools.hypsometry : 365 dates.\n",
      "> charistools.hypsometry : 50 elevations.\n",
      "> charistools.hypsometry : initialized new hypsometry object\n"
     ]
    },
    {
     "name": "stdout",
     "output_type": "stream",
     "text": [
      "(2001, 'AM_OBJECTID86')\n"
     ]
    },
    {
     "name": "stderr",
     "output_type": "stream",
     "text": [
      "> charistools.hypsometry : read hypsometry data from AM_OBJECTID86/AM_OBJECTID86.2001.0100m.modicev04_3strike.snow_on_land_melt_by_elev.best_Vakhsh_model.txt\n",
      "> charistools.hypsometry : 7 comments.\n",
      "> charistools.hypsometry : 365 dates.\n",
      "> charistools.hypsometry : 36 elevations.\n",
      "> charistools.hypsometry : initialized new hypsometry object\n",
      "> charistools.hypsometry : read hypsometry data from AM_OBJECTID86/AM_OBJECTID86.2001.0100m.modicev04_3strike.GRSIZE_SCAG.fromFile.snow_on_ice_melt_by_elev.best_Vakhsh_model.txt\n",
      "> charistools.hypsometry : 7 comments.\n",
      "> charistools.hypsometry : 365 dates.\n",
      "> charistools.hypsometry : 36 elevations.\n",
      "> charistools.hypsometry : initialized new hypsometry object\n",
      "> charistools.hypsometry : read hypsometry data from AM_OBJECTID86/AM_OBJECTID86.2001.0100m.modicev04_3strike.GRSIZE_SCAG.fromFile.exposed_glacier_ice_melt_by_elev.best_Vakhsh_model.txt\n",
      "> charistools.hypsometry : 7 comments.\n",
      "> charistools.hypsometry : 365 dates.\n",
      "> charistools.hypsometry : 36 elevations.\n",
      "> charistools.hypsometry : initialized new hypsometry object\n"
     ]
    },
    {
     "name": "stdout",
     "output_type": "stream",
     "text": [
      "(2001, 'AM_OBJECTID88')\n"
     ]
    },
    {
     "name": "stderr",
     "output_type": "stream",
     "text": [
      "> charistools.hypsometry : read hypsometry data from AM_OBJECTID88/AM_OBJECTID88.2001.0100m.modicev04_3strike.snow_on_land_melt_by_elev.best_Vakhsh_model.txt\n",
      "> charistools.hypsometry : 7 comments.\n",
      "> charistools.hypsometry : 365 dates.\n",
      "> charistools.hypsometry : 39 elevations.\n",
      "> charistools.hypsometry : initialized new hypsometry object\n",
      "> charistools.hypsometry : read hypsometry data from AM_OBJECTID88/AM_OBJECTID88.2001.0100m.modicev04_3strike.GRSIZE_SCAG.fromFile.snow_on_ice_melt_by_elev.best_Vakhsh_model.txt\n",
      "> charistools.hypsometry : 7 comments.\n",
      "> charistools.hypsometry : 0 dates.\n",
      "> charistools.hypsometry : 0 elevations.\n",
      "> charistools.hypsometry : initialized new hypsometry object\n",
      "> charistools.hypsometry : read hypsometry data from AM_OBJECTID88/AM_OBJECTID88.2001.0100m.modicev04_3strike.GRSIZE_SCAG.fromFile.exposed_glacier_ice_melt_by_elev.best_Vakhsh_model.txt\n",
      "> charistools.hypsometry : 7 comments.\n",
      "> charistools.hypsometry : 0 dates.\n",
      "> charistools.hypsometry : 0 elevations.\n",
      "> charistools.hypsometry : initialized new hypsometry object\n"
     ]
    },
    {
     "name": "stdout",
     "output_type": "stream",
     "text": [
      "(2001, 'AM_OBJECTID89')\n"
     ]
    },
    {
     "name": "stderr",
     "output_type": "stream",
     "text": [
      "> charistools.hypsometry : read hypsometry data from AM_OBJECTID89/AM_OBJECTID89.2001.0100m.modicev04_3strike.snow_on_land_melt_by_elev.best_Vakhsh_model.txt\n",
      "> charistools.hypsometry : 7 comments.\n",
      "> charistools.hypsometry : 365 dates.\n",
      "> charistools.hypsometry : 34 elevations.\n",
      "> charistools.hypsometry : initialized new hypsometry object\n",
      "> charistools.hypsometry : read hypsometry data from AM_OBJECTID89/AM_OBJECTID89.2001.0100m.modicev04_3strike.GRSIZE_SCAG.fromFile.snow_on_ice_melt_by_elev.best_Vakhsh_model.txt\n",
      "> charistools.hypsometry : 7 comments.\n",
      "> charistools.hypsometry : 365 dates.\n",
      "> charistools.hypsometry : 34 elevations.\n",
      "> charistools.hypsometry : initialized new hypsometry object\n",
      "> charistools.hypsometry : read hypsometry data from AM_OBJECTID89/AM_OBJECTID89.2001.0100m.modicev04_3strike.GRSIZE_SCAG.fromFile.exposed_glacier_ice_melt_by_elev.best_Vakhsh_model.txt\n",
      "> charistools.hypsometry : 7 comments.\n",
      "> charistools.hypsometry : 365 dates.\n",
      "> charistools.hypsometry : 34 elevations.\n",
      "> charistools.hypsometry : initialized new hypsometry object\n"
     ]
    },
    {
     "name": "stdout",
     "output_type": "stream",
     "text": [
      "(2001, 'AM_OBJECTID90')\n"
     ]
    },
    {
     "name": "stderr",
     "output_type": "stream",
     "text": [
      "> charistools.hypsometry : read hypsometry data from AM_OBJECTID90/AM_OBJECTID90.2001.0100m.modicev04_3strike.snow_on_land_melt_by_elev.best_Vakhsh_model.txt\n",
      "> charistools.hypsometry : 7 comments.\n",
      "> charistools.hypsometry : 365 dates.\n",
      "> charistools.hypsometry : 36 elevations.\n",
      "> charistools.hypsometry : initialized new hypsometry object\n",
      "> charistools.hypsometry : read hypsometry data from AM_OBJECTID90/AM_OBJECTID90.2001.0100m.modicev04_3strike.GRSIZE_SCAG.fromFile.snow_on_ice_melt_by_elev.best_Vakhsh_model.txt\n",
      "> charistools.hypsometry : 7 comments.\n",
      "> charistools.hypsometry : 365 dates.\n",
      "> charistools.hypsometry : 36 elevations.\n",
      "> charistools.hypsometry : initialized new hypsometry object\n",
      "> charistools.hypsometry : read hypsometry data from AM_OBJECTID90/AM_OBJECTID90.2001.0100m.modicev04_3strike.GRSIZE_SCAG.fromFile.exposed_glacier_ice_melt_by_elev.best_Vakhsh_model.txt\n",
      "> charistools.hypsometry : 7 comments.\n",
      "> charistools.hypsometry : 365 dates.\n",
      "> charistools.hypsometry : 36 elevations.\n",
      "> charistools.hypsometry : initialized new hypsometry object\n"
     ]
    },
    {
     "name": "stdout",
     "output_type": "stream",
     "text": [
      "(2001, 'AM_OBJECTID91')\n"
     ]
    },
    {
     "name": "stderr",
     "output_type": "stream",
     "text": [
      "> charistools.hypsometry : read hypsometry data from AM_OBJECTID91/AM_OBJECTID91.2001.0100m.modicev04_3strike.snow_on_land_melt_by_elev.best_Vakhsh_model.txt\n",
      "> charistools.hypsometry : 7 comments.\n",
      "> charistools.hypsometry : 365 dates.\n",
      "> charistools.hypsometry : 23 elevations.\n",
      "> charistools.hypsometry : initialized new hypsometry object\n",
      "> charistools.hypsometry : read hypsometry data from AM_OBJECTID91/AM_OBJECTID91.2001.0100m.modicev04_3strike.GRSIZE_SCAG.fromFile.snow_on_ice_melt_by_elev.best_Vakhsh_model.txt\n",
      "> charistools.hypsometry : 7 comments.\n",
      "> charistools.hypsometry : 0 dates.\n",
      "> charistools.hypsometry : 0 elevations.\n",
      "> charistools.hypsometry : initialized new hypsometry object\n",
      "> charistools.hypsometry : read hypsometry data from AM_OBJECTID91/AM_OBJECTID91.2001.0100m.modicev04_3strike.GRSIZE_SCAG.fromFile.exposed_glacier_ice_melt_by_elev.best_Vakhsh_model.txt\n",
      "> charistools.hypsometry : 7 comments.\n",
      "> charistools.hypsometry : 0 dates.\n",
      "> charistools.hypsometry : 0 elevations.\n",
      "> charistools.hypsometry : initialized new hypsometry object\n"
     ]
    },
    {
     "name": "stdout",
     "output_type": "stream",
     "text": [
      "(2001, 'AM_OBJECTID93')\n"
     ]
    },
    {
     "name": "stderr",
     "output_type": "stream",
     "text": [
      "> charistools.hypsometry : read hypsometry data from AM_OBJECTID93/AM_OBJECTID93.2001.0100m.modicev04_3strike.snow_on_land_melt_by_elev.best_Vakhsh_model.txt\n",
      "> charistools.hypsometry : 7 comments.\n",
      "> charistools.hypsometry : 365 dates.\n",
      "> charistools.hypsometry : 4 elevations.\n",
      "> charistools.hypsometry : initialized new hypsometry object\n",
      "> charistools.hypsometry : read hypsometry data from AM_OBJECTID93/AM_OBJECTID93.2001.0100m.modicev04_3strike.GRSIZE_SCAG.fromFile.snow_on_ice_melt_by_elev.best_Vakhsh_model.txt\n",
      "> charistools.hypsometry : 7 comments.\n",
      "> charistools.hypsometry : 0 dates.\n",
      "> charistools.hypsometry : 0 elevations.\n",
      "> charistools.hypsometry : initialized new hypsometry object\n",
      "> charistools.hypsometry : read hypsometry data from AM_OBJECTID93/AM_OBJECTID93.2001.0100m.modicev04_3strike.GRSIZE_SCAG.fromFile.exposed_glacier_ice_melt_by_elev.best_Vakhsh_model.txt\n",
      "> charistools.hypsometry : 7 comments.\n",
      "> charistools.hypsometry : 0 dates.\n",
      "> charistools.hypsometry : 0 elevations.\n",
      "> charistools.hypsometry : initialized new hypsometry object\n"
     ]
    },
    {
     "name": "stdout",
     "output_type": "stream",
     "text": [
      "(2001, 'AM_OBJECTID94')\n"
     ]
    },
    {
     "name": "stderr",
     "output_type": "stream",
     "text": [
      "> charistools.hypsometry : read hypsometry data from AM_OBJECTID94/AM_OBJECTID94.2001.0100m.modicev04_3strike.snow_on_land_melt_by_elev.best_Vakhsh_model.txt\n",
      "> charistools.hypsometry : 7 comments.\n",
      "> charistools.hypsometry : 365 dates.\n",
      "> charistools.hypsometry : 46 elevations.\n",
      "> charistools.hypsometry : initialized new hypsometry object\n",
      "> charistools.hypsometry : read hypsometry data from AM_OBJECTID94/AM_OBJECTID94.2001.0100m.modicev04_3strike.GRSIZE_SCAG.fromFile.snow_on_ice_melt_by_elev.best_Vakhsh_model.txt\n",
      "> charistools.hypsometry : 7 comments.\n",
      "> charistools.hypsometry : 365 dates.\n",
      "> charistools.hypsometry : 46 elevations.\n",
      "> charistools.hypsometry : initialized new hypsometry object\n",
      "> charistools.hypsometry : read hypsometry data from AM_OBJECTID94/AM_OBJECTID94.2001.0100m.modicev04_3strike.GRSIZE_SCAG.fromFile.exposed_glacier_ice_melt_by_elev.best_Vakhsh_model.txt\n",
      "> charistools.hypsometry : 7 comments.\n",
      "> charistools.hypsometry : 365 dates.\n",
      "> charistools.hypsometry : 46 elevations.\n",
      "> charistools.hypsometry : initialized new hypsometry object\n"
     ]
    },
    {
     "name": "stdout",
     "output_type": "stream",
     "text": [
      "(2001, 'AM_OBJECTID97')\n"
     ]
    },
    {
     "name": "stderr",
     "output_type": "stream",
     "text": [
      "> charistools.hypsometry : read hypsometry data from AM_OBJECTID97/AM_OBJECTID97.2001.0100m.modicev04_3strike.snow_on_land_melt_by_elev.best_Vakhsh_model.txt\n",
      "> charistools.hypsometry : 7 comments.\n",
      "> charistools.hypsometry : 365 dates.\n",
      "> charistools.hypsometry : 64 elevations.\n",
      "> charistools.hypsometry : initialized new hypsometry object\n",
      "> charistools.hypsometry : read hypsometry data from AM_OBJECTID97/AM_OBJECTID97.2001.0100m.modicev04_3strike.GRSIZE_SCAG.fromFile.snow_on_ice_melt_by_elev.best_Vakhsh_model.txt\n",
      "> charistools.hypsometry : 7 comments.\n",
      "> charistools.hypsometry : 365 dates.\n",
      "> charistools.hypsometry : 64 elevations.\n",
      "> charistools.hypsometry : initialized new hypsometry object\n",
      "> charistools.hypsometry : read hypsometry data from AM_OBJECTID97/AM_OBJECTID97.2001.0100m.modicev04_3strike.GRSIZE_SCAG.fromFile.exposed_glacier_ice_melt_by_elev.best_Vakhsh_model.txt\n",
      "> charistools.hypsometry : 7 comments.\n",
      "> charistools.hypsometry : 365 dates.\n",
      "> charistools.hypsometry : 64 elevations.\n",
      "> charistools.hypsometry : initialized new hypsometry object\n"
     ]
    },
    {
     "name": "stdout",
     "output_type": "stream",
     "text": [
      "(2001, 'AM_OBJECTID98')\n"
     ]
    },
    {
     "name": "stderr",
     "output_type": "stream",
     "text": [
      "> charistools.hypsometry : read hypsometry data from AM_OBJECTID98/AM_OBJECTID98.2001.0100m.modicev04_3strike.snow_on_land_melt_by_elev.best_Vakhsh_model.txt\n",
      "> charistools.hypsometry : 7 comments.\n",
      "> charistools.hypsometry : 365 dates.\n",
      "> charistools.hypsometry : 54 elevations.\n",
      "> charistools.hypsometry : initialized new hypsometry object\n",
      "> charistools.hypsometry : read hypsometry data from AM_OBJECTID98/AM_OBJECTID98.2001.0100m.modicev04_3strike.GRSIZE_SCAG.fromFile.snow_on_ice_melt_by_elev.best_Vakhsh_model.txt\n",
      "> charistools.hypsometry : 7 comments.\n",
      "> charistools.hypsometry : 365 dates.\n",
      "> charistools.hypsometry : 54 elevations.\n",
      "> charistools.hypsometry : initialized new hypsometry object\n",
      "> charistools.hypsometry : read hypsometry data from AM_OBJECTID98/AM_OBJECTID98.2001.0100m.modicev04_3strike.GRSIZE_SCAG.fromFile.exposed_glacier_ice_melt_by_elev.best_Vakhsh_model.txt\n",
      "> charistools.hypsometry : 7 comments.\n",
      "> charistools.hypsometry : 365 dates.\n",
      "> charistools.hypsometry : 54 elevations.\n",
      "> charistools.hypsometry : initialized new hypsometry object\n"
     ]
    },
    {
     "name": "stdout",
     "output_type": "stream",
     "text": [
      "(2001, 'AM_OBJECTID99')\n"
     ]
    },
    {
     "name": "stderr",
     "output_type": "stream",
     "text": [
      "> charistools.hypsometry : read hypsometry data from AM_OBJECTID99/AM_OBJECTID99.2001.0100m.modicev04_3strike.snow_on_land_melt_by_elev.best_Vakhsh_model.txt\n",
      "> charistools.hypsometry : 7 comments.\n",
      "> charistools.hypsometry : 365 dates.\n",
      "> charistools.hypsometry : 48 elevations.\n",
      "> charistools.hypsometry : initialized new hypsometry object\n",
      "> charistools.hypsometry : read hypsometry data from AM_OBJECTID99/AM_OBJECTID99.2001.0100m.modicev04_3strike.GRSIZE_SCAG.fromFile.snow_on_ice_melt_by_elev.best_Vakhsh_model.txt\n",
      "> charistools.hypsometry : 7 comments.\n",
      "> charistools.hypsometry : 365 dates.\n",
      "> charistools.hypsometry : 48 elevations.\n",
      "> charistools.hypsometry : initialized new hypsometry object\n",
      "> charistools.hypsometry : read hypsometry data from AM_OBJECTID99/AM_OBJECTID99.2001.0100m.modicev04_3strike.GRSIZE_SCAG.fromFile.exposed_glacier_ice_melt_by_elev.best_Vakhsh_model.txt\n",
      "> charistools.hypsometry : 7 comments.\n",
      "> charistools.hypsometry : 365 dates.\n",
      "> charistools.hypsometry : 48 elevations.\n",
      "> charistools.hypsometry : initialized new hypsometry object\n"
     ]
    },
    {
     "name": "stdout",
     "output_type": "stream",
     "text": [
      "(2002, 'AM_OBJECTID100')\n"
     ]
    },
    {
     "name": "stderr",
     "output_type": "stream",
     "text": [
      "> charistools.hypsometry : read hypsometry data from AM_OBJECTID100/AM_OBJECTID100.2002.0100m.modicev04_3strike.snow_on_land_melt_by_elev.best_Vakhsh_model.txt\n",
      "> charistools.hypsometry : 7 comments.\n",
      "> charistools.hypsometry : 365 dates.\n",
      "> charistools.hypsometry : 54 elevations.\n",
      "> charistools.hypsometry : initialized new hypsometry object\n",
      "> charistools.hypsometry : read hypsometry data from AM_OBJECTID100/AM_OBJECTID100.2002.0100m.modicev04_3strike.GRSIZE_SCAG.fromFile.snow_on_ice_melt_by_elev.best_Vakhsh_model.txt\n",
      "> charistools.hypsometry : 7 comments.\n",
      "> charistools.hypsometry : 365 dates.\n",
      "> charistools.hypsometry : 54 elevations.\n",
      "> charistools.hypsometry : initialized new hypsometry object\n",
      "> charistools.hypsometry : read hypsometry data from AM_OBJECTID100/AM_OBJECTID100.2002.0100m.modicev04_3strike.GRSIZE_SCAG.fromFile.exposed_glacier_ice_melt_by_elev.best_Vakhsh_model.txt\n",
      "> charistools.hypsometry : 7 comments.\n",
      "> charistools.hypsometry : 365 dates.\n",
      "> charistools.hypsometry : 54 elevations.\n",
      "> charistools.hypsometry : initialized new hypsometry object\n"
     ]
    },
    {
     "name": "stdout",
     "output_type": "stream",
     "text": [
      "(2002, 'AM_OBJECTID62')\n"
     ]
    },
    {
     "name": "stderr",
     "output_type": "stream",
     "text": [
      "> charistools.hypsometry : read hypsometry data from AM_OBJECTID62/AM_OBJECTID62.2002.0100m.modicev04_3strike.snow_on_land_melt_by_elev.best_Vakhsh_model.txt\n",
      "> charistools.hypsometry : 7 comments.\n",
      "> charistools.hypsometry : 365 dates.\n",
      "> charistools.hypsometry : 17 elevations.\n",
      "> charistools.hypsometry : initialized new hypsometry object\n",
      "> charistools.hypsometry : read hypsometry data from AM_OBJECTID62/AM_OBJECTID62.2002.0100m.modicev04_3strike.GRSIZE_SCAG.fromFile.snow_on_ice_melt_by_elev.best_Vakhsh_model.txt\n",
      "> charistools.hypsometry : 7 comments.\n",
      "> charistools.hypsometry : 0 dates.\n",
      "> charistools.hypsometry : 0 elevations.\n",
      "> charistools.hypsometry : initialized new hypsometry object\n",
      "> charistools.hypsometry : read hypsometry data from AM_OBJECTID62/AM_OBJECTID62.2002.0100m.modicev04_3strike.GRSIZE_SCAG.fromFile.exposed_glacier_ice_melt_by_elev.best_Vakhsh_model.txt\n",
      "> charistools.hypsometry : 7 comments.\n",
      "> charistools.hypsometry : 0 dates.\n",
      "> charistools.hypsometry : 0 elevations.\n",
      "> charistools.hypsometry : initialized new hypsometry object\n"
     ]
    },
    {
     "name": "stdout",
     "output_type": "stream",
     "text": [
      "(2002, 'AM_OBJECTID64')\n"
     ]
    },
    {
     "name": "stderr",
     "output_type": "stream",
     "text": [
      "> charistools.hypsometry : read hypsometry data from AM_OBJECTID64/AM_OBJECTID64.2002.0100m.modicev04_3strike.snow_on_land_melt_by_elev.best_Vakhsh_model.txt\n",
      "> charistools.hypsometry : 7 comments.\n",
      "> charistools.hypsometry : 365 dates.\n",
      "> charistools.hypsometry : 2 elevations.\n",
      "> charistools.hypsometry : initialized new hypsometry object\n",
      "> charistools.hypsometry : read hypsometry data from AM_OBJECTID64/AM_OBJECTID64.2002.0100m.modicev04_3strike.GRSIZE_SCAG.fromFile.snow_on_ice_melt_by_elev.best_Vakhsh_model.txt\n",
      "> charistools.hypsometry : 7 comments.\n",
      "> charistools.hypsometry : 0 dates.\n",
      "> charistools.hypsometry : 0 elevations.\n",
      "> charistools.hypsometry : initialized new hypsometry object\n",
      "> charistools.hypsometry : read hypsometry data from AM_OBJECTID64/AM_OBJECTID64.2002.0100m.modicev04_3strike.GRSIZE_SCAG.fromFile.exposed_glacier_ice_melt_by_elev.best_Vakhsh_model.txt\n",
      "> charistools.hypsometry : 7 comments.\n",
      "> charistools.hypsometry : 0 dates.\n",
      "> charistools.hypsometry : 0 elevations.\n",
      "> charistools.hypsometry : initialized new hypsometry object\n"
     ]
    },
    {
     "name": "stdout",
     "output_type": "stream",
     "text": [
      "(2002, 'AM_OBJECTID65')\n"
     ]
    },
    {
     "name": "stderr",
     "output_type": "stream",
     "text": [
      "> charistools.hypsometry : read hypsometry data from AM_OBJECTID65/AM_OBJECTID65.2002.0100m.modicev04_3strike.snow_on_land_melt_by_elev.best_Vakhsh_model.txt\n",
      "> charistools.hypsometry : 7 comments.\n",
      "> charistools.hypsometry : 365 dates.\n",
      "> charistools.hypsometry : 28 elevations.\n",
      "> charistools.hypsometry : initialized new hypsometry object\n",
      "> charistools.hypsometry : read hypsometry data from AM_OBJECTID65/AM_OBJECTID65.2002.0100m.modicev04_3strike.GRSIZE_SCAG.fromFile.snow_on_ice_melt_by_elev.best_Vakhsh_model.txt\n",
      "> charistools.hypsometry : 7 comments.\n",
      "> charistools.hypsometry : 0 dates.\n",
      "> charistools.hypsometry : 0 elevations.\n",
      "> charistools.hypsometry : initialized new hypsometry object\n",
      "> charistools.hypsometry : read hypsometry data from AM_OBJECTID65/AM_OBJECTID65.2002.0100m.modicev04_3strike.GRSIZE_SCAG.fromFile.exposed_glacier_ice_melt_by_elev.best_Vakhsh_model.txt\n",
      "> charistools.hypsometry : 7 comments.\n",
      "> charistools.hypsometry : 0 dates.\n",
      "> charistools.hypsometry : 0 elevations.\n",
      "> charistools.hypsometry : initialized new hypsometry object\n"
     ]
    },
    {
     "name": "stdout",
     "output_type": "stream",
     "text": [
      "(2002, 'AM_OBJECTID66')\n"
     ]
    },
    {
     "name": "stderr",
     "output_type": "stream",
     "text": [
      "> charistools.hypsometry : read hypsometry data from AM_OBJECTID66/AM_OBJECTID66.2002.0100m.modicev04_3strike.snow_on_land_melt_by_elev.best_Vakhsh_model.txt\n",
      "> charistools.hypsometry : 7 comments.\n",
      "> charistools.hypsometry : 365 dates.\n",
      "> charistools.hypsometry : 49 elevations.\n",
      "> charistools.hypsometry : initialized new hypsometry object\n",
      "> charistools.hypsometry : read hypsometry data from AM_OBJECTID66/AM_OBJECTID66.2002.0100m.modicev04_3strike.GRSIZE_SCAG.fromFile.snow_on_ice_melt_by_elev.best_Vakhsh_model.txt\n",
      "> charistools.hypsometry : 7 comments.\n",
      "> charistools.hypsometry : 365 dates.\n",
      "> charistools.hypsometry : 49 elevations.\n",
      "> charistools.hypsometry : initialized new hypsometry object\n",
      "> charistools.hypsometry : read hypsometry data from AM_OBJECTID66/AM_OBJECTID66.2002.0100m.modicev04_3strike.GRSIZE_SCAG.fromFile.exposed_glacier_ice_melt_by_elev.best_Vakhsh_model.txt\n",
      "> charistools.hypsometry : 7 comments.\n",
      "> charistools.hypsometry : 365 dates.\n",
      "> charistools.hypsometry : 49 elevations.\n",
      "> charistools.hypsometry : initialized new hypsometry object\n"
     ]
    },
    {
     "name": "stdout",
     "output_type": "stream",
     "text": [
      "(2002, 'AM_OBJECTID68')\n"
     ]
    },
    {
     "name": "stderr",
     "output_type": "stream",
     "text": [
      "> charistools.hypsometry : read hypsometry data from AM_OBJECTID68/AM_OBJECTID68.2002.0100m.modicev04_3strike.snow_on_land_melt_by_elev.best_Vakhsh_model.txt\n",
      "> charistools.hypsometry : 7 comments.\n",
      "> charistools.hypsometry : 365 dates.\n",
      "> charistools.hypsometry : 20 elevations.\n",
      "> charistools.hypsometry : initialized new hypsometry object\n",
      "> charistools.hypsometry : read hypsometry data from AM_OBJECTID68/AM_OBJECTID68.2002.0100m.modicev04_3strike.GRSIZE_SCAG.fromFile.snow_on_ice_melt_by_elev.best_Vakhsh_model.txt\n",
      "> charistools.hypsometry : 7 comments.\n",
      "> charistools.hypsometry : 0 dates.\n",
      "> charistools.hypsometry : 0 elevations.\n",
      "> charistools.hypsometry : initialized new hypsometry object\n",
      "> charistools.hypsometry : read hypsometry data from AM_OBJECTID68/AM_OBJECTID68.2002.0100m.modicev04_3strike.GRSIZE_SCAG.fromFile.exposed_glacier_ice_melt_by_elev.best_Vakhsh_model.txt\n",
      "> charistools.hypsometry : 7 comments.\n",
      "> charistools.hypsometry : 0 dates.\n",
      "> charistools.hypsometry : 0 elevations.\n",
      "> charistools.hypsometry : initialized new hypsometry object\n"
     ]
    },
    {
     "name": "stdout",
     "output_type": "stream",
     "text": [
      "(2002, 'AM_OBJECTID69')\n"
     ]
    },
    {
     "name": "stderr",
     "output_type": "stream",
     "text": [
      "> charistools.hypsometry : read hypsometry data from AM_OBJECTID69/AM_OBJECTID69.2002.0100m.modicev04_3strike.snow_on_land_melt_by_elev.best_Vakhsh_model.txt\n",
      "> charistools.hypsometry : 7 comments.\n",
      "> charistools.hypsometry : 365 dates.\n",
      "> charistools.hypsometry : 30 elevations.\n",
      "> charistools.hypsometry : initialized new hypsometry object\n",
      "> charistools.hypsometry : read hypsometry data from AM_OBJECTID69/AM_OBJECTID69.2002.0100m.modicev04_3strike.GRSIZE_SCAG.fromFile.snow_on_ice_melt_by_elev.best_Vakhsh_model.txt\n",
      "> charistools.hypsometry : 7 comments.\n",
      "> charistools.hypsometry : 0 dates.\n",
      "> charistools.hypsometry : 0 elevations.\n",
      "> charistools.hypsometry : initialized new hypsometry object\n",
      "> charistools.hypsometry : read hypsometry data from AM_OBJECTID69/AM_OBJECTID69.2002.0100m.modicev04_3strike.GRSIZE_SCAG.fromFile.exposed_glacier_ice_melt_by_elev.best_Vakhsh_model.txt\n",
      "> charistools.hypsometry : 7 comments.\n",
      "> charistools.hypsometry : 0 dates.\n",
      "> charistools.hypsometry : 0 elevations.\n",
      "> charistools.hypsometry : initialized new hypsometry object\n"
     ]
    },
    {
     "name": "stdout",
     "output_type": "stream",
     "text": [
      "(2002, 'AM_OBJECTID72')\n"
     ]
    },
    {
     "name": "stderr",
     "output_type": "stream",
     "text": [
      "> charistools.hypsometry : read hypsometry data from AM_OBJECTID72/AM_OBJECTID72.2002.0100m.modicev04_3strike.snow_on_land_melt_by_elev.best_Vakhsh_model.txt\n",
      "> charistools.hypsometry : 7 comments.\n",
      "> charistools.hypsometry : 365 dates.\n",
      "> charistools.hypsometry : 42 elevations.\n",
      "> charistools.hypsometry : initialized new hypsometry object\n",
      "> charistools.hypsometry : read hypsometry data from AM_OBJECTID72/AM_OBJECTID72.2002.0100m.modicev04_3strike.GRSIZE_SCAG.fromFile.snow_on_ice_melt_by_elev.best_Vakhsh_model.txt\n",
      "> charistools.hypsometry : 7 comments.\n",
      "> charistools.hypsometry : 365 dates.\n",
      "> charistools.hypsometry : 42 elevations.\n",
      "> charistools.hypsometry : initialized new hypsometry object\n",
      "> charistools.hypsometry : read hypsometry data from AM_OBJECTID72/AM_OBJECTID72.2002.0100m.modicev04_3strike.GRSIZE_SCAG.fromFile.exposed_glacier_ice_melt_by_elev.best_Vakhsh_model.txt\n",
      "> charistools.hypsometry : 7 comments.\n",
      "> charistools.hypsometry : 365 dates.\n",
      "> charistools.hypsometry : 42 elevations.\n",
      "> charistools.hypsometry : initialized new hypsometry object\n"
     ]
    },
    {
     "name": "stdout",
     "output_type": "stream",
     "text": [
      "(2002, 'AM_OBJECTID77')\n"
     ]
    },
    {
     "name": "stderr",
     "output_type": "stream",
     "text": [
      "> charistools.hypsometry : read hypsometry data from AM_OBJECTID77/AM_OBJECTID77.2002.0100m.modicev04_3strike.snow_on_land_melt_by_elev.best_Vakhsh_model.txt\n",
      "> charistools.hypsometry : 7 comments.\n",
      "> charistools.hypsometry : 365 dates.\n",
      "> charistools.hypsometry : 53 elevations.\n",
      "> charistools.hypsometry : initialized new hypsometry object\n",
      "> charistools.hypsometry : read hypsometry data from AM_OBJECTID77/AM_OBJECTID77.2002.0100m.modicev04_3strike.GRSIZE_SCAG.fromFile.snow_on_ice_melt_by_elev.best_Vakhsh_model.txt\n",
      "> charistools.hypsometry : 7 comments.\n",
      "> charistools.hypsometry : 365 dates.\n",
      "> charistools.hypsometry : 53 elevations.\n",
      "> charistools.hypsometry : initialized new hypsometry object\n",
      "> charistools.hypsometry : read hypsometry data from AM_OBJECTID77/AM_OBJECTID77.2002.0100m.modicev04_3strike.GRSIZE_SCAG.fromFile.exposed_glacier_ice_melt_by_elev.best_Vakhsh_model.txt\n",
      "> charistools.hypsometry : 7 comments.\n",
      "> charistools.hypsometry : 365 dates.\n",
      "> charistools.hypsometry : 53 elevations.\n",
      "> charistools.hypsometry : initialized new hypsometry object\n"
     ]
    },
    {
     "name": "stdout",
     "output_type": "stream",
     "text": [
      "(2002, 'AM_OBJECTID78')\n"
     ]
    },
    {
     "name": "stderr",
     "output_type": "stream",
     "text": [
      "> charistools.hypsometry : read hypsometry data from AM_OBJECTID78/AM_OBJECTID78.2002.0100m.modicev04_3strike.snow_on_land_melt_by_elev.best_Vakhsh_model.txt\n",
      "> charistools.hypsometry : 7 comments.\n",
      "> charistools.hypsometry : 365 dates.\n",
      "> charistools.hypsometry : 55 elevations.\n",
      "> charistools.hypsometry : initialized new hypsometry object\n",
      "> charistools.hypsometry : read hypsometry data from AM_OBJECTID78/AM_OBJECTID78.2002.0100m.modicev04_3strike.GRSIZE_SCAG.fromFile.snow_on_ice_melt_by_elev.best_Vakhsh_model.txt\n",
      "> charistools.hypsometry : 7 comments.\n",
      "> charistools.hypsometry : 365 dates.\n",
      "> charistools.hypsometry : 55 elevations.\n",
      "> charistools.hypsometry : initialized new hypsometry object\n",
      "> charistools.hypsometry : read hypsometry data from AM_OBJECTID78/AM_OBJECTID78.2002.0100m.modicev04_3strike.GRSIZE_SCAG.fromFile.exposed_glacier_ice_melt_by_elev.best_Vakhsh_model.txt\n",
      "> charistools.hypsometry : 7 comments.\n",
      "> charistools.hypsometry : 365 dates.\n",
      "> charistools.hypsometry : 55 elevations.\n",
      "> charistools.hypsometry : initialized new hypsometry object\n"
     ]
    },
    {
     "name": "stdout",
     "output_type": "stream",
     "text": [
      "(2002, 'AM_OBJECTID79')\n"
     ]
    },
    {
     "name": "stderr",
     "output_type": "stream",
     "text": [
      "> charistools.hypsometry : read hypsometry data from AM_OBJECTID79/AM_OBJECTID79.2002.0100m.modicev04_3strike.snow_on_land_melt_by_elev.best_Vakhsh_model.txt\n",
      "> charistools.hypsometry : 7 comments.\n",
      "> charistools.hypsometry : 365 dates.\n",
      "> charistools.hypsometry : 71 elevations.\n",
      "> charistools.hypsometry : initialized new hypsometry object\n",
      "> charistools.hypsometry : read hypsometry data from AM_OBJECTID79/AM_OBJECTID79.2002.0100m.modicev04_3strike.GRSIZE_SCAG.fromFile.snow_on_ice_melt_by_elev.best_Vakhsh_model.txt\n",
      "> charistools.hypsometry : 7 comments.\n",
      "> charistools.hypsometry : 365 dates.\n",
      "> charistools.hypsometry : 71 elevations.\n",
      "> charistools.hypsometry : initialized new hypsometry object\n",
      "> charistools.hypsometry : read hypsometry data from AM_OBJECTID79/AM_OBJECTID79.2002.0100m.modicev04_3strike.GRSIZE_SCAG.fromFile.exposed_glacier_ice_melt_by_elev.best_Vakhsh_model.txt\n",
      "> charistools.hypsometry : 7 comments.\n",
      "> charistools.hypsometry : 365 dates.\n",
      "> charistools.hypsometry : 71 elevations.\n",
      "> charistools.hypsometry : initialized new hypsometry object\n"
     ]
    },
    {
     "name": "stdout",
     "output_type": "stream",
     "text": [
      "(2002, 'AM_OBJECTID80')\n"
     ]
    },
    {
     "name": "stderr",
     "output_type": "stream",
     "text": [
      "> charistools.hypsometry : read hypsometry data from AM_OBJECTID80/AM_OBJECTID80.2002.0100m.modicev04_3strike.snow_on_land_melt_by_elev.best_Vakhsh_model.txt\n",
      "> charistools.hypsometry : 7 comments.\n",
      "> charistools.hypsometry : 365 dates.\n",
      "> charistools.hypsometry : 43 elevations.\n",
      "> charistools.hypsometry : initialized new hypsometry object\n",
      "> charistools.hypsometry : read hypsometry data from AM_OBJECTID80/AM_OBJECTID80.2002.0100m.modicev04_3strike.GRSIZE_SCAG.fromFile.snow_on_ice_melt_by_elev.best_Vakhsh_model.txt\n",
      "> charistools.hypsometry : 7 comments.\n",
      "> charistools.hypsometry : 365 dates.\n",
      "> charistools.hypsometry : 43 elevations.\n",
      "> charistools.hypsometry : initialized new hypsometry object\n",
      "> charistools.hypsometry : read hypsometry data from AM_OBJECTID80/AM_OBJECTID80.2002.0100m.modicev04_3strike.GRSIZE_SCAG.fromFile.exposed_glacier_ice_melt_by_elev.best_Vakhsh_model.txt\n",
      "> charistools.hypsometry : 7 comments.\n",
      "> charistools.hypsometry : 365 dates.\n",
      "> charistools.hypsometry : 43 elevations.\n",
      "> charistools.hypsometry : initialized new hypsometry object\n"
     ]
    },
    {
     "name": "stdout",
     "output_type": "stream",
     "text": [
      "(2002, 'AM_OBJECTID81')\n"
     ]
    },
    {
     "name": "stderr",
     "output_type": "stream",
     "text": [
      "> charistools.hypsometry : read hypsometry data from AM_OBJECTID81/AM_OBJECTID81.2002.0100m.modicev04_3strike.snow_on_land_melt_by_elev.best_Vakhsh_model.txt\n",
      "> charistools.hypsometry : 7 comments.\n",
      "> charistools.hypsometry : 365 dates.\n",
      "> charistools.hypsometry : 43 elevations.\n",
      "> charistools.hypsometry : initialized new hypsometry object\n",
      "> charistools.hypsometry : read hypsometry data from AM_OBJECTID81/AM_OBJECTID81.2002.0100m.modicev04_3strike.GRSIZE_SCAG.fromFile.snow_on_ice_melt_by_elev.best_Vakhsh_model.txt\n",
      "> charistools.hypsometry : 7 comments.\n",
      "> charistools.hypsometry : 365 dates.\n",
      "> charistools.hypsometry : 43 elevations.\n",
      "> charistools.hypsometry : initialized new hypsometry object\n",
      "> charistools.hypsometry : read hypsometry data from AM_OBJECTID81/AM_OBJECTID81.2002.0100m.modicev04_3strike.GRSIZE_SCAG.fromFile.exposed_glacier_ice_melt_by_elev.best_Vakhsh_model.txt\n",
      "> charistools.hypsometry : 7 comments.\n",
      "> charistools.hypsometry : 365 dates.\n",
      "> charistools.hypsometry : 43 elevations.\n",
      "> charistools.hypsometry : initialized new hypsometry object\n"
     ]
    },
    {
     "name": "stdout",
     "output_type": "stream",
     "text": [
      "(2002, 'AM_OBJECTID82')\n"
     ]
    },
    {
     "name": "stderr",
     "output_type": "stream",
     "text": [
      "> charistools.hypsometry : read hypsometry data from AM_OBJECTID82/AM_OBJECTID82.2002.0100m.modicev04_3strike.snow_on_land_melt_by_elev.best_Vakhsh_model.txt\n",
      "> charistools.hypsometry : 7 comments.\n",
      "> charistools.hypsometry : 365 dates.\n",
      "> charistools.hypsometry : 62 elevations.\n",
      "> charistools.hypsometry : initialized new hypsometry object\n",
      "> charistools.hypsometry : read hypsometry data from AM_OBJECTID82/AM_OBJECTID82.2002.0100m.modicev04_3strike.GRSIZE_SCAG.fromFile.snow_on_ice_melt_by_elev.best_Vakhsh_model.txt\n",
      "> charistools.hypsometry : 7 comments.\n",
      "> charistools.hypsometry : 365 dates.\n",
      "> charistools.hypsometry : 62 elevations.\n",
      "> charistools.hypsometry : initialized new hypsometry object\n",
      "> charistools.hypsometry : read hypsometry data from AM_OBJECTID82/AM_OBJECTID82.2002.0100m.modicev04_3strike.GRSIZE_SCAG.fromFile.exposed_glacier_ice_melt_by_elev.best_Vakhsh_model.txt\n",
      "> charistools.hypsometry : 7 comments.\n",
      "> charistools.hypsometry : 365 dates.\n",
      "> charistools.hypsometry : 62 elevations.\n",
      "> charistools.hypsometry : initialized new hypsometry object\n"
     ]
    },
    {
     "name": "stdout",
     "output_type": "stream",
     "text": [
      "(2002, 'AM_OBJECTID83')\n"
     ]
    },
    {
     "name": "stderr",
     "output_type": "stream",
     "text": [
      "> charistools.hypsometry : read hypsometry data from AM_OBJECTID83/AM_OBJECTID83.2002.0100m.modicev04_3strike.snow_on_land_melt_by_elev.best_Vakhsh_model.txt\n",
      "> charistools.hypsometry : 7 comments.\n",
      "> charistools.hypsometry : 365 dates.\n",
      "> charistools.hypsometry : 44 elevations.\n",
      "> charistools.hypsometry : initialized new hypsometry object\n",
      "> charistools.hypsometry : read hypsometry data from AM_OBJECTID83/AM_OBJECTID83.2002.0100m.modicev04_3strike.GRSIZE_SCAG.fromFile.snow_on_ice_melt_by_elev.best_Vakhsh_model.txt\n",
      "> charistools.hypsometry : 7 comments.\n",
      "> charistools.hypsometry : 365 dates.\n",
      "> charistools.hypsometry : 44 elevations.\n",
      "> charistools.hypsometry : initialized new hypsometry object\n",
      "> charistools.hypsometry : read hypsometry data from AM_OBJECTID83/AM_OBJECTID83.2002.0100m.modicev04_3strike.GRSIZE_SCAG.fromFile.exposed_glacier_ice_melt_by_elev.best_Vakhsh_model.txt\n",
      "> charistools.hypsometry : 7 comments.\n",
      "> charistools.hypsometry : 365 dates.\n",
      "> charistools.hypsometry : 44 elevations.\n",
      "> charistools.hypsometry : initialized new hypsometry object\n"
     ]
    },
    {
     "name": "stdout",
     "output_type": "stream",
     "text": [
      "(2002, 'AM_OBJECTID84')\n"
     ]
    },
    {
     "name": "stderr",
     "output_type": "stream",
     "text": [
      "> charistools.hypsometry : read hypsometry data from AM_OBJECTID84/AM_OBJECTID84.2002.0100m.modicev04_3strike.snow_on_land_melt_by_elev.best_Vakhsh_model.txt\n",
      "> charistools.hypsometry : 7 comments.\n",
      "> charistools.hypsometry : 365 dates.\n",
      "> charistools.hypsometry : 36 elevations.\n",
      "> charistools.hypsometry : initialized new hypsometry object\n",
      "> charistools.hypsometry : read hypsometry data from AM_OBJECTID84/AM_OBJECTID84.2002.0100m.modicev04_3strike.GRSIZE_SCAG.fromFile.snow_on_ice_melt_by_elev.best_Vakhsh_model.txt\n",
      "> charistools.hypsometry : 7 comments.\n",
      "> charistools.hypsometry : 0 dates.\n",
      "> charistools.hypsometry : 0 elevations.\n",
      "> charistools.hypsometry : initialized new hypsometry object\n",
      "> charistools.hypsometry : read hypsometry data from AM_OBJECTID84/AM_OBJECTID84.2002.0100m.modicev04_3strike.GRSIZE_SCAG.fromFile.exposed_glacier_ice_melt_by_elev.best_Vakhsh_model.txt\n",
      "> charistools.hypsometry : 7 comments.\n",
      "> charistools.hypsometry : 0 dates.\n",
      "> charistools.hypsometry : 0 elevations.\n",
      "> charistools.hypsometry : initialized new hypsometry object\n"
     ]
    },
    {
     "name": "stdout",
     "output_type": "stream",
     "text": [
      "(2002, 'AM_OBJECTID85')\n"
     ]
    },
    {
     "name": "stderr",
     "output_type": "stream",
     "text": [
      "> charistools.hypsometry : read hypsometry data from AM_OBJECTID85/AM_OBJECTID85.2002.0100m.modicev04_3strike.snow_on_land_melt_by_elev.best_Vakhsh_model.txt\n",
      "> charistools.hypsometry : 7 comments.\n",
      "> charistools.hypsometry : 365 dates.\n",
      "> charistools.hypsometry : 50 elevations.\n",
      "> charistools.hypsometry : initialized new hypsometry object\n",
      "> charistools.hypsometry : read hypsometry data from AM_OBJECTID85/AM_OBJECTID85.2002.0100m.modicev04_3strike.GRSIZE_SCAG.fromFile.snow_on_ice_melt_by_elev.best_Vakhsh_model.txt\n",
      "> charistools.hypsometry : 7 comments.\n",
      "> charistools.hypsometry : 365 dates.\n",
      "> charistools.hypsometry : 50 elevations.\n",
      "> charistools.hypsometry : initialized new hypsometry object\n",
      "> charistools.hypsometry : read hypsometry data from AM_OBJECTID85/AM_OBJECTID85.2002.0100m.modicev04_3strike.GRSIZE_SCAG.fromFile.exposed_glacier_ice_melt_by_elev.best_Vakhsh_model.txt\n",
      "> charistools.hypsometry : 7 comments.\n",
      "> charistools.hypsometry : 365 dates.\n",
      "> charistools.hypsometry : 50 elevations.\n",
      "> charistools.hypsometry : initialized new hypsometry object\n"
     ]
    },
    {
     "name": "stdout",
     "output_type": "stream",
     "text": [
      "(2002, 'AM_OBJECTID86')\n"
     ]
    },
    {
     "name": "stderr",
     "output_type": "stream",
     "text": [
      "> charistools.hypsometry : read hypsometry data from AM_OBJECTID86/AM_OBJECTID86.2002.0100m.modicev04_3strike.snow_on_land_melt_by_elev.best_Vakhsh_model.txt\n",
      "> charistools.hypsometry : 7 comments.\n",
      "> charistools.hypsometry : 365 dates.\n",
      "> charistools.hypsometry : 36 elevations.\n",
      "> charistools.hypsometry : initialized new hypsometry object\n",
      "> charistools.hypsometry : read hypsometry data from AM_OBJECTID86/AM_OBJECTID86.2002.0100m.modicev04_3strike.GRSIZE_SCAG.fromFile.snow_on_ice_melt_by_elev.best_Vakhsh_model.txt\n",
      "> charistools.hypsometry : 7 comments.\n",
      "> charistools.hypsometry : 365 dates.\n",
      "> charistools.hypsometry : 36 elevations.\n",
      "> charistools.hypsometry : initialized new hypsometry object\n",
      "> charistools.hypsometry : read hypsometry data from AM_OBJECTID86/AM_OBJECTID86.2002.0100m.modicev04_3strike.GRSIZE_SCAG.fromFile.exposed_glacier_ice_melt_by_elev.best_Vakhsh_model.txt\n",
      "> charistools.hypsometry : 7 comments.\n",
      "> charistools.hypsometry : 365 dates.\n",
      "> charistools.hypsometry : 36 elevations.\n",
      "> charistools.hypsometry : initialized new hypsometry object\n"
     ]
    },
    {
     "name": "stdout",
     "output_type": "stream",
     "text": [
      "(2002, 'AM_OBJECTID88')\n"
     ]
    },
    {
     "name": "stderr",
     "output_type": "stream",
     "text": [
      "> charistools.hypsometry : read hypsometry data from AM_OBJECTID88/AM_OBJECTID88.2002.0100m.modicev04_3strike.snow_on_land_melt_by_elev.best_Vakhsh_model.txt\n",
      "> charistools.hypsometry : 7 comments.\n",
      "> charistools.hypsometry : 365 dates.\n",
      "> charistools.hypsometry : 39 elevations.\n",
      "> charistools.hypsometry : initialized new hypsometry object\n",
      "> charistools.hypsometry : read hypsometry data from AM_OBJECTID88/AM_OBJECTID88.2002.0100m.modicev04_3strike.GRSIZE_SCAG.fromFile.snow_on_ice_melt_by_elev.best_Vakhsh_model.txt\n",
      "> charistools.hypsometry : 7 comments.\n",
      "> charistools.hypsometry : 0 dates.\n",
      "> charistools.hypsometry : 0 elevations.\n",
      "> charistools.hypsometry : initialized new hypsometry object\n",
      "> charistools.hypsometry : read hypsometry data from AM_OBJECTID88/AM_OBJECTID88.2002.0100m.modicev04_3strike.GRSIZE_SCAG.fromFile.exposed_glacier_ice_melt_by_elev.best_Vakhsh_model.txt\n",
      "> charistools.hypsometry : 7 comments.\n",
      "> charistools.hypsometry : 0 dates.\n",
      "> charistools.hypsometry : 0 elevations.\n",
      "> charistools.hypsometry : initialized new hypsometry object\n"
     ]
    },
    {
     "name": "stdout",
     "output_type": "stream",
     "text": [
      "(2002, 'AM_OBJECTID89')\n"
     ]
    },
    {
     "name": "stderr",
     "output_type": "stream",
     "text": [
      "> charistools.hypsometry : read hypsometry data from AM_OBJECTID89/AM_OBJECTID89.2002.0100m.modicev04_3strike.snow_on_land_melt_by_elev.best_Vakhsh_model.txt\n",
      "> charistools.hypsometry : 7 comments.\n",
      "> charistools.hypsometry : 365 dates.\n",
      "> charistools.hypsometry : 34 elevations.\n",
      "> charistools.hypsometry : initialized new hypsometry object\n",
      "> charistools.hypsometry : read hypsometry data from AM_OBJECTID89/AM_OBJECTID89.2002.0100m.modicev04_3strike.GRSIZE_SCAG.fromFile.snow_on_ice_melt_by_elev.best_Vakhsh_model.txt\n",
      "> charistools.hypsometry : 7 comments.\n",
      "> charistools.hypsometry : 365 dates.\n",
      "> charistools.hypsometry : 34 elevations.\n",
      "> charistools.hypsometry : initialized new hypsometry object\n",
      "> charistools.hypsometry : read hypsometry data from AM_OBJECTID89/AM_OBJECTID89.2002.0100m.modicev04_3strike.GRSIZE_SCAG.fromFile.exposed_glacier_ice_melt_by_elev.best_Vakhsh_model.txt\n",
      "> charistools.hypsometry : 7 comments.\n",
      "> charistools.hypsometry : 365 dates.\n",
      "> charistools.hypsometry : 34 elevations.\n",
      "> charistools.hypsometry : initialized new hypsometry object\n"
     ]
    },
    {
     "name": "stdout",
     "output_type": "stream",
     "text": [
      "(2002, 'AM_OBJECTID90')\n"
     ]
    },
    {
     "name": "stderr",
     "output_type": "stream",
     "text": [
      "> charistools.hypsometry : read hypsometry data from AM_OBJECTID90/AM_OBJECTID90.2002.0100m.modicev04_3strike.snow_on_land_melt_by_elev.best_Vakhsh_model.txt\n",
      "> charistools.hypsometry : 7 comments.\n",
      "> charistools.hypsometry : 365 dates.\n",
      "> charistools.hypsometry : 36 elevations.\n",
      "> charistools.hypsometry : initialized new hypsometry object\n",
      "> charistools.hypsometry : read hypsometry data from AM_OBJECTID90/AM_OBJECTID90.2002.0100m.modicev04_3strike.GRSIZE_SCAG.fromFile.snow_on_ice_melt_by_elev.best_Vakhsh_model.txt\n",
      "> charistools.hypsometry : 7 comments.\n",
      "> charistools.hypsometry : 365 dates.\n",
      "> charistools.hypsometry : 36 elevations.\n",
      "> charistools.hypsometry : initialized new hypsometry object\n",
      "> charistools.hypsometry : read hypsometry data from AM_OBJECTID90/AM_OBJECTID90.2002.0100m.modicev04_3strike.GRSIZE_SCAG.fromFile.exposed_glacier_ice_melt_by_elev.best_Vakhsh_model.txt\n",
      "> charistools.hypsometry : 7 comments.\n",
      "> charistools.hypsometry : 365 dates.\n",
      "> charistools.hypsometry : 36 elevations.\n",
      "> charistools.hypsometry : initialized new hypsometry object\n"
     ]
    },
    {
     "name": "stdout",
     "output_type": "stream",
     "text": [
      "(2002, 'AM_OBJECTID91')\n"
     ]
    },
    {
     "name": "stderr",
     "output_type": "stream",
     "text": [
      "> charistools.hypsometry : read hypsometry data from AM_OBJECTID91/AM_OBJECTID91.2002.0100m.modicev04_3strike.snow_on_land_melt_by_elev.best_Vakhsh_model.txt\n",
      "> charistools.hypsometry : 7 comments.\n",
      "> charistools.hypsometry : 365 dates.\n",
      "> charistools.hypsometry : 23 elevations.\n",
      "> charistools.hypsometry : initialized new hypsometry object\n",
      "> charistools.hypsometry : read hypsometry data from AM_OBJECTID91/AM_OBJECTID91.2002.0100m.modicev04_3strike.GRSIZE_SCAG.fromFile.snow_on_ice_melt_by_elev.best_Vakhsh_model.txt\n",
      "> charistools.hypsometry : 7 comments.\n",
      "> charistools.hypsometry : 0 dates.\n",
      "> charistools.hypsometry : 0 elevations.\n",
      "> charistools.hypsometry : initialized new hypsometry object\n",
      "> charistools.hypsometry : read hypsometry data from AM_OBJECTID91/AM_OBJECTID91.2002.0100m.modicev04_3strike.GRSIZE_SCAG.fromFile.exposed_glacier_ice_melt_by_elev.best_Vakhsh_model.txt\n",
      "> charistools.hypsometry : 7 comments.\n",
      "> charistools.hypsometry : 0 dates.\n",
      "> charistools.hypsometry : 0 elevations.\n",
      "> charistools.hypsometry : initialized new hypsometry object\n"
     ]
    },
    {
     "name": "stdout",
     "output_type": "stream",
     "text": [
      "(2002, 'AM_OBJECTID93')\n"
     ]
    },
    {
     "name": "stderr",
     "output_type": "stream",
     "text": [
      "> charistools.hypsometry : read hypsometry data from AM_OBJECTID93/AM_OBJECTID93.2002.0100m.modicev04_3strike.snow_on_land_melt_by_elev.best_Vakhsh_model.txt\n",
      "> charistools.hypsometry : 7 comments.\n",
      "> charistools.hypsometry : 365 dates.\n",
      "> charistools.hypsometry : 4 elevations.\n",
      "> charistools.hypsometry : initialized new hypsometry object\n",
      "> charistools.hypsometry : read hypsometry data from AM_OBJECTID93/AM_OBJECTID93.2002.0100m.modicev04_3strike.GRSIZE_SCAG.fromFile.snow_on_ice_melt_by_elev.best_Vakhsh_model.txt\n",
      "> charistools.hypsometry : 7 comments.\n",
      "> charistools.hypsometry : 0 dates.\n",
      "> charistools.hypsometry : 0 elevations.\n",
      "> charistools.hypsometry : initialized new hypsometry object\n",
      "> charistools.hypsometry : read hypsometry data from AM_OBJECTID93/AM_OBJECTID93.2002.0100m.modicev04_3strike.GRSIZE_SCAG.fromFile.exposed_glacier_ice_melt_by_elev.best_Vakhsh_model.txt\n",
      "> charistools.hypsometry : 7 comments.\n",
      "> charistools.hypsometry : 0 dates.\n",
      "> charistools.hypsometry : 0 elevations.\n",
      "> charistools.hypsometry : initialized new hypsometry object\n"
     ]
    },
    {
     "name": "stdout",
     "output_type": "stream",
     "text": [
      "(2002, 'AM_OBJECTID94')\n"
     ]
    },
    {
     "name": "stderr",
     "output_type": "stream",
     "text": [
      "> charistools.hypsometry : read hypsometry data from AM_OBJECTID94/AM_OBJECTID94.2002.0100m.modicev04_3strike.snow_on_land_melt_by_elev.best_Vakhsh_model.txt\n",
      "> charistools.hypsometry : 7 comments.\n",
      "> charistools.hypsometry : 365 dates.\n",
      "> charistools.hypsometry : 46 elevations.\n",
      "> charistools.hypsometry : initialized new hypsometry object\n",
      "> charistools.hypsometry : read hypsometry data from AM_OBJECTID94/AM_OBJECTID94.2002.0100m.modicev04_3strike.GRSIZE_SCAG.fromFile.snow_on_ice_melt_by_elev.best_Vakhsh_model.txt\n",
      "> charistools.hypsometry : 7 comments.\n",
      "> charistools.hypsometry : 365 dates.\n",
      "> charistools.hypsometry : 46 elevations.\n",
      "> charistools.hypsometry : initialized new hypsometry object\n",
      "> charistools.hypsometry : read hypsometry data from AM_OBJECTID94/AM_OBJECTID94.2002.0100m.modicev04_3strike.GRSIZE_SCAG.fromFile.exposed_glacier_ice_melt_by_elev.best_Vakhsh_model.txt\n",
      "> charistools.hypsometry : 7 comments.\n",
      "> charistools.hypsometry : 365 dates.\n",
      "> charistools.hypsometry : 46 elevations.\n",
      "> charistools.hypsometry : initialized new hypsometry object\n"
     ]
    },
    {
     "name": "stdout",
     "output_type": "stream",
     "text": [
      "(2002, 'AM_OBJECTID97')\n"
     ]
    },
    {
     "name": "stderr",
     "output_type": "stream",
     "text": [
      "> charistools.hypsometry : read hypsometry data from AM_OBJECTID97/AM_OBJECTID97.2002.0100m.modicev04_3strike.snow_on_land_melt_by_elev.best_Vakhsh_model.txt\n",
      "> charistools.hypsometry : 7 comments.\n",
      "> charistools.hypsometry : 365 dates.\n",
      "> charistools.hypsometry : 64 elevations.\n",
      "> charistools.hypsometry : initialized new hypsometry object\n",
      "> charistools.hypsometry : read hypsometry data from AM_OBJECTID97/AM_OBJECTID97.2002.0100m.modicev04_3strike.GRSIZE_SCAG.fromFile.snow_on_ice_melt_by_elev.best_Vakhsh_model.txt\n",
      "> charistools.hypsometry : 7 comments.\n",
      "> charistools.hypsometry : 365 dates.\n",
      "> charistools.hypsometry : 64 elevations.\n",
      "> charistools.hypsometry : initialized new hypsometry object\n",
      "> charistools.hypsometry : read hypsometry data from AM_OBJECTID97/AM_OBJECTID97.2002.0100m.modicev04_3strike.GRSIZE_SCAG.fromFile.exposed_glacier_ice_melt_by_elev.best_Vakhsh_model.txt\n",
      "> charistools.hypsometry : 7 comments.\n",
      "> charistools.hypsometry : 365 dates.\n",
      "> charistools.hypsometry : 64 elevations.\n",
      "> charistools.hypsometry : initialized new hypsometry object\n"
     ]
    },
    {
     "name": "stdout",
     "output_type": "stream",
     "text": [
      "(2002, 'AM_OBJECTID98')\n"
     ]
    },
    {
     "name": "stderr",
     "output_type": "stream",
     "text": [
      "> charistools.hypsometry : read hypsometry data from AM_OBJECTID98/AM_OBJECTID98.2002.0100m.modicev04_3strike.snow_on_land_melt_by_elev.best_Vakhsh_model.txt\n",
      "> charistools.hypsometry : 7 comments.\n",
      "> charistools.hypsometry : 365 dates.\n",
      "> charistools.hypsometry : 54 elevations.\n",
      "> charistools.hypsometry : initialized new hypsometry object\n",
      "> charistools.hypsometry : read hypsometry data from AM_OBJECTID98/AM_OBJECTID98.2002.0100m.modicev04_3strike.GRSIZE_SCAG.fromFile.snow_on_ice_melt_by_elev.best_Vakhsh_model.txt\n",
      "> charistools.hypsometry : 7 comments.\n",
      "> charistools.hypsometry : 365 dates.\n",
      "> charistools.hypsometry : 54 elevations.\n",
      "> charistools.hypsometry : initialized new hypsometry object\n",
      "> charistools.hypsometry : read hypsometry data from AM_OBJECTID98/AM_OBJECTID98.2002.0100m.modicev04_3strike.GRSIZE_SCAG.fromFile.exposed_glacier_ice_melt_by_elev.best_Vakhsh_model.txt\n",
      "> charistools.hypsometry : 7 comments.\n",
      "> charistools.hypsometry : 365 dates.\n",
      "> charistools.hypsometry : 54 elevations.\n",
      "> charistools.hypsometry : initialized new hypsometry object\n"
     ]
    },
    {
     "name": "stdout",
     "output_type": "stream",
     "text": [
      "(2002, 'AM_OBJECTID99')\n"
     ]
    },
    {
     "name": "stderr",
     "output_type": "stream",
     "text": [
      "> charistools.hypsometry : read hypsometry data from AM_OBJECTID99/AM_OBJECTID99.2002.0100m.modicev04_3strike.snow_on_land_melt_by_elev.best_Vakhsh_model.txt\n",
      "> charistools.hypsometry : 7 comments.\n",
      "> charistools.hypsometry : 365 dates.\n",
      "> charistools.hypsometry : 48 elevations.\n",
      "> charistools.hypsometry : initialized new hypsometry object\n",
      "> charistools.hypsometry : read hypsometry data from AM_OBJECTID99/AM_OBJECTID99.2002.0100m.modicev04_3strike.GRSIZE_SCAG.fromFile.snow_on_ice_melt_by_elev.best_Vakhsh_model.txt\n",
      "> charistools.hypsometry : 7 comments.\n",
      "> charistools.hypsometry : 365 dates.\n",
      "> charistools.hypsometry : 48 elevations.\n",
      "> charistools.hypsometry : initialized new hypsometry object\n",
      "> charistools.hypsometry : read hypsometry data from AM_OBJECTID99/AM_OBJECTID99.2002.0100m.modicev04_3strike.GRSIZE_SCAG.fromFile.exposed_glacier_ice_melt_by_elev.best_Vakhsh_model.txt\n",
      "> charistools.hypsometry : 7 comments.\n",
      "> charistools.hypsometry : 365 dates.\n",
      "> charistools.hypsometry : 48 elevations.\n",
      "> charistools.hypsometry : initialized new hypsometry object\n"
     ]
    }
   ],
   "source": [
    "years = np.arange(2) + 2001\n",
    "fig, ax = plt.subplots(len(years),1, figsize=(12,3*len(years)))\n",
    "for j, year in enumerate(years):\n",
    "    # For each basin, get the 3 tri-surf melt files\n",
    "    for i, drainageID in enumerate(drainageIDs):\n",
    "        solfile = glob.glob(\"%s/%s.%d.*snow_on_land_melt_by_elev*\" % (drainageID, drainageID, year))\n",
    "        soifile = glob.glob(\"%s/%s.%d.*snow_on_ice_melt_by_elev*\" % (drainageID, drainageID, year))\n",
    "        egifile = glob.glob(\"%s/%s.%d.*exposed_glacier_ice_melt_by_elev*\" % (drainageID, drainageID, year))\n",
    "        print(year, drainageID)\n",
    "        SOLmelt = Hypsometry(filename=solfile[0], verbose=True)\n",
    "        SOImelt = Hypsometry(filename=soifile[0], verbose=True)\n",
    "        EGImelt = Hypsometry(filename=egifile[0], verbose=True)\n",
    "        # If SOLmelt is non-empty, but SOImelt and SGImelt are empty,\n",
    "        # then make a copy of the dimensions of SOLmelt that is filled with zeroes\n",
    "        if not SOLmelt.data.empty and SOImelt.data.empty and EGImelt.data.empty:\n",
    "            SOImelt.data = SOLmelt.data.copy()\n",
    "            SOImelt.data[:] = 0.\n",
    "            EGImelt.data = SOLmelt.data.copy()\n",
    "            EGImelt.data[:] = 0.\n",
    "        if i == 0:\n",
    "            title = \"Modelled melt for CHARIS basin %s %d sub-basins (%d)\" % (\n",
    "                majorBasinID, len(drainageIDs), year)\n",
    "            allSOLmelt = SOLmelt.data.copy()\n",
    "            allSOImelt = SOImelt.data.copy()\n",
    "            allEGImelt = EGImelt.data.copy()\n",
    "        else:\n",
    "            title = None\n",
    "        ax[j] = PlotTriSurfMelt(ax[j], SOLmelt, SOImelt, EGImelt, title=title, linewidth=0.5)\n",
    "        handles, labels = ax[j].get_legend_handles_labels()\n",
    "        ax[j].legend(handles[:4], labels[:4], loc='best')\n",
    "        \n",
    "fig.tight_layout()\n",
    "    \n"
   ]
  },
  {
   "cell_type": "code",
   "execution_count": 6,
   "metadata": {
    "collapsed": false
   },
   "outputs": [
    {
     "data": {
      "text/plain": [
       "u'/Users/brodzik/projects/CHARIS/derived_hypsometries/MODSCAG_GF_v09_fromFile_rainv01_less_ET'"
      ]
     },
     "execution_count": 6,
     "metadata": {},
     "output_type": "execute_result"
    }
   ],
   "source": [
    "%pwd"
   ]
  },
  {
   "cell_type": "code",
   "execution_count": 10,
   "metadata": {
    "collapsed": true
   },
   "outputs": [],
   "source": [
    "plt.savefig(\"SY_v01.2001-2002.png\")"
   ]
  },
  {
   "cell_type": "code",
   "execution_count": 34,
   "metadata": {
    "collapsed": false,
    "scrolled": true
   },
   "outputs": [
    {
     "data": {
      "application/javascript": [
       "/* Put everything inside the global mpl namespace */\n",
       "window.mpl = {};\n",
       "\n",
       "mpl.get_websocket_type = function() {\n",
       "    if (typeof(WebSocket) !== 'undefined') {\n",
       "        return WebSocket;\n",
       "    } else if (typeof(MozWebSocket) !== 'undefined') {\n",
       "        return MozWebSocket;\n",
       "    } else {\n",
       "        alert('Your browser does not have WebSocket support.' +\n",
       "              'Please try Chrome, Safari or Firefox ≥ 6. ' +\n",
       "              'Firefox 4 and 5 are also supported but you ' +\n",
       "              'have to enable WebSockets in about:config.');\n",
       "    };\n",
       "}\n",
       "\n",
       "mpl.figure = function(figure_id, websocket, ondownload, parent_element) {\n",
       "    this.id = figure_id;\n",
       "\n",
       "    this.ws = websocket;\n",
       "\n",
       "    this.supports_binary = (this.ws.binaryType != undefined);\n",
       "\n",
       "    if (!this.supports_binary) {\n",
       "        var warnings = document.getElementById(\"mpl-warnings\");\n",
       "        if (warnings) {\n",
       "            warnings.style.display = 'block';\n",
       "            warnings.textContent = (\n",
       "                \"This browser does not support binary websocket messages. \" +\n",
       "                    \"Performance may be slow.\");\n",
       "        }\n",
       "    }\n",
       "\n",
       "    this.imageObj = new Image();\n",
       "\n",
       "    this.context = undefined;\n",
       "    this.message = undefined;\n",
       "    this.canvas = undefined;\n",
       "    this.rubberband_canvas = undefined;\n",
       "    this.rubberband_context = undefined;\n",
       "    this.format_dropdown = undefined;\n",
       "\n",
       "    this.image_mode = 'full';\n",
       "\n",
       "    this.root = $('<div/>');\n",
       "    this._root_extra_style(this.root)\n",
       "    this.root.attr('style', 'display: inline-block');\n",
       "\n",
       "    $(parent_element).append(this.root);\n",
       "\n",
       "    this._init_header(this);\n",
       "    this._init_canvas(this);\n",
       "    this._init_toolbar(this);\n",
       "\n",
       "    var fig = this;\n",
       "\n",
       "    this.waiting = false;\n",
       "\n",
       "    this.ws.onopen =  function () {\n",
       "            fig.send_message(\"supports_binary\", {value: fig.supports_binary});\n",
       "            fig.send_message(\"send_image_mode\", {});\n",
       "            fig.send_message(\"refresh\", {});\n",
       "        }\n",
       "\n",
       "    this.imageObj.onload = function() {\n",
       "            if (fig.image_mode == 'full') {\n",
       "                // Full images could contain transparency (where diff images\n",
       "                // almost always do), so we need to clear the canvas so that\n",
       "                // there is no ghosting.\n",
       "                fig.context.clearRect(0, 0, fig.canvas.width, fig.canvas.height);\n",
       "            }\n",
       "            fig.context.drawImage(fig.imageObj, 0, 0);\n",
       "        };\n",
       "\n",
       "    this.imageObj.onunload = function() {\n",
       "        this.ws.close();\n",
       "    }\n",
       "\n",
       "    this.ws.onmessage = this._make_on_message_function(this);\n",
       "\n",
       "    this.ondownload = ondownload;\n",
       "}\n",
       "\n",
       "mpl.figure.prototype._init_header = function() {\n",
       "    var titlebar = $(\n",
       "        '<div class=\"ui-dialog-titlebar ui-widget-header ui-corner-all ' +\n",
       "        'ui-helper-clearfix\"/>');\n",
       "    var titletext = $(\n",
       "        '<div class=\"ui-dialog-title\" style=\"width: 100%; ' +\n",
       "        'text-align: center; padding: 3px;\"/>');\n",
       "    titlebar.append(titletext)\n",
       "    this.root.append(titlebar);\n",
       "    this.header = titletext[0];\n",
       "}\n",
       "\n",
       "\n",
       "\n",
       "mpl.figure.prototype._canvas_extra_style = function(canvas_div) {\n",
       "\n",
       "}\n",
       "\n",
       "\n",
       "mpl.figure.prototype._root_extra_style = function(canvas_div) {\n",
       "\n",
       "}\n",
       "\n",
       "mpl.figure.prototype._init_canvas = function() {\n",
       "    var fig = this;\n",
       "\n",
       "    var canvas_div = $('<div/>');\n",
       "\n",
       "    canvas_div.attr('style', 'position: relative; clear: both; outline: 0');\n",
       "\n",
       "    function canvas_keyboard_event(event) {\n",
       "        return fig.key_event(event, event['data']);\n",
       "    }\n",
       "\n",
       "    canvas_div.keydown('key_press', canvas_keyboard_event);\n",
       "    canvas_div.keyup('key_release', canvas_keyboard_event);\n",
       "    this.canvas_div = canvas_div\n",
       "    this._canvas_extra_style(canvas_div)\n",
       "    this.root.append(canvas_div);\n",
       "\n",
       "    var canvas = $('<canvas/>');\n",
       "    canvas.addClass('mpl-canvas');\n",
       "    canvas.attr('style', \"left: 0; top: 0; z-index: 0; outline: 0\")\n",
       "\n",
       "    this.canvas = canvas[0];\n",
       "    this.context = canvas[0].getContext(\"2d\");\n",
       "\n",
       "    var rubberband = $('<canvas/>');\n",
       "    rubberband.attr('style', \"position: absolute; left: 0; top: 0; z-index: 1;\")\n",
       "\n",
       "    var pass_mouse_events = true;\n",
       "\n",
       "    canvas_div.resizable({\n",
       "        start: function(event, ui) {\n",
       "            pass_mouse_events = false;\n",
       "        },\n",
       "        resize: function(event, ui) {\n",
       "            fig.request_resize(ui.size.width, ui.size.height);\n",
       "        },\n",
       "        stop: function(event, ui) {\n",
       "            pass_mouse_events = true;\n",
       "            fig.request_resize(ui.size.width, ui.size.height);\n",
       "        },\n",
       "    });\n",
       "\n",
       "    function mouse_event_fn(event) {\n",
       "        if (pass_mouse_events)\n",
       "            return fig.mouse_event(event, event['data']);\n",
       "    }\n",
       "\n",
       "    rubberband.mousedown('button_press', mouse_event_fn);\n",
       "    rubberband.mouseup('button_release', mouse_event_fn);\n",
       "    // Throttle sequential mouse events to 1 every 20ms.\n",
       "    rubberband.mousemove('motion_notify', mouse_event_fn);\n",
       "\n",
       "    rubberband.mouseenter('figure_enter', mouse_event_fn);\n",
       "    rubberband.mouseleave('figure_leave', mouse_event_fn);\n",
       "\n",
       "    canvas_div.on(\"wheel\", function (event) {\n",
       "        event = event.originalEvent;\n",
       "        event['data'] = 'scroll'\n",
       "        if (event.deltaY < 0) {\n",
       "            event.step = 1;\n",
       "        } else {\n",
       "            event.step = -1;\n",
       "        }\n",
       "        mouse_event_fn(event);\n",
       "    });\n",
       "\n",
       "    canvas_div.append(canvas);\n",
       "    canvas_div.append(rubberband);\n",
       "\n",
       "    this.rubberband = rubberband;\n",
       "    this.rubberband_canvas = rubberband[0];\n",
       "    this.rubberband_context = rubberband[0].getContext(\"2d\");\n",
       "    this.rubberband_context.strokeStyle = \"#000000\";\n",
       "\n",
       "    this._resize_canvas = function(width, height) {\n",
       "        // Keep the size of the canvas, canvas container, and rubber band\n",
       "        // canvas in synch.\n",
       "        canvas_div.css('width', width)\n",
       "        canvas_div.css('height', height)\n",
       "\n",
       "        canvas.attr('width', width);\n",
       "        canvas.attr('height', height);\n",
       "\n",
       "        rubberband.attr('width', width);\n",
       "        rubberband.attr('height', height);\n",
       "    }\n",
       "\n",
       "    // Set the figure to an initial 600x600px, this will subsequently be updated\n",
       "    // upon first draw.\n",
       "    this._resize_canvas(600, 600);\n",
       "\n",
       "    // Disable right mouse context menu.\n",
       "    $(this.rubberband_canvas).bind(\"contextmenu\",function(e){\n",
       "        return false;\n",
       "    });\n",
       "\n",
       "    function set_focus () {\n",
       "        canvas.focus();\n",
       "        canvas_div.focus();\n",
       "    }\n",
       "\n",
       "    window.setTimeout(set_focus, 100);\n",
       "}\n",
       "\n",
       "mpl.figure.prototype._init_toolbar = function() {\n",
       "    var fig = this;\n",
       "\n",
       "    var nav_element = $('<div/>')\n",
       "    nav_element.attr('style', 'width: 100%');\n",
       "    this.root.append(nav_element);\n",
       "\n",
       "    // Define a callback function for later on.\n",
       "    function toolbar_event(event) {\n",
       "        return fig.toolbar_button_onclick(event['data']);\n",
       "    }\n",
       "    function toolbar_mouse_event(event) {\n",
       "        return fig.toolbar_button_onmouseover(event['data']);\n",
       "    }\n",
       "\n",
       "    for(var toolbar_ind in mpl.toolbar_items) {\n",
       "        var name = mpl.toolbar_items[toolbar_ind][0];\n",
       "        var tooltip = mpl.toolbar_items[toolbar_ind][1];\n",
       "        var image = mpl.toolbar_items[toolbar_ind][2];\n",
       "        var method_name = mpl.toolbar_items[toolbar_ind][3];\n",
       "\n",
       "        if (!name) {\n",
       "            // put a spacer in here.\n",
       "            continue;\n",
       "        }\n",
       "        var button = $('<button/>');\n",
       "        button.addClass('ui-button ui-widget ui-state-default ui-corner-all ' +\n",
       "                        'ui-button-icon-only');\n",
       "        button.attr('role', 'button');\n",
       "        button.attr('aria-disabled', 'false');\n",
       "        button.click(method_name, toolbar_event);\n",
       "        button.mouseover(tooltip, toolbar_mouse_event);\n",
       "\n",
       "        var icon_img = $('<span/>');\n",
       "        icon_img.addClass('ui-button-icon-primary ui-icon');\n",
       "        icon_img.addClass(image);\n",
       "        icon_img.addClass('ui-corner-all');\n",
       "\n",
       "        var tooltip_span = $('<span/>');\n",
       "        tooltip_span.addClass('ui-button-text');\n",
       "        tooltip_span.html(tooltip);\n",
       "\n",
       "        button.append(icon_img);\n",
       "        button.append(tooltip_span);\n",
       "\n",
       "        nav_element.append(button);\n",
       "    }\n",
       "\n",
       "    var fmt_picker_span = $('<span/>');\n",
       "\n",
       "    var fmt_picker = $('<select/>');\n",
       "    fmt_picker.addClass('mpl-toolbar-option ui-widget ui-widget-content');\n",
       "    fmt_picker_span.append(fmt_picker);\n",
       "    nav_element.append(fmt_picker_span);\n",
       "    this.format_dropdown = fmt_picker[0];\n",
       "\n",
       "    for (var ind in mpl.extensions) {\n",
       "        var fmt = mpl.extensions[ind];\n",
       "        var option = $(\n",
       "            '<option/>', {selected: fmt === mpl.default_extension}).html(fmt);\n",
       "        fmt_picker.append(option)\n",
       "    }\n",
       "\n",
       "    // Add hover states to the ui-buttons\n",
       "    $( \".ui-button\" ).hover(\n",
       "        function() { $(this).addClass(\"ui-state-hover\");},\n",
       "        function() { $(this).removeClass(\"ui-state-hover\");}\n",
       "    );\n",
       "\n",
       "    var status_bar = $('<span class=\"mpl-message\"/>');\n",
       "    nav_element.append(status_bar);\n",
       "    this.message = status_bar[0];\n",
       "}\n",
       "\n",
       "mpl.figure.prototype.request_resize = function(x_pixels, y_pixels) {\n",
       "    // Request matplotlib to resize the figure. Matplotlib will then trigger a resize in the client,\n",
       "    // which will in turn request a refresh of the image.\n",
       "    this.send_message('resize', {'width': x_pixels, 'height': y_pixels});\n",
       "}\n",
       "\n",
       "mpl.figure.prototype.send_message = function(type, properties) {\n",
       "    properties['type'] = type;\n",
       "    properties['figure_id'] = this.id;\n",
       "    this.ws.send(JSON.stringify(properties));\n",
       "}\n",
       "\n",
       "mpl.figure.prototype.send_draw_message = function() {\n",
       "    if (!this.waiting) {\n",
       "        this.waiting = true;\n",
       "        this.ws.send(JSON.stringify({type: \"draw\", figure_id: this.id}));\n",
       "    }\n",
       "}\n",
       "\n",
       "\n",
       "mpl.figure.prototype.handle_save = function(fig, msg) {\n",
       "    var format_dropdown = fig.format_dropdown;\n",
       "    var format = format_dropdown.options[format_dropdown.selectedIndex].value;\n",
       "    fig.ondownload(fig, format);\n",
       "}\n",
       "\n",
       "\n",
       "mpl.figure.prototype.handle_resize = function(fig, msg) {\n",
       "    var size = msg['size'];\n",
       "    if (size[0] != fig.canvas.width || size[1] != fig.canvas.height) {\n",
       "        fig._resize_canvas(size[0], size[1]);\n",
       "        fig.send_message(\"refresh\", {});\n",
       "    };\n",
       "}\n",
       "\n",
       "mpl.figure.prototype.handle_rubberband = function(fig, msg) {\n",
       "    var x0 = msg['x0'];\n",
       "    var y0 = fig.canvas.height - msg['y0'];\n",
       "    var x1 = msg['x1'];\n",
       "    var y1 = fig.canvas.height - msg['y1'];\n",
       "    x0 = Math.floor(x0) + 0.5;\n",
       "    y0 = Math.floor(y0) + 0.5;\n",
       "    x1 = Math.floor(x1) + 0.5;\n",
       "    y1 = Math.floor(y1) + 0.5;\n",
       "    var min_x = Math.min(x0, x1);\n",
       "    var min_y = Math.min(y0, y1);\n",
       "    var width = Math.abs(x1 - x0);\n",
       "    var height = Math.abs(y1 - y0);\n",
       "\n",
       "    fig.rubberband_context.clearRect(\n",
       "        0, 0, fig.canvas.width, fig.canvas.height);\n",
       "\n",
       "    fig.rubberband_context.strokeRect(min_x, min_y, width, height);\n",
       "}\n",
       "\n",
       "mpl.figure.prototype.handle_figure_label = function(fig, msg) {\n",
       "    // Updates the figure title.\n",
       "    fig.header.textContent = msg['label'];\n",
       "}\n",
       "\n",
       "mpl.figure.prototype.handle_cursor = function(fig, msg) {\n",
       "    var cursor = msg['cursor'];\n",
       "    switch(cursor)\n",
       "    {\n",
       "    case 0:\n",
       "        cursor = 'pointer';\n",
       "        break;\n",
       "    case 1:\n",
       "        cursor = 'default';\n",
       "        break;\n",
       "    case 2:\n",
       "        cursor = 'crosshair';\n",
       "        break;\n",
       "    case 3:\n",
       "        cursor = 'move';\n",
       "        break;\n",
       "    }\n",
       "    fig.rubberband_canvas.style.cursor = cursor;\n",
       "}\n",
       "\n",
       "mpl.figure.prototype.handle_message = function(fig, msg) {\n",
       "    fig.message.textContent = msg['message'];\n",
       "}\n",
       "\n",
       "mpl.figure.prototype.handle_draw = function(fig, msg) {\n",
       "    // Request the server to send over a new figure.\n",
       "    fig.send_draw_message();\n",
       "}\n",
       "\n",
       "mpl.figure.prototype.handle_image_mode = function(fig, msg) {\n",
       "    fig.image_mode = msg['mode'];\n",
       "}\n",
       "\n",
       "mpl.figure.prototype.updated_canvas_event = function() {\n",
       "    // Called whenever the canvas gets updated.\n",
       "    this.send_message(\"ack\", {});\n",
       "}\n",
       "\n",
       "// A function to construct a web socket function for onmessage handling.\n",
       "// Called in the figure constructor.\n",
       "mpl.figure.prototype._make_on_message_function = function(fig) {\n",
       "    return function socket_on_message(evt) {\n",
       "        if (evt.data instanceof Blob) {\n",
       "            /* FIXME: We get \"Resource interpreted as Image but\n",
       "             * transferred with MIME type text/plain:\" errors on\n",
       "             * Chrome.  But how to set the MIME type?  It doesn't seem\n",
       "             * to be part of the websocket stream */\n",
       "            evt.data.type = \"image/png\";\n",
       "\n",
       "            /* Free the memory for the previous frames */\n",
       "            if (fig.imageObj.src) {\n",
       "                (window.URL || window.webkitURL).revokeObjectURL(\n",
       "                    fig.imageObj.src);\n",
       "            }\n",
       "\n",
       "            fig.imageObj.src = (window.URL || window.webkitURL).createObjectURL(\n",
       "                evt.data);\n",
       "            fig.updated_canvas_event();\n",
       "            fig.waiting = false;\n",
       "            return;\n",
       "        }\n",
       "        else if (typeof evt.data === 'string' && evt.data.slice(0, 21) == \"data:image/png;base64\") {\n",
       "            fig.imageObj.src = evt.data;\n",
       "            fig.updated_canvas_event();\n",
       "            fig.waiting = false;\n",
       "            return;\n",
       "        }\n",
       "\n",
       "        var msg = JSON.parse(evt.data);\n",
       "        var msg_type = msg['type'];\n",
       "\n",
       "        // Call the  \"handle_{type}\" callback, which takes\n",
       "        // the figure and JSON message as its only arguments.\n",
       "        try {\n",
       "            var callback = fig[\"handle_\" + msg_type];\n",
       "        } catch (e) {\n",
       "            console.log(\"No handler for the '\" + msg_type + \"' message type: \", msg);\n",
       "            return;\n",
       "        }\n",
       "\n",
       "        if (callback) {\n",
       "            try {\n",
       "                // console.log(\"Handling '\" + msg_type + \"' message: \", msg);\n",
       "                callback(fig, msg);\n",
       "            } catch (e) {\n",
       "                console.log(\"Exception inside the 'handler_\" + msg_type + \"' callback:\", e, e.stack, msg);\n",
       "            }\n",
       "        }\n",
       "    };\n",
       "}\n",
       "\n",
       "// from http://stackoverflow.com/questions/1114465/getting-mouse-location-in-canvas\n",
       "mpl.findpos = function(e) {\n",
       "    //this section is from http://www.quirksmode.org/js/events_properties.html\n",
       "    var targ;\n",
       "    if (!e)\n",
       "        e = window.event;\n",
       "    if (e.target)\n",
       "        targ = e.target;\n",
       "    else if (e.srcElement)\n",
       "        targ = e.srcElement;\n",
       "    if (targ.nodeType == 3) // defeat Safari bug\n",
       "        targ = targ.parentNode;\n",
       "\n",
       "    // jQuery normalizes the pageX and pageY\n",
       "    // pageX,Y are the mouse positions relative to the document\n",
       "    // offset() returns the position of the element relative to the document\n",
       "    var x = e.pageX - $(targ).offset().left;\n",
       "    var y = e.pageY - $(targ).offset().top;\n",
       "\n",
       "    return {\"x\": x, \"y\": y};\n",
       "};\n",
       "\n",
       "/*\n",
       " * return a copy of an object with only non-object keys\n",
       " * we need this to avoid circular references\n",
       " * http://stackoverflow.com/a/24161582/3208463\n",
       " */\n",
       "function simpleKeys (original) {\n",
       "  return Object.keys(original).reduce(function (obj, key) {\n",
       "    if (typeof original[key] !== 'object')\n",
       "        obj[key] = original[key]\n",
       "    return obj;\n",
       "  }, {});\n",
       "}\n",
       "\n",
       "mpl.figure.prototype.mouse_event = function(event, name) {\n",
       "    var canvas_pos = mpl.findpos(event)\n",
       "\n",
       "    if (name === 'button_press')\n",
       "    {\n",
       "        this.canvas.focus();\n",
       "        this.canvas_div.focus();\n",
       "    }\n",
       "\n",
       "    var x = canvas_pos.x;\n",
       "    var y = canvas_pos.y;\n",
       "\n",
       "    this.send_message(name, {x: x, y: y, button: event.button,\n",
       "                             step: event.step,\n",
       "                             guiEvent: simpleKeys(event)});\n",
       "\n",
       "    /* This prevents the web browser from automatically changing to\n",
       "     * the text insertion cursor when the button is pressed.  We want\n",
       "     * to control all of the cursor setting manually through the\n",
       "     * 'cursor' event from matplotlib */\n",
       "    event.preventDefault();\n",
       "    return false;\n",
       "}\n",
       "\n",
       "mpl.figure.prototype._key_event_extra = function(event, name) {\n",
       "    // Handle any extra behaviour associated with a key event\n",
       "}\n",
       "\n",
       "mpl.figure.prototype.key_event = function(event, name) {\n",
       "\n",
       "    // Prevent repeat events\n",
       "    if (name == 'key_press')\n",
       "    {\n",
       "        if (event.which === this._key)\n",
       "            return;\n",
       "        else\n",
       "            this._key = event.which;\n",
       "    }\n",
       "    if (name == 'key_release')\n",
       "        this._key = null;\n",
       "\n",
       "    var value = '';\n",
       "    if (event.ctrlKey && event.which != 17)\n",
       "        value += \"ctrl+\";\n",
       "    if (event.altKey && event.which != 18)\n",
       "        value += \"alt+\";\n",
       "    if (event.shiftKey && event.which != 16)\n",
       "        value += \"shift+\";\n",
       "\n",
       "    value += 'k';\n",
       "    value += event.which.toString();\n",
       "\n",
       "    this._key_event_extra(event, name);\n",
       "\n",
       "    this.send_message(name, {key: value,\n",
       "                             guiEvent: simpleKeys(event)});\n",
       "    return false;\n",
       "}\n",
       "\n",
       "mpl.figure.prototype.toolbar_button_onclick = function(name) {\n",
       "    if (name == 'download') {\n",
       "        this.handle_save(this, null);\n",
       "    } else {\n",
       "        this.send_message(\"toolbar_button\", {name: name});\n",
       "    }\n",
       "};\n",
       "\n",
       "mpl.figure.prototype.toolbar_button_onmouseover = function(tooltip) {\n",
       "    this.message.textContent = tooltip;\n",
       "};\n",
       "mpl.toolbar_items = [[\"Home\", \"Reset original view\", \"fa fa-home icon-home\", \"home\"], [\"Back\", \"Back to  previous view\", \"fa fa-arrow-left icon-arrow-left\", \"back\"], [\"Forward\", \"Forward to next view\", \"fa fa-arrow-right icon-arrow-right\", \"forward\"], [\"\", \"\", \"\", \"\"], [\"Pan\", \"Pan axes with left mouse, zoom with right\", \"fa fa-arrows icon-move\", \"pan\"], [\"Zoom\", \"Zoom to rectangle\", \"fa fa-square-o icon-check-empty\", \"zoom\"], [\"\", \"\", \"\", \"\"], [\"Download\", \"Download plot\", \"fa fa-floppy-o icon-save\", \"download\"]];\n",
       "\n",
       "mpl.extensions = [\"eps\", \"pdf\", \"png\", \"ps\", \"raw\", \"svg\"];\n",
       "\n",
       "mpl.default_extension = \"png\";var comm_websocket_adapter = function(comm) {\n",
       "    // Create a \"websocket\"-like object which calls the given IPython comm\n",
       "    // object with the appropriate methods. Currently this is a non binary\n",
       "    // socket, so there is still some room for performance tuning.\n",
       "    var ws = {};\n",
       "\n",
       "    ws.close = function() {\n",
       "        comm.close()\n",
       "    };\n",
       "    ws.send = function(m) {\n",
       "        //console.log('sending', m);\n",
       "        comm.send(m);\n",
       "    };\n",
       "    // Register the callback with on_msg.\n",
       "    comm.on_msg(function(msg) {\n",
       "        //console.log('receiving', msg['content']['data'], msg);\n",
       "        // Pass the mpl event to the overriden (by mpl) onmessage function.\n",
       "        ws.onmessage(msg['content']['data'])\n",
       "    });\n",
       "    return ws;\n",
       "}\n",
       "\n",
       "mpl.mpl_figure_comm = function(comm, msg) {\n",
       "    // This is the function which gets called when the mpl process\n",
       "    // starts-up an IPython Comm through the \"matplotlib\" channel.\n",
       "\n",
       "    var id = msg.content.data.id;\n",
       "    // Get hold of the div created by the display call when the Comm\n",
       "    // socket was opened in Python.\n",
       "    var element = $(\"#\" + id);\n",
       "    var ws_proxy = comm_websocket_adapter(comm)\n",
       "\n",
       "    function ondownload(figure, format) {\n",
       "        window.open(figure.imageObj.src);\n",
       "    }\n",
       "\n",
       "    var fig = new mpl.figure(id, ws_proxy,\n",
       "                           ondownload,\n",
       "                           element.get(0));\n",
       "\n",
       "    // Call onopen now - mpl needs it, as it is assuming we've passed it a real\n",
       "    // web socket which is closed, not our websocket->open comm proxy.\n",
       "    ws_proxy.onopen();\n",
       "\n",
       "    fig.parent_element = element.get(0);\n",
       "    fig.cell_info = mpl.find_output_cell(\"<div id='\" + id + \"'></div>\");\n",
       "    if (!fig.cell_info) {\n",
       "        console.error(\"Failed to find cell for figure\", id, fig);\n",
       "        return;\n",
       "    }\n",
       "\n",
       "    var output_index = fig.cell_info[2]\n",
       "    var cell = fig.cell_info[0];\n",
       "\n",
       "};\n",
       "\n",
       "mpl.figure.prototype.handle_close = function(fig, msg) {\n",
       "    fig.root.unbind('remove')\n",
       "\n",
       "    // Update the output cell to use the data from the current canvas.\n",
       "    fig.push_to_output();\n",
       "    var dataURL = fig.canvas.toDataURL();\n",
       "    // Re-enable the keyboard manager in IPython - without this line, in FF,\n",
       "    // the notebook keyboard shortcuts fail.\n",
       "    IPython.keyboard_manager.enable()\n",
       "    $(fig.parent_element).html('<img src=\"' + dataURL + '\">');\n",
       "    fig.close_ws(fig, msg);\n",
       "}\n",
       "\n",
       "mpl.figure.prototype.close_ws = function(fig, msg){\n",
       "    fig.send_message('closing', msg);\n",
       "    // fig.ws.close()\n",
       "}\n",
       "\n",
       "mpl.figure.prototype.push_to_output = function(remove_interactive) {\n",
       "    // Turn the data on the canvas into data in the output cell.\n",
       "    var dataURL = this.canvas.toDataURL();\n",
       "    this.cell_info[1]['text/html'] = '<img src=\"' + dataURL + '\">';\n",
       "}\n",
       "\n",
       "mpl.figure.prototype.updated_canvas_event = function() {\n",
       "    // Tell IPython that the notebook contents must change.\n",
       "    IPython.notebook.set_dirty(true);\n",
       "    this.send_message(\"ack\", {});\n",
       "    var fig = this;\n",
       "    // Wait a second, then push the new image to the DOM so\n",
       "    // that it is saved nicely (might be nice to debounce this).\n",
       "    setTimeout(function () { fig.push_to_output() }, 1000);\n",
       "}\n",
       "\n",
       "mpl.figure.prototype._init_toolbar = function() {\n",
       "    var fig = this;\n",
       "\n",
       "    var nav_element = $('<div/>')\n",
       "    nav_element.attr('style', 'width: 100%');\n",
       "    this.root.append(nav_element);\n",
       "\n",
       "    // Define a callback function for later on.\n",
       "    function toolbar_event(event) {\n",
       "        return fig.toolbar_button_onclick(event['data']);\n",
       "    }\n",
       "    function toolbar_mouse_event(event) {\n",
       "        return fig.toolbar_button_onmouseover(event['data']);\n",
       "    }\n",
       "\n",
       "    for(var toolbar_ind in mpl.toolbar_items){\n",
       "        var name = mpl.toolbar_items[toolbar_ind][0];\n",
       "        var tooltip = mpl.toolbar_items[toolbar_ind][1];\n",
       "        var image = mpl.toolbar_items[toolbar_ind][2];\n",
       "        var method_name = mpl.toolbar_items[toolbar_ind][3];\n",
       "\n",
       "        if (!name) { continue; };\n",
       "\n",
       "        var button = $('<button class=\"btn btn-default\" href=\"#\" title=\"' + name + '\"><i class=\"fa ' + image + ' fa-lg\"></i></button>');\n",
       "        button.click(method_name, toolbar_event);\n",
       "        button.mouseover(tooltip, toolbar_mouse_event);\n",
       "        nav_element.append(button);\n",
       "    }\n",
       "\n",
       "    // Add the status bar.\n",
       "    var status_bar = $('<span class=\"mpl-message\" style=\"text-align:right; float: right;\"/>');\n",
       "    nav_element.append(status_bar);\n",
       "    this.message = status_bar[0];\n",
       "\n",
       "    // Add the close button to the window.\n",
       "    var buttongrp = $('<div class=\"btn-group inline pull-right\"></div>');\n",
       "    var button = $('<button class=\"btn btn-mini btn-primary\" href=\"#\" title=\"Stop Interaction\"><i class=\"fa fa-power-off icon-remove icon-large\"></i></button>');\n",
       "    button.click(function (evt) { fig.handle_close(fig, {}); } );\n",
       "    button.mouseover('Stop Interaction', toolbar_mouse_event);\n",
       "    buttongrp.append(button);\n",
       "    var titlebar = this.root.find($('.ui-dialog-titlebar'));\n",
       "    titlebar.prepend(buttongrp);\n",
       "}\n",
       "\n",
       "mpl.figure.prototype._root_extra_style = function(el){\n",
       "    var fig = this\n",
       "    el.on(\"remove\", function(){\n",
       "\tfig.close_ws(fig, {});\n",
       "    });\n",
       "}\n",
       "\n",
       "mpl.figure.prototype._canvas_extra_style = function(el){\n",
       "    // this is important to make the div 'focusable\n",
       "    el.attr('tabindex', 0)\n",
       "    // reach out to IPython and tell the keyboard manager to turn it's self\n",
       "    // off when our div gets focus\n",
       "\n",
       "    // location in version 3\n",
       "    if (IPython.notebook.keyboard_manager) {\n",
       "        IPython.notebook.keyboard_manager.register_events(el);\n",
       "    }\n",
       "    else {\n",
       "        // location in version 2\n",
       "        IPython.keyboard_manager.register_events(el);\n",
       "    }\n",
       "\n",
       "}\n",
       "\n",
       "mpl.figure.prototype._key_event_extra = function(event, name) {\n",
       "    var manager = IPython.notebook.keyboard_manager;\n",
       "    if (!manager)\n",
       "        manager = IPython.keyboard_manager;\n",
       "\n",
       "    // Check for shift+enter\n",
       "    if (event.shiftKey && event.which == 13) {\n",
       "        this.canvas_div.blur();\n",
       "        // select the cell after this one\n",
       "        var index = IPython.notebook.find_cell_index(this.cell_info[0]);\n",
       "        IPython.notebook.select(index + 1);\n",
       "    }\n",
       "}\n",
       "\n",
       "mpl.figure.prototype.handle_save = function(fig, msg) {\n",
       "    fig.ondownload(fig, null);\n",
       "}\n",
       "\n",
       "\n",
       "mpl.find_output_cell = function(html_output) {\n",
       "    // Return the cell and output element which can be found *uniquely* in the notebook.\n",
       "    // Note - this is a bit hacky, but it is done because the \"notebook_saving.Notebook\"\n",
       "    // IPython event is triggered only after the cells have been serialised, which for\n",
       "    // our purposes (turning an active figure into a static one), is too late.\n",
       "    var cells = IPython.notebook.get_cells();\n",
       "    var ncells = cells.length;\n",
       "    for (var i=0; i<ncells; i++) {\n",
       "        var cell = cells[i];\n",
       "        if (cell.cell_type === 'code'){\n",
       "            for (var j=0; j<cell.output_area.outputs.length; j++) {\n",
       "                var data = cell.output_area.outputs[j];\n",
       "                if (data.data) {\n",
       "                    // IPython >= 3 moved mimebundle to data attribute of output\n",
       "                    data = data.data;\n",
       "                }\n",
       "                if (data['text/html'] == html_output) {\n",
       "                    return [cell, data, j];\n",
       "                }\n",
       "            }\n",
       "        }\n",
       "    }\n",
       "}\n",
       "\n",
       "// Register the function which deals with the matplotlib target/channel.\n",
       "// The kernel may be null if the page has been refreshed.\n",
       "if (IPython.notebook.kernel != null) {\n",
       "    IPython.notebook.kernel.comm_manager.register_target('matplotlib', mpl.mpl_figure_comm);\n",
       "}\n"
      ],
      "text/plain": [
       "<IPython.core.display.Javascript object>"
      ]
     },
     "metadata": {},
     "output_type": "display_data"
    },
    {
     "data": {
      "text/html": [
       "<img src=\"data:image/png;base64,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\">"
      ],
      "text/plain": [
       "<IPython.core.display.HTML object>"
      ]
     },
     "metadata": {},
     "output_type": "display_data"
    },
    {
     "name": "stdout",
     "output_type": "stream",
     "text": [
      "(2001, 'AM_OBJECTID100')\n"
     ]
    },
    {
     "name": "stderr",
     "output_type": "stream",
     "text": [
      "> charistools.hypsometry : read hypsometry data from AM_OBJECTID100/AM_OBJECTID100.2001.0100m.modicev04_3strike.snow_on_land_melt_by_elev.best_Vakhsh_model.txt\n",
      "> charistools.hypsometry : 7 comments.\n",
      "> charistools.hypsometry : 365 dates.\n",
      "> charistools.hypsometry : 54 elevations.\n",
      "> charistools.hypsometry : initialized new hypsometry object\n",
      "> charistools.hypsometry : read hypsometry data from AM_OBJECTID100/AM_OBJECTID100.2001.0100m.modicev04_3strike.GRSIZE_SCAG.fromFile.snow_on_ice_melt_by_elev.best_Vakhsh_model.txt\n",
      "> charistools.hypsometry : 7 comments.\n",
      "> charistools.hypsometry : 365 dates.\n",
      "> charistools.hypsometry : 54 elevations.\n",
      "> charistools.hypsometry : initialized new hypsometry object\n",
      "> charistools.hypsometry : read hypsometry data from AM_OBJECTID100/AM_OBJECTID100.2001.0100m.modicev04_3strike.GRSIZE_SCAG.fromFile.exposed_glacier_ice_melt_by_elev.best_Vakhsh_model.txt\n",
      "> charistools.hypsometry : 7 comments.\n",
      "> charistools.hypsometry : 365 dates.\n",
      "> charistools.hypsometry : 54 elevations.\n",
      "> charistools.hypsometry : initialized new hypsometry object\n"
     ]
    },
    {
     "name": "stdout",
     "output_type": "stream",
     "text": [
      "(2001, 'AM_OBJECTID62')\n"
     ]
    },
    {
     "name": "stderr",
     "output_type": "stream",
     "text": [
      "> charistools.hypsometry : read hypsometry data from AM_OBJECTID62/AM_OBJECTID62.2001.0100m.modicev04_3strike.snow_on_land_melt_by_elev.best_Vakhsh_model.txt\n",
      "> charistools.hypsometry : 7 comments.\n",
      "> charistools.hypsometry : 365 dates.\n",
      "> charistools.hypsometry : 17 elevations.\n",
      "> charistools.hypsometry : initialized new hypsometry object\n",
      "> charistools.hypsometry : read hypsometry data from AM_OBJECTID62/AM_OBJECTID62.2001.0100m.modicev04_3strike.GRSIZE_SCAG.fromFile.snow_on_ice_melt_by_elev.best_Vakhsh_model.txt\n",
      "> charistools.hypsometry : 7 comments.\n",
      "> charistools.hypsometry : 0 dates.\n",
      "> charistools.hypsometry : 0 elevations.\n",
      "> charistools.hypsometry : initialized new hypsometry object\n",
      "> charistools.hypsometry : read hypsometry data from AM_OBJECTID62/AM_OBJECTID62.2001.0100m.modicev04_3strike.GRSIZE_SCAG.fromFile.exposed_glacier_ice_melt_by_elev.best_Vakhsh_model.txt\n",
      "> charistools.hypsometry : 7 comments.\n",
      "> charistools.hypsometry : 0 dates.\n",
      "> charistools.hypsometry : 0 elevations.\n",
      "> charistools.hypsometry : initialized new hypsometry object\n"
     ]
    },
    {
     "name": "stdout",
     "output_type": "stream",
     "text": [
      "(2001, 'AM_OBJECTID64')\n"
     ]
    },
    {
     "name": "stderr",
     "output_type": "stream",
     "text": [
      "> charistools.hypsometry : read hypsometry data from AM_OBJECTID64/AM_OBJECTID64.2001.0100m.modicev04_3strike.snow_on_land_melt_by_elev.best_Vakhsh_model.txt\n",
      "> charistools.hypsometry : 7 comments.\n",
      "> charistools.hypsometry : 365 dates.\n",
      "> charistools.hypsometry : 2 elevations.\n",
      "> charistools.hypsometry : initialized new hypsometry object\n",
      "> charistools.hypsometry : read hypsometry data from AM_OBJECTID64/AM_OBJECTID64.2001.0100m.modicev04_3strike.GRSIZE_SCAG.fromFile.snow_on_ice_melt_by_elev.best_Vakhsh_model.txt\n",
      "> charistools.hypsometry : 7 comments.\n",
      "> charistools.hypsometry : 0 dates.\n",
      "> charistools.hypsometry : 0 elevations.\n",
      "> charistools.hypsometry : initialized new hypsometry object\n",
      "> charistools.hypsometry : read hypsometry data from AM_OBJECTID64/AM_OBJECTID64.2001.0100m.modicev04_3strike.GRSIZE_SCAG.fromFile.exposed_glacier_ice_melt_by_elev.best_Vakhsh_model.txt\n",
      "> charistools.hypsometry : 7 comments.\n",
      "> charistools.hypsometry : 0 dates.\n",
      "> charistools.hypsometry : 0 elevations.\n",
      "> charistools.hypsometry : initialized new hypsometry object\n"
     ]
    },
    {
     "name": "stdout",
     "output_type": "stream",
     "text": [
      "(2001, 'AM_OBJECTID65')\n"
     ]
    },
    {
     "name": "stderr",
     "output_type": "stream",
     "text": [
      "> charistools.hypsometry : read hypsometry data from AM_OBJECTID65/AM_OBJECTID65.2001.0100m.modicev04_3strike.snow_on_land_melt_by_elev.best_Vakhsh_model.txt\n",
      "> charistools.hypsometry : 7 comments.\n",
      "> charistools.hypsometry : 365 dates.\n",
      "> charistools.hypsometry : 28 elevations.\n",
      "> charistools.hypsometry : initialized new hypsometry object\n",
      "> charistools.hypsometry : read hypsometry data from AM_OBJECTID65/AM_OBJECTID65.2001.0100m.modicev04_3strike.GRSIZE_SCAG.fromFile.snow_on_ice_melt_by_elev.best_Vakhsh_model.txt\n",
      "> charistools.hypsometry : 7 comments.\n",
      "> charistools.hypsometry : 0 dates.\n",
      "> charistools.hypsometry : 0 elevations.\n",
      "> charistools.hypsometry : initialized new hypsometry object\n",
      "> charistools.hypsometry : read hypsometry data from AM_OBJECTID65/AM_OBJECTID65.2001.0100m.modicev04_3strike.GRSIZE_SCAG.fromFile.exposed_glacier_ice_melt_by_elev.best_Vakhsh_model.txt\n",
      "> charistools.hypsometry : 7 comments.\n",
      "> charistools.hypsometry : 0 dates.\n",
      "> charistools.hypsometry : 0 elevations.\n",
      "> charistools.hypsometry : initialized new hypsometry object\n"
     ]
    },
    {
     "name": "stdout",
     "output_type": "stream",
     "text": [
      "(2001, 'AM_OBJECTID66')\n"
     ]
    },
    {
     "name": "stderr",
     "output_type": "stream",
     "text": [
      "> charistools.hypsometry : read hypsometry data from AM_OBJECTID66/AM_OBJECTID66.2001.0100m.modicev04_3strike.snow_on_land_melt_by_elev.best_Vakhsh_model.txt\n",
      "> charistools.hypsometry : 7 comments.\n",
      "> charistools.hypsometry : 365 dates.\n",
      "> charistools.hypsometry : 49 elevations.\n",
      "> charistools.hypsometry : initialized new hypsometry object\n",
      "> charistools.hypsometry : read hypsometry data from AM_OBJECTID66/AM_OBJECTID66.2001.0100m.modicev04_3strike.GRSIZE_SCAG.fromFile.snow_on_ice_melt_by_elev.best_Vakhsh_model.txt\n",
      "> charistools.hypsometry : 7 comments.\n",
      "> charistools.hypsometry : 365 dates.\n",
      "> charistools.hypsometry : 49 elevations.\n",
      "> charistools.hypsometry : initialized new hypsometry object\n",
      "> charistools.hypsometry : read hypsometry data from AM_OBJECTID66/AM_OBJECTID66.2001.0100m.modicev04_3strike.GRSIZE_SCAG.fromFile.exposed_glacier_ice_melt_by_elev.best_Vakhsh_model.txt\n",
      "> charistools.hypsometry : 7 comments.\n",
      "> charistools.hypsometry : 365 dates.\n",
      "> charistools.hypsometry : 49 elevations.\n",
      "> charistools.hypsometry : initialized new hypsometry object\n"
     ]
    },
    {
     "name": "stdout",
     "output_type": "stream",
     "text": [
      "(2001, 'AM_OBJECTID68')\n"
     ]
    },
    {
     "name": "stderr",
     "output_type": "stream",
     "text": [
      "> charistools.hypsometry : read hypsometry data from AM_OBJECTID68/AM_OBJECTID68.2001.0100m.modicev04_3strike.snow_on_land_melt_by_elev.best_Vakhsh_model.txt\n",
      "> charistools.hypsometry : 7 comments.\n",
      "> charistools.hypsometry : 365 dates.\n",
      "> charistools.hypsometry : 20 elevations.\n",
      "> charistools.hypsometry : initialized new hypsometry object\n",
      "> charistools.hypsometry : read hypsometry data from AM_OBJECTID68/AM_OBJECTID68.2001.0100m.modicev04_3strike.GRSIZE_SCAG.fromFile.snow_on_ice_melt_by_elev.best_Vakhsh_model.txt\n",
      "> charistools.hypsometry : 7 comments.\n",
      "> charistools.hypsometry : 0 dates.\n",
      "> charistools.hypsometry : 0 elevations.\n",
      "> charistools.hypsometry : initialized new hypsometry object\n",
      "> charistools.hypsometry : read hypsometry data from AM_OBJECTID68/AM_OBJECTID68.2001.0100m.modicev04_3strike.GRSIZE_SCAG.fromFile.exposed_glacier_ice_melt_by_elev.best_Vakhsh_model.txt\n",
      "> charistools.hypsometry : 7 comments.\n",
      "> charistools.hypsometry : 0 dates.\n",
      "> charistools.hypsometry : 0 elevations.\n",
      "> charistools.hypsometry : initialized new hypsometry object\n"
     ]
    },
    {
     "name": "stdout",
     "output_type": "stream",
     "text": [
      "(2001, 'AM_OBJECTID69')\n"
     ]
    },
    {
     "name": "stderr",
     "output_type": "stream",
     "text": [
      "> charistools.hypsometry : read hypsometry data from AM_OBJECTID69/AM_OBJECTID69.2001.0100m.modicev04_3strike.snow_on_land_melt_by_elev.best_Vakhsh_model.txt\n",
      "> charistools.hypsometry : 7 comments.\n",
      "> charistools.hypsometry : 365 dates.\n",
      "> charistools.hypsometry : 30 elevations.\n",
      "> charistools.hypsometry : initialized new hypsometry object\n",
      "> charistools.hypsometry : read hypsometry data from AM_OBJECTID69/AM_OBJECTID69.2001.0100m.modicev04_3strike.GRSIZE_SCAG.fromFile.snow_on_ice_melt_by_elev.best_Vakhsh_model.txt\n",
      "> charistools.hypsometry : 7 comments.\n",
      "> charistools.hypsometry : 0 dates.\n",
      "> charistools.hypsometry : 0 elevations.\n",
      "> charistools.hypsometry : initialized new hypsometry object\n",
      "> charistools.hypsometry : read hypsometry data from AM_OBJECTID69/AM_OBJECTID69.2001.0100m.modicev04_3strike.GRSIZE_SCAG.fromFile.exposed_glacier_ice_melt_by_elev.best_Vakhsh_model.txt\n",
      "> charistools.hypsometry : 7 comments.\n",
      "> charistools.hypsometry : 0 dates.\n",
      "> charistools.hypsometry : 0 elevations.\n",
      "> charistools.hypsometry : initialized new hypsometry object\n"
     ]
    },
    {
     "name": "stdout",
     "output_type": "stream",
     "text": [
      "(2001, 'AM_OBJECTID72')\n"
     ]
    },
    {
     "name": "stderr",
     "output_type": "stream",
     "text": [
      "> charistools.hypsometry : read hypsometry data from AM_OBJECTID72/AM_OBJECTID72.2001.0100m.modicev04_3strike.snow_on_land_melt_by_elev.best_Vakhsh_model.txt\n",
      "> charistools.hypsometry : 7 comments.\n",
      "> charistools.hypsometry : 365 dates.\n",
      "> charistools.hypsometry : 42 elevations.\n",
      "> charistools.hypsometry : initialized new hypsometry object\n",
      "> charistools.hypsometry : read hypsometry data from AM_OBJECTID72/AM_OBJECTID72.2001.0100m.modicev04_3strike.GRSIZE_SCAG.fromFile.snow_on_ice_melt_by_elev.best_Vakhsh_model.txt\n",
      "> charistools.hypsometry : 7 comments.\n",
      "> charistools.hypsometry : 365 dates.\n",
      "> charistools.hypsometry : 42 elevations.\n",
      "> charistools.hypsometry : initialized new hypsometry object\n",
      "> charistools.hypsometry : read hypsometry data from AM_OBJECTID72/AM_OBJECTID72.2001.0100m.modicev04_3strike.GRSIZE_SCAG.fromFile.exposed_glacier_ice_melt_by_elev.best_Vakhsh_model.txt\n",
      "> charistools.hypsometry : 7 comments.\n",
      "> charistools.hypsometry : 365 dates.\n",
      "> charistools.hypsometry : 42 elevations.\n",
      "> charistools.hypsometry : initialized new hypsometry object\n"
     ]
    },
    {
     "name": "stdout",
     "output_type": "stream",
     "text": [
      "(2001, 'AM_OBJECTID77')\n"
     ]
    },
    {
     "name": "stderr",
     "output_type": "stream",
     "text": [
      "> charistools.hypsometry : read hypsometry data from AM_OBJECTID77/AM_OBJECTID77.2001.0100m.modicev04_3strike.snow_on_land_melt_by_elev.best_Vakhsh_model.txt\n",
      "> charistools.hypsometry : 7 comments.\n",
      "> charistools.hypsometry : 365 dates.\n",
      "> charistools.hypsometry : 53 elevations.\n",
      "> charistools.hypsometry : initialized new hypsometry object\n",
      "> charistools.hypsometry : read hypsometry data from AM_OBJECTID77/AM_OBJECTID77.2001.0100m.modicev04_3strike.GRSIZE_SCAG.fromFile.snow_on_ice_melt_by_elev.best_Vakhsh_model.txt\n",
      "> charistools.hypsometry : 7 comments.\n",
      "> charistools.hypsometry : 365 dates.\n",
      "> charistools.hypsometry : 53 elevations.\n",
      "> charistools.hypsometry : initialized new hypsometry object\n",
      "> charistools.hypsometry : read hypsometry data from AM_OBJECTID77/AM_OBJECTID77.2001.0100m.modicev04_3strike.GRSIZE_SCAG.fromFile.exposed_glacier_ice_melt_by_elev.best_Vakhsh_model.txt\n",
      "> charistools.hypsometry : 7 comments.\n",
      "> charistools.hypsometry : 365 dates.\n",
      "> charistools.hypsometry : 53 elevations.\n",
      "> charistools.hypsometry : initialized new hypsometry object\n"
     ]
    },
    {
     "name": "stdout",
     "output_type": "stream",
     "text": [
      "(2001, 'AM_OBJECTID78')\n"
     ]
    },
    {
     "name": "stderr",
     "output_type": "stream",
     "text": [
      "> charistools.hypsometry : read hypsometry data from AM_OBJECTID78/AM_OBJECTID78.2001.0100m.modicev04_3strike.snow_on_land_melt_by_elev.best_Vakhsh_model.txt\n",
      "> charistools.hypsometry : 7 comments.\n",
      "> charistools.hypsometry : 365 dates.\n",
      "> charistools.hypsometry : 55 elevations.\n",
      "> charistools.hypsometry : initialized new hypsometry object\n",
      "> charistools.hypsometry : read hypsometry data from AM_OBJECTID78/AM_OBJECTID78.2001.0100m.modicev04_3strike.GRSIZE_SCAG.fromFile.snow_on_ice_melt_by_elev.best_Vakhsh_model.txt\n",
      "> charistools.hypsometry : 7 comments.\n",
      "> charistools.hypsometry : 365 dates.\n",
      "> charistools.hypsometry : 55 elevations.\n",
      "> charistools.hypsometry : initialized new hypsometry object\n",
      "> charistools.hypsometry : read hypsometry data from AM_OBJECTID78/AM_OBJECTID78.2001.0100m.modicev04_3strike.GRSIZE_SCAG.fromFile.exposed_glacier_ice_melt_by_elev.best_Vakhsh_model.txt\n",
      "> charistools.hypsometry : 7 comments.\n",
      "> charistools.hypsometry : 365 dates.\n",
      "> charistools.hypsometry : 55 elevations.\n",
      "> charistools.hypsometry : initialized new hypsometry object\n"
     ]
    },
    {
     "name": "stdout",
     "output_type": "stream",
     "text": [
      "(2001, 'AM_OBJECTID79')\n"
     ]
    },
    {
     "name": "stderr",
     "output_type": "stream",
     "text": [
      "> charistools.hypsometry : read hypsometry data from AM_OBJECTID79/AM_OBJECTID79.2001.0100m.modicev04_3strike.snow_on_land_melt_by_elev.best_Vakhsh_model.txt\n",
      "> charistools.hypsometry : 7 comments.\n",
      "> charistools.hypsometry : 365 dates.\n",
      "> charistools.hypsometry : 71 elevations.\n",
      "> charistools.hypsometry : initialized new hypsometry object\n",
      "> charistools.hypsometry : read hypsometry data from AM_OBJECTID79/AM_OBJECTID79.2001.0100m.modicev04_3strike.GRSIZE_SCAG.fromFile.snow_on_ice_melt_by_elev.best_Vakhsh_model.txt\n",
      "> charistools.hypsometry : 7 comments.\n",
      "> charistools.hypsometry : 365 dates.\n",
      "> charistools.hypsometry : 71 elevations.\n",
      "> charistools.hypsometry : initialized new hypsometry object\n",
      "> charistools.hypsometry : read hypsometry data from AM_OBJECTID79/AM_OBJECTID79.2001.0100m.modicev04_3strike.GRSIZE_SCAG.fromFile.exposed_glacier_ice_melt_by_elev.best_Vakhsh_model.txt\n",
      "> charistools.hypsometry : 7 comments.\n",
      "> charistools.hypsometry : 365 dates.\n",
      "> charistools.hypsometry : 71 elevations.\n",
      "> charistools.hypsometry : initialized new hypsometry object\n"
     ]
    },
    {
     "name": "stdout",
     "output_type": "stream",
     "text": [
      "(2001, 'AM_OBJECTID80')\n"
     ]
    },
    {
     "name": "stderr",
     "output_type": "stream",
     "text": [
      "> charistools.hypsometry : read hypsometry data from AM_OBJECTID80/AM_OBJECTID80.2001.0100m.modicev04_3strike.snow_on_land_melt_by_elev.best_Vakhsh_model.txt\n",
      "> charistools.hypsometry : 7 comments.\n",
      "> charistools.hypsometry : 365 dates.\n",
      "> charistools.hypsometry : 43 elevations.\n",
      "> charistools.hypsometry : initialized new hypsometry object\n",
      "> charistools.hypsometry : read hypsometry data from AM_OBJECTID80/AM_OBJECTID80.2001.0100m.modicev04_3strike.GRSIZE_SCAG.fromFile.snow_on_ice_melt_by_elev.best_Vakhsh_model.txt\n",
      "> charistools.hypsometry : 7 comments.\n",
      "> charistools.hypsometry : 365 dates.\n",
      "> charistools.hypsometry : 43 elevations.\n",
      "> charistools.hypsometry : initialized new hypsometry object\n",
      "> charistools.hypsometry : read hypsometry data from AM_OBJECTID80/AM_OBJECTID80.2001.0100m.modicev04_3strike.GRSIZE_SCAG.fromFile.exposed_glacier_ice_melt_by_elev.best_Vakhsh_model.txt\n",
      "> charistools.hypsometry : 7 comments.\n",
      "> charistools.hypsometry : 365 dates.\n",
      "> charistools.hypsometry : 43 elevations.\n",
      "> charistools.hypsometry : initialized new hypsometry object\n"
     ]
    },
    {
     "name": "stdout",
     "output_type": "stream",
     "text": [
      "(2001, 'AM_OBJECTID81')\n"
     ]
    },
    {
     "name": "stderr",
     "output_type": "stream",
     "text": [
      "> charistools.hypsometry : read hypsometry data from AM_OBJECTID81/AM_OBJECTID81.2001.0100m.modicev04_3strike.snow_on_land_melt_by_elev.best_Vakhsh_model.txt\n",
      "> charistools.hypsometry : 7 comments.\n",
      "> charistools.hypsometry : 365 dates.\n",
      "> charistools.hypsometry : 43 elevations.\n",
      "> charistools.hypsometry : initialized new hypsometry object\n",
      "> charistools.hypsometry : read hypsometry data from AM_OBJECTID81/AM_OBJECTID81.2001.0100m.modicev04_3strike.GRSIZE_SCAG.fromFile.snow_on_ice_melt_by_elev.best_Vakhsh_model.txt\n",
      "> charistools.hypsometry : 7 comments.\n",
      "> charistools.hypsometry : 365 dates.\n",
      "> charistools.hypsometry : 43 elevations.\n",
      "> charistools.hypsometry : initialized new hypsometry object\n",
      "> charistools.hypsometry : read hypsometry data from AM_OBJECTID81/AM_OBJECTID81.2001.0100m.modicev04_3strike.GRSIZE_SCAG.fromFile.exposed_glacier_ice_melt_by_elev.best_Vakhsh_model.txt\n",
      "> charistools.hypsometry : 7 comments.\n",
      "> charistools.hypsometry : 365 dates.\n",
      "> charistools.hypsometry : 43 elevations.\n",
      "> charistools.hypsometry : initialized new hypsometry object\n"
     ]
    },
    {
     "name": "stdout",
     "output_type": "stream",
     "text": [
      "(2001, 'AM_OBJECTID82')\n"
     ]
    },
    {
     "name": "stderr",
     "output_type": "stream",
     "text": [
      "> charistools.hypsometry : read hypsometry data from AM_OBJECTID82/AM_OBJECTID82.2001.0100m.modicev04_3strike.snow_on_land_melt_by_elev.best_Vakhsh_model.txt\n",
      "> charistools.hypsometry : 7 comments.\n",
      "> charistools.hypsometry : 365 dates.\n",
      "> charistools.hypsometry : 62 elevations.\n",
      "> charistools.hypsometry : initialized new hypsometry object\n",
      "> charistools.hypsometry : read hypsometry data from AM_OBJECTID82/AM_OBJECTID82.2001.0100m.modicev04_3strike.GRSIZE_SCAG.fromFile.snow_on_ice_melt_by_elev.best_Vakhsh_model.txt\n",
      "> charistools.hypsometry : 7 comments.\n",
      "> charistools.hypsometry : 365 dates.\n",
      "> charistools.hypsometry : 62 elevations.\n",
      "> charistools.hypsometry : initialized new hypsometry object\n",
      "> charistools.hypsometry : read hypsometry data from AM_OBJECTID82/AM_OBJECTID82.2001.0100m.modicev04_3strike.GRSIZE_SCAG.fromFile.exposed_glacier_ice_melt_by_elev.best_Vakhsh_model.txt\n",
      "> charistools.hypsometry : 7 comments.\n",
      "> charistools.hypsometry : 365 dates.\n",
      "> charistools.hypsometry : 62 elevations.\n",
      "> charistools.hypsometry : initialized new hypsometry object\n"
     ]
    },
    {
     "name": "stdout",
     "output_type": "stream",
     "text": [
      "(2001, 'AM_OBJECTID83')\n"
     ]
    },
    {
     "name": "stderr",
     "output_type": "stream",
     "text": [
      "> charistools.hypsometry : read hypsometry data from AM_OBJECTID83/AM_OBJECTID83.2001.0100m.modicev04_3strike.snow_on_land_melt_by_elev.best_Vakhsh_model.txt\n",
      "> charistools.hypsometry : 7 comments.\n",
      "> charistools.hypsometry : 365 dates.\n",
      "> charistools.hypsometry : 44 elevations.\n",
      "> charistools.hypsometry : initialized new hypsometry object\n",
      "> charistools.hypsometry : read hypsometry data from AM_OBJECTID83/AM_OBJECTID83.2001.0100m.modicev04_3strike.GRSIZE_SCAG.fromFile.snow_on_ice_melt_by_elev.best_Vakhsh_model.txt\n",
      "> charistools.hypsometry : 7 comments.\n",
      "> charistools.hypsometry : 365 dates.\n",
      "> charistools.hypsometry : 44 elevations.\n",
      "> charistools.hypsometry : initialized new hypsometry object\n",
      "> charistools.hypsometry : read hypsometry data from AM_OBJECTID83/AM_OBJECTID83.2001.0100m.modicev04_3strike.GRSIZE_SCAG.fromFile.exposed_glacier_ice_melt_by_elev.best_Vakhsh_model.txt\n",
      "> charistools.hypsometry : 7 comments.\n",
      "> charistools.hypsometry : 365 dates.\n",
      "> charistools.hypsometry : 44 elevations.\n",
      "> charistools.hypsometry : initialized new hypsometry object\n"
     ]
    },
    {
     "name": "stdout",
     "output_type": "stream",
     "text": [
      "(2001, 'AM_OBJECTID84')\n"
     ]
    },
    {
     "name": "stderr",
     "output_type": "stream",
     "text": [
      "> charistools.hypsometry : read hypsometry data from AM_OBJECTID84/AM_OBJECTID84.2001.0100m.modicev04_3strike.snow_on_land_melt_by_elev.best_Vakhsh_model.txt\n",
      "> charistools.hypsometry : 7 comments.\n",
      "> charistools.hypsometry : 365 dates.\n",
      "> charistools.hypsometry : 36 elevations.\n",
      "> charistools.hypsometry : initialized new hypsometry object\n",
      "> charistools.hypsometry : read hypsometry data from AM_OBJECTID84/AM_OBJECTID84.2001.0100m.modicev04_3strike.GRSIZE_SCAG.fromFile.snow_on_ice_melt_by_elev.best_Vakhsh_model.txt\n",
      "> charistools.hypsometry : 7 comments.\n",
      "> charistools.hypsometry : 0 dates.\n",
      "> charistools.hypsometry : 0 elevations.\n",
      "> charistools.hypsometry : initialized new hypsometry object\n",
      "> charistools.hypsometry : read hypsometry data from AM_OBJECTID84/AM_OBJECTID84.2001.0100m.modicev04_3strike.GRSIZE_SCAG.fromFile.exposed_glacier_ice_melt_by_elev.best_Vakhsh_model.txt\n",
      "> charistools.hypsometry : 7 comments.\n",
      "> charistools.hypsometry : 0 dates.\n",
      "> charistools.hypsometry : 0 elevations.\n",
      "> charistools.hypsometry : initialized new hypsometry object\n"
     ]
    },
    {
     "name": "stdout",
     "output_type": "stream",
     "text": [
      "(2001, 'AM_OBJECTID85')\n"
     ]
    },
    {
     "name": "stderr",
     "output_type": "stream",
     "text": [
      "> charistools.hypsometry : read hypsometry data from AM_OBJECTID85/AM_OBJECTID85.2001.0100m.modicev04_3strike.snow_on_land_melt_by_elev.best_Vakhsh_model.txt\n",
      "> charistools.hypsometry : 7 comments.\n",
      "> charistools.hypsometry : 365 dates.\n",
      "> charistools.hypsometry : 50 elevations.\n",
      "> charistools.hypsometry : initialized new hypsometry object\n",
      "> charistools.hypsometry : read hypsometry data from AM_OBJECTID85/AM_OBJECTID85.2001.0100m.modicev04_3strike.GRSIZE_SCAG.fromFile.snow_on_ice_melt_by_elev.best_Vakhsh_model.txt\n",
      "> charistools.hypsometry : 7 comments.\n",
      "> charistools.hypsometry : 365 dates.\n",
      "> charistools.hypsometry : 50 elevations.\n",
      "> charistools.hypsometry : initialized new hypsometry object\n",
      "> charistools.hypsometry : read hypsometry data from AM_OBJECTID85/AM_OBJECTID85.2001.0100m.modicev04_3strike.GRSIZE_SCAG.fromFile.exposed_glacier_ice_melt_by_elev.best_Vakhsh_model.txt\n",
      "> charistools.hypsometry : 7 comments.\n",
      "> charistools.hypsometry : 365 dates.\n",
      "> charistools.hypsometry : 50 elevations.\n",
      "> charistools.hypsometry : initialized new hypsometry object\n"
     ]
    },
    {
     "name": "stdout",
     "output_type": "stream",
     "text": [
      "(2001, 'AM_OBJECTID86')\n"
     ]
    },
    {
     "name": "stderr",
     "output_type": "stream",
     "text": [
      "> charistools.hypsometry : read hypsometry data from AM_OBJECTID86/AM_OBJECTID86.2001.0100m.modicev04_3strike.snow_on_land_melt_by_elev.best_Vakhsh_model.txt\n",
      "> charistools.hypsometry : 7 comments.\n",
      "> charistools.hypsometry : 365 dates.\n",
      "> charistools.hypsometry : 36 elevations.\n",
      "> charistools.hypsometry : initialized new hypsometry object\n",
      "> charistools.hypsometry : read hypsometry data from AM_OBJECTID86/AM_OBJECTID86.2001.0100m.modicev04_3strike.GRSIZE_SCAG.fromFile.snow_on_ice_melt_by_elev.best_Vakhsh_model.txt\n",
      "> charistools.hypsometry : 7 comments.\n",
      "> charistools.hypsometry : 365 dates.\n",
      "> charistools.hypsometry : 36 elevations.\n",
      "> charistools.hypsometry : initialized new hypsometry object\n",
      "> charistools.hypsometry : read hypsometry data from AM_OBJECTID86/AM_OBJECTID86.2001.0100m.modicev04_3strike.GRSIZE_SCAG.fromFile.exposed_glacier_ice_melt_by_elev.best_Vakhsh_model.txt\n",
      "> charistools.hypsometry : 7 comments.\n",
      "> charistools.hypsometry : 365 dates.\n",
      "> charistools.hypsometry : 36 elevations.\n",
      "> charistools.hypsometry : initialized new hypsometry object\n"
     ]
    },
    {
     "name": "stdout",
     "output_type": "stream",
     "text": [
      "(2001, 'AM_OBJECTID88')\n"
     ]
    },
    {
     "name": "stderr",
     "output_type": "stream",
     "text": [
      "> charistools.hypsometry : read hypsometry data from AM_OBJECTID88/AM_OBJECTID88.2001.0100m.modicev04_3strike.snow_on_land_melt_by_elev.best_Vakhsh_model.txt\n",
      "> charistools.hypsometry : 7 comments.\n",
      "> charistools.hypsometry : 365 dates.\n",
      "> charistools.hypsometry : 39 elevations.\n",
      "> charistools.hypsometry : initialized new hypsometry object\n",
      "> charistools.hypsometry : read hypsometry data from AM_OBJECTID88/AM_OBJECTID88.2001.0100m.modicev04_3strike.GRSIZE_SCAG.fromFile.snow_on_ice_melt_by_elev.best_Vakhsh_model.txt\n",
      "> charistools.hypsometry : 7 comments.\n",
      "> charistools.hypsometry : 0 dates.\n",
      "> charistools.hypsometry : 0 elevations.\n",
      "> charistools.hypsometry : initialized new hypsometry object\n",
      "> charistools.hypsometry : read hypsometry data from AM_OBJECTID88/AM_OBJECTID88.2001.0100m.modicev04_3strike.GRSIZE_SCAG.fromFile.exposed_glacier_ice_melt_by_elev.best_Vakhsh_model.txt\n",
      "> charistools.hypsometry : 7 comments.\n",
      "> charistools.hypsometry : 0 dates.\n",
      "> charistools.hypsometry : 0 elevations.\n",
      "> charistools.hypsometry : initialized new hypsometry object\n"
     ]
    },
    {
     "name": "stdout",
     "output_type": "stream",
     "text": [
      "(2001, 'AM_OBJECTID89')\n"
     ]
    },
    {
     "name": "stderr",
     "output_type": "stream",
     "text": [
      "> charistools.hypsometry : read hypsometry data from AM_OBJECTID89/AM_OBJECTID89.2001.0100m.modicev04_3strike.snow_on_land_melt_by_elev.best_Vakhsh_model.txt\n",
      "> charistools.hypsometry : 7 comments.\n",
      "> charistools.hypsometry : 365 dates.\n",
      "> charistools.hypsometry : 34 elevations.\n",
      "> charistools.hypsometry : initialized new hypsometry object\n",
      "> charistools.hypsometry : read hypsometry data from AM_OBJECTID89/AM_OBJECTID89.2001.0100m.modicev04_3strike.GRSIZE_SCAG.fromFile.snow_on_ice_melt_by_elev.best_Vakhsh_model.txt\n",
      "> charistools.hypsometry : 7 comments.\n",
      "> charistools.hypsometry : 365 dates.\n",
      "> charistools.hypsometry : 34 elevations.\n",
      "> charistools.hypsometry : initialized new hypsometry object\n",
      "> charistools.hypsometry : read hypsometry data from AM_OBJECTID89/AM_OBJECTID89.2001.0100m.modicev04_3strike.GRSIZE_SCAG.fromFile.exposed_glacier_ice_melt_by_elev.best_Vakhsh_model.txt\n",
      "> charistools.hypsometry : 7 comments.\n",
      "> charistools.hypsometry : 365 dates.\n",
      "> charistools.hypsometry : 34 elevations.\n",
      "> charistools.hypsometry : initialized new hypsometry object\n"
     ]
    },
    {
     "name": "stdout",
     "output_type": "stream",
     "text": [
      "(2001, 'AM_OBJECTID90')\n"
     ]
    },
    {
     "name": "stderr",
     "output_type": "stream",
     "text": [
      "> charistools.hypsometry : read hypsometry data from AM_OBJECTID90/AM_OBJECTID90.2001.0100m.modicev04_3strike.snow_on_land_melt_by_elev.best_Vakhsh_model.txt\n",
      "> charistools.hypsometry : 7 comments.\n",
      "> charistools.hypsometry : 365 dates.\n",
      "> charistools.hypsometry : 36 elevations.\n",
      "> charistools.hypsometry : initialized new hypsometry object\n",
      "> charistools.hypsometry : read hypsometry data from AM_OBJECTID90/AM_OBJECTID90.2001.0100m.modicev04_3strike.GRSIZE_SCAG.fromFile.snow_on_ice_melt_by_elev.best_Vakhsh_model.txt\n",
      "> charistools.hypsometry : 7 comments.\n",
      "> charistools.hypsometry : 365 dates.\n",
      "> charistools.hypsometry : 36 elevations.\n",
      "> charistools.hypsometry : initialized new hypsometry object\n",
      "> charistools.hypsometry : read hypsometry data from AM_OBJECTID90/AM_OBJECTID90.2001.0100m.modicev04_3strike.GRSIZE_SCAG.fromFile.exposed_glacier_ice_melt_by_elev.best_Vakhsh_model.txt\n",
      "> charistools.hypsometry : 7 comments.\n",
      "> charistools.hypsometry : 365 dates.\n",
      "> charistools.hypsometry : 36 elevations.\n",
      "> charistools.hypsometry : initialized new hypsometry object\n"
     ]
    },
    {
     "name": "stdout",
     "output_type": "stream",
     "text": [
      "(2001, 'AM_OBJECTID91')\n"
     ]
    },
    {
     "name": "stderr",
     "output_type": "stream",
     "text": [
      "> charistools.hypsometry : read hypsometry data from AM_OBJECTID91/AM_OBJECTID91.2001.0100m.modicev04_3strike.snow_on_land_melt_by_elev.best_Vakhsh_model.txt\n",
      "> charistools.hypsometry : 7 comments.\n",
      "> charistools.hypsometry : 365 dates.\n",
      "> charistools.hypsometry : 23 elevations.\n",
      "> charistools.hypsometry : initialized new hypsometry object\n",
      "> charistools.hypsometry : read hypsometry data from AM_OBJECTID91/AM_OBJECTID91.2001.0100m.modicev04_3strike.GRSIZE_SCAG.fromFile.snow_on_ice_melt_by_elev.best_Vakhsh_model.txt\n",
      "> charistools.hypsometry : 7 comments.\n",
      "> charistools.hypsometry : 0 dates.\n",
      "> charistools.hypsometry : 0 elevations.\n",
      "> charistools.hypsometry : initialized new hypsometry object\n",
      "> charistools.hypsometry : read hypsometry data from AM_OBJECTID91/AM_OBJECTID91.2001.0100m.modicev04_3strike.GRSIZE_SCAG.fromFile.exposed_glacier_ice_melt_by_elev.best_Vakhsh_model.txt\n",
      "> charistools.hypsometry : 7 comments.\n",
      "> charistools.hypsometry : 0 dates.\n",
      "> charistools.hypsometry : 0 elevations.\n",
      "> charistools.hypsometry : initialized new hypsometry object\n"
     ]
    },
    {
     "name": "stdout",
     "output_type": "stream",
     "text": [
      "(2001, 'AM_OBJECTID93')\n"
     ]
    },
    {
     "name": "stderr",
     "output_type": "stream",
     "text": [
      "> charistools.hypsometry : read hypsometry data from AM_OBJECTID93/AM_OBJECTID93.2001.0100m.modicev04_3strike.snow_on_land_melt_by_elev.best_Vakhsh_model.txt\n",
      "> charistools.hypsometry : 7 comments.\n",
      "> charistools.hypsometry : 365 dates.\n",
      "> charistools.hypsometry : 4 elevations.\n",
      "> charistools.hypsometry : initialized new hypsometry object\n",
      "> charistools.hypsometry : read hypsometry data from AM_OBJECTID93/AM_OBJECTID93.2001.0100m.modicev04_3strike.GRSIZE_SCAG.fromFile.snow_on_ice_melt_by_elev.best_Vakhsh_model.txt\n",
      "> charistools.hypsometry : 7 comments.\n",
      "> charistools.hypsometry : 0 dates.\n",
      "> charistools.hypsometry : 0 elevations.\n",
      "> charistools.hypsometry : initialized new hypsometry object\n",
      "> charistools.hypsometry : read hypsometry data from AM_OBJECTID93/AM_OBJECTID93.2001.0100m.modicev04_3strike.GRSIZE_SCAG.fromFile.exposed_glacier_ice_melt_by_elev.best_Vakhsh_model.txt\n",
      "> charistools.hypsometry : 7 comments.\n",
      "> charistools.hypsometry : 0 dates.\n",
      "> charistools.hypsometry : 0 elevations.\n",
      "> charistools.hypsometry : initialized new hypsometry object\n"
     ]
    },
    {
     "name": "stdout",
     "output_type": "stream",
     "text": [
      "(2001, 'AM_OBJECTID94')\n"
     ]
    },
    {
     "name": "stderr",
     "output_type": "stream",
     "text": [
      "> charistools.hypsometry : read hypsometry data from AM_OBJECTID94/AM_OBJECTID94.2001.0100m.modicev04_3strike.snow_on_land_melt_by_elev.best_Vakhsh_model.txt\n",
      "> charistools.hypsometry : 7 comments.\n",
      "> charistools.hypsometry : 365 dates.\n",
      "> charistools.hypsometry : 46 elevations.\n",
      "> charistools.hypsometry : initialized new hypsometry object\n",
      "> charistools.hypsometry : read hypsometry data from AM_OBJECTID94/AM_OBJECTID94.2001.0100m.modicev04_3strike.GRSIZE_SCAG.fromFile.snow_on_ice_melt_by_elev.best_Vakhsh_model.txt\n",
      "> charistools.hypsometry : 7 comments.\n",
      "> charistools.hypsometry : 365 dates.\n",
      "> charistools.hypsometry : 46 elevations.\n",
      "> charistools.hypsometry : initialized new hypsometry object\n",
      "> charistools.hypsometry : read hypsometry data from AM_OBJECTID94/AM_OBJECTID94.2001.0100m.modicev04_3strike.GRSIZE_SCAG.fromFile.exposed_glacier_ice_melt_by_elev.best_Vakhsh_model.txt\n",
      "> charistools.hypsometry : 7 comments.\n",
      "> charistools.hypsometry : 365 dates.\n",
      "> charistools.hypsometry : 46 elevations.\n",
      "> charistools.hypsometry : initialized new hypsometry object\n"
     ]
    },
    {
     "name": "stdout",
     "output_type": "stream",
     "text": [
      "(2001, 'AM_OBJECTID97')\n"
     ]
    },
    {
     "name": "stderr",
     "output_type": "stream",
     "text": [
      "> charistools.hypsometry : read hypsometry data from AM_OBJECTID97/AM_OBJECTID97.2001.0100m.modicev04_3strike.snow_on_land_melt_by_elev.best_Vakhsh_model.txt\n",
      "> charistools.hypsometry : 7 comments.\n",
      "> charistools.hypsometry : 365 dates.\n",
      "> charistools.hypsometry : 64 elevations.\n",
      "> charistools.hypsometry : initialized new hypsometry object\n",
      "> charistools.hypsometry : read hypsometry data from AM_OBJECTID97/AM_OBJECTID97.2001.0100m.modicev04_3strike.GRSIZE_SCAG.fromFile.snow_on_ice_melt_by_elev.best_Vakhsh_model.txt\n",
      "> charistools.hypsometry : 7 comments.\n",
      "> charistools.hypsometry : 365 dates.\n",
      "> charistools.hypsometry : 64 elevations.\n",
      "> charistools.hypsometry : initialized new hypsometry object\n",
      "> charistools.hypsometry : read hypsometry data from AM_OBJECTID97/AM_OBJECTID97.2001.0100m.modicev04_3strike.GRSIZE_SCAG.fromFile.exposed_glacier_ice_melt_by_elev.best_Vakhsh_model.txt\n",
      "> charistools.hypsometry : 7 comments.\n",
      "> charistools.hypsometry : 365 dates.\n",
      "> charistools.hypsometry : 64 elevations.\n",
      "> charistools.hypsometry : initialized new hypsometry object\n"
     ]
    },
    {
     "name": "stdout",
     "output_type": "stream",
     "text": [
      "(2001, 'AM_OBJECTID98')\n"
     ]
    },
    {
     "name": "stderr",
     "output_type": "stream",
     "text": [
      "> charistools.hypsometry : read hypsometry data from AM_OBJECTID98/AM_OBJECTID98.2001.0100m.modicev04_3strike.snow_on_land_melt_by_elev.best_Vakhsh_model.txt\n",
      "> charistools.hypsometry : 7 comments.\n",
      "> charistools.hypsometry : 365 dates.\n",
      "> charistools.hypsometry : 54 elevations.\n",
      "> charistools.hypsometry : initialized new hypsometry object\n",
      "> charistools.hypsometry : read hypsometry data from AM_OBJECTID98/AM_OBJECTID98.2001.0100m.modicev04_3strike.GRSIZE_SCAG.fromFile.snow_on_ice_melt_by_elev.best_Vakhsh_model.txt\n",
      "> charistools.hypsometry : 7 comments.\n",
      "> charistools.hypsometry : 365 dates.\n",
      "> charistools.hypsometry : 54 elevations.\n",
      "> charistools.hypsometry : initialized new hypsometry object\n",
      "> charistools.hypsometry : read hypsometry data from AM_OBJECTID98/AM_OBJECTID98.2001.0100m.modicev04_3strike.GRSIZE_SCAG.fromFile.exposed_glacier_ice_melt_by_elev.best_Vakhsh_model.txt\n",
      "> charistools.hypsometry : 7 comments.\n",
      "> charistools.hypsometry : 365 dates.\n",
      "> charistools.hypsometry : 54 elevations.\n",
      "> charistools.hypsometry : initialized new hypsometry object\n"
     ]
    },
    {
     "name": "stdout",
     "output_type": "stream",
     "text": [
      "(2001, 'AM_OBJECTID99')\n"
     ]
    },
    {
     "name": "stderr",
     "output_type": "stream",
     "text": [
      "> charistools.hypsometry : read hypsometry data from AM_OBJECTID99/AM_OBJECTID99.2001.0100m.modicev04_3strike.snow_on_land_melt_by_elev.best_Vakhsh_model.txt\n",
      "> charistools.hypsometry : 7 comments.\n",
      "> charistools.hypsometry : 365 dates.\n",
      "> charistools.hypsometry : 48 elevations.\n",
      "> charistools.hypsometry : initialized new hypsometry object\n",
      "> charistools.hypsometry : read hypsometry data from AM_OBJECTID99/AM_OBJECTID99.2001.0100m.modicev04_3strike.GRSIZE_SCAG.fromFile.snow_on_ice_melt_by_elev.best_Vakhsh_model.txt\n",
      "> charistools.hypsometry : 7 comments.\n",
      "> charistools.hypsometry : 365 dates.\n",
      "> charistools.hypsometry : 48 elevations.\n",
      "> charistools.hypsometry : initialized new hypsometry object\n",
      "> charistools.hypsometry : read hypsometry data from AM_OBJECTID99/AM_OBJECTID99.2001.0100m.modicev04_3strike.GRSIZE_SCAG.fromFile.exposed_glacier_ice_melt_by_elev.best_Vakhsh_model.txt\n",
      "> charistools.hypsometry : 7 comments.\n",
      "> charistools.hypsometry : 365 dates.\n",
      "> charistools.hypsometry : 48 elevations.\n",
      "> charistools.hypsometry : initialized new hypsometry object\n"
     ]
    },
    {
     "name": "stdout",
     "output_type": "stream",
     "text": [
      "(2002, 'AM_OBJECTID100')\n"
     ]
    },
    {
     "name": "stderr",
     "output_type": "stream",
     "text": [
      "> charistools.hypsometry : read hypsometry data from AM_OBJECTID100/AM_OBJECTID100.2002.0100m.modicev04_3strike.snow_on_land_melt_by_elev.best_Vakhsh_model.txt\n",
      "> charistools.hypsometry : 7 comments.\n",
      "> charistools.hypsometry : 365 dates.\n",
      "> charistools.hypsometry : 54 elevations.\n",
      "> charistools.hypsometry : initialized new hypsometry object\n",
      "> charistools.hypsometry : read hypsometry data from AM_OBJECTID100/AM_OBJECTID100.2002.0100m.modicev04_3strike.GRSIZE_SCAG.fromFile.snow_on_ice_melt_by_elev.best_Vakhsh_model.txt\n",
      "> charistools.hypsometry : 7 comments.\n",
      "> charistools.hypsometry : 365 dates.\n",
      "> charistools.hypsometry : 54 elevations.\n",
      "> charistools.hypsometry : initialized new hypsometry object\n",
      "> charistools.hypsometry : read hypsometry data from AM_OBJECTID100/AM_OBJECTID100.2002.0100m.modicev04_3strike.GRSIZE_SCAG.fromFile.exposed_glacier_ice_melt_by_elev.best_Vakhsh_model.txt\n",
      "> charistools.hypsometry : 7 comments.\n",
      "> charistools.hypsometry : 365 dates.\n",
      "> charistools.hypsometry : 54 elevations.\n",
      "> charistools.hypsometry : initialized new hypsometry object\n"
     ]
    },
    {
     "name": "stdout",
     "output_type": "stream",
     "text": [
      "(2002, 'AM_OBJECTID62')\n"
     ]
    },
    {
     "name": "stderr",
     "output_type": "stream",
     "text": [
      "> charistools.hypsometry : read hypsometry data from AM_OBJECTID62/AM_OBJECTID62.2002.0100m.modicev04_3strike.snow_on_land_melt_by_elev.best_Vakhsh_model.txt\n",
      "> charistools.hypsometry : 7 comments.\n",
      "> charistools.hypsometry : 365 dates.\n",
      "> charistools.hypsometry : 17 elevations.\n",
      "> charistools.hypsometry : initialized new hypsometry object\n",
      "> charistools.hypsometry : read hypsometry data from AM_OBJECTID62/AM_OBJECTID62.2002.0100m.modicev04_3strike.GRSIZE_SCAG.fromFile.snow_on_ice_melt_by_elev.best_Vakhsh_model.txt\n",
      "> charistools.hypsometry : 7 comments.\n",
      "> charistools.hypsometry : 0 dates.\n",
      "> charistools.hypsometry : 0 elevations.\n",
      "> charistools.hypsometry : initialized new hypsometry object\n",
      "> charistools.hypsometry : read hypsometry data from AM_OBJECTID62/AM_OBJECTID62.2002.0100m.modicev04_3strike.GRSIZE_SCAG.fromFile.exposed_glacier_ice_melt_by_elev.best_Vakhsh_model.txt\n",
      "> charistools.hypsometry : 7 comments.\n",
      "> charistools.hypsometry : 0 dates.\n",
      "> charistools.hypsometry : 0 elevations.\n",
      "> charistools.hypsometry : initialized new hypsometry object\n"
     ]
    },
    {
     "name": "stdout",
     "output_type": "stream",
     "text": [
      "(2002, 'AM_OBJECTID64')\n"
     ]
    },
    {
     "name": "stderr",
     "output_type": "stream",
     "text": [
      "> charistools.hypsometry : read hypsometry data from AM_OBJECTID64/AM_OBJECTID64.2002.0100m.modicev04_3strike.snow_on_land_melt_by_elev.best_Vakhsh_model.txt\n",
      "> charistools.hypsometry : 7 comments.\n",
      "> charistools.hypsometry : 365 dates.\n",
      "> charistools.hypsometry : 2 elevations.\n",
      "> charistools.hypsometry : initialized new hypsometry object\n",
      "> charistools.hypsometry : read hypsometry data from AM_OBJECTID64/AM_OBJECTID64.2002.0100m.modicev04_3strike.GRSIZE_SCAG.fromFile.snow_on_ice_melt_by_elev.best_Vakhsh_model.txt\n",
      "> charistools.hypsometry : 7 comments.\n",
      "> charistools.hypsometry : 0 dates.\n",
      "> charistools.hypsometry : 0 elevations.\n",
      "> charistools.hypsometry : initialized new hypsometry object\n",
      "> charistools.hypsometry : read hypsometry data from AM_OBJECTID64/AM_OBJECTID64.2002.0100m.modicev04_3strike.GRSIZE_SCAG.fromFile.exposed_glacier_ice_melt_by_elev.best_Vakhsh_model.txt\n",
      "> charistools.hypsometry : 7 comments.\n",
      "> charistools.hypsometry : 0 dates.\n",
      "> charistools.hypsometry : 0 elevations.\n",
      "> charistools.hypsometry : initialized new hypsometry object\n"
     ]
    },
    {
     "name": "stdout",
     "output_type": "stream",
     "text": [
      "(2002, 'AM_OBJECTID65')\n"
     ]
    },
    {
     "name": "stderr",
     "output_type": "stream",
     "text": [
      "> charistools.hypsometry : read hypsometry data from AM_OBJECTID65/AM_OBJECTID65.2002.0100m.modicev04_3strike.snow_on_land_melt_by_elev.best_Vakhsh_model.txt\n",
      "> charistools.hypsometry : 7 comments.\n",
      "> charistools.hypsometry : 365 dates.\n",
      "> charistools.hypsometry : 28 elevations.\n",
      "> charistools.hypsometry : initialized new hypsometry object\n",
      "> charistools.hypsometry : read hypsometry data from AM_OBJECTID65/AM_OBJECTID65.2002.0100m.modicev04_3strike.GRSIZE_SCAG.fromFile.snow_on_ice_melt_by_elev.best_Vakhsh_model.txt\n",
      "> charistools.hypsometry : 7 comments.\n",
      "> charistools.hypsometry : 0 dates.\n",
      "> charistools.hypsometry : 0 elevations.\n",
      "> charistools.hypsometry : initialized new hypsometry object\n",
      "> charistools.hypsometry : read hypsometry data from AM_OBJECTID65/AM_OBJECTID65.2002.0100m.modicev04_3strike.GRSIZE_SCAG.fromFile.exposed_glacier_ice_melt_by_elev.best_Vakhsh_model.txt\n",
      "> charistools.hypsometry : 7 comments.\n",
      "> charistools.hypsometry : 0 dates.\n",
      "> charistools.hypsometry : 0 elevations.\n",
      "> charistools.hypsometry : initialized new hypsometry object\n"
     ]
    },
    {
     "name": "stdout",
     "output_type": "stream",
     "text": [
      "(2002, 'AM_OBJECTID66')\n"
     ]
    },
    {
     "name": "stderr",
     "output_type": "stream",
     "text": [
      "> charistools.hypsometry : read hypsometry data from AM_OBJECTID66/AM_OBJECTID66.2002.0100m.modicev04_3strike.snow_on_land_melt_by_elev.best_Vakhsh_model.txt\n",
      "> charistools.hypsometry : 7 comments.\n",
      "> charistools.hypsometry : 365 dates.\n",
      "> charistools.hypsometry : 49 elevations.\n",
      "> charistools.hypsometry : initialized new hypsometry object\n",
      "> charistools.hypsometry : read hypsometry data from AM_OBJECTID66/AM_OBJECTID66.2002.0100m.modicev04_3strike.GRSIZE_SCAG.fromFile.snow_on_ice_melt_by_elev.best_Vakhsh_model.txt\n",
      "> charistools.hypsometry : 7 comments.\n",
      "> charistools.hypsometry : 365 dates.\n",
      "> charistools.hypsometry : 49 elevations.\n",
      "> charistools.hypsometry : initialized new hypsometry object\n",
      "> charistools.hypsometry : read hypsometry data from AM_OBJECTID66/AM_OBJECTID66.2002.0100m.modicev04_3strike.GRSIZE_SCAG.fromFile.exposed_glacier_ice_melt_by_elev.best_Vakhsh_model.txt\n",
      "> charistools.hypsometry : 7 comments.\n",
      "> charistools.hypsometry : 365 dates.\n",
      "> charistools.hypsometry : 49 elevations.\n",
      "> charistools.hypsometry : initialized new hypsometry object\n"
     ]
    },
    {
     "name": "stdout",
     "output_type": "stream",
     "text": [
      "(2002, 'AM_OBJECTID68')\n"
     ]
    },
    {
     "name": "stderr",
     "output_type": "stream",
     "text": [
      "> charistools.hypsometry : read hypsometry data from AM_OBJECTID68/AM_OBJECTID68.2002.0100m.modicev04_3strike.snow_on_land_melt_by_elev.best_Vakhsh_model.txt\n",
      "> charistools.hypsometry : 7 comments.\n",
      "> charistools.hypsometry : 365 dates.\n",
      "> charistools.hypsometry : 20 elevations.\n",
      "> charistools.hypsometry : initialized new hypsometry object\n",
      "> charistools.hypsometry : read hypsometry data from AM_OBJECTID68/AM_OBJECTID68.2002.0100m.modicev04_3strike.GRSIZE_SCAG.fromFile.snow_on_ice_melt_by_elev.best_Vakhsh_model.txt\n",
      "> charistools.hypsometry : 7 comments.\n",
      "> charistools.hypsometry : 0 dates.\n",
      "> charistools.hypsometry : 0 elevations.\n",
      "> charistools.hypsometry : initialized new hypsometry object\n",
      "> charistools.hypsometry : read hypsometry data from AM_OBJECTID68/AM_OBJECTID68.2002.0100m.modicev04_3strike.GRSIZE_SCAG.fromFile.exposed_glacier_ice_melt_by_elev.best_Vakhsh_model.txt\n",
      "> charistools.hypsometry : 7 comments.\n",
      "> charistools.hypsometry : 0 dates.\n",
      "> charistools.hypsometry : 0 elevations.\n",
      "> charistools.hypsometry : initialized new hypsometry object\n"
     ]
    },
    {
     "name": "stdout",
     "output_type": "stream",
     "text": [
      "(2002, 'AM_OBJECTID69')\n",
      "(2002, 'AM_OBJECTID72')\n"
     ]
    },
    {
     "name": "stderr",
     "output_type": "stream",
     "text": [
      "> charistools.hypsometry : read hypsometry data from AM_OBJECTID69/AM_OBJECTID69.2002.0100m.modicev04_3strike.snow_on_land_melt_by_elev.best_Vakhsh_model.txt\n",
      "> charistools.hypsometry : 7 comments.\n",
      "> charistools.hypsometry : 365 dates.\n",
      "> charistools.hypsometry : 30 elevations.\n",
      "> charistools.hypsometry : initialized new hypsometry object\n",
      "> charistools.hypsometry : read hypsometry data from AM_OBJECTID69/AM_OBJECTID69.2002.0100m.modicev04_3strike.GRSIZE_SCAG.fromFile.snow_on_ice_melt_by_elev.best_Vakhsh_model.txt\n",
      "> charistools.hypsometry : 7 comments.\n",
      "> charistools.hypsometry : 0 dates.\n",
      "> charistools.hypsometry : 0 elevations.\n",
      "> charistools.hypsometry : initialized new hypsometry object\n",
      "> charistools.hypsometry : read hypsometry data from AM_OBJECTID69/AM_OBJECTID69.2002.0100m.modicev04_3strike.GRSIZE_SCAG.fromFile.exposed_glacier_ice_melt_by_elev.best_Vakhsh_model.txt\n",
      "> charistools.hypsometry : 7 comments.\n",
      "> charistools.hypsometry : 0 dates.\n",
      "> charistools.hypsometry : 0 elevations.\n",
      "> charistools.hypsometry : initialized new hypsometry object\n",
      "> charistools.hypsometry : read hypsometry data from AM_OBJECTID72/AM_OBJECTID72.2002.0100m.modicev04_3strike.snow_on_land_melt_by_elev.best_Vakhsh_model.txt\n",
      "> charistools.hypsometry : 7 comments.\n",
      "> charistools.hypsometry : 365 dates.\n",
      "> charistools.hypsometry : 42 elevations.\n",
      "> charistools.hypsometry : initialized new hypsometry object\n",
      "> charistools.hypsometry : read hypsometry data from AM_OBJECTID72/AM_OBJECTID72.2002.0100m.modicev04_3strike.GRSIZE_SCAG.fromFile.snow_on_ice_melt_by_elev.best_Vakhsh_model.txt\n",
      "> charistools.hypsometry : 7 comments.\n",
      "> charistools.hypsometry : 365 dates.\n",
      "> charistools.hypsometry : 42 elevations.\n",
      "> charistools.hypsometry : initialized new hypsometry object\n",
      "> charistools.hypsometry : read hypsometry data from AM_OBJECTID72/AM_OBJECTID72.2002.0100m.modicev04_3strike.GRSIZE_SCAG.fromFile.exposed_glacier_ice_melt_by_elev.best_Vakhsh_model.txt\n",
      "> charistools.hypsometry : 7 comments.\n",
      "> charistools.hypsometry : 365 dates.\n",
      "> charistools.hypsometry : 42 elevations.\n",
      "> charistools.hypsometry : initialized new hypsometry object\n"
     ]
    },
    {
     "name": "stdout",
     "output_type": "stream",
     "text": [
      "(2002, 'AM_OBJECTID77')\n"
     ]
    },
    {
     "name": "stderr",
     "output_type": "stream",
     "text": [
      "> charistools.hypsometry : read hypsometry data from AM_OBJECTID77/AM_OBJECTID77.2002.0100m.modicev04_3strike.snow_on_land_melt_by_elev.best_Vakhsh_model.txt\n",
      "> charistools.hypsometry : 7 comments.\n",
      "> charistools.hypsometry : 365 dates.\n",
      "> charistools.hypsometry : 53 elevations.\n",
      "> charistools.hypsometry : initialized new hypsometry object\n",
      "> charistools.hypsometry : read hypsometry data from AM_OBJECTID77/AM_OBJECTID77.2002.0100m.modicev04_3strike.GRSIZE_SCAG.fromFile.snow_on_ice_melt_by_elev.best_Vakhsh_model.txt\n",
      "> charistools.hypsometry : 7 comments.\n",
      "> charistools.hypsometry : 365 dates.\n",
      "> charistools.hypsometry : 53 elevations.\n",
      "> charistools.hypsometry : initialized new hypsometry object\n",
      "> charistools.hypsometry : read hypsometry data from AM_OBJECTID77/AM_OBJECTID77.2002.0100m.modicev04_3strike.GRSIZE_SCAG.fromFile.exposed_glacier_ice_melt_by_elev.best_Vakhsh_model.txt\n",
      "> charistools.hypsometry : 7 comments.\n",
      "> charistools.hypsometry : 365 dates.\n",
      "> charistools.hypsometry : 53 elevations.\n",
      "> charistools.hypsometry : initialized new hypsometry object\n"
     ]
    },
    {
     "name": "stdout",
     "output_type": "stream",
     "text": [
      "(2002, 'AM_OBJECTID78')\n"
     ]
    },
    {
     "name": "stderr",
     "output_type": "stream",
     "text": [
      "> charistools.hypsometry : read hypsometry data from AM_OBJECTID78/AM_OBJECTID78.2002.0100m.modicev04_3strike.snow_on_land_melt_by_elev.best_Vakhsh_model.txt\n",
      "> charistools.hypsometry : 7 comments.\n",
      "> charistools.hypsometry : 365 dates.\n",
      "> charistools.hypsometry : 55 elevations.\n",
      "> charistools.hypsometry : initialized new hypsometry object\n",
      "> charistools.hypsometry : read hypsometry data from AM_OBJECTID78/AM_OBJECTID78.2002.0100m.modicev04_3strike.GRSIZE_SCAG.fromFile.snow_on_ice_melt_by_elev.best_Vakhsh_model.txt\n",
      "> charistools.hypsometry : 7 comments.\n",
      "> charistools.hypsometry : 365 dates.\n",
      "> charistools.hypsometry : 55 elevations.\n",
      "> charistools.hypsometry : initialized new hypsometry object\n",
      "> charistools.hypsometry : read hypsometry data from AM_OBJECTID78/AM_OBJECTID78.2002.0100m.modicev04_3strike.GRSIZE_SCAG.fromFile.exposed_glacier_ice_melt_by_elev.best_Vakhsh_model.txt\n",
      "> charistools.hypsometry : 7 comments.\n",
      "> charistools.hypsometry : 365 dates.\n",
      "> charistools.hypsometry : 55 elevations.\n",
      "> charistools.hypsometry : initialized new hypsometry object\n"
     ]
    },
    {
     "name": "stdout",
     "output_type": "stream",
     "text": [
      "(2002, 'AM_OBJECTID79')\n"
     ]
    },
    {
     "name": "stderr",
     "output_type": "stream",
     "text": [
      "> charistools.hypsometry : read hypsometry data from AM_OBJECTID79/AM_OBJECTID79.2002.0100m.modicev04_3strike.snow_on_land_melt_by_elev.best_Vakhsh_model.txt\n",
      "> charistools.hypsometry : 7 comments.\n",
      "> charistools.hypsometry : 365 dates.\n",
      "> charistools.hypsometry : 71 elevations.\n",
      "> charistools.hypsometry : initialized new hypsometry object\n",
      "> charistools.hypsometry : read hypsometry data from AM_OBJECTID79/AM_OBJECTID79.2002.0100m.modicev04_3strike.GRSIZE_SCAG.fromFile.snow_on_ice_melt_by_elev.best_Vakhsh_model.txt\n",
      "> charistools.hypsometry : 7 comments.\n",
      "> charistools.hypsometry : 365 dates.\n",
      "> charistools.hypsometry : 71 elevations.\n",
      "> charistools.hypsometry : initialized new hypsometry object\n",
      "> charistools.hypsometry : read hypsometry data from AM_OBJECTID79/AM_OBJECTID79.2002.0100m.modicev04_3strike.GRSIZE_SCAG.fromFile.exposed_glacier_ice_melt_by_elev.best_Vakhsh_model.txt\n",
      "> charistools.hypsometry : 7 comments.\n",
      "> charistools.hypsometry : 365 dates.\n",
      "> charistools.hypsometry : 71 elevations.\n",
      "> charistools.hypsometry : initialized new hypsometry object\n"
     ]
    },
    {
     "name": "stdout",
     "output_type": "stream",
     "text": [
      "(2002, 'AM_OBJECTID80')\n"
     ]
    },
    {
     "name": "stderr",
     "output_type": "stream",
     "text": [
      "> charistools.hypsometry : read hypsometry data from AM_OBJECTID80/AM_OBJECTID80.2002.0100m.modicev04_3strike.snow_on_land_melt_by_elev.best_Vakhsh_model.txt\n",
      "> charistools.hypsometry : 7 comments.\n",
      "> charistools.hypsometry : 365 dates.\n",
      "> charistools.hypsometry : 43 elevations.\n",
      "> charistools.hypsometry : initialized new hypsometry object\n",
      "> charistools.hypsometry : read hypsometry data from AM_OBJECTID80/AM_OBJECTID80.2002.0100m.modicev04_3strike.GRSIZE_SCAG.fromFile.snow_on_ice_melt_by_elev.best_Vakhsh_model.txt\n",
      "> charistools.hypsometry : 7 comments.\n",
      "> charistools.hypsometry : 365 dates.\n",
      "> charistools.hypsometry : 43 elevations.\n",
      "> charistools.hypsometry : initialized new hypsometry object\n",
      "> charistools.hypsometry : read hypsometry data from AM_OBJECTID80/AM_OBJECTID80.2002.0100m.modicev04_3strike.GRSIZE_SCAG.fromFile.exposed_glacier_ice_melt_by_elev.best_Vakhsh_model.txt\n",
      "> charistools.hypsometry : 7 comments.\n",
      "> charistools.hypsometry : 365 dates.\n",
      "> charistools.hypsometry : 43 elevations.\n",
      "> charistools.hypsometry : initialized new hypsometry object\n",
      "> charistools.hypsometry : read hypsometry data from AM_OBJECTID81/AM_OBJECTID81.2002.0100m.modicev04_3strike.snow_on_land_melt_by_elev.best_Vakhsh_model.txt\n",
      "> charistools.hypsometry : 7 comments.\n",
      "> charistools.hypsometry : 365 dates.\n",
      "> charistools.hypsometry : 43 elevations.\n",
      "> charistools.hypsometry : initialized new hypsometry object\n"
     ]
    },
    {
     "name": "stdout",
     "output_type": "stream",
     "text": [
      "(2002, 'AM_OBJECTID81')\n"
     ]
    },
    {
     "name": "stderr",
     "output_type": "stream",
     "text": [
      "> charistools.hypsometry : read hypsometry data from AM_OBJECTID81/AM_OBJECTID81.2002.0100m.modicev04_3strike.GRSIZE_SCAG.fromFile.snow_on_ice_melt_by_elev.best_Vakhsh_model.txt\n",
      "> charistools.hypsometry : 7 comments.\n",
      "> charistools.hypsometry : 365 dates.\n",
      "> charistools.hypsometry : 43 elevations.\n",
      "> charistools.hypsometry : initialized new hypsometry object\n",
      "> charistools.hypsometry : read hypsometry data from AM_OBJECTID81/AM_OBJECTID81.2002.0100m.modicev04_3strike.GRSIZE_SCAG.fromFile.exposed_glacier_ice_melt_by_elev.best_Vakhsh_model.txt\n",
      "> charistools.hypsometry : 7 comments.\n",
      "> charistools.hypsometry : 365 dates.\n",
      "> charistools.hypsometry : 43 elevations.\n",
      "> charistools.hypsometry : initialized new hypsometry object\n"
     ]
    },
    {
     "name": "stdout",
     "output_type": "stream",
     "text": [
      "(2002, 'AM_OBJECTID82')\n"
     ]
    },
    {
     "name": "stderr",
     "output_type": "stream",
     "text": [
      "> charistools.hypsometry : read hypsometry data from AM_OBJECTID82/AM_OBJECTID82.2002.0100m.modicev04_3strike.snow_on_land_melt_by_elev.best_Vakhsh_model.txt\n",
      "> charistools.hypsometry : 7 comments.\n",
      "> charistools.hypsometry : 365 dates.\n",
      "> charistools.hypsometry : 62 elevations.\n",
      "> charistools.hypsometry : initialized new hypsometry object\n",
      "> charistools.hypsometry : read hypsometry data from AM_OBJECTID82/AM_OBJECTID82.2002.0100m.modicev04_3strike.GRSIZE_SCAG.fromFile.snow_on_ice_melt_by_elev.best_Vakhsh_model.txt\n",
      "> charistools.hypsometry : 7 comments.\n",
      "> charistools.hypsometry : 365 dates.\n",
      "> charistools.hypsometry : 62 elevations.\n",
      "> charistools.hypsometry : initialized new hypsometry object\n",
      "> charistools.hypsometry : read hypsometry data from AM_OBJECTID82/AM_OBJECTID82.2002.0100m.modicev04_3strike.GRSIZE_SCAG.fromFile.exposed_glacier_ice_melt_by_elev.best_Vakhsh_model.txt\n",
      "> charistools.hypsometry : 7 comments.\n",
      "> charistools.hypsometry : 365 dates.\n",
      "> charistools.hypsometry : 62 elevations.\n",
      "> charistools.hypsometry : initialized new hypsometry object\n",
      "> charistools.hypsometry : read hypsometry data from AM_OBJECTID83/AM_OBJECTID83.2002.0100m.modicev04_3strike.snow_on_land_melt_by_elev.best_Vakhsh_model.txt\n",
      "> charistools.hypsometry : 7 comments.\n",
      "> charistools.hypsometry : 365 dates.\n",
      "> charistools.hypsometry : 44 elevations.\n",
      "> charistools.hypsometry : initialized new hypsometry object\n"
     ]
    },
    {
     "name": "stdout",
     "output_type": "stream",
     "text": [
      "(2002, 'AM_OBJECTID83')\n"
     ]
    },
    {
     "name": "stderr",
     "output_type": "stream",
     "text": [
      "> charistools.hypsometry : read hypsometry data from AM_OBJECTID83/AM_OBJECTID83.2002.0100m.modicev04_3strike.GRSIZE_SCAG.fromFile.snow_on_ice_melt_by_elev.best_Vakhsh_model.txt\n",
      "> charistools.hypsometry : 7 comments.\n",
      "> charistools.hypsometry : 365 dates.\n",
      "> charistools.hypsometry : 44 elevations.\n",
      "> charistools.hypsometry : initialized new hypsometry object\n",
      "> charistools.hypsometry : read hypsometry data from AM_OBJECTID83/AM_OBJECTID83.2002.0100m.modicev04_3strike.GRSIZE_SCAG.fromFile.exposed_glacier_ice_melt_by_elev.best_Vakhsh_model.txt\n",
      "> charistools.hypsometry : 7 comments.\n",
      "> charistools.hypsometry : 365 dates.\n",
      "> charistools.hypsometry : 44 elevations.\n",
      "> charistools.hypsometry : initialized new hypsometry object\n"
     ]
    },
    {
     "name": "stdout",
     "output_type": "stream",
     "text": [
      "(2002, 'AM_OBJECTID84')\n"
     ]
    },
    {
     "name": "stderr",
     "output_type": "stream",
     "text": [
      "> charistools.hypsometry : read hypsometry data from AM_OBJECTID84/AM_OBJECTID84.2002.0100m.modicev04_3strike.snow_on_land_melt_by_elev.best_Vakhsh_model.txt\n",
      "> charistools.hypsometry : 7 comments.\n",
      "> charistools.hypsometry : 365 dates.\n",
      "> charistools.hypsometry : 36 elevations.\n",
      "> charistools.hypsometry : initialized new hypsometry object\n",
      "> charistools.hypsometry : read hypsometry data from AM_OBJECTID84/AM_OBJECTID84.2002.0100m.modicev04_3strike.GRSIZE_SCAG.fromFile.snow_on_ice_melt_by_elev.best_Vakhsh_model.txt\n",
      "> charistools.hypsometry : 7 comments.\n",
      "> charistools.hypsometry : 0 dates.\n",
      "> charistools.hypsometry : 0 elevations.\n",
      "> charistools.hypsometry : initialized new hypsometry object\n",
      "> charistools.hypsometry : read hypsometry data from AM_OBJECTID84/AM_OBJECTID84.2002.0100m.modicev04_3strike.GRSIZE_SCAG.fromFile.exposed_glacier_ice_melt_by_elev.best_Vakhsh_model.txt\n",
      "> charistools.hypsometry : 7 comments.\n",
      "> charistools.hypsometry : 0 dates.\n",
      "> charistools.hypsometry : 0 elevations.\n",
      "> charistools.hypsometry : initialized new hypsometry object\n",
      "> charistools.hypsometry : read hypsometry data from AM_OBJECTID85/AM_OBJECTID85.2002.0100m.modicev04_3strike.snow_on_land_melt_by_elev.best_Vakhsh_model.txt\n",
      "> charistools.hypsometry : 7 comments.\n",
      "> charistools.hypsometry : 365 dates.\n",
      "> charistools.hypsometry : 50 elevations.\n",
      "> charistools.hypsometry : initialized new hypsometry object\n"
     ]
    },
    {
     "name": "stdout",
     "output_type": "stream",
     "text": [
      "(2002, 'AM_OBJECTID85')\n"
     ]
    },
    {
     "name": "stderr",
     "output_type": "stream",
     "text": [
      "> charistools.hypsometry : read hypsometry data from AM_OBJECTID85/AM_OBJECTID85.2002.0100m.modicev04_3strike.GRSIZE_SCAG.fromFile.snow_on_ice_melt_by_elev.best_Vakhsh_model.txt\n",
      "> charistools.hypsometry : 7 comments.\n",
      "> charistools.hypsometry : 365 dates.\n",
      "> charistools.hypsometry : 50 elevations.\n",
      "> charistools.hypsometry : initialized new hypsometry object\n",
      "> charistools.hypsometry : read hypsometry data from AM_OBJECTID85/AM_OBJECTID85.2002.0100m.modicev04_3strike.GRSIZE_SCAG.fromFile.exposed_glacier_ice_melt_by_elev.best_Vakhsh_model.txt\n",
      "> charistools.hypsometry : 7 comments.\n",
      "> charistools.hypsometry : 365 dates.\n",
      "> charistools.hypsometry : 50 elevations.\n",
      "> charistools.hypsometry : initialized new hypsometry object\n",
      "> charistools.hypsometry : read hypsometry data from AM_OBJECTID86/AM_OBJECTID86.2002.0100m.modicev04_3strike.snow_on_land_melt_by_elev.best_Vakhsh_model.txt\n",
      "> charistools.hypsometry : 7 comments.\n",
      "> charistools.hypsometry : 365 dates.\n",
      "> charistools.hypsometry : 36 elevations.\n",
      "> charistools.hypsometry : initialized new hypsometry object\n"
     ]
    },
    {
     "name": "stdout",
     "output_type": "stream",
     "text": [
      "(2002, 'AM_OBJECTID86')\n"
     ]
    },
    {
     "name": "stderr",
     "output_type": "stream",
     "text": [
      "> charistools.hypsometry : read hypsometry data from AM_OBJECTID86/AM_OBJECTID86.2002.0100m.modicev04_3strike.GRSIZE_SCAG.fromFile.snow_on_ice_melt_by_elev.best_Vakhsh_model.txt\n",
      "> charistools.hypsometry : 7 comments.\n",
      "> charistools.hypsometry : 365 dates.\n",
      "> charistools.hypsometry : 36 elevations.\n",
      "> charistools.hypsometry : initialized new hypsometry object\n",
      "> charistools.hypsometry : read hypsometry data from AM_OBJECTID86/AM_OBJECTID86.2002.0100m.modicev04_3strike.GRSIZE_SCAG.fromFile.exposed_glacier_ice_melt_by_elev.best_Vakhsh_model.txt\n",
      "> charistools.hypsometry : 7 comments.\n",
      "> charistools.hypsometry : 365 dates.\n",
      "> charistools.hypsometry : 36 elevations.\n",
      "> charistools.hypsometry : initialized new hypsometry object\n"
     ]
    },
    {
     "name": "stdout",
     "output_type": "stream",
     "text": [
      "(2002, 'AM_OBJECTID88')\n"
     ]
    },
    {
     "name": "stderr",
     "output_type": "stream",
     "text": [
      "> charistools.hypsometry : read hypsometry data from AM_OBJECTID88/AM_OBJECTID88.2002.0100m.modicev04_3strike.snow_on_land_melt_by_elev.best_Vakhsh_model.txt\n",
      "> charistools.hypsometry : 7 comments.\n",
      "> charistools.hypsometry : 365 dates.\n",
      "> charistools.hypsometry : 39 elevations.\n",
      "> charistools.hypsometry : initialized new hypsometry object\n",
      "> charistools.hypsometry : read hypsometry data from AM_OBJECTID88/AM_OBJECTID88.2002.0100m.modicev04_3strike.GRSIZE_SCAG.fromFile.snow_on_ice_melt_by_elev.best_Vakhsh_model.txt\n",
      "> charistools.hypsometry : 7 comments.\n",
      "> charistools.hypsometry : 0 dates.\n",
      "> charistools.hypsometry : 0 elevations.\n",
      "> charistools.hypsometry : initialized new hypsometry object\n",
      "> charistools.hypsometry : read hypsometry data from AM_OBJECTID88/AM_OBJECTID88.2002.0100m.modicev04_3strike.GRSIZE_SCAG.fromFile.exposed_glacier_ice_melt_by_elev.best_Vakhsh_model.txt\n",
      "> charistools.hypsometry : 7 comments.\n",
      "> charistools.hypsometry : 0 dates.\n",
      "> charistools.hypsometry : 0 elevations.\n",
      "> charistools.hypsometry : initialized new hypsometry object\n"
     ]
    },
    {
     "name": "stdout",
     "output_type": "stream",
     "text": [
      "(2002, 'AM_OBJECTID89')\n"
     ]
    },
    {
     "name": "stderr",
     "output_type": "stream",
     "text": [
      "> charistools.hypsometry : read hypsometry data from AM_OBJECTID89/AM_OBJECTID89.2002.0100m.modicev04_3strike.snow_on_land_melt_by_elev.best_Vakhsh_model.txt\n",
      "> charistools.hypsometry : 7 comments.\n",
      "> charistools.hypsometry : 365 dates.\n",
      "> charistools.hypsometry : 34 elevations.\n",
      "> charistools.hypsometry : initialized new hypsometry object\n",
      "> charistools.hypsometry : read hypsometry data from AM_OBJECTID89/AM_OBJECTID89.2002.0100m.modicev04_3strike.GRSIZE_SCAG.fromFile.snow_on_ice_melt_by_elev.best_Vakhsh_model.txt\n",
      "> charistools.hypsometry : 7 comments.\n",
      "> charistools.hypsometry : 365 dates.\n",
      "> charistools.hypsometry : 34 elevations.\n",
      "> charistools.hypsometry : initialized new hypsometry object\n",
      "> charistools.hypsometry : read hypsometry data from AM_OBJECTID89/AM_OBJECTID89.2002.0100m.modicev04_3strike.GRSIZE_SCAG.fromFile.exposed_glacier_ice_melt_by_elev.best_Vakhsh_model.txt\n",
      "> charistools.hypsometry : 7 comments.\n",
      "> charistools.hypsometry : 365 dates.\n",
      "> charistools.hypsometry : 34 elevations.\n",
      "> charistools.hypsometry : initialized new hypsometry object\n"
     ]
    },
    {
     "name": "stdout",
     "output_type": "stream",
     "text": [
      "(2002, 'AM_OBJECTID90')\n"
     ]
    },
    {
     "name": "stderr",
     "output_type": "stream",
     "text": [
      "> charistools.hypsometry : read hypsometry data from AM_OBJECTID90/AM_OBJECTID90.2002.0100m.modicev04_3strike.snow_on_land_melt_by_elev.best_Vakhsh_model.txt\n",
      "> charistools.hypsometry : 7 comments.\n",
      "> charistools.hypsometry : 365 dates.\n",
      "> charistools.hypsometry : 36 elevations.\n",
      "> charistools.hypsometry : initialized new hypsometry object\n",
      "> charistools.hypsometry : read hypsometry data from AM_OBJECTID90/AM_OBJECTID90.2002.0100m.modicev04_3strike.GRSIZE_SCAG.fromFile.snow_on_ice_melt_by_elev.best_Vakhsh_model.txt\n",
      "> charistools.hypsometry : 7 comments.\n",
      "> charistools.hypsometry : 365 dates.\n",
      "> charistools.hypsometry : 36 elevations.\n",
      "> charistools.hypsometry : initialized new hypsometry object\n",
      "> charistools.hypsometry : read hypsometry data from AM_OBJECTID90/AM_OBJECTID90.2002.0100m.modicev04_3strike.GRSIZE_SCAG.fromFile.exposed_glacier_ice_melt_by_elev.best_Vakhsh_model.txt\n",
      "> charistools.hypsometry : 7 comments.\n",
      "> charistools.hypsometry : 365 dates.\n",
      "> charistools.hypsometry : 36 elevations.\n",
      "> charistools.hypsometry : initialized new hypsometry object\n"
     ]
    },
    {
     "name": "stdout",
     "output_type": "stream",
     "text": [
      "(2002, 'AM_OBJECTID91')\n"
     ]
    },
    {
     "name": "stderr",
     "output_type": "stream",
     "text": [
      "> charistools.hypsometry : read hypsometry data from AM_OBJECTID91/AM_OBJECTID91.2002.0100m.modicev04_3strike.snow_on_land_melt_by_elev.best_Vakhsh_model.txt\n",
      "> charistools.hypsometry : 7 comments.\n",
      "> charistools.hypsometry : 365 dates.\n",
      "> charistools.hypsometry : 23 elevations.\n",
      "> charistools.hypsometry : initialized new hypsometry object\n",
      "> charistools.hypsometry : read hypsometry data from AM_OBJECTID91/AM_OBJECTID91.2002.0100m.modicev04_3strike.GRSIZE_SCAG.fromFile.snow_on_ice_melt_by_elev.best_Vakhsh_model.txt\n",
      "> charistools.hypsometry : 7 comments.\n",
      "> charistools.hypsometry : 0 dates.\n",
      "> charistools.hypsometry : 0 elevations.\n",
      "> charistools.hypsometry : initialized new hypsometry object\n",
      "> charistools.hypsometry : read hypsometry data from AM_OBJECTID91/AM_OBJECTID91.2002.0100m.modicev04_3strike.GRSIZE_SCAG.fromFile.exposed_glacier_ice_melt_by_elev.best_Vakhsh_model.txt\n",
      "> charistools.hypsometry : 7 comments.\n",
      "> charistools.hypsometry : 0 dates.\n",
      "> charistools.hypsometry : 0 elevations.\n",
      "> charistools.hypsometry : initialized new hypsometry object\n"
     ]
    },
    {
     "name": "stdout",
     "output_type": "stream",
     "text": [
      "(2002, 'AM_OBJECTID93')\n"
     ]
    },
    {
     "name": "stderr",
     "output_type": "stream",
     "text": [
      "> charistools.hypsometry : read hypsometry data from AM_OBJECTID93/AM_OBJECTID93.2002.0100m.modicev04_3strike.snow_on_land_melt_by_elev.best_Vakhsh_model.txt\n",
      "> charistools.hypsometry : 7 comments.\n",
      "> charistools.hypsometry : 365 dates.\n",
      "> charistools.hypsometry : 4 elevations.\n",
      "> charistools.hypsometry : initialized new hypsometry object\n",
      "> charistools.hypsometry : read hypsometry data from AM_OBJECTID93/AM_OBJECTID93.2002.0100m.modicev04_3strike.GRSIZE_SCAG.fromFile.snow_on_ice_melt_by_elev.best_Vakhsh_model.txt\n",
      "> charistools.hypsometry : 7 comments.\n",
      "> charistools.hypsometry : 0 dates.\n",
      "> charistools.hypsometry : 0 elevations.\n",
      "> charistools.hypsometry : initialized new hypsometry object\n",
      "> charistools.hypsometry : read hypsometry data from AM_OBJECTID93/AM_OBJECTID93.2002.0100m.modicev04_3strike.GRSIZE_SCAG.fromFile.exposed_glacier_ice_melt_by_elev.best_Vakhsh_model.txt\n",
      "> charistools.hypsometry : 7 comments.\n",
      "> charistools.hypsometry : 0 dates.\n",
      "> charistools.hypsometry : 0 elevations.\n",
      "> charistools.hypsometry : initialized new hypsometry object\n"
     ]
    },
    {
     "name": "stdout",
     "output_type": "stream",
     "text": [
      "(2002, 'AM_OBJECTID94')\n"
     ]
    },
    {
     "name": "stderr",
     "output_type": "stream",
     "text": [
      "> charistools.hypsometry : read hypsometry data from AM_OBJECTID94/AM_OBJECTID94.2002.0100m.modicev04_3strike.snow_on_land_melt_by_elev.best_Vakhsh_model.txt\n",
      "> charistools.hypsometry : 7 comments.\n",
      "> charistools.hypsometry : 365 dates.\n",
      "> charistools.hypsometry : 46 elevations.\n",
      "> charistools.hypsometry : initialized new hypsometry object\n",
      "> charistools.hypsometry : read hypsometry data from AM_OBJECTID94/AM_OBJECTID94.2002.0100m.modicev04_3strike.GRSIZE_SCAG.fromFile.snow_on_ice_melt_by_elev.best_Vakhsh_model.txt\n",
      "> charistools.hypsometry : 7 comments.\n",
      "> charistools.hypsometry : 365 dates.\n",
      "> charistools.hypsometry : 46 elevations.\n",
      "> charistools.hypsometry : initialized new hypsometry object\n",
      "> charistools.hypsometry : read hypsometry data from AM_OBJECTID94/AM_OBJECTID94.2002.0100m.modicev04_3strike.GRSIZE_SCAG.fromFile.exposed_glacier_ice_melt_by_elev.best_Vakhsh_model.txt\n",
      "> charistools.hypsometry : 7 comments.\n",
      "> charistools.hypsometry : 365 dates.\n",
      "> charistools.hypsometry : 46 elevations.\n",
      "> charistools.hypsometry : initialized new hypsometry object\n"
     ]
    },
    {
     "name": "stdout",
     "output_type": "stream",
     "text": [
      "(2002, 'AM_OBJECTID97')\n"
     ]
    },
    {
     "name": "stderr",
     "output_type": "stream",
     "text": [
      "> charistools.hypsometry : read hypsometry data from AM_OBJECTID97/AM_OBJECTID97.2002.0100m.modicev04_3strike.snow_on_land_melt_by_elev.best_Vakhsh_model.txt\n",
      "> charistools.hypsometry : 7 comments.\n",
      "> charistools.hypsometry : 365 dates.\n",
      "> charistools.hypsometry : 64 elevations.\n",
      "> charistools.hypsometry : initialized new hypsometry object\n",
      "> charistools.hypsometry : read hypsometry data from AM_OBJECTID97/AM_OBJECTID97.2002.0100m.modicev04_3strike.GRSIZE_SCAG.fromFile.snow_on_ice_melt_by_elev.best_Vakhsh_model.txt\n",
      "> charistools.hypsometry : 7 comments.\n",
      "> charistools.hypsometry : 365 dates.\n",
      "> charistools.hypsometry : 64 elevations.\n",
      "> charistools.hypsometry : initialized new hypsometry object\n",
      "> charistools.hypsometry : read hypsometry data from AM_OBJECTID97/AM_OBJECTID97.2002.0100m.modicev04_3strike.GRSIZE_SCAG.fromFile.exposed_glacier_ice_melt_by_elev.best_Vakhsh_model.txt\n",
      "> charistools.hypsometry : 7 comments.\n",
      "> charistools.hypsometry : 365 dates.\n",
      "> charistools.hypsometry : 64 elevations.\n",
      "> charistools.hypsometry : initialized new hypsometry object\n"
     ]
    },
    {
     "name": "stdout",
     "output_type": "stream",
     "text": [
      "(2002, 'AM_OBJECTID98')\n"
     ]
    },
    {
     "name": "stderr",
     "output_type": "stream",
     "text": [
      "> charistools.hypsometry : read hypsometry data from AM_OBJECTID98/AM_OBJECTID98.2002.0100m.modicev04_3strike.snow_on_land_melt_by_elev.best_Vakhsh_model.txt\n",
      "> charistools.hypsometry : 7 comments.\n",
      "> charistools.hypsometry : 365 dates.\n",
      "> charistools.hypsometry : 54 elevations.\n",
      "> charistools.hypsometry : initialized new hypsometry object\n",
      "> charistools.hypsometry : read hypsometry data from AM_OBJECTID98/AM_OBJECTID98.2002.0100m.modicev04_3strike.GRSIZE_SCAG.fromFile.snow_on_ice_melt_by_elev.best_Vakhsh_model.txt\n",
      "> charistools.hypsometry : 7 comments.\n",
      "> charistools.hypsometry : 365 dates.\n",
      "> charistools.hypsometry : 54 elevations.\n",
      "> charistools.hypsometry : initialized new hypsometry object\n",
      "> charistools.hypsometry : read hypsometry data from AM_OBJECTID98/AM_OBJECTID98.2002.0100m.modicev04_3strike.GRSIZE_SCAG.fromFile.exposed_glacier_ice_melt_by_elev.best_Vakhsh_model.txt\n",
      "> charistools.hypsometry : 7 comments.\n",
      "> charistools.hypsometry : 365 dates.\n",
      "> charistools.hypsometry : 54 elevations.\n",
      "> charistools.hypsometry : initialized new hypsometry object\n"
     ]
    },
    {
     "name": "stdout",
     "output_type": "stream",
     "text": [
      "(2002, 'AM_OBJECTID99')\n"
     ]
    },
    {
     "name": "stderr",
     "output_type": "stream",
     "text": [
      "> charistools.hypsometry : read hypsometry data from AM_OBJECTID99/AM_OBJECTID99.2002.0100m.modicev04_3strike.snow_on_land_melt_by_elev.best_Vakhsh_model.txt\n",
      "> charistools.hypsometry : 7 comments.\n",
      "> charistools.hypsometry : 365 dates.\n",
      "> charistools.hypsometry : 48 elevations.\n",
      "> charistools.hypsometry : initialized new hypsometry object\n",
      "> charistools.hypsometry : read hypsometry data from AM_OBJECTID99/AM_OBJECTID99.2002.0100m.modicev04_3strike.GRSIZE_SCAG.fromFile.snow_on_ice_melt_by_elev.best_Vakhsh_model.txt\n",
      "> charistools.hypsometry : 7 comments.\n",
      "> charistools.hypsometry : 365 dates.\n",
      "> charistools.hypsometry : 48 elevations.\n",
      "> charistools.hypsometry : initialized new hypsometry object\n",
      "> charistools.hypsometry : read hypsometry data from AM_OBJECTID99/AM_OBJECTID99.2002.0100m.modicev04_3strike.GRSIZE_SCAG.fromFile.exposed_glacier_ice_melt_by_elev.best_Vakhsh_model.txt\n",
      "> charistools.hypsometry : 7 comments.\n",
      "> charistools.hypsometry : 365 dates.\n",
      "> charistools.hypsometry : 48 elevations.\n",
      "> charistools.hypsometry : initialized new hypsometry object\n"
     ]
    }
   ],
   "source": [
    "pd.set_option('display.max_rows', 366)\n",
    "years = np.arange(2) + 2001\n",
    "fig, ax = plt.subplots(len(years),1, figsize=(12,3*len(years)))\n",
    "for j, year in enumerate(years):\n",
    "    # For each basin, get the 3 tri-surf melt files\n",
    "    for i, drainageID in enumerate(drainageIDs):\n",
    "        solfile = glob.glob(\"%s/%s.%d.*snow_on_land_melt_by_elev*\" % (drainageID, drainageID, year))\n",
    "        soifile = glob.glob(\"%s/%s.%d.*snow_on_ice_melt_by_elev*\" % (drainageID, drainageID, year))\n",
    "        egifile = glob.glob(\"%s/%s.%d.*exposed_glacier_ice_melt_by_elev*\" % (drainageID, drainageID, year))\n",
    "        print(year, drainageID)\n",
    "        SOLmelt = Hypsometry(filename=solfile[0], verbose=True)\n",
    "        SOImelt = Hypsometry(filename=soifile[0], verbose=True)\n",
    "        EGImelt = Hypsometry(filename=egifile[0], verbose=True)\n",
    "        \n",
    "        # If SOLmelt is non-empty, but SOImelt and SGImelt are empty,\n",
    "        # then make a copy of the dimensions of SOLmelt that is filled with zeroes\n",
    "        if not SOLmelt.data.empty and SOImelt.data.empty and EGImelt.data.empty:\n",
    "            SOImelt.data = SOLmelt.data.copy()\n",
    "            SOImelt.data[:] = 0.\n",
    "            EGImelt.data = SOLmelt.data.copy()\n",
    "            EGImelt.data[:] = 0.\n",
    "            \n",
    "        # Calculate sums of volumes by doy\n",
    "        SOLmelt_by_doy = SOLmelt.data_by_doy()\n",
    "        SOImelt_by_doy = SOImelt.data_by_doy()\n",
    "        EGImelt_by_doy = EGImelt.data_by_doy()\n",
    "        \n",
    "        if i == 0:\n",
    "            title = \"Modelled melt for CHARIS basin %s %d sub-basins (%d)\" % (\n",
    "                majorBasinID, len(drainageIDs), year)\n",
    "            totalSOL = SOLmelt_by_doy.copy()\n",
    "            totalSOI = SOImelt_by_doy.copy()\n",
    "            totalEGI = EGImelt_by_doy.copy()\n",
    "\n",
    "        else:\n",
    "            totalSOL = totalSOL + SOLmelt_by_doy\n",
    "            totalSOI = totalSOI + SOImelt_by_doy\n",
    "            totalEGI = totalEGI + EGImelt_by_doy\n",
    "\n",
    "    totalSOL.plot(ax=ax[j], title=title, color='g', linewidth=0.5, label='SOL')\n",
    "    totalSOI.plot(ax=ax[j], color='b', linewidth=0.5, label='SOI')\n",
    "    totalEGI.plot(ax=ax[j], color='m', linewidth=0.5, label='EGI')\n",
    "    \n",
    "    # handles, labels = ax[j].get_legend_handles_labels()\n",
    "    ax[j].legend(loc='best')\n",
    "        \n",
    "fig.tight_layout()"
   ]
  },
  {
   "cell_type": "code",
   "execution_count": 35,
   "metadata": {
    "collapsed": false
   },
   "outputs": [],
   "source": [
    "plt.savefig('AM.melt_by_doy.2001-2002.png')"
   ]
  },
  {
   "cell_type": "code",
   "execution_count": 27,
   "metadata": {
    "collapsed": false
   },
   "outputs": [
    {
     "data": {
      "text/plain": [
       "<matplotlib.text.Text at 0x127d97bd0>"
      ]
     },
     "execution_count": 27,
     "metadata": {},
     "output_type": "execute_result"
    }
   ],
   "source": [
    "ax[j].set_title('test')"
   ]
  },
  {
   "cell_type": "code",
   "execution_count": null,
   "metadata": {
    "collapsed": true
   },
   "outputs": [],
   "source": []
  }
 ],
 "metadata": {
  "kernelspec": {
   "display_name": "Python 2",
   "language": "python",
   "name": "python2"
  },
  "language_info": {
   "codemirror_mode": {
    "name": "ipython",
    "version": 2
   },
   "file_extension": ".py",
   "mimetype": "text/x-python",
   "name": "python",
   "nbconvert_exporter": "python",
   "pygments_lexer": "ipython2",
   "version": "2.7.12"
  }
 },
 "nbformat": 4,
 "nbformat_minor": 0
}
