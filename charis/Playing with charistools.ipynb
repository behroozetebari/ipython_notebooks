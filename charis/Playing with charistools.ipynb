{
 "cells": [
  {
   "cell_type": "code",
   "execution_count": 19,
   "metadata": {
    "collapsed": true
   },
   "outputs": [],
   "source": [
    "from charistools import hypsometry, modis_info\n",
    "from netCDF4 import Dataset\n",
    "import numpy as np\n",
    "from osgeo import gdal\n",
    "import matplotlib.pyplot as plt\n"
   ]
  },
  {
   "cell_type": "code",
   "execution_count": 2,
   "metadata": {
    "collapsed": false
   },
   "outputs": [
    {
     "data": {
      "text/plain": [
       "0.2146586737339221"
      ]
     },
     "execution_count": 2,
     "metadata": {},
     "output_type": "execute_result"
    }
   ],
   "source": [
    "modis_info.area_per_500m_pixel_km2"
   ]
  },
  {
   "cell_type": "code",
   "execution_count": 3,
   "metadata": {
    "collapsed": false
   },
   "outputs": [
    {
     "name": "stdout",
     "output_type": "stream",
     "text": [
      "Help on module charistools.hypsometry in charistools:\n",
      "\n",
      "NAME\n",
      "    charistools.hypsometry\n",
      "\n",
      "FILE\n",
      "    /Users/brodzik/.conda/envs/pmesdr/lib/python2.7/site-packages/charistools/hypsometry.py\n",
      "\n",
      "CLASSES\n",
      "    Hypsometry\n",
      "    \n",
      "    class Hypsometry\n",
      "     |  The Hypsometry class will read(write) CHARIS hypsometry data\n",
      "     |  from(to) ASCII files.  The populated object will contain the\n",
      "     |  comments from the beginning of the file, and a pandas\n",
      "     |  DataFrame.\n",
      "     |  \n",
      "     |  2014-09-24 M. J. Brodzik brodzik@nsidc.org 303-492-8263\n",
      "     |  National Snow & Ice Data Center, Boulder CO\n",
      "     |  Copyright (C) 2014-2015 Regents of the University of Colorado at Boulder\n",
      "     |  \n",
      "     |  Methods defined here:\n",
      "     |  \n",
      "     |  __init__(self, filename=None, comments=[], data=Empty DataFrame\n",
      "     |  Columns: []\n",
      "     |  Index: [], verbose=False)\n",
      "     |      from charistools import hypsometry\n",
      "     |      \n",
      "     |      hyp = hypsometry.Hypsometry(comments=[], data=pd.DataFrame(),\n",
      "     |                                  filename=None, verbose=False)\n",
      "     |      \n",
      "     |      Initializer for a CHARIS hypsometry object\n",
      "     |      \n",
      "     |      filename : filename to open and read from\n",
      "     |      comments : list of strings\n",
      "     |      data : pandas DataFrame with elevations in columns and dates in rows\n",
      "     |             index can be [None] for undated data, or\n",
      "     |             should be a pandas.tseries.index.DatetimeIndex for dated\n",
      "     |             contents\n",
      "     |  \n",
      "     |  append(self, elevation, modice, contour_m=100.0, min_contour_m=None, max_contour_m=None, verbose=False)\n",
      "     |      hypsometry.append(elevation, modice, contour_m=100.,\n",
      "     |                        min_contour_m=None,\n",
      "     |                        max_contour_m=None,\n",
      "     |                        verbose=False)\n",
      "     |      \n",
      "     |      Returns hypsometry object, with one row of MODICE area by the requested\n",
      "     |      contour levels.\n",
      "     |      \n",
      "     |      Parameters\n",
      "     |          elevation : ndarray\n",
      "     |              raster with elevations in meters\n",
      "     |          modice : ndarray, same size as elevation\n",
      "     |              modice=2 for landice\n",
      "     |          contour_m : value, default 100. m\n",
      "     |              contour interval in meters\n",
      "     |          min_contour_m : value, default None\n",
      "     |              bottom of lowest contour interval, in meters\n",
      "     |              if None, determine it from elevation data\n",
      "     |          max_contour_m : value, default None\n",
      "     |              top of highest contour interval, in meters\n",
      "     |              if None, determine it from elevation data\n",
      "     |          verbose : Boolean, default=False\n",
      "     |      \n",
      "     |      Example:\n",
      "     |      from charistools import hypsometry\n",
      "     |      hyps = hypsometry.Hypsometry(comments=['Hypsometry for MODICE from file.'])\n",
      "     |      # Set elevation and modice raster ndarrays\n",
      "     |      # Assumes elevation array is in meters\n",
      "     |      # Assumes modice value for landice is 2\n",
      "     |      hyps.append( elevation, modice )\n",
      "     |      \n",
      "     |      Returns hypsometry object, with one row MODICE area by the requested\n",
      "     |      contour levels.\n",
      "     |  \n",
      "     |  data_by_doy(self, verbose=False)\n",
      "     |      from charistools import hypsometry\n",
      "     |      hyps = hypsometry.Hypsometry(filename='filename.txt')\n",
      "     |      doy_series = hyps.data_by_doy()\n",
      "     |      \n",
      "     |      Returns a Series object, with the hypsometry data, summed by row (doy).\n",
      "     |  \n",
      "     |  read(self, filename, verbose=False)\n",
      "     |      from charistools import hypsometry\n",
      "     |      hyps = hypsometry.Hypsometry()\n",
      "     |      hyps.read( filename, verbose=False )\n",
      "     |      \n",
      "     |      Reads elevation by date hypsometry data from filename into a pandas\n",
      "     |      DataFrame.\n",
      "     |      \n",
      "     |      Assumes file format:\n",
      "     |      1) 0 or more comment lines, beginning with '#'\n",
      "     |      2) XX number of elevation bands\n",
      "     |      3) lower bounds of each elevation band\n",
      "     |      4) Data records by date\n",
      "     |  \n",
      "     |  write(self, filename, decimal_places=6, verbose=False)\n",
      "     |      Writes elevation by date hypsometry data to filename,\n",
      "     |      formatted for use with either CHARIS IDL or python\n",
      "     |      modelling software.  See hypsometry.read for file format\n",
      "     |      description.\n",
      "     |      \n",
      "     |      from charistools import hypsometry hyps =\n",
      "     |      hypsometry.Hypsometry(comments=['first','second'])\n",
      "     |      hyps.write( filename, verbose=False )\n",
      "     |      \n",
      "     |      If object comments do not begin with '#', then they will\n",
      "     |      be prepended by this character in the output file.\n",
      "     |  \n",
      "     |  ----------------------------------------------------------------------\n",
      "     |  Data and other attributes defined here:\n",
      "     |  \n",
      "     |  comments = []\n",
      "     |  \n",
      "     |  data = Empty DataFrame\n",
      "     |  Columns: []\n",
      "     |  Index: []\n",
      "\n",
      "DATA\n",
      "    print_function = _Feature((2, 6, 0, 'alpha', 2), (3, 0, 0, 'alpha', 0)...\n",
      "\n",
      "\n"
     ]
    }
   ],
   "source": [
    "help(hypsometry)"
   ]
  },
  {
   "cell_type": "code",
   "execution_count": 7,
   "metadata": {
    "collapsed": false
   },
   "outputs": [],
   "source": [
    "hyps = hypsometry.Hypsometry(comments=['some comments'])"
   ]
  },
  {
   "cell_type": "code",
   "execution_count": 9,
   "metadata": {
    "collapsed": false
   },
   "outputs": [
    {
     "data": {
      "text/plain": [
       "['some comments']"
      ]
     },
     "execution_count": 9,
     "metadata": {},
     "output_type": "execute_result"
    }
   ],
   "source": [
    "hyps.comments\n"
   ]
  },
  {
   "cell_type": "code",
   "execution_count": 10,
   "metadata": {
    "collapsed": false
   },
   "outputs": [
    {
     "data": {
      "text/html": [
       "<div>\n",
       "<table border=\"1\" class=\"dataframe\">\n",
       "  <thead>\n",
       "    <tr style=\"text-align: right;\">\n",
       "      <th></th>\n",
       "    </tr>\n",
       "  </thead>\n",
       "  <tbody>\n",
       "  </tbody>\n",
       "</table>\n",
       "</div>"
      ],
      "text/plain": [
       "Empty DataFrame\n",
       "Columns: []\n",
       "Index: []"
      ]
     },
     "execution_count": 10,
     "metadata": {},
     "output_type": "execute_result"
    }
   ],
   "source": [
    "hyps.data"
   ]
  },
  {
   "cell_type": "code",
   "execution_count": 11,
   "metadata": {
    "collapsed": false
   },
   "outputs": [
    {
     "name": "stdout",
     "output_type": "stream",
     "text": [
      "/Users/brodzik/projects/CHARIS/snow_cover/modice.v0.4/min05yr_nc\n",
      "MODICE.v0.4.h22v04.1strike.min05yr.mask.nc\n",
      "MODICE.v0.4.h22v04.2strike.min05yr.mask.nc\n",
      "MODICE.v0.4.h22v04.3strike.min05yr.mask.nc\n",
      "MODICE.v0.4.h22v05.1strike.min05yr.mask.nc\n",
      "MODICE.v0.4.h22v05.2strike.min05yr.mask.nc\n",
      "MODICE.v0.4.h22v05.3strike.min05yr.mask.nc\n",
      "MODICE.v0.4.h23v04.1strike.min05yr.mask.nc\n",
      "MODICE.v0.4.h23v04.2strike.min05yr.mask.nc\n",
      "MODICE.v0.4.h23v04.3strike.min05yr.mask.nc\n",
      "MODICE.v0.4.h23v05.1strike.min05yr.mask.nc\n",
      "MODICE.v0.4.h23v05.2strike.min05yr.mask.nc\n",
      "MODICE.v0.4.h23v05.3strike.min05yr.mask.nc\n",
      "MODICE.v0.4.h23v06.1strike.min05yr.mask.nc\n",
      "MODICE.v0.4.h23v06.2strike.min05yr.mask.nc\n",
      "MODICE.v0.4.h23v06.3strike.min05yr.mask.nc\n",
      "MODICE.v0.4.h24v04.1strike.min05yr.mask.nc\n",
      "MODICE.v0.4.h24v04.2strike.min05yr.mask.nc\n",
      "MODICE.v0.4.h24v04.3strike.min05yr.mask.nc\n",
      "MODICE.v0.4.h24v05.1strike.min05yr.mask.nc\n",
      "MODICE.v0.4.h24v05.2strike.min05yr.mask.nc\n",
      "MODICE.v0.4.h24v05.3strike.min05yr.mask.nc\n",
      "MODICE.v0.4.h24v06.1strike.min05yr.mask.nc\n",
      "MODICE.v0.4.h24v06.2strike.min05yr.mask.nc\n",
      "MODICE.v0.4.h24v06.3strike.min05yr.mask.nc\n",
      "MODICE.v0.4.h25v05.1strike.min05yr.mask.nc\n",
      "MODICE.v0.4.h25v05.2strike.min05yr.mask.nc\n",
      "MODICE.v0.4.h25v05.3strike.min05yr.mask.nc\n",
      "MODICE.v0.4.h25v06.1strike.min05yr.mask.nc\n",
      "MODICE.v0.4.h25v06.2strike.min05yr.mask.nc\n",
      "MODICE.v0.4.h25v06.3strike.min05yr.mask.nc\n",
      "MODICE.v0.4.h26v05.1strike.min05yr.mask.nc\n",
      "MODICE.v0.4.h26v05.2strike.min05yr.mask.nc\n",
      "MODICE.v0.4.h26v05.3strike.min05yr.mask.nc\n",
      "MODICE.v0.4.h26v06.1strike.min05yr.mask.nc\n",
      "MODICE.v0.4.h26v06.2strike.min05yr.mask.nc\n",
      "MODICE.v0.4.h26v06.3strike.min05yr.mask.nc\n"
     ]
    }
   ],
   "source": [
    "%cd /Users/brodzik/projects/CHARIS/snow_cover/modice.v0.4/min05yr_nc\n",
    "%ls"
   ]
  },
  {
   "cell_type": "code",
   "execution_count": 13,
   "metadata": {
    "collapsed": true
   },
   "outputs": [],
   "source": [
    "file = Dataset('MODICE.v0.4.h23v05.1strike.min05yr.mask.nc', mode='r', format='NETCDF4')"
   ]
  },
  {
   "cell_type": "code",
   "execution_count": 14,
   "metadata": {
    "collapsed": false
   },
   "outputs": [
    {
     "data": {
      "text/plain": [
       "<type 'netCDF4._netCDF4.Dataset'>\n",
       "root group (NETCDF4 data model, file format UNDEFINED):\n",
       "    Title: MODICE mask for a minimum number of years.\n",
       "    Institution: National Snow & Ice Data Center, Boulder, CO USA\n",
       "    Source: MODICEv04\n",
       "    History: Created on Tue Jun 16 14:28:19 2015 by combine_modice.pro\n",
       "    Comment: Mask locations with 2 indicate MODICE for >= min_years\n",
       "    MODIS_tile_id: h23v05\n",
       "    Start_year: 2000\n",
       "    End_year: 2014\n",
       "    Min_years: 5\n",
       "    MODICE_FILES: 2000/h23v05/MODICE.v0.4.h23v05.2000.1strike.landice.mask.tif, 2001/h23v05/MODICE.v0.4.h23v05.2001.1strike.landice.mask.tif, 2002/h23v05/MODICE.v0.4.h23v05.2002.1strike.landice.mask.tif, 2003/h23v05/MODICE.v0.4.h23v05.2003.1strike.landice.mask.tif, 2004/h23v05/MODICE.v0.4.h23v05.2004.1strike.landice.mask.tif, 2005/h23v05/MODICE.v0.4.h23v05.2005.1strike.landice.mask.tif, 2006/h23v05/MODICE.v0.4.h23v05.2006.1strike.landice.mask.tif, 2007/h23v05/MODICE.v0.4.h23v05.2007.1strike.landice.mask.tif, 2008/h23v05/MODICE.v0.4.h23v05.2008.1strike.landice.mask.tif, 2009/h23v05/MODICE.v0.4.h23v05.2009.1strike.landice.mask.tif, 2010/h23v05/MODICE.v0.4.h23v05.2010.1strike.landice.mask.tif, 2011/h23v05/MODICE.v0.4.h23v05.2011.1strike.landice.mask.tif, 2012/h23v05/MODICE.v0.4.h23v05.2012.1strike.landice.mask.tif, 2013/h23v05/MODICE.v0.4.h23v05.2013.1strike.landice.mask.tif, 2014/h23v05/MODICE.v0.4.h23v05.2014.1strike.landice.mask.tif\n",
       "    dimensions(sizes): Columns(2400), Rows(2400)\n",
       "    variables(dimensions): uint8 \u001b[4mmodice_min_year_mask\u001b[0m(Rows,Columns), float32 \u001b[4mlatitude\u001b[0m(Rows,Columns), float32 \u001b[4mlongitude\u001b[0m(Rows,Columns)\n",
       "    groups: "
      ]
     },
     "execution_count": 14,
     "metadata": {},
     "output_type": "execute_result"
    }
   ],
   "source": [
    "file"
   ]
  },
  {
   "cell_type": "code",
   "execution_count": 15,
   "metadata": {
    "collapsed": true
   },
   "outputs": [],
   "source": [
    "modice = file.variables[\"modice_min_year_mask\"][:]"
   ]
  },
  {
   "cell_type": "code",
   "execution_count": 17,
   "metadata": {
    "collapsed": false
   },
   "outputs": [
    {
     "data": {
      "text/plain": [
       "(2400, 2400)"
      ]
     },
     "execution_count": 17,
     "metadata": {},
     "output_type": "execute_result"
    }
   ],
   "source": [
    "np.shape(modice)"
   ]
  },
  {
   "cell_type": "code",
   "execution_count": 20,
   "metadata": {
    "collapsed": false
   },
   "outputs": [
    {
     "name": "stdout",
     "output_type": "stream",
     "text": [
      "/Users/brodzik/projects/CHARIS/elevation_data/SRTMGL3\n",
      "#00notes.txt#\n",
      "00notes.txt\n",
      "00notes_retired.txt\n",
      "CHARIS_DEM_Larissa.tfw\n",
      "CHARIS_DEM_Larissa.tif\n",
      "Koksu_Kunes.tfw\n",
      "Koksu_Kunes.tif\n",
      "Koksu_Kunes.zip\n",
      "SRTMGL3.v0.1.h22v04.tif\n",
      "SRTMGL3.v0.1.h22v05.tif\n",
      "SRTMGL3.v0.1.h22v06.tif\n",
      "SRTMGL3.v0.1.h23v04.tif\n",
      "SRTMGL3.v0.1.h23v05.tif\n",
      "SRTMGL3.v0.1.h23v06.tif\n",
      "SRTMGL3.v0.1.h24v04.tif\n",
      "SRTMGL3.v0.1.h24v05.tif\n",
      "SRTMGL3.v0.1.h24v06.tif\n",
      "SRTMGL3.v0.1.h25v04.tif\n",
      "SRTMGL3.v0.1.h25v05.tif\n",
      "SRTMGL3.v0.1.h25v06.tif\n",
      "SRTMGL3.v0.1.h26v04.tif\n",
      "SRTMGL3.v0.1.h26v05.tif\n",
      "SRTMGL3.v0.1.h26v06.tif\n",
      "SRTMGL3.v0.1.h27v04.tif\n",
      "SRTMGL3.v0.1.h27v05.tif\n",
      "SRTMGL3.v0.1.h27v06.tif\n",
      "SRTMGL3_GCS_edited.tif\n",
      "SRTMGL3_GCS_edited.tif.aux.xml\n",
      "SRTMGL3_GCS_edited.zip\n",
      "SRTMGL3_GCS_edited_langtang_area.tif\n",
      "SRTMGL3_GCS_edited_langtang_area_utm45.tif\n",
      "SRTMGL3_GCS_edited_uib_area.tif\n",
      "SRTMGL3_sin.tfw\n",
      "SRTMGL3_sin.tif\n",
      "SRTMGL3_vakhsh.tif\n",
      "du\n",
      "\u001b[31msrtmgl3_clip_by_basin.sh\u001b[m\u001b[m*\n",
      "srtmgl3_clip_by_basin.sh~\n"
     ]
    }
   ],
   "source": [
    "%cd /Users/brodzik/projects/CHARIS/elevation_data/SRTMGL3\n",
    "%ls\n"
   ]
  },
  {
   "cell_type": "code",
   "execution_count": 22,
   "metadata": {
    "collapsed": false
   },
   "outputs": [],
   "source": [
    "elevation_file = 'SRTMGL3.v0.1.h23v05.tif'\n",
    "dataset = gdal.Open(elevation_file, gdal.GA_ReadOnly)"
   ]
  },
  {
   "cell_type": "code",
   "execution_count": 24,
   "metadata": {
    "collapsed": false
   },
   "outputs": [
    {
     "data": {
      "text/plain": [
       "1"
      ]
     },
     "execution_count": 24,
     "metadata": {},
     "output_type": "execute_result"
    }
   ],
   "source": [
    "dataset.RasterCount"
   ]
  },
  {
   "cell_type": "code",
   "execution_count": 25,
   "metadata": {
    "collapsed": true
   },
   "outputs": [],
   "source": [
    "band = dataset.GetRasterBand(1)\n",
    "elevation = band.ReadAsArray()"
   ]
  },
  {
   "cell_type": "code",
   "execution_count": 26,
   "metadata": {
    "collapsed": false
   },
   "outputs": [
    {
     "data": {
      "text/plain": [
       "(2400, 2400)"
      ]
     },
     "execution_count": 26,
     "metadata": {},
     "output_type": "execute_result"
    }
   ],
   "source": [
    "np.shape(elevation)"
   ]
  },
  {
   "cell_type": "code",
   "execution_count": 27,
   "metadata": {
    "collapsed": false
   },
   "outputs": [
    {
     "data": {
      "text/plain": [
       "-32768"
      ]
     },
     "execution_count": 27,
     "metadata": {},
     "output_type": "execute_result"
    }
   ],
   "source": [
    "np.amin(elevation)"
   ]
  },
  {
   "cell_type": "code",
   "execution_count": 28,
   "metadata": {
    "collapsed": false
   },
   "outputs": [
    {
     "data": {
      "text/plain": [
       "7710"
      ]
     },
     "execution_count": 28,
     "metadata": {},
     "output_type": "execute_result"
    }
   ],
   "source": [
    "np.amax(elevation)"
   ]
  },
  {
   "cell_type": "code",
   "execution_count": 29,
   "metadata": {
    "collapsed": false
   },
   "outputs": [
    {
     "data": {
      "text/plain": [
       "<charistools.hypsometry.Hypsometry instance at 0x10752cb00>"
      ]
     },
     "execution_count": 29,
     "metadata": {},
     "output_type": "execute_result"
    }
   ],
   "source": [
    "hyps"
   ]
  },
  {
   "cell_type": "code",
   "execution_count": 30,
   "metadata": {
    "collapsed": false
   },
   "outputs": [
    {
     "data": {
      "text/plain": [
       "['some comments']"
      ]
     },
     "execution_count": 30,
     "metadata": {},
     "output_type": "execute_result"
    }
   ],
   "source": [
    "hyps.comments"
   ]
  },
  {
   "cell_type": "code",
   "execution_count": 31,
   "metadata": {
    "collapsed": false
   },
   "outputs": [
    {
     "name": "stderr",
     "output_type": "stream",
     "text": [
      "charistools.hypsometry : begin.\n"
     ]
    },
    {
     "data": {
      "text/plain": [
       "()"
      ]
     },
     "execution_count": 31,
     "metadata": {},
     "output_type": "execute_result"
    }
   ],
   "source": [
    "hyps.append(elevation,modice,min_contour_m=1400,verbose=True)"
   ]
  },
  {
   "cell_type": "code",
   "execution_count": 32,
   "metadata": {
    "collapsed": false
   },
   "outputs": [
    {
     "data": {
      "text/html": [
       "<div>\n",
       "<table border=\"1\" class=\"dataframe\">\n",
       "  <thead>\n",
       "    <tr style=\"text-align: right;\">\n",
       "      <th></th>\n",
       "      <th>1400.0</th>\n",
       "      <th>1500.0</th>\n",
       "      <th>1600.0</th>\n",
       "      <th>1700.0</th>\n",
       "      <th>1800.0</th>\n",
       "      <th>1900.0</th>\n",
       "      <th>2000.0</th>\n",
       "      <th>2100.0</th>\n",
       "      <th>2200.0</th>\n",
       "      <th>2300.0</th>\n",
       "      <th>...</th>\n",
       "      <th>6900.0</th>\n",
       "      <th>7000.0</th>\n",
       "      <th>7100.0</th>\n",
       "      <th>7200.0</th>\n",
       "      <th>7300.0</th>\n",
       "      <th>7400.0</th>\n",
       "      <th>7500.0</th>\n",
       "      <th>7600.0</th>\n",
       "      <th>7700.0</th>\n",
       "      <th>7800.0</th>\n",
       "    </tr>\n",
       "    <tr>\n",
       "      <th>Date</th>\n",
       "      <th></th>\n",
       "      <th></th>\n",
       "      <th></th>\n",
       "      <th></th>\n",
       "      <th></th>\n",
       "      <th></th>\n",
       "      <th></th>\n",
       "      <th></th>\n",
       "      <th></th>\n",
       "      <th></th>\n",
       "      <th></th>\n",
       "      <th></th>\n",
       "      <th></th>\n",
       "      <th></th>\n",
       "      <th></th>\n",
       "      <th></th>\n",
       "      <th></th>\n",
       "      <th></th>\n",
       "      <th></th>\n",
       "      <th></th>\n",
       "      <th></th>\n",
       "    </tr>\n",
       "  </thead>\n",
       "  <tbody>\n",
       "    <tr>\n",
       "      <th>None</th>\n",
       "      <td>0</td>\n",
       "      <td>0</td>\n",
       "      <td>0</td>\n",
       "      <td>0</td>\n",
       "      <td>0</td>\n",
       "      <td>0</td>\n",
       "      <td>0</td>\n",
       "      <td>0</td>\n",
       "      <td>0</td>\n",
       "      <td>0</td>\n",
       "      <td>...</td>\n",
       "      <td>20.607233</td>\n",
       "      <td>14.167472</td>\n",
       "      <td>11.806227</td>\n",
       "      <td>8.586347</td>\n",
       "      <td>4.507832</td>\n",
       "      <td>3.005221</td>\n",
       "      <td>2.575904</td>\n",
       "      <td>0.214659</td>\n",
       "      <td>0.214659</td>\n",
       "      <td>0</td>\n",
       "    </tr>\n",
       "  </tbody>\n",
       "</table>\n",
       "<p>1 rows × 65 columns</p>\n",
       "</div>"
      ],
      "text/plain": [
       "      1400  1500  1600  1700  1800  1900  2000  2100  2200  2300  ...   \\\n",
       "Date                                                              ...    \n",
       "None     0     0     0     0     0     0     0     0     0     0  ...    \n",
       "\n",
       "           6900       7000       7100      7200      7300      7400      7500  \\\n",
       "Date                                                                            \n",
       "None  20.607233  14.167472  11.806227  8.586347  4.507832  3.005221  2.575904   \n",
       "\n",
       "          7600      7700  7800  \n",
       "Date                            \n",
       "None  0.214659  0.214659     0  \n",
       "\n",
       "[1 rows x 65 columns]"
      ]
     },
     "execution_count": 32,
     "metadata": {},
     "output_type": "execute_result"
    }
   ],
   "source": [
    "hyps.data"
   ]
  },
  {
   "cell_type": "code",
   "execution_count": 33,
   "metadata": {
    "collapsed": true
   },
   "outputs": [],
   "source": [
    "hypsh23v05 = hyps"
   ]
  },
  {
   "cell_type": "code",
   "execution_count": 35,
   "metadata": {
    "collapsed": false
   },
   "outputs": [],
   "source": [
    "elevation_file_h24 = 'SRTMGL3.v0.1.h24v05.tif'\n",
    "dataset24 = gdal.Open(elevation_file_h24, gdal.GA_ReadOnly)\n",
    "band24 = dataset24.GetRasterBand(1)\n",
    "elevation24 = band24.ReadAsArray()"
   ]
  },
  {
   "cell_type": "code",
   "execution_count": 36,
   "metadata": {
    "collapsed": false
   },
   "outputs": [
    {
     "data": {
      "text/plain": [
       "111"
      ]
     },
     "execution_count": 36,
     "metadata": {},
     "output_type": "execute_result"
    }
   ],
   "source": [
    "np.amin(elevation24)"
   ]
  },
  {
   "cell_type": "code",
   "execution_count": 37,
   "metadata": {
    "collapsed": false
   },
   "outputs": [
    {
     "data": {
      "text/plain": [
       "8451"
      ]
     },
     "execution_count": 37,
     "metadata": {},
     "output_type": "execute_result"
    }
   ],
   "source": [
    "np.amax(elevation24)"
   ]
  },
  {
   "cell_type": "code",
   "execution_count": 38,
   "metadata": {
    "collapsed": false
   },
   "outputs": [
    {
     "name": "stdout",
     "output_type": "stream",
     "text": [
      "/Users/brodzik/projects/CHARIS/snow_cover/modice.v0.4/min05yr_nc\n",
      "MODICE.v0.4.h22v04.1strike.min05yr.mask.nc\n",
      "MODICE.v0.4.h22v04.2strike.min05yr.mask.nc\n",
      "MODICE.v0.4.h22v04.3strike.min05yr.mask.nc\n",
      "MODICE.v0.4.h22v05.1strike.min05yr.mask.nc\n",
      "MODICE.v0.4.h22v05.2strike.min05yr.mask.nc\n",
      "MODICE.v0.4.h22v05.3strike.min05yr.mask.nc\n",
      "MODICE.v0.4.h23v04.1strike.min05yr.mask.nc\n",
      "MODICE.v0.4.h23v04.2strike.min05yr.mask.nc\n",
      "MODICE.v0.4.h23v04.3strike.min05yr.mask.nc\n",
      "MODICE.v0.4.h23v05.1strike.min05yr.mask.nc\n",
      "MODICE.v0.4.h23v05.2strike.min05yr.mask.nc\n",
      "MODICE.v0.4.h23v05.3strike.min05yr.mask.nc\n",
      "MODICE.v0.4.h23v06.1strike.min05yr.mask.nc\n",
      "MODICE.v0.4.h23v06.2strike.min05yr.mask.nc\n",
      "MODICE.v0.4.h23v06.3strike.min05yr.mask.nc\n",
      "MODICE.v0.4.h24v04.1strike.min05yr.mask.nc\n",
      "MODICE.v0.4.h24v04.2strike.min05yr.mask.nc\n",
      "MODICE.v0.4.h24v04.3strike.min05yr.mask.nc\n",
      "MODICE.v0.4.h24v05.1strike.min05yr.mask.nc\n",
      "MODICE.v0.4.h24v05.2strike.min05yr.mask.nc\n",
      "MODICE.v0.4.h24v05.3strike.min05yr.mask.nc\n",
      "MODICE.v0.4.h24v06.1strike.min05yr.mask.nc\n",
      "MODICE.v0.4.h24v06.2strike.min05yr.mask.nc\n",
      "MODICE.v0.4.h24v06.3strike.min05yr.mask.nc\n",
      "MODICE.v0.4.h25v05.1strike.min05yr.mask.nc\n",
      "MODICE.v0.4.h25v05.2strike.min05yr.mask.nc\n",
      "MODICE.v0.4.h25v05.3strike.min05yr.mask.nc\n",
      "MODICE.v0.4.h25v06.1strike.min05yr.mask.nc\n",
      "MODICE.v0.4.h25v06.2strike.min05yr.mask.nc\n",
      "MODICE.v0.4.h25v06.3strike.min05yr.mask.nc\n",
      "MODICE.v0.4.h26v05.1strike.min05yr.mask.nc\n",
      "MODICE.v0.4.h26v05.2strike.min05yr.mask.nc\n",
      "MODICE.v0.4.h26v05.3strike.min05yr.mask.nc\n",
      "MODICE.v0.4.h26v06.1strike.min05yr.mask.nc\n",
      "MODICE.v0.4.h26v06.2strike.min05yr.mask.nc\n",
      "MODICE.v0.4.h26v06.3strike.min05yr.mask.nc\n"
     ]
    }
   ],
   "source": [
    "%cd /Users/brodzik/projects/CHARIS/snow_cover/modice.v0.4/min05yr_nc\n",
    "%ls"
   ]
  },
  {
   "cell_type": "code",
   "execution_count": 39,
   "metadata": {
    "collapsed": true
   },
   "outputs": [],
   "source": [
    "file24 = Dataset('MODICE.v0.4.h24v05.1strike.min05yr.mask.nc', mode='r', format='NETCDF4')"
   ]
  },
  {
   "cell_type": "code",
   "execution_count": 40,
   "metadata": {
    "collapsed": true
   },
   "outputs": [],
   "source": [
    "modice24 = file24.variables[\"modice_min_year_mask\"][:]"
   ]
  },
  {
   "cell_type": "code",
   "execution_count": 41,
   "metadata": {
    "collapsed": false
   },
   "outputs": [
    {
     "name": "stdout",
     "output_type": "stream",
     "text": [
      "(0, 2)\n"
     ]
    }
   ],
   "source": [
    "print(np.amin(modice24),np.amax(modice24))"
   ]
  },
  {
   "cell_type": "code",
   "execution_count": 42,
   "metadata": {
    "collapsed": true
   },
   "outputs": [],
   "source": [
    "hypsh24v05 = hypsometry.Hypsometry(comments=['h24v05'])"
   ]
  },
  {
   "cell_type": "code",
   "execution_count": 43,
   "metadata": {
    "collapsed": false
   },
   "outputs": [
    {
     "name": "stderr",
     "output_type": "stream",
     "text": [
      "charistools.hypsometry : begin.\n"
     ]
    },
    {
     "data": {
      "text/plain": [
       "()"
      ]
     },
     "execution_count": 43,
     "metadata": {},
     "output_type": "execute_result"
    }
   ],
   "source": [
    "hypsh24v05.append(elevation24,modice24,min_contour_m=1400,verbose=True)"
   ]
  },
  {
   "cell_type": "code",
   "execution_count": 44,
   "metadata": {
    "collapsed": false
   },
   "outputs": [
    {
     "data": {
      "text/html": [
       "<div>\n",
       "<table border=\"1\" class=\"dataframe\">\n",
       "  <thead>\n",
       "    <tr style=\"text-align: right;\">\n",
       "      <th></th>\n",
       "      <th>1400.0</th>\n",
       "      <th>1500.0</th>\n",
       "      <th>1600.0</th>\n",
       "      <th>1700.0</th>\n",
       "      <th>1800.0</th>\n",
       "      <th>1900.0</th>\n",
       "      <th>2000.0</th>\n",
       "      <th>2100.0</th>\n",
       "      <th>2200.0</th>\n",
       "      <th>2300.0</th>\n",
       "      <th>...</th>\n",
       "      <th>6900.0</th>\n",
       "      <th>7000.0</th>\n",
       "      <th>7100.0</th>\n",
       "      <th>7200.0</th>\n",
       "      <th>7300.0</th>\n",
       "      <th>7400.0</th>\n",
       "      <th>7500.0</th>\n",
       "      <th>7600.0</th>\n",
       "      <th>7700.0</th>\n",
       "      <th>7800.0</th>\n",
       "    </tr>\n",
       "    <tr>\n",
       "      <th>Date</th>\n",
       "      <th></th>\n",
       "      <th></th>\n",
       "      <th></th>\n",
       "      <th></th>\n",
       "      <th></th>\n",
       "      <th></th>\n",
       "      <th></th>\n",
       "      <th></th>\n",
       "      <th></th>\n",
       "      <th></th>\n",
       "      <th></th>\n",
       "      <th></th>\n",
       "      <th></th>\n",
       "      <th></th>\n",
       "      <th></th>\n",
       "      <th></th>\n",
       "      <th></th>\n",
       "      <th></th>\n",
       "      <th></th>\n",
       "      <th></th>\n",
       "      <th></th>\n",
       "    </tr>\n",
       "  </thead>\n",
       "  <tbody>\n",
       "    <tr>\n",
       "      <th>None</th>\n",
       "      <td>0</td>\n",
       "      <td>0</td>\n",
       "      <td>0</td>\n",
       "      <td>0</td>\n",
       "      <td>0</td>\n",
       "      <td>0</td>\n",
       "      <td>0</td>\n",
       "      <td>0</td>\n",
       "      <td>0</td>\n",
       "      <td>0</td>\n",
       "      <td>...</td>\n",
       "      <td>20.607233</td>\n",
       "      <td>14.167472</td>\n",
       "      <td>11.806227</td>\n",
       "      <td>8.586347</td>\n",
       "      <td>4.507832</td>\n",
       "      <td>3.005221</td>\n",
       "      <td>2.575904</td>\n",
       "      <td>0.214659</td>\n",
       "      <td>0.214659</td>\n",
       "      <td>0</td>\n",
       "    </tr>\n",
       "  </tbody>\n",
       "</table>\n",
       "<p>1 rows × 65 columns</p>\n",
       "</div>"
      ],
      "text/plain": [
       "      1400  1500  1600  1700  1800  1900  2000  2100  2200  2300  ...   \\\n",
       "Date                                                              ...    \n",
       "None     0     0     0     0     0     0     0     0     0     0  ...    \n",
       "\n",
       "           6900       7000       7100      7200      7300      7400      7500  \\\n",
       "Date                                                                            \n",
       "None  20.607233  14.167472  11.806227  8.586347  4.507832  3.005221  2.575904   \n",
       "\n",
       "          7600      7700  7800  \n",
       "Date                            \n",
       "None  0.214659  0.214659     0  \n",
       "\n",
       "[1 rows x 65 columns]"
      ]
     },
     "execution_count": 44,
     "metadata": {},
     "output_type": "execute_result"
    }
   ],
   "source": [
    "hypsh23v05.data"
   ]
  },
  {
   "cell_type": "code",
   "execution_count": 45,
   "metadata": {
    "collapsed": false
   },
   "outputs": [
    {
     "data": {
      "text/html": [
       "<div>\n",
       "<table border=\"1\" class=\"dataframe\">\n",
       "  <thead>\n",
       "    <tr style=\"text-align: right;\">\n",
       "      <th></th>\n",
       "      <th>1400.0</th>\n",
       "      <th>1500.0</th>\n",
       "      <th>1600.0</th>\n",
       "      <th>1700.0</th>\n",
       "      <th>1800.0</th>\n",
       "      <th>1900.0</th>\n",
       "      <th>2000.0</th>\n",
       "      <th>2100.0</th>\n",
       "      <th>2200.0</th>\n",
       "      <th>2300.0</th>\n",
       "      <th>...</th>\n",
       "      <th>7600.0</th>\n",
       "      <th>7700.0</th>\n",
       "      <th>7800.0</th>\n",
       "      <th>7900.0</th>\n",
       "      <th>8000.0</th>\n",
       "      <th>8100.0</th>\n",
       "      <th>8200.0</th>\n",
       "      <th>8300.0</th>\n",
       "      <th>8400.0</th>\n",
       "      <th>8500.0</th>\n",
       "    </tr>\n",
       "    <tr>\n",
       "      <th>Date</th>\n",
       "      <th></th>\n",
       "      <th></th>\n",
       "      <th></th>\n",
       "      <th></th>\n",
       "      <th></th>\n",
       "      <th></th>\n",
       "      <th></th>\n",
       "      <th></th>\n",
       "      <th></th>\n",
       "      <th></th>\n",
       "      <th></th>\n",
       "      <th></th>\n",
       "      <th></th>\n",
       "      <th></th>\n",
       "      <th></th>\n",
       "      <th></th>\n",
       "      <th></th>\n",
       "      <th></th>\n",
       "      <th></th>\n",
       "      <th></th>\n",
       "      <th></th>\n",
       "    </tr>\n",
       "  </thead>\n",
       "  <tbody>\n",
       "    <tr>\n",
       "      <th>None</th>\n",
       "      <td>0</td>\n",
       "      <td>0</td>\n",
       "      <td>0</td>\n",
       "      <td>0</td>\n",
       "      <td>0</td>\n",
       "      <td>0</td>\n",
       "      <td>0</td>\n",
       "      <td>0</td>\n",
       "      <td>0</td>\n",
       "      <td>0</td>\n",
       "      <td>...</td>\n",
       "      <td>4.078515</td>\n",
       "      <td>2.575904</td>\n",
       "      <td>1.073293</td>\n",
       "      <td>0.643976</td>\n",
       "      <td>0.214659</td>\n",
       "      <td>0.214659</td>\n",
       "      <td>0.214659</td>\n",
       "      <td>0.214659</td>\n",
       "      <td>0.214659</td>\n",
       "      <td>0</td>\n",
       "    </tr>\n",
       "  </tbody>\n",
       "</table>\n",
       "<p>1 rows × 72 columns</p>\n",
       "</div>"
      ],
      "text/plain": [
       "      1400  1500  1600  1700  1800  1900  2000  2100  2200  2300  ...   \\\n",
       "Date                                                              ...    \n",
       "None     0     0     0     0     0     0     0     0     0     0  ...    \n",
       "\n",
       "          7600      7700      7800      7900      8000      8100      8200  \\\n",
       "Date                                                                         \n",
       "None  4.078515  2.575904  1.073293  0.643976  0.214659  0.214659  0.214659   \n",
       "\n",
       "          8300      8400  8500  \n",
       "Date                            \n",
       "None  0.214659  0.214659     0  \n",
       "\n",
       "[1 rows x 72 columns]"
      ]
     },
     "execution_count": 45,
     "metadata": {},
     "output_type": "execute_result"
    }
   ],
   "source": [
    "hypsh24v05.data"
   ]
  },
  {
   "cell_type": "code",
   "execution_count": 46,
   "metadata": {
    "collapsed": true
   },
   "outputs": [],
   "source": [
    "all = hypsh23v05.data + hypsh24v05.data"
   ]
  },
  {
   "cell_type": "code",
   "execution_count": 47,
   "metadata": {
    "collapsed": false
   },
   "outputs": [
    {
     "data": {
      "text/html": [
       "<div>\n",
       "<table border=\"1\" class=\"dataframe\">\n",
       "  <thead>\n",
       "    <tr style=\"text-align: right;\">\n",
       "      <th></th>\n",
       "      <th>1400.0</th>\n",
       "      <th>1500.0</th>\n",
       "      <th>1600.0</th>\n",
       "      <th>1700.0</th>\n",
       "      <th>1800.0</th>\n",
       "      <th>1900.0</th>\n",
       "      <th>2000.0</th>\n",
       "      <th>2100.0</th>\n",
       "      <th>2200.0</th>\n",
       "      <th>2300.0</th>\n",
       "      <th>...</th>\n",
       "      <th>7600.0</th>\n",
       "      <th>7700.0</th>\n",
       "      <th>7800.0</th>\n",
       "      <th>7900.0</th>\n",
       "      <th>8000.0</th>\n",
       "      <th>8100.0</th>\n",
       "      <th>8200.0</th>\n",
       "      <th>8300.0</th>\n",
       "      <th>8400.0</th>\n",
       "      <th>8500.0</th>\n",
       "    </tr>\n",
       "    <tr>\n",
       "      <th>Date</th>\n",
       "      <th></th>\n",
       "      <th></th>\n",
       "      <th></th>\n",
       "      <th></th>\n",
       "      <th></th>\n",
       "      <th></th>\n",
       "      <th></th>\n",
       "      <th></th>\n",
       "      <th></th>\n",
       "      <th></th>\n",
       "      <th></th>\n",
       "      <th></th>\n",
       "      <th></th>\n",
       "      <th></th>\n",
       "      <th></th>\n",
       "      <th></th>\n",
       "      <th></th>\n",
       "      <th></th>\n",
       "      <th></th>\n",
       "      <th></th>\n",
       "      <th></th>\n",
       "    </tr>\n",
       "  </thead>\n",
       "  <tbody>\n",
       "    <tr>\n",
       "      <th>None</th>\n",
       "      <td>0</td>\n",
       "      <td>0</td>\n",
       "      <td>0</td>\n",
       "      <td>0</td>\n",
       "      <td>0</td>\n",
       "      <td>0</td>\n",
       "      <td>0</td>\n",
       "      <td>0</td>\n",
       "      <td>0</td>\n",
       "      <td>0</td>\n",
       "      <td>...</td>\n",
       "      <td>4.293173</td>\n",
       "      <td>2.790563</td>\n",
       "      <td>1.073293</td>\n",
       "      <td>NaN</td>\n",
       "      <td>NaN</td>\n",
       "      <td>NaN</td>\n",
       "      <td>NaN</td>\n",
       "      <td>NaN</td>\n",
       "      <td>NaN</td>\n",
       "      <td>NaN</td>\n",
       "    </tr>\n",
       "  </tbody>\n",
       "</table>\n",
       "<p>1 rows × 72 columns</p>\n",
       "</div>"
      ],
      "text/plain": [
       "      1400  1500  1600  1700  1800  1900  2000  2100  2200  2300  ...   \\\n",
       "Date                                                              ...    \n",
       "None     0     0     0     0     0     0     0     0     0     0  ...    \n",
       "\n",
       "          7600      7700      7800  7900  8000  8100  8200  8300  8400  8500  \n",
       "Date                                                                          \n",
       "None  4.293173  2.790563  1.073293   NaN   NaN   NaN   NaN   NaN   NaN   NaN  \n",
       "\n",
       "[1 rows x 72 columns]"
      ]
     },
     "execution_count": 47,
     "metadata": {},
     "output_type": "execute_result"
    }
   ],
   "source": [
    "all"
   ]
  },
  {
   "cell_type": "code",
   "execution_count": 50,
   "metadata": {
    "collapsed": false
   },
   "outputs": [],
   "source": [
    "orig = hypsometry.Hypsometry(filename='/Users/brodzik/projects/CHARIS/snow_cover/modice.v0.4/IN_Hunza_at_Danyour.0100m.modicev04_1strike_area_by_elev.txt')"
   ]
  },
  {
   "cell_type": "code",
   "execution_count": 51,
   "metadata": {
    "collapsed": false
   },
   "outputs": [
    {
     "data": {
      "text/html": [
       "<div>\n",
       "<table border=\"1\" class=\"dataframe\">\n",
       "  <thead>\n",
       "    <tr style=\"text-align: right;\">\n",
       "      <th></th>\n",
       "      <th>1400.</th>\n",
       "      <th>1500.</th>\n",
       "      <th>1600.</th>\n",
       "      <th>1700.</th>\n",
       "      <th>1800.</th>\n",
       "      <th>1900.</th>\n",
       "      <th>2000.</th>\n",
       "      <th>2100.</th>\n",
       "      <th>2200.</th>\n",
       "      <th>2300.</th>\n",
       "      <th>...</th>\n",
       "      <th>6800.</th>\n",
       "      <th>6900.</th>\n",
       "      <th>7000.</th>\n",
       "      <th>7100.</th>\n",
       "      <th>7200.</th>\n",
       "      <th>7300.</th>\n",
       "      <th>7400.</th>\n",
       "      <th>7500.</th>\n",
       "      <th>7600.</th>\n",
       "      <th>7700.</th>\n",
       "    </tr>\n",
       "    <tr>\n",
       "      <th>Date</th>\n",
       "      <th></th>\n",
       "      <th></th>\n",
       "      <th></th>\n",
       "      <th></th>\n",
       "      <th></th>\n",
       "      <th></th>\n",
       "      <th></th>\n",
       "      <th></th>\n",
       "      <th></th>\n",
       "      <th></th>\n",
       "      <th></th>\n",
       "      <th></th>\n",
       "      <th></th>\n",
       "      <th></th>\n",
       "      <th></th>\n",
       "      <th></th>\n",
       "      <th></th>\n",
       "      <th></th>\n",
       "      <th></th>\n",
       "      <th></th>\n",
       "      <th></th>\n",
       "    </tr>\n",
       "  </thead>\n",
       "  <tbody>\n",
       "    <tr>\n",
       "      <th>NaN</th>\n",
       "      <td>0</td>\n",
       "      <td>0</td>\n",
       "      <td>0</td>\n",
       "      <td>0</td>\n",
       "      <td>0</td>\n",
       "      <td>0</td>\n",
       "      <td>0</td>\n",
       "      <td>0</td>\n",
       "      <td>0</td>\n",
       "      <td>0</td>\n",
       "      <td>...</td>\n",
       "      <td>18.68</td>\n",
       "      <td>16.31</td>\n",
       "      <td>10.95</td>\n",
       "      <td>11.16</td>\n",
       "      <td>8.37</td>\n",
       "      <td>4.51</td>\n",
       "      <td>3.22</td>\n",
       "      <td>3.22</td>\n",
       "      <td>1.29</td>\n",
       "      <td>0.21</td>\n",
       "    </tr>\n",
       "  </tbody>\n",
       "</table>\n",
       "<p>1 rows × 64 columns</p>\n",
       "</div>"
      ],
      "text/plain": [
       "      1400.  1500.  1600.  1700.  1800.  1900.  2000.  2100.  2200.  2300.  \\\n",
       "Date                                                                         \n",
       "NaN       0      0      0      0      0      0      0      0      0      0   \n",
       "\n",
       "      ...    6800.  6900.  7000.  7100.  7200.  7300.  7400.  7500.  7600.  \\\n",
       "Date  ...                                                                    \n",
       "NaN   ...    18.68  16.31  10.95  11.16   8.37   4.51   3.22   3.22   1.29   \n",
       "\n",
       "      7700.  \n",
       "Date         \n",
       "NaN    0.21  \n",
       "\n",
       "[1 rows x 64 columns]"
      ]
     },
     "execution_count": 51,
     "metadata": {},
     "output_type": "execute_result"
    }
   ],
   "source": [
    "orig.data"
   ]
  },
  {
   "cell_type": "code",
   "execution_count": null,
   "metadata": {
    "collapsed": true
   },
   "outputs": [],
   "source": []
  }
 ],
 "metadata": {
  "kernelspec": {
   "display_name": "Python 2",
   "language": "python",
   "name": "python2"
  },
  "language_info": {
   "codemirror_mode": {
    "name": "ipython",
    "version": 2
   },
   "file_extension": ".py",
   "mimetype": "text/x-python",
   "name": "python",
   "nbconvert_exporter": "python",
   "pygments_lexer": "ipython2",
   "version": "2.7.12"
  }
 },
 "nbformat": 4,
 "nbformat_minor": 0
}
