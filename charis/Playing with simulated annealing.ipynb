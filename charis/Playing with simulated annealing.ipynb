{
 "cells": [
  {
   "cell_type": "markdown",
   "metadata": {},
   "source": [
    "<h2>Simulated Annealing, from example found online</h2>\n",
    "\n",
    "Questions to think about:\n",
    "\n",
    "<ul>\n",
    "    <li>What's a good starting point to use? (Doesn't matter)\n",
    "    <li>How to generate random next DDFs?\n",
    "    <li>What are constraints on the DDFs? \n",
    "        <ol>\n",
    "            <li>snow_min <= snow_max\n",
    "            <li>ice_min <=ice_max\n",
    "            <li>snow_min <= ice_min\n",
    "            \n",
    "        </ol>\n",
    "    <li>what about the behavior of the various melts?\n",
    "    <li>I'll have to run the model and calculate the cost function during the calibration, \n",
    "instead of ahead of time like they did here.\n",
    "</ul>\n",
    "\n"
   ]
  },
  {
   "cell_type": "code",
   "execution_count": null,
   "metadata": {},
   "outputs": [],
   "source": [
    "%pylab notebook"
   ]
  },
  {
   "cell_type": "code",
   "execution_count": null,
   "metadata": {},
   "outputs": [],
   "source": [
    "import matplotlib\n",
    "import numpy as np\n",
    "import matplotlib.pyplot as plt\n",
    "import random\n",
    "import math"
   ]
  },
  {
   "cell_type": "code",
   "execution_count": null,
   "metadata": {},
   "outputs": [],
   "source": [
    "# define objective function\n",
    "def f(x):\n",
    "    x1 = x[0]\n",
    "    x2 = x[1]\n",
    "    obj = 0.2 + x1**2 + x2**2 - 0.1*math.cos(6.0*2.1415*x1) - 0.1*math.cos(6.0*3.1415*x2)\n",
    "    return obj"
   ]
  },
  {
   "cell_type": "code",
   "execution_count": null,
   "metadata": {},
   "outputs": [],
   "source": [
    "# Start location\n",
    "x_start = [0.8, -0.5]"
   ]
  },
  {
   "cell_type": "code",
   "execution_count": null,
   "metadata": {},
   "outputs": [],
   "source": [
    "# Design variables at mesh points\n",
    "i1 = np.arange(-1.0,1.0, 0.01)\n",
    "i2 = np.arange(-1.0,1.0, 0.01)\n",
    "x1m, x2m = np.meshgrid(i1,i2)"
   ]
  },
  {
   "cell_type": "code",
   "execution_count": null,
   "metadata": {},
   "outputs": [],
   "source": [
    "# Define a surface that we want to minimize\n",
    "fm = np.zeros(x1m.shape)\n",
    "for i in range(x1m.shape[0]):\n",
    "    for j in range(x1m.shape[1]):\n",
    "        fm[i][j] = 0.2 + x1m[i][j]**2 + x2m[i][j]**2 \\\n",
    "        - 0.1*math.cos(6.0*3.1415*x1m[i][j]) \\\n",
    "        - 0.1*math.cos(6.0*3.1415*x2m[i][j])"
   ]
  },
  {
   "cell_type": "code",
   "execution_count": null,
   "metadata": {
    "scrolled": false
   },
   "outputs": [],
   "source": [
    "# Create a contour plot\n",
    "plt.figure()\n",
    "# Specify contour lines\n",
    "lines = np.arange(2,52,4)/25.\n",
    "# Plot contours\n",
    "CS = plt.contour(x1m,x2m, fm, lines)\n",
    "# Label contours\n",
    "plt.clabel(CS, inline=1, fontsize=10)\n",
    "# Add some text to the plot\n",
    "plt.title('Non-Convex Function')\n",
    "plt.xlabel('x1')\n",
    "plt.ylabel('x2')"
   ]
  },
  {
   "cell_type": "code",
   "execution_count": null,
   "metadata": {},
   "outputs": [],
   "source": [
    "# simulated annealing\n",
    "# Number of cycles\n",
    "n = 50\n",
    "# Number of trials per cycle\n",
    "m = 50\n",
    "# Number of accepted solutions\n",
    "na = 0.0\n",
    "# Probability of accepting worse solution at the start\n",
    "p1 = 0.7\n",
    "p1 = 0.8\n",
    "# Probability of accepting worse solution at the end\n",
    "p50 = 0.001\n",
    "# Initial temperature\n",
    "t1 = -1.0 / math.log(p1)\n",
    "# Final temperature\n",
    "t50 = -1.0 / math.log(p50)\n",
    "# Fraction reduction every cycle\n",
    "frac = (t50/t1)**(1.0/(n-1.0))\n",
    "# Initialize x\n",
    "x = np.zeros((n+1,2))\n",
    "x[0] = x_start\n",
    "xi = np.zeros(2)\n",
    "xi = x_start\n",
    "na = na + 1.0"
   ]
  },
  {
   "cell_type": "code",
   "execution_count": null,
   "metadata": {},
   "outputs": [],
   "source": [
    "# Current best results so far\n",
    "xc = np.zeros(2)\n",
    "xc = x[0]\n",
    "fc = f(xi)\n",
    "fs = np.zeros(n+1)\n",
    "fs[0] = fc\n",
    "# Current temperature\n",
    "t = t1\n",
    "# DeltaE Average\n",
    "DeltaE_avg = 0.0"
   ]
  },
  {
   "cell_type": "code",
   "execution_count": null,
   "metadata": {},
   "outputs": [],
   "source": [
    "for i in range(n):\n",
    "    print(\"Cycle: %d with Temperature: %f\" % (i, t))\n",
    "    for j in range(m):\n",
    "        # Generate new trial points\n",
    "        xi[0] = xc[0] + random.random() - 0.5\n",
    "        xi[1] = xc[1] + random.random() - 0.5\n",
    "        \n",
    "        # Clip to upper and lower bounds\n",
    "        xi[0] = max(min(xi[0],1.0), -1.0)\n",
    "        xi[1] = max(min(xi[1],1.0), -1.0)\n",
    "        \n",
    "        DeltaE = abs(f(xi) - fc)\n",
    "        if (f(xi) > fc):\n",
    "            \n",
    "            # Initialize DeltaE_avg if a worse solution was found\n",
    "            # on the first iteration\n",
    "            if (i==0 and j==0): DeltaE_avg = DeltaE\n",
    "                \n",
    "            # objective function is worse\n",
    "            # generate prob of acceptance\n",
    "            p = math.exp(-DeltaE/(DeltaE_avg * t))\n",
    "            \n",
    "            # determine whether to accept worse point\n",
    "            if (random.random() < p):\n",
    "                # accept the worse solution\n",
    "                accept = True\n",
    "            else:\n",
    "                # don't accept the worse solution\n",
    "                accept = False\n",
    "        else:\n",
    "            \n",
    "            # objective function is lower, automatically accept\n",
    "            accept = True\n",
    "        \n",
    "        if (accept == True):\n",
    "            \n",
    "            # update the currently accepted solution\n",
    "            xc[0] = xi[0]\n",
    "            xc[1] = xi[1]\n",
    "            fc = f(xc)\n",
    "            \n",
    "            # increment number of accepted solutions\n",
    "            na = na + 1.0\n",
    "            # update DeltaE_avg\n",
    "            DeltaE_avg = (DeltaE_avg * (na - 1.0) + DeltaE) / na\n",
    "            \n",
    "    # Record the best x values at the end of every cycle\n",
    "    x[i+1][0] = xc[0]\n",
    "    x[i+1][1] = xc[1]\n",
    "    fs[i+1] = fc\n",
    "    \n",
    "    # Lower the temperature for the next cycle\n",
    "    t = frac * t\n",
    "\n",
    "# print solution\n",
    "print \"Best solution: \" + str(xc)\n",
    "print \"Best objective: \" + str(fc)"
   ]
  },
  {
   "cell_type": "code",
   "execution_count": null,
   "metadata": {},
   "outputs": [],
   "source": [
    "plt.plot(x[:,0], x[:,1], 'y-o')\n",
    "plt.savefig('contour.png')"
   ]
  },
  {
   "cell_type": "code",
   "execution_count": null,
   "metadata": {},
   "outputs": [],
   "source": [
    "fig = plt.figure()\n",
    "ax1 = fig.add_subplot(211)\n",
    "ax1.plot(fs,'r.-')\n",
    "ax1.legend(['Objective'])\n",
    "ax2 = fig.add_subplot(212)\n",
    "ax2.plot(x[:,0], 'b.-')\n",
    "ax2.plot(x[:,1], 'g--')\n",
    "ax2.legend(['x1','x2'])"
   ]
  },
  {
   "cell_type": "code",
   "execution_count": null,
   "metadata": {},
   "outputs": [],
   "source": []
  }
 ],
 "metadata": {
  "kernelspec": {
   "display_name": "charis",
   "language": "python",
   "name": "charis"
  },
  "language_info": {
   "codemirror_mode": {
    "name": "ipython",
    "version": 2
   },
   "file_extension": ".py",
   "mimetype": "text/x-python",
   "name": "python",
   "nbconvert_exporter": "python",
   "pygments_lexer": "ipython2",
   "version": "2.7.14"
  }
 },
 "nbformat": 4,
 "nbformat_minor": 1
}
