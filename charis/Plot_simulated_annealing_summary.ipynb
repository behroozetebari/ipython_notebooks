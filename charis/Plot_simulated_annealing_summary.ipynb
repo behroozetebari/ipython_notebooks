{
 "cells": [
  {
   "cell_type": "code",
   "execution_count": null,
   "metadata": {},
   "outputs": [],
   "source": [
    "import matplotlib.pyplot as plt\n",
    "import pandas as pd"
   ]
  },
  {
   "cell_type": "code",
   "execution_count": null,
   "metadata": {},
   "outputs": [],
   "source": [
    "%cd /work/charis/ti_model/calibrations\n",
    "%ls"
   ]
  },
  {
   "cell_type": "code",
   "execution_count": null,
   "metadata": {},
   "outputs": [],
   "source": [
    "file = \"IN_Hunza_at_DainyorBridge_3str_DDFnbr=10mm_N050_M050.SA_summary.dat\"\n",
    "drainageid = \"IN_Hunza_at_DainyorBridge\"\n",
    "label = \"3str DDFnbr=10mm N050 M050\""
   ]
  },
  {
   "cell_type": "code",
   "execution_count": null,
   "metadata": {},
   "outputs": [],
   "source": [
    "import re\n",
    "# summary file is like this: AM_Vakhsh_at_Komsomolabad_3str_DDFnbr=10mm_N050_M050.SA_summary.dat\n",
    "# drainageid is string\n",
    "# label is string\n",
    "# output will be written to : drainageid_label.SA_summary.png\n",
    "def plot_sa_summary(file, drainageid, label):\n",
    "    caldf = pd.read_pickle(file)\n",
    "    \n",
    "    best_model = \"%.2f_%.2f_%.2f_%.2f\" % (\n",
    "        caldf.iloc[-1].winter_snow_ddf,\n",
    "        caldf.iloc[-1].summer_snow_ddf,\n",
    "        caldf.iloc[-1].winter_ice_ddf,\n",
    "        caldf.iloc[-1].summer_ice_ddf)\n",
    "    \n",
    "    # Parse the filename for nCycles and nTrials\n",
    "    p = re.compile(r\"_N(\\d*)_M(\\d*)\")\n",
    "    m = p.search(file)\n",
    "    numCycles = int(m.group(1))\n",
    "    numTrials = int(m.group(2))\n",
    "    \n",
    "    fig, ax = plt.subplots(2, 1, figsize=(8,6))\n",
    "\n",
    "    fig.suptitle(\n",
    "                \"%s Best by SA=%s\\n(%s)\" % (\n",
    "                drainageid, \n",
    "                best_model,\n",
    "                label),\n",
    "            fontsize=12)\n",
    "\n",
    "    caldf[\"min_cycle_z\"].plot(ax=ax[0], style='k.-')\n",
    "    ax[0].legend([\"Cost\"])\n",
    "    ax[0].set_ylabel('Cost')\n",
    "\n",
    "    ddfs = caldf.drop(labels='min_cycle_z', axis=1)\n",
    "    ddfs.plot(ax=ax[1], style=['b.-', 'b--', 'r.-', 'r--'])\n",
    "    handles, labels = ax[1].get_legend_handles_labels()\n",
    "    ax[1].legend(handles[::-1], labels[::-1])\n",
    "    ax[1].set_xlabel('Calibration Cycle (%d trials/cycle)' % numTrials)\n",
    "    ax[1].set_ylabel('DDF ($mm$)')\n",
    "    \n",
    "    fig.tight_layout()\n",
    "    fig.subplots_adjust(top=0.86)\n",
    "\n",
    "    outfile = \"%s_%s.SA_summary.png\" % (drainageid, label.replace(\" \", \"_\"))\n",
    "    plt.savefig(outfile)\n",
    "    print(\"Plot saved to %s\" % outfile)\n"
   ]
  },
  {
   "cell_type": "code",
   "execution_count": null,
   "metadata": {},
   "outputs": [],
   "source": [
    "#caldf = pd.read_pickle(file)\n",
    "#caldf"
   ]
  },
  {
   "cell_type": "code",
   "execution_count": null,
   "metadata": {
    "scrolled": false
   },
   "outputs": [],
   "source": [
    "plot_sa_summary(file, drainageid, label)"
   ]
  },
  {
   "cell_type": "code",
   "execution_count": null,
   "metadata": {},
   "outputs": [],
   "source": [
    "caldf.iloc[-1].winter_snow_ddf"
   ]
  },
  {
   "cell_type": "code",
   "execution_count": null,
   "metadata": {},
   "outputs": [],
   "source": [
    "test = \"this_is_a_test_N050_M030\"\n",
    "p = re.compile(r\"_N(\\d*)_\")\n",
    "m = p.search(test)\n",
    "m.group(1)"
   ]
  },
  {
   "cell_type": "code",
   "execution_count": null,
   "metadata": {},
   "outputs": [],
   "source": [
    "int(m.group(1))"
   ]
  },
  {
   "cell_type": "code",
   "execution_count": null,
   "metadata": {},
   "outputs": [],
   "source": []
  }
 ],
 "metadata": {
  "kernelspec": {
   "display_name": "charis",
   "language": "python",
   "name": "charis"
  },
  "language_info": {
   "codemirror_mode": {
    "name": "ipython",
    "version": 2
   },
   "file_extension": ".py",
   "mimetype": "text/x-python",
   "name": "python",
   "nbconvert_exporter": "python",
   "pygments_lexer": "ipython2",
   "version": "2.7.14"
  }
 },
 "nbformat": 4,
 "nbformat_minor": 2
}
