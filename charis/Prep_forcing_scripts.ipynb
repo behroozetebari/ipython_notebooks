{
 "cells": [
  {
   "cell_type": "code",
   "execution_count": null,
   "metadata": {
    "collapsed": false
   },
   "outputs": [],
   "source": [
    "#\n",
    "%pylab notebook\n",
    "from charistools.readers import read_tile\n",
    "import glob\n",
    "import numpy as np\n",
    "import matplotlib.pyplot as plt\n",
    "import pandas as pd\n",
    "import re\n",
    "pd.options.display.max_rows = 200"
   ]
  },
  {
   "cell_type": "code",
   "execution_count": null,
   "metadata": {
    "collapsed": false
   },
   "outputs": [],
   "source": [
    "basin_name = \"IN\"\n",
    "basin = \"%s_snow_subs_basins_modis_masks\" % basin_name\n",
    "%cd /Users/brodzik/projects/CHARIS/basins/subbasins_of_major_basins/\n",
    "%cd $basin"
   ]
  },
  {
   "cell_type": "code",
   "execution_count": null,
   "metadata": {
    "collapsed": false
   },
   "outputs": [],
   "source": [
    "# process multiple-tile basins before single-tile basins, so they start first\n",
    "list = glob.glob(\"??_[1-4]tile_basins_with_h23-4.txt\")\n",
    "list = sorted(list, reverse=True)\n",
    "list"
   ]
  },
  {
   "cell_type": "code",
   "execution_count": null,
   "metadata": {
    "collapsed": false
   },
   "outputs": [],
   "source": [
    "start_year = 2001\n",
    "stop_year = 2014\n",
    "years = np.arange(stop_year - start_year + 1) + start_year\n",
    "years"
   ]
  },
  {
   "cell_type": "code",
   "execution_count": null,
   "metadata": {
    "collapsed": true
   },
   "outputs": [],
   "source": [
    "nstrikes = 1"
   ]
  },
  {
   "cell_type": "code",
   "execution_count": null,
   "metadata": {
    "collapsed": false,
    "scrolled": true
   },
   "outputs": [],
   "source": [
    "out_fh = open(\"%s_run_forcings_with_h23-4.sh\" % (basin_name), \"w\")\n",
    "count = 0\n",
    "for file in list:\n",
    "    with open(file, \"r\") as f:\n",
    "        subbasins = f.readlines()\n",
    "        for subbasin in subbasins:\n",
    "            print(\"Next: %s\" % subbasin)\n",
    "            for year in years:\n",
    "                out_fh.write(\"/projects/brodzik/charis_ti_melt/run_forcings.py --year=%d --nstrikes=%d %s\" % (\n",
    "                    year, nstrikes, subbasin))\n",
    "                count = count + 1\n",
    "out_fh.close()        "
   ]
  },
  {
   "cell_type": "code",
   "execution_count": null,
   "metadata": {
    "collapsed": false,
    "scrolled": true
   },
   "outputs": [],
   "source": [
    "%cat IN_run_forcings_with_h23-4.sh"
   ]
  },
  {
   "cell_type": "code",
   "execution_count": null,
   "metadata": {
    "collapsed": false
   },
   "outputs": [],
   "source": [
    "print(\"count=%d, use %d nodes, assuming 12 tasks/node\" % (count, (count+1)/12 + 1))"
   ]
  },
  {
   "cell_type": "code",
   "execution_count": null,
   "metadata": {
    "collapsed": false
   },
   "outputs": [],
   "source": [
    "print 51*12"
   ]
  },
  {
   "cell_type": "code",
   "execution_count": null,
   "metadata": {
    "collapsed": false
   },
   "outputs": [],
   "source": [
    "72*12"
   ]
  },
  {
   "cell_type": "code",
   "execution_count": null,
   "metadata": {
    "collapsed": true
   },
   "outputs": [],
   "source": []
  }
 ],
 "metadata": {
  "kernelspec": {
   "display_name": "Python 2",
   "language": "python",
   "name": "python2"
  },
  "language_info": {
   "codemirror_mode": {
    "name": "ipython",
    "version": 2
   },
   "file_extension": ".py",
   "mimetype": "text/x-python",
   "name": "python",
   "nbconvert_exporter": "python",
   "pygments_lexer": "ipython2",
   "version": "2.7.12"
  }
 },
 "nbformat": 4,
 "nbformat_minor": 0
}
