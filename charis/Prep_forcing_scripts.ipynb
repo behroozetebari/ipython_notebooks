{
 "cells": [
  {
   "cell_type": "code",
   "execution_count": 1,
   "metadata": {
    "collapsed": false
   },
   "outputs": [
    {
     "name": "stderr",
     "output_type": "stream",
     "text": [
      "/Users/brodzik/.conda/envs/charis/lib/python2.7/site-packages/matplotlib/font_manager.py:273: UserWarning: Matplotlib is building the font cache using fc-list. This may take a moment.\n",
      "  warnings.warn('Matplotlib is building the font cache using fc-list. This may take a moment.')\n"
     ]
    },
    {
     "name": "stdout",
     "output_type": "stream",
     "text": [
      "Populating the interactive namespace from numpy and matplotlib\n"
     ]
    }
   ],
   "source": [
    "%pylab notebook\n",
    "from charistools.readers import read_tile\n",
    "import glob\n",
    "import numpy as np\n",
    "import matplotlib.pyplot as plt\n",
    "import pandas as pd\n",
    "import re\n",
    "pd.options.display.max_rows = 200"
   ]
  },
  {
   "cell_type": "code",
   "execution_count": 2,
   "metadata": {
    "collapsed": false
   },
   "outputs": [
    {
     "name": "stdout",
     "output_type": "stream",
     "text": [
      "/Users/brodzik/projects/CHARIS/basins/subbasins_of_major_basins\n",
      "/Users/brodzik/projects/CHARIS/basins/subbasins_of_major_basins/SY_v01_snow_subs_basins_modis_masks\n"
     ]
    }
   ],
   "source": [
    "#basin_name = \"IN_v01\"\n",
    "#basin_name = \"AM\"\n",
    "basin_name = \"SY_v01\"\n",
    "#basin_name = \"BR\"\n",
    "#basin_name = \"GA_v01\"\n",
    "basin = \"%s_snow_subs_basins_modis_masks\" % basin_name\n",
    "%cd /Users/brodzik/projects/CHARIS/basins/subbasins_of_major_basins/\n",
    "%cd $basin"
   ]
  },
  {
   "cell_type": "code",
   "execution_count": 3,
   "metadata": {
    "collapsed": false
   },
   "outputs": [
    {
     "data": {
      "text/plain": [
       "['SY_3tile_basins.txt', 'SY_2tile_basins.txt', 'SY_1tile_basins.txt']"
      ]
     },
     "execution_count": 3,
     "metadata": {},
     "output_type": "execute_result"
    }
   ],
   "source": [
    "# process multiple-tile basins before single-tile basins, so they start first\n",
    "list = glob.glob(\"*_[1-4]tile_basins.txt\")\n",
    "list = sorted(list, reverse=True)\n",
    "list"
   ]
  },
  {
   "cell_type": "code",
   "execution_count": 4,
   "metadata": {
    "collapsed": false
   },
   "outputs": [
    {
     "data": {
      "text/plain": [
       "array([2001, 2002, 2003, 2004, 2005, 2006, 2007, 2008, 2009, 2010, 2011,\n",
       "       2012, 2013, 2014])"
      ]
     },
     "execution_count": 4,
     "metadata": {},
     "output_type": "execute_result"
    }
   ],
   "source": [
    "start_year = 2001\n",
    "stop_year = 2014\n",
    "years = np.arange(stop_year - start_year + 1) + start_year\n",
    "years"
   ]
  },
  {
   "cell_type": "code",
   "execution_count": 5,
   "metadata": {
    "collapsed": true
   },
   "outputs": [],
   "source": [
    "nstrikes = 3"
   ]
  },
  {
   "cell_type": "code",
   "execution_count": 6,
   "metadata": {
    "collapsed": false,
    "scrolled": true
   },
   "outputs": [
    {
     "name": "stdout",
     "output_type": "stream",
     "text": [
      "Next: SY_v01_OBJECTID961\n",
      "\n",
      "Next: SY_v01_OBJECTID950\n",
      "\n",
      "Next: SY_v01_OBJECTID951\n",
      "\n",
      "Next: SY_v01_OBJECTID964\n",
      "\n",
      "Next: SY_v01_OBJECTID965\n",
      "\n",
      "Next: SY_v01_OBJECTID966\n",
      "\n",
      "Next: SY_v01_OBJECTID967\n",
      "\n",
      "Next: SY_v01_OBJECTID941\n",
      "\n",
      "Next: SY_v01_OBJECTID952\n",
      "\n",
      "Next: SY_v01_OBJECTID953\n",
      "\n",
      "Next: SY_v01_OBJECTID955\n",
      "\n",
      "Next: SY_v01_OBJECTID956\n",
      "\n",
      "Next: SY_v01_OBJECTID957\n",
      "\n",
      "Next: SY_v01_OBJECTID958\n",
      "\n",
      "Next: SY_v01_OBJECTID959\n",
      "\n",
      "Next: SY_v01_OBJECTID960\n",
      "\n",
      "Next: SY_v01_OBJECTID962\n",
      "\n"
     ]
    }
   ],
   "source": [
    "out_fh = open(\"%s_run_forcings_%dstrikes.sh\" % (basin_name, nstrikes), \"w\")\n",
    "count = 0\n",
    "for file in list:\n",
    "    with open(file, \"r\") as f:\n",
    "        subbasins = f.readlines()\n",
    "        for subbasin in subbasins:\n",
    "            print(\"Next: %s\" % subbasin)\n",
    "            for year in years:\n",
    "                out_fh.write(\"run_forcings.py --year=%d --nstrikes=%d --use_daily_threshold_file=True %s\" % (\n",
    "                    year, nstrikes, subbasin))\n",
    "                count = count + 1\n",
    "out_fh.close()        "
   ]
  },
  {
   "cell_type": "code",
   "execution_count": 7,
   "metadata": {
    "collapsed": false,
    "scrolled": true
   },
   "outputs": [
    {
     "name": "stdout",
     "output_type": "stream",
     "text": [
      "run_forcings.py --year=2001 --nstrikes=3 --use_daily_threshold_file=True SY_v01_OBJECTID961\r\n",
      "run_forcings.py --year=2002 --nstrikes=3 --use_daily_threshold_file=True SY_v01_OBJECTID961\r\n",
      "run_forcings.py --year=2003 --nstrikes=3 --use_daily_threshold_file=True SY_v01_OBJECTID961\r\n",
      "run_forcings.py --year=2004 --nstrikes=3 --use_daily_threshold_file=True SY_v01_OBJECTID961\r\n",
      "run_forcings.py --year=2005 --nstrikes=3 --use_daily_threshold_file=True SY_v01_OBJECTID961\r\n",
      "run_forcings.py --year=2006 --nstrikes=3 --use_daily_threshold_file=True SY_v01_OBJECTID961\r\n",
      "run_forcings.py --year=2007 --nstrikes=3 --use_daily_threshold_file=True SY_v01_OBJECTID961\r\n",
      "run_forcings.py --year=2008 --nstrikes=3 --use_daily_threshold_file=True SY_v01_OBJECTID961\r\n",
      "run_forcings.py --year=2009 --nstrikes=3 --use_daily_threshold_file=True SY_v01_OBJECTID961\r\n",
      "run_forcings.py --year=2010 --nstrikes=3 --use_daily_threshold_file=True SY_v01_OBJECTID961\r\n",
      "run_forcings.py --year=2011 --nstrikes=3 --use_daily_threshold_file=True SY_v01_OBJECTID961\r\n",
      "run_forcings.py --year=2012 --nstrikes=3 --use_daily_threshold_file=True SY_v01_OBJECTID961\r\n",
      "run_forcings.py --year=2013 --nstrikes=3 --use_daily_threshold_file=True SY_v01_OBJECTID961\r\n",
      "run_forcings.py --year=2014 --nstrikes=3 --use_daily_threshold_file=True SY_v01_OBJECTID961\r\n",
      "run_forcings.py --year=2001 --nstrikes=3 --use_daily_threshold_file=True SY_v01_OBJECTID950\r\n",
      "run_forcings.py --year=2002 --nstrikes=3 --use_daily_threshold_file=True SY_v01_OBJECTID950\r\n",
      "run_forcings.py --year=2003 --nstrikes=3 --use_daily_threshold_file=True SY_v01_OBJECTID950\r\n",
      "run_forcings.py --year=2004 --nstrikes=3 --use_daily_threshold_file=True SY_v01_OBJECTID950\r\n",
      "run_forcings.py --year=2005 --nstrikes=3 --use_daily_threshold_file=True SY_v01_OBJECTID950\r\n",
      "run_forcings.py --year=2006 --nstrikes=3 --use_daily_threshold_file=True SY_v01_OBJECTID950\r\n",
      "run_forcings.py --year=2007 --nstrikes=3 --use_daily_threshold_file=True SY_v01_OBJECTID950\r\n",
      "run_forcings.py --year=2008 --nstrikes=3 --use_daily_threshold_file=True SY_v01_OBJECTID950\r\n",
      "run_forcings.py --year=2009 --nstrikes=3 --use_daily_threshold_file=True SY_v01_OBJECTID950\r\n",
      "run_forcings.py --year=2010 --nstrikes=3 --use_daily_threshold_file=True SY_v01_OBJECTID950\r\n",
      "run_forcings.py --year=2011 --nstrikes=3 --use_daily_threshold_file=True SY_v01_OBJECTID950\r\n",
      "run_forcings.py --year=2012 --nstrikes=3 --use_daily_threshold_file=True SY_v01_OBJECTID950\r\n",
      "run_forcings.py --year=2013 --nstrikes=3 --use_daily_threshold_file=True SY_v01_OBJECTID950\r\n",
      "run_forcings.py --year=2014 --nstrikes=3 --use_daily_threshold_file=True SY_v01_OBJECTID950\r\n",
      "run_forcings.py --year=2001 --nstrikes=3 --use_daily_threshold_file=True SY_v01_OBJECTID951\r\n",
      "run_forcings.py --year=2002 --nstrikes=3 --use_daily_threshold_file=True SY_v01_OBJECTID951\r\n",
      "run_forcings.py --year=2003 --nstrikes=3 --use_daily_threshold_file=True SY_v01_OBJECTID951\r\n",
      "run_forcings.py --year=2004 --nstrikes=3 --use_daily_threshold_file=True SY_v01_OBJECTID951\r\n",
      "run_forcings.py --year=2005 --nstrikes=3 --use_daily_threshold_file=True SY_v01_OBJECTID951\r\n",
      "run_forcings.py --year=2006 --nstrikes=3 --use_daily_threshold_file=True SY_v01_OBJECTID951\r\n",
      "run_forcings.py --year=2007 --nstrikes=3 --use_daily_threshold_file=True SY_v01_OBJECTID951\r\n",
      "run_forcings.py --year=2008 --nstrikes=3 --use_daily_threshold_file=True SY_v01_OBJECTID951\r\n",
      "run_forcings.py --year=2009 --nstrikes=3 --use_daily_threshold_file=True SY_v01_OBJECTID951\r\n",
      "run_forcings.py --year=2010 --nstrikes=3 --use_daily_threshold_file=True SY_v01_OBJECTID951\r\n",
      "run_forcings.py --year=2011 --nstrikes=3 --use_daily_threshold_file=True SY_v01_OBJECTID951\r\n",
      "run_forcings.py --year=2012 --nstrikes=3 --use_daily_threshold_file=True SY_v01_OBJECTID951\r\n",
      "run_forcings.py --year=2013 --nstrikes=3 --use_daily_threshold_file=True SY_v01_OBJECTID951\r\n",
      "run_forcings.py --year=2014 --nstrikes=3 --use_daily_threshold_file=True SY_v01_OBJECTID951\r\n",
      "run_forcings.py --year=2001 --nstrikes=3 --use_daily_threshold_file=True SY_v01_OBJECTID964\r\n",
      "run_forcings.py --year=2002 --nstrikes=3 --use_daily_threshold_file=True SY_v01_OBJECTID964\r\n",
      "run_forcings.py --year=2003 --nstrikes=3 --use_daily_threshold_file=True SY_v01_OBJECTID964\r\n",
      "run_forcings.py --year=2004 --nstrikes=3 --use_daily_threshold_file=True SY_v01_OBJECTID964\r\n",
      "run_forcings.py --year=2005 --nstrikes=3 --use_daily_threshold_file=True SY_v01_OBJECTID964\r\n",
      "run_forcings.py --year=2006 --nstrikes=3 --use_daily_threshold_file=True SY_v01_OBJECTID964\r\n",
      "run_forcings.py --year=2007 --nstrikes=3 --use_daily_threshold_file=True SY_v01_OBJECTID964\r\n",
      "run_forcings.py --year=2008 --nstrikes=3 --use_daily_threshold_file=True SY_v01_OBJECTID964\r\n",
      "run_forcings.py --year=2009 --nstrikes=3 --use_daily_threshold_file=True SY_v01_OBJECTID964\r\n",
      "run_forcings.py --year=2010 --nstrikes=3 --use_daily_threshold_file=True SY_v01_OBJECTID964\r\n",
      "run_forcings.py --year=2011 --nstrikes=3 --use_daily_threshold_file=True SY_v01_OBJECTID964\r\n",
      "run_forcings.py --year=2012 --nstrikes=3 --use_daily_threshold_file=True SY_v01_OBJECTID964\r\n",
      "run_forcings.py --year=2013 --nstrikes=3 --use_daily_threshold_file=True SY_v01_OBJECTID964\r\n",
      "run_forcings.py --year=2014 --nstrikes=3 --use_daily_threshold_file=True SY_v01_OBJECTID964\r\n",
      "run_forcings.py --year=2001 --nstrikes=3 --use_daily_threshold_file=True SY_v01_OBJECTID965\r\n",
      "run_forcings.py --year=2002 --nstrikes=3 --use_daily_threshold_file=True SY_v01_OBJECTID965\r\n",
      "run_forcings.py --year=2003 --nstrikes=3 --use_daily_threshold_file=True SY_v01_OBJECTID965\r\n",
      "run_forcings.py --year=2004 --nstrikes=3 --use_daily_threshold_file=True SY_v01_OBJECTID965\r\n",
      "run_forcings.py --year=2005 --nstrikes=3 --use_daily_threshold_file=True SY_v01_OBJECTID965\r\n",
      "run_forcings.py --year=2006 --nstrikes=3 --use_daily_threshold_file=True SY_v01_OBJECTID965\r\n",
      "run_forcings.py --year=2007 --nstrikes=3 --use_daily_threshold_file=True SY_v01_OBJECTID965\r\n",
      "run_forcings.py --year=2008 --nstrikes=3 --use_daily_threshold_file=True SY_v01_OBJECTID965\r\n",
      "run_forcings.py --year=2009 --nstrikes=3 --use_daily_threshold_file=True SY_v01_OBJECTID965\r\n",
      "run_forcings.py --year=2010 --nstrikes=3 --use_daily_threshold_file=True SY_v01_OBJECTID965\r\n",
      "run_forcings.py --year=2011 --nstrikes=3 --use_daily_threshold_file=True SY_v01_OBJECTID965\r\n",
      "run_forcings.py --year=2012 --nstrikes=3 --use_daily_threshold_file=True SY_v01_OBJECTID965\r\n",
      "run_forcings.py --year=2013 --nstrikes=3 --use_daily_threshold_file=True SY_v01_OBJECTID965\r\n",
      "run_forcings.py --year=2014 --nstrikes=3 --use_daily_threshold_file=True SY_v01_OBJECTID965\r\n",
      "run_forcings.py --year=2001 --nstrikes=3 --use_daily_threshold_file=True SY_v01_OBJECTID966\r\n",
      "run_forcings.py --year=2002 --nstrikes=3 --use_daily_threshold_file=True SY_v01_OBJECTID966\r\n",
      "run_forcings.py --year=2003 --nstrikes=3 --use_daily_threshold_file=True SY_v01_OBJECTID966\r\n",
      "run_forcings.py --year=2004 --nstrikes=3 --use_daily_threshold_file=True SY_v01_OBJECTID966\r\n",
      "run_forcings.py --year=2005 --nstrikes=3 --use_daily_threshold_file=True SY_v01_OBJECTID966\r\n",
      "run_forcings.py --year=2006 --nstrikes=3 --use_daily_threshold_file=True SY_v01_OBJECTID966\r\n",
      "run_forcings.py --year=2007 --nstrikes=3 --use_daily_threshold_file=True SY_v01_OBJECTID966\r\n",
      "run_forcings.py --year=2008 --nstrikes=3 --use_daily_threshold_file=True SY_v01_OBJECTID966\r\n",
      "run_forcings.py --year=2009 --nstrikes=3 --use_daily_threshold_file=True SY_v01_OBJECTID966\r\n",
      "run_forcings.py --year=2010 --nstrikes=3 --use_daily_threshold_file=True SY_v01_OBJECTID966\r\n",
      "run_forcings.py --year=2011 --nstrikes=3 --use_daily_threshold_file=True SY_v01_OBJECTID966\r\n",
      "run_forcings.py --year=2012 --nstrikes=3 --use_daily_threshold_file=True SY_v01_OBJECTID966\r\n",
      "run_forcings.py --year=2013 --nstrikes=3 --use_daily_threshold_file=True SY_v01_OBJECTID966\r\n",
      "run_forcings.py --year=2014 --nstrikes=3 --use_daily_threshold_file=True SY_v01_OBJECTID966\r\n",
      "run_forcings.py --year=2001 --nstrikes=3 --use_daily_threshold_file=True SY_v01_OBJECTID967\r\n",
      "run_forcings.py --year=2002 --nstrikes=3 --use_daily_threshold_file=True SY_v01_OBJECTID967\r\n",
      "run_forcings.py --year=2003 --nstrikes=3 --use_daily_threshold_file=True SY_v01_OBJECTID967\r\n",
      "run_forcings.py --year=2004 --nstrikes=3 --use_daily_threshold_file=True SY_v01_OBJECTID967\r\n",
      "run_forcings.py --year=2005 --nstrikes=3 --use_daily_threshold_file=True SY_v01_OBJECTID967\r\n",
      "run_forcings.py --year=2006 --nstrikes=3 --use_daily_threshold_file=True SY_v01_OBJECTID967\r\n",
      "run_forcings.py --year=2007 --nstrikes=3 --use_daily_threshold_file=True SY_v01_OBJECTID967\r\n",
      "run_forcings.py --year=2008 --nstrikes=3 --use_daily_threshold_file=True SY_v01_OBJECTID967\r\n",
      "run_forcings.py --year=2009 --nstrikes=3 --use_daily_threshold_file=True SY_v01_OBJECTID967\r\n",
      "run_forcings.py --year=2010 --nstrikes=3 --use_daily_threshold_file=True SY_v01_OBJECTID967\r\n",
      "run_forcings.py --year=2011 --nstrikes=3 --use_daily_threshold_file=True SY_v01_OBJECTID967\r\n",
      "run_forcings.py --year=2012 --nstrikes=3 --use_daily_threshold_file=True SY_v01_OBJECTID967\r\n",
      "run_forcings.py --year=2013 --nstrikes=3 --use_daily_threshold_file=True SY_v01_OBJECTID967\r\n",
      "run_forcings.py --year=2014 --nstrikes=3 --use_daily_threshold_file=True SY_v01_OBJECTID967\r\n",
      "run_forcings.py --year=2001 --nstrikes=3 --use_daily_threshold_file=True SY_v01_OBJECTID941\r\n",
      "run_forcings.py --year=2002 --nstrikes=3 --use_daily_threshold_file=True SY_v01_OBJECTID941\r\n",
      "run_forcings.py --year=2003 --nstrikes=3 --use_daily_threshold_file=True SY_v01_OBJECTID941\r\n",
      "run_forcings.py --year=2004 --nstrikes=3 --use_daily_threshold_file=True SY_v01_OBJECTID941\r\n",
      "run_forcings.py --year=2005 --nstrikes=3 --use_daily_threshold_file=True SY_v01_OBJECTID941\r\n",
      "run_forcings.py --year=2006 --nstrikes=3 --use_daily_threshold_file=True SY_v01_OBJECTID941\r\n",
      "run_forcings.py --year=2007 --nstrikes=3 --use_daily_threshold_file=True SY_v01_OBJECTID941\r\n",
      "run_forcings.py --year=2008 --nstrikes=3 --use_daily_threshold_file=True SY_v01_OBJECTID941\r\n",
      "run_forcings.py --year=2009 --nstrikes=3 --use_daily_threshold_file=True SY_v01_OBJECTID941\r\n",
      "run_forcings.py --year=2010 --nstrikes=3 --use_daily_threshold_file=True SY_v01_OBJECTID941\r\n",
      "run_forcings.py --year=2011 --nstrikes=3 --use_daily_threshold_file=True SY_v01_OBJECTID941\r\n",
      "run_forcings.py --year=2012 --nstrikes=3 --use_daily_threshold_file=True SY_v01_OBJECTID941\r\n",
      "run_forcings.py --year=2013 --nstrikes=3 --use_daily_threshold_file=True SY_v01_OBJECTID941\r\n",
      "run_forcings.py --year=2014 --nstrikes=3 --use_daily_threshold_file=True SY_v01_OBJECTID941\r\n",
      "run_forcings.py --year=2001 --nstrikes=3 --use_daily_threshold_file=True SY_v01_OBJECTID952\r\n",
      "run_forcings.py --year=2002 --nstrikes=3 --use_daily_threshold_file=True SY_v01_OBJECTID952\r\n",
      "run_forcings.py --year=2003 --nstrikes=3 --use_daily_threshold_file=True SY_v01_OBJECTID952\r\n",
      "run_forcings.py --year=2004 --nstrikes=3 --use_daily_threshold_file=True SY_v01_OBJECTID952\r\n",
      "run_forcings.py --year=2005 --nstrikes=3 --use_daily_threshold_file=True SY_v01_OBJECTID952\r\n",
      "run_forcings.py --year=2006 --nstrikes=3 --use_daily_threshold_file=True SY_v01_OBJECTID952\r\n",
      "run_forcings.py --year=2007 --nstrikes=3 --use_daily_threshold_file=True SY_v01_OBJECTID952\r\n",
      "run_forcings.py --year=2008 --nstrikes=3 --use_daily_threshold_file=True SY_v01_OBJECTID952\r\n",
      "run_forcings.py --year=2009 --nstrikes=3 --use_daily_threshold_file=True SY_v01_OBJECTID952\r\n",
      "run_forcings.py --year=2010 --nstrikes=3 --use_daily_threshold_file=True SY_v01_OBJECTID952\r\n",
      "run_forcings.py --year=2011 --nstrikes=3 --use_daily_threshold_file=True SY_v01_OBJECTID952\r\n",
      "run_forcings.py --year=2012 --nstrikes=3 --use_daily_threshold_file=True SY_v01_OBJECTID952\r\n",
      "run_forcings.py --year=2013 --nstrikes=3 --use_daily_threshold_file=True SY_v01_OBJECTID952\r\n",
      "run_forcings.py --year=2014 --nstrikes=3 --use_daily_threshold_file=True SY_v01_OBJECTID952\r\n",
      "run_forcings.py --year=2001 --nstrikes=3 --use_daily_threshold_file=True SY_v01_OBJECTID953\r\n",
      "run_forcings.py --year=2002 --nstrikes=3 --use_daily_threshold_file=True SY_v01_OBJECTID953\r\n",
      "run_forcings.py --year=2003 --nstrikes=3 --use_daily_threshold_file=True SY_v01_OBJECTID953\r\n",
      "run_forcings.py --year=2004 --nstrikes=3 --use_daily_threshold_file=True SY_v01_OBJECTID953\r\n",
      "run_forcings.py --year=2005 --nstrikes=3 --use_daily_threshold_file=True SY_v01_OBJECTID953\r\n",
      "run_forcings.py --year=2006 --nstrikes=3 --use_daily_threshold_file=True SY_v01_OBJECTID953\r\n",
      "run_forcings.py --year=2007 --nstrikes=3 --use_daily_threshold_file=True SY_v01_OBJECTID953\r\n",
      "run_forcings.py --year=2008 --nstrikes=3 --use_daily_threshold_file=True SY_v01_OBJECTID953\r\n",
      "run_forcings.py --year=2009 --nstrikes=3 --use_daily_threshold_file=True SY_v01_OBJECTID953\r\n",
      "run_forcings.py --year=2010 --nstrikes=3 --use_daily_threshold_file=True SY_v01_OBJECTID953\r\n",
      "run_forcings.py --year=2011 --nstrikes=3 --use_daily_threshold_file=True SY_v01_OBJECTID953\r\n",
      "run_forcings.py --year=2012 --nstrikes=3 --use_daily_threshold_file=True SY_v01_OBJECTID953\r\n",
      "run_forcings.py --year=2013 --nstrikes=3 --use_daily_threshold_file=True SY_v01_OBJECTID953\r\n",
      "run_forcings.py --year=2014 --nstrikes=3 --use_daily_threshold_file=True SY_v01_OBJECTID953\r\n",
      "run_forcings.py --year=2001 --nstrikes=3 --use_daily_threshold_file=True SY_v01_OBJECTID955\r\n",
      "run_forcings.py --year=2002 --nstrikes=3 --use_daily_threshold_file=True SY_v01_OBJECTID955\r\n",
      "run_forcings.py --year=2003 --nstrikes=3 --use_daily_threshold_file=True SY_v01_OBJECTID955\r\n",
      "run_forcings.py --year=2004 --nstrikes=3 --use_daily_threshold_file=True SY_v01_OBJECTID955\r\n",
      "run_forcings.py --year=2005 --nstrikes=3 --use_daily_threshold_file=True SY_v01_OBJECTID955\r\n",
      "run_forcings.py --year=2006 --nstrikes=3 --use_daily_threshold_file=True SY_v01_OBJECTID955\r\n",
      "run_forcings.py --year=2007 --nstrikes=3 --use_daily_threshold_file=True SY_v01_OBJECTID955\r\n",
      "run_forcings.py --year=2008 --nstrikes=3 --use_daily_threshold_file=True SY_v01_OBJECTID955\r\n",
      "run_forcings.py --year=2009 --nstrikes=3 --use_daily_threshold_file=True SY_v01_OBJECTID955\r\n",
      "run_forcings.py --year=2010 --nstrikes=3 --use_daily_threshold_file=True SY_v01_OBJECTID955\r\n",
      "run_forcings.py --year=2011 --nstrikes=3 --use_daily_threshold_file=True SY_v01_OBJECTID955\r\n",
      "run_forcings.py --year=2012 --nstrikes=3 --use_daily_threshold_file=True SY_v01_OBJECTID955\r\n",
      "run_forcings.py --year=2013 --nstrikes=3 --use_daily_threshold_file=True SY_v01_OBJECTID955\r\n",
      "run_forcings.py --year=2014 --nstrikes=3 --use_daily_threshold_file=True SY_v01_OBJECTID955\r\n",
      "run_forcings.py --year=2001 --nstrikes=3 --use_daily_threshold_file=True SY_v01_OBJECTID956\r\n",
      "run_forcings.py --year=2002 --nstrikes=3 --use_daily_threshold_file=True SY_v01_OBJECTID956\r\n",
      "run_forcings.py --year=2003 --nstrikes=3 --use_daily_threshold_file=True SY_v01_OBJECTID956\r\n",
      "run_forcings.py --year=2004 --nstrikes=3 --use_daily_threshold_file=True SY_v01_OBJECTID956\r\n",
      "run_forcings.py --year=2005 --nstrikes=3 --use_daily_threshold_file=True SY_v01_OBJECTID956\r\n",
      "run_forcings.py --year=2006 --nstrikes=3 --use_daily_threshold_file=True SY_v01_OBJECTID956\r\n",
      "run_forcings.py --year=2007 --nstrikes=3 --use_daily_threshold_file=True SY_v01_OBJECTID956\r\n",
      "run_forcings.py --year=2008 --nstrikes=3 --use_daily_threshold_file=True SY_v01_OBJECTID956\r\n",
      "run_forcings.py --year=2009 --nstrikes=3 --use_daily_threshold_file=True SY_v01_OBJECTID956\r\n",
      "run_forcings.py --year=2010 --nstrikes=3 --use_daily_threshold_file=True SY_v01_OBJECTID956\r\n",
      "run_forcings.py --year=2011 --nstrikes=3 --use_daily_threshold_file=True SY_v01_OBJECTID956\r\n",
      "run_forcings.py --year=2012 --nstrikes=3 --use_daily_threshold_file=True SY_v01_OBJECTID956\r\n",
      "run_forcings.py --year=2013 --nstrikes=3 --use_daily_threshold_file=True SY_v01_OBJECTID956\r\n",
      "run_forcings.py --year=2014 --nstrikes=3 --use_daily_threshold_file=True SY_v01_OBJECTID956\r\n",
      "run_forcings.py --year=2001 --nstrikes=3 --use_daily_threshold_file=True SY_v01_OBJECTID957\r\n",
      "run_forcings.py --year=2002 --nstrikes=3 --use_daily_threshold_file=True SY_v01_OBJECTID957\r\n",
      "run_forcings.py --year=2003 --nstrikes=3 --use_daily_threshold_file=True SY_v01_OBJECTID957\r\n",
      "run_forcings.py --year=2004 --nstrikes=3 --use_daily_threshold_file=True SY_v01_OBJECTID957\r\n",
      "run_forcings.py --year=2005 --nstrikes=3 --use_daily_threshold_file=True SY_v01_OBJECTID957\r\n",
      "run_forcings.py --year=2006 --nstrikes=3 --use_daily_threshold_file=True SY_v01_OBJECTID957\r\n",
      "run_forcings.py --year=2007 --nstrikes=3 --use_daily_threshold_file=True SY_v01_OBJECTID957\r\n",
      "run_forcings.py --year=2008 --nstrikes=3 --use_daily_threshold_file=True SY_v01_OBJECTID957\r\n",
      "run_forcings.py --year=2009 --nstrikes=3 --use_daily_threshold_file=True SY_v01_OBJECTID957\r\n",
      "run_forcings.py --year=2010 --nstrikes=3 --use_daily_threshold_file=True SY_v01_OBJECTID957\r\n",
      "run_forcings.py --year=2011 --nstrikes=3 --use_daily_threshold_file=True SY_v01_OBJECTID957\r\n",
      "run_forcings.py --year=2012 --nstrikes=3 --use_daily_threshold_file=True SY_v01_OBJECTID957\r\n",
      "run_forcings.py --year=2013 --nstrikes=3 --use_daily_threshold_file=True SY_v01_OBJECTID957\r\n",
      "run_forcings.py --year=2014 --nstrikes=3 --use_daily_threshold_file=True SY_v01_OBJECTID957\r\n",
      "run_forcings.py --year=2001 --nstrikes=3 --use_daily_threshold_file=True SY_v01_OBJECTID958\r\n",
      "run_forcings.py --year=2002 --nstrikes=3 --use_daily_threshold_file=True SY_v01_OBJECTID958\r\n",
      "run_forcings.py --year=2003 --nstrikes=3 --use_daily_threshold_file=True SY_v01_OBJECTID958\r\n",
      "run_forcings.py --year=2004 --nstrikes=3 --use_daily_threshold_file=True SY_v01_OBJECTID958\r\n",
      "run_forcings.py --year=2005 --nstrikes=3 --use_daily_threshold_file=True SY_v01_OBJECTID958\r\n",
      "run_forcings.py --year=2006 --nstrikes=3 --use_daily_threshold_file=True SY_v01_OBJECTID958\r\n",
      "run_forcings.py --year=2007 --nstrikes=3 --use_daily_threshold_file=True SY_v01_OBJECTID958\r\n",
      "run_forcings.py --year=2008 --nstrikes=3 --use_daily_threshold_file=True SY_v01_OBJECTID958\r\n",
      "run_forcings.py --year=2009 --nstrikes=3 --use_daily_threshold_file=True SY_v01_OBJECTID958\r\n",
      "run_forcings.py --year=2010 --nstrikes=3 --use_daily_threshold_file=True SY_v01_OBJECTID958\r\n",
      "run_forcings.py --year=2011 --nstrikes=3 --use_daily_threshold_file=True SY_v01_OBJECTID958\r\n",
      "run_forcings.py --year=2012 --nstrikes=3 --use_daily_threshold_file=True SY_v01_OBJECTID958\r\n",
      "run_forcings.py --year=2013 --nstrikes=3 --use_daily_threshold_file=True SY_v01_OBJECTID958\r\n",
      "run_forcings.py --year=2014 --nstrikes=3 --use_daily_threshold_file=True SY_v01_OBJECTID958\r\n",
      "run_forcings.py --year=2001 --nstrikes=3 --use_daily_threshold_file=True SY_v01_OBJECTID959\r\n",
      "run_forcings.py --year=2002 --nstrikes=3 --use_daily_threshold_file=True SY_v01_OBJECTID959\r\n",
      "run_forcings.py --year=2003 --nstrikes=3 --use_daily_threshold_file=True SY_v01_OBJECTID959\r\n",
      "run_forcings.py --year=2004 --nstrikes=3 --use_daily_threshold_file=True SY_v01_OBJECTID959\r\n",
      "run_forcings.py --year=2005 --nstrikes=3 --use_daily_threshold_file=True SY_v01_OBJECTID959\r\n",
      "run_forcings.py --year=2006 --nstrikes=3 --use_daily_threshold_file=True SY_v01_OBJECTID959\r\n",
      "run_forcings.py --year=2007 --nstrikes=3 --use_daily_threshold_file=True SY_v01_OBJECTID959\r\n",
      "run_forcings.py --year=2008 --nstrikes=3 --use_daily_threshold_file=True SY_v01_OBJECTID959\r\n",
      "run_forcings.py --year=2009 --nstrikes=3 --use_daily_threshold_file=True SY_v01_OBJECTID959\r\n",
      "run_forcings.py --year=2010 --nstrikes=3 --use_daily_threshold_file=True SY_v01_OBJECTID959\r\n",
      "run_forcings.py --year=2011 --nstrikes=3 --use_daily_threshold_file=True SY_v01_OBJECTID959\r\n",
      "run_forcings.py --year=2012 --nstrikes=3 --use_daily_threshold_file=True SY_v01_OBJECTID959\r\n",
      "run_forcings.py --year=2013 --nstrikes=3 --use_daily_threshold_file=True SY_v01_OBJECTID959\r\n",
      "run_forcings.py --year=2014 --nstrikes=3 --use_daily_threshold_file=True SY_v01_OBJECTID959\r\n",
      "run_forcings.py --year=2001 --nstrikes=3 --use_daily_threshold_file=True SY_v01_OBJECTID960\r\n",
      "run_forcings.py --year=2002 --nstrikes=3 --use_daily_threshold_file=True SY_v01_OBJECTID960\r\n",
      "run_forcings.py --year=2003 --nstrikes=3 --use_daily_threshold_file=True SY_v01_OBJECTID960\r\n",
      "run_forcings.py --year=2004 --nstrikes=3 --use_daily_threshold_file=True SY_v01_OBJECTID960\r\n",
      "run_forcings.py --year=2005 --nstrikes=3 --use_daily_threshold_file=True SY_v01_OBJECTID960\r\n",
      "run_forcings.py --year=2006 --nstrikes=3 --use_daily_threshold_file=True SY_v01_OBJECTID960\r\n",
      "run_forcings.py --year=2007 --nstrikes=3 --use_daily_threshold_file=True SY_v01_OBJECTID960\r\n",
      "run_forcings.py --year=2008 --nstrikes=3 --use_daily_threshold_file=True SY_v01_OBJECTID960\r\n",
      "run_forcings.py --year=2009 --nstrikes=3 --use_daily_threshold_file=True SY_v01_OBJECTID960\r\n",
      "run_forcings.py --year=2010 --nstrikes=3 --use_daily_threshold_file=True SY_v01_OBJECTID960\r\n",
      "run_forcings.py --year=2011 --nstrikes=3 --use_daily_threshold_file=True SY_v01_OBJECTID960\r\n",
      "run_forcings.py --year=2012 --nstrikes=3 --use_daily_threshold_file=True SY_v01_OBJECTID960\r\n",
      "run_forcings.py --year=2013 --nstrikes=3 --use_daily_threshold_file=True SY_v01_OBJECTID960\r\n",
      "run_forcings.py --year=2014 --nstrikes=3 --use_daily_threshold_file=True SY_v01_OBJECTID960\r\n",
      "run_forcings.py --year=2001 --nstrikes=3 --use_daily_threshold_file=True SY_v01_OBJECTID962\r\n",
      "run_forcings.py --year=2002 --nstrikes=3 --use_daily_threshold_file=True SY_v01_OBJECTID962\r\n",
      "run_forcings.py --year=2003 --nstrikes=3 --use_daily_threshold_file=True SY_v01_OBJECTID962\r\n",
      "run_forcings.py --year=2004 --nstrikes=3 --use_daily_threshold_file=True SY_v01_OBJECTID962\r\n",
      "run_forcings.py --year=2005 --nstrikes=3 --use_daily_threshold_file=True SY_v01_OBJECTID962\r\n",
      "run_forcings.py --year=2006 --nstrikes=3 --use_daily_threshold_file=True SY_v01_OBJECTID962\r\n",
      "run_forcings.py --year=2007 --nstrikes=3 --use_daily_threshold_file=True SY_v01_OBJECTID962\r\n",
      "run_forcings.py --year=2008 --nstrikes=3 --use_daily_threshold_file=True SY_v01_OBJECTID962\r\n",
      "run_forcings.py --year=2009 --nstrikes=3 --use_daily_threshold_file=True SY_v01_OBJECTID962\r\n",
      "run_forcings.py --year=2010 --nstrikes=3 --use_daily_threshold_file=True SY_v01_OBJECTID962\r\n",
      "run_forcings.py --year=2011 --nstrikes=3 --use_daily_threshold_file=True SY_v01_OBJECTID962\r\n",
      "run_forcings.py --year=2012 --nstrikes=3 --use_daily_threshold_file=True SY_v01_OBJECTID962\r\n",
      "run_forcings.py --year=2013 --nstrikes=3 --use_daily_threshold_file=True SY_v01_OBJECTID962\r\n",
      "run_forcings.py --year=2014 --nstrikes=3 --use_daily_threshold_file=True SY_v01_OBJECTID962\r\n"
     ]
    }
   ],
   "source": [
    "#%cat IN_v01_run_forcings_1strikes.sh\n",
    "#%cat AM_run_forcings_1strikes.sh\n",
    "#%cat BR_run_forcings_3strikes.sh\n",
    "#%cat GA_v01_run_forcings_3strikes.sh\n",
    "%cat SY_v01_run_forcings_3strikes.sh\n"
   ]
  },
  {
   "cell_type": "code",
   "execution_count": 8,
   "metadata": {
    "collapsed": false
   },
   "outputs": [
    {
     "data": {
      "text/plain": [
       "238"
      ]
     },
     "execution_count": 8,
     "metadata": {},
     "output_type": "execute_result"
    }
   ],
   "source": [
    "count"
   ]
  },
  {
   "cell_type": "code",
   "execution_count": 9,
   "metadata": {
    "collapsed": false
   },
   "outputs": [
    {
     "name": "stdout",
     "output_type": "stream",
     "text": [
      "count=238, use 40 nodes, assuming 6 tasks/node\n"
     ]
    }
   ],
   "source": [
    "# IN_v01: 51 nodes\n",
    "# AM: 32 nodes\n",
    "# SY: 25 nodes\n",
    "print(\"count=%d, use %d nodes, assuming 6 tasks/node\" % (count, (count+1)/6 + 1))"
   ]
  },
  {
   "cell_type": "code",
   "execution_count": null,
   "metadata": {
    "collapsed": false
   },
   "outputs": [],
   "source": [
    "print 24*6"
   ]
  },
  {
   "cell_type": "code",
   "execution_count": null,
   "metadata": {
    "collapsed": true
   },
   "outputs": [],
   "source": []
  }
 ],
 "metadata": {
  "kernelspec": {
   "display_name": "Python 2",
   "language": "python",
   "name": "python2"
  },
  "language_info": {
   "codemirror_mode": {
    "name": "ipython",
    "version": 2
   },
   "file_extension": ".py",
   "mimetype": "text/x-python",
   "name": "python",
   "nbconvert_exporter": "python",
   "pygments_lexer": "ipython2",
   "version": "2.7.12"
  }
 },
 "nbformat": 4,
 "nbformat_minor": 0
}
