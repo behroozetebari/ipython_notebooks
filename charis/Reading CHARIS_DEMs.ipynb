{
 "cells": [
  {
   "cell_type": "code",
   "execution_count": 1,
   "metadata": {
    "collapsed": false
   },
   "outputs": [
    {
     "name": "stderr",
     "output_type": "stream",
     "text": [
      "/Users/brodzik/miniconda3/envs/charis/lib/python2.7/site-packages/matplotlib/font_manager.py:273: UserWarning: Matplotlib is building the font cache using fc-list. This may take a moment.\n",
      "  warnings.warn('Matplotlib is building the font cache using fc-list. This may take a moment.')\n"
     ]
    },
    {
     "name": "stdout",
     "output_type": "stream",
     "text": [
      "Populating the interactive namespace from numpy and matplotlib\n"
     ]
    }
   ],
   "source": [
    "%pylab notebook\n",
    "import matplotlib.pyplot as plt\n",
    "import numpy as np\n",
    "\n",
    "from charistools.readers import read_tile\n",
    "pylab.rcParams['figure.figsize'] = (10.0, 8.0)"
   ]
  },
  {
   "cell_type": "code",
   "execution_count": 4,
   "metadata": {
    "collapsed": false
   },
   "outputs": [
    {
     "name": "stdout",
     "output_type": "stream",
     "text": [
      "/Users/brodzik/projects/CHARIS/elevation_data/SRTMGL3_version2_SIN\n",
      "00notes.txt                 CHARIS_DEM.v2.0.h24v04.tif\r\n",
      "AM_buff_MODIS_SIN.tfw       CHARIS_DEM.v2.0.h24v05.tif\r\n",
      "AM_buff_MODIS_SIN.tif       CHARIS_DEM.v2.0.h24v06.tif\r\n",
      "CHARIS_DEM.2.0.sin.tif      CHARIS_DEM.v2.0.h25v04.tif\r\n",
      "CHARIS_DEM.v2.0.h22v04.tif  CHARIS_DEM.v2.0.h25v05.tif\r\n",
      "CHARIS_DEM.v2.0.h22v05.tif  CHARIS_DEM.v2.0.h25v06.tif\r\n",
      "CHARIS_DEM.v2.0.h23v04.tif  CHARIS_DEM.v2.0.h26v05.tif\r\n",
      "CHARIS_DEM.v2.0.h23v05.tif  CHARIS_DEM.v2.0.h26v06.tif\r\n",
      "CHARIS_DEM.v2.0.h23v06.tif  CHARIS_DEM.v2.0.h27v06.tif\r\n"
     ]
    }
   ],
   "source": [
    "%cd /Users/brodzik/projects/CHARIS/elevation_data/SRTMGL3_version2_SIN\n",
    "%ls"
   ]
  },
  {
   "cell_type": "code",
   "execution_count": 6,
   "metadata": {
    "collapsed": false
   },
   "outputs": [],
   "source": [
    "dem22=read_tile('CHARIS_DEM.v2.0.h22v05.tif')\n",
    "dem23=read_tile('CHARIS_DEM.v2.0.h23v05.tif')"
   ]
  },
  {
   "cell_type": "code",
   "execution_count": 7,
   "metadata": {
    "collapsed": false
   },
   "outputs": [
    {
     "data": {
      "text/plain": [
       "(94, 32767, 180, 32767)"
      ]
     },
     "execution_count": 7,
     "metadata": {},
     "output_type": "execute_result"
    }
   ],
   "source": [
    "np.amin(dem22), np.amax(dem22), np.amin(dem23), np.amax(dem23)"
   ]
  },
  {
   "cell_type": "code",
   "execution_count": 21,
   "metadata": {
    "collapsed": false
   },
   "outputs": [
    {
     "name": "stdout",
     "output_type": "stream",
     "text": [
      "/Users/brodzik/projects/CHARIS/basins/subbasins_of_major_basins/AM_snow_subs_basins_modis_masks\n",
      "AM_1tile_basins.txt          AM_OBJECTID84_h23v05.tif\r\n",
      "AM_2tile_basins.txt          AM_OBJECTID85_h23v05.tif\r\n",
      "AM_4tile_basins.txt          AM_OBJECTID86_h23v05.tif\r\n",
      "AM_OBJECTID100_h23v05.tif    AM_OBJECTID88_h23v05.tif\r\n",
      "AM_OBJECTID62_h22v04.tif     AM_OBJECTID89_h23v05.tif\r\n",
      "AM_OBJECTID62_h22v05.tif     AM_OBJECTID90_h23v05.tif\r\n",
      "AM_OBJECTID62_h23v04.tif     AM_OBJECTID91_h23v05.tif\r\n",
      "AM_OBJECTID62_h23v05.tif     AM_OBJECTID93_h23v05.tif\r\n",
      "AM_OBJECTID64_h22v05.tif     AM_OBJECTID94_h23v05.tif\r\n",
      "AM_OBJECTID65_h23v04.tif     AM_OBJECTID97_h23v05.tif\r\n",
      "AM_OBJECTID65_h23v05.tif     AM_OBJECTID98_h23v05.tif\r\n",
      "AM_OBJECTID66_h23v04.tif     AM_OBJECTID99_h23v05.tif\r\n",
      "AM_OBJECTID66_h23v05.tif     AM_run_forcings_1strikes.sh\r\n",
      "AM_OBJECTID68_h22v04.tif     AmuDarya_snow_subs.cpg\r\n",
      "AM_OBJECTID68_h22v05.tif     AmuDarya_snow_subs.dbf\r\n",
      "AM_OBJECTID68_h23v04.tif     AmuDarya_snow_subs.prj\r\n",
      "AM_OBJECTID68_h23v05.tif     AmuDarya_snow_subs.sbn\r\n",
      "AM_OBJECTID69_h22v05.tif     AmuDarya_snow_subs.sbx\r\n",
      "AM_OBJECTID69_h23v05.tif     AmuDarya_snow_subs.shp\r\n",
      "AM_OBJECTID72_h22v05.tif     AmuDarya_snow_subs.shp.xml\r\n",
      "AM_OBJECTID72_h23v05.tif     AmuDarya_snow_subs.shx\r\n",
      "AM_OBJECTID77_h23v05.tif     AmuDarya_snow_subs_sinu.dbf\r\n",
      "AM_OBJECTID78_h23v05.tif     AmuDarya_snow_subs_sinu.prj\r\n",
      "AM_OBJECTID79_h23v05.tif     AmuDarya_snow_subs_sinu.shp\r\n",
      "AM_OBJECTID80_h23v05.tif     AmuDarya_snow_subs_sinu.shx\r\n",
      "AM_OBJECTID81_h23v05.tif     CHARIS_subbasins_AM.jpg\r\n",
      "AM_OBJECTID82_h23v05.tif     \u001b[31mmk_masks.sh\u001b[m\u001b[m*\r\n",
      "AM_OBJECTID83_h23v05.tif     \u001b[31mmk_sinu_versions.sh\u001b[m\u001b[m*\r\n"
     ]
    }
   ],
   "source": [
    "%cd /Users/brodzik/projects/CHARIS/basins/subbasins_of_major_basins/AM_snow_subs_basins_modis_masks\n",
    "%ls"
   ]
  },
  {
   "cell_type": "code",
   "execution_count": 22,
   "metadata": {
    "collapsed": false
   },
   "outputs": [],
   "source": [
    "basin22 = read_tile('AM_OBJECTID72_h22v05.tif')\n",
    "basin23 = read_tile('AM_OBJECTID72_h23v05.tif')"
   ]
  },
  {
   "cell_type": "code",
   "execution_count": 23,
   "metadata": {
    "collapsed": false
   },
   "outputs": [
    {
     "data": {
      "text/plain": [
       "(0, 1, 0, 1)"
      ]
     },
     "execution_count": 23,
     "metadata": {},
     "output_type": "execute_result"
    }
   ],
   "source": [
    "np.amin(basin22), np.amax(basin22), np.amin(basin23), np.amax(basin23)"
   ]
  },
  {
   "cell_type": "code",
   "execution_count": null,
   "metadata": {
    "collapsed": false
   },
   "outputs": [],
   "source": []
  },
  {
   "cell_type": "code",
   "execution_count": null,
   "metadata": {
    "collapsed": false
   },
   "outputs": [],
   "source": [
    "fig, ax = plt.subplots(1,2)\n",
    "ax[0].imshow(data, cmap=plt.cm.gray, vmin=170, vmax=8000, interpolation='None')\n",
    "ax[0].set_title('SRTMGL3 (v1)')\n",
    "ax[1].imshow(datav2, cmap=plt.cm.gray, vmin=170, vmax=8000, interpolation='None')\n",
    "ax[1].set_title('CHARIS_DEM (v2)')\n",
    "plt.axis('off')\n",
    "fig.savefig('/Users/brodzik/tmp/SRTMGL3_vs_CHARIS_DEMv2.png')"
   ]
  },
  {
   "cell_type": "code",
   "execution_count": null,
   "metadata": {
    "collapsed": false
   },
   "outputs": [],
   "source": [
    "diff = datav2.astype('float') - data.astype('float')\n",
    "diff[data == -32768] = 0\n",
    "diff[datav2 == 32767] = 0"
   ]
  },
  {
   "cell_type": "code",
   "execution_count": null,
   "metadata": {
    "collapsed": false
   },
   "outputs": [],
   "source": [
    "print np.amin(diff)\n",
    "print np.amax(diff)"
   ]
  },
  {
   "cell_type": "code",
   "execution_count": null,
   "metadata": {
    "collapsed": false
   },
   "outputs": [],
   "source": [
    "print(data[1:2,:])"
   ]
  },
  {
   "cell_type": "code",
   "execution_count": null,
   "metadata": {
    "collapsed": false
   },
   "outputs": [],
   "source": [
    "test = np.array([3.2, 5.6, 2.0, 4.4])\n",
    "test"
   ]
  },
  {
   "cell_type": "code",
   "execution_count": null,
   "metadata": {
    "collapsed": false
   },
   "outputs": [],
   "source": [
    "test / 1.25"
   ]
  },
  {
   "cell_type": "code",
   "execution_count": null,
   "metadata": {
    "collapsed": false
   },
   "outputs": [],
   "source": [
    "new = test / 1.25\n",
    "new"
   ]
  },
  {
   "cell_type": "code",
   "execution_count": null,
   "metadata": {
    "collapsed": false
   },
   "outputs": [],
   "source": [
    "new = np.array([2.5, 4.5, 1.5, 3.5])\n",
    "print new * 0.75\n",
    "print new\n",
    "print new * 1.25\n"
   ]
  },
  {
   "cell_type": "code",
   "execution_count": null,
   "metadata": {
    "collapsed": true
   },
   "outputs": [],
   "source": []
  }
 ],
 "metadata": {
  "kernelspec": {
   "display_name": "Python 2",
   "language": "python",
   "name": "python2"
  },
  "language_info": {
   "codemirror_mode": {
    "name": "ipython",
    "version": 2
   },
   "file_extension": ".py",
   "mimetype": "text/x-python",
   "name": "python",
   "nbconvert_exporter": "python",
   "pygments_lexer": "ipython2",
   "version": "2.7.12"
  }
 },
 "nbformat": 4,
 "nbformat_minor": 0
}
