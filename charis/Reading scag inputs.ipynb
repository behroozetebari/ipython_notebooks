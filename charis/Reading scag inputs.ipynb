{
 "cells": [
  {
   "cell_type": "code",
   "execution_count": null,
   "metadata": {
    "collapsed": false
   },
   "outputs": [],
   "source": [
    "%pylab notebook\n",
    "import matplotlib.pyplot as plt\n",
    "import numpy as np\n",
    "from charistools.readers import ModisTileCube\n",
    "pylab.rcParams['figure.figsize'] = (10.0, 8.0)"
   ]
  },
  {
   "cell_type": "code",
   "execution_count": null,
   "metadata": {
    "collapsed": false
   },
   "outputs": [],
   "source": [
    "%cd /Users/brodzik/projects/CHARIS/snow_cover/MODSCAG_GF/v08/h23v05\n",
    "%ls"
   ]
  },
  {
   "cell_type": "code",
   "execution_count": null,
   "metadata": {
    "collapsed": false
   },
   "outputs": [],
   "source": [
    "# scag v8 data variable is 'scf'\n",
    "new_cube = ModisTileCube('MODSCAG_GF_Snow.v0.8.h23v05_2001.h5', varname='scf')"
   ]
  },
  {
   "cell_type": "code",
   "execution_count": null,
   "metadata": {
    "collapsed": false,
    "scrolled": false
   },
   "outputs": [],
   "source": [
    "%cd /Users/brodzik/projects/CHARIS/snow_cover/MODSCAG_GF/v06/h23v05\n",
    "%ls"
   ]
  },
  {
   "cell_type": "code",
   "execution_count": null,
   "metadata": {
    "collapsed": false
   },
   "outputs": [],
   "source": [
    "orig_cube = ModisTileCube('MODSCAG_GF_Snow.v0.6.h23v05_2001.h5', varname='fsca')"
   ]
  },
  {
   "cell_type": "code",
   "execution_count": null,
   "metadata": {
    "collapsed": false
   },
   "outputs": [],
   "source": [
    "%cd /Users/brodzik/projects/CHARIS/snow_cover/MODSCAG_GF/v09/h23v05\n",
    "%ls"
   ]
  },
  {
   "cell_type": "code",
   "execution_count": null,
   "metadata": {
    "collapsed": true
   },
   "outputs": [],
   "source": [
    "v09_cube = ModisTileCube('MODSCAG_GF_Snow.v0.9.h23v05_2001.h5', varname='fsca')"
   ]
  },
  {
   "cell_type": "code",
   "execution_count": null,
   "metadata": {
    "collapsed": false
   },
   "outputs": [],
   "source": [
    "doyrange = np.arange(3)+41\n",
    "doyrange"
   ]
  },
  {
   "cell_type": "code",
   "execution_count": null,
   "metadata": {
    "collapsed": false,
    "scrolled": true
   },
   "outputs": [],
   "source": [
    "for doy in doyrange:\n",
    "    v09_data = v09_cube.read(doy=doy)\n",
    "    new_data = new_cube.read(doy=doy)\n",
    "    orig_data = orig_cube.read(doy=doy)\n",
    "    fig, ax = plt.subplots(2,2)\n",
    "    ax[0,0].imshow(orig_data, cmap=plt.cm.gray, vmin=0.0, vmax=1.0, interpolation='None')\n",
    "    ax[0,0].set_title(\"Orig day %d (v6)\" % doy)\n",
    "    ax[0,0].axis('off')\n",
    "    ax[0,1].imshow(new_data, cmap=plt.cm.gray, vmin=0.0, vmax=1.0, interpolation='None')\n",
    "    ax[0,1].set_title(\"New  day %d (v8)\" % doy)\n",
    "    ax[0,1].axis('off')\n",
    "    ax[1,0].imshow(v09_data, cmap=plt.cm.gray, vmin=0.0, vmax=1.0, interpolation='None')\n",
    "    ax[1,0].set_title(\"New  day %d (v9)\" % doy)\n",
    "    ax[1,0].axis('off')\n",
    "    ax[1,1].imshow(v09_data/100., cmap=plt.cm.gray, vmin=0.0, vmax=1.0, interpolation='None')\n",
    "    ax[1,1].set_title(\"Scaled New  day %d (v9)\" % doy)\n",
    "    ax[1,1].axis('off')\n",
    "#fig.savefig('/Users/brodzik/tmp/scag_gf_2001120.v6v8.png')"
   ]
  },
  {
   "cell_type": "code",
   "execution_count": null,
   "metadata": {
    "collapsed": false,
    "scrolled": false
   },
   "outputs": [],
   "source": [
    "for doy in doyrange:\n",
    "    v09_data = v09_cube.read(doy=doy)\n",
    "    v06_data = orig_cube.read(doy=doy)\n",
    "    fig, ax = plt.subplots(1,2)\n",
    "    ax[0].imshow(v06_data, cmap=plt.cm.gray, vmin=0.0, vmax=1.0, interpolation='None')\n",
    "    ax[0].set_title(\"Orig day %d (v6)\" % doy)\n",
    "    ax[0].axis('off')\n",
    "    ax[1].imshow(v09_data, cmap=plt.cm.gray, vmin=0.0, vmax=1.0, interpolation='None')\n",
    "    ax[1].set_title(\"New  day %d (v9)\" % doy)\n",
    "    ax[1].axis('off')"
   ]
  },
  {
   "cell_type": "code",
   "execution_count": null,
   "metadata": {
    "collapsed": true
   },
   "outputs": [],
   "source": [
    "v09_data = v09_cube.read(doy=41)\n",
    "orig_data = orig_cube.read(doy=41)"
   ]
  },
  {
   "cell_type": "code",
   "execution_count": null,
   "metadata": {
    "collapsed": false,
    "scrolled": true
   },
   "outputs": [],
   "source": [
    "import scipy.stats\n",
    "print(scipy.stats.describe(orig_data, axis=None))\n",
    "print(scipy.stats.describe(v09_data, axis=None))"
   ]
  },
  {
   "cell_type": "code",
   "execution_count": null,
   "metadata": {
    "collapsed": true
   },
   "outputs": [],
   "source": [
    "new_cube.close()\n",
    "orig_cube.close()"
   ]
  },
  {
   "cell_type": "code",
   "execution_count": null,
   "metadata": {
    "collapsed": false
   },
   "outputs": [],
   "source": [
    "d5.dtype, orig_d5.dtype"
   ]
  },
  {
   "cell_type": "code",
   "execution_count": null,
   "metadata": {
    "collapsed": false
   },
   "outputs": [],
   "source": [
    "diff = d5 - orig_d5\n",
    "print(np.amin(diff), np.amax(diff))"
   ]
  },
  {
   "cell_type": "code",
   "execution_count": null,
   "metadata": {
    "collapsed": false,
    "scrolled": false
   },
   "outputs": [],
   "source": [
    "fig, ax = plt.subplots(1)\n",
    "ax.imshow(diff, cmap=plt.cm.gray, interpolation='None')\n",
    "ax.set_title(\"Diff (new - orig)\")\n",
    "plt.axis('off')"
   ]
  },
  {
   "cell_type": "code",
   "execution_count": null,
   "metadata": {
    "collapsed": false
   },
   "outputs": [],
   "source": [
    "print(d5[2397:2399, 2397:2399])"
   ]
  },
  {
   "cell_type": "code",
   "execution_count": null,
   "metadata": {
    "collapsed": false
   },
   "outputs": [],
   "source": [
    "print(orig_d5[2397:2399, 2397:2399])\n"
   ]
  },
  {
   "cell_type": "code",
   "execution_count": null,
   "metadata": {
    "collapsed": true
   },
   "outputs": [],
   "source": []
  }
 ],
 "metadata": {
  "kernelspec": {
   "display_name": "Python 2",
   "language": "python",
   "name": "python2"
  },
  "language_info": {
   "codemirror_mode": {
    "name": "ipython",
    "version": 2
   },
   "file_extension": ".py",
   "mimetype": "text/x-python",
   "name": "python",
   "nbconvert_exporter": "python",
   "pygments_lexer": "ipython2",
   "version": "2.7.12"
  }
 },
 "nbformat": 4,
 "nbformat_minor": 0
}
