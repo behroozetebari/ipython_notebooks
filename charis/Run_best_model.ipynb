{
 "cells": [
  {
   "cell_type": "code",
   "execution_count": null,
   "metadata": {
    "collapsed": false
   },
   "outputs": [],
   "source": [
    "%pylab notebook\n",
    "import matplotlib.pyplot as plt\n",
    "from charistools.meltModels import TriSurfTempIndexMelt\n",
    "from charistools.meltModels import ImshowTriSurfMelt\n",
    "from charistools.meltModels import PlotTriSurfInput\n",
    "from charistools.meltModels import PlotTriSurfMelt\n",
    "from charistools.modelEnv import ModelEnv\n",
    "import pandas as pd\n",
    "import re\n",
    "import os"
   ]
  },
  {
   "cell_type": "code",
   "execution_count": null,
   "metadata": {
    "collapsed": false,
    "scrolled": false
   },
   "outputs": [],
   "source": [
    "configFile = '/Users/brodzik/projects/CHARIS/charistools_test_data/calibration_modelEnv_config.ini'\n",
    "myEnv = ModelEnv(tileConfigFile=configFile)"
   ]
  },
  {
   "cell_type": "code",
   "execution_count": null,
   "metadata": {
    "collapsed": false,
    "scrolled": true
   },
   "outputs": [],
   "source": [
    "#drainageID = 'IN_Hunza_at_DainyorBridge'\n",
    "#drainageID = 'AM_Vakhsh_at_Komsomolabad'\n",
    "#drainageID = 'GA_Karnali_at_Benighat'\n",
    "#drainageID = 'GA_Narayani_at_Devghat'\n",
    "drainageID = 'GA_SaptaKosi_at_Chatara'\n",
    "%cd ~/projects/CHARIS/charistools_test_data/derived_hypsometries/$drainageID\n",
    "%pwd"
   ]
  },
  {
   "cell_type": "code",
   "execution_count": null,
   "metadata": {
    "collapsed": false
   },
   "outputs": [],
   "source": [
    "ablation_method = 'albedo_mod10a1'\n",
    "threshold = 0.40\n",
    "year = 2002\n",
    "year_str = str(year)\n",
    "input = myEnv.model_inputs(drainageID=drainageID,\n",
    "                           year=year,\n",
    "                           ablation_method=ablation_method,\n",
    "                           threshold=threshold)"
   ]
  },
  {
   "cell_type": "code",
   "execution_count": null,
   "metadata": {
    "collapsed": false,
    "scrolled": true
   },
   "outputs": [],
   "source": [
    "#input['exposed_glacier_ice_by_elevation_hyps'].data"
   ]
  },
  {
   "cell_type": "code",
   "execution_count": null,
   "metadata": {
    "collapsed": false
   },
   "outputs": [],
   "source": [
    "if drainageID == \"IN_Hunza_at_DainyorBridge\":\n",
    "    best_model = \"8.0_9.44_8.0_15.0\"\n",
    "    best_model = \"8.89_9.0_12.0_19.0\"\n",
    "elif drainageID == \"AM_Vakhsh_at_Komsomolabad\":\n",
    "    best_model = \"1.78_2.33_4.0_13.0\"\n",
    "elif drainageID == \"GA_Karnali_at_Benighat\":\n",
    "    best_model = \"4.0_5.0_0.44_7.0\"\n",
    "elif drainageID == \"GA_Narayani_at_Devghat\":\n",
    "    best_model = \"4.0_5.0_4.0_7.0\"\n",
    "elif drainageID == \"GA_SaptaKosi_at_Chatara\":\n",
    "    best_model = \"4.0_5.0_4.0_7.0\"    \n",
    "    \n",
    "    \n",
    "(min_snow_ddf, max_snow_ddf, min_ice_ddf, max_ice_ddf) = best_model.split(\"_\")\n",
    "min_snow_ddf = float(min_snow_ddf)\n",
    "max_snow_ddf = float(max_snow_ddf)\n",
    "min_ice_ddf = float(min_ice_ddf)\n",
    "max_ice_ddf = float(max_ice_ddf)\n",
    "print(min_snow_ddf, max_snow_ddf, min_ice_ddf, max_ice_ddf)"
   ]
  },
  {
   "cell_type": "code",
   "execution_count": null,
   "metadata": {
    "collapsed": false
   },
   "outputs": [],
   "source": [
    "(SOLmelt, SOImelt, EGImelt) = TriSurfTempIndexMelt(\n",
    "    input['snow_on_land_by_elevation_filename'],\n",
    "    input['snow_on_ice_by_elevation_filename'],\n",
    "    input['exposed_glacier_ice_by_elevation_filename'],\n",
    "    input['temperature_by_elevation_filename'],\n",
    "    min_snow_ddf=min_snow_ddf,\n",
    "    max_snow_ddf=max_snow_ddf,\n",
    "    min_ice_ddf=min_ice_ddf,\n",
    "    max_ice_ddf=max_ice_ddf)"
   ]
  },
  {
   "cell_type": "code",
   "execution_count": null,
   "metadata": {
    "collapsed": false
   },
   "outputs": [],
   "source": [
    "import os\n",
    "import re\n",
    "p = re.compile(drainageID)\n",
    "outdir = '/Users/brodzik/projects/CHARIS/charistools_test_data/derived_hypsometries/' + drainageID\n",
    "SOLmeltfile = os.path.basename(input['snow_on_land_by_elevation_filename'])\n",
    "SOLmeltfile = SOLmeltfile.replace('_area_by_elev', '_melt_by_elev')\n",
    "SOLmeltfile = outdir + '/' + p.sub(drainageID + '.best_model', SOLmeltfile)\n",
    "\n",
    "SOImeltfile = os.path.basename(input['snow_on_ice_by_elevation_filename'])\n",
    "SOImeltfile = SOImeltfile.replace('_area_by_elev', '_melt_by_elev')\n",
    "SOImeltfile = outdir + '/' + p.sub(drainageID + '.best_model', SOImeltfile)\n",
    "\n",
    "EGImeltfile = os.path.basename(input['exposed_glacier_ice_by_elevation_filename'])\n",
    "EGImeltfile = EGImeltfile.replace('_area_by_elev', '_melt_by_elev')\n",
    "EGImeltfile = outdir + '/' + p.sub(drainageID + '.best_model', EGImeltfile)\n",
    "\n",
    "print(SOLmeltfile)\n",
    "print(SOImeltfile)\n",
    "print(EGImeltfile)"
   ]
  },
  {
   "cell_type": "code",
   "execution_count": null,
   "metadata": {
    "collapsed": false,
    "scrolled": false
   },
   "outputs": [],
   "source": [
    "columns = [float(i) for i in SOLmelt.data.columns]\n",
    "SOLmelt.data.columns = columns\n",
    "SOLmelt.data = SOLmelt.data[sort(columns)]\n",
    "\n",
    "columns = [float(i) for i in SOImelt.data.columns]\n",
    "SOImelt.data.columns = columns\n",
    "SOImelt.data = SOImelt.data[sort(columns)]\n",
    "\n",
    "columns = [float(i) for i in EGImelt.data.columns]\n",
    "EGImelt.data.columns = columns\n",
    "EGImelt.data = EGImelt.data[sort(columns)]\n"
   ]
  },
  {
   "cell_type": "code",
   "execution_count": null,
   "metadata": {
    "collapsed": false,
    "scrolled": true
   },
   "outputs": [],
   "source": [
    "from charistools.hypsometry import Hypsometry\n",
    "SOLmelt.write(filename=SOLmeltfile, decimal_places=2, verbose=True)\n",
    "SOImelt.write(filename=SOImeltfile, decimal_places=2, verbose=True)\n",
    "EGImelt.write(filename=EGImeltfile, decimal_places=2, verbose=True)"
   ]
  },
  {
   "cell_type": "code",
   "execution_count": null,
   "metadata": {
    "collapsed": false
   },
   "outputs": [],
   "source": [
    "outfile = SOImeltfile\n",
    "p = re.compile(r'snow_on_ice.+')\n",
    "outfile = p.sub('melt_tseries.png', outfile)\n",
    "print(outfile)\n",
    "outhypsfile = SOImeltfile\n",
    "p = re.compile(r'snow_on_ice.+')\n",
    "outhypsfile = p.sub('melt_hyps.png', outhypsfile)\n",
    "print(outhypsfile)"
   ]
  },
  {
   "cell_type": "code",
   "execution_count": null,
   "metadata": {
    "collapsed": false
   },
   "outputs": [],
   "source": [
    "print(np.nanmin(SOLmelt.data.values),np.nanmax(SOLmelt.data.values))\n",
    "print(np.amin(EGImelt.data.values),np.amax(EGImelt.data.values))"
   ]
  },
  {
   "cell_type": "code",
   "execution_count": null,
   "metadata": {
    "collapsed": false,
    "scrolled": true
   },
   "outputs": [],
   "source": [
    "# Temporary fix for SOLmelt.data NaNs\n",
    "SOLmelt.data = SOLmelt.data.fillna(value=0.)"
   ]
  },
  {
   "cell_type": "code",
   "execution_count": null,
   "metadata": {
    "collapsed": false,
    "scrolled": false
   },
   "outputs": [],
   "source": [
    "fig, axes = plt.subplots(3,1)\n",
    "ImshowTriSurfMelt(axes, SOLmelt, SOImelt, EGImelt)\n",
    "#axes[2] = SOLmelt.imshow(ax=axes[2], title='Snow-on-Land Melt',\n",
    "#                         cmap=\"Greens\",\n",
    "#                         vmin=np.nanmin(SOLmelt.data.values),\n",
    "#                         vmax=np.nanmax(SOLmelt.data.values))\n",
    "for ax in axes:\n",
    "    ax.set_title(drainageID + \" (\" + year_str + \") \" + ax.get_title())\n",
    "fig.tight_layout()\n",
    "fig.savefig(outhypsfile)"
   ]
  },
  {
   "cell_type": "code",
   "execution_count": null,
   "metadata": {
    "collapsed": false,
    "scrolled": true
   },
   "outputs": [],
   "source": [
    "rainfallFile = myEnv.calibration_filename(type=\"rainfall\", \n",
    "                                          drainageID=drainageID)\n",
    "runoffFile = myEnv.calibration_filename(type=\"runoff\", \n",
    "                                          drainageID=drainageID)\n",
    "print(rainfallFile)\n",
    "print(runoffFile)"
   ]
  },
  {
   "cell_type": "code",
   "execution_count": null,
   "metadata": {
    "collapsed": false,
    "scrolled": true
   },
   "outputs": [],
   "source": [
    "from charistools.timeSeries import TimeSeries\n",
    "rainfall = TimeSeries(rainfallFile)\n",
    "runoff = TimeSeries(runoffFile)"
   ]
  },
  {
   "cell_type": "code",
   "execution_count": null,
   "metadata": {
    "collapsed": false
   },
   "outputs": [],
   "source": [
    "monthly_rainfall = rainfall.data['rainfall'][year_str + '-01-01':year_str + '-12-01']\n",
    "monthly_runoff = runoff.data['runoff'][year_str + '-01-01':year_str + '-12-01']\n",
    "print(monthly_rainfall)\n",
    "print(monthly_runoff)"
   ]
  },
  {
   "cell_type": "code",
   "execution_count": null,
   "metadata": {
    "collapsed": false,
    "scrolled": false
   },
   "outputs": [],
   "source": [
    "melt_by_doy = (                                                             \n",
    "        SOLmelt.data_by_doy() +                                           \n",
    "        SOImelt.data_by_doy() +                                           \n",
    "        EGImelt.data_by_doy())\n",
    "total_melt = melt_by_doy.sum()\n",
    "print(\"total melt = %.2f\" % total_melt)\n",
    "melt_by_month = melt_by_doy.groupby([pd.TimeGrouper('M')]).sum().to_frame(name='melt')\n",
    "# print(melt_by_month)\n",
    "yyyymm_index = pd.to_datetime(melt_by_month.index.map(lambda x: x.strftime('%Y-%m-15')))\n",
    "df = pd.DataFrame(data=melt_by_month.values, index=yyyymm_index, columns=['melt'])\n",
    "print(df)\n",
    "print(monthly_rainfall.values)\n",
    "df[\"rainfall\"] = monthly_rainfall.values\n",
    "df[\"runoff\"] = monthly_runoff.values\n",
    "df[\"melt+rainfall\"] = df[\"melt\"] + df[\"rainfall\"]\n",
    "print(df)\n",
    "np.amax(df[\"melt+rainfall\"])"
   ]
  },
  {
   "cell_type": "code",
   "execution_count": null,
   "metadata": {
    "collapsed": false,
    "scrolled": false
   },
   "outputs": [],
   "source": [
    "fig, ax = plt.subplots(3,1,figsize=(9,9))\n",
    "ax[0] = PlotTriSurfInput(ax[0], \n",
    "                         input['snow_on_land_by_elevation_hyps'],\n",
    "                         input['snow_on_ice_by_elevation_hyps'],\n",
    "                         input['exposed_glacier_ice_by_elevation_hyps'],\n",
    "                         input['temperature_by_elevation_hyps'],\n",
    "                         title=\"Inputs for %s (%d)\" % (drainageID, year))\n",
    "ax[1] = PlotTriSurfMelt(ax[1], SOLmelt, SOImelt, EGImelt, \n",
    "                     title=\"Modelled melt for %s (%d)\" % (drainageID, year))\n",
    "ax[1].text(ax[1].get_xlim()[0] + (0.03 * (ax[1].get_xlim()[1] - ax[1].get_xlim()[0])), \n",
    "           ax[1].get_ylim()[1] * 0.7,\n",
    "           'snow DDF = %.2f - %.2f $mm/C/day$\\nice DDF = %.2f - %.2f $mm/C/day$' % \n",
    "           (min_snow_ddf, max_snow_ddf, min_ice_ddf, max_ice_ddf),\n",
    "           style='italic',\n",
    "            bbox={'facecolor':'gray', 'alpha':0.1, 'pad':10})\n",
    "df[['runoff']].plot(ax=ax[2], kind=\"bar\", color=(0.8, 0.8, 0.8))\n",
    "df[['rainfall','melt']].plot(ax=ax[2], kind=\"bar\", position=0., \n",
    "                             stacked=True, color=['c','b'])\n",
    "ax[2].set_title(\"Monthly Runoff vs. (Rainfall + Melt)\")\n",
    "ax[2].set_ylabel('Volume (' + r'$km^3$' + ')') \n",
    "ax[2].xaxis.set_major_formatter(plt.NullFormatter())\n",
    "for container in ax[2].containers:\n",
    "    plt.setp(container, width=0.25)\n",
    "ax[2].set_ylim([0,1.1 * np.amax(df[\"melt+rainfall\"])])\n",
    "if df[\"runoff\"].sum() > 0.:\n",
    "    total_runoff = df[\"runoff\"].sum()\n",
    "else:\n",
    "    total_runoff = np.nan\n",
    "ax[2].text(ax[2].get_xlim()[0] + (0.03 * (ax[2].get_xlim()[1] - ax[2].get_xlim()[0])), \n",
    "           ax[2].get_ylim()[1] * 0.7,\n",
    "           'melt + rainfall = %.2f $km^2$\\nrunoff = %.2f $km^2$' % \n",
    "           (df[\"melt+rainfall\"].sum(), total_runoff),\n",
    "           style='italic',\n",
    "            bbox={'facecolor':'gray', 'alpha':0.1, 'pad':10})\n",
    "handles, labels = ax[2].get_legend_handles_labels()\n",
    "ax[2].legend(reversed(handles), reversed(labels))\n",
    "\n",
    "fig.tight_layout()\n",
    "fig.savefig(outfile)\n"
   ]
  },
  {
   "cell_type": "code",
   "execution_count": null,
   "metadata": {
    "collapsed": false
   },
   "outputs": [],
   "source": [
    "outfile"
   ]
  },
  {
   "cell_type": "code",
   "execution_count": null,
   "metadata": {
    "collapsed": true
   },
   "outputs": [],
   "source": []
  }
 ],
 "metadata": {
  "kernelspec": {
   "display_name": "Python 2",
   "language": "python",
   "name": "python2"
  },
  "language_info": {
   "codemirror_mode": {
    "name": "ipython",
    "version": 2
   },
   "file_extension": ".py",
   "mimetype": "text/x-python",
   "name": "python",
   "nbconvert_exporter": "python",
   "pygments_lexer": "ipython2",
   "version": "2.7.12"
  }
 },
 "nbformat": 4,
 "nbformat_minor": 0
}
