{
 "cells": [
  {
   "cell_type": "code",
   "execution_count": null,
   "metadata": {
    "collapsed": false
   },
   "outputs": [],
   "source": [
    "%pylab notebook\n",
    "import matplotlib.pyplot as plt\n",
    "from charistools.meltModels import TriSurfTempIndexMelt\n",
    "from charistools.meltModels import ImshowTriSurfMelt\n",
    "from charistools.meltModels import PlotTriSurfInput\n",
    "from charistools.meltModels import PlotTriSurfMelt\n",
    "from charistools.modelEnv import ModelEnv\n",
    "import re\n",
    "import os"
   ]
  },
  {
   "cell_type": "code",
   "execution_count": null,
   "metadata": {
    "collapsed": false,
    "scrolled": false
   },
   "outputs": [],
   "source": [
    "configFile = '/Users/brodzik/projects/CHARIS/charistools_test_data/calibration_modelEnv_config.ini'\n",
    "myEnv = ModelEnv(tileConfigFile=configFile)\n"
   ]
  },
  {
   "cell_type": "code",
   "execution_count": null,
   "metadata": {
    "collapsed": false,
    "scrolled": true
   },
   "outputs": [],
   "source": [
    "#drainageID = 'IN_Hunza_at_DainyorBridge'\n",
    "drainageID = 'AM_Vakhsh_at_Komsomolabad'\n",
    "%cd ~/projects/CHARIS/charistools_test_data/derived_hypsometries/$drainageID\n",
    "%pwd"
   ]
  },
  {
   "cell_type": "code",
   "execution_count": null,
   "metadata": {
    "collapsed": false
   },
   "outputs": [],
   "source": [
    "ablation_method = 'albedo_mod10a1'\n",
    "threshold = 0.40\n",
    "input = myEnv.model_inputs(drainageID=drainageID,\n",
    "                           year=2001,\n",
    "                           ablation_method=ablation_method,\n",
    "                           threshold=threshold)"
   ]
  },
  {
   "cell_type": "code",
   "execution_count": null,
   "metadata": {
    "collapsed": false,
    "scrolled": true
   },
   "outputs": [],
   "source": [
    "#input"
   ]
  },
  {
   "cell_type": "code",
   "execution_count": null,
   "metadata": {
    "collapsed": false
   },
   "outputs": [],
   "source": [
    "best_model = \"8.0_9.44_8.0_15.0\"\n",
    "best_model = \"8.89_9.0_12.0_19.0\"\n",
    "best_model = \"4.0_5.0_4.0_11.0\"\n",
    "(min_snow_ddf, max_snow_ddf, min_ice_ddf, max_ice_ddf) = best_model.split(\"_\")\n",
    "min_snow_ddf = float(min_snow_ddf)\n",
    "max_snow_ddf = float(max_snow_ddf)\n",
    "min_ice_ddf = float(min_ice_ddf)\n",
    "max_ice_ddf = float(max_ice_ddf)\n",
    "print(min_snow_ddf, max_snow_ddf, min_ice_ddf, max_ice_ddf)"
   ]
  },
  {
   "cell_type": "code",
   "execution_count": null,
   "metadata": {
    "collapsed": false
   },
   "outputs": [],
   "source": [
    "(SOLmelt, SOImelt, EGImelt) = TriSurfTempIndexMelt(\n",
    "    input['snow_on_land_by_elevation_filename'],\n",
    "    input['snow_on_ice_by_elevation_filename'],\n",
    "    input['exposed_glacier_ice_by_elevation_filename'],\n",
    "    input['temperature_by_elevation_filename'],\n",
    "    min_snow_ddf=min_snow_ddf,\n",
    "    max_snow_ddf=max_snow_ddf,\n",
    "    min_ice_ddf=min_ice_ddf,\n",
    "    max_ice_ddf=max_ice_ddf)"
   ]
  },
  {
   "cell_type": "code",
   "execution_count": null,
   "metadata": {
    "collapsed": false
   },
   "outputs": [],
   "source": [
    "import os\n",
    "import re\n",
    "p = re.compile(drainageID)\n",
    "outdir = '/Users/brodzik/projects/CHARIS/charistools_test_data/derived_hypsometries/' + drainageID\n",
    "SOLmeltfile = os.path.basename(input['snow_on_land_by_elevation_filename'])\n",
    "SOLmeltfile = SOLmeltfile.replace('_area_by_elev', '_melt_by_elev')\n",
    "SOLmeltfile = outdir + '/' + p.sub(drainageID + '.model_' + best_model, SOLmeltfile)\n",
    "\n",
    "SOImeltfile = os.path.basename(input['snow_on_ice_by_elevation_filename'])\n",
    "SOImeltfile = SOImeltfile.replace('_area_by_elev', '_melt_by_elev')\n",
    "SOImeltfile = outdir + '/' + p.sub(drainageID + '.model_' + best_model, SOImeltfile)\n",
    "\n",
    "EGImeltfile = os.path.basename(input['exposed_glacier_ice_by_elevation_filename'])\n",
    "EGImeltfile = EGImeltfile.replace('_area_by_elev', '_melt_by_elev')\n",
    "EGImeltfile = outdir + '/' + p.sub(drainageID + '.model_' + best_model, EGImeltfile)\n",
    "\n",
    "print(SOLmeltfile)\n",
    "print(SOImeltfile)\n",
    "print(EGImeltfile)"
   ]
  },
  {
   "cell_type": "code",
   "execution_count": null,
   "metadata": {
    "collapsed": false,
    "scrolled": true
   },
   "outputs": [],
   "source": [
    "from charistools.hypsometry import Hypsometry\n",
    "SOLmelt.write(filename=SOLmeltfile, decimal_places=2, verbose=True)\n",
    "SOImelt.write(filename=SOImeltfile, decimal_places=2, verbose=True)\n",
    "EGImelt.write(filename=EGImeltfile, decimal_places=2, verbose=True)"
   ]
  },
  {
   "cell_type": "code",
   "execution_count": null,
   "metadata": {
    "collapsed": false
   },
   "outputs": [],
   "source": [
    "outfile = SOImeltfile\n",
    "outfile\n",
    "p = re.compile(r'snow_on_ice.+')\n",
    "outfile = p.sub('melt_tseries.png', outfile)\n",
    "outfile"
   ]
  },
  {
   "cell_type": "code",
   "execution_count": null,
   "metadata": {
    "collapsed": false,
    "scrolled": true
   },
   "outputs": [],
   "source": [
    "fig, axes = plt.subplots(3,1)\n",
    "ImshowTriSurfMelt(axes, SOLmelt, SOImelt, EGImelt)\n",
    "fig.tight_layout()"
   ]
  },
  {
   "cell_type": "code",
   "execution_count": null,
   "metadata": {
    "collapsed": false,
    "scrolled": true
   },
   "outputs": [],
   "source": [
    "rainfallFile = myEnv.calibration_filename(type=\"rainfall\", \n",
    "                                          drainageID=drainageID)\n",
    "runoffFile = myEnv.calibration_filename(type=\"runoff\", \n",
    "                                          drainageID=drainageID)\n"
   ]
  },
  {
   "cell_type": "code",
   "execution_count": null,
   "metadata": {
    "collapsed": false,
    "scrolled": true
   },
   "outputs": [],
   "source": [
    "from charistools.timeSeries import TimeSeries\n",
    "rainfall = TimeSeries(rainfallFile)\n",
    "runoff = TimeSeries(runoffFile)"
   ]
  },
  {
   "cell_type": "code",
   "execution_count": null,
   "metadata": {
    "collapsed": false
   },
   "outputs": [],
   "source": [
    "total_rainfall = rainfall.data['rainfall']['2001-01-01':'2001-12-01'].sum()\n",
    "total_runoff = runoff.data['runoff']['2001-01-01':'2001-12-01'].sum()\n",
    "print(\"total rainfall = %.2f\" % total_rainfall)\n",
    "print(\"total runoff = %.2f\" % total_runoff)"
   ]
  },
  {
   "cell_type": "code",
   "execution_count": null,
   "metadata": {
    "collapsed": false
   },
   "outputs": [],
   "source": [
    "melt_by_doy = (                                                             \n",
    "        SOLmelt.data_by_doy() +                                           \n",
    "        SOImelt.data_by_doy() +                                           \n",
    "        EGImelt.data_by_doy())\n",
    "total_melt = melt_by_doy.sum()\n",
    "print(\"total melt = %.2f\" % total_melt)"
   ]
  },
  {
   "cell_type": "code",
   "execution_count": null,
   "metadata": {
    "collapsed": false,
    "scrolled": false
   },
   "outputs": [],
   "source": [
    "fig, ax = plt.subplots(2,1,figsize=(9,8))\n",
    "ax[0] = PlotTriSurfInput(ax[0], \n",
    "                         input['snow_on_land_by_elevation_hyps'],\n",
    "                         input['snow_on_ice_by_elevation_hyps'],\n",
    "                         input['exposed_glacier_ice_by_elevation_hyps'],\n",
    "                         input['temperature_by_elevation_hyps'],\n",
    "                         title=\"Inputs for \" + drainageID)\n",
    "ax[1] = PlotTriSurfMelt(ax[1], SOLmelt, SOImelt, EGImelt, \n",
    "                     title=drainageID + \" 2001\")\n",
    "ax[1].text('2001-01-15', ax[1].get_ylim()[1] * 0.8,\n",
    "           'melt + rainfall = %.2f $km^2$\\nrunoff = %.2f $km^2$' % \n",
    "           (total_melt + total_rainfall, total_runoff), \n",
    "           style='italic',\n",
    "            bbox={'facecolor':'gray', 'alpha':0.1, 'pad':10})\n",
    "ax[1].text('2001-01-15', ax[1].get_ylim()[0] + \n",
    "           (0.1 * (ax[1].get_ylim()[1] - ax[1].get_ylim()[0])),\n",
    "           'snow DDF = %.2f - %.2f $mm/C/day$\\nice DDF = %.2f - %.2f $mm/C/day$' % \n",
    "           (min_snow_ddf, max_snow_ddf, min_ice_ddf, max_ice_ddf),\n",
    "           style='italic',\n",
    "            bbox={'facecolor':'gray', 'alpha':0.1, 'pad':10})\n",
    "fig.tight_layout()\n",
    "fig.savefig(outfile)\n"
   ]
  },
  {
   "cell_type": "code",
   "execution_count": null,
   "metadata": {
    "collapsed": true
   },
   "outputs": [],
   "source": []
  }
 ],
 "metadata": {
  "kernelspec": {
   "display_name": "Python 2",
   "language": "python",
   "name": "python2"
  },
  "language_info": {
   "codemirror_mode": {
    "name": "ipython",
    "version": 2
   },
   "file_extension": ".py",
   "mimetype": "text/x-python",
   "name": "python",
   "nbconvert_exporter": "python",
   "pygments_lexer": "ipython2",
   "version": "2.7.12"
  }
 },
 "nbformat": 4,
 "nbformat_minor": 0
}
