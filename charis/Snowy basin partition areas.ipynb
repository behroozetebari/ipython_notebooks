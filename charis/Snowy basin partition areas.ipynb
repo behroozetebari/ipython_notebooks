{
 "cells": [
  {
   "cell_type": "markdown",
   "metadata": {},
   "source": [
    "<h2>Calculates time series of partitioned areas by major basin</h2>\n"
   ]
  },
  {
   "cell_type": "code",
   "execution_count": null,
   "metadata": {
    "collapsed": false
   },
   "outputs": [],
   "source": [
    "%pylab notebook\n",
    "import csv\n",
    "import datetime as dt\n",
    "import glob\n",
    "import matplotlib.pyplot as plt\n",
    "import matplotlib.dates as md\n",
    "from nose.tools import set_trace\n",
    "from charistools.convertors import Dem2Hypsometry\n",
    "from charistools.hypsometry import Hypsometry\n",
    "from charistools.meltModels import TriSurfTempIndexMelt\n",
    "from charistools.meltModels import ImshowTriSurfMelt\n",
    "from charistools.meltModels import PlotTriSurfInput\n",
    "from charistools.meltModels import PlotTriSurfMelt\n",
    "from charistools.modelEnv import ModelEnv\n",
    "from charistools.timeSeries import TimeSeries\n",
    "import pandas as pd\n",
    "import re\n",
    "import os"
   ]
  },
  {
   "cell_type": "code",
   "execution_count": null,
   "metadata": {
    "collapsed": false,
    "scrolled": false
   },
   "outputs": [],
   "source": [
    "majorConfigFile = '/Users/brodzik/ipython_notebooks/charis/major_basins_modelEnv_config.ini'\n",
    "majorBasinEnv = ModelEnv(tileConfigFile=majorConfigFile)\n",
    "snowyConfigFile = '/Users/brodzik/ipython_notebooks/charis/snowy_basins_modelEnv_config.ini'\n",
    "snowyBasinEnv = ModelEnv(tileConfigFile=snowyConfigFile)"
   ]
  },
  {
   "cell_type": "code",
   "execution_count": null,
   "metadata": {
    "collapsed": false
   },
   "outputs": [],
   "source": [
    "snowyBasinEnv.tileConfig"
   ]
  },
  {
   "cell_type": "code",
   "execution_count": null,
   "metadata": {
    "collapsed": false,
    "scrolled": true
   },
   "outputs": [],
   "source": [
    "# ids = ['AM', 'BR', 'GA_v01', 'IN_v01', 'SY_v01']\n",
    "ids = ['SY_v01']\n",
    "snowyBasinIDs = [\"%s_snow_fullbasinmasks\" % id for id in ids]\n",
    "fullBasinIDs = [\"%s_fullbasinmasks\" % id for id in ids]\n"
   ]
  },
  {
   "cell_type": "code",
   "execution_count": null,
   "metadata": {
    "collapsed": false
   },
   "outputs": [],
   "source": [
    "ids, fullBasinIDs, snowyBasinIDs\n"
   ]
  },
  {
   "cell_type": "code",
   "execution_count": null,
   "metadata": {
    "collapsed": false,
    "scrolled": true
   },
   "outputs": [],
   "source": [
    "#help(Hypsometry)"
   ]
  },
  {
   "cell_type": "code",
   "execution_count": null,
   "metadata": {
    "collapsed": true
   },
   "outputs": [],
   "source": [
    "# Generate a list of all OBJECTID basins\n",
    "def objectIDs(id):\n",
    "    %cd /Users/brodzik/projects/CHARIS/derived_hypsometries/MODSCAG_GF_v09_fromFile_rainfall_less_ET/\n",
    "    objectIDs = []\n",
    "    ids = glob.glob(\"%s_OBJECTID*\" % id)\n",
    "    ids.sort()\n",
    "    print(\"There are %d OBJECTID sub-basins for the %s major basin\" % (len(ids), id))\n",
    "    return(ids)\n"
   ]
  },
  {
   "cell_type": "code",
   "execution_count": null,
   "metadata": {
    "collapsed": false
   },
   "outputs": [],
   "source": [
    "ids"
   ]
  },
  {
   "cell_type": "code",
   "execution_count": null,
   "metadata": {
    "collapsed": false
   },
   "outputs": [],
   "source": [
    "years = np.arange(2) + 2008\n",
    "years"
   ]
  },
  {
   "cell_type": "code",
   "execution_count": null,
   "metadata": {
    "collapsed": false,
    "scrolled": false
   },
   "outputs": [],
   "source": [
    "for year in years:\n",
    "    for i, id in enumerate(ids):\n",
    "        # Read the full basin elevation and total the area\n",
    "        fullFile = majorBasinEnv.hypsometry_filename(type='area_by_elevation', drainageID=fullBasinIDs[i])\n",
    "        full_hyps = Hypsometry(fullFile)\n",
    "        full_basin_area = full_hyps.data_by_doy().loc['NoDate']\n",
    "        print(\"%s_area_km2: %.4f\" % (fullBasinIDs[i], full_basin_area))\n",
    "    \n",
    "        # Read the full basin elevation and total the area\n",
    "        snowyFile = majorBasinEnv.hypsometry_filename(type='area_by_elevation', drainageID=snowyBasinIDs[i])\n",
    "        snowy_hyps = Hypsometry(snowyFile)\n",
    "        snowy_basin_area = snowy_hyps.data_by_doy().loc['NoDate']\n",
    "        print(\"%s_area_km2: %.4f\" % (snowyBasinIDs[i], snowy_basin_area))\n",
    "        \n",
    "        # Get a list of the snowy_basins for this id\n",
    "        # Read each area file for each objectID in turn, and sub-total by doy\n",
    "        objects = objectIDs(id)\n",
    "        #objects = objects[:3]\n",
    "        partition_types = ['snow_on_land', 'exposed_glacier_ice', 'snow_on_ice']\n",
    "        sol = pd.DataFrame()\n",
    "        soi = pd.DataFrame()\n",
    "        egi = pd.DataFrame()\n",
    "        for object in objects:\n",
    "            print(\"Next objectID: %s\" % object)\n",
    "            SOLFile = snowyBasinEnv.hypsometry_filename(\n",
    "                type='snow_on_land_by_elevation',\n",
    "                drainageID=object,\n",
    "                year=year,\n",
    "                modice_nstrikes=3)\n",
    "            SOIFile = snowyBasinEnv.hypsometry_filename(\n",
    "                type='snow_on_ice_by_elevation',\n",
    "                drainageID=object,\n",
    "                year=year,\n",
    "                modice_nstrikes=3,\n",
    "                threshold='fromFile',\n",
    "                ablation_method='grsize_scag')\n",
    "            EGIFile = snowyBasinEnv.hypsometry_filename(\n",
    "                type='exposed_glacier_ice_by_elevation',\n",
    "                drainageID=object,\n",
    "                year=year,\n",
    "                modice_nstrikes=3,\n",
    "                threshold='fromFile',\n",
    "                ablation_method='grsize_scag')\n",
    "            \n",
    "            solHyps = Hypsometry(SOLFile)\n",
    "            soiHyps = Hypsometry(SOIFile)\n",
    "            egiHyps = Hypsometry(EGIFile)\n",
    "            \n",
    "            sol_by_doy = solHyps.data_by_doy()\n",
    "            sol_by_doy.name = object\n",
    "            soi_by_doy = soiHyps.data_by_doy()\n",
    "            soi_by_doy.name = object\n",
    "            egi_by_doy = egiHyps.data_by_doy()\n",
    "            egi_by_doy.name = object\n",
    "\n",
    "            sol = sol.append(sol_by_doy)\n",
    "            soi = soi.append(soi_by_doy)\n",
    "            egi = egi.append(egi_by_doy)\n",
    "        \n",
    "        # Make a new DataFrame with the areas by date and SOL/SOI/EGI columns\n",
    "        df = pd.concat([sol.sum(), egi.sum(), soi.sum()], axis=1)\n",
    "        df.columns = ['SOL_km2', 'EGI_km2', 'SOI_km2']\n",
    "        \n",
    "        df['Snow_ice_area_km2'] = df.sum(axis=1)\n",
    "        df['Full_basin_area_km2'] = full_basin_area\n",
    "        df['Full_basin_less_snow_ice_area_km2'] = full_basin_area - df['Snow_ice_area_km2']\n",
    "        df['Snowy_basin_area_km2'] = snowy_basin_area\n",
    "        df['Snowy_basin_less_snow_ice_area_km2'] = snowy_basin_area - df['Snow_ice_area_km2']\n",
    "\n",
    "        # Write out the data frame\n",
    "        outFile = os.path.join(\n",
    "            \"/Users/brodzik/projects/CHARIS/derived_hypsometries/MODSCAG_GF_v09_fromFile_rainfall_less_ET\",\n",
    "            \"%s.%4d.partition_area.new.txt\" % (id, year))\n",
    "        print(\"Outfile will be: %s\" % outFile)\n",
    "        \n",
    "        fh = open(outFile, 'w')\n",
    "        fh.write(\"# Major_basin: %s\\n\" % id)\n",
    "        fh.write(\"# Snowy basins: %s\\n\" % (\", \".join(objects)))\n",
    "        fh.write(\"# Number_of_snowy_basins: %d\\n\" % (len(objects)))\n",
    "        fh.write(str(len(df.columns)) + '\\n')\n",
    "        fh.write(' '.join([str(col) for col in df.columns]) + '\\n')\n",
    "        fh.close()\n",
    "        \n",
    "        df['yyyy'] = df.index.year\n",
    "        df['mm'] = df.index.month\n",
    "        df['dd'] = df.index.day\n",
    "        df['doy'] = df.index.dayofyear\n",
    "        df = df.reindex_axis(\n",
    "            ['yyyy', 'mm', 'dd', 'doy'] +\n",
    "            list(df.columns[:-4]), axis=1)\n",
    "        \n",
    "        format = \"%.4f\"                           \n",
    "        df.to_csv(outFile, mode='a', header=False, index=False, sep=\" \",  \n",
    "                  float_format=format, quoting=csv.QUOTE_NONE) \n",
    "            \n",
    "            "
   ]
  },
  {
   "cell_type": "code",
   "execution_count": null,
   "metadata": {
    "collapsed": false
   },
   "outputs": [],
   "source": [
    "%cat /Users/brodzik/projects/CHARIS/derived_hypsometries/MODSCAG_GF_v09_fromFile_rainfall_less_ET/SY_v01.2001.partition_area.txt"
   ]
  },
  {
   "cell_type": "code",
   "execution_count": null,
   "metadata": {
    "collapsed": false,
    "scrolled": false
   },
   "outputs": [],
   "source": [
    "fig, axes = plt.subplots(1)\n",
    "for id in majorBasinIDs:\n",
    "    outFile = myEnv.hypsometry_filename(type='area_by_elevation', drainageID=id)\n",
    "    print(outFile)\n",
    "    hyps = Hypsometry(outFile)\n",
    "    hyps.data.loc['NoDate'].plot(label=id)\n",
    "    axes.legend()"
   ]
  },
  {
   "cell_type": "code",
   "execution_count": null,
   "metadata": {
    "collapsed": false
   },
   "outputs": [],
   "source": [
    "fig, axes = plt.subplots(1)\n",
    "for id in majorBasinIDs:\n",
    "    outFile = myEnv.hypsometry_filename(type='area_by_elevation', drainageID=id)\n",
    "    print(outFile)\n",
    "    hyps = Hypsometry(outFile)\n",
    "    hyps.data.loc['NoDate'].plot(label=id)\n",
    "    axes.legend()\n"
   ]
  },
  {
   "cell_type": "code",
   "execution_count": null,
   "metadata": {
    "collapsed": false
   },
   "outputs": [],
   "source": [
    "#hyps.data\n"
   ]
  },
  {
   "cell_type": "code",
   "execution_count": null,
   "metadata": {
    "collapsed": true
   },
   "outputs": [],
   "source": []
  }
 ],
 "metadata": {
  "kernelspec": {
   "display_name": "Python 2",
   "language": "python",
   "name": "python2"
  },
  "language_info": {
   "codemirror_mode": {
    "name": "ipython",
    "version": 2
   },
   "file_extension": ".py",
   "mimetype": "text/x-python",
   "name": "python",
   "nbconvert_exporter": "python",
   "pygments_lexer": "ipython2",
   "version": "2.7.12"
  }
 },
 "nbformat": 4,
 "nbformat_minor": 0
}
