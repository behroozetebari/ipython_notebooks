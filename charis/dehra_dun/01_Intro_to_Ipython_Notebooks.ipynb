{
 "metadata": {
  "name": "",
  "signature": "sha256:e72442b8e7d66445ae2d41608dce2e063052051113d07888ef5236d4a7e60a8e"
 },
 "nbformat": 3,
 "nbformat_minor": 0,
 "worksheets": [
  {
   "cells": [
    {
     "cell_type": "heading",
     "level": 1,
     "metadata": {},
     "source": [
      "Quick Introduction to Ipython Notebook\n"
     ]
    },
    {
     "cell_type": "heading",
     "level": 3,
     "metadata": {},
     "source": [
      "<i><p>Purpose of this notebook:  Introduce you to:\n",
      "    <ol>\n",
      "        <li> the basic features of interactive python that you use from a web browser</li>\n",
      "        <li> numpy (http://www.numpy.org), which you need to do scientific analysis in python</li>\n",
      "        <li> matplotlib (http://www.matplotlib.org), which you need to make nice, 2D plots in python</li>\n",
      "        <li> ways to get help while learning\n",
      "    </ol>\n",
      "</p>\n",
      "<p>At the end of this lesson, you should be able to display a plot of $y = x^2$.</p></i>"
     ]
    },
    {
     "cell_type": "markdown",
     "metadata": {},
     "source": [
      "This notebook has:\n",
      "\n",
      "a title (that can be renamed by clicking on it),\n",
      "\n",
      "a main menu bar with functions for adding content, \n",
      "\n",
      "and a toolbar with often-used tools.  Try the Help->User Interface Tour to see each of these parts pointed out to you.\n",
      "\n",
      "Here is more stuff."
     ]
    },
    {
     "cell_type": "raw",
     "metadata": {},
     "source": [
      "Here is some raw text."
     ]
    },
    {
     "cell_type": "markdown",
     "metadata": {},
     "source": [
      "Notebooks consists of \"cells\" that can contain markdown, comments, executable code snippets and more.\n",
      "\"Execute\" a cell by entering Shift-Return \n",
      "\n",
      "or clicking Cell->Run on the menu\n",
      "\n",
      "or clicking the play button on the toolbar."
     ]
    },
    {
     "cell_type": "markdown",
     "metadata": {},
     "source": [
      "In a cell, you can move the cursor around with:\n",
      "<ul>\n",
      "    <li>Ctrl-a : beginning of line\n",
      "    <li>Ctrl-e : end of line\n",
      "    <li>Ctrl-k : cut to end of line\n",
      "    <li>Ctrl-p : go to previous line\n",
      "    <li>Ctrl-n : go to next line\n",
      "</ul>\n"
     ]
    },
    {
     "cell_type": "code",
     "collapsed": false,
     "input": [
      "print( \"Hello world\\n\")"
     ],
     "language": "python",
     "metadata": {},
     "outputs": []
    },
    {
     "cell_type": "markdown",
     "metadata": {},
     "source": [
      "Python has a notion of \"namespaces,\" which requires you to \"import\" modules that are not available as a default.  One of the most important of these for scientific computing is numpy (Numerical Python http://www.numpy.org/).  While python has some basic types for floats, ints, lists and dicts (structures), if you are doing anything with vectors or matrices of numbers, you should be using numpy.  Here's an example:"
     ]
    },
    {
     "cell_type": "code",
     "collapsed": false,
     "input": [
      "import numpy as np\n",
      "x = np.array(  [ [ 1, 2 ], [ 3, 4 ] ] )\n",
      "x"
     ],
     "language": "python",
     "metadata": {},
     "outputs": []
    },
    {
     "cell_type": "code",
     "collapsed": false,
     "input": [
      "print x\n"
     ],
     "language": "python",
     "metadata": {},
     "outputs": []
    },
    {
     "cell_type": "markdown",
     "metadata": {},
     "source": [
      "A handy feature while learning about something new in python is to call the help function on it (you can do this on objects, variables, or functions to get more information about them)."
     ]
    },
    {
     "cell_type": "code",
     "collapsed": false,
     "input": [
      "help( x )"
     ],
     "language": "python",
     "metadata": {},
     "outputs": []
    },
    {
     "cell_type": "markdown",
     "metadata": {},
     "source": [
      "Another very valuable python module that you will likely want to learn is called matplotlib (http://matplotlib.org/).  It is a python module intended for users of matlab.  So if you are a matlab user, you will be very comfortable with it!  (I am not a matlab user, I know IDL a lot better, so I struggle with it a little bit.)  But first, here's a numpy function for generating a sequence of N numbers from zero to N-1:"
     ]
    },
    {
     "cell_type": "code",
     "collapsed": false,
     "input": [
      "help( np.arange )"
     ],
     "language": "python",
     "metadata": {},
     "outputs": []
    },
    {
     "cell_type": "code",
     "collapsed": false,
     "input": [
      "# You only need to execute this command once, \n",
      "# at the beginning of your notebook session\n",
      "%pylab inline  \n",
      "import matplotlib.pyplot as plt\n",
      "plt.plot(np.arange(150))\n",
      "#plt.show()  # this line may not be needed (depends on matplotlib.is_interactive() setting\n"
     ],
     "language": "python",
     "metadata": {},
     "outputs": []
    },
    {
     "cell_type": "markdown",
     "metadata": {},
     "source": [
      "(Use the little icon in the lower right part of the plot to resize it interactively.)"
     ]
    },
    {
     "cell_type": "code",
     "collapsed": false,
     "input": [
      "data = np.arange( 150 )\n",
      "fig, ax = plt.subplots(1,1)\n",
      "ax.set_title('My title')\n",
      "plt.plot( data )\n"
     ],
     "language": "python",
     "metadata": {},
     "outputs": []
    },
    {
     "cell_type": "markdown",
     "metadata": {},
     "source": [
      "In an ipython notebook like the one we are using here, there are a lot of options for displaying text, notes and images.  Just one more example (because it's so cool), is that you can display latex-formatted equations very easily if you are using math equations.  Like this: "
     ]
    },
    {
     "cell_type": "heading",
     "level": 2,
     "metadata": {},
     "source": [
      "$$k_{0} = \\cos{\\phi_{1}} { \\sqrt{ 1 - e^2\\sin^2{\\phi_{1}}}}$$"
     ]
    },
    {
     "cell_type": "heading",
     "level": 2,
     "metadata": {},
     "source": [
      "Further examples and tutorial on ipython notebooks:\n",
      "<br>\n",
      "http://ipython.org/ipython-doc/1/interactive/notebook.html"
     ]
    },
    {
     "cell_type": "markdown",
     "metadata": {},
     "source": [
      "Try using the command cell below this to display a plot of $y = x^2$.  Give it a title like this:  \"&lt;your name&gt;'s first python plot\".\n",
      "\n",
      "<i>Hint: One way python has  for raising a value to a power is an operator that looks like 2 asterisks: \"**\".</i>"
     ]
    },
    {
     "cell_type": "code",
     "collapsed": false,
     "input": [],
     "language": "python",
     "metadata": {},
     "outputs": []
    }
   ],
   "metadata": {}
  }
 ]
}