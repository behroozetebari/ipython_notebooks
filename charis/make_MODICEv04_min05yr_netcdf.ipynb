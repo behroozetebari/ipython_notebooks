{
 "cells": [
  {
   "cell_type": "markdown",
   "metadata": {},
   "source": [
    "This notebook will convert plain binary MODICE.v0.4 tile files into CF-compliant .nc files, complete with dimension and projection information.\n",
    "\n",
    "The user of these files should be able to make geotiffs with:\n",
    "\n",
    "and reproject from the spherical MODICE ellipsoid to wgs84 with:\n"
   ]
  },
  {
   "cell_type": "code",
   "execution_count": 2,
   "metadata": {
    "collapsed": true
   },
   "outputs": [],
   "source": [
    "from netCDF4 import Dataset\n",
    "import json"
   ]
  },
  {
   "cell_type": "code",
   "execution_count": null,
   "metadata": {
    "collapsed": true
   },
   "outputs": [],
   "source": [
    "# Assume that /projects/CHARIS is sshfs mounted on this machine, and\n",
    "# that the user has write permission\n",
    "fid = Dataset('~/projects/CHARIS/snow_cover/modice.v0.4/min05yr_nc/MODICE.v0.4.1test.nc', 'w', format='NETCDF4')\n",
    "fid.Conventions = \"CF-1.6\"\n",
    "fid = Dataset('/home/vagrant/measures-byu/src/prod/cetb_file/templates/cetb_global_template.nc', 'w', format='NETCDF4')\n",
    "fid.Conventions = \"CF-1.6\"\n",
    "fid.title = \"MODICE mask for a minimum number of years\"\n",
    "fid.product_version = \"v0.4\"\n",
    "#fid.software_version_id = \"TBD\"\n",
    "#fid.software_repository = \"git@bitbucket.org:nsidc/measures-byu.git\"\n",
    "fid.source = \"MODICE\"\n",
    "fid.source_version_id = \"v04\"\n",
    "fid.history = \"\"\n",
    "fid.comment = \"Mask locations with 2 indicate MODICE for >= min_years.\"\n",
    "fid.references = \"Painter, T. H., Brodzik, M. J., A. Racoviteanu, R. Armstrong. 2012. Automated mapping of Earth's annual minimum exposed snow and ice with MODIS. Geophysical Research Letters, 39(20):L20501, doi:10.1029/2012GL053340.\"\n",
    "fid.summary = [\"An improved, enhanced-resolution, gridded passive microwave Earth System Data Record \\n\",\n",
    "               \"for monitoring cryospheric and hydrologic time series\\n\" ]fid.title = \"MEaSUREs Calibrated Passive Microwave Daily EASE-Grid 2.0 Brightness Temperature ESDR\"\n",
    "fid.institution = [\"National Snow and Ice Data Center\\n\",\n",
    "                   \"Cooperative Institute for Research in Environmental Sciences\\n\",\n",
    "                   \"University of Colorado at Boulder\\n\",\n",
    "                   \"Boulder, CO\"]\n",
    "fid.publisher = [\"National Snow and Ice Data Center\\n\",\n",
    "                   \"Cooperative Institute for Research in Environmental Sciences\\n\",\n",
    "                   \"University of Colorado at Boulder\\n\",\n",
    "                   \"Boulder, CO\"]\n",
    "fid.publisher_url = \"http://nsidc.org/charis\"\n",
    "fid.publisher_email = \"brodzik@nsidc.org\"\n",
    "fid.project = \"CHARIS\"\n",
    "fid.standard_name_vocabulary = \"CF Standard Name Table (v27, 28 September 2013)\"\n",
    "fid.cdm_data_type = \"grid\"\n",
    "fid.keywords = \"EARTH SCIENCE > SPECTRAL/ENGINEERING > MICROWAVE > BRIGHTNESS TEMPERATURE\" \n",
    "fid.keywords_vocabulary = \"NASA Global Change Master Directory (GCMD) Earth Science Keywords, Version 8.1\"\n",
    "fid.platform = \"TBD\"\n",
    "fid.sensor = \"TBD\"\n",
    "fid.naming_authority = \"org.doi.dx\"\n",
    "fid.id = \"10.5067/MEASURES/CRYOSPHERE/nsidc-0630.001\"\n",
    "fid.date_created = \"TBD\"\n",
    "fid.acknowledgement = [\"This data set was created with funding from NASA MEaSUREs Grant #NNX13AI23A.\\n\",\n",
    "                       \"Data archiving and distribution is supported by the NASA NSIDC Distributed Active Archive Center (DAAC).\"]\n",
    "fid.license = \"No constraints on data access or use\"\n",
    "fid.processing_level = \"Level 3\"\n",
    "fid.creator_name = \"Mary J. Brodzik\"\n",
    "fid.creator_email = \"brodzik@nsidc.org\"\n",
    "fid.creator_url = \"http://nsidc.org/charis\"\n",
    "fid.contributor_name = \"T. H. Painter, M. J. Brodzik, R. L. Armstrong\"\n",
    "fid.contributor_role = \"Principal Investigator, Co-Investigator, Co-Investigator\"\n",
    "fid.citation = [\"Brodzik, M. J., D. G. Long, M. A. Hardman, A. C. Paget. 2015.\\n\",\n",
    "                \"MEaSUREs Calibrated Passive Microwave Daily EASE-Grid 2.0 Brightness Temperature ESDR.\\n\",\n",
    "                \"Version 0.01.\\n\",\n",
    "                \"[Indicate subset used].\\n\",\n",
    "                \"Boulder, Colorado USA: NASA DAAC at the National Snow and Ice Data Center.\" ]\n"
   ]
  }
 ],
 "metadata": {
  "kernelspec": {
   "display_name": "Python 2",
   "language": "python",
   "name": "python2"
  },
  "language_info": {
   "codemirror_mode": {
    "name": "ipython",
    "version": 2
   },
   "file_extension": ".py",
   "mimetype": "text/x-python",
   "name": "python",
   "nbconvert_exporter": "python",
   "pygments_lexer": "ipython2",
   "version": "2.7.11"
  }
 },
 "nbformat": 4,
 "nbformat_minor": 0
}
