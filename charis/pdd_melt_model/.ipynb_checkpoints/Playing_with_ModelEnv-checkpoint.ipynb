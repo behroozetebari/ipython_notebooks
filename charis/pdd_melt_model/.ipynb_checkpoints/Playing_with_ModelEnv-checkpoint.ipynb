{
 "cells": [
  {
   "cell_type": "code",
   "execution_count": 1,
   "metadata": {
    "collapsed": false
   },
   "outputs": [
    {
     "name": "stdout",
     "output_type": "stream",
     "text": [
      "modelEnv: read MODIS tile configuration from modis_tiles_config.ini\n",
      "/Users/brodzik/projects/CHARIS/charis_training_2015_data/modicev04/MODICE.v0.4.h23v05.3strike.min05yr.mask.nc\n"
     ]
    }
   ],
   "source": [
    "from imp import reload\n",
    "import modelEnv\n",
    "reload(modelEnv)\n",
    "myEnv = modelEnv.ModelEnv( topDir='/Users/brodzik/projects/CHARIS/charis_training_2015_data', verbose=True )\n",
    "print myEnv.fixed_filename( type='modice', tileID='h23v05', verbose=True )"
   ]
  },
  {
   "cell_type": "code",
   "execution_count": 2,
   "metadata": {
    "collapsed": false
   },
   "outputs": [
    {
     "data": {
      "text/plain": [
       "<type 'netCDF4._netCDF4.Dataset'>\n",
       "root group (NETCDF4 data model, file format UNDEFINED):\n",
       "    Title: MODICE mask for a minimum number of years.\n",
       "    Institution: National Snow & Ice Data Center, Boulder, CO USA\n",
       "    Source: MODICEv04\n",
       "    History: Created on Tue Jun 16 14:28:48 2015 by combine_modice.pro\n",
       "    Comment: Mask locations with 2 indicate MODICE for >= min_years\n",
       "    MODIS_tile_id: h23v05\n",
       "    Start_year: 2000\n",
       "    End_year: 2014\n",
       "    Min_years: 5\n",
       "    MODICE_FILES: 2000/h23v05/MODICE.v0.4.h23v05.2000.3strike.landice.mask.tif, 2001/h23v05/MODICE.v0.4.h23v05.2001.3strike.landice.mask.tif, 2002/h23v05/MODICE.v0.4.h23v05.2002.3strike.landice.mask.tif, 2003/h23v05/MODICE.v0.4.h23v05.2003.3strike.landice.mask.tif, 2004/h23v05/MODICE.v0.4.h23v05.2004.3strike.landice.mask.tif, 2005/h23v05/MODICE.v0.4.h23v05.2005.3strike.landice.mask.tif, 2006/h23v05/MODICE.v0.4.h23v05.2006.3strike.landice.mask.tif, 2007/h23v05/MODICE.v0.4.h23v05.2007.3strike.landice.mask.tif, 2008/h23v05/MODICE.v0.4.h23v05.2008.3strike.landice.mask.tif, 2009/h23v05/MODICE.v0.4.h23v05.2009.3strike.landice.mask.tif, 2010/h23v05/MODICE.v0.4.h23v05.2010.3strike.landice.mask.tif, 2011/h23v05/MODICE.v0.4.h23v05.2011.3strike.landice.mask.tif, 2012/h23v05/MODICE.v0.4.h23v05.2012.3strike.landice.mask.tif, 2013/h23v05/MODICE.v0.4.h23v05.2013.3strike.landice.mask.tif, 2014/h23v05/MODICE.v0.4.h23v05.2014.3strike.landice.mask.tif\n",
       "    dimensions(sizes): Columns(2400), Rows(2400)\n",
       "    variables(dimensions): uint8 \u001b[4mmodice_min_year_mask\u001b[0m(Rows,Columns), float32 \u001b[4mlatitude\u001b[0m(Rows,Columns), float32 \u001b[4mlongitude\u001b[0m(Rows,Columns)\n",
       "    groups: "
      ]
     },
     "execution_count": 2,
     "metadata": {},
     "output_type": "execute_result"
    }
   ],
   "source": [
    "from netCDF4 import Dataset\n",
    "modice_filename = myEnv.fixed_filename( type='modice', tileID='h23v05', verbose=True )\n",
    "fid = Dataset(modice_filename, 'r', format='NETCDF4')\n",
    "fid"
   ]
  },
  {
   "cell_type": "code",
   "execution_count": 3,
   "metadata": {
    "collapsed": false
   },
   "outputs": [
    {
     "data": {
      "text/plain": [
       "<type 'netCDF4._netCDF4.Variable'>\n",
       "uint8 modice_min_year_mask(Rows, Columns)\n",
       "    long_name: modice_min_year_mask\n",
       "    _FillValue: 253\n",
       "    valid_range: [0 2]\n",
       "    flag_values: [0 1 2]\n",
       "    flag_meanings: Ice_free_land Water MODICE_for_5_or_more_years\n",
       "unlimited dimensions: \n",
       "current shape = (2400, 2400)\n",
       "filling on"
      ]
     },
     "execution_count": 3,
     "metadata": {},
     "output_type": "execute_result"
    }
   ],
   "source": [
    "modice = fid.variables['modice_min_year_mask']\n",
    "modice"
   ]
  },
  {
   "cell_type": "code",
   "execution_count": 4,
   "metadata": {
    "collapsed": false
   },
   "outputs": [
    {
     "data": {
      "text/plain": [
       "(2400, 2400)"
      ]
     },
     "execution_count": 4,
     "metadata": {},
     "output_type": "execute_result"
    }
   ],
   "source": [
    "data = modice[:]\n",
    "data.shape"
   ]
  },
  {
   "cell_type": "code",
   "execution_count": 5,
   "metadata": {
    "collapsed": false
   },
   "outputs": [
    {
     "data": {
      "text/plain": [
       "numpy.ndarray"
      ]
     },
     "execution_count": 5,
     "metadata": {},
     "output_type": "execute_result"
    }
   ],
   "source": [
    "type(data)"
   ]
  },
  {
   "cell_type": "code",
   "execution_count": 6,
   "metadata": {
    "collapsed": false
   },
   "outputs": [
    {
     "name": "stdout",
     "output_type": "stream",
     "text": [
      "0 2\n"
     ]
    }
   ],
   "source": [
    "import numpy as np\n",
    "print np.amin(data), np.amax(data)"
   ]
  },
  {
   "cell_type": "code",
   "execution_count": 8,
   "metadata": {
    "collapsed": false
   },
   "outputs": [],
   "source": [
    "import matplotlib.pyplot as plt\n",
    "plt.imshow( data, cmap='gray' )\n",
    "plt.show()"
   ]
  },
  {
   "cell_type": "code",
   "execution_count": null,
   "metadata": {
    "collapsed": true
   },
   "outputs": [],
   "source": []
  }
 ],
 "metadata": {
  "kernelspec": {
   "display_name": "Python 2",
   "language": "python",
   "name": "python2"
  },
  "language_info": {
   "codemirror_mode": {
    "name": "ipython",
    "version": 2
   },
   "file_extension": ".py",
   "mimetype": "text/x-python",
   "name": "python",
   "nbconvert_exporter": "python",
   "pygments_lexer": "ipython2",
   "version": "2.7.10"
  }
 },
 "nbformat": 4,
 "nbformat_minor": 0
}
