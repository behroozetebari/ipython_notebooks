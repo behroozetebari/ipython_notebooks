{
 "cells": [
  {
   "cell_type": "code",
   "execution_count": 1,
   "metadata": {
    "collapsed": true
   },
   "outputs": [],
   "source": [
    "from charistools.convertors import Csv2Hypsometry"
   ]
  },
  {
   "cell_type": "code",
   "execution_count": 2,
   "metadata": {
    "collapsed": false
   },
   "outputs": [
    {
     "name": "stdout",
     "output_type": "stream",
     "text": [
      "/Users/brodzik/charistools/source/charistools/test\n"
     ]
    }
   ],
   "source": [
    "%cd /Users/brodzik/charistools/source/charistools/test"
   ]
  },
  {
   "cell_type": "code",
   "execution_count": 3,
   "metadata": {
    "collapsed": false
   },
   "outputs": [
    {
     "name": "stdout",
     "output_type": "stream",
     "text": [
      "Kta_hypso_100m.csv      modis_tiles_config.ini  test_hypsometry.py\r\n",
      "__init__.py             test.sca_by_elev.txt    test_modelEnv.py\r\n",
      "all_tests.py            test_convertors.py\r\n"
     ]
    }
   ],
   "source": [
    "%ls"
   ]
  },
  {
   "cell_type": "code",
   "execution_count": 4,
   "metadata": {
    "collapsed": false
   },
   "outputs": [
    {
     "name": "stdout",
     "output_type": "stream",
     "text": [
      "Help on function Csv2Hypsometry in module charistools.convertors:\n",
      "\n",
      "Csv2Hypsometry(csv_filename, hyps_filename, comments=[], verbose=False)\n",
      "    from charistools.convertors import Csv2Hypsometry\n",
      "    \n",
      "    charistools.convertors.Csv2Hypsometry(csv_filename, hyps_filename,\n",
      "        comments=[], verbose=False)\n",
      "    \n",
      "    Arguments:\n",
      "        csv_filename : name of 3-column comma-separated value file\n",
      "            1st column is ignored,\n",
      "            2nd column: elevation in meters at\n",
      "                bottom of elevation band\n",
      "            3rd column: area in km^2 for the elevation band\n",
      "        hyps_filename : name of file to write converted data to\n",
      "        comments : list of strings\n",
      "            optional comments to add to output file\n",
      "            Name of input file will be written as the first line\n",
      "            of comments\n",
      "        verbose : boolean, default False\n",
      "    \n",
      "    The Csv2Hypsometry utility converts a 3-column csv file with\n",
      "    hyposmetric information (for example from ArcGIS) into a\n",
      "    charistools Hypsometry file.\n",
      "    \n",
      "    Assumes first line in the csv file is column headers, and ignores it.\n",
      "\n"
     ]
    }
   ],
   "source": [
    "help(Csv2Hypsometry)"
   ]
  },
  {
   "cell_type": "code",
   "execution_count": 5,
   "metadata": {
    "collapsed": false
   },
   "outputs": [
    {
     "name": "stdout",
     "output_type": "stream",
     "text": [
      "ID,Elevation,Area_sq_km\r\n",
      "1,500,85.\r\n",
      "2,600,609.\r\n",
      "3,700,1007.\r\n",
      "4,800,1609.\r\n",
      "5,900,2752.\r\n",
      "6,1000,3565.\r\n",
      "7,1100,4492.\r\n",
      "8,1200,5623.\r\n",
      "9,1300,6255.\r\n",
      "10,1400,7316.\r\n",
      "11,1500,8087.\r\n",
      "12,1600,9048.\r\n",
      "13,1700,9737.\r\n",
      "14,1800,10935.\r\n",
      "15,1900,11717.\r\n",
      "16,2000,12465.\r\n",
      "17,2100,12050.\r\n",
      "18,2200,11631.\r\n",
      "19,2300,10688.\r\n",
      "20,2400,8943.\r\n",
      "21,2500,8165.\r\n",
      "22,2600,7406.\r\n",
      "23,2700,6982.\r\n",
      "24,2800,6430.\r\n",
      "25,2900,6147.\r\n",
      "26,3000,5630.\r\n",
      "27,3100,5476.\r\n",
      "28,3200,5245.\r\n",
      "29,3300,5166.\r\n",
      "30,3400,5035.\r\n",
      "31,3500,4702.\r\n",
      "32,3600,4321.\r\n",
      "33,3700,4241.\r\n",
      "34,3800,4328.\r\n",
      "35,3900,4326.\r\n",
      "36,4000,4474.\r\n",
      "37,4100,4685.\r\n",
      "38,4200,4773.\r\n",
      "39,4300,4416.\r\n",
      "40,4400,4138.\r\n",
      "41,4500,4425.\r\n",
      "42,4600,4169.\r\n",
      "43,4700,4362.\r\n",
      "44,4800,4323.\r\n",
      "45,4900,4316.\r\n",
      "46,5000,4245.\r\n",
      "47,5100,3704.\r\n",
      "48,5200,3253.\r\n",
      "49,5300,2833.\r\n",
      "50,5400,2570.\r\n",
      "51,5500,2435.\r\n",
      "52,5600,2017.\r\n",
      "53,5700,1691.\r\n",
      "54,5800,1456.\r\n",
      "55,5900,1099.\r\n",
      "56,6000,899.\r\n",
      "57,6100,603.\r\n",
      "58,6200,369.\r\n",
      "59,6300,230.\r\n",
      "60,6400,162.\r\n",
      "61,6500,115.\r\n",
      "62,6600,62.\r\n",
      "63,6700,17.\r\n",
      "64,6800,6.\r\n",
      "65,6900,1."
     ]
    }
   ],
   "source": [
    "%cat Kta_hypso_100m.csv "
   ]
  },
  {
   "cell_type": "code",
   "execution_count": 6,
   "metadata": {
    "collapsed": true
   },
   "outputs": [],
   "source": [
    "csv_filename = \"Kta_hypso_100m.csv\"\n",
    "out_filename = \"Kta_hypso_100m.txt\"\n",
    "comments = [\"Some test comments here about how Kta_Hypso was created.\"]"
   ]
  },
  {
   "cell_type": "code",
   "execution_count": 7,
   "metadata": {
    "collapsed": false
   },
   "outputs": [
    {
     "name": "stderr",
     "output_type": "stream",
     "text": [
      "charistools.hypsometry : wrote hypsometry data to Kta_hypso_100m.txt\n",
      "charistools.hypsometry : 2 comments.\n",
      "charistools.hypsometry : 1 dates.\n",
      "charistools.hypsometry : 65 elevations.\n"
     ]
    },
    {
     "data": {
      "text/plain": [
       "True"
      ]
     },
     "execution_count": 7,
     "metadata": {},
     "output_type": "execute_result"
    }
   ],
   "source": [
    "Csv2Hypsometry(csv_filename, out_filename,comments, verbose=True)"
   ]
  },
  {
   "cell_type": "code",
   "execution_count": 8,
   "metadata": {
    "collapsed": false
   },
   "outputs": [
    {
     "name": "stdout",
     "output_type": "stream",
     "text": [
      "# Hypsometry converted from Kta_hypso_100m.csv\r\n",
      "# Some test comments here about how Kta_Hypso was created.\r\n",
      "65\r\n",
      "500 600 700 800 900 1000 1100 1200 1300 1400 1500 1600 1700 1800 1900 2000 2100 2200 2300 2400 2500 2600 2700 2800 2900 3000 3100 3200 3300 3400 3500 3600 3700 3800 3900 4000 4100 4200 4300 4400 4500 4600 4700 4800 4900 5000 5100 5200 5300 5400 5500 5600 5700 5800 5900 6000 6100 6200 6300 6400 6500 6600 6700 6800 6900\r\n",
      "9999 99 99 999 85.000000 609.000000 1007.000000 1609.000000 2752.000000 3565.000000 4492.000000 5623.000000 6255.000000 7316.000000 8087.000000 9048.000000 9737.000000 10935.000000 11717.000000 12465.000000 12050.000000 11631.000000 10688.000000 8943.000000 8165.000000 7406.000000 6982.000000 6430.000000 6147.000000 5630.000000 5476.000000 5245.000000 5166.000000 5035.000000 4702.000000 4321.000000 4241.000000 4328.000000 4326.000000 4474.000000 4685.000000 4773.000000 4416.000000 4138.000000 4425.000000 4169.000000 4362.000000 4323.000000 4316.000000 4245.000000 3704.000000 3253.000000 2833.000000 2570.000000 2435.000000 2017.000000 1691.000000 1456.000000 1099.000000 899.000000 603.000000 369.000000 230.000000 162.000000 115.000000 62.000000 17.000000 6.000000 1.000000\r\n"
     ]
    }
   ],
   "source": [
    "%cat Kta_hypso_100m.txt"
   ]
  },
  {
   "cell_type": "code",
   "execution_count": null,
   "metadata": {
    "collapsed": true
   },
   "outputs": [],
   "source": []
  }
 ],
 "metadata": {
  "kernelspec": {
   "display_name": "Python 2",
   "language": "python",
   "name": "python2"
  },
  "language_info": {
   "codemirror_mode": {
    "name": "ipython",
    "version": 2
   },
   "file_extension": ".py",
   "mimetype": "text/x-python",
   "name": "python",
   "nbconvert_exporter": "python",
   "pygments_lexer": "ipython2",
   "version": "2.7.11"
  }
 },
 "nbformat": 4,
 "nbformat_minor": 0
}
