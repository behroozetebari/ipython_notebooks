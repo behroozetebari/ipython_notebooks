{
 "cells": [
  {
   "cell_type": "code",
   "execution_count": 2,
   "metadata": {
    "collapsed": false
   },
   "outputs": [
    {
     "name": "stdout",
     "output_type": "stream",
     "text": [
      "Populating the interactive namespace from numpy and matplotlib\n"
     ]
    }
   ],
   "source": [
    "%pylab notebook\n",
    "from __future__ import print_function\n",
    "import numpy as np\n",
    "import pandas as pd\n",
    "import rasterio\n",
    "from charistools.modelEnv import ModelEnv\n",
    "from netCDF4 import Dataset"
   ]
  },
  {
   "cell_type": "code",
   "execution_count": 3,
   "metadata": {
    "collapsed": false
   },
   "outputs": [],
   "source": [
    "from charistools.readers import ModisTileCube"
   ]
  },
  {
   "cell_type": "code",
   "execution_count": 4,
   "metadata": {
    "collapsed": true
   },
   "outputs": [],
   "source": [
    "configFile = \"/vagrant/source/charistools/test/modis_tiles_config.ini\""
   ]
  },
  {
   "cell_type": "code",
   "execution_count": 5,
   "metadata": {
    "collapsed": true
   },
   "outputs": [],
   "source": [
    "myEnv = ModelEnv(tileConfigFile=configFile, topDir='/projects/CHARIS/charistools_test_data')  "
   ]
  },
  {
   "cell_type": "code",
   "execution_count": 6,
   "metadata": {
    "collapsed": false
   },
   "outputs": [
    {
     "data": {
      "text/plain": [
       "'/projects/CHARIS/charistools_test_data/snow_cover/MODSCAG_GF/MODSCAG_GF_Snow.v0.5.h23v05_2001.h5'"
      ]
     },
     "execution_count": 6,
     "metadata": {},
     "output_type": "execute_result"
    }
   ],
   "source": [
    "modscag_filename = myEnv.forcing_filename(type='modscag_gf', tileID=\"h23v05\", year=2001,verbose=True)\n",
    "modscag_filename"
   ]
  },
  {
   "cell_type": "code",
   "execution_count": 7,
   "metadata": {
    "collapsed": false
   },
   "outputs": [],
   "source": [
    "modscag_cube = ModisTileCube(filename=modscag_filename, varname='fsca')"
   ]
  },
  {
   "cell_type": "code",
   "execution_count": 8,
   "metadata": {
    "collapsed": false
   },
   "outputs": [
    {
     "data": {
      "text/plain": [
       "(0.0, 1.0)"
      ]
     },
     "execution_count": 8,
     "metadata": {},
     "output_type": "execute_result"
    }
   ],
   "source": [
    "scag = modscag_cube.read(1)\n",
    "scag.shape\n",
    "\n",
    "np.amin(scag), np.amax(scag)"
   ]
  },
  {
   "cell_type": "code",
   "execution_count": 9,
   "metadata": {
    "collapsed": false
   },
   "outputs": [
    {
     "data": {
      "text/plain": [
       "'/projects/CHARIS/charistools_test_data/snow_cover/mod10a1_snow_gf/MOD10A1_GF_Snow.v0.5.h23v05_2001.h5'"
      ]
     },
     "execution_count": 9,
     "metadata": {},
     "output_type": "execute_result"
    }
   ],
   "source": [
    "mod10a1_filename = myEnv.forcing_filename(type='mod10a1_gf', tileID=\"h23v05\", year=2001,verbose=True)\n",
    "mod10a1_filename"
   ]
  },
  {
   "cell_type": "code",
   "execution_count": 10,
   "metadata": {
    "collapsed": false
   },
   "outputs": [],
   "source": [
    "mod10_cube = ModisTileCube(filename=mod10a1_filename, varname='fsca')"
   ]
  },
  {
   "cell_type": "code",
   "execution_count": 11,
   "metadata": {
    "collapsed": false
   },
   "outputs": [
    {
     "name": "stdout",
     "output_type": "stream",
     "text": [
      "(2400, 2400)\n"
     ]
    },
    {
     "data": {
      "text/plain": [
       "(0, 100)"
      ]
     },
     "execution_count": 11,
     "metadata": {},
     "output_type": "execute_result"
    }
   ],
   "source": [
    "mod10 = mod10_cube.read(1)\n",
    "print(mod10.shape)\n",
    "np.amin(mod10), np.amax(mod10)"
   ]
  },
  {
   "cell_type": "code",
   "execution_count": 12,
   "metadata": {
    "collapsed": false
   },
   "outputs": [],
   "source": [
    "f = Dataset(mod10a1_filename, 'r', 'HDF5')\n",
    "d = f.groups['500m'].variables['fsca']"
   ]
  },
  {
   "cell_type": "code",
   "execution_count": 13,
   "metadata": {
    "collapsed": false
   },
   "outputs": [
    {
     "data": {
      "text/plain": [
       "<type 'netCDF4._netCDF4.Variable'>\n",
       "uint8 fsca(phony_dim_0, phony_dim_1, phony_dim_1)\n",
       "path = /500m\n",
       "unlimited dimensions: \n",
       "current shape = (365, 2400, 2400)\n",
       "filling off"
      ]
     },
     "execution_count": 13,
     "metadata": {},
     "output_type": "execute_result"
    }
   ],
   "source": [
    "d"
   ]
  },
  {
   "cell_type": "code",
   "execution_count": 14,
   "metadata": {
    "collapsed": false
   },
   "outputs": [
    {
     "data": {
      "text/plain": [
       "<type 'netCDF4._netCDF4.Variable'>\n",
       "uint8 fsca(phony_dim_0, phony_dim_1, phony_dim_1)\n",
       "    packing_convention: netCDF\n",
       "    packing_convention_description: unpacked = scale_factor*packed + add_offset\n",
       "    scale_factor: 0.01\n",
       "    add_offset: 0.0\n",
       "path = /500m\n",
       "unlimited dimensions: \n",
       "current shape = (365, 2400, 2400)\n",
       "filling off"
      ]
     },
     "execution_count": 14,
     "metadata": {},
     "output_type": "execute_result"
    }
   ],
   "source": [
    "forig = Dataset(modscag_filename, 'r', 'HDF5')\n",
    "dorig = forig.groups['500m'].variables['fsca']\n",
    "dorig"
   ]
  },
  {
   "cell_type": "code",
   "execution_count": null,
   "metadata": {
    "collapsed": true
   },
   "outputs": [],
   "source": []
  }
 ],
 "metadata": {
  "kernelspec": {
   "display_name": "Python 2",
   "language": "python",
   "name": "python2"
  },
  "language_info": {
   "codemirror_mode": {
    "name": "ipython",
    "version": 2
   },
   "file_extension": ".py",
   "mimetype": "text/x-python",
   "name": "python",
   "nbconvert_exporter": "python",
   "pygments_lexer": "ipython2",
   "version": "2.7.11"
  }
 },
 "nbformat": 4,
 "nbformat_minor": 0
}
