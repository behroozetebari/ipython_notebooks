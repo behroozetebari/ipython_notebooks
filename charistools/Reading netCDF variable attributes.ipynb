{
 "cells": [
  {
   "cell_type": "code",
   "execution_count": 1,
   "metadata": {
    "collapsed": true
   },
   "outputs": [],
   "source": [
    "from netCDF4 import Dataset"
   ]
  },
  {
   "cell_type": "code",
   "execution_count": 2,
   "metadata": {
    "collapsed": false
   },
   "outputs": [
    {
     "name": "stdout",
     "output_type": "stream",
     "text": [
      "/projects/CHARIS/snow_cover/MODSCAG_GF/v05/h24v05\n",
      "total 5322384\r\n",
      "    45 drwxr-sr-x 2 nobody 4294967294        16 Mar 30 14:07 \u001b[0m\u001b[01;34m.\u001b[0m/\r\n",
      "     3 drwxr-sr-x 4 nobody 4294967294         4 Mar  8 17:07 \u001b[01;34m..\u001b[0m/\r\n",
      "337426 -rw-r--r-- 1 nobody 4294967294 344501785 Mar 30 13:50 MODSCAG_GF_Snow.v0.5.h24v05_2001.h5\r\n",
      "403690 -rw-r--r-- 1 nobody 4294967294 412133737 Mar 30 13:51 MODSCAG_GF_Snow.v0.5.h24v05_2002.h5\r\n",
      "371059 -rw-r--r-- 1 nobody 4294967294 378811829 Mar 30 13:52 MODSCAG_GF_Snow.v0.5.h24v05_2003.h5\r\n",
      "348462 -rw-r--r-- 1 nobody 4294967294 355741823 Mar 30 13:54 MODSCAG_GF_Snow.v0.5.h24v05_2004.h5\r\n",
      "405916 -rw-r--r-- 1 nobody 4294967294 414430511 Mar 30 13:55 MODSCAG_GF_Snow.v0.5.h24v05_2005.h5\r\n",
      "393596 -rw-r--r-- 1 nobody 4294967294 401860301 Mar 30 13:56 MODSCAG_GF_Snow.v0.5.h24v05_2006.h5\r\n",
      "353573 -rw-r--r-- 1 nobody 4294967294 360980860 Mar 30 13:58 MODSCAG_GF_Snow.v0.5.h24v05_2007.h5\r\n",
      "420902 -rw-r--r-- 1 nobody 4294967294 429685070 Mar 30 13:59 MODSCAG_GF_Snow.v0.5.h24v05_2008.h5\r\n",
      "392703 -rw-r--r-- 1 nobody 4294967294 400958225 Mar 30 14:00 MODSCAG_GF_Snow.v0.5.h24v05_2009.h5\r\n",
      "369144 -rw-r--r-- 1 nobody 4294967294 376867228 Mar 30 14:02 MODSCAG_GF_Snow.v0.5.h24v05_2010.h5\r\n",
      "374736 -rw-r--r-- 1 nobody 4294967294 382609460 Mar 30 14:03 MODSCAG_GF_Snow.v0.5.h24v05_2011.h5\r\n",
      "411146 -rw-r--r-- 1 nobody 4294967294 419729917 Mar 30 14:04 MODSCAG_GF_Snow.v0.5.h24v05_2012.h5\r\n",
      "373576 -rw-r--r-- 1 nobody 4294967294 381424553 Mar 30 14:06 MODSCAG_GF_Snow.v0.5.h24v05_2013.h5\r\n",
      "366411 -rw-r--r-- 1 nobody 4294967294 374060342 Mar 30 14:07 MODSCAG_GF_Snow.v0.5.h24v05_2014.h5\r\n"
     ]
    }
   ],
   "source": [
    "%cd /projects/CHARIS/snow_cover/MODSCAG_GF/v05/h24v05/\n",
    "%ls -las"
   ]
  },
  {
   "cell_type": "code",
   "execution_count": 3,
   "metadata": {
    "collapsed": false
   },
   "outputs": [
    {
     "data": {
      "text/plain": [
       "<type 'netCDF4._netCDF4.Dataset'>\n",
       "root group (NETCDF4 data model, file format HDF5):\n",
       "    dimensions(sizes): \n",
       "    variables(dimensions): \n",
       "    groups: 500m"
      ]
     },
     "execution_count": 3,
     "metadata": {},
     "output_type": "execute_result"
    }
   ],
   "source": [
    "filename = \"MODSCAG_GF_Snow.v0.5.h24v05_2001.h5\"\n",
    "f = Dataset(filename, 'r', 'NETCDF4')\n",
    "f"
   ]
  },
  {
   "cell_type": "code",
   "execution_count": 4,
   "metadata": {
    "collapsed": false
   },
   "outputs": [
    {
     "data": {
      "text/plain": [
       "<type 'netCDF4._netCDF4.Variable'>\n",
       "uint8 fsca(phony_dim_0, phony_dim_1, phony_dim_1)\n",
       "    packing_convention: netCDF\n",
       "    packing_convention_description: unpacked = scale_factor*packed + add_offset\n",
       "    scale_factor: 0.01\n",
       "    add_offset: 0.0\n",
       "path = /500m\n",
       "unlimited dimensions: \n",
       "current shape = (365, 2400, 2400)\n",
       "filling off"
      ]
     },
     "execution_count": 4,
     "metadata": {},
     "output_type": "execute_result"
    }
   ],
   "source": [
    "d = f.groups['500m'].variables['fsca']\n",
    "d"
   ]
  },
  {
   "cell_type": "code",
   "execution_count": 5,
   "metadata": {
    "collapsed": false
   },
   "outputs": [
    {
     "data": {
      "text/plain": [
       "OrderedDict([(u'packing_convention', u'netCDF'),\n",
       "             (u'packing_convention_description',\n",
       "              u'unpacked = scale_factor*packed + add_offset'),\n",
       "             (u'scale_factor', 0.0099999998),\n",
       "             (u'add_offset', 0.0)])"
      ]
     },
     "execution_count": 5,
     "metadata": {},
     "output_type": "execute_result"
    }
   ],
   "source": [
    "d.__dict__"
   ]
  },
  {
   "cell_type": "code",
   "execution_count": 6,
   "metadata": {
    "collapsed": false
   },
   "outputs": [
    {
     "data": {
      "text/plain": [
       "0.0"
      ]
     },
     "execution_count": 6,
     "metadata": {},
     "output_type": "execute_result"
    }
   ],
   "source": [
    "d.add_offset"
   ]
  },
  {
   "cell_type": "code",
   "execution_count": 7,
   "metadata": {
    "collapsed": false
   },
   "outputs": [
    {
     "data": {
      "text/plain": [
       "0.0099999998"
      ]
     },
     "execution_count": 7,
     "metadata": {},
     "output_type": "execute_result"
    }
   ],
   "source": [
    "d.scale_factor"
   ]
  },
  {
   "cell_type": "code",
   "execution_count": null,
   "metadata": {
    "collapsed": false
   },
   "outputs": [],
   "source": [
    "d.bogus"
   ]
  },
  {
   "cell_type": "code",
   "execution_count": null,
   "metadata": {
    "collapsed": true
   },
   "outputs": [],
   "source": [
    "f.close()"
   ]
  },
  {
   "cell_type": "code",
   "execution_count": null,
   "metadata": {
    "collapsed": true
   },
   "outputs": [],
   "source": []
  }
 ],
 "metadata": {
  "kernelspec": {
   "display_name": "Python 2",
   "language": "python",
   "name": "python2"
  },
  "language_info": {
   "codemirror_mode": {
    "name": "ipython",
    "version": 2
   },
   "file_extension": ".py",
   "mimetype": "text/x-python",
   "name": "python",
   "nbconvert_exporter": "python",
   "pygments_lexer": "ipython2",
   "version": "2.7.11"
  }
 },
 "nbformat": 4,
 "nbformat_minor": 0
}
