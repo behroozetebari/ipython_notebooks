{
 "cells": [
  {
   "cell_type": "markdown",
   "metadata": {},
   "source": [
    "<h2>Plotting model data</h2>"
   ]
  },
  {
   "cell_type": "code",
   "execution_count": 4,
   "metadata": {
    "collapsed": false
   },
   "outputs": [
    {
     "name": "stdout",
     "output_type": "stream",
     "text": [
      "Populating the interactive namespace from numpy and matplotlib\n"
     ]
    }
   ],
   "source": [
    "%pylab notebook\n",
    "from charistools.hypsometry import Hypsometry\n",
    "import matplotlib.pyplot as plt"
   ]
  },
  {
   "cell_type": "code",
   "execution_count": 3,
   "metadata": {
    "collapsed": false
   },
   "outputs": [
    {
     "name": "stdout",
     "output_type": "stream",
     "text": [
      "/vagrant/source/charistools/test/compare\n",
      "00readme.txt\r\n",
      "00readme.txt~\r\n",
      "compare.test_basin.500.correct_sDDF.ALBEDO_MCD.0035.ice_melt.dat\r\n",
      "compare.test_basin.500.correct_sDDF.ALBEDO_MCD.0035.snow_off_ice_melt.dat\r\n",
      "compare.test_basin.500.correct_sDDF.ALBEDO_MCD.0035.snow_off_ice_melt.partial.dat\r\n",
      "compare.test_basin.500.correct_sDDF.ALBEDO_MCD.0035.snow_off_ice_melt.partial.dat~\r\n",
      "compare.test_basin.500.correct_sDDF.ALBEDO_MCD.0035.snow_on_ice_melt.dat\r\n",
      "\u001b[0m\u001b[01;34mfromIDL\u001b[0m/\r\n",
      "IN_Hunza_at_Danyour.0100m.area_by_elev.txt\r\n",
      "IN_Hunza_at_Danyour.2001.0100m.ALBEDO_MOD10A1.0046.ice_melt.dat\r\n",
      "IN_Hunza_at_Danyour.2001.0100m.ALBEDO_MOD10A1.0046.snow_off_ice_melt.dat\r\n",
      "IN_Hunza_at_Danyour.2001.0100m.ALBEDO_MOD10A1.0046.snow_on_ice_melt.dat\r\n",
      "IN_Hunza_at_Danyour.2001.0100m.GRSIZE_SCAG.0200.ablation_area.txt\r\n",
      "IN_Hunza_at_Danyour.2001.0100m.GRSIZE_SCAG.0200.snow_off_ice_area.txt\r\n",
      "IN_Hunza_at_Danyour.2001.0100m.GRSIZE_SCAG.0200.snow_on_ice_area.txt\r\n"
     ]
    }
   ],
   "source": [
    "%cd /vagrant/source/charistools/test/compare\n",
    "%ls\n"
   ]
  },
  {
   "cell_type": "code",
   "execution_count": null,
   "metadata": {
    "collapsed": true
   },
   "outputs": [],
   "source": [
    "sol_melt = Hypsometry(filename='IN_Hunza_at_Danyour.2001.0100m.ALBEDO_MOD10A1.0046.snow_off_ice_melt.dat')\n",
    "soi_melt = Hypsometry(filename='IN_Hunza_at_Danyour.2001.0100m.ALBEDO_MOD10A1.0046.snow_on_ice_melt.dat')\n",
    "egi_melt = Hypsometry(filename='IN_Hunza_at_Danyour.2001.0100m.ALBEDO_MOD10A1.0046.ice_melt.dat')"
   ]
  },
  {
   "cell_type": "code",
   "execution_count": 5,
   "metadata": {
    "collapsed": true
   },
   "outputs": [],
   "source": [
    "sol_melt = Hypsometry(filename='IN_Hunza_at_Danyour.2001.0100m.ALBEDO_MOD10A1.0046.snow_off_ice_melt.dat')\n",
    "soi_melt = Hypsometry(filename='IN_Hunza_at_Danyour.2001.0100m.ALBEDO_MOD10A1.0046.snow_on_ice_melt.dat')\n",
    "egi_melt = Hypsometry(filename='IN_Hunza_at_Danyour.2001.0100m.ALBEDO_MOD10A1.0046.ice_melt.dat')"
   ]
  },
  {
   "cell_type": "code",
   "execution_count": null,
   "metadata": {
    "collapsed": true
   },
   "outputs": [],
   "source": []
  }
 ],
 "metadata": {
  "kernelspec": {
   "display_name": "Python 2",
   "language": "python",
   "name": "python2"
  },
  "language_info": {
   "codemirror_mode": {
    "name": "ipython",
    "version": 2
   },
   "file_extension": ".py",
   "mimetype": "text/x-python",
   "name": "python",
   "nbconvert_exporter": "python",
   "pygments_lexer": "ipython2",
   "version": "2.7.11"
  }
 },
 "nbformat": 4,
 "nbformat_minor": 0
}
