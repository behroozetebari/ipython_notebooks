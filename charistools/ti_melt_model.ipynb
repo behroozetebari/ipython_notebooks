{
 "cells": [
  {
   "cell_type": "code",
   "execution_count": 1,
   "metadata": {
    "collapsed": false
   },
   "outputs": [
    {
     "name": "stdout",
     "output_type": "stream",
     "text": [
      "/vagrant/source/charistools/test/test_files\n",
      "Kta_hypso_100m.3col.csv\r\n",
      "Kta_hypso_100m.csv\r\n",
      "test.3x4.bin\r\n",
      "test_basin.500.ALBEDO_MCD.0035.ablation.dat\r\n",
      "test_basin.500.ALBEDO_MCD.0035.ablation.dat~\r\n",
      "test_basin.500.ALBEDO_MCD.0035.snow_off_ice.dat\r\n",
      "test_basin.500.ALBEDO_MCD.0035.snow_off_ice.dat~\r\n",
      "test_basin.500.ALBEDO_MCD.0035.snow_on_ice.dat\r\n",
      "test_basin.500.ALBEDO_MCD.0035.snow_on_ice.dat~\r\n",
      "test_basin.500.temperature.dat\r\n",
      "test_basin.500.temperature.dat~\r\n",
      "test.sca_by_elev.txt\r\n"
     ]
    }
   ],
   "source": [
    "%cd /vagrant/source/charistools/test/test_files\n",
    "%ls"
   ]
  },
  {
   "cell_type": "code",
   "execution_count": 2,
   "metadata": {
    "collapsed": true
   },
   "outputs": [],
   "source": [
    "from charistools.hypsometry import Hypsometry\n",
    "import numpy as np\n",
    "import pandas as pd"
   ]
  },
  {
   "cell_type": "code",
   "execution_count": 3,
   "metadata": {
    "collapsed": true
   },
   "outputs": [],
   "source": [
    "sol_hyps = Hypsometry('test_basin.500.ALBEDO_MCD.0035.snow_off_ice.dat')\n",
    "t_hyps = Hypsometry('test_basin.500.temperature.dat')"
   ]
  },
  {
   "cell_type": "code",
   "execution_count": 4,
   "metadata": {
    "collapsed": false
   },
   "outputs": [],
   "source": [
    "sol = sol_hyps.data.copy()\n",
    "t = t_hyps.data.copy()\n"
   ]
  },
  {
   "cell_type": "code",
   "execution_count": 5,
   "metadata": {
    "collapsed": false
   },
   "outputs": [
    {
     "data": {
      "text/plain": [
       "(            3000.  3500.  4000.  4500.  5000.\n",
       " Date                                         \n",
       " 2001-04-01   3605   9002  17390      0   1000\n",
       " 2001-05-01   1130   5689  14800  23382   1000\n",
       " 2001-06-01    100   1507   9089  18394  21466\n",
       " 2001-07-01      9    255   2514  10954  14766\n",
       " 2001-08-01     12     92    175   3324   9067\n",
       " 2001-09-01     28    270   3275  12291  19570,\n",
       "               3000.    3500.   4000.   4500.   5000.\n",
       " Date                                                \n",
       " 2001-04-01   2.9000   1.6000  0.3000  0.0000  0.0000\n",
       " 2001-05-01   6.7097   4.4839  1.9032  0.3548 -1.0000\n",
       " 2001-06-01   9.8667   7.6000  4.5667  1.8667  0.4000\n",
       " 2001-07-01  13.0000  10.5806  7.4839  4.3226  1.4516\n",
       " 2001-08-01  13.3871  10.9355  7.7742  4.5484  1.3871\n",
       " 2001-09-01   9.6000   7.2333  4.2000  1.6000  0.2333)"
      ]
     },
     "execution_count": 5,
     "metadata": {},
     "output_type": "execute_result"
    }
   ],
   "source": [
    "sol, t\n"
   ]
  },
  {
   "cell_type": "code",
   "execution_count": 14,
   "metadata": {
    "collapsed": false
   },
   "outputs": [
    {
     "data": {
      "text/html": [
       "<div>\n",
       "<table border=\"1\" class=\"dataframe\">\n",
       "  <thead>\n",
       "    <tr style=\"text-align: right;\">\n",
       "      <th></th>\n",
       "      <th>4000.</th>\n",
       "      <th>5000.</th>\n",
       "    </tr>\n",
       "    <tr>\n",
       "      <th>Date</th>\n",
       "      <th></th>\n",
       "      <th></th>\n",
       "    </tr>\n",
       "  </thead>\n",
       "  <tbody>\n",
       "    <tr>\n",
       "      <th>2001-04-01</th>\n",
       "      <td>0.3000</td>\n",
       "      <td>0.0000</td>\n",
       "    </tr>\n",
       "    <tr>\n",
       "      <th>2001-05-01</th>\n",
       "      <td>1.9032</td>\n",
       "      <td>-1.0000</td>\n",
       "    </tr>\n",
       "    <tr>\n",
       "      <th>2001-06-01</th>\n",
       "      <td>4.5667</td>\n",
       "      <td>0.4000</td>\n",
       "    </tr>\n",
       "    <tr>\n",
       "      <th>2001-07-01</th>\n",
       "      <td>7.4839</td>\n",
       "      <td>1.4516</td>\n",
       "    </tr>\n",
       "    <tr>\n",
       "      <th>2001-08-01</th>\n",
       "      <td>7.7742</td>\n",
       "      <td>1.3871</td>\n",
       "    </tr>\n",
       "    <tr>\n",
       "      <th>2001-09-01</th>\n",
       "      <td>4.2000</td>\n",
       "      <td>0.2333</td>\n",
       "    </tr>\n",
       "  </tbody>\n",
       "</table>\n",
       "</div>"
      ],
      "text/plain": [
       "             4000.   5000.\n",
       "Date                      \n",
       "2001-04-01  0.3000  0.0000\n",
       "2001-05-01  1.9032 -1.0000\n",
       "2001-06-01  4.5667  0.4000\n",
       "2001-07-01  7.4839  1.4516\n",
       "2001-08-01  7.7742  1.3871\n",
       "2001-09-01  4.2000  0.2333"
      ]
     },
     "execution_count": 14,
     "metadata": {},
     "output_type": "execute_result"
    }
   ],
   "source": [
    "t[['4000.','5000.']]"
   ]
  },
  {
   "cell_type": "code",
   "execution_count": 18,
   "metadata": {
    "collapsed": false
   },
   "outputs": [
    {
     "data": {
      "text/html": [
       "<div>\n",
       "<table border=\"1\" class=\"dataframe\">\n",
       "  <thead>\n",
       "    <tr style=\"text-align: right;\">\n",
       "      <th></th>\n",
       "      <th>3000.</th>\n",
       "      <th>3500.</th>\n",
       "      <th>4000.</th>\n",
       "      <th>4500.</th>\n",
       "      <th>5000.</th>\n",
       "    </tr>\n",
       "    <tr>\n",
       "      <th>Date</th>\n",
       "      <th></th>\n",
       "      <th></th>\n",
       "      <th></th>\n",
       "      <th></th>\n",
       "      <th></th>\n",
       "    </tr>\n",
       "  </thead>\n",
       "  <tbody>\n",
       "    <tr>\n",
       "      <th>2001-04-01</th>\n",
       "      <td>NaN</td>\n",
       "      <td>NaN</td>\n",
       "      <td>5217.0000</td>\n",
       "      <td>NaN</td>\n",
       "      <td>0.0000</td>\n",
       "    </tr>\n",
       "    <tr>\n",
       "      <th>2001-05-01</th>\n",
       "      <td>NaN</td>\n",
       "      <td>NaN</td>\n",
       "      <td>28167.3600</td>\n",
       "      <td>NaN</td>\n",
       "      <td>-1000.0000</td>\n",
       "    </tr>\n",
       "    <tr>\n",
       "      <th>2001-06-01</th>\n",
       "      <td>NaN</td>\n",
       "      <td>NaN</td>\n",
       "      <td>41506.7363</td>\n",
       "      <td>NaN</td>\n",
       "      <td>8586.4000</td>\n",
       "    </tr>\n",
       "    <tr>\n",
       "      <th>2001-07-01</th>\n",
       "      <td>NaN</td>\n",
       "      <td>NaN</td>\n",
       "      <td>18814.5246</td>\n",
       "      <td>NaN</td>\n",
       "      <td>21434.3256</td>\n",
       "    </tr>\n",
       "    <tr>\n",
       "      <th>2001-08-01</th>\n",
       "      <td>NaN</td>\n",
       "      <td>NaN</td>\n",
       "      <td>1360.4850</td>\n",
       "      <td>NaN</td>\n",
       "      <td>12576.8357</td>\n",
       "    </tr>\n",
       "    <tr>\n",
       "      <th>2001-09-01</th>\n",
       "      <td>NaN</td>\n",
       "      <td>NaN</td>\n",
       "      <td>13755.0000</td>\n",
       "      <td>NaN</td>\n",
       "      <td>4565.6810</td>\n",
       "    </tr>\n",
       "  </tbody>\n",
       "</table>\n",
       "</div>"
      ],
      "text/plain": [
       "            3000.  3500.       4000.  4500.       5000.\n",
       "Date                                                   \n",
       "2001-04-01    NaN    NaN   5217.0000    NaN      0.0000\n",
       "2001-05-01    NaN    NaN  28167.3600    NaN  -1000.0000\n",
       "2001-06-01    NaN    NaN  41506.7363    NaN   8586.4000\n",
       "2001-07-01    NaN    NaN  18814.5246    NaN  21434.3256\n",
       "2001-08-01    NaN    NaN   1360.4850    NaN  12576.8357\n",
       "2001-09-01    NaN    NaN  13755.0000    NaN   4565.6810"
      ]
     },
     "execution_count": 18,
     "metadata": {},
     "output_type": "execute_result"
    }
   ],
   "source": [
    "#melt = sol.multiply(t[['4000.','5000.']],fill_value=0.)\n",
    "melt = sol * t[['4000.','5000.']]\n",
    "melt"
   ]
  },
  {
   "cell_type": "code",
   "execution_count": 6,
   "metadata": {
    "collapsed": false
   },
   "outputs": [
    {
     "data": {
      "text/plain": [
       "DatetimeIndex(['2001-04-01', '2001-05-01', '2001-06-01', '2001-07-01',\n",
       "               '2001-08-01', '2001-09-01'],\n",
       "              dtype='datetime64[ns]', name=u'Date', freq=None)"
      ]
     },
     "execution_count": 6,
     "metadata": {},
     "output_type": "execute_result"
    }
   ],
   "source": [
    "sol.index\n"
   ]
  },
  {
   "cell_type": "code",
   "execution_count": null,
   "metadata": {
    "collapsed": false
   },
   "outputs": [],
   "source": [
    "ddfs = np.arange(len(sol.index))\n",
    "ddf_series = pd.Series(data=ddfs, index=sol.index, name=\"Snow_DDF_mm_pday_pdegC\")\n",
    "ddf_series"
   ]
  },
  {
   "cell_type": "code",
   "execution_count": null,
   "metadata": {
    "collapsed": false
   },
   "outputs": [],
   "source": [
    "sol.multiply(ddf_series, axis=0)"
   ]
  },
  {
   "cell_type": "code",
   "execution_count": 21,
   "metadata": {
    "collapsed": false
   },
   "outputs": [
    {
     "data": {
      "text/html": [
       "<div>\n",
       "<table border=\"1\" class=\"dataframe\">\n",
       "  <thead>\n",
       "    <tr style=\"text-align: right;\">\n",
       "      <th></th>\n",
       "      <th>3000.</th>\n",
       "      <th>3500.</th>\n",
       "      <th>4000.</th>\n",
       "      <th>4500.</th>\n",
       "      <th>5000.</th>\n",
       "    </tr>\n",
       "    <tr>\n",
       "      <th>Date</th>\n",
       "      <th></th>\n",
       "      <th></th>\n",
       "      <th></th>\n",
       "      <th></th>\n",
       "      <th></th>\n",
       "    </tr>\n",
       "  </thead>\n",
       "  <tbody>\n",
       "    <tr>\n",
       "      <th>2001-04-01</th>\n",
       "      <td>3605</td>\n",
       "      <td>9002</td>\n",
       "      <td>17390</td>\n",
       "      <td>0</td>\n",
       "      <td>1000</td>\n",
       "    </tr>\n",
       "    <tr>\n",
       "      <th>2001-05-01</th>\n",
       "      <td>1130</td>\n",
       "      <td>5689</td>\n",
       "      <td>14800</td>\n",
       "      <td>23382</td>\n",
       "      <td>1000</td>\n",
       "    </tr>\n",
       "    <tr>\n",
       "      <th>2001-06-01</th>\n",
       "      <td>100</td>\n",
       "      <td>1507</td>\n",
       "      <td>9089</td>\n",
       "      <td>18394</td>\n",
       "      <td>21466</td>\n",
       "    </tr>\n",
       "    <tr>\n",
       "      <th>2001-07-01</th>\n",
       "      <td>9</td>\n",
       "      <td>255</td>\n",
       "      <td>2514</td>\n",
       "      <td>10954</td>\n",
       "      <td>14766</td>\n",
       "    </tr>\n",
       "    <tr>\n",
       "      <th>2001-08-01</th>\n",
       "      <td>12</td>\n",
       "      <td>92</td>\n",
       "      <td>175</td>\n",
       "      <td>3324</td>\n",
       "      <td>9067</td>\n",
       "    </tr>\n",
       "    <tr>\n",
       "      <th>2001-09-01</th>\n",
       "      <td>28</td>\n",
       "      <td>270</td>\n",
       "      <td>3275</td>\n",
       "      <td>12291</td>\n",
       "      <td>19570</td>\n",
       "    </tr>\n",
       "  </tbody>\n",
       "</table>\n",
       "</div>"
      ],
      "text/plain": [
       "            3000.  3500.  4000.  4500.  5000.\n",
       "Date                                         \n",
       "2001-04-01   3605   9002  17390      0   1000\n",
       "2001-05-01   1130   5689  14800  23382   1000\n",
       "2001-06-01    100   1507   9089  18394  21466\n",
       "2001-07-01      9    255   2514  10954  14766\n",
       "2001-08-01     12     92    175   3324   9067\n",
       "2001-09-01     28    270   3275  12291  19570"
      ]
     },
     "execution_count": 21,
     "metadata": {},
     "output_type": "execute_result"
    }
   ],
   "source": [
    "sol"
   ]
  },
  {
   "cell_type": "code",
   "execution_count": 22,
   "metadata": {
    "collapsed": false
   },
   "outputs": [
    {
     "data": {
      "text/html": [
       "<div>\n",
       "<table border=\"1\" class=\"dataframe\">\n",
       "  <thead>\n",
       "    <tr style=\"text-align: right;\">\n",
       "      <th></th>\n",
       "      <th>3000.</th>\n",
       "      <th>3500.</th>\n",
       "      <th>4000.</th>\n",
       "      <th>4500.</th>\n",
       "      <th>5000.</th>\n",
       "    </tr>\n",
       "    <tr>\n",
       "      <th>Date</th>\n",
       "      <th></th>\n",
       "      <th></th>\n",
       "      <th></th>\n",
       "      <th></th>\n",
       "      <th></th>\n",
       "    </tr>\n",
       "  </thead>\n",
       "  <tbody>\n",
       "    <tr>\n",
       "      <th>2001-04-01</th>\n",
       "      <td>36050</td>\n",
       "      <td>90020</td>\n",
       "      <td>173900</td>\n",
       "      <td>0</td>\n",
       "      <td>10000</td>\n",
       "    </tr>\n",
       "    <tr>\n",
       "      <th>2001-05-01</th>\n",
       "      <td>11300</td>\n",
       "      <td>56890</td>\n",
       "      <td>148000</td>\n",
       "      <td>233820</td>\n",
       "      <td>10000</td>\n",
       "    </tr>\n",
       "    <tr>\n",
       "      <th>2001-06-01</th>\n",
       "      <td>1000</td>\n",
       "      <td>15070</td>\n",
       "      <td>90890</td>\n",
       "      <td>183940</td>\n",
       "      <td>214660</td>\n",
       "    </tr>\n",
       "    <tr>\n",
       "      <th>2001-07-01</th>\n",
       "      <td>90</td>\n",
       "      <td>2550</td>\n",
       "      <td>25140</td>\n",
       "      <td>109540</td>\n",
       "      <td>147660</td>\n",
       "    </tr>\n",
       "    <tr>\n",
       "      <th>2001-08-01</th>\n",
       "      <td>120</td>\n",
       "      <td>920</td>\n",
       "      <td>1750</td>\n",
       "      <td>33240</td>\n",
       "      <td>90670</td>\n",
       "    </tr>\n",
       "    <tr>\n",
       "      <th>2001-09-01</th>\n",
       "      <td>280</td>\n",
       "      <td>2700</td>\n",
       "      <td>32750</td>\n",
       "      <td>122910</td>\n",
       "      <td>195700</td>\n",
       "    </tr>\n",
       "  </tbody>\n",
       "</table>\n",
       "</div>"
      ],
      "text/plain": [
       "            3000.  3500.   4000.   4500.   5000.\n",
       "Date                                            \n",
       "2001-04-01  36050  90020  173900       0   10000\n",
       "2001-05-01  11300  56890  148000  233820   10000\n",
       "2001-06-01   1000  15070   90890  183940  214660\n",
       "2001-07-01     90   2550   25140  109540  147660\n",
       "2001-08-01    120    920    1750   33240   90670\n",
       "2001-09-01    280   2700   32750  122910  195700"
      ]
     },
     "execution_count": 22,
     "metadata": {},
     "output_type": "execute_result"
    }
   ],
   "source": [
    "sol * 10"
   ]
  },
  {
   "cell_type": "code",
   "execution_count": null,
   "metadata": {
    "collapsed": false,
    "scrolled": false
   },
   "outputs": [],
   "source": [
    "doy = sol.index.dayofyear"
   ]
  },
  {
   "cell_type": "code",
   "execution_count": null,
   "metadata": {
    "collapsed": false
   },
   "outputs": [],
   "source": [
    "doy"
   ]
  },
  {
   "cell_type": "code",
   "execution_count": null,
   "metadata": {
    "collapsed": false
   },
   "outputs": [],
   "source": [
    "type(sol.index)"
   ]
  },
  {
   "cell_type": "code",
   "execution_count": null,
   "metadata": {
    "collapsed": false
   },
   "outputs": [],
   "source": [
    "tmp = sol.index\n",
    "tmp\n"
   ]
  },
  {
   "cell_type": "code",
   "execution_count": null,
   "metadata": {
    "collapsed": false
   },
   "outputs": [],
   "source": [
    "test = tmp[0].replace(year=2000)\n",
    "test\n",
    "new = [test]\n",
    "new"
   ]
  },
  {
   "cell_type": "code",
   "execution_count": null,
   "metadata": {
    "collapsed": true
   },
   "outputs": [],
   "source": [
    "import calendar\n"
   ]
  },
  {
   "cell_type": "code",
   "execution_count": null,
   "metadata": {
    "collapsed": false
   },
   "outputs": [],
   "source": [
    "leaptest = [calendar.isleap(year) for year in sol.index.year]\n",
    "leaptest"
   ]
  },
  {
   "cell_type": "code",
   "execution_count": null,
   "metadata": {
    "collapsed": false
   },
   "outputs": [],
   "source": [
    "leaptest[0] = True\n",
    "leaptest"
   ]
  },
  {
   "cell_type": "code",
   "execution_count": null,
   "metadata": {
    "collapsed": true
   },
   "outputs": [],
   "source": [
    "daysinyear = [366 if x else 365 for x in leaptest]"
   ]
  },
  {
   "cell_type": "code",
   "execution_count": null,
   "metadata": {
    "collapsed": false
   },
   "outputs": [],
   "source": [
    "print(isleap)\n",
    "print(daysinyear)\n"
   ]
  },
  {
   "cell_type": "code",
   "execution_count": null,
   "metadata": {
    "collapsed": false
   },
   "outputs": [],
   "source": [
    "for x in isleap:\n",
    "    print x"
   ]
  },
  {
   "cell_type": "code",
   "execution_count": null,
   "metadata": {
    "collapsed": false
   },
   "outputs": [],
   "source": [
    "[1 if isleap[x] else 365 for x in isleap]"
   ]
  },
  {
   "cell_type": "code",
   "execution_count": 33,
   "metadata": {
    "collapsed": false
   },
   "outputs": [
    {
     "data": {
      "text/plain": [
       "0.0001"
      ]
     },
     "execution_count": 33,
     "metadata": {},
     "output_type": "execute_result"
    }
   ],
   "source": [
    "pow(10.,-4)"
   ]
  },
  {
   "cell_type": "code",
   "execution_count": null,
   "metadata": {
    "collapsed": true
   },
   "outputs": [],
   "source": []
  }
 ],
 "metadata": {
  "kernelspec": {
   "display_name": "Python 2",
   "language": "python",
   "name": "python2"
  },
  "language_info": {
   "codemirror_mode": {
    "name": "ipython",
    "version": 2
   },
   "file_extension": ".py",
   "mimetype": "text/x-python",
   "name": "python",
   "nbconvert_exporter": "python",
   "pygments_lexer": "ipython2",
   "version": "2.7.11"
  }
 },
 "nbformat": 4,
 "nbformat_minor": 0
}
