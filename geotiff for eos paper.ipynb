{
 "cells": [
  {
   "cell_type": "code",
   "execution_count": 6,
   "metadata": {
    "collapsed": false
   },
   "outputs": [],
   "source": [
    "from cetbtools.inspector import make_cetb_geotiff"
   ]
  },
  {
   "cell_type": "code",
   "execution_count": 7,
   "metadata": {
    "collapsed": false
   },
   "outputs": [
    {
     "name": "stdout",
     "output_type": "stream",
     "text": [
      "Help on function make_cetb_geotiff in module cetbtools.inspector:\n",
      "\n",
      "make_cetb_geotiff(cetb_filename, var_name='TB', verbose=False)\n",
      "    cetbtools.inspector.make_cetb_geotiff(cetb_filename,\n",
      "                                          var_name=\"TB\", verbose=False)\n",
      "    \n",
      "    Extracts the var_name Dataset from cetb_filename and makes a geotiff image.\n",
      "    The long_name of the extracted var_name will be used to make a suffix with\n",
      "    cetb_filename.long_name.tif\n",
      "    \n",
      "    Parameters:\n",
      "       cetb_filename : CETB .nc filename\n",
      "       var_name : variable name to extract, one of:\n",
      "                  TB (default), TB_time, TB_std_dev, TB_num_samples,\n",
      "                  Incidence_angle\n",
      "       verbose : boolean controls verbose output to stderr (default False)\n",
      "    \n",
      "    Example:\n",
      "    from cetbtools.inspector import make_cetb_geotiff\n",
      "    filename = \"EASE2_N25km.F13_SSMI.2003001.37H.E.GRD.CSU.v0.1.nc\"\n",
      "    make_cetb_geotiff( filename )\n",
      "    \n",
      "    will extract the data and create the geotiff file\n",
      "    \"EASE2_N25km.F13_SSMI.2003001.37H.E.GRD.CSU.v0.1.nc.GRD_TB.tif\"\n",
      "\n"
     ]
    }
   ],
   "source": [
    "help(make_cetb_geotiff)"
   ]
  },
  {
   "cell_type": "code",
   "execution_count": 13,
   "metadata": {
    "collapsed": false
   },
   "outputs": [
    {
     "name": "stdout",
     "output_type": "stream",
     "text": [
      "/Users/brodzik/cetb_data/F13_CSU_S_2003182\n",
      "EASE2_S25km.F13_SSMI.2003182.19H.E.GRD.CSU.v0.1.nc\r\n",
      "EASE2_S25km.F13_SSMI.2003182.19H.M.GRD.CSU.v0.1.nc\r\n",
      "EASE2_S25km.F13_SSMI.2003182.19V.E.GRD.CSU.v0.1.nc\r\n",
      "EASE2_S25km.F13_SSMI.2003182.19V.M.GRD.CSU.v0.1.nc\r\n",
      "EASE2_S25km.F13_SSMI.2003182.22V.E.GRD.CSU.v0.1.nc\r\n",
      "EASE2_S25km.F13_SSMI.2003182.22V.M.GRD.CSU.v0.1.nc\r\n",
      "EASE2_S25km.F13_SSMI.2003182.37H.E.GRD.CSU.v0.1.nc\r\n",
      "EASE2_S25km.F13_SSMI.2003182.37H.E.GRD.CSU.v0.1.nc.GRD_TB.tif\r\n",
      "EASE2_S25km.F13_SSMI.2003182.37H.M.GRD.CSU.v0.1.nc\r\n",
      "EASE2_S25km.F13_SSMI.2003182.37V.E.GRD.CSU.v0.1.nc\r\n",
      "EASE2_S25km.F13_SSMI.2003182.37V.M.GRD.CSU.v0.1.nc\r\n",
      "EASE2_S25km.F13_SSMI.2003182.85H.E.GRD.CSU.v0.1.nc\r\n",
      "EASE2_S25km.F13_SSMI.2003182.85H.E.GRD.CSU.v0.1.nc.GRD_TB.tif\r\n",
      "EASE2_S25km.F13_SSMI.2003182.85H.M.GRD.CSU.v0.1.nc\r\n",
      "EASE2_S25km.F13_SSMI.2003182.85V.E.GRD.CSU.v0.1.nc\r\n",
      "EASE2_S25km.F13_SSMI.2003182.85V.M.GRD.CSU.v0.1.nc\r\n",
      "EASE2_S3.125km.F13_SSMI.2003182.37H.E.BGI.CSU.v0.1.nc\r\n",
      "EASE2_S3.125km.F13_SSMI.2003182.37H.E.SIR.CSU.v0.1.nc\r\n",
      "EASE2_S3.125km.F13_SSMI.2003182.37H.E.SIR.CSU.v0.1.nc.SIR_TB.tif\r\n",
      "EASE2_S3.125km.F13_SSMI.2003182.37H.M.BGI.CSU.v0.1.nc\r\n",
      "EASE2_S3.125km.F13_SSMI.2003182.37H.M.SIR.CSU.v0.1.nc\r\n",
      "EASE2_S3.125km.F13_SSMI.2003182.37V.E.BGI.CSU.v0.1.nc\r\n",
      "EASE2_S3.125km.F13_SSMI.2003182.37V.E.SIR.CSU.v0.1.nc\r\n",
      "EASE2_S3.125km.F13_SSMI.2003182.37V.M.BGI.CSU.v0.1.nc\r\n",
      "EASE2_S3.125km.F13_SSMI.2003182.37V.M.SIR.CSU.v0.1.nc\r\n",
      "EASE2_S3.125km.F13_SSMI.2003182.85H.E.BGI.CSU.v0.1.nc\r\n",
      "EASE2_S3.125km.F13_SSMI.2003182.85H.E.SIR.CSU.v0.1.nc\r\n",
      "EASE2_S3.125km.F13_SSMI.2003182.85H.E.SIR.CSU.v0.1.nc.SIR_TB.tif\r\n",
      "EASE2_S3.125km.F13_SSMI.2003182.85H.E.SIR.CSU.v0.1.nc.SIR_TB.tif.aux.xml\r\n",
      "EASE2_S3.125km.F13_SSMI.2003182.85H.E.SIR.CSU.v0.1.nc.SIR_TB.tif.ovr\r\n",
      "EASE2_S3.125km.F13_SSMI.2003182.85H.M.BGI.CSU.v0.1.nc\r\n",
      "EASE2_S3.125km.F13_SSMI.2003182.85H.M.SIR.CSU.v0.1.nc\r\n",
      "EASE2_S3.125km.F13_SSMI.2003182.85V.E.BGI.CSU.v0.1.nc\r\n",
      "EASE2_S3.125km.F13_SSMI.2003182.85V.E.SIR.CSU.v0.1.nc\r\n",
      "EASE2_S3.125km.F13_SSMI.2003182.85V.M.BGI.CSU.v0.1.nc\r\n",
      "EASE2_S3.125km.F13_SSMI.2003182.85V.M.SIR.CSU.v0.1.nc\r\n",
      "EASE2_S6.25km.F13_SSMI.2003182.19H.E.BGI.CSU.v0.1.nc\r\n",
      "EASE2_S6.25km.F13_SSMI.2003182.19H.E.SIR.CSU.v0.1.nc\r\n",
      "EASE2_S6.25km.F13_SSMI.2003182.19H.M.BGI.CSU.v0.1.nc\r\n",
      "EASE2_S6.25km.F13_SSMI.2003182.19H.M.SIR.CSU.v0.1.nc\r\n",
      "EASE2_S6.25km.F13_SSMI.2003182.19V.E.BGI.CSU.v0.1.nc\r\n",
      "EASE2_S6.25km.F13_SSMI.2003182.19V.E.SIR.CSU.v0.1.nc\r\n",
      "EASE2_S6.25km.F13_SSMI.2003182.19V.M.BGI.CSU.v0.1.nc\r\n",
      "EASE2_S6.25km.F13_SSMI.2003182.19V.M.SIR.CSU.v0.1.nc\r\n",
      "EASE2_S6.25km.F13_SSMI.2003182.22V.E.BGI.CSU.v0.1.nc\r\n",
      "EASE2_S6.25km.F13_SSMI.2003182.22V.E.SIR.CSU.v0.1.nc\r\n",
      "EASE2_S6.25km.F13_SSMI.2003182.22V.M.BGI.CSU.v0.1.nc\r\n",
      "EASE2_S6.25km.F13_SSMI.2003182.22V.M.SIR.CSU.v0.1.nc\r\n"
     ]
    }
   ],
   "source": [
    "%cd /Users/brodzik/cetb_data/F13_CSU_S_2003182/\n",
    "%ls"
   ]
  },
  {
   "cell_type": "code",
   "execution_count": 11,
   "metadata": {
    "collapsed": false
   },
   "outputs": [
    {
     "name": "stderr",
     "output_type": "stream",
     "text": [
      "\n",
      "cetbtools.inspector:make_cetb_geotiff : TB geotiff image saved to: EASE2_S25km.F13_SSMI.2003182.37H.E.GRD.CSU.v0.1.nc.GRD_TB.tif\n"
     ]
    },
    {
     "data": {
      "text/plain": [
       "True"
      ]
     },
     "execution_count": 11,
     "metadata": {},
     "output_type": "execute_result"
    }
   ],
   "source": [
    "filename = \"EASE2_S25km.F13_SSMI.2003182.37H.E.GRD.CSU.v0.1.nc\"\n",
    "make_cetb_geotiff(filename, verbose=True)"
   ]
  },
  {
   "cell_type": "code",
   "execution_count": 12,
   "metadata": {
    "collapsed": false
   },
   "outputs": [
    {
     "name": "stderr",
     "output_type": "stream",
     "text": [
      "\n",
      "cetbtools.inspector:make_cetb_geotiff : TB geotiff image saved to: EASE2_S3.125km.F13_SSMI.2003182.37H.E.SIR.CSU.v0.1.nc.SIR_TB.tif\n"
     ]
    },
    {
     "data": {
      "text/plain": [
       "True"
      ]
     },
     "execution_count": 12,
     "metadata": {},
     "output_type": "execute_result"
    }
   ],
   "source": [
    "filename = \"EASE2_S3.125km.F13_SSMI.2003182.37H.E.SIR.CSU.v0.1.nc\"\n",
    "make_cetb_geotiff(filename, verbose=True)"
   ]
  },
  {
   "cell_type": "code",
   "execution_count": null,
   "metadata": {
    "collapsed": true
   },
   "outputs": [],
   "source": []
  }
 ],
 "metadata": {
  "kernelspec": {
   "display_name": "Python 2",
   "language": "python",
   "name": "python2"
  },
  "language_info": {
   "codemirror_mode": {
    "name": "ipython",
    "version": 2
   },
   "file_extension": ".py",
   "mimetype": "text/x-python",
   "name": "python",
   "nbconvert_exporter": "python",
   "pygments_lexer": "ipython2",
   "version": "2.7.11"
  }
 },
 "nbformat": 4,
 "nbformat_minor": 0
}
