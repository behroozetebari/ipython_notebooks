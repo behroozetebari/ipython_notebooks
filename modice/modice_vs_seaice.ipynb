{
 "cells": [
  {
   "cell_type": "code",
   "execution_count": null,
   "metadata": {
    "collapsed": false
   },
   "outputs": [],
   "source": [
    "%pylab notebook\n",
    "import matplotlib.pylab as plt\n",
    "import pandas as pd\n",
    "import re\n",
    "import statsmodels.formula.api as smf\n",
    "pd.set_option('display.max_columns', 360)\n",
    "pd.set_option('display.max_rows', 360)"
   ]
  },
  {
   "cell_type": "code",
   "execution_count": null,
   "metadata": {
    "collapsed": false
   },
   "outputs": [],
   "source": [
    "modice_file = '/Users/brodzik/projects/MODICE/data/MASCONS/mascon_areas_by_year.v02.csv'\n",
    "modice = pd.read_csv(modice_file)\n",
    "modice.set_index('Year', inplace=True, verify_integrity=True, drop=True)"
   ]
  },
  {
   "cell_type": "code",
   "execution_count": null,
   "metadata": {
    "collapsed": false,
    "scrolled": false
   },
   "outputs": [],
   "source": [
    "seaice_file = '/Users/brodzik/projects/MODICE/data/sii/nsidc0051_year_by_month.csv'\n",
    "seaice = pd.read_csv(seaice_file)\n",
    "seaice.set_index('Year', inplace=True, verify_integrity=True, drop=True)\n",
    "seaice.drop([1999], inplace=True)\n",
    "seaice"
   ]
  },
  {
   "cell_type": "code",
   "execution_count": null,
   "metadata": {
    "collapsed": true
   },
   "outputs": [],
   "source": [
    "# Calculate residuals\n",
    "# Subtract the column mean from every element in both Data Frames\n",
    "# QUESTION:  should these be normalized to a Z-score by dividing by the stdev??\n",
    "modice_res = modice - modice.mean()\n",
    "seaice_res = seaice - seaice.mean()"
   ]
  },
  {
   "cell_type": "code",
   "execution_count": null,
   "metadata": {
    "collapsed": false
   },
   "outputs": [],
   "source": [
    "seaice_res"
   ]
  },
  {
   "cell_type": "code",
   "execution_count": null,
   "metadata": {
    "collapsed": false
   },
   "outputs": [],
   "source": [
    "modice_res"
   ]
  },
  {
   "cell_type": "code",
   "execution_count": null,
   "metadata": {
    "collapsed": false
   },
   "outputs": [],
   "source": [
    "# Get a list of all Arctic ocean areas (these will be grouped together in the graphics)\n",
    "seaice.columns\n",
    "p = re.compile(r'01_(.*)')\n",
    "ocean_region_labels = [p.search(col).group(1) for col in seaice.columns if p.search(col)]\n",
    "ocean_region_labels"
   ]
  },
  {
   "cell_type": "code",
   "execution_count": null,
   "metadata": {
    "collapsed": false
   },
   "outputs": [],
   "source": [
    "# Get a list of all MASCON areas (these will be rows in the display graphic)\n",
    "modice.columns"
   ]
  },
  {
   "cell_type": "code",
   "execution_count": null,
   "metadata": {
    "collapsed": false
   },
   "outputs": [],
   "source": [
    "p = re.compile(r'(.+_1strike_MODICE_area_km\\^2)')\n",
    "mascon_labels1 = [p.search(col).group(1) for col in modice.columns if p.search(col)]\n",
    "mascon_labels1"
   ]
  },
  {
   "cell_type": "code",
   "execution_count": null,
   "metadata": {
    "collapsed": false
   },
   "outputs": [],
   "source": [
    "p = re.compile(r'(.+)_.strike')\n",
    "mascons1 = [p.search(label).group(1) for label in mascon_labels1]\n",
    "mascons1"
   ]
  },
  {
   "cell_type": "code",
   "execution_count": null,
   "metadata": {
    "collapsed": false
   },
   "outputs": [],
   "source": [
    "modice1_res = modice_res[mascon_labels1]\n",
    "modice1_res"
   ]
  },
  {
   "cell_type": "code",
   "execution_count": null,
   "metadata": {
    "collapsed": false
   },
   "outputs": [],
   "source": [
    "my_modice_res = modice1_res[\"NHem_1strike_MODICE_area_km^2\"]\n",
    "my_modice_res"
   ]
  },
  {
   "cell_type": "code",
   "execution_count": null,
   "metadata": {
    "collapsed": false
   },
   "outputs": [],
   "source": [
    "my_seaice_res = seaice_res[\"01_total_area_km2\"]\n",
    "my_seaice_res"
   ]
  },
  {
   "cell_type": "code",
   "execution_count": null,
   "metadata": {
    "collapsed": false,
    "scrolled": false
   },
   "outputs": [],
   "source": [
    "def plot_regression(ax, x, y, pthreshold=0.05, following_year=False):\n",
    "        \n",
    "    # To use statsmodels, data need to be in a DataFrame\n",
    "    # Thanks to https://github.com/justmarkham/DAT4/blob/master/notebooks/08_linear_regression.ipynb\n",
    "    # for pointers to statsmodels\n",
    "    if following_year:\n",
    "        print(\"doing following year\")\n",
    "        data = pd.concat([y, x.shift(periods=-1)], axis=1).reset_index()\n",
    "    else:\n",
    "        data = pd.concat([y, x], axis=1).reset_index()\n",
    "        \n",
    "    data.columns = ['Year', 'y', 'x']\n",
    "    data.dropna(inplace=True)\n",
    "\n",
    "    # Calculate OLS regression\n",
    "    try:\n",
    "        lm = smf.ols(formula='y ~ x', data=data).fit()\n",
    "    except ValueError:\n",
    "        print(\"Value error in OLS call, skipping this plot\")\n",
    "        ax.text(0.5, 0.5, \"No Data\", horizontalalignment='center')\n",
    "        ax.xaxis.set_ticklabels([])\n",
    "        ax.yaxis.set_ticklabels([])\n",
    "        return\n",
    "    \n",
    "    x_new = pd.DataFrame({'x': [data.x.min(), data.x.max()]})\n",
    "    preds = lm.predict(x_new)\n",
    "    if lm.pvalues.ix['x'] < pthreshold:\n",
    "        color = 'r'\n",
    "        style = '-'\n",
    "    else:\n",
    "        color = 'k'\n",
    "        style = ':'\n",
    "    \n",
    "    ax.scatter(x=data.x, y=data.y)\n",
    "    ax.axhline(y=0.0, color='k', linestyle=\":\")\n",
    "    ax.axvline(x=0.0, color='k', linestyle=\":\")\n",
    "    ax.xaxis.set_ticklabels([])\n",
    "    ax.yaxis.set_ticklabels([])\n",
    "    \n",
    "    ax.plot(x_new, preds, color=color, linestyle=style, linewidth=2)    "
   ]
  },
  {
   "cell_type": "code",
   "execution_count": null,
   "metadata": {
    "collapsed": false,
    "scrolled": false
   },
   "outputs": [],
   "source": [
    "fig, ax = plt.subplots(1, 2)\n",
    "plot_regression(ax=ax[0], x=my_seaice_res, y=my_modice_res, pthreshold=0.05)\n",
    "ax[0].set_ylabel('NHem')\n",
    "ax[0].set_title('Month 01')\n",
    "plot_regression(ax=ax[1], x=my_seaice_res, y=my_modice_res, following_year=True, pthreshold=0.05)\n",
    "ax[1].set_ylabel('NHem')\n",
    "ax[1].set_title('Month 01 of Next year')\n",
    "#help(ax)"
   ]
  },
  {
   "cell_type": "code",
   "execution_count": null,
   "metadata": {
    "collapsed": false
   },
   "outputs": [],
   "source": [
    "def mascon_list(area='big'):\n",
    "    if area == 'big':\n",
    "        return(['NHem', 'Arctic', 'Greenland'])\n",
    "    elif area == 'arctic':\n",
    "        return(['Alaskag',\n",
    "                'NW_Amer',\n",
    "                'Baffing',\n",
    "                'Ellesme',\n",
    "                'FrnJLnd',\n",
    "                'Iceland',\n",
    "                'Nov_Zem',\n",
    "                'Scandin',\n",
    "                'Sev_Zem',\n",
    "                'Sib+Kam',\n",
    "                'Svalbar'])\n",
    "    elif area == 'hma':\n",
    "        return(['Altaigl',\n",
    "                'HghMtnA',\n",
    "                'Him+Kar',\n",
    "                'Nthasia',\n",
    "                'Pam+Kun',\n",
    "                'Tianshn',\n",
    "                'Tib+Qil'])"
   ]
  },
  {
   "cell_type": "code",
   "execution_count": null,
   "metadata": {
    "collapsed": false,
    "scrolled": false
   },
   "outputs": [],
   "source": [
    "def do_full_comparison(seaice_variable='total_area_km2', nstrikes=1, pthreshold=0.05):\n",
    "    print(\"Next variable=%s\" % seaice_variable)\n",
    "    areas = ['big', 'arctic', 'hma']\n",
    "    suptitle_offset = [0.9, 0.96, 0.93]\n",
    "    for area_idx, area in enumerate(areas):\n",
    "        print(\"Next area=%s\" % area)\n",
    "        ncols = 24\n",
    "        cols = np.arange(ncols) + 1\n",
    "        mascons = mascon_list(area)\n",
    "        mascon_labels = [\"%s_%dstrike_MODICE_area_km^2\" % (mascon, nstrikes) for mascon in mascons]\n",
    "        nmascons = len(mascon_labels)\n",
    "        scale = 2\n",
    "        fig, ax = plt.subplots(nmascons, ncols, figsize=(scale*ncols, scale*nmascons))\n",
    "        fig.suptitle(\"Seaice (%s) vs. MODICE(%d strike) mascon (p < %04.2f)\" % \n",
    "                     (seaice_variable, nstrikes, pthreshold), fontsize=16)\n",
    "        for row, modice_label in enumerate(mascon_labels):\n",
    "            for col, month_index in enumerate(cols):\n",
    "                print(\"row, col = %d, %d\" % (row, col))\n",
    "                if month_index > 12:\n",
    "                    month = month_index - 12\n",
    "                else:\n",
    "                    month = month_index\n",
    "                column_label = \"%02d_%s\" % (month, seaice_variable)\n",
    "\n",
    "                plot_regression(ax=ax[row, col], \n",
    "                                x=seaice_res[column_label],\n",
    "                                y=modice1_res[modice_label],\n",
    "                                following_year=month_index > 12,\n",
    "                                pthreshold=pthreshold)\n",
    "        \n",
    "                if col==0:\n",
    "                    ax[row, col].set_ylabel(\"%s MODICE\" % (mascons[row]))\n",
    "                if row==0:\n",
    "                    if month_index > 12:\n",
    "                        ax[row, col].set_title(\"next %d seaice\" % (month))\n",
    "                    else:\n",
    "                        ax[row, col].set_title(\"%d seaice\" % (month))\n",
    "\n",
    "        fig.subplots_adjust(wspace=0, hspace=0)\n",
    "        #plt.tight_layout()\n",
    "\n",
    "        # Adjust the final layout so the main title is set right\n",
    "        fig.subplots_adjust(top=suptitle_offset[area_idx])\n",
    "        \n",
    "        fig.savefig(\"/Users/brodzik/projects/MODICE/data/MASCONS/MODICE1_%s_vs_%s.p%04.2f.png\" %\n",
    "                    (area, seaice_variable, pthreshold))\n",
    "    \n",
    "    plt.close('all')"
   ]
  },
  {
   "cell_type": "code",
   "execution_count": null,
   "metadata": {
    "collapsed": false,
    "scrolled": true
   },
   "outputs": [],
   "source": [
    "test_label = ocean_region_labels[9:]\n",
    "#for ocean_region_label in ocean_region_labels:\n",
    "for ocean_region_label in test_label:\n",
    "    do_full_comparison(seaice_variable=ocean_region_label)"
   ]
  },
  {
   "cell_type": "code",
   "execution_count": null,
   "metadata": {
    "collapsed": false
   },
   "outputs": [],
   "source": [
    "fig, ax = plt.subplots(1)\n",
    "ax.text(0.5, 0.5, \"this is a test\", horizontalalignment='center')"
   ]
  },
  {
   "cell_type": "code",
   "execution_count": null,
   "metadata": {
    "collapsed": false
   },
   "outputs": [],
   "source": [
    "mascons = mascon_list('big')\n",
    "mascon_labels = [\"%s_1strike_MODICE_area_km^2\" % mascon for mascon in mascons]\n",
    "print(mascons)\n",
    "print(mascon_labels)"
   ]
  },
  {
   "cell_type": "code",
   "execution_count": null,
   "metadata": {
    "collapsed": false
   },
   "outputs": [],
   "source": [
    "ocean_region_labels[9:]"
   ]
  },
  {
   "cell_type": "code",
   "execution_count": null,
   "metadata": {
    "collapsed": true
   },
   "outputs": [],
   "source": []
  }
 ],
 "metadata": {
  "kernelspec": {
   "display_name": "Python 2",
   "language": "python",
   "name": "python2"
  },
  "language_info": {
   "codemirror_mode": {
    "name": "ipython",
    "version": 2
   },
   "file_extension": ".py",
   "mimetype": "text/x-python",
   "name": "python",
   "nbconvert_exporter": "python",
   "pygments_lexer": "ipython2",
   "version": "2.7.12"
  }
 },
 "nbformat": 4,
 "nbformat_minor": 0
}
