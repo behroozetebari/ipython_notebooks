{
 "cells": [
  {
   "cell_type": "code",
   "execution_count": null,
   "metadata": {
    "collapsed": false
   },
   "outputs": [],
   "source": [
    "%pylab notebook\n",
    "import matplotlib.pyplot as plt\n",
    "import pandas as pd\n",
    "import re"
   ]
  },
  {
   "cell_type": "code",
   "execution_count": null,
   "metadata": {
    "collapsed": false
   },
   "outputs": [],
   "source": [
    "%cd /Users/brodzik/projects/MODICE/data/sii\n",
    "%ls"
   ]
  },
  {
   "cell_type": "code",
   "execution_count": null,
   "metadata": {
    "collapsed": true
   },
   "outputs": [],
   "source": [
    "#daily = pd.read_csv('daily.csv')"
   ]
  },
  {
   "cell_type": "code",
   "execution_count": null,
   "metadata": {
    "collapsed": true
   },
   "outputs": [],
   "source": [
    "monthly = pd.read_csv('monthly.csv')"
   ]
  },
  {
   "cell_type": "code",
   "execution_count": null,
   "metadata": {
    "collapsed": false
   },
   "outputs": [],
   "source": [
    "monthly\n"
   ]
  },
  {
   "cell_type": "markdown",
   "metadata": {
    "collapsed": false
   },
   "source": [
    "<h2> Slicing monthly files</h2>\n",
    "<ol>\n",
    "<li> only keep hemisphere='N'\n",
    "<li> only keep dates since Jan 1999\n",
    "<li> validate that \"missing\" columns are zeroes and drop them\n",
    "</ol>\n",
    "Then set index to date.\n"
   ]
  },
  {
   "cell_type": "code",
   "execution_count": null,
   "metadata": {
    "collapsed": false
   },
   "outputs": [],
   "source": [
    "monthly.shape"
   ]
  },
  {
   "cell_type": "code",
   "execution_count": null,
   "metadata": {
    "collapsed": false
   },
   "outputs": [],
   "source": [
    "monthly = monthly[monthly['hemisphere'] == 'N']"
   ]
  },
  {
   "cell_type": "code",
   "execution_count": null,
   "metadata": {
    "collapsed": false
   },
   "outputs": [],
   "source": [
    "monthly.shape"
   ]
  },
  {
   "cell_type": "code",
   "execution_count": null,
   "metadata": {
    "collapsed": false
   },
   "outputs": [],
   "source": [
    "monthly.loc[:,'date'] = pd.to_datetime(monthly['month'])"
   ]
  },
  {
   "cell_type": "code",
   "execution_count": null,
   "metadata": {
    "collapsed": false
   },
   "outputs": [],
   "source": [
    "# Set the month column to the DataFrame index\n",
    "monthly.set_index('date', inplace=True, verify_integrity=True, drop=True)"
   ]
  },
  {
   "cell_type": "code",
   "execution_count": null,
   "metadata": {
    "collapsed": false,
    "scrolled": false
   },
   "outputs": [],
   "source": [
    "monthly = monthly[monthly.index > '1998-12-31']"
   ]
  },
  {
   "cell_type": "code",
   "execution_count": null,
   "metadata": {
    "collapsed": false,
    "scrolled": false
   },
   "outputs": [],
   "source": [
    "monthly.columns"
   ]
  },
  {
   "cell_type": "code",
   "execution_count": null,
   "metadata": {
    "collapsed": false
   },
   "outputs": [],
   "source": [
    "monthly.shape"
   ]
  },
  {
   "cell_type": "code",
   "execution_count": null,
   "metadata": {
    "collapsed": false,
    "scrolled": false
   },
   "outputs": [],
   "source": [
    "for column in monthly.columns:\n",
    "    matched = re.search(r\"missing_km2\", column)\n",
    "    if matched:\n",
    "        print(\"%s: \" % (column))\n",
    "        print(monthly[column].min(), monthly[column].max())\n",
    "        del monthly[column]"
   ]
  },
  {
   "cell_type": "code",
   "execution_count": null,
   "metadata": {
    "collapsed": false
   },
   "outputs": [],
   "source": [
    "monthly.shape"
   ]
  },
  {
   "cell_type": "code",
   "execution_count": null,
   "metadata": {
    "collapsed": false,
    "scrolled": false
   },
   "outputs": [],
   "source": [
    "monthly['meier2007_laptev_area_km2'].plot()"
   ]
  },
  {
   "cell_type": "code",
   "execution_count": null,
   "metadata": {
    "collapsed": false,
    "scrolled": false
   },
   "outputs": [],
   "source": [
    "fig, ax = plt.subplots(15, figsize=(8,25))\n",
    "i = 0\n",
    "for column in monthly.columns:\n",
    "    matched = re.search(r\"area_km2\", column)\n",
    "    if matched:\n",
    "        print(\"%s: %d\" % (column, i))\n",
    "        monthly[column].plot(ax=ax[i], sharey=True, title=column)\n",
    "        i = i + 1\n",
    "fig.tight_layout()\n",
    "fig.savefig(\"nsidc0051_area_by_region.png\")"
   ]
  },
  {
   "cell_type": "markdown",
   "metadata": {},
   "source": [
    "<h2>Convert from monthly time series to years time series</h2>"
   ]
  },
  {
   "cell_type": "code",
   "execution_count": null,
   "metadata": {
    "collapsed": false
   },
   "outputs": [],
   "source": [
    "monthly"
   ]
  },
  {
   "cell_type": "code",
   "execution_count": null,
   "metadata": {
    "collapsed": false
   },
   "outputs": [],
   "source": [
    "def convert_column_to_matrix(df, column):\n",
    "    short_column = column\n",
    "    short_column = re.sub(\"meier2007_\", \"\", short_column)\n",
    "    nyears = 17\n",
    "    nmonths = 12\n",
    "    years = np.arange(nyears) + 1999\n",
    "    months = np.arange(nmonths) + 1\n",
    "    column_names = [\"%02d_%s\" % (month, short_column) for month in months]\n",
    "    data = pd.DataFrame(index=years, columns=column_names)\n",
    "    for year in years:\n",
    "        for month in months:\n",
    "            yyyymm = \"%4d-%02d\" % (year, month)\n",
    "            data.loc[year, column_names[month-1]] = df.get_value(\n",
    "                index=pd.to_datetime(yyyymm), col=column)\n",
    "    return(data)"
   ]
  },
  {
   "cell_type": "code",
   "execution_count": null,
   "metadata": {
    "collapsed": false,
    "scrolled": false
   },
   "outputs": [],
   "source": [
    "start=True\n",
    "for column in monthly.columns:\n",
    "    matched = re.search(r\"area_km2|extent_km2\", column)\n",
    "    if matched:\n",
    "        print(\"%s: \" % (column))\n",
    "        new = convert_column_to_matrix(monthly, column)\n",
    "        if start: \n",
    "            all = new.copy()\n",
    "            start=False\n",
    "        else:\n",
    "            all = pd.concat([all, new], axis=1)"
   ]
  },
  {
   "cell_type": "code",
   "execution_count": null,
   "metadata": {
    "collapsed": false
   },
   "outputs": [],
   "source": [
    "all.shape"
   ]
  },
  {
   "cell_type": "code",
   "execution_count": null,
   "metadata": {
    "collapsed": false,
    "scrolled": false
   },
   "outputs": [],
   "source": [
    "all"
   ]
  },
  {
   "cell_type": "code",
   "execution_count": null,
   "metadata": {
    "collapsed": false
   },
   "outputs": [],
   "source": [
    "col = 'beaufort_extent_km2'\n",
    "\n",
    "print(\"from monthly: %f\" % monthly.get_value(index=pd.to_datetime('2008-06-01'), col='meier2007_'+col))\n",
    "print(\"from all    : %f\" % all.get_value(index=2008, col='06_' + col))"
   ]
  },
  {
   "cell_type": "code",
   "execution_count": null,
   "metadata": {
    "collapsed": false
   },
   "outputs": [],
   "source": [
    "del monthly['month']"
   ]
  },
  {
   "cell_type": "code",
   "execution_count": null,
   "metadata": {
    "collapsed": false,
    "scrolled": false
   },
   "outputs": [],
   "source": [
    "monthly.to_csv('nsidc0051_monthly_tseries.csv', sep='\\t')"
   ]
  },
  {
   "cell_type": "code",
   "execution_count": 109,
   "metadata": {
    "collapsed": true
   },
   "outputs": [],
   "source": [
    "all.to_csv('nsidc0051_year_by_month.csv', index_label='Year')"
   ]
  },
  {
   "cell_type": "code",
   "execution_count": 110,
   "metadata": {
    "collapsed": false
   },
   "outputs": [
    {
     "data": {
      "text/plain": [
       "u'/Users/brodzik/projects/MODICE/data/sii'"
      ]
     },
     "execution_count": 110,
     "metadata": {},
     "output_type": "execute_result"
    }
   ],
   "source": [
    "%pwd"
   ]
  },
  {
   "cell_type": "code",
   "execution_count": 111,
   "metadata": {
    "collapsed": true
   },
   "outputs": [],
   "source": [
    "%more nsidc0051_year_by_month.csv"
   ]
  },
  {
   "cell_type": "code",
   "execution_count": 108,
   "metadata": {
    "collapsed": false
   },
   "outputs": [
    {
     "data": {
      "text/plain": [
       "Index([u'01_total_extent_km2', u'02_total_extent_km2', u'03_total_extent_km2',\n",
       "       u'04_total_extent_km2', u'05_total_extent_km2', u'06_total_extent_km2',\n",
       "       u'07_total_extent_km2', u'08_total_extent_km2', u'09_total_extent_km2',\n",
       "       u'10_total_extent_km2',\n",
       "       ...\n",
       "       u'03_chukchi_area_km2', u'04_chukchi_area_km2', u'05_chukchi_area_km2',\n",
       "       u'06_chukchi_area_km2', u'07_chukchi_area_km2', u'08_chukchi_area_km2',\n",
       "       u'09_chukchi_area_km2', u'10_chukchi_area_km2', u'11_chukchi_area_km2',\n",
       "       u'12_chukchi_area_km2'],\n",
       "      dtype='object', length=360)"
      ]
     },
     "execution_count": 108,
     "metadata": {},
     "output_type": "execute_result"
    }
   ],
   "source": [
    "all.columns"
   ]
  },
  {
   "cell_type": "code",
   "execution_count": null,
   "metadata": {
    "collapsed": true
   },
   "outputs": [],
   "source": []
  }
 ],
 "metadata": {
  "kernelspec": {
   "display_name": "Python 2",
   "language": "python",
   "name": "python2"
  },
  "language_info": {
   "codemirror_mode": {
    "name": "ipython",
    "version": 2
   },
   "file_extension": ".py",
   "mimetype": "text/x-python",
   "name": "python",
   "nbconvert_exporter": "python",
   "pygments_lexer": "ipython2",
   "version": "2.7.12"
  }
 },
 "nbformat": 4,
 "nbformat_minor": 0
}
