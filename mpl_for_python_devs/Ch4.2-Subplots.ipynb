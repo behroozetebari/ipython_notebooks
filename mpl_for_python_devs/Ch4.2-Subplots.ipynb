{
 "cells": [
  {
   "cell_type": "markdown",
   "metadata": {},
   "source": [
    "To create a figure with multiple subplots, use add_subplot method on figure, where\n",
    "arguments are nrows, ncols, fignum (fignum is which one to work on, starts at 1).\n",
    "\n",
    "When all numbers are less than ten, they can be merged into a triple of numbers:\n",
    "\n",
    "<code>fig = add_subplot(2, 1, 2)</code>\n",
    "\n",
    "is equivalent to:\n",
    "\n",
    "<code>fig = add_subplot(212)</code>\n"
   ]
  },
  {
   "cell_type": "code",
   "execution_count": null,
   "metadata": {
    "collapsed": false
   },
   "outputs": [],
   "source": [
    "# Example on how to create 2 y-axis drawn on the same plot:\n",
    "%pylab notebook\n",
    "import matplotlib.pyplot as plt\n",
    "import numpy as np"
   ]
  },
  {
   "cell_type": "code",
   "execution_count": null,
   "metadata": {
    "collapsed": false
   },
   "outputs": [],
   "source": [
    "x = np.arange(0., np.e, 0.01)\n",
    "y2 = np.exp(-x)\n",
    "y1 = np.log(x)\n",
    "fig = plt.figure()\n",
    "ax1 = fig.add_subplot(111)\n",
    "ax1.plot(x, y1);  # <---note that semicolon supresses extra verbose output\n",
    "ax1.set_ylabel('Y values for exp(-x)');\n",
    "ax2 = ax1.twinx()\n",
    "ax2.plot(x, y2, 'r');\n",
    "ax2.set_xlim([0, np.e]);\n",
    "ax2.set_ylabel('Y values for ln(x)');\n",
    "ax2.set_xlabel(\"Same X for both exp(-x) and ln(x)\");\n"
   ]
  },
  {
   "cell_type": "code",
   "execution_count": null,
   "metadata": {
    "collapsed": true
   },
   "outputs": [],
   "source": [
    "# (More stuff in this section about log plots and sharing axis ranges on multiple axes in the same figure)"
   ]
  },
  {
   "cell_type": "code",
   "execution_count": null,
   "metadata": {
    "collapsed": true
   },
   "outputs": [],
   "source": []
  }
 ],
 "metadata": {
  "kernelspec": {
   "display_name": "Python 2",
   "language": "python",
   "name": "python2"
  },
  "language_info": {
   "codemirror_mode": {
    "name": "ipython",
    "version": 2
   },
   "file_extension": ".py",
   "mimetype": "text/x-python",
   "name": "python",
   "nbconvert_exporter": "python",
   "pygments_lexer": "ipython2",
   "version": "2.7.12"
  }
 },
 "nbformat": 4,
 "nbformat_minor": 0
}
