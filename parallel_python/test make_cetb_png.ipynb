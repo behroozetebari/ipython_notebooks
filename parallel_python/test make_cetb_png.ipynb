{
 "cells": [
  {
   "cell_type": "code",
   "execution_count": 1,
   "metadata": {
    "collapsed": false,
    "scrolled": false
   },
   "outputs": [],
   "source": [
    "#from cetbtools.inspector import make_cetb_png\n",
    "import glob\n",
    "import ipyparallel\n",
    "import numpy as np\n",
    "import os\n",
    "import sys\n",
    "import time"
   ]
  },
  {
   "cell_type": "code",
   "execution_count": null,
   "metadata": {
    "collapsed": false
   },
   "outputs": [],
   "source": [
    "n=4\n",
    "status = \"mpl version = %s, and num=%d\" % (mpl.__version__, n * 10)\n",
    "print(status)"
   ]
  },
  {
   "cell_type": "code",
   "execution_count": null,
   "metadata": {
    "collapsed": false
   },
   "outputs": [],
   "source": [
    "%cd /projects/brodzik/tmp"
   ]
  },
  {
   "cell_type": "code",
   "execution_count": null,
   "metadata": {
    "collapsed": false
   },
   "outputs": [],
   "source": [
    "list = glob.glob(\"*nc\")"
   ]
  },
  {
   "cell_type": "code",
   "execution_count": null,
   "metadata": {
    "collapsed": false
   },
   "outputs": [],
   "source": [
    "t0 = time.time()\n",
    "for f in list[:2]:\n",
    "    make_cetb_png(f, verbose=True)\n",
    "t1 = time.time()\n",
    "\n",
    "serial_t = t1 - t0\n",
    "print(\"Serial time = %f\" % serial_t)"
   ]
  },
  {
   "cell_type": "code",
   "execution_count": 2,
   "metadata": {
    "collapsed": false
   },
   "outputs": [
    {
     "name": "stdout",
     "output_type": "stream",
     "text": [
      "importing matplotlib on engine(s)\n",
      "\n",
      "\n",
      "...........................\n",
      "Parallel Calculation\n",
      "\n",
      "[0, 1, 2, 3, 4, 5]\n",
      "<class 'list'>\n",
      "Parallel result :  ['mpl version=1.5.3, and num=0', 'mpl version=1.5.3, and num=10', 'mpl version=1.5.3, and num=20', 'mpl version=1.5.3, and num=30', 'mpl version=1.5.3, and num=40', 'mpl version=1.5.3, and num=50']\n",
      "Parallel time = 0.027730\n"
     ]
    }
   ],
   "source": [
    "def myFunc(n):\n",
    "    status = \"mpl version=%s, and num=%d\" % (matplotlib.__version__, n * 10)\n",
    "    return status\n",
    "\n",
    "rc=ipyparallel.Client(profile='MJBtest')\n",
    "nengines = len(rc)\n",
    "all_proc = rc[:]\n",
    "all_proc.block=True\n",
    "with all_proc.sync_imports():\n",
    "    import matplotlib\n",
    "    \n",
    "print('\\n')\n",
    "print('...........................')\n",
    "print('Parallel Calculation')\n",
    "print('')\n",
    "\n",
    "inlist = [i for i in range(6)]\n",
    "print(inlist)\n",
    "print(type(inlist))\n",
    "t0 = time.time()\n",
    "result = all_proc.map_sync(myFunc, inlist)\n",
    "t1 = time.time()\n",
    "parallel_t = t1 - t0\n",
    "print(\"Parallel result : \", result)\n",
    "print(\"Parallel time = %f\" % parallel_t)"
   ]
  },
  {
   "cell_type": "code",
   "execution_count": null,
   "metadata": {
    "collapsed": false
   },
   "outputs": [],
   "source": [
    "inlist = range(6)"
   ]
  },
  {
   "cell_type": "code",
   "execution_count": null,
   "metadata": {
    "collapsed": false
   },
   "outputs": [],
   "source": [
    "print(inlist)"
   ]
  },
  {
   "cell_type": "code",
   "execution_count": null,
   "metadata": {
    "collapsed": false
   },
   "outputs": [],
   "source": [
    "print(inlist)\n"
   ]
  },
  {
   "cell_type": "code",
   "execution_count": null,
   "metadata": {
    "collapsed": true
   },
   "outputs": [],
   "source": [
    "new = [i for i in inlist]"
   ]
  },
  {
   "cell_type": "code",
   "execution_count": null,
   "metadata": {
    "collapsed": false
   },
   "outputs": [],
   "source": [
    "new\n"
   ]
  },
  {
   "cell_type": "code",
   "execution_count": null,
   "metadata": {
    "collapsed": true
   },
   "outputs": [],
   "source": []
  }
 ],
 "metadata": {
  "kernelspec": {
   "display_name": "cetb3",
   "language": "python",
   "name": "cetb3"
  },
  "language_info": {
   "codemirror_mode": {
    "name": "ipython",
    "version": 3
   },
   "file_extension": ".py",
   "mimetype": "text/x-python",
   "name": "python",
   "nbconvert_exporter": "python",
   "pygments_lexer": "ipython3",
   "version": "3.4.5"
  }
 },
 "nbformat": 4,
 "nbformat_minor": 1
}
