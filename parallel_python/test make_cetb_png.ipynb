{
 "cells": [
  {
   "cell_type": "code",
   "execution_count": 1,
   "metadata": {
    "collapsed": false,
    "scrolled": false
   },
   "outputs": [],
   "source": [
    "from cetbtools.inspector import make_cetb_png\n",
    "import glob\n",
    "import ipyparallel\n",
    "import matplotlib\n",
    "import numpy as np\n",
    "import os\n",
    "import sys\n",
    "import time"
   ]
  },
  {
   "cell_type": "code",
   "execution_count": null,
   "metadata": {
    "collapsed": false
   },
   "outputs": [],
   "source": [
    "n=4\n",
    "status = \"mpl version = %s, and num=%d\" % (matplotlib.__version__, n * 10)\n",
    "print(status)"
   ]
  },
  {
   "cell_type": "code",
   "execution_count": 2,
   "metadata": {
    "collapsed": false
   },
   "outputs": [
    {
     "name": "stdout",
     "output_type": "stream",
     "text": [
      "/projects/brodzik/tmp\n"
     ]
    }
   ],
   "source": [
    "%cd /projects/brodzik/tmp"
   ]
  },
  {
   "cell_type": "code",
   "execution_count": 3,
   "metadata": {
    "collapsed": false
   },
   "outputs": [],
   "source": [
    "list = glob.glob(\"*nc\")"
   ]
  },
  {
   "cell_type": "code",
   "execution_count": 4,
   "metadata": {
    "collapsed": false
   },
   "outputs": [
    {
     "data": {
      "text/plain": [
       "['NSIDC-0630-EASE2_N25km-F10_SSMI-1991050-19H-E-GRD-CSU-v1.2.nc',\n",
       " 'NSIDC-0630-EASE2_N25km-F10_SSMI-1992250-19H-E-GRD-CSU-v1.2.nc',\n",
       " 'NSIDC-0630-EASE2_N25km-F10_SSMI-1990350-19H-M-GRD-CSU-v1.2.nc',\n",
       " 'NSIDC-0630-EASE2_N25km-F10_SSMI-1991050-19H-M-GRD-CSU-v1.2.nc',\n",
       " 'NSIDC-0630-EASE2_N25km-F10_SSMI-1992250-19H-M-GRD-CSU-v1.2.nc',\n",
       " 'NSIDC-0630-EASE2_N25km-F10_SSMI-1990350-19H-E-GRD-CSU-v1.2.nc']"
      ]
     },
     "execution_count": 4,
     "metadata": {},
     "output_type": "execute_result"
    }
   ],
   "source": [
    "list\n"
   ]
  },
  {
   "cell_type": "code",
   "execution_count": 22,
   "metadata": {
    "collapsed": false
   },
   "outputs": [],
   "source": [
    "dlist = {str(k): v for k, v in enumerate(list)}"
   ]
  },
  {
   "cell_type": "code",
   "execution_count": 24,
   "metadata": {
    "collapsed": false
   },
   "outputs": [
    {
     "data": {
      "text/plain": [
       "{'0': 'NSIDC-0630-EASE2_N25km-F10_SSMI-1991050-19H-E-GRD-CSU-v1.2.nc',\n",
       " '1': 'NSIDC-0630-EASE2_N25km-F10_SSMI-1992250-19H-E-GRD-CSU-v1.2.nc',\n",
       " '2': 'NSIDC-0630-EASE2_N25km-F10_SSMI-1990350-19H-M-GRD-CSU-v1.2.nc',\n",
       " '3': 'NSIDC-0630-EASE2_N25km-F10_SSMI-1991050-19H-M-GRD-CSU-v1.2.nc',\n",
       " '4': 'NSIDC-0630-EASE2_N25km-F10_SSMI-1992250-19H-M-GRD-CSU-v1.2.nc',\n",
       " '5': 'NSIDC-0630-EASE2_N25km-F10_SSMI-1990350-19H-E-GRD-CSU-v1.2.nc'}"
      ]
     },
     "execution_count": 24,
     "metadata": {},
     "output_type": "execute_result"
    }
   ],
   "source": [
    "dlist"
   ]
  },
  {
   "cell_type": "code",
   "execution_count": 5,
   "metadata": {
    "collapsed": false
   },
   "outputs": [
    {
     "name": "stderr",
     "output_type": "stream",
     "text": [
      "\n",
      "cetbtools.inspector:make_cetb_png : TB data are packed...\n",
      "\n",
      "cetbtools.inspector:make_cetb_png : valid data range is 98.77 - 290.23\n",
      "\n",
      "cetbtools.inspector:make_cetb_png : TB png image saved to: NSIDC-0630-EASE2_N25km-F10_SSMI-1991050-19H-E-GRD-CSU-v1.2.nc.GRD_TB.png\n",
      "\n",
      "cetbtools.inspector:make_cetb_png : TB data are packed...\n",
      "\n",
      "cetbtools.inspector:make_cetb_png : valid data range is 97.71 - 290.69\n",
      "\n",
      "cetbtools.inspector:make_cetb_png : TB png image saved to: NSIDC-0630-EASE2_N25km-F10_SSMI-1992250-19H-E-GRD-CSU-v1.2.nc.GRD_TB.png\n",
      "\n",
      "cetbtools.inspector:make_cetb_png : TB data are packed...\n",
      "\n",
      "cetbtools.inspector:make_cetb_png : valid data range is 94.81 - 286.61\n",
      "\n",
      "cetbtools.inspector:make_cetb_png : TB png image saved to: NSIDC-0630-EASE2_N25km-F10_SSMI-1990350-19H-M-GRD-CSU-v1.2.nc.GRD_TB.png\n",
      "\n",
      "cetbtools.inspector:make_cetb_png : TB data are packed...\n",
      "\n",
      "cetbtools.inspector:make_cetb_png : valid data range is 98.38 - 287.04\n",
      "\n",
      "cetbtools.inspector:make_cetb_png : TB png image saved to: NSIDC-0630-EASE2_N25km-F10_SSMI-1991050-19H-M-GRD-CSU-v1.2.nc.GRD_TB.png\n",
      "\n",
      "cetbtools.inspector:make_cetb_png : TB data are packed...\n",
      "\n",
      "cetbtools.inspector:make_cetb_png : valid data range is 95.64 - 294.29\n",
      "\n",
      "cetbtools.inspector:make_cetb_png : TB png image saved to: NSIDC-0630-EASE2_N25km-F10_SSMI-1992250-19H-M-GRD-CSU-v1.2.nc.GRD_TB.png\n",
      "\n",
      "cetbtools.inspector:make_cetb_png : TB data are packed...\n",
      "\n",
      "cetbtools.inspector:make_cetb_png : valid data range is 96.19 - 286.82"
     ]
    },
    {
     "name": "stdout",
     "output_type": "stream",
     "text": [
      "Serial time = 24.198270\n"
     ]
    },
    {
     "name": "stderr",
     "output_type": "stream",
     "text": [
      "\n",
      "\n",
      "cetbtools.inspector:make_cetb_png : TB png image saved to: NSIDC-0630-EASE2_N25km-F10_SSMI-1990350-19H-E-GRD-CSU-v1.2.nc.GRD_TB.png\n"
     ]
    }
   ],
   "source": [
    "t0 = time.time()\n",
    "for f in list:\n",
    "    make_cetb_png(f, verbose=True)\n",
    "t1 = time.time()\n",
    "\n",
    "serial_t = t1 - t0\n",
    "print(\"Serial time = %f\" % serial_t)"
   ]
  },
  {
   "cell_type": "code",
   "execution_count": 25,
   "metadata": {
    "collapsed": false
   },
   "outputs": [
    {
     "name": "stdout",
     "output_type": "stream",
     "text": [
      "Nengines=3\n",
      "importing matplotlib on engine(s)\n",
      "\n",
      "\n",
      "...........................\n",
      "Parallel Calculation\n",
      "\n"
     ]
    },
    {
     "ename": "CompositeError",
     "evalue": "one or more exceptions from call to method: _push\n[0:apply]: SyntaxError: can't assign to literal (<string>, line 1)\n[1:apply]: SyntaxError: can't assign to literal (<string>, line 1)\n[2:apply]: SyntaxError: can't assign to literal (<string>, line 1)",
     "output_type": "error",
     "traceback": [
      "[0:apply]: ",
      "\u001b[0;36m  File \u001b[0;32m\"<string>\"\u001b[0;36m, line \u001b[0;32m1\u001b[0m",
      "\u001b[0;31mSyntaxError\u001b[0m\u001b[0;31m:\u001b[0m can't assign to literal",
      "",
      "[1:apply]: ",
      "\u001b[0;36m  File \u001b[0;32m\"<string>\"\u001b[0;36m, line \u001b[0;32m1\u001b[0m",
      "\u001b[0;31mSyntaxError\u001b[0m\u001b[0;31m:\u001b[0m can't assign to literal",
      "",
      "[2:apply]: ",
      "\u001b[0;36m  File \u001b[0;32m\"<string>\"\u001b[0;36m, line \u001b[0;32m1\u001b[0m",
      "\u001b[0;31mSyntaxError\u001b[0m\u001b[0;31m:\u001b[0m can't assign to literal",
      ""
     ]
    }
   ],
   "source": [
    "def myFunc(n):\n",
    "    status = \"num=%d, file=%s\" % (n, dlist[str(n)])\n",
    "    return status\n",
    "\n",
    "rc=ipyparallel.Client(profile='crestone-cetb3')\n",
    "nengines = len(rc)\n",
    "print(\"Nengines=%d\" % nengines)\n",
    "all_proc = rc[:]\n",
    "all_proc.block=True\n",
    "with all_proc.sync_imports():\n",
    "    import matplotlib\n",
    "    \n",
    "print('\\n')\n",
    "print('...........................')\n",
    "print('Parallel Calculation')\n",
    "print('')\n",
    "\n",
    "nlist = [i for i in range(6)]\n",
    "t0 = time.time()\n",
    "all_proc.push(dlist)\n",
    "result = all_proc.map_sync(myFunc, nlist)\n",
    "t1 = time.time()\n",
    "parallel_t = t1 - t0\n",
    "print(\"Parallel result : \", result)\n",
    "print(\"Parallel time = %f\" % parallel_t)"
   ]
  },
  {
   "cell_type": "code",
   "execution_count": null,
   "metadata": {
    "collapsed": false
   },
   "outputs": [],
   "source": [
    "inlist = range(6)"
   ]
  },
  {
   "cell_type": "code",
   "execution_count": null,
   "metadata": {
    "collapsed": false
   },
   "outputs": [],
   "source": [
    "print(inlist)"
   ]
  },
  {
   "cell_type": "code",
   "execution_count": null,
   "metadata": {
    "collapsed": false
   },
   "outputs": [],
   "source": [
    "print(inlist)\n"
   ]
  },
  {
   "cell_type": "code",
   "execution_count": null,
   "metadata": {
    "collapsed": true
   },
   "outputs": [],
   "source": [
    "new = [i for i in inlist]"
   ]
  },
  {
   "cell_type": "code",
   "execution_count": null,
   "metadata": {
    "collapsed": false
   },
   "outputs": [],
   "source": [
    "new\n"
   ]
  },
  {
   "cell_type": "code",
   "execution_count": null,
   "metadata": {
    "collapsed": true
   },
   "outputs": [],
   "source": []
  }
 ],
 "metadata": {
  "kernelspec": {
   "display_name": "cetb3",
   "language": "python",
   "name": "cetb3"
  },
  "language_info": {
   "codemirror_mode": {
    "name": "ipython",
    "version": 3
   },
   "file_extension": ".py",
   "mimetype": "text/x-python",
   "name": "python",
   "nbconvert_exporter": "python",
   "pygments_lexer": "ipython3",
   "version": "3.6.2"
  }
 },
 "nbformat": 4,
 "nbformat_minor": 1
}
