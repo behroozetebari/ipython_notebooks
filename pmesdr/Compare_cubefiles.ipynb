{
 "cells": [
  {
   "cell_type": "markdown",
   "metadata": {},
   "source": [
    "# Compare random layer of data in WesternUS cube files\n",
    "\n",
    "This notebook does a random comparison of Western US cubefile data for 2003. \n",
    "\n",
    "Before=original cubes I did early summer 2018, before changing the time variable.\n",
    "After= new cubes I just did August 2018, after changing the time variable.\n",
    "\n",
    "Data parts should be the same, just the time variable should be different.\n"
   ]
  },
  {
   "cell_type": "code",
   "execution_count": null,
   "metadata": {},
   "outputs": [],
   "source": [
    "%pylab notebook\n",
    "import glob\n",
    "import matplotlib.pyplot as plt\n",
    "from netCDF4 import Dataset\n",
    "import numpy as np\n",
    "import sys"
   ]
  },
  {
   "cell_type": "markdown",
   "metadata": {},
   "source": [
    "# Open the old file cube for 18H GRD and the new one"
   ]
  },
  {
   "cell_type": "code",
   "execution_count": null,
   "metadata": {
    "scrolled": true
   },
   "outputs": [],
   "source": [
    "subset = \"WesternUS\"\n",
    "subset = \"GLaIL\"\n",
    "subset = \"UIB\"\n",
    "old_dir = \"/work/PMESDR/v1.3/AQUA_AMSRE/N/cubes_%s_old\" % subset\n",
    "new_dir = \"/work/PMESDR/v1.3/AQUA_AMSRE/N/cubes_%s\" % subset\n",
    "%cd $old_dir\n",
    "#%ls -las"
   ]
  },
  {
   "cell_type": "code",
   "execution_count": null,
   "metadata": {},
   "outputs": [],
   "source": [
    "list = sort(glob.glob(\"*18H*2003.TB.nc\"))\n",
    "list"
   ]
  },
  {
   "cell_type": "code",
   "execution_count": null,
   "metadata": {},
   "outputs": [],
   "source": [
    "old_grd_file = \"%s/%s\" % (old_dir, list[0])\n",
    "old_sir_file = \"%s/%s\" % (old_dir, list[1])\n",
    "new_grd_file = \"%s/%s\" % (new_dir, list[0])\n",
    "new_sir_file = \"%s/%s\" % (new_dir, list[1])"
   ]
  },
  {
   "cell_type": "code",
   "execution_count": null,
   "metadata": {},
   "outputs": [],
   "source": [
    "old_grd_file, old_sir_file, new_grd_file, new_sir_file"
   ]
  },
  {
   "cell_type": "code",
   "execution_count": null,
   "metadata": {
    "scrolled": false
   },
   "outputs": [],
   "source": [
    "for file in [old_grd_file, old_sir_file, new_grd_file, new_sir_file]:\n",
    "    fid = Dataset(file, \"r\", \"NETCDF4\")\n",
    "    print(\"file=%s\" % file)\n",
    "    time = fid.variables['time'][:20]\n",
    "    print(time)\n",
    "    fid.close()"
   ]
  },
  {
   "cell_type": "code",
   "execution_count": null,
   "metadata": {},
   "outputs": [],
   "source": [
    "# Read data for Jan 31 evening: layer # 61"
   ]
  },
  {
   "cell_type": "code",
   "execution_count": null,
   "metadata": {},
   "outputs": [],
   "source": [
    "layer = 61\n",
    "fig, ax = plt.subplots(nrows=1, ncols=2, figsize=(10, 8))\n",
    "for i, file in enumerate([old_sir_file, new_sir_file]):\n",
    "    fid = Dataset(file, \"r\", \"NETCDF4\")\n",
    "    print(\"i=%d, file=%s, \" % (i,file))\n",
    "    tb = fid.variables['TB'][layer,:,:]\n",
    "    print(tb.shape)\n",
    "    print(\"i=%d, min=%f, max=%f\" % (layer, np.amin(tb), np.amax(tb)))\n",
    "    fid.close()\n",
    "    ax[i].imshow(tb)\n",
    "    if i == 0:\n",
    "        old_tb = tb\n",
    "    else:\n",
    "        new_tb = tb\n",
    "        \n",
    "diff = new_tb - old_tb\n",
    "print(\"Diff: min=%f, max=%f\" % (np.amin(diff), np.amax(diff)))        "
   ]
  },
  {
   "cell_type": "markdown",
   "metadata": {},
   "source": [
    "# Look at 18H and 36H data for GRD and SIR, doy = 721 (index=720)"
   ]
  },
  {
   "cell_type": "code",
   "execution_count": null,
   "metadata": {
    "scrolled": false
   },
   "outputs": [],
   "source": [
    "fig, ax = plt.subplots(nrows=2, ncols=2)\n",
    "i = 720\n",
    "for j in np.arange(0,4):\n",
    "    this_ax = ax[int(j/2), mod(j,2)]\n",
    "    fid = Dataset(list[j], \"r\", \"NETCDF4\")\n",
    "    layer = fid.variables[\"TB\"][i,:,:]\n",
    "    img = this_ax.imshow(layer, vmin=80, vmax=270)\n",
    "    fig.colorbar(img, ax=this_ax)\n",
    "    this_ax.set_title(list[j][-27:-3])\n",
    "fig.tight_layout()"
   ]
  },
  {
   "cell_type": "code",
   "execution_count": null,
   "metadata": {},
   "outputs": [],
   "source": []
  }
 ],
 "metadata": {
  "kernelspec": {
   "display_name": "cetb",
   "language": "python",
   "name": "cetb"
  },
  "language_info": {
   "codemirror_mode": {
    "name": "ipython",
    "version": 3
   },
   "file_extension": ".py",
   "mimetype": "text/x-python",
   "name": "python",
   "nbconvert_exporter": "python",
   "pygments_lexer": "ipython3",
   "version": "3.6.4"
  }
 },
 "nbformat": 4,
 "nbformat_minor": 2
}
