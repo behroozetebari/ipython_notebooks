{
 "cells": [
  {
   "cell_type": "markdown",
   "metadata": {},
   "source": [
    "# To Convert nsidc0046 snow frequency maps to climatologies\n",
    "\n",
    "Took 25 km v04 nsidc0046 frequency data and set all pixels where snow was ever observed to 1 for the climatology mask.\n",
    "\n",
    "These are EASE2_N25km data.  Resampled to 12.5, 6.25 and 3.125 arrays and saved all arrays as flat binary files. \n",
    "\n",
    "Output moved to nusnow:/share/data/pmalgos/snow_clims.\n",
    "\n",
    "November 19, 2018\n",
    "MJB\n"
   ]
  },
  {
   "cell_type": "code",
   "execution_count": null,
   "metadata": {},
   "outputs": [],
   "source": [
    "%pylab notebook\n",
    "import glob\n",
    "import matplotlib.pyplot as plt\n",
    "import numpy as np\n",
    "import os\n",
    "import re"
   ]
  },
  {
   "cell_type": "code",
   "execution_count": null,
   "metadata": {},
   "outputs": [],
   "source": [
    "%cd /Users/brodzik/nsidc0046_v04/frequency\n",
    "list = glob.glob(\"*snow.frq*bin\")\n",
    "list"
   ]
  },
  {
   "cell_type": "code",
   "execution_count": null,
   "metadata": {},
   "outputs": [],
   "source": [
    "def climfile(freqfile):\n",
    "    \n",
    "    # Parse the frequency filename to make a clim filename\n",
    "    m = re.search(r'EASE2_N25km\\.snow\\.frq\\.(\\d{2})\\.(.+)', freqfile)\n",
    "    mm = m.group(1)\n",
    "    suffix = m.group(2)\n",
    "    \n",
    "    return(\"snow_climatology.%s.%s\" % (mm, suffix))"
   ]
  },
  {
   "cell_type": "code",
   "execution_count": null,
   "metadata": {},
   "outputs": [],
   "source": [
    "climfile(list[1])"
   ]
  },
  {
   "cell_type": "code",
   "execution_count": null,
   "metadata": {
    "scrolled": false
   },
   "outputs": [],
   "source": [
    "fig, ax = plt.subplots(2,3, figsize=(12,8))\n"
   ]
  },
  {
   "cell_type": "code",
   "execution_count": null,
   "metadata": {},
   "outputs": [],
   "source": [
    "def doubledata(data):\n",
    "    \n",
    "    # repeat each column and row in each dimension\n",
    "    return (np.repeat(np.repeat(data,2,axis=0),2,axis=1))\n"
   ]
  },
  {
   "cell_type": "code",
   "execution_count": null,
   "metadata": {},
   "outputs": [],
   "source": [
    "def saveclimfile(data, filename):\n",
    "    \n",
    "    f = open(filename, \"w\")\n",
    "    data.tofile(f)\n",
    "    f.close()\n",
    "    print(\"Saved bin data to: %s\" % filename)"
   ]
  },
  {
   "cell_type": "code",
   "execution_count": null,
   "metadata": {},
   "outputs": [],
   "source": [
    "def frq2clim(filename, fig, ax):\n",
    "    \n",
    "    rows = 720\n",
    "    cols = 720\n",
    "    \n",
    "    f = open(filename, \"r\")\n",
    "    data = np.fromfile(f, dtype=np.uint8)\n",
    "    data = reshape(data, (rows, cols))\n",
    "\n",
    "    print(\"Filename = %s\" % filename)\n",
    "    print(\"Dims = %s\" % (str(data.shape)))\n",
    "    print(\"Min = %.2f, Max = %.2f\" % (np.min(data), np.max(data)))\n",
    "    \n",
    "    f.close()\n",
    "    \n",
    "    clim25 = np.zeros((rows,cols), dtype=np.uint8)\n",
    "    snowmask = data > 0\n",
    "    clim25[snowmask] = 1\n",
    "    \n",
    "    clim12 = doubledata(clim25)\n",
    "    clim6 = doubledata(clim12)\n",
    "    clim3 = doubledata(clim6)\n",
    "    \n",
    "    print(\"12.5  Dims = %s\" % (str(clim12.shape)))\n",
    "    print(\"6.25  Dims = %s\" % (str(clim6.shape)))\n",
    "    print(\"3.125 Dims = %s\" % (str(clim3.shape)))\n",
    "    \n",
    "    ax[0,0].set_title(\"Frequency\")\n",
    "    ax[0,0].imshow(data, cmap=\"Blues_r\", vmin=0., vmax=100., interpolation='nearest')\n",
    "    ax[0,0].axis('off')\n",
    "    \n",
    "    ax[0,1].set_title(\"Climatology (25km)\")\n",
    "    ax[0,1].imshow(clim25, cmap=\"Blues_r\", vmin=0., vmax=1., interpolation='nearest')\n",
    "    ax[0,1].axis('off')\n",
    "    \n",
    "    ax[0,2].set_title(\"Climatology (12.5km)\")\n",
    "    ax[0,2].imshow(clim12, cmap=\"Blues_r\", vmin=0., vmax=1., interpolation='nearest')\n",
    "    ax[0,2].axis('off')\n",
    "    \n",
    "    ax[1,1].set_title(\"Climatology (6.25km)\")\n",
    "    ax[1,1].imshow(clim6, cmap=\"Blues_r\", vmin=0., vmax=1., interpolation='nearest')\n",
    "    ax[1,1].axis('off')\n",
    "    \n",
    "    ax[1,2].set_title(\"Climatology (3.125km)\")\n",
    "    ax[1,2].imshow(clim3, cmap=\"Blues_r\", vmin=0., vmax=1., interpolation='nearest')\n",
    "    ax[1,2].axis('off')\n",
    "    \n",
    "    plt.tight_layout()\n",
    "    \n",
    "    # Save all climfiles\n",
    "    basename = climfile(filename)\n",
    "    saveclimfile(clim25, \"EASE2_25km.%s\" % basename)\n",
    "    saveclimfile(clim12, \"EASE2_12.5km.%s\" % basename)\n",
    "    saveclimfile(clim6, \"EASE2_6.25km.%s\" % basename)\n",
    "    saveclimfile(clim3, \"EASE2_3.125km.%s\" % basename)\n",
    "    \n",
    "    return data"
   ]
  },
  {
   "cell_type": "code",
   "execution_count": null,
   "metadata": {
    "scrolled": true
   },
   "outputs": [],
   "source": [
    "for f in list:\n",
    "    \n",
    "    print(\"Next file = %s\" % f)\n",
    "    fig, ax = plt.subplots(2,3, figsize=(12,8))\n",
    "    data = frq2clim(f, fig, ax)"
   ]
  },
  {
   "cell_type": "code",
   "execution_count": null,
   "metadata": {},
   "outputs": [],
   "source": [
    "data = frq2clim(list[0], fig, ax)"
   ]
  },
  {
   "cell_type": "code",
   "execution_count": null,
   "metadata": {},
   "outputs": [],
   "source": []
  }
 ],
 "metadata": {
  "kernelspec": {
   "display_name": "Python 3",
   "language": "python",
   "name": "python3"
  },
  "language_info": {
   "codemirror_mode": {
    "name": "ipython",
    "version": 3
   },
   "file_extension": ".py",
   "mimetype": "text/x-python",
   "name": "python",
   "nbconvert_exporter": "python",
   "pygments_lexer": "ipython3",
   "version": "3.6.6"
  }
 },
 "nbformat": 4,
 "nbformat_minor": 2
}
