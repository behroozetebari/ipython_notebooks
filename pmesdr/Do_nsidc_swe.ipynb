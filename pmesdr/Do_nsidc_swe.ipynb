{
 "cells": [
  {
   "cell_type": "code",
   "execution_count": 1,
   "metadata": {
    "collapsed": false
   },
   "outputs": [
    {
     "name": "stderr",
     "output_type": "stream",
     "text": [
      "/Users/brodzik/.conda/envs/cetbtools/lib/python2.7/site-packages/matplotlib/font_manager.py:273: UserWarning: Matplotlib is building the font cache using fc-list. This may take a moment.\n",
      "  warnings.warn('Matplotlib is building the font cache using fc-list. This may take a moment.')\n"
     ]
    },
    {
     "name": "stdout",
     "output_type": "stream",
     "text": [
      "Populating the interactive namespace from numpy and matplotlib\n"
     ]
    },
    {
     "name": "stderr",
     "output_type": "stream",
     "text": [
      "/Users/brodzik/.conda/envs/cetbtools/lib/python2.7/site-packages/matplotlib/__init__.py:1357: UserWarning:  This call to matplotlib.use() has no effect\n",
      "because the backend has already been chosen;\n",
      "matplotlib.use() must be called *before* pylab, matplotlib.pyplot,\n",
      "or matplotlib.backends is imported for the first time.\n",
      "\n",
      "  warnings.warn(_use_error_msg)\n"
     ]
    }
   ],
   "source": [
    "%pylab notebook\n",
    "#import cetbtools.inspector as ci\n",
    "import glob\n",
    "from cetbtools.inspector import make_cetb_geotiff\n",
    "from netCDF4 import Dataset\n",
    "import numpy as np\n",
    "import os\n",
    "import re"
   ]
  },
  {
   "cell_type": "code",
   "execution_count": 6,
   "metadata": {
    "collapsed": false
   },
   "outputs": [
    {
     "name": "stdout",
     "output_type": "stream",
     "text": [
      "/Users/brodzik/cetb_swe\n"
     ]
    }
   ],
   "source": [
    "%cd /Users/brodzik/cetb_swe"
   ]
  },
  {
   "cell_type": "code",
   "execution_count": 7,
   "metadata": {
    "collapsed": false
   },
   "outputs": [
    {
     "data": {
      "text/plain": [
       "['NSIDC-0630-EASE2_N25km-AQUA_AMSRE-2003051-36H-E-GRD-RSS-v1.2.nc',\n",
       " 'NSIDC-0630-EASE2_N3.125km-AQUA_AMSRE-2003051-36H-E-SIR-RSS-v1.2.nc']"
      ]
     },
     "execution_count": 7,
     "metadata": {},
     "output_type": "execute_result"
    }
   ],
   "source": [
    "list = glob.glob(\"*EASE2_N*36H*nc\")\n",
    "list"
   ]
  },
  {
   "cell_type": "code",
   "execution_count": 8,
   "metadata": {
    "collapsed": false
   },
   "outputs": [
    {
     "name": "stderr",
     "output_type": "stream",
     "text": [
      "\n",
      "cetbtools.inspector:make_cetb_geotiff : TB geotiff image saved to: NSIDC-0630-EASE2_N25km-AQUA_AMSRE-2003051-36H-E-GRD-RSS-v1.2.nc.GRD_TB.tif\n",
      "\n",
      "cetbtools.inspector:make_cetb_geotiff : TB geotiff image saved to: NSIDC-0630-EASE2_N3.125km-AQUA_AMSRE-2003051-36H-E-SIR-RSS-v1.2.nc.SIR_TB.tif\n"
     ]
    }
   ],
   "source": [
    "for f in list:\n",
    "    make_cetb_geotiff(f, verbose=True)"
   ]
  },
  {
   "cell_type": "code",
   "execution_count": null,
   "metadata": {
    "collapsed": false
   },
   "outputs": [],
   "source": [
    "import rasterio\n",
    "with rasterio.open(list[0]) as src:\n",
    "    data = np.squeeze(src.read())\n",
    "print(np.amin(data), np.amax(data))"
   ]
  },
  {
   "cell_type": "code",
   "execution_count": null,
   "metadata": {
    "collapsed": false
   },
   "outputs": [],
   "source": [
    "%cd /Users/brodzik/ecs/DP1/MEASURES/NSIDC-0630.001/2003.02.20\n",
    "%ls *EASE2_N6.25*AMSRE*18H-E*.nc"
   ]
  },
  {
   "cell_type": "code",
   "execution_count": null,
   "metadata": {
    "collapsed": true
   },
   "outputs": [],
   "source": [
    "#t36h_file = glob.glob(\"*N25*AMSRE*36H-E-*nc\")\n",
    "t36h_file = glob.glob(\"*N3.125*AMSRE*36H-E-*nc\")"
   ]
  },
  {
   "cell_type": "code",
   "execution_count": null,
   "metadata": {
    "collapsed": false
   },
   "outputs": [],
   "source": [
    "print(t36h_file[0])\n",
    "#print(t36h_file[0])"
   ]
  },
  {
   "cell_type": "code",
   "execution_count": null,
   "metadata": {
    "collapsed": true
   },
   "outputs": [],
   "source": [
    "def rebin(a, shape):\n",
    "    sh = shape[0],a.shape[0]//shape[0],shape[1],a.shape[1]//shape[1]\n",
    "    return a.reshape(sh).mean(-1).mean(1)"
   ]
  },
  {
   "cell_type": "code",
   "execution_count": null,
   "metadata": {
    "collapsed": true
   },
   "outputs": [],
   "source": [
    "def nsidc1_swe(t36h_file, outDir='/Users/brodzik/cetb_swe/', show=False, bilinear=True):\n",
    "    \n",
    "    # Make the corresponding 36h file:\n",
    "    pattern = re.sub(r'36H', r'18H', t36h_file)\n",
    "    pattern = re.sub(r'EASE2_N[0-9\\.]+km', r'EASE2_N*km', pattern)\n",
    "    list = glob.glob(pattern)\n",
    "    t18h_file = list[0]\n",
    "    outFile = \"%s/%s\" % (outDir, re.sub(r'36H', r'SWE', t36h_file))\n",
    "    print('low:  %s' % t18h_file)\n",
    "    print('high: %s' % t36h_file)\n",
    "    print('swe:  %s' % outFile)\n",
    "    \n",
    "    # Open the files\n",
    "    f_18h = Dataset(t18h_file, 'r', 'NETCDF4')\n",
    "    f_36h = Dataset(t36h_file, 'r', 'NETCDF4')\n",
    "    \n",
    "    # Read the TB arrays\n",
    "    t18h = f_18h.variables['TB'][:]\n",
    "    t36h = f_36h.variables['TB'][:]\n",
    "    \n",
    "    # If array sizes don't match, upscale the 18h data\n",
    "    # or read the bilinear 18h data\n",
    "    if np.shape(t18h) != np.shape(t36h):\n",
    "        if bilinear:\n",
    "            biFile = \"%s/%s.SIR_TB.bilinear.tif\" % (outDir, t18h_file)\n",
    "            print(\"using bilinear file=%s\" % biFile)\n",
    "            with rasterio.open(biFile) as src:\n",
    "                t18h = src.read()\n",
    "        else:\n",
    "            print(\"Resizing 18H data...\")\n",
    "            t18h = np.repeat(np.repeat(t18h,2,axis=1),2,axis=2)\n",
    "            \n",
    "        print(\"New shapes:\")\n",
    "        print(\"18h:\")\n",
    "        print(np.shape(t18h))\n",
    "        print(\"36h:\")\n",
    "        print(np.shape(t36h))\n",
    "    \n",
    "    # Calculate SWE using NSIDC1\n",
    "    swe = 3. * 1.59 * ((t18h - 6.) - (t36h - 1.))\n",
    "    swe[swe < 7.5] = 0.\n",
    "    \n",
    "    # Start a swe output file, using dimensions/coordinates and crs variable from the 18h file\n",
    "    dst = Dataset(outFile, \"w\", \"NETCDF4\")\n",
    "\n",
    "    # Copy file attributes\n",
    "    for name in f_36h.ncattrs():\n",
    "        dst.setncattr(name, f_36h.getncattr(name))\n",
    "    \n",
    "    # Copy dimensions\n",
    "    for name, dimension in f_36h.dimensions.iteritems():\n",
    "        dst.createDimension(\n",
    "            name, (len(dimension) if not dimension.isunlimited else None))\n",
    "        \n",
    "    # Copy the coordinate variables and crs variable\n",
    "    for name, variable in f_36h.variables.iteritems():\n",
    "        if name in [\"TB\"]:\n",
    "            TB_dims = variable.dimensions\n",
    "        if name in [\"time\", \"y\", \"x\", \"crs\"]:\n",
    "            print(\"Copying %s...\" % name)\n",
    "            outVar = dst.createVariable(name, variable.datatype, variable.dimensions)\n",
    "\n",
    "            # Copy variable attributes\n",
    "            outVar.setncatts({k: variable.getncattr(k) for k in variable.ncattrs()})\n",
    "        \n",
    "            # Copy the data (crs has no data, only attributes)\n",
    "            if \"crs\" != name:\n",
    "                outVar[:] = f_36h.variables[name][:]\n",
    " \n",
    "    sweVar = dst.createVariable(\"SWE\", swe.dtype, TB_dims)\n",
    "    sweVar.grid_mapping = \"crs\"\n",
    "    sweVar.long_name = \"SWE\"\n",
    "    sweVar.units = \"mm\"\n",
    "    sweVar.coverage_content_type = \"image\"\n",
    "    sweVar.valid_range = [0., 600.]\n",
    "    sweVar[:] = swe\n",
    "\n",
    "    dst.close()\n",
    "    f_18h.close()\n",
    "    f_36h.close()\n",
    "    \n",
    "    print(\"Wrote SWE to %s\" % outFile)\n",
    "    \n",
    "    if show:\n",
    "        fig, ax = plt.subplots(1)\n",
    "        ax.set_title(\"SWE\")\n",
    "        ax.imshow(np.squeeze(swe), cmap=\"Blues_r\", vmin=0., vmax=300., interpolation='nearest')\n",
    "        ax.axis('off')\n",
    "        plt.tight_layout()"
   ]
  },
  {
   "cell_type": "code",
   "execution_count": null,
   "metadata": {
    "collapsed": false
   },
   "outputs": [],
   "source": [
    "nsidc1_swe(t36h_file[0], show=True, bilinear=True)"
   ]
  },
  {
   "cell_type": "code",
   "execution_count": null,
   "metadata": {
    "collapsed": true
   },
   "outputs": [],
   "source": [
    "def nsidc1_swe_at_6(t36h_file, outDir='/Users/brodzik/cetb_swe/', show=False):\n",
    "    \n",
    "    # Make the corresponding 36h file:\n",
    "    pattern = re.sub(r'36H', r'18H', t36h_file)\n",
    "    pattern = re.sub(r'EASE2_N[0-9\\.]+km', r'EASE2_N*km', pattern)\n",
    "    list = glob.glob(pattern)\n",
    "    t18h_file = list[0]\n",
    "    outFile = \"%s/%s\" % (outDir, re.sub(r'18H', r'SWE', t18h_file))\n",
    "    print('low:  %s' % t18h_file)\n",
    "    print('high: %s' % t36h_file)\n",
    "    print('swe:  %s' % outFile)\n",
    "    \n",
    "    # Open the files\n",
    "    f_18h = Dataset(t18h_file, 'r', 'NETCDF4')\n",
    "    f_36h = Dataset(t36h_file, 'r', 'NETCDF4')\n",
    "    \n",
    "    # Read the TB arrays\n",
    "    t18h = f_18h.variables['TB'][:]\n",
    "    t36h = f_36h.variables['TB'][:]\n",
    "    \n",
    "    # If array sizes don't match, scale the 3km 36 data to 6.25 km by averaging\n",
    "    # every 4 cells:\n",
    "    if np.shape(t18h) != np.shape(t36h):\n",
    "        print(\"Resizing 36H data...\")\n",
    "        print(t36h.dtype)\n",
    "        t36h = np.squeeze(t36h)\n",
    "        t36h = rebin(t36h, np.shape(t18h)[1:])\n",
    "        t36h = float32(np.reshape(t36h, np.shape(t18h)))\n",
    "        print(t36h.dtype)\n",
    "        print(\"New shapes:\")\n",
    "        print(\"18h:\")\n",
    "        print(np.shape(t18h))\n",
    "        print(\"36h:\")\n",
    "        print(np.shape(t36h))\n",
    "    \n",
    "    # Calculate SWE using NSIDC1\n",
    "    swe = 3. * 1.59 * ((t18h - 6.) - (t36h - 1.))\n",
    "    swe[swe < 7.5] = 0.\n",
    "    \n",
    "    # Start a swe output file, using dimensions/coordinates and crs variable from the 18h file\n",
    "    dst = Dataset(outFile, \"w\", \"NETCDF4\")\n",
    "\n",
    "    # Copy file attributes\n",
    "    for name in f_18h.ncattrs():\n",
    "        dst.setncattr(name, f_18h.getncattr(name))\n",
    "    \n",
    "    # Copy dimensions\n",
    "    for name, dimension in f_18h.dimensions.iteritems():\n",
    "        dst.createDimension(\n",
    "            name, (len(dimension) if not dimension.isunlimited else None))\n",
    "        \n",
    "    # Copy the coordinate variables and crs variable\n",
    "    for name, variable in f_18h.variables.iteritems():\n",
    "        if name in [\"TB\"]:\n",
    "            TB_dims = variable.dimensions\n",
    "        if name in [\"time\", \"y\", \"x\", \"crs\"]:\n",
    "            print(\"Copying %s...\" % name)\n",
    "            outVar = dst.createVariable(name, variable.datatype, variable.dimensions)\n",
    "\n",
    "            # Copy variable attributes\n",
    "            outVar.setncatts({k: variable.getncattr(k) for k in variable.ncattrs()})\n",
    "        \n",
    "            # Copy the data (crs has no data, only attributes)\n",
    "            if \"crs\" != name:\n",
    "                outVar[:] = f_18h.variables[name][:]\n",
    " \n",
    "    sweVar = dst.createVariable(\"SWE\", swe.dtype, TB_dims)\n",
    "    sweVar.grid_mapping = \"crs\"\n",
    "    sweVar.long_name = \"SWE\"\n",
    "    sweVar.units = \"mm\"\n",
    "    sweVar.coverage_content_type = \"image\"\n",
    "    sweVar.valid_range = [0., 600.]\n",
    "    sweVar[:] = swe\n",
    "\n",
    "    dst.close()\n",
    "    f_18h.close()\n",
    "    f_36h.close()\n",
    "    \n",
    "    print(\"Wrote SWE to %s\" % outFile)\n",
    "    \n",
    "    if show:\n",
    "        fig, ax = plt.subplots(1)\n",
    "        ax.set_title(\"SWE\")\n",
    "        ax.imshow(np.squeeze(swe), cmap=\"Blues_r\", vmin=0., vmax=300., interpolation='nearest')\n",
    "        ax.axis('off')\n",
    "        plt.tight_layout()"
   ]
  },
  {
   "cell_type": "code",
   "execution_count": null,
   "metadata": {
    "collapsed": false,
    "scrolled": true
   },
   "outputs": [],
   "source": [
    "nsidc1_swe_at_6(t36h_file[0], show=True)"
   ]
  },
  {
   "cell_type": "code",
   "execution_count": null,
   "metadata": {
    "collapsed": false
   },
   "outputs": [],
   "source": [
    "dst.close()\n"
   ]
  },
  {
   "cell_type": "code",
   "execution_count": null,
   "metadata": {
    "collapsed": false
   },
   "outputs": [],
   "source": [
    "f_18h = Dataset(t18h_file[0], 'r', 'NETCDF4')\n",
    "f_36h = Dataset(t36h_file[0], 'r', 'NETCDF4')"
   ]
  },
  {
   "cell_type": "code",
   "execution_count": null,
   "metadata": {
    "collapsed": true
   },
   "outputs": [],
   "source": [
    "#t18h = np.squeeze(f_18h.variables['TB'][:])\n",
    "#t36h = np.squeeze(f_36h.variables['TB'][:])\n",
    "t18h = f_18h.variables['TB'][:]\n",
    "t36h = f_36h.variables['TB'][:]"
   ]
  },
  {
   "cell_type": "code",
   "execution_count": null,
   "metadata": {
    "collapsed": false
   },
   "outputs": [],
   "source": [
    "print(np.amin(t18h), np.amax(t18h))\n",
    "print(np.amin(t36h), np.amax(t36h))"
   ]
  },
  {
   "cell_type": "code",
   "execution_count": null,
   "metadata": {
    "collapsed": false
   },
   "outputs": [],
   "source": [
    "print(np.shape(t18h), np.shape(t36h))"
   ]
  },
  {
   "cell_type": "code",
   "execution_count": null,
   "metadata": {
    "collapsed": true
   },
   "outputs": [],
   "source": [
    "swe = 3. * 1.59 * ((t18h - 6.) - (t36h - 1.))\n",
    "swe[swe < 7.5] = 0."
   ]
  },
  {
   "cell_type": "code",
   "execution_count": null,
   "metadata": {
    "collapsed": false
   },
   "outputs": [],
   "source": [
    "print(np.shape(swe), np.amin(swe), np.amax(swe))"
   ]
  },
  {
   "cell_type": "code",
   "execution_count": null,
   "metadata": {
    "collapsed": false
   },
   "outputs": [],
   "source": [
    "fig, ax = plt.subplots(1)\n",
    "ax.set_title(\"SWE\")\n",
    "ax.imshow(np.squeeze(swe), cmap=\"Blues_r\", vmin=0., vmax=300., interpolation='nearest')\n",
    "ax.axis('off')\n",
    "plt.tight_layout()"
   ]
  },
  {
   "cell_type": "code",
   "execution_count": null,
   "metadata": {
    "collapsed": false
   },
   "outputs": [],
   "source": [
    "# Start a swe file, using dimensions/coordinates and crs variable from the 18h file\n",
    "testOutfile = \"/Users/brodzik/cetb_swe/test.nc\"\n",
    "dst = Dataset(testOutfile, \"w\", \"NETCDF4\")\n",
    "# Copy file attributes\n",
    "for name in f_18h.ncattrs():\n",
    "    dst.setncattr(name, f_18h.getncattr(name))\n",
    "# Copy dimensions\n",
    "for name, dimension in f_18h.dimensions.iteritems():\n",
    "    dst.createDimension(\n",
    "        name, (len(dimension) if not dimension.isunlimited else None))\n",
    "# Copy the coordinate variables and crs variable\n",
    "for name, variable in f_18h.variables.iteritems():\n",
    "    if name in [\"time\", \"y\", \"x\", \"crs\", \"TB\"]:\n",
    "        print(\"Copying %s...\" % name)\n",
    "        if name == \"TB\":\n",
    "            TB_dims = variable.dimensions\n",
    "\n",
    "        outName = \"%s_18h\" % name if name == \"TB\" else name\n",
    "        outVar = dst.createVariable(outName, variable.datatype, variable.dimensions)\n",
    "\n",
    "        # Copy variable attributes\n",
    "        outVar.setncatts({k: variable.getncattr(k) for k in variable.ncattrs()})\n",
    "        \n",
    "        # Copy the data (crs has no data, only attributes)\n",
    "        if \"crs\" != name:\n",
    "            outVar[:] = f_18h.variables[name][:]\n",
    " \n",
    "sweVar = dst.createVariable(\"SWE\", swe.dtype, TB_dims)\n",
    "sweVar.grid_mapping = \"crs\"\n",
    "sweVar.long_name = \"SWE\"\n",
    "sweVar.units = \"mm\"\n",
    "sweVar.coverage_content_type = \"image\"\n",
    "sweVar.valid_range = [0., 600.]\n",
    "sweVar[:] = swe\n",
    "\n",
    "dst.close()"
   ]
  },
  {
   "cell_type": "code",
   "execution_count": null,
   "metadata": {
    "collapsed": false
   },
   "outputs": [],
   "source": [
    "dst.close()\n",
    "#print(name)\n",
    "#help(variable)\n",
    "\n"
   ]
  },
  {
   "cell_type": "code",
   "execution_count": null,
   "metadata": {
    "collapsed": false
   },
   "outputs": [],
   "source": [
    "f_new = Dataset(testOutfile, 'r', 'NETCDF4')\n",
    "#swe_copy = f_new.variables['SWE'][:]\n",
    "#f_new.close()"
   ]
  },
  {
   "cell_type": "code",
   "execution_count": null,
   "metadata": {
    "collapsed": false
   },
   "outputs": [],
   "source": [
    "f_new"
   ]
  },
  {
   "cell_type": "code",
   "execution_count": null,
   "metadata": {
    "collapsed": false,
    "scrolled": false
   },
   "outputs": [],
   "source": [
    "print(np.shape(swe_copy), np.amin(swe_copy), np.amax(swe_copy))"
   ]
  },
  {
   "cell_type": "code",
   "execution_count": null,
   "metadata": {
    "collapsed": false
   },
   "outputs": [],
   "source": [
    "fig, ax = plt.subplots(1)\n",
    "ax.set_title(\"New SWE\")\n",
    "ax.imshow(np.squeeze(swe_copy), cmap=\"Blues_r\", vmin=0., vmax=300., interpolation='nearest')\n",
    "ax.axis('off')\n",
    "plt.tight_layout()"
   ]
  },
  {
   "cell_type": "code",
   "execution_count": null,
   "metadata": {
    "collapsed": false
   },
   "outputs": [],
   "source": [
    "from cetbtools.inspector import make_cetb_geotiff"
   ]
  },
  {
   "cell_type": "code",
   "execution_count": null,
   "metadata": {
    "collapsed": false
   },
   "outputs": [],
   "source": [
    "list = glob.glob(\"/Users/brodzik/cetb_swe/*2003085*SWE*.nc\")\n",
    "list"
   ]
  },
  {
   "cell_type": "code",
   "execution_count": null,
   "metadata": {
    "collapsed": false
   },
   "outputs": [],
   "source": [
    "for f in list:\n",
    "    make_cetb_geotiff(f, var_name=\"SWE\", verbose=True)"
   ]
  },
  {
   "cell_type": "code",
   "execution_count": null,
   "metadata": {
    "collapsed": false,
    "scrolled": false
   },
   "outputs": [],
   "source": [
    "avg_tb = get_avg_tb(filenames)\n",
    "avg_tb.shape, np.amin(avg_tb), np.amax(avg_tb)"
   ]
  },
  {
   "cell_type": "code",
   "execution_count": null,
   "metadata": {
    "collapsed": false,
    "scrolled": true
   },
   "outputs": [],
   "source": [
    "fig, ax = plt.subplots(1, figsize=(xdim, ydim))\n",
    "ax.set_title(\"viridis\")\n",
    "ax.imshow(avg_tb, cmap=\"viridis\", vmin=140., vmax=320, interpolation='nearest')\n",
    "ax.axis('off')\n",
    "plt.tight_layout()\n"
   ]
  },
  {
   "cell_type": "code",
   "execution_count": null,
   "metadata": {
    "collapsed": false
   },
   "outputs": [],
   "source": [
    "test = np.reshape(np.arange(16),[4,4])\n",
    "print(test)"
   ]
  },
  {
   "cell_type": "code",
   "execution_count": null,
   "metadata": {
    "collapsed": false
   },
   "outputs": [],
   "source": [
    "new = np.repeat(np.repeat(test,2,axis=0),2,axis=1)\n",
    "new"
   ]
  },
  {
   "cell_type": "code",
   "execution_count": null,
   "metadata": {
    "collapsed": false
   },
   "outputs": [],
   "source": [
    "def rebin(a, shape):\n",
    "    sh = shape[0],a.shape[0]//shape[0],shape[1],a.shape[1]//shape[1]\n",
    "    return a.reshape(sh).mean(-1).mean(1)\n"
   ]
  },
  {
   "cell_type": "code",
   "execution_count": null,
   "metadata": {
    "collapsed": false
   },
   "outputs": [],
   "source": [
    "rebin(test,(2,2))"
   ]
  },
  {
   "cell_type": "code",
   "execution_count": null,
   "metadata": {
    "collapsed": false
   },
   "outputs": [],
   "source": [
    "np.shape(test)"
   ]
  },
  {
   "cell_type": "code",
   "execution_count": null,
   "metadata": {
    "collapsed": false
   },
   "outputs": [],
   "source": [
    "new = np.reshape(test, (1,4,4))"
   ]
  },
  {
   "cell_type": "code",
   "execution_count": null,
   "metadata": {
    "collapsed": false
   },
   "outputs": [],
   "source": [
    "np.shape(new)[1:]"
   ]
  },
  {
   "cell_type": "code",
   "execution_count": null,
   "metadata": {
    "collapsed": false
   },
   "outputs": [],
   "source": [
    "float32(new)"
   ]
  },
  {
   "cell_type": "code",
   "execution_count": null,
   "metadata": {
    "collapsed": false
   },
   "outputs": [],
   "source": [
    "tb[2880,:].data"
   ]
  },
  {
   "cell_type": "code",
   "execution_count": null,
   "metadata": {
    "collapsed": false
   },
   "outputs": [],
   "source": [
    "new"
   ]
  },
  {
   "cell_type": "code",
   "execution_count": null,
   "metadata": {
    "collapsed": false
   },
   "outputs": [],
   "source": [
    "my_copy"
   ]
  },
  {
   "cell_type": "code",
   "execution_count": null,
   "metadata": {
    "collapsed": true
   },
   "outputs": [],
   "source": [
    "other_copy = new.copy()"
   ]
  },
  {
   "cell_type": "code",
   "execution_count": null,
   "metadata": {
    "collapsed": false
   },
   "outputs": [],
   "source": [
    "new"
   ]
  },
  {
   "cell_type": "code",
   "execution_count": null,
   "metadata": {
    "collapsed": false
   },
   "outputs": [],
   "source": [
    "other_copy"
   ]
  },
  {
   "cell_type": "code",
   "execution_count": null,
   "metadata": {
    "collapsed": true
   },
   "outputs": [],
   "source": [
    "other_copy[1,1] = 6."
   ]
  },
  {
   "cell_type": "code",
   "execution_count": null,
   "metadata": {
    "collapsed": false
   },
   "outputs": [],
   "source": [
    "new"
   ]
  },
  {
   "cell_type": "code",
   "execution_count": null,
   "metadata": {
    "collapsed": false
   },
   "outputs": [],
   "source": [
    "other_copy"
   ]
  },
  {
   "cell_type": "code",
   "execution_count": null,
   "metadata": {
    "collapsed": false
   },
   "outputs": [],
   "source": [
    "other_copy = other_copy + new\n",
    "other_copy"
   ]
  },
  {
   "cell_type": "code",
   "execution_count": null,
   "metadata": {
    "collapsed": false
   },
   "outputs": [],
   "source": [
    "arr"
   ]
  },
  {
   "cell_type": "code",
   "execution_count": null,
   "metadata": {
    "collapsed": false
   },
   "outputs": [],
   "source": [
    "arr[arr < 1.] = 1.\n",
    "arr"
   ]
  },
  {
   "cell_type": "code",
   "execution_count": null,
   "metadata": {
    "collapsed": false
   },
   "outputs": [],
   "source": [
    "other_copy"
   ]
  },
  {
   "cell_type": "code",
   "execution_count": null,
   "metadata": {
    "collapsed": false
   },
   "outputs": [],
   "source": [
    "other_copy / arr"
   ]
  },
  {
   "cell_type": "code",
   "execution_count": null,
   "metadata": {
    "collapsed": true
   },
   "outputs": [],
   "source": []
  }
 ],
 "metadata": {
  "kernelspec": {
   "display_name": "Python 2",
   "language": "python",
   "name": "python2"
  },
  "language_info": {
   "codemirror_mode": {
    "name": "ipython",
    "version": 2
   },
   "file_extension": ".py",
   "mimetype": "text/x-python",
   "name": "python",
   "nbconvert_exporter": "python",
   "pygments_lexer": "ipython2",
   "version": "2.7.12"
  }
 },
 "nbformat": 4,
 "nbformat_minor": 0
}
