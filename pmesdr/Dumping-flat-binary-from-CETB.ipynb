{
 "cells": [
  {
   "cell_type": "code",
   "execution_count": 1,
   "metadata": {
    "collapsed": false
   },
   "outputs": [
    {
     "name": "stdout",
     "output_type": "stream",
     "text": [
      "Populating the interactive namespace from numpy and matplotlib\n"
     ]
    },
    {
     "name": "stderr",
     "output_type": "stream",
     "text": [
      "/Users/brodzik/miniconda/envs/charistools/lib/python2.7/site-packages/matplotlib/font_manager.py:273: UserWarning: Matplotlib is building the font cache using fc-list. This may take a moment.\n",
      "  warnings.warn('Matplotlib is building the font cache using fc-list. This may take a moment.')\n"
     ]
    }
   ],
   "source": [
    "%pylab inline\n",
    "import matplotlib.pyplot as plt\n",
    "from netCDF4 import Dataset, num2date\n",
    "import numpy as np\n",
    "import os\n",
    "from pylab import rcParams\n",
    "rcParams['figure.figsize'] = 12, 10"
   ]
  },
  {
   "cell_type": "code",
   "execution_count": 2,
   "metadata": {
    "collapsed": false
   },
   "outputs": [
    {
     "name": "stdout",
     "output_type": "stream",
     "text": [
      "/Users/brodzik/projects/PMESDR/mahworking\n"
     ]
    }
   ],
   "source": [
    "%cd ~/projects/PMESDR/mahworking/"
   ]
  },
  {
   "cell_type": "code",
   "execution_count": 3,
   "metadata": {
    "collapsed": false
   },
   "outputs": [
    {
     "name": "stdout",
     "output_type": "stream",
     "text": [
      "\u001b[34mAMSRE\u001b[m\u001b[m/\r\n",
      "\u001b[34mBYU-DLong\u001b[m\u001b[m/\r\n",
      "CETB37V.2004.25km.d001-d182.nh.nc\r\n",
      "CETB37V.2004.3km.d001-d182.nh.nc\r\n",
      "CSU.tar\r\n",
      "CSU_regress_list\r\n",
      "CSU_regress_list_JANUS\r\n",
      "CSU_regress_list_NSIDC\r\n",
      "CSU_regress_list_full\r\n",
      "EASE2_N25km.lats.720x720x1.double\r\n",
      "EASE2_N25km.lons.720x720x1.double\r\n",
      "EASE2_S6.25km.lats.2880x2880x1.double\r\n",
      "EASE2_S6.25km.lons.2880x2880x1.double\r\n",
      "EASE2_T12.5km.lats.2776x1080x1.double\r\n",
      "EASE2_T12.5km.lons.2776x1080x1.double\r\n",
      "EASE2_T25km.lats.1388x540x1.double\r\n",
      "EASE2_T25km.lons.1388x540x1.double\r\n",
      "EASE2_T3.125km.AQUA_AMSRE.2004031.36H.A.SIR.RSS.v0.1.nc\r\n",
      "EASE2_T3.125km.AQUA_AMSRE.2004031.36H.D.SIR.RSS.v0.1.nc\r\n",
      "EASE2_T3.125km.lats.11104x4320x1.double\r\n",
      "EASE2_T3.125km.lons.11104x4320x1.double\r\n",
      "EASE2_T6.25km.F13_SSMI.2004031.19H.A.BGI.CSU.v0.1.nc\r\n",
      "EASE2_T6.25km.lats.5552x2160x1.double\r\n",
      "EASE2_T6.25km.lons.5552x2160x1.double\r\n",
      "IMG_1252.m4v\r\n",
      "\u001b[34mNSIDCtest\u001b[m\u001b[m/\r\n",
      "RSS.tar\r\n",
      "RSS_regress_list\r\n",
      "RSS_regress_list_JANUS\r\n",
      "RSS_regress_list_NSIDC\r\n",
      "RSS_regress_list_full\r\n",
      "box_size_bgi.xlsm\r\n",
      "\u001b[34mcetb_data\u001b[m\u001b[m/\r\n",
      "create_file_lists.py\r\n",
      "crop.37v.25km.nh.txt\r\n",
      "crop.37v.3km.nh.txt\r\n",
      "crop2_filelist37v25km2004\r\n",
      "crop2_filelist37v3km2004\r\n",
      "\u001b[34mcsu6km\u001b[m\u001b[m/\r\n",
      "fillist.002\r\n",
      "ltod calculations.xlsx\r\n",
      "meas_meta_bgi.c\r\n",
      "meas_meta_bgi_dgl.c\r\n",
      "netcdf-c-4.3.2.tar.gz\r\n",
      "subs.tar\r\n",
      "~$ltod calculations.xlsx\r\n"
     ]
    }
   ],
   "source": [
    "%ls"
   ]
  },
  {
   "cell_type": "code",
   "execution_count": 4,
   "metadata": {
    "collapsed": false,
    "scrolled": false
   },
   "outputs": [
    {
     "data": {
      "text/plain": [
       "<type 'netCDF4._netCDF4.Dataset'>\n",
       "root group (NETCDF4 data model, file format HDF5):\n",
       "    Conventions: CF-1.6\n",
       "    title: MEaSUREs Calibrated Passive Microwave Daily EASE-Grid 2.0 Brightness Temperature ESDR\n",
       "    product_version: v0.01\n",
       "    software_version_id: 0.0.3\n",
       "    software_repository: git@bitbucket.org:nsidc/measures-byu.git\n",
       "    source: TBD(list of swath files used)\n",
       "    source_version_id: TBD(list of GSX versions, 1 per source file)\n",
       "    history: Wed May 18 12:09:31 2016: ncrcat -O d001.37V.3a.nh.new.nc d001.37V.3p.nh.new.nc d002.37V.3a.nh.new.nc d002.37V.3p.nh.new.nc d003.37V.3a.nh.new.nc d003.37V.3p.nh.new.nc d004.37V.3a.nh.new.nc d004.37V.3p.nh.new.nc d005.37V.3a.nh.new.nc d005.37V.3p.nh.new.nc d006.37V.3a.nh.new.nc d006.37V.3p.nh.new.nc d007.37V.3a.nh.new.nc d007.37V.3p.nh.new.nc d008.37V.3a.nh.new.nc d008.37V.3p.nh.new.nc d009.37V.3a.nh.new.nc d009.37V.3p.nh.new.nc d010.37V.3a.nh.new.nc d010.37V.3p.nh.new.nc d011.37V.3a.nh.new.nc d011.37V.3p.nh.new.nc d012.37V.3a.nh.new.nc d012.37V.3p.nh.new.nc d013.37V.3a.nh.new.nc d013.37V.3p.nh.new.nc d014.37V.3a.nh.new.nc d014.37V.3p.nh.new.nc d015.37V.3a.nh.new.nc d015.37V.3p.nh.new.nc d016.37V.3a.nh.new.nc d016.37V.3p.nh.new.nc d017.37V.3a.nh.new.nc d017.37V.3p.nh.new.nc d018.37V.3a.nh.new.nc d018.37V.3p.nh.new.nc d019.37V.3a.nh.new.nc d019.37V.3p.nh.new.nc d020.37V.3a.nh.new.nc d020.37V.3p.nh.new.nc d021.37V.3a.nh.new.nc d021.37V.3p.nh.new.nc d022.37V.3a.nh.new.nc d022.37V.3p.nh.new.nc d023.37V.3a.nh.new.nc d023.37V.3p.nh.new.nc d024.37V.3a.nh.new.nc d024.37V.3p.nh.new.nc d025.37V.3a.nh.new.nc d025.37V.3p.nh.new.nc d026.37V.3a.nh.new.nc d026.37V.3p.nh.new.nc d027.37V.3a.nh.new.nc d027.37V.3p.nh.new.nc d028.37V.3a.nh.new.nc d028.37V.3p.nh.new.nc d029.37V.3a.nh.new.nc d029.37V.3p.nh.new.nc d030.37V.3a.nh.new.nc d030.37V.3p.nh.new.nc d031.37V.3a.nh.new.nc d031.37V.3p.nh.new.nc d032.37V.3a.nh.new.nc d032.37V.3p.nh.new.nc d033.37V.3a.nh.new.nc d033.37V.3p.nh.new.nc d034.37V.3a.nh.new.nc d034.37V.3p.nh.new.nc d035.37V.3a.nh.new.nc d035.37V.3p.nh.new.nc d036.37V.3a.nh.new.nc d036.37V.3p.nh.new.nc d037.37V.3a.nh.new.nc d037.37V.3p.nh.new.nc d038.37V.3a.nh.new.nc d038.37V.3p.nh.new.nc d039.37V.3a.nh.new.nc d039.37V.3p.nh.new.nc d040.37V.3a.nh.new.nc d040.37V.3p.nh.new.nc d041.37V.3a.nh.new.nc d041.37V.3p.nh.new.nc d042.37V.3a.nh.new.nc d042.37V.3p.nh.new.nc d043.37V.3a.nh.new.nc d043.37V.3p.nh.new.nc d044.37V.3a.nh.new.nc d044.37V.3p.nh.new.nc d045.37V.3a.nh.new.nc d045.37V.3p.nh.new.nc d046.37V.3a.nh.new.nc d046.37V.3p.nh.new.nc d047.37V.3a.nh.new.nc d047.37V.3p.nh.new.nc d048.37V.3a.nh.new.nc d048.37V.3p.nh.new.nc d049.37V.3a.nh.new.nc d049.37V.3p.nh.new.nc d050.37V.3a.nh.new.nc d050.37V.3p.nh.new.nc d051.37V.3a.nh.new.nc d051.37V.3p.nh.new.nc d052.37V.3a.nh.new.nc d052.37V.3p.nh.new.nc d053.37V.3a.nh.new.nc d053.37V.3p.nh.new.nc d054.37V.3a.nh.new.nc d054.37V.3p.nh.new.nc d055.37V.3a.nh.new.nc d055.37V.3p.nh.new.nc d056.37V.3a.nh.new.nc d056.37V.3p.nh.new.nc d057.37V.3a.nh.new.nc d057.37V.3p.nh.new.nc d058.37V.3a.nh.new.nc d058.37V.3p.nh.new.nc d059.37V.3a.nh.new.nc d059.37V.3p.nh.new.nc d060.37V.3a.nh.new.nc d060.37V.3p.nh.new.nc d061.37V.3a.nh.new.nc d061.37V.3p.nh.new.nc d062.37V.3a.nh.new.nc d062.37V.3p.nh.new.nc d063.37V.3a.nh.new.nc d063.37V.3p.nh.new.nc d064.37V.3a.nh.new.nc d064.37V.3p.nh.new.nc d065.37V.3a.nh.new.nc d065.37V.3p.nh.new.nc d066.37V.3a.nh.new.nc d066.37V.3p.nh.new.nc d067.37V.3a.nh.new.nc d067.37V.3p.nh.new.nc d068.37V.3a.nh.new.nc d068.37V.3p.nh.new.nc d069.37V.3a.nh.new.nc d069.37V.3p.nh.new.nc d070.37V.3a.nh.new.nc d070.37V.3p.nh.new.nc d071.37V.3a.nh.new.nc d071.37V.3p.nh.new.nc d072.37V.3a.nh.new.nc d072.37V.3p.nh.new.nc d073.37V.3a.nh.new.nc d073.37V.3p.nh.new.nc d074.37V.3a.nh.new.nc d074.37V.3p.nh.new.nc d075.37V.3a.nh.new.nc d075.37V.3p.nh.new.nc d076.37V.3a.nh.new.nc d076.37V.3p.nh.new.nc d077.37V.3a.nh.new.nc d077.37V.3p.nh.new.nc d078.37V.3a.nh.new.nc d078.37V.3p.nh.new.nc d079.37V.3a.nh.new.nc d079.37V.3p.nh.new.nc d080.37V.3a.nh.new.nc d080.37V.3p.nh.new.nc d081.37V.3a.nh.new.nc d081.37V.3p.nh.new.nc d082.37V.3a.nh.new.nc d082.37V.3p.nh.new.nc d083.37V.3a.nh.new.nc d083.37V.3p.nh.new.nc d084.37V.3a.nh.new.nc d084.37V.3p.nh.new.nc d085.37V.3a.nh.new.nc d085.37V.3p.nh.new.nc d086.37V.3a.nh.new.nc d086.37V.3p.nh.new.nc d087.37V.3a.nh.new.nc d087.37V.3p.nh.new.nc d088.37V.3a.nh.new.nc d088.37V.3p.nh.new.nc d089.37V.3a.nh.new.nc d089.37V.3p.nh.new.nc d090.37V.3a.nh.new.nc d090.37V.3p.nh.new.nc d091.37V.3a.nh.new.nc d091.37V.3p.nh.new.nc d092.37V.3a.nh.new.nc d092.37V.3p.nh.new.nc d093.37V.3a.nh.new.nc d093.37V.3p.nh.new.nc d094.37V.3a.nh.new.nc d094.37V.3p.nh.new.nc d095.37V.3a.nh.new.nc d095.37V.3p.nh.new.nc d096.37V.3a.nh.new.nc d096.37V.3p.nh.new.nc d097.37V.3a.nh.new.nc d097.37V.3p.nh.new.nc d098.37V.3a.nh.new.nc d098.37V.3p.nh.new.nc d099.37V.3a.nh.new.nc d099.37V.3p.nh.new.nc d100.37V.3a.nh.new.nc d100.37V.3p.nh.new.nc d101.37V.3a.nh.new.nc d101.37V.3p.nh.new.nc d102.37V.3a.nh.new.nc d102.37V.3p.nh.new.nc d103.37V.3a.nh.new.nc d103.37V.3p.nh.new.nc d104.37V.3a.nh.new.nc d104.37V.3p.nh.new.nc d105.37V.3a.nh.new.nc d105.37V.3p.nh.new.nc d106.37V.3a.nh.new.nc d106.37V.3p.nh.new.nc d107.37V.3a.nh.new.nc d107.37V.3p.nh.new.nc d108.37V.3a.nh.new.nc d108.37V.3p.nh.new.nc d109.37V.3a.nh.new.nc d109.37V.3p.nh.new.nc d110.37V.3a.nh.new.nc d110.37V.3p.nh.new.nc d111.37V.3a.nh.new.nc d111.37V.3p.nh.new.nc d112.37V.3a.nh.new.nc d112.37V.3p.nh.new.nc d113.37V.3a.nh.new.nc d113.37V.3p.nh.new.nc d114.37V.3a.nh.new.nc d114.37V.3p.nh.new.nc d115.37V.3a.nh.new.nc d115.37V.3p.nh.new.nc d116.37V.3a.nh.new.nc d116.37V.3p.nh.new.nc d117.37V.3a.nh.new.nc d117.37V.3p.nh.new.nc d118.37V.3a.nh.new.nc d118.37V.3p.nh.new.nc d119.37V.3a.nh.new.nc d119.37V.3p.nh.new.nc d120.37V.3a.nh.new.nc d120.37V.3p.nh.new.nc d121.37V.3a.nh.new.nc d121.37V.3p.nh.new.nc d122.37V.3a.nh.new.nc d122.37V.3p.nh.new.nc d123.37V.3a.nh.new.nc d123.37V.3p.nh.new.nc d124.37V.3a.nh.new.nc d124.37V.3p.nh.new.nc d125.37V.3a.nh.new.nc d125.37V.3p.nh.new.nc d126.37V.3a.nh.new.nc d126.37V.3p.nh.new.nc d127.37V.3a.nh.new.nc d127.37V.3p.nh.new.nc d128.37V.3a.nh.new.nc d128.37V.3p.nh.new.nc d129.37V.3a.nh.new.nc d129.37V.3p.nh.new.nc d130.37V.3a.nh.new.nc d130.37V.3p.nh.new.nc d131.37V.3a.nh.new.nc d131.37V.3p.nh.new.nc d132.37V.3a.nh.new.nc d132.37V.3p.nh.new.nc d133.37V.3a.nh.new.nc d133.37V.3p.nh.new.nc d134.37V.3a.nh.new.nc d134.37V.3p.nh.new.nc d135.37V.3a.nh.new.nc d135.37V.3p.nh.new.nc d136.37V.3a.nh.new.nc d136.37V.3p.nh.new.nc d137.37V.3a.nh.new.nc d137.37V.3p.nh.new.nc d138.37V.3a.nh.new.nc d138.37V.3p.nh.new.nc d139.37V.3a.nh.new.nc d139.37V.3p.nh.new.nc d140.37V.3a.nh.new.nc d140.37V.3p.nh.new.nc d141.37V.3a.nh.new.nc d141.37V.3p.nh.new.nc d142.37V.3a.nh.new.nc d142.37V.3p.nh.new.nc d143.37V.3a.nh.new.nc d143.37V.3p.nh.new.nc d144.37V.3a.nh.new.nc d144.37V.3p.nh.new.nc d145.37V.3a.nh.new.nc d145.37V.3p.nh.new.nc d146.37V.3a.nh.new.nc d146.37V.3p.nh.new.nc d147.37V.3a.nh.new.nc d147.37V.3p.nh.new.nc d148.37V.3a.nh.new.nc d148.37V.3p.nh.new.nc d149.37V.3a.nh.new.nc d149.37V.3p.nh.new.nc d150.37V.3a.nh.new.nc d150.37V.3p.nh.new.nc d151.37V.3a.nh.new.nc d151.37V.3p.nh.new.nc d152.37V.3a.nh.new.nc d152.37V.3p.nh.new.nc d153.37V.3a.nh.new.nc d153.37V.3p.nh.new.nc d154.37V.3a.nh.new.nc d154.37V.3p.nh.new.nc d155.37V.3a.nh.new.nc d155.37V.3p.nh.new.nc d156.37V.3a.nh.new.nc d156.37V.3p.nh.new.nc d157.37V.3a.nh.new.nc d157.37V.3p.nh.new.nc d158.37V.3a.nh.new.nc d158.37V.3p.nh.new.nc d159.37V.3a.nh.new.nc d159.37V.3p.nh.new.nc d160.37V.3a.nh.new.nc d160.37V.3p.nh.new.nc d161.37V.3a.nh.new.nc d161.37V.3p.nh.new.nc d162.37V.3a.nh.new.nc d162.37V.3p.nh.new.nc d163.37V.3a.nh.new.nc d163.37V.3p.nh.new.nc d164.37V.3a.nh.new.nc d164.37V.3p.nh.new.nc d165.37V.3a.nh.new.nc d165.37V.3p.nh.new.nc d166.37V.3a.nh.new.nc d166.37V.3p.nh.new.nc d167.37V.3a.nh.new.nc d167.37V.3p.nh.new.nc d168.37V.3a.nh.new.nc d168.37V.3p.nh.new.nc d169.37V.3a.nh.new.nc d169.37V.3p.nh.new.nc d170.37V.3a.nh.new.nc d170.37V.3p.nh.new.nc d171.37V.3a.nh.new.nc d171.37V.3p.nh.new.nc d172.37V.3a.nh.new.nc d172.37V.3p.nh.new.nc d173.37V.3a.nh.new.nc d173.37V.3p.nh.new.nc d174.37V.3a.nh.new.nc d174.37V.3p.nh.new.nc d175.37V.3a.nh.new.nc d175.37V.3p.nh.new.nc d176.37V.3a.nh.new.nc d176.37V.3p.nh.new.nc d177.37V.3a.nh.new.nc d177.37V.3p.nh.new.nc d178.37V.3a.nh.new.nc d178.37V.3p.nh.new.nc d179.37V.3a.nh.new.nc d179.37V.3p.nh.new.nc d180.37V.3a.nh.new.nc d180.37V.3p.nh.new.nc d181.37V.3a.nh.new.nc d181.37V.3p.nh.new.nc d182.37V.3a.nh.new.nc d182.37V.3p.nh.new.nc CETB37V.2004.3km.d001-d182.nh.nc\n",
       "Tue May 17 16:44:37 2016: ncks -O --mk_rec_dmn time d001.37V.3a.nh.nc d001.37V.3a.nh.new.nc\n",
       "Tue May 17 16:25:04 2016: ncks -4 -d cols,-2500000.000,4056250.000 -d rows,-4056250.000,4278125.000 -v TB EASE2_N3.125km.F13_SSMI.2004001.37V.M.SIR.RSS.v0.1.nc d001.37V.3a.nh.nc\n",
       "TBD(bgi or sir command line)\n",
       "    comment: Prototype version of this product, intended for user evaluation and feedback.\n",
       "    references: Data set documentation: http://nsidc.org/data/nsidc-0630.html\n",
       "Algorithm Theoretical Basis Document: http://nsidc.org/pmesdr/files/2015/09/MEaSUREs_CETB_ATBD_v0.10.pdf\n",
       "Ancillary File: TBD\n",
       "    summary: An improved, enhanced-resolution, gridded passive microwave Earth System Data Record \n",
       "for monitoring cryospheric and hydrologic time series\n",
       "\n",
       "    institution: National Snow and Ice Data Center\n",
       "Cooperative Institute for Research in Environmental Sciences\n",
       "University of Colorado at Boulder\n",
       "Boulder, CO\n",
       "    publisher: National Snow and Ice Data Center\n",
       "Cooperative Institute for Research in Environmental Sciences\n",
       "University of Colorado at Boulder\n",
       "Boulder, CO\n",
       "    publisher_url: http://nsidc.org\n",
       "    publisher_email: nsidc@nsidc.org\n",
       "    project: NASA 2012 MEaSUREs (Making Earth System Data Records for Use in Research Environments)\n",
       "    standard_name_vocabulary: CF Standard Name Table (v27, 28 September 2013)\n",
       "    cdm_data_type: grid\n",
       "    keywords: EARTH SCIENCE > SPECTRAL/ENGINEERING > MICROWAVE > BRIGHTNESS TEMPERATURE\n",
       "    keywords_vocabulary: NASA Global Change Master Directory (GCMD) Earth Science Keywords, Version 8.1\n",
       "    platform: DMSP 5D-2/F13 > Defense Meteorological Satellite Program-F13\n",
       "    sensor: SSM/I > Special Sensor Microwave/Imager\n",
       "    naming_authority: org.doi.dx\n",
       "    id: 10.5067/MEASURES/CRYOSPHERE/nsidc-0630.001\n",
       "    date_created: 2016-01-27T14:04:05MST\n",
       "    acknowledgement: This data set was created with funding from NASA MEaSUREs Grant #NNX13AI23A.\n",
       "Data archiving and distribution is supported by the NASA NSIDC Distributed Active Archive Center (DAAC).\n",
       "    license: No constraints on data access or use\n",
       "    processing_level: Level 3\n",
       "    creator_name: Mary J. Brodzik\n",
       "    creator_email: brodzik@nsidc.org\n",
       "    creator_url: http://nsidc.org/pmesdr\n",
       "    contributor_name: Mary J. Brodzik, David G. Long, Molly A. Hardman, Aaron C. Paget\n",
       "    contributor_role: Principal Investigator, Co-Investigator, Developer, Contributor\n",
       "    citation: Brodzik, M. J., D. G. Long, M. A. Hardman, A. C. Paget. 2015.\n",
       "MEaSUREs Calibrated Passive Microwave Daily EASE-Grid 2.0 Brightness Temperature ESDR.\n",
       "Version 0.01.\n",
       "[Indicate subset used].\n",
       "Boulder, Colorado USA: NASA DAAC at the National Snow and Ice Data Center.\n",
       "    NCO: 4.4.2\n",
       "    nco_openmp_thread_number: 1\n",
       "    dimensions(sizes): time(364), rows(2667), cols(2098)\n",
       "    variables(dimensions): uint16 \u001b[4mTB\u001b[0m(time,rows,cols), float64 \u001b[4mcols\u001b[0m(cols), float64 \u001b[4mrows\u001b[0m(rows), float64 \u001b[4mtime\u001b[0m(time)\n",
       "    groups: "
      ]
     },
     "execution_count": 4,
     "metadata": {},
     "output_type": "execute_result"
    }
   ],
   "source": [
    "filename = \"CETB37V.2004.3km.d001-d182.nh.nc\"\n",
    "f = Dataset(filename, \"r\", format=\"NETCDF4\")\n",
    "f"
   ]
  },
  {
   "cell_type": "code",
   "execution_count": 5,
   "metadata": {
    "collapsed": false
   },
   "outputs": [
    {
     "name": "stdout",
     "output_type": "stream",
     "text": [
      "float32\n",
      "(3, 2667, 2098)\n"
     ]
    }
   ],
   "source": [
    "data = f.variables['TB'][:3,:,:]\n",
    "print(data.dtype)\n",
    "print(data.shape)"
   ]
  },
  {
   "cell_type": "code",
   "execution_count": 6,
   "metadata": {
    "collapsed": false
   },
   "outputs": [],
   "source": [
    "f.close()"
   ]
  },
  {
   "cell_type": "code",
   "execution_count": 7,
   "metadata": {
    "collapsed": false
   },
   "outputs": [
    {
     "name": "stdout",
     "output_type": "stream",
     "text": [
      "(147.61, 275.20999)\n"
     ]
    }
   ],
   "source": [
    "print(np.amin(data),np.amax(data))"
   ]
  },
  {
   "cell_type": "markdown",
   "metadata": {},
   "source": [
    "Dump the data as flat binary"
   ]
  },
  {
   "cell_type": "code",
   "execution_count": 8,
   "metadata": {
    "collapsed": false
   },
   "outputs": [
    {
     "name": "stdout",
     "output_type": "stream",
     "text": [
      "<class 'numpy.ma.core.MaskedArray'>\n"
     ]
    }
   ],
   "source": [
    "print(type(data))"
   ]
  },
  {
   "cell_type": "code",
   "execution_count": 9,
   "metadata": {
    "collapsed": true
   },
   "outputs": [],
   "source": [
    "cdata = np.ma.filled(data, fill_value=0.0)"
   ]
  },
  {
   "cell_type": "code",
   "execution_count": 10,
   "metadata": {
    "collapsed": false,
    "scrolled": false
   },
   "outputs": [
    {
     "name": "stdout",
     "output_type": "stream",
     "text": [
      "<type 'numpy.ndarray'>\n"
     ]
    }
   ],
   "source": [
    "print(type(cdata))"
   ]
  },
  {
   "cell_type": "code",
   "execution_count": 11,
   "metadata": {
    "collapsed": false
   },
   "outputs": [],
   "source": [
    "cdata.tofile(file=\"/Users/brodzik/cetb_data/CETB37V.2004.3km.d001-d182.nh.TB.0-2.bin\")\n",
    "#help(cdata.tofile)"
   ]
  },
  {
   "cell_type": "code",
   "execution_count": 12,
   "metadata": {
    "collapsed": false
   },
   "outputs": [
    {
     "name": "stdout",
     "output_type": "stream",
     "text": [
      "/Users/brodzik/cetb_data\n",
      "248112 -rw-r--r--  1 brodzik  staff  127030176 May 24 11:07 CETB37V.2004.25km.d001-d182.nh.TB.bin\r\n",
      "131144 -rw-r--r--  1 brodzik  staff   67144392 May 24 11:38 CETB37V.2004.3km.d001-d182.nh.TB.0-2.bin\r\n"
     ]
    }
   ],
   "source": [
    "%cd /Users/brodzik/cetb_data\n",
    "%ls -las *.bin"
   ]
  },
  {
   "cell_type": "code",
   "execution_count": null,
   "metadata": {
    "collapsed": false
   },
   "outputs": [],
   "source": [
    "5760 * 5760 * 4"
   ]
  },
  {
   "cell_type": "code",
   "execution_count": null,
   "metadata": {
    "collapsed": false
   },
   "outputs": [],
   "source": [
    "data = f.variables['TB'][:]\n",
    "print np.shape(data), np.amin(data), np.amax(data)"
   ]
  },
  {
   "cell_type": "markdown",
   "metadata": {},
   "source": [
    "We have stored each data array with a single time dimension for the date in order to facilitate netCDF tools that allow data across many files to be concatenated by date.  To work just with the 2D array of data, you can use the numpy \"squeeze\" function like this:"
   ]
  },
  {
   "cell_type": "code",
   "execution_count": null,
   "metadata": {
    "collapsed": false
   },
   "outputs": [],
   "source": [
    "data = np.squeeze(data)\n",
    "print np.shape(data)"
   ]
  },
  {
   "cell_type": "markdown",
   "metadata": {},
   "source": [
    "## Get the date of the data in this file\n",
    "\n",
    "You can get the date of the data in this file by examining the time dimension variable:"
   ]
  },
  {
   "cell_type": "code",
   "execution_count": null,
   "metadata": {
    "collapsed": false
   },
   "outputs": [],
   "source": [
    "d = f.variables['time']\n",
    "date = d[:]\n",
    "print d\n",
    "print date\n"
   ]
  },
  {
   "cell_type": "markdown",
   "metadata": {},
   "source": [
    "Note that this date is encoded as \"days since 1972-01-01\".  To convert to a Gregorian date, use the num2date function imported from the netCDF4 package, and use the strftime function to format it as various date strings:"
   ]
  },
  {
   "cell_type": "code",
   "execution_count": null,
   "metadata": {
    "collapsed": false
   },
   "outputs": [],
   "source": [
    "greg_date = num2date(date[:],units=d.units,calendar=d.calendar)\n",
    "print(greg_date)\n",
    "print greg_date[0].strftime(\"%Y-%m-%d\")\n",
    "print greg_date[0].strftime(\"%b %d %Y\")"
   ]
  },
  {
   "cell_type": "markdown",
   "metadata": {},
   "source": [
    "## Display the TB array\n",
    "\n",
    "Next, to display the brightness temperatures in this data array as an image, use imshow:"
   ]
  },
  {
   "cell_type": "code",
   "execution_count": null,
   "metadata": {
    "collapsed": false
   },
   "outputs": [],
   "source": [
    "fig, ax = plt.subplots(1,1)\n",
    "ax.set_title(\"%s (%s)\" % \n",
    "             (os.path.basename(filename), greg_date[0].strftime(\"%Y-%m-%d\")))\n",
    "plt.imshow(data, cmap=plt.cm.gray, vmin=np.amin(data), vmax=np.amax(data), interpolation='nearest')\n",
    "plt.axis('off')\n",
    "plt.colorbar(shrink=0.50,label='TB')"
   ]
  },
  {
   "cell_type": "markdown",
   "metadata": {},
   "source": [
    "## Display the number of measurement samples used for each cell in the image reconstruction\n",
    "\n",
    "Similarly, the number of samples used to derive each grid cell in the image reconstruction is in the variable TB_num_samples, which can be read and displayed like this:"
   ]
  },
  {
   "cell_type": "code",
   "execution_count": null,
   "metadata": {
    "collapsed": true
   },
   "outputs": [],
   "source": [
    "num = np.squeeze(f.variables['TB_num_samples'][:])"
   ]
  },
  {
   "cell_type": "code",
   "execution_count": null,
   "metadata": {
    "collapsed": false
   },
   "outputs": [],
   "source": [
    "fig, ax = plt.subplots(1,1)\n",
    "ax.set_title(\"%s (%s)\" % \n",
    "             (os.path.basename(filename), greg_date[0].strftime(\"%Y-%m-%d\")))\n",
    "plt.imshow(num, cmap=plt.cm.gray, vmin=np.amin(num), vmax=np.amax(num), interpolation='nearest')\n",
    "plt.axis('off')\n",
    "plt.colorbar(shrink=0.50,label='Num')"
   ]
  },
  {
   "cell_type": "markdown",
   "metadata": {},
   "source": [
    "## Doing (row,col) <--> (lat, lon) map transformations\n",
    "\n",
    "To get the TB temperature at a specific geolocation, use the Ease2Transform class.  The initializer for this class need only be called once, and then the \"geographic_to_grid\" or \"grid_to_geographic\" methods can be called repeatedly.  The initializer takes one input argument, the NSIDC mapx name for the projection and grid that is stored in the crs.long_name attribute we examined earlier:\n"
   ]
  },
  {
   "cell_type": "code",
   "execution_count": null,
   "metadata": {
    "collapsed": false
   },
   "outputs": [],
   "source": [
    "print crs.long_name"
   ]
  },
  {
   "cell_type": "code",
   "execution_count": null,
   "metadata": {
    "collapsed": false
   },
   "outputs": [],
   "source": [
    "N3grid = Ease2Transform(crs.long_name)"
   ]
  },
  {
   "cell_type": "markdown",
   "metadata": {},
   "source": [
    "geographic_to_grid can be used to transform a (lat, lon) coordinate to (row, col).  The returned values for row, col will be real-valued, and need to be rounded (up at 0.5) to get the integer values of row, col that can be used to index into the data arrays:"
   ]
  },
  {
   "cell_type": "code",
   "execution_count": null,
   "metadata": {
    "collapsed": false
   },
   "outputs": [],
   "source": [
    "(row, col) = N3grid.geographic_to_grid(40., -105.)\n",
    "print row, col\n",
    "(irow, icol) = (int(round(row)), int(round(col)))\n",
    "print irow, icol"
   ]
  },
  {
   "cell_type": "code",
   "execution_count": null,
   "metadata": {
    "collapsed": false
   },
   "outputs": [],
   "source": [
    "print \"TB at (40.0N, 105.0W) is: %f K\" % data[irow, icol]\n",
    "print \"Num samples used: %d\" % num[irow, icol]"
   ]
  },
  {
   "cell_type": "markdown",
   "metadata": {},
   "source": [
    "Use grid_to_geographic to transform a (row, col) coordinate to (lat, lon):"
   ]
  },
  {
   "cell_type": "code",
   "execution_count": null,
   "metadata": {
    "collapsed": false
   },
   "outputs": [],
   "source": [
    "print N3grid.grid_to_geographic(row,col)"
   ]
  },
  {
   "cell_type": "markdown",
   "metadata": {},
   "source": [
    "Original header files for EASE-Grid (721x721) from Terry tied\n",
    "x,y = (1.5, 1.5) to the coordinate in meters for (0.0, 0.0)\n",
    "I think this is due to some convention in ENVI that Terry indentified a long time ago.\n",
    "So, for original Nl.gpd:"
   ]
  },
  {
   "cell_type": "code",
   "execution_count": null,
   "metadata": {
    "collapsed": false
   },
   "outputs": [],
   "source": [
    "ease_scale_km = 200.5402 / 8.\n",
    "ease_scale_km"
   ]
  },
  {
   "cell_type": "code",
   "execution_count": null,
   "metadata": {
    "collapsed": false
   },
   "outputs": [],
   "source": [
    "print(ease_scale_km * 1000. * 360.)"
   ]
  },
  {
   "cell_type": "markdown",
   "metadata": {},
   "source": [
    "Terry says for EASE-Grid 2.0 .hdrs, set the coordinates at 1.0, 1.0 to the UL corner cell, so we can use the same\n",
    "coordinate for any of the nested versions"
   ]
  },
  {
   "cell_type": "code",
   "execution_count": null,
   "metadata": {
    "collapsed": true
   },
   "outputs": [],
   "source": [
    "ease2_scale_km = 25.0"
   ]
  },
  {
   "cell_type": "code",
   "execution_count": null,
   "metadata": {
    "collapsed": false
   },
   "outputs": [],
   "source": [
    "print(ease2_scale_km * 1000. * 360.0)"
   ]
  },
  {
   "cell_type": "code",
   "execution_count": null,
   "metadata": {
    "collapsed": false
   },
   "outputs": [],
   "source": [
    "%pwd\n"
   ]
  },
  {
   "cell_type": "code",
   "execution_count": null,
   "metadata": {
    "collapsed": false
   },
   "outputs": [],
   "source": [
    "25000. / 8."
   ]
  },
  {
   "cell_type": "code",
   "execution_count": 13,
   "metadata": {
    "collapsed": false
   },
   "outputs": [
    {
     "data": {
      "text/plain": [
       "4073426448.0"
      ]
     },
     "execution_count": 13,
     "metadata": {},
     "output_type": "execute_result"
    }
   ],
   "source": [
    "2667.*2098*364*2\n"
   ]
  },
  {
   "cell_type": "code",
   "execution_count": null,
   "metadata": {
    "collapsed": true
   },
   "outputs": [],
   "source": []
  }
 ],
 "metadata": {
  "kernelspec": {
   "display_name": "Python 2",
   "language": "python",
   "name": "python2"
  },
  "language_info": {
   "codemirror_mode": {
    "name": "ipython",
    "version": 2
   },
   "file_extension": ".py",
   "mimetype": "text/x-python",
   "name": "python",
   "nbconvert_exporter": "python",
   "pygments_lexer": "ipython2",
   "version": "2.7.11"
  }
 },
 "nbformat": 4,
 "nbformat_minor": 0
}
