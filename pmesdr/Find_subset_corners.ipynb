{
 "cells": [
  {
   "cell_type": "markdown",
   "metadata": {},
   "source": [
    "# Find subset corners\n",
    "\n",
    "Given lat/lon corner points in lat/lon, finds the projected (x/y) cornerpoints of the nearest enclosing EASE2_N25km cells.  This can then be used for cubefile subsetting that will guarantee that the high- and low-res subsets share the same coverages.\n"
   ]
  },
  {
   "cell_type": "code",
   "execution_count": 1,
   "metadata": {},
   "outputs": [
    {
     "name": "stdout",
     "output_type": "stream",
     "text": [
      "Populating the interactive namespace from numpy and matplotlib\n"
     ]
    }
   ],
   "source": [
    "%pylab notebook\n",
    "from cetbtools.ease2conv import Ease2Transform"
   ]
  },
  {
   "cell_type": "code",
   "execution_count": 33,
   "metadata": {},
   "outputs": [],
   "source": [
    "def find_25km_geographic_corners(subULx, subULy, subLRx, subLRy):\n",
    "    \n",
    "    # Find the UL/LR row/cols\n",
    "    N25 = Ease2Transform(\"EASE2_N25km\")\n",
    "    subULrow, subULcol = N25.map_to_grid(subULx, subULy)\n",
    "    subLRrow, subLRcol = N25.map_to_grid(subLRx, subLRy)\n",
    "    print(\"Subset UL row,col = %.3f, %.3f\" % (subULrow, subULcol))\n",
    "    print(\"Subset LR row,col = %.3f, %.3f\" % (subLRrow, subLRcol))\n",
    "    \n",
    "    # Find the outer corners of the UL and LR 25km cells\n",
    "    subULrow = math.ceil(subULrow + 0.49) - 0.5\n",
    "    subULcol = math.floor(subULcol - 0.49) + 0.5\n",
    "    subLRrow = math.floor(subLRrow - 0.49) + 0.5\n",
    "    subLRcol = math.ceil(subLRcol + 0.49) - 0.5\n",
    "    print(\"Outer 25km, subset UL row,col = %.3f, %.3f\" % (subULrow, subULcol))\n",
    "    print(\"Outer 25km, subset LR row,col = %.3f, %.3f\" % (subLRrow, subLRcol))\n",
    "    \n",
    "    # Find the geographic coordinates of the outer corners\n",
    "    subULlat, subULlon = N25.grid_to_geographic(subULrow, subULcol)\n",
    "    subLRlat, subLRlon = N25.grid_to_geographic(subLRrow, subLRcol)\n",
    "    print(\"Subset UL lat,lon = %.3f, %.3f\" % (subULlat, subULlon))\n",
    "    print(\"Subset LR lat,lon = %.3f, %.3f\" % (subLRlat, subLRlon))"
   ]
  },
  {
   "cell_type": "code",
   "execution_count": 34,
   "metadata": {},
   "outputs": [],
   "source": [
    "def find_25km_map_corners(subULlat, subULlon, subLRlat, subLRlon):\n",
    "    \n",
    "    # Find the UL/LR row/cols\n",
    "    N25 = Ease2Transform(\"EASE2_N25km\")\n",
    "    subULrow, subULcol = N25.geographic_to_grid(subULlat, subULlon)\n",
    "    subLRrow, subLRcol = N25.geographic_to_grid(subLRlat, subLRlon)\n",
    "    print(\"Subset UL row,col = %.3f, %.3f\" % (subULrow, subULcol))\n",
    "    print(\"Subset LR row,col = %.3f, %.3f\" % (subLRrow, subLRcol))\n",
    "    \n",
    "    # Find the outer corners of the UL and LR 25km cells\n",
    "    subULrow = math.ceil(subULrow + 0.49) - 0.5\n",
    "    subULcol = math.floor(subULcol - 0.49) + 0.5\n",
    "    subLRrow = math.floor(subLRrow - 0.49) + 0.5\n",
    "    subLRcol = math.ceil(subLRcol + 0.49) - 0.5\n",
    "    print(\"Outer 25km, subset UL row,col = %.3f, %.3f\" % (subULrow, subULcol))\n",
    "    print(\"Outer 25km, subset LR row,col = %.3f, %.3f\" % (subLRrow, subLRcol))\n",
    "    \n",
    "    # Find the map coordinates of the outer corners\n",
    "    subULx, subULy = N25.grid_to_map(subULrow, subULcol)\n",
    "    subLRx, subLRy = N25.grid_to_map(subLRrow, subLRcol)\n",
    "    print(\"Subset UL x,y = %.3f, %.3f\" % (subULx, subULy))\n",
    "    print(\"Subset LR x,y = %.3f, %.3f\" % (subLRx, subLRy))\n",
    "    \n",
    "    # Find the geographic coordinates of the outer corners\n",
    "    cornerULlat, cornerULlon = N25.grid_to_geographic(subULrow, subULcol)\n",
    "    cornerLRlat, cornerLRlon = N25.grid_to_geographic(subLRrow, subLRcol)\n",
    "    print(\"Corner UL lat,lon = %.3f, %.3f\" % (cornerULlat, cornerULlon))\n",
    "    print(\"Corner LR lat,lon = %.3f, %.3f\" % (cornerLRlat, cornerLRlon))"
   ]
  },
  {
   "cell_type": "markdown",
   "metadata": {},
   "source": [
    "For Western US subset for Mitch, answers should be:\n",
    "<ul>\n",
    "<li>Subset UL row,col = 235.687, 116.503\n",
    "<li>Subset LR row,col = 318.638, 216.999\n",
    "<li>Outer 25km, subset UL row,col = 236.500, 116.500\n",
    "<li>Outer 25km, subset LR row,col = 318.500, 217.500\n",
    "<li>Subset UL x,y = -6075000.000, 3075000.000\n",
    "<li>Subset LR x,y = -3550000.000, 1025000.000\n",
    "</ul>"
   ]
  },
  {
   "cell_type": "code",
   "execution_count": 39,
   "metadata": {},
   "outputs": [
    {
     "name": "stdout",
     "output_type": "stream",
     "text": [
      "Subset UL row,col = 235.687, 116.503\n",
      "Subset LR row,col = 318.638, 216.999\n",
      "Outer 25km, subset UL row,col = 236.500, 116.500\n",
      "Outer 25km, subset LR row,col = 318.500, 217.500\n",
      "Subset UL x,y = -6075000.000, 3075000.000\n",
      "Subset LR x,y = -3550000.000, 1025000.000\n",
      "Corner UL lat,lon = 25.498, -116.847\n",
      "Corner LR lat,lon = 56.404, -106.105\n"
     ]
    }
   ],
   "source": [
    "subULlat, subULlon = 25.4, -117.0\n",
    "subLRlat, subLRlon = 56.3, -106.0\n",
    "find_25km_map_corners(subULlat, subULlon, subLRlat, subLRlon)"
   ]
  },
  {
   "cell_type": "markdown",
   "metadata": {},
   "source": [
    "# Full Arctic\n"
   ]
  },
  {
   "cell_type": "code",
   "execution_count": null,
   "metadata": {},
   "outputs": [],
   "source": [
    "subULlat, subULlon = 45., -135.\n",
    "subLRlat, subLRlon = 45., 45.\n",
    "find_25km_map_corners(subULlat, subULlon, subLRlat, subLRlon)"
   ]
  },
  {
   "cell_type": "markdown",
   "metadata": {},
   "source": [
    "# UIB\n"
   ]
  },
  {
   "cell_type": "code",
   "execution_count": 36,
   "metadata": {},
   "outputs": [
    {
     "name": "stdout",
     "output_type": "stream",
     "text": [
      "Subset UL row,col = 389.500, 575.500\n",
      "Subset LR row,col = 434.500, 610.500\n",
      "Outer 25km, subset UL row,col = 389.500, 575.500\n",
      "Outer 25km, subset LR row,col = 434.500, 610.500\n",
      "Subset UL lat,lon = 39.462, 82.093\n",
      "Subset LR lat,lon = 28.248, 73.364\n",
      "\n",
      "Subset UL row,col = 389.499, 575.499\n",
      "Subset LR row,col = 434.499, 610.501\n",
      "Outer 25km, subset UL row,col = 389.500, 575.500\n",
      "Outer 25km, subset LR row,col = 434.500, 610.500\n",
      "Subset UL x,y = 5400000.000, -750000.000\n",
      "Subset LR x,y = 6275000.000, -1875000.000\n",
      "Corner UL lat,lon = 39.462, 82.093\n",
      "Corner LR lat,lon = 28.248, 73.364\n"
     ]
    }
   ],
   "source": [
    "subULx, subULy = 5400000., -750000.\n",
    "subLRx, subLRy = 6275000., -1875000.\n",
    "find_25km_geographic_corners(subULx, subULy, subLRx, subLRy)\n",
    "print(\"\")\n",
    "subULlat, subULlon = 39.462, 82.093\n",
    "subLRlat, subLRlon = 28.248, 73.364\n",
    "find_25km_map_corners(subULlat, subULlon, subLRlat, subLRlon)"
   ]
  },
  {
   "cell_type": "markdown",
   "metadata": {},
   "source": [
    "# GLAIL (Greenland and Iceland)"
   ]
  },
  {
   "cell_type": "code",
   "execution_count": 37,
   "metadata": {},
   "outputs": [
    {
     "name": "stdout",
     "output_type": "stream",
     "text": [
      "Subset UL row,col = 362.250, 258.250\n",
      "Subset LR row,col = 484.000, 358.750\n",
      "Outer 25km, subset UL row,col = 362.500, 257.500\n",
      "Outer 25km, subset LR row,col = 483.500, 359.500\n",
      "Subset UL lat,lon = 66.994, -88.315\n",
      "Subset LR lat,lon = 61.945, 0.000\n"
     ]
    }
   ],
   "source": [
    "subULx, subULy = -2531250., -68750.\n",
    "subLRx, subLRy = -18750., -3112500.\n",
    "find_25km_geographic_corners(subULx, subULy, subLRx, subLRy)"
   ]
  },
  {
   "cell_type": "code",
   "execution_count": 38,
   "metadata": {},
   "outputs": [
    {
     "name": "stdout",
     "output_type": "stream",
     "text": [
      "Subset UL row,col = 362.501, 257.501\n",
      "Subset LR row,col = 483.500, 359.500\n",
      "Outer 25km, subset UL row,col = 362.500, 257.500\n",
      "Outer 25km, subset LR row,col = 483.500, 359.500\n",
      "Subset UL x,y = -2550000.000, -75000.000\n",
      "Subset LR x,y = 0.000, -3100000.000\n",
      "Corner UL lat,lon = 66.994, -88.315\n",
      "Corner LR lat,lon = 61.945, 0.000\n"
     ]
    }
   ],
   "source": [
    "subULlat, subULlon = 66.994, -88.315\n",
    "subLRlat, subLRlon = 61.945, 0.\n",
    "find_25km_map_corners(subULlat, subULlon, subLRlat, subLRlon)"
   ]
  },
  {
   "cell_type": "code",
   "execution_count": 31,
   "metadata": {
    "scrolled": false
   },
   "outputs": [
    {
     "data": {
      "text/plain": [
       "(1, 2)"
      ]
     },
     "execution_count": 31,
     "metadata": {},
     "output_type": "execute_result"
    }
   ],
   "source": [
    "x=1.5\n",
    "math.floor(x), math.ceil(x)\n",
    "    "
   ]
  },
  {
   "cell_type": "code",
   "execution_count": null,
   "metadata": {},
   "outputs": [],
   "source": []
  }
 ],
 "metadata": {
  "kernelspec": {
   "display_name": "cetb3",
   "language": "python",
   "name": "cetb3"
  },
  "language_info": {
   "codemirror_mode": {
    "name": "ipython",
    "version": 3
   },
   "file_extension": ".py",
   "mimetype": "text/x-python",
   "name": "python",
   "nbconvert_exporter": "python",
   "pygments_lexer": "ipython3",
   "version": "3.6.2"
  }
 },
 "nbformat": 4,
 "nbformat_minor": 2
}
