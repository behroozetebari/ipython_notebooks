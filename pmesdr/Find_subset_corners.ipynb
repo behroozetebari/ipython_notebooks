{
 "cells": [
  {
   "cell_type": "markdown",
   "metadata": {},
   "source": [
    "# Find subset corners\n",
    "\n",
    "Given lat/lon corner points in lat/lon, finds the projected (x/y) cornerpoints of the nearest enclosing EASE2_N25km cells.  This can then be used for cubefile subsetting that will guarantee that the high- and low-res subsets share the same coverages.\n"
   ]
  },
  {
   "cell_type": "code",
   "execution_count": null,
   "metadata": {},
   "outputs": [],
   "source": [
    "%pylab notebook\n",
    "from cetbtools.ease2conv import Ease2Transform"
   ]
  },
  {
   "cell_type": "code",
   "execution_count": null,
   "metadata": {},
   "outputs": [],
   "source": [
    "def find_25km_geographic_corners(subULx, subULy, subLRx, subLRy):\n",
    "    \n",
    "    # Find the UL/LR row/cols\n",
    "    N25 = Ease2Transform(\"EASE2_N25km\")\n",
    "    subULrow, subULcol = N25.map_to_grid(subULx, subULy)\n",
    "    subLRrow, subLRcol = N25.map_to_grid(subLRx, subLRy)\n",
    "    print(\"Subset UL row,col = %.6f, %.6f\" % (subULrow, subULcol))\n",
    "    print(\"Subset LR row,col = %.6f, %.6f\" % (subLRrow, subLRcol))\n",
    "    \n",
    "    # Find the outer corners of the UL and LR 25km cells\n",
    "    #from IPython.core.debugger import set_trace; set_trace()\n",
    "    subULrow = math.floor(subULrow - 0.5) + 0.5\n",
    "    subULcol = math.floor(subULcol - 0.5) + 0.5\n",
    "    subLRrow = math.floor(subLRrow + 0.5) + 0.5\n",
    "    subLRcol = math.floor(subLRcol + 0.5) + 0.5\n",
    "    print(\"Outer 25km, subset UL row,col = %.6f, %.6f\" % (subULrow, subULcol))\n",
    "    print(\"Outer 25km, subset LR row,col = %.6f, %.6f\" % (subLRrow, subLRcol))\n",
    "    \n",
    "    # Find the geographic coordinates of the outer corners\n",
    "    subULlat, subULlon = N25.grid_to_geographic(subULrow, subULcol)\n",
    "    subLRlat, subLRlon = N25.grid_to_geographic(subLRrow, subLRcol)\n",
    "    print(\"Subset UL lat,lon = %.6f, %.6f\" % (subULlat, subULlon))\n",
    "    print(\"Subset LR lat,lon = %.6f, %.6f\" % (subLRlat, subLRlon))"
   ]
  },
  {
   "cell_type": "code",
   "execution_count": null,
   "metadata": {},
   "outputs": [],
   "source": [
    "def find_25km_map_corners(subULlat, subULlon, subLRlat, subLRlon):\n",
    "    \n",
    "    # Find the UL/LR row/cols\n",
    "    N25 = Ease2Transform(\"EASE2_N25km\")\n",
    "    subULrow, subULcol = N25.geographic_to_grid(subULlat, subULlon)\n",
    "    subLRrow, subLRcol = N25.geographic_to_grid(subLRlat, subLRlon)\n",
    "    print(\"Subset UL row,col = %.6f, %.6f\" % (subULrow, subULcol))\n",
    "    print(\"Subset LR row,col = %.6f, %.6f\" % (subLRrow, subLRcol))\n",
    "    \n",
    "    # Find the outer corners of the UL and LR 25km cells\n",
    "    subULrow = math.floor(subULrow - 0.5) + 0.5\n",
    "    subULcol = math.floor(subULcol - 0.5) + 0.5\n",
    "    subLRrow = math.floor(subLRrow + 0.5) + 0.5\n",
    "    subLRcol = math.floor(subLRcol + 0.5) + 0.5\n",
    "    print(\"Outer 25km, subset UL row,col = %.6f, %.6f\" % (subULrow, subULcol))\n",
    "    print(\"Outer 25km, subset LR row,col = %.6f, %.6f\" % (subLRrow, subLRcol))\n",
    "    \n",
    "    # Find the size of the subset\n",
    "    nrows = subLRrow - subULrow + 1\n",
    "    ncols = subLRcol - subULcol + 1\n",
    "    print(\"Number of rows = %f\" % nrows)\n",
    "    print(\"Number of cols = %f\" % ncols)\n",
    "\n",
    "    # Find the map coordinates of the outer corners\n",
    "    subULx, subULy = N25.grid_to_map(subULrow, subULcol)\n",
    "    subLRx, subLRy = N25.grid_to_map(subLRrow, subLRcol)\n",
    "    print(\"Subset UL x,y = %.6f, %.6f\" % (subULx, subULy))\n",
    "    print(\"Subset LR x,y = %.6f, %.6f\" % (subLRx, subLRy))\n",
    "    \n",
    "    # Find the geographic coordinates of the outer corners\n",
    "    cornerULlat, cornerULlon = N25.grid_to_geographic(subULrow, subULcol)\n",
    "    cornerLRlat, cornerLRlon = N25.grid_to_geographic(subLRrow, subLRcol)\n",
    "    print(\"Corner UL lat,lon = %.6f, %.6f\" % (cornerULlat, cornerULlon))\n",
    "    print(\"Corner LR lat,lon = %.6f, %.6f\" % (cornerLRlat, cornerLRlon))"
   ]
  },
  {
   "cell_type": "markdown",
   "metadata": {},
   "source": [
    "For Western US subset for Mitch, answers should be:\n",
    "<ul>\n",
    "<li>Subset UL row,col = 235.687, 116.503\n",
    "<li>Subset LR row,col = 318.638, 216.999\n",
    "<li>Outer 25km, subset UL row,col = 236.500, 116.500  <--should be row = 235.5\n",
    "<li>Outer 25km, subset LR row,col = 318.500, 217.500  <--should be row = 319.5\n",
    "<li>Subset UL x,y = -6075000.000, 3075000.000\n",
    "<li>Subset LR x,y = -3550000.000, 1025000.000\n",
    "</ul>"
   ]
  },
  {
   "cell_type": "code",
   "execution_count": null,
   "metadata": {},
   "outputs": [],
   "source": [
    "subULlat, subULlon = 25.4, -117.0\n",
    "subLRlat, subLRlon = 56.3, -106.0\n",
    "find_25km_map_corners(subULlat, subULlon, subLRlat, subLRlon)"
   ]
  },
  {
   "cell_type": "markdown",
   "metadata": {},
   "source": [
    "# Full Arctic\n"
   ]
  },
  {
   "cell_type": "code",
   "execution_count": null,
   "metadata": {},
   "outputs": [],
   "source": [
    "subULlat, subULlon = 45., -135.\n",
    "subLRlat, subLRlon = 45., 45.\n",
    "find_25km_map_corners(subULlat, subULlon, subLRlat, subLRlon)"
   ]
  },
  {
   "cell_type": "markdown",
   "metadata": {},
   "source": [
    "# UIB\n"
   ]
  },
  {
   "cell_type": "code",
   "execution_count": null,
   "metadata": {},
   "outputs": [],
   "source": [
    "subULx, subULy = 5400000., -750000.\n",
    "subLRx, subLRy = 6275000., -1875000.\n",
    "find_25km_geographic_corners(subULx, subULy, subLRx, subLRy)\n",
    "print(\"\")\n",
    "subULlat, subULlon = 39.461846, 82.092837\n",
    "subLRlat, subLRlon = 27.920771, 73.217356\n",
    "find_25km_map_corners(subULlat, subULlon, subLRlat, subLRlon)"
   ]
  },
  {
   "cell_type": "markdown",
   "metadata": {},
   "source": [
    "# GLAIL (Greenland and Iceland)"
   ]
  },
  {
   "cell_type": "code",
   "execution_count": null,
   "metadata": {},
   "outputs": [],
   "source": [
    "subULx, subULy = -2531250., -68750.\n",
    "subLRx, subLRy = -18750., -3112500.\n",
    "find_25km_geographic_corners(subULx, subULy, subLRx, subLRy)"
   ]
  },
  {
   "cell_type": "code",
   "execution_count": null,
   "metadata": {},
   "outputs": [],
   "source": [
    "subULlat, subULlon = 66.994, -88.315\n",
    "subLRlat, subLRlon = 61.945, 0.\n",
    "find_25km_map_corners(subULlat, subULlon, subLRlat, subLRlon)"
   ]
  },
  {
   "cell_type": "markdown",
   "metadata": {
    "scrolled": false
   },
   "source": [
    "# EAsia"
   ]
  },
  {
   "cell_type": "code",
   "execution_count": null,
   "metadata": {},
   "outputs": [],
   "source": [
    "subULlat, subULlon = 42.6, 152.0\n",
    "subLRlat, subLRlon = 34.5, 119.0\n",
    "find_25km_map_corners(subULlat, subULlon, subLRlat, subLRlon)\n"
   ]
  },
  {
   "cell_type": "code",
   "execution_count": null,
   "metadata": {},
   "outputs": [],
   "source": [
    "test = 434.5000000001\n",
    "math.ceil(test + 0.5) - 0.5"
   ]
  },
  {
   "cell_type": "code",
   "execution_count": null,
   "metadata": {},
   "outputs": [],
   "source": [
    "print(\"test = %.12f\" % 0.5)"
   ]
  },
  {
   "cell_type": "code",
   "execution_count": null,
   "metadata": {},
   "outputs": [],
   "source": []
  }
 ],
 "metadata": {
  "kernelspec": {
   "display_name": "Python 3",
   "language": "python",
   "name": "python3"
  },
  "language_info": {
   "codemirror_mode": {
    "name": "ipython",
    "version": 3
   },
   "file_extension": ".py",
   "mimetype": "text/x-python",
   "name": "python",
   "nbconvert_exporter": "python",
   "pygments_lexer": "ipython3",
   "version": "3.4.5"
  }
 },
 "nbformat": 4,
 "nbformat_minor": 2
}
