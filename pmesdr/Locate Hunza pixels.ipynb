{
 "cells": [
  {
   "cell_type": "markdown",
   "metadata": {},
   "source": [
    "# Locate Hunza pixels\n",
    "\n",
    "Figure out lat/lon locations of Joan's pixels of interest in the Hunza"
   ]
  },
  {
   "cell_type": "code",
   "execution_count": null,
   "metadata": {},
   "outputs": [],
   "source": [
    "%pylab notebook\n",
    "from cetbtools.ease2conv import Ease2Transform\n",
    "import matplotlib.pyplot as plt\n",
    "from netCDF4 import Dataset\n",
    "import numpy as np"
   ]
  },
  {
   "cell_type": "markdown",
   "metadata": {},
   "source": [
    "Read a UIB cube to get projected and lat/lon coordinates.  \n",
    "Any cube at a given resolution will do, they are all the same.\n",
    "Use the UL corner of the cube to find out its corresponding offset from the \n",
    "full hemisphere grids."
   ]
  },
  {
   "cell_type": "code",
   "execution_count": null,
   "metadata": {
    "scrolled": true
   },
   "outputs": [],
   "source": [
    "def find_UIB_cube_offset(cubeType=None, verbose=False):\n",
    "    if not cubeType:\n",
    "        cubeType = '18H-GRD'\n",
    "        \n",
    "    cubeFile = \"%s%s%s%s\" % (\n",
    "        \"/Users/brodzik/cetb_data/AQUA_AMSRE/N/cubes_UIB/\",\n",
    "        \"CETB.cubefile.UIB.AQUA_AMSRE-\",\n",
    "        cubeType,\n",
    "        \"-RSS-v1.2.2003.TB.nc\")\n",
    "        \n",
    "    f = Dataset(cubeFile, \"r\", \"NETCDF4\")   \n",
    "    lats = f.variables['latitude'][:]\n",
    "    lons = f.variables['longitude'][:]\n",
    "    baseGPD = f.variables['crs'].long_name\n",
    "    f.close()\n",
    "    \n",
    "    # find and return the baseGPD (row, col) offset for cubeUL(0, 0) location\n",
    "    grid = Ease2Transform(baseGPD)\n",
    "    row_offset, col_offset = grid.geographic_to_grid(lats[0,0], lons[0,0])\n",
    "\n",
    "    if verbose:\n",
    "        print(\"%10s offsets for cubeType=%s\" % (baseGPD, cubeType))\n",
    "        print(\"(Add these offsets to cube (row, col) to get row, col in full hemisphere)\")\n",
    "        print(\"offset row = %f, offset col = %f\" % (row_offset, col_offset))\n",
    "        \n",
    "    return row_offset, col_offset    "
   ]
  },
  {
   "cell_type": "code",
   "execution_count": null,
   "metadata": {},
   "outputs": [],
   "source": [
    "types = ['18H-GRD', '18H-SIR', '36H-SIR']\n",
    "for thisType in types:\n",
    "    offset_row, offset_col = find_UIB_cube_offset(cubeType=thisType, verbose=True)"
   ]
  },
  {
   "cell_type": "code",
   "execution_count": null,
   "metadata": {
    "scrolled": true
   },
   "outputs": [],
   "source": [
    "cubeFile = \"CETB.cubefile.UIB.AQUA_AMSRE-18H-GRD-RSS-v1.2.2003.TB.nc\"\n",
    "f = Dataset(cubeFile, \"r\", \"NETCDF4\")\n",
    "x = f.variables['x'][:]\n",
    "y = f.variables['y'][:]\n",
    "lats = f.variables['latitude'][:]\n",
    "lons = f.variables['longitude'][:]\n",
    "print(f.variables['crs'].long_name)\n",
    "f.close()"
   ]
  },
  {
   "cell_type": "markdown",
   "metadata": {},
   "source": [
    "Find out the subset UL corner geographic location and figure out \n",
    "which full hemisphere cell this corresponds to"
   ]
  },
  {
   "cell_type": "code",
   "execution_count": null,
   "metadata": {
    "scrolled": false
   },
   "outputs": [],
   "source": [
    "# Figures out the UIB cube subset row,col coordinates at a given lat,lon\n",
    "def grid_locations_of(lat, lon):\n",
    "    gpds = [\"EASE2_N3.125km\", \"EASE2_N6.25km\", \"EASE2_N25km\"]\n",
    "    types = [\"36H-SIR\", \"18H-SIR\", \"18H-GRD\"]\n",
    "    \n",
    "    print(\"Input lat, lon = %.6f, %.6f\" % (lat, lon))\n",
    "    rows = np.zeros((3))\n",
    "    cols = np.zeros((3))\n",
    "    for i, (thisGpd, thisType) in enumerate(zip(gpds, types)):\n",
    "        grid = Ease2Transform(thisGpd)\n",
    "        row, col = grid.geographic_to_grid(lat, lon)\n",
    "        print(\"%15s         : row, col = %.6f, %.6f\" % (thisGpd, row, col))\n",
    "        \n",
    "        # Get the cube offsets\n",
    "        offset_row, offset_col = find_UIB_cube_offset(\n",
    "            cubeType=thisType)\n",
    "        UIBrow = row - offset_row\n",
    "        UIBcol = col - offset_col\n",
    "        print(\"%15s(%s): row, col = %.6f, %.6f\" % (\"UIB\", thisType, UIBrow, UIBcol))\n",
    "        rows[i] = UIBrow\n",
    "        cols[i] = UIBcol\n",
    "\n",
    "    rows = (rows + 0.5).astype('int32')\n",
    "    cols = (cols + 0.5).astype('int32')\n",
    "\n",
    "    print(gpds)\n",
    "    print(\"%d %d %d %d %d %d\" % (\n",
    "        cols[0], rows[0],\n",
    "        cols[1], rows[1],\n",
    "        cols[2], rows[2]))\n",
    "    \n",
    "    \n",
    "    return (rows, cols)\n"
   ]
  },
  {
   "cell_type": "code",
   "execution_count": null,
   "metadata": {},
   "outputs": [],
   "source": [
    "subULlat, subULlon = 39.461846, 82.092837\n",
    "grid_locations_of(subULlat, subULlon)\n"
   ]
  },
  {
   "cell_type": "code",
   "execution_count": null,
   "metadata": {},
   "outputs": [],
   "source": [
    "Gilgitlat, Gilgitlon = 35.9261, 74.3711\n",
    "grid_locations_of(Gilgitlat, Gilgitlon)"
   ]
  },
  {
   "cell_type": "code",
   "execution_count": null,
   "metadata": {},
   "outputs": [],
   "source": [
    "Naltarlat, Naltarlon = 36.1667, 74.1833\n",
    "grid_locations_of(Naltarlat, Naltarlon)"
   ]
  },
  {
   "cell_type": "code",
   "execution_count": null,
   "metadata": {},
   "outputs": [],
   "source": [
    "# Ziarat\n",
    "lat, lon = 36.798, 74.482\n",
    "grid_locations_of(lat, lon)"
   ]
  },
  {
   "cell_type": "code",
   "execution_count": null,
   "metadata": {},
   "outputs": [],
   "source": [
    "# Khunjerab\n",
    "lat, lon = 36.8411,75.4192\n",
    "grid_locations_of(lat, lon)"
   ]
  },
  {
   "cell_type": "code",
   "execution_count": null,
   "metadata": {},
   "outputs": [],
   "source": [
    "def find_UIB_cube_geographic_at(row, col, cubeType=None, verbose=False):\n",
    "    if not cubeType:\n",
    "        cubeType = '36H-SIR'\n",
    "        \n",
    "    cubeFile = \"%s%s%s%s\" % (\n",
    "        \"/Users/brodzik/cetb_data/AQUA_AMSRE/N/cubes_UIB/\",\n",
    "        \"CETB.cubefile.UIB.AQUA_AMSRE-\",\n",
    "        cubeType,\n",
    "        \"-RSS-v1.2.2003.TB.nc\")\n",
    "        \n",
    "    f = Dataset(cubeFile, \"r\", \"NETCDF4\")   \n",
    "    lats = f.variables['latitude'][:]\n",
    "    lons = f.variables['longitude'][:]\n",
    "    baseGPD = f.variables['crs'].long_name\n",
    "    f.close()\n",
    "    \n",
    "    if verbose:\n",
    "        print(\"base=%10s for cubeType=%s\" % (baseGPD, cubeType))\n",
    "        print(\"row, col = %f, %f\" % (row, col))\n",
    "        print(\"lat, lon = %f, %f\" % (lats[row, col], lons[row, col]))\n",
    "        \n",
    "    return (lats[row, col], lons[row, col])"
   ]
  },
  {
   "cell_type": "code",
   "execution_count": null,
   "metadata": {},
   "outputs": [],
   "source": [
    "# Melt Onset pixels (in 3 km grid)\n",
    "pixel_cols = np.array([39, 30, 65, 61, 57, 50])\n",
    "pixel_rows = np.array([256, 253, 217, 243, 243, 254])\n",
    "for (row, col) in zip(pixel_rows, pixel_cols):\n",
    "    lat, lon = find_UIB_cube_geographic_at(row, col, verbose=True)\n",
    "    grid_locations_of(lat, lon)\n",
    "    print(\"\")"
   ]
  },
  {
   "cell_type": "markdown",
   "metadata": {},
   "source": [
    "# Plot Dainyor Bridge streamflow vs. Divide4 and Divide5 TBs/DAV\n"
   ]
  },
  {
   "cell_type": "code",
   "execution_count": null,
   "metadata": {},
   "outputs": [],
   "source": [
    "# Specify pixel label, lat, lon\n",
    "#label = \"Divide4\"\n",
    "#lat = 36.041678\n",
    "#lon = 74.880428\n",
    "label = \"Divide5\"\n",
    "lat = 36.163646\n",
    "lon = 74.848112\n"
   ]
  },
  {
   "cell_type": "code",
   "execution_count": null,
   "metadata": {},
   "outputs": [],
   "source": [
    "# Get pixel locations in respective grids:\n",
    "cols, rows = grid_locations_of(lat, lon)\n",
    "cols, rows"
   ]
  },
  {
   "cell_type": "code",
   "execution_count": null,
   "metadata": {},
   "outputs": [],
   "source": [
    "# AMSR-E data started mid-2002, so open the 36V SIR cubefile for 2003\n",
    "# and pull the 36V TBs for the 3km pixels"
   ]
  },
  {
   "cell_type": "code",
   "execution_count": null,
   "metadata": {},
   "outputs": [],
   "source": [
    "cubeType = '36V-SIR'\n",
    "year = 2003\n",
    "cubeFile = \"%s%s%s%s\" % (\n",
    "        \"/Users/brodzik/cetb_data/AQUA_AMSRE/N/cubes_UIB/\",\n",
    "        \"CETB.cubefile.UIB.AQUA_AMSRE-\",\n",
    "        cubeType,\n",
    "        \"-RSS-v1.2.%4d.TB.nc\" % (year))\n",
    "f = Dataset(cubeFile, \"r\", \"NETCDF4\")   \n",
    "t36V = f.variables['TB'][:]\n",
    "time = f.variables['time'][:]\n",
    "f.close()\n",
    "print(\"%s, TB=\" % label)\n",
    "ts = t36V[:, rows[0], cols[0]]\n",
    "print(ts)\n"
   ]
  },
  {
   "cell_type": "code",
   "execution_count": null,
   "metadata": {},
   "outputs": [],
   "source": [
    "dav = ts[1::2] - ts[0::2]"
   ]
  },
  {
   "cell_type": "code",
   "execution_count": null,
   "metadata": {
    "scrolled": false
   },
   "outputs": [],
   "source": [
    "fig, ax = plt.subplots(2)\n",
    "ax[0].plot(ts)\n",
    "ax[1].plot(dav)\n"
   ]
  },
  {
   "cell_type": "code",
   "execution_count": null,
   "metadata": {},
   "outputs": [],
   "source": [
    "subULlat, subULlon = 42.6, 152.0\n",
    "subLRlat, subLRlon = 34.5, 119.0\n",
    "find_25km_map_corners(subULlat, subULlon, subLRlat, subLRlon)\n"
   ]
  },
  {
   "cell_type": "code",
   "execution_count": null,
   "metadata": {},
   "outputs": [],
   "source": [
    "test = np.arange(10)\n",
    "test"
   ]
  },
  {
   "cell_type": "code",
   "execution_count": null,
   "metadata": {},
   "outputs": [],
   "source": [
    "morning = test[0::2]\n",
    "evening = test[1::2]"
   ]
  },
  {
   "cell_type": "code",
   "execution_count": null,
   "metadata": {},
   "outputs": [],
   "source": [
    "print(evening)\n",
    "print(morning)"
   ]
  },
  {
   "cell_type": "code",
   "execution_count": null,
   "metadata": {},
   "outputs": [],
   "source": [
    "cols = np.array([0.5, 2.1, 3.8])\n",
    "cols"
   ]
  },
  {
   "cell_type": "code",
   "execution_count": null,
   "metadata": {},
   "outputs": [],
   "source": [
    "cols + 0.5"
   ]
  },
  {
   "cell_type": "code",
   "execution_count": null,
   "metadata": {},
   "outputs": [],
   "source": [
    "(cols + 0.5).astype('int32')"
   ]
  },
  {
   "cell_type": "code",
   "execution_count": null,
   "metadata": {},
   "outputs": [],
   "source": []
  }
 ],
 "metadata": {
  "kernelspec": {
   "display_name": "Python 3",
   "language": "python",
   "name": "python3"
  },
  "language_info": {
   "codemirror_mode": {
    "name": "ipython",
    "version": 3
   },
   "file_extension": ".py",
   "mimetype": "text/x-python",
   "name": "python",
   "nbconvert_exporter": "python",
   "pygments_lexer": "ipython3",
   "version": "3.6.7"
  }
 },
 "nbformat": 4,
 "nbformat_minor": 2
}
