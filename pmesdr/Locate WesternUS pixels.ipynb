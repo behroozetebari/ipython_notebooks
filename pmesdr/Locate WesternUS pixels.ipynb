{
 "cells": [
  {
   "cell_type": "markdown",
   "metadata": {},
   "source": [
    "# Locate WesternUS pixels\n",
    "\n",
    "Figure out pixel coordinates of Joan's pixels in Western US"
   ]
  },
  {
   "cell_type": "code",
   "execution_count": 1,
   "metadata": {},
   "outputs": [
    {
     "name": "stdout",
     "output_type": "stream",
     "text": [
      "Populating the interactive namespace from numpy and matplotlib\n"
     ]
    }
   ],
   "source": [
    "%pylab notebook\n",
    "from cetbtools.ease2conv import Ease2Transform\n",
    "import matplotlib.pyplot as plt\n",
    "from netCDF4 import Dataset\n",
    "import numpy as np"
   ]
  },
  {
   "cell_type": "markdown",
   "metadata": {},
   "source": [
    "Read a WesternUS cube to get projected and lat/lon coordinates.  \n",
    "Any cube at a given resolution will do, they are all the same.\n",
    "Use the UL corner of the cube to find out its corresponding offset from the \n",
    "full hemisphere grids."
   ]
  },
  {
   "cell_type": "code",
   "execution_count": 4,
   "metadata": {
    "scrolled": true
   },
   "outputs": [],
   "source": [
    "def find_WesternUS_cube_offset(cubeType=None, verbose=False):\n",
    "    if not cubeType:\n",
    "        cubeType = '18H-GRD'\n",
    "        \n",
    "    cubeFile = \"%s%s%s%s\" % (\n",
    "        \"/work/PMESDR/CETB_v1.3/AQUA_AMSRE/N/cubes_WesternUS/\",\n",
    "        \"CETB.cubefile.WesternUS.AQUA_AMSRE-\",\n",
    "        cubeType,\n",
    "        \"-RSS-v1.3.2003.TB.nc\")\n",
    "        \n",
    "    f = Dataset(cubeFile, \"r\", \"NETCDF4\")   \n",
    "    lats = f.variables['latitude'][:]\n",
    "    lons = f.variables['longitude'][:]\n",
    "    baseGPD = f.variables['crs'].long_name\n",
    "    f.close()\n",
    "    \n",
    "    # find and return the baseGPD (row, col) offset for cubeUL(0, 0) location\n",
    "    grid = Ease2Transform(baseGPD)\n",
    "    row_offset, col_offset = grid.geographic_to_grid(lats[0,0], lons[0,0])\n",
    "\n",
    "    if verbose:\n",
    "        print(\"%10s offsets for cubeType=%s\" % (baseGPD, cubeType))\n",
    "        print(\"(Add these offsets to cube (row, col) to get row, col in full hemisphere)\")\n",
    "        print(\"offset row = %f, offset col = %f\" % (row_offset, col_offset))\n",
    "        \n",
    "    return row_offset, col_offset    "
   ]
  },
  {
   "cell_type": "code",
   "execution_count": 5,
   "metadata": {},
   "outputs": [
    {
     "name": "stdout",
     "output_type": "stream",
     "text": [
      "EASE2_N25km offsets for cubeType=18H-GRD\n",
      "(Add these offsets to cube (row, col) to get row, col in full hemisphere)\n",
      "offset row = 237.000000, offset col = 117.000000\n",
      "EASE2_N6.25km offsets for cubeType=18H-SIR\n",
      "(Add these offsets to cube (row, col) to get row, col in full hemisphere)\n",
      "offset row = 948.000000, offset col = 468.000000\n",
      "EASE2_N3.125km offsets for cubeType=36H-SIR\n",
      "(Add these offsets to cube (row, col) to get row, col in full hemisphere)\n",
      "offset row = 1896.000000, offset col = 936.000000\n"
     ]
    }
   ],
   "source": [
    "types = ['18H-GRD', '18H-SIR', '36H-SIR']\n",
    "for thisType in types:\n",
    "    offset_row, offset_col = find_WesternUS_cube_offset(cubeType=thisType, verbose=True)"
   ]
  },
  {
   "cell_type": "code",
   "execution_count": 6,
   "metadata": {
    "scrolled": true
   },
   "outputs": [
    {
     "name": "stdout",
     "output_type": "stream",
     "text": [
      "EASE2_N25km\n"
     ]
    }
   ],
   "source": [
    "cubeFile = \"/work/PMESDR/CETB_v1.3/AQUA_AMSRE/N/cubes_WesternUS/CETB.cubefile.WesternUS.AQUA_AMSRE-18H-GRD-RSS-v1.3.2003.TB.nc\"\n",
    "f = Dataset(cubeFile, \"r\", \"NETCDF4\")\n",
    "x = f.variables['x'][:]\n",
    "y = f.variables['y'][:]\n",
    "lats = f.variables['latitude'][:]\n",
    "lons = f.variables['longitude'][:]\n",
    "print(f.variables['crs'].long_name)\n",
    "f.close()"
   ]
  },
  {
   "cell_type": "markdown",
   "metadata": {},
   "source": [
    "Find out the subset UL corner geographic location and figure out \n",
    "which full hemisphere cell this corresponds to"
   ]
  },
  {
   "cell_type": "code",
   "execution_count": 9,
   "metadata": {
    "scrolled": false
   },
   "outputs": [],
   "source": [
    "# Figures out the WesternUS cube subset row,col coordinates at a given lat,lon\n",
    "def grid_locations_of(lat, lon):\n",
    "    gpds = [\"EASE2_N3.125km\", \"EASE2_N6.25km\", \"EASE2_N25km\"]\n",
    "    types = [\"36H-SIR\", \"18H-SIR\", \"18H-GRD\"]\n",
    "    \n",
    "    print(\"Input lat, lon = %.6f, %.6f\" % (lat, lon))\n",
    "    rows = np.zeros((3))\n",
    "    cols = np.zeros((3))\n",
    "    for i, (thisGpd, thisType) in enumerate(zip(gpds, types)):\n",
    "        grid = Ease2Transform(thisGpd)\n",
    "        row, col = grid.geographic_to_grid(lat, lon)\n",
    "        print(\"%15s         : row, col = %.6f, %.6f\" % (thisGpd, row, col))\n",
    "        \n",
    "        # Get the cube offsets\n",
    "        offset_row, offset_col = find_WesternUS_cube_offset(\n",
    "            cubeType=thisType)\n",
    "        WesternUSrow = row - offset_row\n",
    "        WesternUScol = col - offset_col\n",
    "        print(\"%15s(%s): row, col = %.6f, %.6f\" % (\"WesternUS\", thisType, WesternUSrow, WesternUScol))\n",
    "        rows[i] = WesternUSrow\n",
    "        cols[i] = WesternUScol\n",
    "\n",
    "    rows = (rows + 0.5).astype('int32')\n",
    "    cols = (cols + 0.5).astype('int32')\n",
    "\n",
    "    print(gpds)\n",
    "    print(\"col=%d row=%d col=%d row=%d col=%d row=%d\" % (\n",
    "        cols[0], rows[0],\n",
    "        cols[1], rows[1],\n",
    "        cols[2], rows[2]))\n",
    "    \n",
    "    \n",
    "    return (rows, cols)\n"
   ]
  },
  {
   "cell_type": "code",
   "execution_count": 10,
   "metadata": {},
   "outputs": [
    {
     "name": "stdout",
     "output_type": "stream",
     "text": [
      "Input lat, lon = 52.140000, -117.290000\n",
      " EASE2_N3.125km         : row, col = 2271.095756, 1700.233414\n",
      "      WesternUS(36H-SIR): row, col = 375.095756, 764.233414\n",
      "  EASE2_N6.25km         : row, col = 1135.297878, 849.866707\n",
      "      WesternUS(18H-SIR): row, col = 187.297878, 381.866707\n",
      "    EASE2_N25km         : row, col = 283.449469, 212.091677\n",
      "      WesternUS(18H-GRD): row, col = 46.449469, 95.091677\n",
      "['EASE2_N3.125km', 'EASE2_N6.25km', 'EASE2_N25km']\n",
      "col=764 row=375 col=382 row=187 col=95 row=46\n"
     ]
    },
    {
     "data": {
      "text/plain": [
       "(array([375, 187,  46], dtype=int32), array([764, 382,  95], dtype=int32))"
      ]
     },
     "execution_count": 10,
     "metadata": {},
     "output_type": "execute_result"
    }
   ],
   "source": [
    "# Columbia icefield\n",
    "lat, lon = 52.14, -117.29\n",
    "grid_locations_of(lat, lon)\n"
   ]
  },
  {
   "cell_type": "code",
   "execution_count": 11,
   "metadata": {},
   "outputs": [
    {
     "name": "stdout",
     "output_type": "stream",
     "text": [
      "Input lat, lon = 37.906880, -107.726265\n",
      " EASE2_N3.125km         : row, col = 2333.164037, 1170.308742\n",
      "      WesternUS(36H-SIR): row, col = 437.164037, 234.308742\n",
      "  EASE2_N6.25km         : row, col = 1166.332019, 584.904371\n",
      "      WesternUS(18H-SIR): row, col = 218.332019, 116.904371\n",
      "    EASE2_N25km         : row, col = 291.208005, 145.851093\n",
      "      WesternUS(18H-GRD): row, col = 54.208005, 28.851093\n",
      "['EASE2_N3.125km', 'EASE2_N6.25km', 'EASE2_N25km']\n",
      "col=234 row=437 col=117 row=218 col=29 row=54\n"
     ]
    },
    {
     "data": {
      "text/plain": [
       "(array([437, 218,  54], dtype=int32), array([234, 117,  29], dtype=int32))"
      ]
     },
     "execution_count": 11,
     "metadata": {},
     "output_type": "execute_result"
    }
   ],
   "source": [
    "# SBSP Senator Beck, Colorado\n",
    "lat, lon = 37.90688, -107.7262654\n",
    "grid_locations_of(lat, lon)\n"
   ]
  },
  {
   "cell_type": "code",
   "execution_count": 12,
   "metadata": {},
   "outputs": [
    {
     "name": "stdout",
     "output_type": "stream",
     "text": [
      "Input lat, lon = 50.086390, -105.948056\n",
      " EASE2_N3.125km         : row, col = 2495.953563, 1537.323340\n",
      "      WesternUS(36H-SIR): row, col = 599.953563, 601.323340\n",
      "  EASE2_N6.25km         : row, col = 1247.726781, 768.411670\n",
      "      WesternUS(18H-SIR): row, col = 299.726781, 300.411670\n",
      "    EASE2_N25km         : row, col = 311.556695, 191.727917\n",
      "      WesternUS(18H-GRD): row, col = 74.556695, 74.727918\n",
      "['EASE2_N3.125km', 'EASE2_N6.25km', 'EASE2_N25km']\n",
      "col=601 row=600 col=300 row=300 col=75 row=75\n"
     ]
    },
    {
     "data": {
      "text/plain": [
       "(array([600, 300,  75], dtype=int32), array([601, 300,  75], dtype=int32))"
      ]
     },
     "execution_count": 12,
     "metadata": {},
     "output_type": "execute_result"
    }
   ],
   "source": [
    "# OWL Old Wives Lake\n",
    "lat, lon = 50.08639, -105.9480556\n",
    "grid_locations_of(lat, lon)"
   ]
  },
  {
   "cell_type": "code",
   "execution_count": null,
   "metadata": {},
   "outputs": [],
   "source": []
  }
 ],
 "metadata": {
  "kernelspec": {
   "display_name": "Python 3",
   "language": "python",
   "name": "python3"
  },
  "language_info": {
   "codemirror_mode": {
    "name": "ipython",
    "version": 3
   },
   "file_extension": ".py",
   "mimetype": "text/x-python",
   "name": "python",
   "nbconvert_exporter": "python",
   "pygments_lexer": "ipython3",
   "version": "3.6.7"
  }
 },
 "nbformat": 4,
 "nbformat_minor": 2
}
