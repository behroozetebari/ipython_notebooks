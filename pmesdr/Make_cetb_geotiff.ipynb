{
 "cells": [
  {
   "cell_type": "code",
   "execution_count": null,
   "metadata": {},
   "outputs": [],
   "source": [
    "import cetbtools.inspector as ci"
   ]
  },
  {
   "cell_type": "code",
   "execution_count": null,
   "metadata": {},
   "outputs": [],
   "source": [
    "%cd /Users/brodzik/cetb_data/v1.3/AQUA_AMSRE/2011270\n",
    "%ls"
   ]
  },
  {
   "cell_type": "code",
   "execution_count": null,
   "metadata": {},
   "outputs": [],
   "source": [
    "help(ci)"
   ]
  },
  {
   "cell_type": "code",
   "execution_count": null,
   "metadata": {},
   "outputs": [],
   "source": [
    "ci.make_cetb_geotiff(cetb_filename=\"EASE2_N12.5km.F13_SSMI.1997061.37H.M.SIR.CSU.v0.1.nc\", verbose=True)"
   ]
  },
  {
   "cell_type": "code",
   "execution_count": null,
   "metadata": {
    "scrolled": false
   },
   "outputs": [],
   "source": [
    "ci.make_cetb_geotiff(cetb_filename=\"EASE2_T12.5km.F13_SSMI.1997061.37H.A.SIR.CSU.v0.1.nc\", verbose=True)"
   ]
  },
  {
   "cell_type": "markdown",
   "metadata": {},
   "source": [
    "Joan's Himalayan region: 27N, 105E to 46N, 62E"
   ]
  },
  {
   "cell_type": "code",
   "execution_count": null,
   "metadata": {},
   "outputs": [],
   "source": [
    "lat, lon = 27., 105.\n",
    "(row, col) = T25grid.geographic_to_grid(lat, lon)\n",
    "(x, y) = T25grid.grid_to_map(row, col)\n",
    "print \"lat/lon=\", lat, lon\n",
    "print \"row/col=\", row, col\n",
    "print \"x/y =   \", x, y\n"
   ]
  },
  {
   "cell_type": "code",
   "execution_count": null,
   "metadata": {},
   "outputs": [],
   "source": [
    "lat, lon = 46., 62.\n",
    "(row, col) = T25grid.geographic_to_grid(lat, lon)\n",
    "(x, y) = T25grid.grid_to_map(row, col)\n",
    "print \"lat/lon=\", lat, lon\n",
    "print \"row/col=\", row, col\n",
    "print \"x/y =   \", x, y\n",
    "\n"
   ]
  },
  {
   "cell_type": "markdown",
   "metadata": {},
   "source": [
    "Russian High Arctic: 82N, 45E to 70N, 110E"
   ]
  },
  {
   "cell_type": "code",
   "execution_count": null,
   "metadata": {},
   "outputs": [],
   "source": [
    "lat, lon = 82., 45.\n",
    "(row, col) = N25grid.geographic_to_grid(lat, lon)\n",
    "(x, y) = N25grid.grid_to_map(row, col)\n",
    "print \"lat/lon=\", lat, lon\n",
    "print \"row/col=\", row, col\n",
    "print \"x/y =   \", x, y\n",
    "lat, lon = 70., 110.\n",
    "(row, col) = N25grid.geographic_to_grid(lat, lon)\n",
    "(x, y) = N25grid.grid_to_map(row, col)\n",
    "print \"lat/lon=\", lat, lon\n",
    "print \"row/col=\", row, col\n",
    "print \"x/y =   \", x, y\n"
   ]
  },
  {
   "cell_type": "markdown",
   "metadata": {},
   "source": [
    "Alaska and Yukon River: 73N, 170W to 55N, 125W"
   ]
  },
  {
   "cell_type": "code",
   "execution_count": null,
   "metadata": {},
   "outputs": [],
   "source": [
    "lat, lon = 73., -170.\n",
    "(row, col) = N25grid.geographic_to_grid(lat, lon)\n",
    "(x, y) = N25grid.grid_to_map(row, col)\n",
    "print \"lat/lon=\", lat, lon\n",
    "print \"row/col=\", row, col\n",
    "print \"x/y =   \", x, y\n",
    "lat, lon = 55., -125.\n",
    "(row, col) = N25grid.geographic_to_grid(lat, lon)\n",
    "(x, y) = N25grid.grid_to_map(row, col)\n",
    "print \"lat/lon=\", lat, lon\n",
    "print \"row/col=\", row, col\n",
    "print \"x/y =   \", x, y\n"
   ]
  },
  {
   "cell_type": "code",
   "execution_count": null,
   "metadata": {},
   "outputs": [],
   "source": []
  }
 ],
 "metadata": {
  "kernelspec": {
   "display_name": "Python 3",
   "language": "python",
   "name": "python3"
  },
  "language_info": {
   "codemirror_mode": {
    "name": "ipython",
    "version": 3
   },
   "file_extension": ".py",
   "mimetype": "text/x-python",
   "name": "python",
   "nbconvert_exporter": "python",
   "pygments_lexer": "ipython3",
   "version": "3.6.2"
  }
 },
 "nbformat": 4,
 "nbformat_minor": 1
}
