{
 "cells": [
  {
   "cell_type": "code",
   "execution_count": 1,
   "metadata": {
    "collapsed": false
   },
   "outputs": [
    {
     "name": "stderr",
     "output_type": "stream",
     "text": [
      "/Users/brodzik/miniconda/envs/pmesdr/lib/python2.7/site-packages/matplotlib/font_manager.py:273: UserWarning: Matplotlib is building the font cache using fc-list. This may take a moment.\n",
      "  warnings.warn('Matplotlib is building the font cache using fc-list. This may take a moment.')\n"
     ]
    },
    {
     "name": "stdout",
     "output_type": "stream",
     "text": [
      "Populating the interactive namespace from numpy and matplotlib\n"
     ]
    },
    {
     "name": "stderr",
     "output_type": "stream",
     "text": [
      "/Users/brodzik/miniconda/envs/pmesdr/lib/python2.7/site-packages/matplotlib/__init__.py:1350: UserWarning:  This call to matplotlib.use() has no effect\n",
      "because the backend has already been chosen;\n",
      "matplotlib.use() must be called *before* pylab, matplotlib.pyplot,\n",
      "or matplotlib.backends is imported for the first time.\n",
      "\n",
      "  warnings.warn(_use_error_msg)\n"
     ]
    }
   ],
   "source": [
    "%pylab notebook\n",
    "import cetbtools.inspector as ci"
   ]
  },
  {
   "cell_type": "code",
   "execution_count": 6,
   "metadata": {
    "collapsed": false
   },
   "outputs": [
    {
     "name": "stdout",
     "output_type": "stream",
     "text": [
      "/Users/brodzik/tmp/F13\n",
      "EASE2_N12.5km.F13_SSMI.1997061.37H.M.SIR.CSU.v0.1.nc\r\n",
      "EASE2_T12.5km.F13_SSMI.1997061.37H.A.SIR.CSU.v0.1.nc\r\n"
     ]
    }
   ],
   "source": [
    "%cd /Users/brodzik/tmp/F13\n",
    "%ls"
   ]
  },
  {
   "cell_type": "code",
   "execution_count": null,
   "metadata": {
    "collapsed": false
   },
   "outputs": [],
   "source": [
    "help(ci)"
   ]
  },
  {
   "cell_type": "code",
   "execution_count": 7,
   "metadata": {
    "collapsed": false
   },
   "outputs": [
    {
     "name": "stderr",
     "output_type": "stream",
     "text": [
      "\n",
      "cetbtools.inspector:make_cetb_geotiff : TB geotiff image saved to: EASE2_N12.5km.F13_SSMI.1997061.37H.M.SIR.CSU.v0.1.nc.SIR_TB.tif\n"
     ]
    },
    {
     "data": {
      "text/plain": [
       "True"
      ]
     },
     "execution_count": 7,
     "metadata": {},
     "output_type": "execute_result"
    }
   ],
   "source": [
    "ci.make_cetb_geotiff(cetb_filename=\"EASE2_N12.5km.F13_SSMI.1997061.37H.M.SIR.CSU.v0.1.nc\", verbose=True)"
   ]
  },
  {
   "cell_type": "code",
   "execution_count": 8,
   "metadata": {
    "collapsed": false,
    "scrolled": false
   },
   "outputs": [
    {
     "name": "stderr",
     "output_type": "stream",
     "text": [
      "\n",
      "cetbtools.inspector:make_cetb_geotiff : TB geotiff image saved to: EASE2_T12.5km.F13_SSMI.1997061.37H.A.SIR.CSU.v0.1.nc.SIR_TB.tif\n"
     ]
    },
    {
     "data": {
      "text/plain": [
       "True"
      ]
     },
     "execution_count": 8,
     "metadata": {},
     "output_type": "execute_result"
    }
   ],
   "source": [
    "ci.make_cetb_geotiff(cetb_filename=\"EASE2_T12.5km.F13_SSMI.1997061.37H.A.SIR.CSU.v0.1.nc\", verbose=True)"
   ]
  },
  {
   "cell_type": "markdown",
   "metadata": {},
   "source": [
    "Joan's Himalayan region: 27N, 105E to 46N, 62E"
   ]
  },
  {
   "cell_type": "code",
   "execution_count": null,
   "metadata": {
    "collapsed": false
   },
   "outputs": [],
   "source": [
    "lat, lon = 27., 105.\n",
    "(row, col) = T25grid.geographic_to_grid(lat, lon)\n",
    "(x, y) = T25grid.grid_to_map(row, col)\n",
    "print \"lat/lon=\", lat, lon\n",
    "print \"row/col=\", row, col\n",
    "print \"x/y =   \", x, y\n"
   ]
  },
  {
   "cell_type": "code",
   "execution_count": null,
   "metadata": {
    "collapsed": false
   },
   "outputs": [],
   "source": [
    "lat, lon = 46., 62.\n",
    "(row, col) = T25grid.geographic_to_grid(lat, lon)\n",
    "(x, y) = T25grid.grid_to_map(row, col)\n",
    "print \"lat/lon=\", lat, lon\n",
    "print \"row/col=\", row, col\n",
    "print \"x/y =   \", x, y\n",
    "\n"
   ]
  },
  {
   "cell_type": "markdown",
   "metadata": {},
   "source": [
    "Russian High Arctic: 82N, 45E to 70N, 110E"
   ]
  },
  {
   "cell_type": "code",
   "execution_count": null,
   "metadata": {
    "collapsed": false
   },
   "outputs": [],
   "source": [
    "lat, lon = 82., 45.\n",
    "(row, col) = N25grid.geographic_to_grid(lat, lon)\n",
    "(x, y) = N25grid.grid_to_map(row, col)\n",
    "print \"lat/lon=\", lat, lon\n",
    "print \"row/col=\", row, col\n",
    "print \"x/y =   \", x, y\n",
    "lat, lon = 70., 110.\n",
    "(row, col) = N25grid.geographic_to_grid(lat, lon)\n",
    "(x, y) = N25grid.grid_to_map(row, col)\n",
    "print \"lat/lon=\", lat, lon\n",
    "print \"row/col=\", row, col\n",
    "print \"x/y =   \", x, y\n"
   ]
  },
  {
   "cell_type": "markdown",
   "metadata": {},
   "source": [
    "Alaska and Yukon River: 73N, 170W to 55N, 125W"
   ]
  },
  {
   "cell_type": "code",
   "execution_count": null,
   "metadata": {
    "collapsed": false
   },
   "outputs": [],
   "source": [
    "lat, lon = 73., -170.\n",
    "(row, col) = N25grid.geographic_to_grid(lat, lon)\n",
    "(x, y) = N25grid.grid_to_map(row, col)\n",
    "print \"lat/lon=\", lat, lon\n",
    "print \"row/col=\", row, col\n",
    "print \"x/y =   \", x, y\n",
    "lat, lon = 55., -125.\n",
    "(row, col) = N25grid.geographic_to_grid(lat, lon)\n",
    "(x, y) = N25grid.grid_to_map(row, col)\n",
    "print \"lat/lon=\", lat, lon\n",
    "print \"row/col=\", row, col\n",
    "print \"x/y =   \", x, y\n"
   ]
  },
  {
   "cell_type": "code",
   "execution_count": null,
   "metadata": {
    "collapsed": true
   },
   "outputs": [],
   "source": []
  }
 ],
 "metadata": {
  "kernelspec": {
   "display_name": "Python 2",
   "language": "python",
   "name": "python2"
  },
  "language_info": {
   "codemirror_mode": {
    "name": "ipython",
    "version": 2
   },
   "file_extension": ".py",
   "mimetype": "text/x-python",
   "name": "python",
   "nbconvert_exporter": "python",
   "pygments_lexer": "ipython2",
   "version": "2.7.12"
  }
 },
 "nbformat": 4,
 "nbformat_minor": 0
}
