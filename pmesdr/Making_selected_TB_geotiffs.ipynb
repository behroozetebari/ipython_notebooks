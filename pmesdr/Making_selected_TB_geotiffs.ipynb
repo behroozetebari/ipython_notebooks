{
 "cells": [
  {
   "cell_type": "code",
   "execution_count": 1,
   "metadata": {},
   "outputs": [],
   "source": [
    "import glob\n",
    "from cetbtools.inspector import make_cetb_geotiff"
   ]
  },
  {
   "cell_type": "code",
   "execution_count": 6,
   "metadata": {
    "scrolled": true
   },
   "outputs": [
    {
     "name": "stdout",
     "output_type": "stream",
     "text": [
      "/Users/brodzik/cetb_data/v1.2/AQUA_AMSRE/N/2004.36V\n",
      "NSIDC-0630-EASE2_N25km-AQUA_AMSRE-2004165-36V-E-GRD-RSS-v1.2.nc\r\n",
      "NSIDC-0630-EASE2_N25km-AQUA_AMSRE-2004165-36V-M-GRD-RSS-v1.2.nc\r\n",
      "NSIDC-0630-EASE2_N3.125km-AQUA_AMSRE-2004165-36V-E-SIR-RSS-v1.2.nc\r\n",
      "NSIDC-0630-EASE2_N3.125km-AQUA_AMSRE-2004165-36V-M-SIR-RSS-v1.2.nc\r\n"
     ]
    }
   ],
   "source": [
    "%cd /Users/brodzik/cetb_data/v1.2/AQUA_AMSRE/N/2004.36V\n",
    "%ls\n"
   ]
  },
  {
   "cell_type": "code",
   "execution_count": 7,
   "metadata": {},
   "outputs": [
    {
     "data": {
      "text/plain": [
       "['NSIDC-0630-EASE2_N25km-AQUA_AMSRE-2004165-36V-E-GRD-RSS-v1.2.nc',\n",
       " 'NSIDC-0630-EASE2_N25km-AQUA_AMSRE-2004165-36V-M-GRD-RSS-v1.2.nc',\n",
       " 'NSIDC-0630-EASE2_N3.125km-AQUA_AMSRE-2004165-36V-E-SIR-RSS-v1.2.nc',\n",
       " 'NSIDC-0630-EASE2_N3.125km-AQUA_AMSRE-2004165-36V-M-SIR-RSS-v1.2.nc']"
      ]
     },
     "execution_count": 7,
     "metadata": {},
     "output_type": "execute_result"
    }
   ],
   "source": [
    "files = glob.glob('*2004165*.nc')\n",
    "files"
   ]
  },
  {
   "cell_type": "code",
   "execution_count": 9,
   "metadata": {},
   "outputs": [
    {
     "name": "stdout",
     "output_type": "stream",
     "text": [
      "next file NSIDC-0630-EASE2_N25km-AQUA_AMSRE-2004165-36V-E-GRD-RSS-v1.2.nc\n",
      "next file NSIDC-0630-EASE2_N25km-AQUA_AMSRE-2004165-36V-M-GRD-RSS-v1.2.nc\n"
     ]
    },
    {
     "name": "stderr",
     "output_type": "stream",
     "text": [
      "\n",
      "cetbtools.inspector:make_cetb_geotiff : TB geotiff image saved to: NSIDC-0630-EASE2_N25km-AQUA_AMSRE-2004165-36V-E-GRD-RSS-v1.2.nc.GRD_TB.tif\n",
      "\n",
      "cetbtools.inspector:make_cetb_geotiff : TB geotiff image saved to: NSIDC-0630-EASE2_N25km-AQUA_AMSRE-2004165-36V-M-GRD-RSS-v1.2.nc.GRD_TB.tif\n"
     ]
    },
    {
     "name": "stdout",
     "output_type": "stream",
     "text": [
      "next file NSIDC-0630-EASE2_N3.125km-AQUA_AMSRE-2004165-36V-E-SIR-RSS-v1.2.nc\n"
     ]
    },
    {
     "name": "stderr",
     "output_type": "stream",
     "text": [
      "\n",
      "cetbtools.inspector:make_cetb_geotiff : TB geotiff image saved to: NSIDC-0630-EASE2_N3.125km-AQUA_AMSRE-2004165-36V-E-SIR-RSS-v1.2.nc.SIR_TB.tif\n"
     ]
    },
    {
     "name": "stdout",
     "output_type": "stream",
     "text": [
      "next file NSIDC-0630-EASE2_N3.125km-AQUA_AMSRE-2004165-36V-M-SIR-RSS-v1.2.nc\n"
     ]
    },
    {
     "name": "stderr",
     "output_type": "stream",
     "text": [
      "\n",
      "cetbtools.inspector:make_cetb_geotiff : TB geotiff image saved to: NSIDC-0630-EASE2_N3.125km-AQUA_AMSRE-2004165-36V-M-SIR-RSS-v1.2.nc.SIR_TB.tif\n"
     ]
    }
   ],
   "source": [
    "for file in files:\n",
    "    print(\"next file \" + file)\n",
    "    make_cetb_geotiff(cetb_filename=file,verbose=True)\n"
   ]
  },
  {
   "cell_type": "code",
   "execution_count": null,
   "metadata": {},
   "outputs": [],
   "source": [
    "files = glob.glob('*3.125*37V*')"
   ]
  },
  {
   "cell_type": "code",
   "execution_count": null,
   "metadata": {},
   "outputs": [],
   "source": [
    "files"
   ]
  },
  {
   "cell_type": "code",
   "execution_count": null,
   "metadata": {},
   "outputs": [],
   "source": [
    "for file in files:\n",
    "    print \"next file \" + file\n",
    "    inspector.make_cetb_geotiff(cetb_filename=file,verbose=True)"
   ]
  },
  {
   "cell_type": "code",
   "execution_count": null,
   "metadata": {},
   "outputs": [],
   "source": []
  }
 ],
 "metadata": {
  "kernelspec": {
   "display_name": "Python 3",
   "language": "python",
   "name": "python3"
  },
  "language_info": {
   "codemirror_mode": {
    "name": "ipython",
    "version": 3
   },
   "file_extension": ".py",
   "mimetype": "text/x-python",
   "name": "python",
   "nbconvert_exporter": "python",
   "pygments_lexer": "ipython3",
   "version": "3.6.2"
  }
 },
 "nbformat": 4,
 "nbformat_minor": 1
}
