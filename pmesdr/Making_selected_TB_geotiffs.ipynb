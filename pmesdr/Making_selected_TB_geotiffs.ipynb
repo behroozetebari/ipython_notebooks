{
 "cells": [
  {
   "cell_type": "code",
   "execution_count": 1,
   "metadata": {
    "collapsed": false
   },
   "outputs": [
    {
     "name": "stderr",
     "output_type": "stream",
     "text": [
      "/Users/brodzik/.conda/envs/cetbtools/lib/python2.7/site-packages/matplotlib/font_manager.py:273: UserWarning: Matplotlib is building the font cache using fc-list. This may take a moment.\n",
      "  warnings.warn('Matplotlib is building the font cache using fc-list. This may take a moment.')\n"
     ]
    }
   ],
   "source": [
    "import glob\n",
    "from cetbtools.inspector import make_cetb_geotiff"
   ]
  },
  {
   "cell_type": "code",
   "execution_count": 2,
   "metadata": {
    "collapsed": false
   },
   "outputs": [
    {
     "name": "stdout",
     "output_type": "stream",
     "text": [
      "/Users/brodzik/cetb_data/for_2017_TAS_SWE_with_CRREL\n",
      "NSIDC-0630-EASE2_N3.125km-AQUA_AMSRE-2003051-36H-E-SIR-RSS-v1.2.nc\r\n",
      "NSIDC-0630-EASE2_N3.125km-AQUA_AMSRE-2003051-36H-M-SIR-RSS-v1.2.nc\r\n",
      "NSIDC-0630-EASE2_N3.125km-F13_SSMI-2003051-37H-E-SIR-CSU-v1.1.nc\r\n",
      "NSIDC-0630-EASE2_N3.125km-F13_SSMI-2003051-37H-M-SIR-CSU-v1.1.nc\r\n",
      "NSIDC-0630-EASE2_N3.125km-F14_SSMI-2003051-37H-E-SIR-CSU-v1.1.nc\r\n",
      "NSIDC-0630-EASE2_N3.125km-F14_SSMI-2003051-37H-M-SIR-CSU-v1.1.nc\r\n",
      "NSIDC-0630-EASE2_N3.125km-F15_SSMI-2003051-37H-E-SIR-CSU-v1.2.nc\r\n",
      "NSIDC-0630-EASE2_N3.125km-F15_SSMI-2003051-37H-M-SIR-CSU-v1.2.nc\r\n"
     ]
    }
   ],
   "source": [
    "%cd /Users/brodzik/cetb_data/for_2017_TAS_SWE_with_CRREL\n",
    "%ls\n"
   ]
  },
  {
   "cell_type": "code",
   "execution_count": 3,
   "metadata": {
    "collapsed": false
   },
   "outputs": [
    {
     "data": {
      "text/plain": [
       "['NSIDC-0630-EASE2_N3.125km-AQUA_AMSRE-2003051-36H-E-SIR-RSS-v1.2.nc',\n",
       " 'NSIDC-0630-EASE2_N3.125km-AQUA_AMSRE-2003051-36H-M-SIR-RSS-v1.2.nc',\n",
       " 'NSIDC-0630-EASE2_N3.125km-F13_SSMI-2003051-37H-E-SIR-CSU-v1.1.nc',\n",
       " 'NSIDC-0630-EASE2_N3.125km-F13_SSMI-2003051-37H-M-SIR-CSU-v1.1.nc',\n",
       " 'NSIDC-0630-EASE2_N3.125km-F14_SSMI-2003051-37H-E-SIR-CSU-v1.1.nc',\n",
       " 'NSIDC-0630-EASE2_N3.125km-F14_SSMI-2003051-37H-M-SIR-CSU-v1.1.nc',\n",
       " 'NSIDC-0630-EASE2_N3.125km-F15_SSMI-2003051-37H-E-SIR-CSU-v1.2.nc',\n",
       " 'NSIDC-0630-EASE2_N3.125km-F15_SSMI-2003051-37H-M-SIR-CSU-v1.2.nc']"
      ]
     },
     "execution_count": 3,
     "metadata": {},
     "output_type": "execute_result"
    }
   ],
   "source": [
    "files = glob.glob('*.nc')\n",
    "files"
   ]
  },
  {
   "cell_type": "code",
   "execution_count": 4,
   "metadata": {
    "collapsed": false
   },
   "outputs": [
    {
     "name": "stdout",
     "output_type": "stream",
     "text": [
      "next file NSIDC-0630-EASE2_N3.125km-AQUA_AMSRE-2003051-36H-E-SIR-RSS-v1.2.nc\n"
     ]
    },
    {
     "name": "stderr",
     "output_type": "stream",
     "text": [
      "\n",
      "cetbtools.inspector:make_cetb_geotiff : TB geotiff image saved to: NSIDC-0630-EASE2_N3.125km-AQUA_AMSRE-2003051-36H-E-SIR-RSS-v1.2.nc.SIR_TB.tif\n"
     ]
    },
    {
     "name": "stdout",
     "output_type": "stream",
     "text": [
      "next file NSIDC-0630-EASE2_N3.125km-AQUA_AMSRE-2003051-36H-M-SIR-RSS-v1.2.nc\n"
     ]
    },
    {
     "name": "stderr",
     "output_type": "stream",
     "text": [
      "\n",
      "cetbtools.inspector:make_cetb_geotiff : TB geotiff image saved to: NSIDC-0630-EASE2_N3.125km-AQUA_AMSRE-2003051-36H-M-SIR-RSS-v1.2.nc.SIR_TB.tif\n"
     ]
    },
    {
     "name": "stdout",
     "output_type": "stream",
     "text": [
      "next file NSIDC-0630-EASE2_N3.125km-F13_SSMI-2003051-37H-E-SIR-CSU-v1.1.nc\n"
     ]
    },
    {
     "name": "stderr",
     "output_type": "stream",
     "text": [
      "\n",
      "cetbtools.inspector:make_cetb_geotiff : TB geotiff image saved to: NSIDC-0630-EASE2_N3.125km-F13_SSMI-2003051-37H-E-SIR-CSU-v1.1.nc.SIR_TB.tif\n"
     ]
    },
    {
     "name": "stdout",
     "output_type": "stream",
     "text": [
      "next file NSIDC-0630-EASE2_N3.125km-F13_SSMI-2003051-37H-M-SIR-CSU-v1.1.nc\n"
     ]
    },
    {
     "name": "stderr",
     "output_type": "stream",
     "text": [
      "\n",
      "cetbtools.inspector:make_cetb_geotiff : TB geotiff image saved to: NSIDC-0630-EASE2_N3.125km-F13_SSMI-2003051-37H-M-SIR-CSU-v1.1.nc.SIR_TB.tif\n"
     ]
    },
    {
     "name": "stdout",
     "output_type": "stream",
     "text": [
      "next file NSIDC-0630-EASE2_N3.125km-F14_SSMI-2003051-37H-E-SIR-CSU-v1.1.nc\n"
     ]
    },
    {
     "name": "stderr",
     "output_type": "stream",
     "text": [
      "\n",
      "cetbtools.inspector:make_cetb_geotiff : TB geotiff image saved to: NSIDC-0630-EASE2_N3.125km-F14_SSMI-2003051-37H-E-SIR-CSU-v1.1.nc.SIR_TB.tif\n"
     ]
    },
    {
     "name": "stdout",
     "output_type": "stream",
     "text": [
      "next file NSIDC-0630-EASE2_N3.125km-F14_SSMI-2003051-37H-M-SIR-CSU-v1.1.nc\n"
     ]
    },
    {
     "name": "stderr",
     "output_type": "stream",
     "text": [
      "\n",
      "cetbtools.inspector:make_cetb_geotiff : TB geotiff image saved to: NSIDC-0630-EASE2_N3.125km-F14_SSMI-2003051-37H-M-SIR-CSU-v1.1.nc.SIR_TB.tif\n"
     ]
    },
    {
     "name": "stdout",
     "output_type": "stream",
     "text": [
      "next file NSIDC-0630-EASE2_N3.125km-F15_SSMI-2003051-37H-E-SIR-CSU-v1.2.nc\n"
     ]
    },
    {
     "name": "stderr",
     "output_type": "stream",
     "text": [
      "\n",
      "cetbtools.inspector:make_cetb_geotiff : TB geotiff image saved to: NSIDC-0630-EASE2_N3.125km-F15_SSMI-2003051-37H-E-SIR-CSU-v1.2.nc.SIR_TB.tif\n"
     ]
    },
    {
     "name": "stdout",
     "output_type": "stream",
     "text": [
      "next file NSIDC-0630-EASE2_N3.125km-F15_SSMI-2003051-37H-M-SIR-CSU-v1.2.nc\n"
     ]
    },
    {
     "name": "stderr",
     "output_type": "stream",
     "text": [
      "\n",
      "cetbtools.inspector:make_cetb_geotiff : TB geotiff image saved to: NSIDC-0630-EASE2_N3.125km-F15_SSMI-2003051-37H-M-SIR-CSU-v1.2.nc.SIR_TB.tif\n"
     ]
    }
   ],
   "source": [
    "for file in files:\n",
    "    print \"next file \" + file\n",
    "    make_cetb_geotiff(cetb_filename=file,verbose=True)\n"
   ]
  },
  {
   "cell_type": "code",
   "execution_count": null,
   "metadata": {
    "collapsed": true
   },
   "outputs": [],
   "source": [
    "files = glob.glob('*3.125*37V*')"
   ]
  },
  {
   "cell_type": "code",
   "execution_count": null,
   "metadata": {
    "collapsed": false
   },
   "outputs": [],
   "source": [
    "files"
   ]
  },
  {
   "cell_type": "code",
   "execution_count": null,
   "metadata": {
    "collapsed": false
   },
   "outputs": [],
   "source": [
    "for file in files:\n",
    "    print \"next file \" + file\n",
    "    inspector.make_cetb_geotiff(cetb_filename=file,verbose=True)"
   ]
  },
  {
   "cell_type": "code",
   "execution_count": null,
   "metadata": {
    "collapsed": true
   },
   "outputs": [],
   "source": []
  }
 ],
 "metadata": {
  "kernelspec": {
   "display_name": "Python 2",
   "language": "python",
   "name": "python2"
  },
  "language_info": {
   "codemirror_mode": {
    "name": "ipython",
    "version": 2
   },
   "file_extension": ".py",
   "mimetype": "text/x-python",
   "name": "python",
   "nbconvert_exporter": "python",
   "pygments_lexer": "ipython2",
   "version": "2.7.12"
  }
 },
 "nbformat": 4,
 "nbformat_minor": 0
}
