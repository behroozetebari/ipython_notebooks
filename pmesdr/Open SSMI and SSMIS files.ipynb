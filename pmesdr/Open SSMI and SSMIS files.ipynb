{
 "cells": [
  {
   "cell_type": "code",
   "execution_count": 1,
   "metadata": {
    "collapsed": true
   },
   "outputs": [],
   "source": [
    "from netCDF4 import Dataset"
   ]
  },
  {
   "cell_type": "code",
   "execution_count": 2,
   "metadata": {
    "collapsed": true
   },
   "outputs": [],
   "source": [
    "filename = \"/Users/brodzik/projects/PMESDR/CSU_FCDR/F13/9703/970302/CSU_SSMI_FCDR_V01R00_F13_D19970302_S0027_E0209_R10004.nc\"\n",
    "f = Dataset( filename, 'r', 'NETCDF4' )"
   ]
  },
  {
   "cell_type": "code",
   "execution_count": 3,
   "metadata": {
    "collapsed": false
   },
   "outputs": [
    {
     "name": "stdout",
     "output_type": "stream",
     "text": [
      "<type 'netCDF4._netCDF4.Dataset'>\n",
      "root group (NETCDF4 data model, file format UNDEFINED):\n",
      "    Conventions: CF-1.6\n",
      "    Metadata_Conventions: CF-1.6, Unidata Dataset Discovery v1.0, NOAA CDR v1.0, GDS v2.0\n",
      "    standard_name_vocabulary: CF Standard Name Table (v20, 11 September 2012)\n",
      "    id: CSU_SSMI_FCDR_V01R00_F13_D19970302_S0027_E0209_R10004.nc\n",
      "    naming_authority: gov.noaa.ncdc\n",
      "    metadata_link: gov.noaa.ncdc:C00827\n",
      "    title: CSU SSM/I FCDR\n",
      "    product_version: V01R00\n",
      "    revision_date: 2013-02-01\n",
      "    summary: Colorado State University Special Sensor Microwave/Imager (SSM/I) Fundamental Climate Data Record (FCDR) of intercalibrated brightness temperatures\n",
      "    keywords: EARTH SCIENCE > SPECTRAL/ENGINEERING > MICROWAVE > BRIGHTNESS TEMPERATURE\n",
      "    keywords_vocabulary: NASA Global Change Master Directory (GCMD) Earth Science Keywords, Version 6.0\n",
      "    platform: DMSP 5D-2/F13 > Defense Meteorological Satellite Program-F13\n",
      "    sensor: SSM/I > Special Sensor Microwave/Imager\n",
      "    cdm_data_type: Swath\n",
      "    cdr_program: NOAA Climate Data Record Program for satellites, FY 2013\n",
      "    cdr_variable: fcdr_tb19v, fcdr_tb19h, fcdr_tb22v, fcdr_tb37v, fcdr_tb37h, fcdr_tb85v, fcdr_tb85h\n",
      "    source: SSMI_TDRBASE_V01R03_F13_D19970302_S0027_E0209_R10004.nc\n",
      "    date_created: 2013-02-02T15:57MST\n",
      "    creator_name: Wesley Berg\n",
      "    creator_url: http://rain.atmos.colostate.edu/FCDR\n",
      "    creator_email: fcdr@atmos.colostate.edu\n",
      "    institution: Colorado State University, Dept. of Atmospheric Science, Kummerow research group\n",
      "    processing_level: NOAA Level 2\n",
      "    geospatial_lat_min:    4.11\n",
      "    geospatial_lat_max:   19.42\n",
      "    geospatial_lon_min: -110.49\n",
      "    geospatial_lon_max:  -95.11\n",
      "    geospatial_lat_units: degrees_north\n",
      "    geospatial_lon_units: degrees_east\n",
      "    spatial_resolution: 19 V/H GHz: 43km X 69km, 22 V GHz: 40km X 50km, 37 V/H GHz: 28km X 37km, 85 V/H GHz: 13km X 15km\n",
      "    time_coverage_start: 1997-03-02T00:27:53Z\n",
      "    time_coverage_end: 1997-03-02T02:09:52Z\n",
      "    time_coverage_duration: PT1H41M59S\n",
      "    license: No restrictions on access or use\n",
      "    contributor_name: Christian Kummerow, Wesley Berg, Mathew Sapiano\n",
      "    contributor_role: Principal investigator, Co-Investigator and developer with overall responsibility for FCDR data software and documentation, Responsible for intercalibration geolocation and cross-track bias adjustments including associated software and documentation\n",
      "    orbit_number: 10004\n",
      "    dimensions(sizes): npixel_lores(64), npixel_hires(128), nscan_lores(51), nscan_hires(102), ntest(9), numchar(23)\n",
      "    variables(dimensions): float64 \u001b[4morbit_lores\u001b[0m(nscan_lores), float64 \u001b[4mscan_time_lores\u001b[0m(nscan_lores), |S1 \u001b[4mscan_datetime_lores\u001b[0m(nscan_lores,numchar), float32 \u001b[4mspacecraft_lat_lores\u001b[0m(nscan_lores), float32 \u001b[4mspacecraft_lon_lores\u001b[0m(nscan_lores), float32 \u001b[4mspacecraft_alt_lores\u001b[0m(nscan_lores), float32 \u001b[4mlat_lores\u001b[0m(nscan_lores,npixel_lores), float32 \u001b[4mlon_lores\u001b[0m(nscan_lores,npixel_lores), float32 \u001b[4mfcdr_tb19v\u001b[0m(nscan_lores,npixel_lores), float32 \u001b[4mfcdr_tb19h\u001b[0m(nscan_lores,npixel_lores), float32 \u001b[4mfcdr_tb22v\u001b[0m(nscan_lores,npixel_lores), float32 \u001b[4mfcdr_tb37v\u001b[0m(nscan_lores,npixel_lores), float32 \u001b[4mfcdr_tb37h\u001b[0m(nscan_lores,npixel_lores), float32 \u001b[4meia_lores\u001b[0m(nscan_lores,npixel_lores), int8 \u001b[4msun_glint_lores\u001b[0m(nscan_lores,npixel_lores), int8 \u001b[4mquality_lores\u001b[0m(nscan_lores,npixel_lores), float64 \u001b[4morbit_hires\u001b[0m(nscan_hires), float64 \u001b[4mscan_time_hires\u001b[0m(nscan_hires), |S1 \u001b[4mscan_datetime_hires\u001b[0m(nscan_hires,numchar), float32 \u001b[4mspacecraft_lat_hires\u001b[0m(nscan_hires), float32 \u001b[4mspacecraft_lon_hires\u001b[0m(nscan_hires), float32 \u001b[4mspacecraft_alt_hires\u001b[0m(nscan_hires), float32 \u001b[4mlat_hires\u001b[0m(nscan_hires,npixel_hires), float32 \u001b[4mlon_hires\u001b[0m(nscan_hires,npixel_hires), float32 \u001b[4mfcdr_tb85v\u001b[0m(nscan_hires,npixel_hires), float32 \u001b[4mfcdr_tb85h\u001b[0m(nscan_hires,npixel_hires), float32 \u001b[4meia_hires\u001b[0m(nscan_hires,npixel_hires), int8 \u001b[4msun_glint_hires\u001b[0m(nscan_hires,npixel_hires), int8 \u001b[4mquality_hires\u001b[0m(nscan_hires,npixel_hires), int32 \u001b[4mquality_tests\u001b[0m(ntest), float32 \u001b[4mnominal_elevation_angle\u001b[0m(), float32 \u001b[4mdelta_elevation_angle\u001b[0m(), float32 \u001b[4mspacecraft_roll\u001b[0m(), float32 \u001b[4mspacecraft_pitch\u001b[0m(), float32 \u001b[4mspacecraft_yaw\u001b[0m(), |S1 \u001b[4mcrs\u001b[0m()\n",
      "    groups: \n",
      "\n"
     ]
    }
   ],
   "source": [
    "print f\n"
   ]
  },
  {
   "cell_type": "code",
   "execution_count": 5,
   "metadata": {
    "collapsed": false
   },
   "outputs": [],
   "source": [
    "filename2 = \"/Users/brodzik/projects/PMESDR/CSU_FCDR/F17/1312/131201/CSU_SSMIS_ICDR_V01R00_F17_D20131201_S0054_E0236_R36496.nc\"\n",
    "f2 = Dataset( filename2, 'r', 'NETCDF4' )"
   ]
  },
  {
   "cell_type": "code",
   "execution_count": 6,
   "metadata": {
    "collapsed": false
   },
   "outputs": [
    {
     "name": "stdout",
     "output_type": "stream",
     "text": [
      "<type 'netCDF4._netCDF4.Dataset'>\n",
      "root group (NETCDF4 data model, file format UNDEFINED):\n",
      "    Conventions: CF-1.6\n",
      "    Metadata_Conventions: CF-1.6, Unidata Dataset Discovery v1.0, NOAA CDR v1.0, GDS v2.0\n",
      "    standard_name_vocabulary: CF Standard Name Table (v20, 11 September 2012)\n",
      "    id: CSU_SSMIS_ICDR_V01R00_F17_D20131201_S0054_E0236_R36496.nc\n",
      "    naming_authority: gov.noaa.ncdc\n",
      "    metadata_link: gov.noaa.ncdc:C00827\n",
      "    title: CSU SSMIS FCDR\n",
      "    product_version: V01R00\n",
      "    revision_date: 2013-05-13\n",
      "    summary: Colorado State University Special Sensor Microwave Imager/Sounder (SSMIS) Fundamental Climate Data Record (FCDR) of intercalibrated brightness temperatures\n",
      "    keywords: EARTH SCIENCE > SPECTRAL/ENGINEERING > MICROWAVE > BRIGHTNESS TEMPERATURE\n",
      "    keywords_vocabulary: NASA Global Change Master Directory (GCMD) Earth Science Keywords, Version 6.0\n",
      "    platform: DMSP 5D-3/F17 > Defense Meteorological Satellite Program-F17\n",
      "    sensor: SSMIS > Special Sensor Microwave Imager/Sounder\n",
      "    cdm_data_type: Swath\n",
      "    cdr_program: NOAA Climate Data Record Program for satellites, FY 2013\n",
      "    cdr_variable: fcdr_tb19v_env1, fcdr_tb19h_env1, fcdr_tb22v_env1, fcdr_tb37v_env2, fcdr_tb37h_env2, fcdr_tb91v_img2, fcdr_tb91h_img2\n",
      "    source: SSMIS_TDRBASE_V01R03_F17_D20131201_S0054_E0236_R36496.nc\n",
      "    date_created: 2013-12-04T03:18MST\n",
      "    creator_name: Wesley Berg\n",
      "    creator_url: http://rain.atmos.colostate.edu/FCDR\n",
      "    creator_email: fcdr@atmos.colostate.edu\n",
      "    institution: Colorado State University, Dept. of Atmospheric Science, Kummerow research group\n",
      "    processing_level: NOAA Level 2\n",
      "    geospatial_lat_min:  -89.16\n",
      "    geospatial_lat_max:   88.96\n",
      "    geospatial_lon_min: -180.00\n",
      "    geospatial_lon_max:  180.00\n",
      "    geospatial_lat_units: degrees_north\n",
      "    geospatial_lon_units: degrees_east\n",
      "    spatial_resolution: 19 V/H GHz: 45km X 74km, 22 V GHz: 45km X 74km, 37 V/H GHz: 28km X 45km, 91 V/H GHz: 13km X 16km, 150 and 183 GHz channels: 13km x 16km, lower and upper atmosphere sounding channels: 18km x 27km\n",
      "    time_coverage_start: 2013-12-01T00:54:58Z\n",
      "    time_coverage_end: 2013-12-01T02:36:54Z\n",
      "    time_coverage_duration: PT1H41M56S\n",
      "    license: No restrictions on access or use\n",
      "    contributor_name: Christian Kummerow, Wesley Berg, Mathew Sapiano\n",
      "    contributor_role: Principal investigator, Co-Investigator and developer with overall responsibility for FCDR data software and documentation, Responsible for intercalibration geolocation and cross-track bias adjustments including associated software and documentation\n",
      "    orbit_number: 36496\n",
      "    dimensions(sizes): npixel_img(180), npixel_env(90), npixel_las(60), npixel_uas(30), nscan(2924), ntest(9), nsensor(6), numchar(23)\n",
      "    variables(dimensions): float64 \u001b[4morbit\u001b[0m(nscan), float32 \u001b[4mspacecraft_lat\u001b[0m(nscan), float32 \u001b[4mspacecraft_lon\u001b[0m(nscan), float32 \u001b[4mspacecraft_alt\u001b[0m(nscan), float64 \u001b[4mscan_time\u001b[0m(nscan), |S1 \u001b[4mscan_datetime\u001b[0m(nscan,numchar), float32 \u001b[4mlat_env1\u001b[0m(nscan,npixel_env), float32 \u001b[4mlon_env1\u001b[0m(nscan,npixel_env), float32 \u001b[4meia_env1\u001b[0m(nscan,npixel_env), int8 \u001b[4msun_glint_env1\u001b[0m(nscan,npixel_env), int8 \u001b[4mquality_env1\u001b[0m(nscan,npixel_env), float32 \u001b[4mfcdr_tb19v_env1\u001b[0m(nscan,npixel_env), float32 \u001b[4mfcdr_tb19h_env1\u001b[0m(nscan,npixel_env), float32 \u001b[4mfcdr_tb22v_env1\u001b[0m(nscan,npixel_env), float32 \u001b[4mlat_env2\u001b[0m(nscan,npixel_env), float32 \u001b[4mlon_env2\u001b[0m(nscan,npixel_env), float32 \u001b[4meia_env2\u001b[0m(nscan,npixel_env), int8 \u001b[4msun_glint_env2\u001b[0m(nscan,npixel_env), int8 \u001b[4mquality_env2\u001b[0m(nscan,npixel_env), float32 \u001b[4mfcdr_tb37v_env2\u001b[0m(nscan,npixel_env), float32 \u001b[4mfcdr_tb37h_env2\u001b[0m(nscan,npixel_env), float32 \u001b[4mlat_img1\u001b[0m(nscan,npixel_img), float32 \u001b[4mlon_img1\u001b[0m(nscan,npixel_img), float32 \u001b[4meia_img1\u001b[0m(nscan,npixel_img), int8 \u001b[4msun_glint_img1\u001b[0m(nscan,npixel_img), int8 \u001b[4mquality_img1\u001b[0m(nscan,npixel_img), float32 \u001b[4mtb150h_img1\u001b[0m(nscan,npixel_img), float32 \u001b[4mtb183_1h_img1\u001b[0m(nscan,npixel_img), float32 \u001b[4mtb183_3h_img1\u001b[0m(nscan,npixel_img), float32 \u001b[4mtb183_7h_img1\u001b[0m(nscan,npixel_img), float32 \u001b[4mlat_img2\u001b[0m(nscan,npixel_img), float32 \u001b[4mlon_img2\u001b[0m(nscan,npixel_img), float32 \u001b[4meia_img2\u001b[0m(nscan,npixel_img), int8 \u001b[4msun_glint_img2\u001b[0m(nscan,npixel_img), int8 \u001b[4mquality_img2\u001b[0m(nscan,npixel_img), float32 \u001b[4mfcdr_tb91v_img2\u001b[0m(nscan,npixel_img), float32 \u001b[4mfcdr_tb91h_img2\u001b[0m(nscan,npixel_img), float32 \u001b[4mlat_las\u001b[0m(nscan,npixel_las), float32 \u001b[4mlon_las\u001b[0m(nscan,npixel_las), float32 \u001b[4meia_las\u001b[0m(nscan,npixel_las), int8 \u001b[4msun_glint_las\u001b[0m(nscan,npixel_las), int8 \u001b[4mquality_las\u001b[0m(nscan,npixel_las), float32 \u001b[4mtb50h_ch1_las\u001b[0m(nscan,npixel_las), float32 \u001b[4mtb52h_ch2_las\u001b[0m(nscan,npixel_las), float32 \u001b[4mtb53h_ch3_las\u001b[0m(nscan,npixel_las), float32 \u001b[4mtb54h_ch4_las\u001b[0m(nscan,npixel_las), float32 \u001b[4mtb55h_ch5_las\u001b[0m(nscan,npixel_las), float32 \u001b[4mtb57rc_ch6_las\u001b[0m(nscan,npixel_las), float32 \u001b[4mtb59rc_ch7_las\u001b[0m(nscan,npixel_las), float32 \u001b[4mtb60rc_ch24_las\u001b[0m(nscan,npixel_las), float32 \u001b[4mlat_uas\u001b[0m(nscan,npixel_uas), float32 \u001b[4mlon_uas\u001b[0m(nscan,npixel_uas), float32 \u001b[4meia_uas\u001b[0m(nscan,npixel_uas), int8 \u001b[4msun_glint_uas\u001b[0m(nscan,npixel_uas), int8 \u001b[4mquality_uas\u001b[0m(nscan,npixel_uas), float32 \u001b[4mtb63rc_ch19_uas\u001b[0m(nscan,npixel_uas), float32 \u001b[4mtb60rc_ch20_uas\u001b[0m(nscan,npixel_uas), float32 \u001b[4mtb60rc_ch21_uas\u001b[0m(nscan,npixel_uas), float32 \u001b[4mtb60rc_ch22_uas\u001b[0m(nscan,npixel_uas), float32 \u001b[4mtb60rc_ch23_uas\u001b[0m(nscan,npixel_uas), int32 \u001b[4mquality_tests\u001b[0m(ntest), float32 \u001b[4mnominal_elevation_angle\u001b[0m(), float32 \u001b[4mspacecraft_roll\u001b[0m(), float32 \u001b[4mspacecraft_pitch\u001b[0m(), float32 \u001b[4mspacecraft_yaw\u001b[0m(), float32 \u001b[4mdelta_elevation_angle\u001b[0m(nsensor), float32 \u001b[4msensor_roll\u001b[0m(nsensor), float32 \u001b[4msensor_pitch\u001b[0m(nsensor), float32 \u001b[4msensor_yaw\u001b[0m(nsensor), |S1 \u001b[4mcrs\u001b[0m()\n",
      "    groups: \n",
      "\n"
     ]
    }
   ],
   "source": [
    "print f2\n"
   ]
  },
  {
   "cell_type": "code",
   "execution_count": 7,
   "metadata": {
    "collapsed": true
   },
   "outputs": [],
   "source": [
    "filename3 = \"/Users/brodzik/projects/PMESDR/nsidc0588_RSS_TBs/RSS_SSMI_FCDR_V07R00_F13_D19970302_S0210_E0331_R10005.nc\"\n",
    "f3 = Dataset( filename3, 'r', 'NETCDF4' )"
   ]
  },
  {
   "cell_type": "code",
   "execution_count": 8,
   "metadata": {
    "collapsed": false
   },
   "outputs": [
    {
     "name": "stdout",
     "output_type": "stream",
     "text": [
      "<type 'netCDF4._netCDF4.Dataset'>\n",
      "root group (NETCDF4 data model, file format UNDEFINED):\n",
      "    Conventions: CF-1.5\n",
      "    Metadata_Conventions: CF-1.5, Unidata Dataset Discovery v1.0, NOAA CDR v1.0, GDS v2.0\n",
      "    standard_name_vocabulary: CF Standard Name Table (v16, 11 October 2010)\n",
      "    id: RSS_SSMI_FCDR_V07R00_F13_D19970302_S0210_E0331_R10005.nc\n",
      "    naming_authority: gov.noaa.ncdc\n",
      "    metadata_link: gov.noaa.ncdc:C00810\n",
      "    title: RSS Version-7 SSM/I FCDR\n",
      "    product_version: v07r00\n",
      "    date_issued: 2011-09-30\n",
      "    summary: Remote Sensing Systems (RSS) Version-7 Special Sensor Microwave/Imager (SSM/I) Fundamental Climate Data Record (FCDR); intercalibrated and homogenized brightness temperature polar-orbiting product with quality flags starting from July 1987\n",
      "    keywords: EARTH SCIENCE > SPECTRAL/ENGINEERING > MICROWAVE > BRIGHTNESS TEMPERATURE\n",
      "    keywords_vocabulary: NASA Global Change Master Directory (GCMD) Earth Science Keywords, Version 6.0\n",
      "    platform: DMSP 5D-2/F13 > Defense Meteorological Satellite Program-F13\n",
      "    sensor: SSM/I > Special Sensor Microwave/Imager\n",
      "    cdm_data_type: Swath\n",
      "    cdr_program: CICS-NC supported Climate Data Record Program for satellites, FY 2011\n",
      "    cdr_variable: fcdr_brightness_temperature_19V, fcdr_brightness_temperature_19H, fcdr_brightness_temperature_22V, fcdr_brightness_temperature_37V, fcdr_brightness_temperature_37H, fcdr_brightness_temperature_85V, fcdr_brightness_temperature_85H\n",
      "    source: F13_r10005.dat\n",
      "    date_created: 20140418T175738Z\n",
      "    creator_name: Carl Mears\n",
      "    creator_url: http://www.remss.com/\n",
      "    creator_email: mears@remss.com\n",
      "    institution: Remote Sensing Systems\n",
      "    processing_level: NOAA Level 2\n",
      "    references: doi:10.1175/2007JAMC1635.1, doi:10.1126/science.1140746, SSM/I Users Interpretation Guide UG32268-900 Rev C 29 Nov 2000\n",
      "    history: 1) 2011-09-30, Carl Mears, Remote Sensing Systems, created initial netCDF file converted from the original RSS data format\n",
      "    geospatial_lat_min: -87.77\n",
      "    geospatial_lat_max: 87.56\n",
      "    geospatial_lon_min: -180.0\n",
      "    geospatial_lon_max: 179.99\n",
      "    geospatial_lat_units: degrees_north\n",
      "    geospatial_lon_units: degrees_east\n",
      "    spatial_resolution: 19 V/H GHz: 45km X 70km, 22 V GHz: 40km X 60km, 37 V/H GHz: 30km X 38km, 85 V/H GHz: 14km X 16km\n",
      "    time_coverage_start: 1997-03-02 02:10:07Z\n",
      "    time_coverage_end: 1997-03-02 03:31:21Z\n",
      "    time_coverage_duration: PT4875S\n",
      "    license: No restrictions on access or use\n",
      "    contributor_name: Frank Wentz, Carl Mears\n",
      "    contributor_role: Principal investigator and originator of input/source or antenna temperature data, Processor and author of entire driver routine (write_ssmi_tbs_netcdf.pro) which converts RSS native brightness temperature format to netCDF-4.\n",
      "    dimensions(sizes): scan_number_hires(3600), footprint_number_hires(128), scan_number_lores(1800), footprint_number_lores(64), fourteen_flags(14), numchar(20)\n",
      "    variables(dimensions): int32 \u001b[4miorbit\u001b[0m(), float64 \u001b[4mscan_time_hires\u001b[0m(scan_number_hires), float64 \u001b[4mscan_time_lores\u001b[0m(scan_number_hires), float64 \u001b[4morbit_position\u001b[0m(scan_number_hires), float32 \u001b[4msc_lat\u001b[0m(scan_number_hires), float32 \u001b[4msc_lon\u001b[0m(scan_number_hires), float32 \u001b[4msc_alt\u001b[0m(scan_number_hires), int8 \u001b[4miqual_flag_hires\u001b[0m(fourteen_flags,scan_number_hires), int8 \u001b[4miqual_flag_lores\u001b[0m(fourteen_flags,scan_number_lores), int16 \u001b[4mlatitude_hires\u001b[0m(scan_number_hires,footprint_number_hires), int16 \u001b[4mlongitude_hires\u001b[0m(scan_number_hires,footprint_number_hires), int16 \u001b[4mearth_incidence_angle_hires\u001b[0m(scan_number_hires,footprint_number_hires), int16 \u001b[4mearth_azimuth_angle_hires\u001b[0m(scan_number_hires,footprint_number_hires), int16 \u001b[4msun_glitter_angle_hires\u001b[0m(scan_number_hires,footprint_number_hires), int16 \u001b[4mland_percentage_hires\u001b[0m(scan_number_hires,footprint_number_hires), int16 \u001b[4mice_flag_hires\u001b[0m(scan_number_hires,footprint_number_hires), float32 \u001b[4mfcdr_brightness_temperature_85V\u001b[0m(scan_number_hires,footprint_number_hires), float32 \u001b[4mfcdr_brightness_temperature_85H\u001b[0m(scan_number_hires,footprint_number_hires), int16 \u001b[4mlatitude_lores\u001b[0m(scan_number_lores,footprint_number_lores), int16 \u001b[4mlongitude_lores\u001b[0m(scan_number_lores,footprint_number_lores), int16 \u001b[4mearth_incidence_angle_lores\u001b[0m(scan_number_lores,footprint_number_lores), int16 \u001b[4mearth_azimuth_angle_lores\u001b[0m(scan_number_lores,footprint_number_lores), int16 \u001b[4msun_glitter_angle_lores\u001b[0m(scan_number_lores,footprint_number_lores), int16 \u001b[4mland_percentage_lores\u001b[0m(scan_number_lores,footprint_number_lores), int16 \u001b[4mice_flag_lores\u001b[0m(scan_number_lores,footprint_number_lores), float32 \u001b[4mfcdr_brightness_temperature_19V\u001b[0m(scan_number_lores,footprint_number_lores), float32 \u001b[4mfcdr_brightness_temperature_19H\u001b[0m(scan_number_lores,footprint_number_lores), float32 \u001b[4mfcdr_brightness_temperature_22V\u001b[0m(scan_number_lores,footprint_number_lores), float32 \u001b[4mfcdr_brightness_temperature_37V\u001b[0m(scan_number_lores,footprint_number_lores), float32 \u001b[4mfcdr_brightness_temperature_37H\u001b[0m(scan_number_lores,footprint_number_lores)\n",
      "    groups: \n",
      "\n"
     ]
    }
   ],
   "source": [
    "print f3\n"
   ]
  },
  {
   "cell_type": "code",
   "execution_count": 9,
   "metadata": {
    "collapsed": true
   },
   "outputs": [],
   "source": [
    "filename4 = \"/Users/brodzik/projects/PMESDR/nsidc0588_RSS_TBs/RSS_SSMIS_FCDR_V07R01_F17_D20131201_S0104_E0216_R36494.nc\"\n",
    "f4 = Dataset( filename4, 'r', 'NETCDF4' )"
   ]
  },
  {
   "cell_type": "code",
   "execution_count": 10,
   "metadata": {
    "collapsed": false
   },
   "outputs": [
    {
     "name": "stdout",
     "output_type": "stream",
     "text": [
      "<type 'netCDF4._netCDF4.Dataset'>\n",
      "root group (NETCDF4 data model, file format UNDEFINED):\n",
      "    Conventions: CF-1.6\n",
      "    Metadata_Conventions: CF-1.6, Unidata Dataset Discovery v1.0, NOAA CDR v1.0, GDS v2.0\n",
      "    standard_name_vocabulary: CF Standard Name Table (v16, 11 October 2010)\n",
      "    id: RSS_SSMIS_FCDR_V07R01_F17_D20131201_S0104_E0216_R36494.nc\n",
      "    naming_authority: gov.noaa.ncdc\n",
      "    metadata_link: gov.noaa.ncdc:C00810\n",
      "    title: RSS Version-7 SSMIS FCDR\n",
      "    product_version: v07r01\n",
      "    date_issued: 2012-12-31\n",
      "    summary: Remote Sensing Systems (RSS) Version-7 Special Sensor Microwave Imager Sounder (SSMIS) Fundamental Climate Data Record (FCDR); intercalibrated and homogenized brightness temperature polar-orbiting product with quality flags starting from January 2007\n",
      "    keywords: EARTH SCIENCE > SPECTRAL/ENGINEERING > MICROWAVE > BRIGHTNESS TEMPERATURE\n",
      "    keywords_vocabulary: NASA Global Change Master Directory (GCMD) Earth Science Keywords, Version 6.0\n",
      "    platform: DMSP 5D-2/F17 > Defense Meteorological Satellite Program-F17\n",
      "    sensor: SSMIS > Special Sensor Microwave Imager Sounder\n",
      "    cdm_data_type: Swath\n",
      "    cdr_program: Climate Data Record Program for satellites, FY 2011\n",
      "    cdr_variable: fcdr_brightness_temperature_19V, fcdr_brightness_temperature_19H, fcdr_brightness_temperature_22V, fcdr_brightness_temperature_37V, fcdr_brightness_temperature_37H, fcdr_brightness_temperature_92V, fcdr_brightness_temperature_92H\n",
      "    source: F17_r36494.dat\n",
      "    date_created: 20140722T064413Z\n",
      "    creator_name: Carl Mears\n",
      "    creator_url: http://www.remss.com/\n",
      "    creator_email: mears@remss.com\n",
      "    institution: Remote Sensing Systems\n",
      "    processing_level: NOAA Level 2\n",
      "    references: doi:10.1175/2007JAMC1635.1, doi:10.1126/science.1140746, SSM/I Users Interpretation Guide UG32268-900 Rev C 29 Nov 2000\n",
      "    history: 1) 2011-09-30, Carl Mears, Remote Sensing Systems, created initial netCDF file converted from the original RSS data format\n",
      "    geospatial_lat_min: -89.23\n",
      "    geospatial_lat_max: 89.04\n",
      "    geospatial_lon_min: -179.99\n",
      "    geospatial_lon_max: 179.98\n",
      "    geospatial_lat_units: degrees_north\n",
      "    geospatial_lon_units: degrees_east\n",
      "    spatial_resolution: 19 V/H GHz: 46.5km X 73.6km, 22 V GHz: 46.5km X 73.6km, 37 V/H GHz: 31.2km X 45.0km, 92 V/H GHz: 13.2km X 15.5km\n",
      "    time_coverage_start: 2013-12-01 01:04:22Z\n",
      "    time_coverage_end: 2013-12-01 02:16:29Z\n",
      "    time_coverage_duration: PT4327S\n",
      "    license: No restrictions on access or use\n",
      "    contributor_name: Frank Wentz, Carl Mears\n",
      "    contributor_role: Principal investigator and originator of input/source or antenna temperature data, Processor and author of entire driver routine (write_ssmi_tbs_netcdf.pro) which converts RSS native brightness temperature format to netCDF-4.\n",
      "    dimensions(sizes): scan_number(2280), footprint_number_hires(180), footprint_number_lores(90), eleven_flags(11), four_flags(4), numchar(20)\n",
      "    variables(dimensions): int32 \u001b[4miorbit\u001b[0m(), float64 \u001b[4mscan_time\u001b[0m(scan_number), float64 \u001b[4morbit_position\u001b[0m(scan_number), float32 \u001b[4msc_lat\u001b[0m(scan_number), float32 \u001b[4msc_lon\u001b[0m(scan_number), float32 \u001b[4msc_alt\u001b[0m(scan_number), int8 \u001b[4miscn_flag\u001b[0m(eleven_flags,scan_number), int8 \u001b[4mical_flag_lores\u001b[0m(four_flags,scan_number), int8 \u001b[4mical_flag_hires\u001b[0m(four_flags,scan_number), int16 \u001b[4mlatitude_hires\u001b[0m(scan_number,footprint_number_hires), int16 \u001b[4mlongitude_hires\u001b[0m(scan_number,footprint_number_hires), int16 \u001b[4mearth_incidence_angle_hires\u001b[0m(scan_number,footprint_number_hires), int16 \u001b[4mearth_azimuth_angle_hires\u001b[0m(scan_number,footprint_number_hires), int16 \u001b[4msun_glitter_angle_hires\u001b[0m(scan_number,footprint_number_hires), int8 \u001b[4mland_flag_hires\u001b[0m(scan_number,footprint_number_hires), int16 \u001b[4mice_flag_hires\u001b[0m(scan_number,footprint_number_hires), float32 \u001b[4mfcdr_brightness_temperature_92V\u001b[0m(scan_number,footprint_number_hires), float32 \u001b[4mfcdr_brightness_temperature_92H\u001b[0m(scan_number,footprint_number_hires), int16 \u001b[4mlatitude_lores\u001b[0m(scan_number,footprint_number_lores), int16 \u001b[4mlongitude_lores\u001b[0m(scan_number,footprint_number_lores), int16 \u001b[4mearth_incidence_angle_lores\u001b[0m(scan_number,footprint_number_lores), int16 \u001b[4mearth_azimuth_angle_lores\u001b[0m(scan_number,footprint_number_lores), int16 \u001b[4msun_glitter_angle_lores\u001b[0m(scan_number,footprint_number_lores), int8 \u001b[4mland_flag_lores\u001b[0m(scan_number,footprint_number_lores), int16 \u001b[4mice_flag_lores\u001b[0m(scan_number,footprint_number_lores), float32 \u001b[4mfcdr_brightness_temperature_19V\u001b[0m(scan_number,footprint_number_lores), float32 \u001b[4mfcdr_brightness_temperature_19H\u001b[0m(scan_number,footprint_number_lores), float32 \u001b[4mfcdr_brightness_temperature_22V\u001b[0m(scan_number,footprint_number_lores), float32 \u001b[4mfcdr_brightness_temperature_37V\u001b[0m(scan_number,footprint_number_lores), float32 \u001b[4mfcdr_brightness_temperature_37H\u001b[0m(scan_number,footprint_number_lores)\n",
      "    groups: \n",
      "\n"
     ]
    }
   ],
   "source": [
    "print f4\n"
   ]
  },
  {
   "cell_type": "code",
   "execution_count": 11,
   "metadata": {
    "collapsed": true
   },
   "outputs": [],
   "source": [
    "filename = \"/Users/brodzik/projects/CHARIS/snow_cover/tmp/test.nc\"\n",
    "testf = Dataset( filename, 'r', 'NETCDF4' )"
   ]
  },
  {
   "cell_type": "code",
   "execution_count": 12,
   "metadata": {
    "collapsed": false
   },
   "outputs": [
    {
     "name": "stdout",
     "output_type": "stream",
     "text": [
      "<type 'netCDF4._netCDF4.Dataset'>\n",
      "root group (NETCDF4 data model, file format UNDEFINED):\n",
      "    Title: MODICE mask for a minimum number of years.\n",
      "    Institution: National Snow & Ice Data Center, Boulder, CO USA\n",
      "    Source: MODICEv03\n",
      "    History: Created on Wed Jun 10 11:50:03 2015 by combine_modice.pro\n",
      "    Comment: Mask locations with 1 indicate MODICE for >= min_years\n",
      "    MODIS_tile_id: h23v05\n",
      "    Start_year: 2000\n",
      "    End_year: 2014\n",
      "    Min_years: 5\n",
      "    MODICE_FILES: first, second\n",
      "    dimensions(sizes): Columns(2400), Rows(2400)\n",
      "    variables(dimensions): uint8 \u001b[4mmodice_min_year_mask\u001b[0m(Rows,Columns), float32 \u001b[4mlatitude\u001b[0m(Rows,Columns), float32 \u001b[4mlongitude\u001b[0m(Rows,Columns)\n",
      "    groups: \n",
      "\n"
     ]
    }
   ],
   "source": [
    "print testf\n"
   ]
  },
  {
   "cell_type": "code",
   "execution_count": 17,
   "metadata": {
    "collapsed": false
   },
   "outputs": [
    {
     "name": "stdout",
     "output_type": "stream",
     "text": [
      "<type 'netCDF4._netCDF4.Variable'>\n",
      "uint8 modice_min_year_mask(Rows, Columns)\n",
      "    long_name: modice_min_year_mask\n",
      "    _FillValue: 253\n",
      "    valid_range: [0 2]\n",
      "    flag_values: [0 1 2]\n",
      "    flag_meanings: Ice_free_land Water MODICE_for_5_or_more_years\n",
      "unlimited dimensions: \n",
      "current shape = (2400, 2400)\n",
      "filling on\n"
     ]
    }
   ],
   "source": [
    "new = testf.variables['modice_min_year_mask']\n",
    "print new"
   ]
  },
  {
   "cell_type": "code",
   "execution_count": 18,
   "metadata": {
    "collapsed": false
   },
   "outputs": [
    {
     "name": "stdout",
     "output_type": "stream",
     "text": [
      "253 253\n"
     ]
    }
   ],
   "source": [
    "print np.amin(new), np.amax(new)"
   ]
  },
  {
   "cell_type": "code",
   "execution_count": 14,
   "metadata": {
    "collapsed": false
   },
   "outputs": [
    {
     "name": "stdout",
     "output_type": "stream",
     "text": [
      "<type 'netCDF4._netCDF4.Variable'>\n",
      "uint8 modice_min_year_mask(Rows, Columns)\n",
      "    long_name: modice_min_year_mask\n",
      "    _FillValue: 253\n",
      "    valid_range: [0 2]\n",
      "    flag_values: [0 1 2]\n",
      "    flag_meanings: Ice_free_land Water MODICE_for_5_or_more_years\n",
      "unlimited dimensions: \n",
      "current shape = (2400, 2400)\n",
      "filling on\n"
     ]
    }
   ],
   "source": [
    "print data\n"
   ]
  },
  {
   "cell_type": "code",
   "execution_count": 15,
   "metadata": {
    "collapsed": false
   },
   "outputs": [
    {
     "name": "stdout",
     "output_type": "stream",
     "text": [
      "253\n",
      "253\n"
     ]
    }
   ],
   "source": [
    "import numpy as np\n",
    "print np.amin(data)\n",
    "print np.amax(data)"
   ]
  },
  {
   "cell_type": "code",
   "execution_count": 16,
   "metadata": {
    "collapsed": false
   },
   "outputs": [
    {
     "name": "stdout",
     "output_type": "stream",
     "text": [
      "<type 'netCDF4._netCDF4.Variable'>\n"
     ]
    }
   ],
   "source": [
    "print type(data)"
   ]
  },
  {
   "cell_type": "code",
   "execution_count": null,
   "metadata": {
    "collapsed": true
   },
   "outputs": [],
   "source": []
  }
 ],
 "metadata": {
  "kernelspec": {
   "display_name": "Python 2",
   "language": "python",
   "name": "python2"
  },
  "language_info": {
   "codemirror_mode": {
    "name": "ipython",
    "version": 2
   },
   "file_extension": ".py",
   "mimetype": "text/x-python",
   "name": "python",
   "nbconvert_exporter": "python",
   "pygments_lexer": "ipython2",
   "version": "2.7.10"
  }
 },
 "nbformat": 4,
 "nbformat_minor": 0
}
