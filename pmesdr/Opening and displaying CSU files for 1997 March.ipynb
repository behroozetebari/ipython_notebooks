{
 "cells": [
  {
   "cell_type": "code",
   "execution_count": 1,
   "metadata": {},
   "outputs": [
    {
     "name": "stdout",
     "output_type": "stream",
     "text": [
      "Populating the interactive namespace from numpy and matplotlib\n"
     ]
    }
   ],
   "source": [
    "import glob\n",
    "import matplotlib.pyplot as plt\n",
    "from netCDF4 import Dataset\n",
    "import numpy as np\n",
    "%pylab inline"
   ]
  },
  {
   "cell_type": "code",
   "execution_count": 2,
   "metadata": {},
   "outputs": [
    {
     "name": "stdout",
     "output_type": "stream",
     "text": [
      "/Users/brodzik/projects/PMESDR/vagrant/mhardman\n",
      "GSX_CSU_SSMI_FCDR_V01R00_F13_D19970227_S2310_E0052_R09975.nc\n",
      "GSX_CSU_SSMI_FCDR_V01R00_F13_D19970228_S0052_E0234_R09976.nc\n",
      "GSX_CSU_SSMI_FCDR_V01R00_F13_D19970228_S0234_E0416_R09977.nc\n",
      "GSX_CSU_SSMI_FCDR_V01R00_F13_D19970228_S0416_E0558_R09978.nc\n",
      "GSX_CSU_SSMI_FCDR_V01R00_F13_D19970228_S0558_E0740_R09979.nc\n",
      "GSX_CSU_SSMI_FCDR_V01R00_F13_D19970228_S0740_E0922_R09980.nc\n",
      "GSX_CSU_SSMI_FCDR_V01R00_F13_D19970228_S0922_E1104_R09981.nc\n",
      "GSX_CSU_SSMI_FCDR_V01R00_F13_D19970228_S1104_E1246_R09982.nc\n",
      "GSX_CSU_SSMI_FCDR_V01R00_F13_D19970228_S1246_E1428_R09983.nc\n",
      "GSX_CSU_SSMI_FCDR_V01R00_F13_D19970228_S1428_E1610_R09984.nc\n",
      "GSX_CSU_SSMI_FCDR_V01R00_F13_D19970228_S1610_E1752_R09985.nc\n",
      "GSX_CSU_SSMI_FCDR_V01R00_F13_D19970228_S1752_E1934_R09986.nc\n",
      "GSX_CSU_SSMI_FCDR_V01R00_F13_D19970228_S1934_E2116_R09987.nc\n",
      "GSX_CSU_SSMI_FCDR_V01R00_F13_D19970228_S2116_E2258_R09988.nc\n",
      "GSX_CSU_SSMI_FCDR_V01R00_F13_D19970228_S2258_E0040_R09989.nc\n",
      "GSX_CSU_SSMI_FCDR_V01R00_F13_D19970301_S0040_E0222_R09990.nc\n",
      "GSX_CSU_SSMI_FCDR_V01R00_F13_D19970301_S0222_E0404_R09991.nc\n",
      "GSX_CSU_SSMI_FCDR_V01R00_F13_D19970301_S0404_E0546_R09992.nc\n",
      "GSX_CSU_SSMI_FCDR_V01R00_F13_D19970301_S0546_E0728_R09993.nc\n",
      "GSX_CSU_SSMI_FCDR_V01R00_F13_D19970301_S0728_E0910_R09994.nc\n",
      "GSX_CSU_SSMI_FCDR_V01R00_F13_D19970301_S0910_E1052_R09995.nc\n",
      "GSX_CSU_SSMI_FCDR_V01R00_F13_D19970301_S1052_E1234_R09996.nc\n",
      "GSX_CSU_SSMI_FCDR_V01R00_F13_D19970301_S1234_E1415_R09997.nc\n",
      "GSX_CSU_SSMI_FCDR_V01R00_F13_D19970301_S1415_E1557_R09998.nc\n",
      "GSX_CSU_SSMI_FCDR_V01R00_F13_D19970301_S1557_E1739_R09999.nc\n",
      "GSX_CSU_SSMI_FCDR_V01R00_F13_D19970301_S1739_E1921_R10000.nc\n",
      "GSX_CSU_SSMI_FCDR_V01R00_F13_D19970301_S1921_E2103_R10001.nc\n",
      "GSX_CSU_SSMI_FCDR_V01R00_F13_D19970301_S2103_E2245_R10002.nc\n",
      "GSX_CSU_SSMI_FCDR_V01R00_F13_D19970301_S2245_E0027_R10003.nc\n",
      "GSX_CSU_SSMI_FCDR_V01R00_F13_D19970302_S0027_E0209_R10004.nc\n",
      "GSX_CSU_SSMI_FCDR_V01R00_F13_D19970302_S0209_E0351_R10005.nc\n",
      "GSX_CSU_SSMI_FCDR_V01R00_F13_D19970302_S0351_E0533_R10006.nc\n",
      "GSX_CSU_SSMI_FCDR_V01R00_F13_D19970302_S0533_E0715_R10007.nc\n",
      "GSX_CSU_SSMI_FCDR_V01R00_F13_D19970302_S0715_E0857_R10008.nc\n",
      "GSX_CSU_SSMI_FCDR_V01R00_F13_D19970302_S0857_E1039_R10009.nc\n",
      "GSX_CSU_SSMI_FCDR_V01R00_F13_D19970302_S1039_E1221_R10010.nc\n",
      "GSX_CSU_SSMI_FCDR_V01R00_F13_D19970302_S1221_E1403_R10011.nc\n",
      "GSX_CSU_SSMI_FCDR_V01R00_F13_D19970302_S1403_E1545_R10012.nc\n",
      "GSX_CSU_SSMI_FCDR_V01R00_F13_D19970302_S1545_E1727_R10013.nc\n",
      "GSX_CSU_SSMI_FCDR_V01R00_F13_D19970302_S1727_E1909_R10014.nc\n",
      "GSX_CSU_SSMI_FCDR_V01R00_F13_D19970302_S1909_E2051_R10015.nc\n",
      "GSX_CSU_SSMI_FCDR_V01R00_F13_D19970302_S2051_E2233_R10016.nc\n",
      "GSX_CSU_SSMI_FCDR_V01R00_F13_D19970302_S2233_E0015_R10017.nc\n",
      "GSX_CSU_SSMI_FCDR_V01R00_F13_D19970303_S0015_E0157_R10018.nc\n",
      "GSX_CSU_SSMI_FCDR_V01R00_F13_D19970303_S0157_E0339_R10019.nc\n",
      "GSX_CSU_SSMI_FCDR_V01R00_F13_D19970303_S0339_E0521_R10020.nc\n",
      "GSX_CSU_SSMI_FCDR_V01R00_F13_D19970303_S0521_E0703_R10021.nc\n",
      "GSX_CSU_SSMI_FCDR_V01R00_F13_D19970303_S0703_E0845_R10022.nc\n",
      "GSX_CSU_SSMI_FCDR_V01R00_F13_D19970303_S0845_E1027_R10023.nc\n",
      "GSX_CSU_SSMI_FCDR_V01R00_F13_D19970303_S1027_E1209_R10024.nc\n",
      "GSX_CSU_SSMI_FCDR_V01R00_F13_D19970303_S1209_E1351_R10025.nc\n",
      "GSX_CSU_SSMI_FCDR_V01R00_F13_D19970303_S1351_E1533_R10026.nc\n",
      "GSX_CSU_SSMI_FCDR_V01R00_F13_D19970303_S1533_E1715_R10027.nc\n",
      "GSX_CSU_SSMI_FCDR_V01R00_F13_D19970303_S1715_E1857_R10028.nc\n",
      "GSX_CSU_SSMI_FCDR_V01R00_F13_D19970303_S1857_E2039_R10029.nc\n",
      "GSX_RSS_SSMI_FCDR_V07R00_F13_D19970302_S0321_E0513_R10006.nc\n",
      "GSX_RSS_SSMI_FCDR_V07R00_F13_D19970302_S0503_E0655_R10007.nc\n"
     ]
    }
   ],
   "source": [
    "%cd ~/projects/PMESDR/vagrant/mhardman/\n",
    "%ls GSX*F13*"
   ]
  },
  {
   "cell_type": "code",
   "execution_count": 19,
   "metadata": {},
   "outputs": [
    {
     "data": {
      "text/plain": [
       "['GSX_CSU_SSMI_FCDR_V01R00_F13_D19970302_S0209_E0351_R10005.nc']"
      ]
     },
     "execution_count": 19,
     "metadata": {},
     "output_type": "execute_result"
    }
   ],
   "source": [
    "list = glob.glob(\"GSX*R10005.nc\")\n",
    "list"
   ]
  },
  {
   "cell_type": "code",
   "execution_count": 20,
   "metadata": {},
   "outputs": [
    {
     "data": {
      "text/plain": [
       "<class 'netCDF4._netCDF4.Dataset'>\n",
       "root group (NETCDF4 data model, file format HDF5):\n",
       "    Conventions: CF-1.6\n",
       "    creator_email: nsidc@nsidc.org\n",
       "    creator_url: http://www.nsidc.org/\n",
       "    gsx_repository: https://bitbucket.org/nsidc/gsx.git\n",
       "    gsx_variables: brightness_temperature_19V, brightness_temperature_19H, brightness_temperature_22V, brightness_temperature_37V, brightness_temperature_37H, brightness_temperature_85V, brightness_temperature_85H\n",
       "    institution: National Snow and Ice Data Center\n",
       "    standard_name_vocabulary: CF Standard Name Table (v27, 28 November 2013)\n",
       "    gsx_date_created: 2015-10-14 15:08:47.123367\n",
       "    gsx_source: CSU_SSMI_FCDR_V01R00_F13_D19970302_S0209_E0351_R10005.nc\n",
       "    gsx_version: 1.6.0\n",
       "    input_provider: CSU\n",
       "    platform: DMSP 5D-2/F13 > Defense Meteorological Satellite Program-F13\n",
       "    sensor: SSM/I > Special Sensor Microwave/Imager\n",
       "    short_platform: F13\n",
       "    short_sensor: SSMI\n",
       "    time_coverage_end: 1997-03-02T03:51:51Z\n",
       "    time_coverage_start: 1997-03-02T02:09:52Z\n",
       "    dimensions(sizes): scans_loc1(1601), scans_loc2(3202), measurements_loc1(64), measurements_loc2(128), ellipse_dimensions(2)\n",
       "    variables(dimensions): int32 \u001b[4morbit\u001b[0m(), float64 \u001b[4mscan_time_loc1\u001b[0m(scans_loc1), float64 \u001b[4mscan_time_loc2\u001b[0m(scans_loc2), float32 \u001b[4mspacecraft_latitude_loc1\u001b[0m(scans_loc1), float32 \u001b[4mspacecraft_latitude_loc2\u001b[0m(scans_loc2), float32 \u001b[4mspacecraft_longitude_loc1\u001b[0m(scans_loc1), float32 \u001b[4mspacecraft_longitude_loc2\u001b[0m(scans_loc2), float32 \u001b[4mlatitude_loc1\u001b[0m(scans_loc1,measurements_loc1), float32 \u001b[4mlatitude_loc2\u001b[0m(scans_loc2,measurements_loc2), float32 \u001b[4mlongitude_loc1\u001b[0m(scans_loc1,measurements_loc1), float32 \u001b[4mlongitude_loc2\u001b[0m(scans_loc2,measurements_loc2), float32 \u001b[4mearth_incidence_angle_loc1\u001b[0m(scans_loc1,measurements_loc1), float32 \u001b[4mearth_incidence_angle_loc2\u001b[0m(scans_loc2,measurements_loc2), float32 \u001b[4mearth_azimuth_angle_loc1\u001b[0m(scans_loc1,measurements_loc1), float32 \u001b[4mearth_azimuth_angle_loc2\u001b[0m(scans_loc2,measurements_loc2), float32 \u001b[4mbrightness_temperature_19V\u001b[0m(scans_loc1,measurements_loc1), float32 \u001b[4mbrightness_temperature_19H\u001b[0m(scans_loc1,measurements_loc1), float32 \u001b[4mbrightness_temperature_22V\u001b[0m(scans_loc1,measurements_loc1), float32 \u001b[4mbrightness_temperature_37V\u001b[0m(scans_loc1,measurements_loc1), float32 \u001b[4mbrightness_temperature_37H\u001b[0m(scans_loc1,measurements_loc1), float32 \u001b[4mbrightness_temperature_85H\u001b[0m(scans_loc2,measurements_loc2), float32 \u001b[4mbrightness_temperature_85V\u001b[0m(scans_loc2,measurements_loc2), float32 \u001b[4mefov_19V\u001b[0m(ellipse_dimensions), float32 \u001b[4mefov_19H\u001b[0m(ellipse_dimensions), float32 \u001b[4mefov_22V\u001b[0m(ellipse_dimensions), float32 \u001b[4mefov_37V\u001b[0m(ellipse_dimensions), float32 \u001b[4mefov_37H\u001b[0m(ellipse_dimensions), float32 \u001b[4mefov_85H\u001b[0m(ellipse_dimensions), float32 \u001b[4mefov_85V\u001b[0m(ellipse_dimensions)\n",
       "    groups: "
      ]
     },
     "execution_count": 20,
     "metadata": {},
     "output_type": "execute_result"
    }
   ],
   "source": [
    "f = Dataset(list[0], \"r\", format=\"NETCDF\")\n",
    "f"
   ]
  },
  {
   "cell_type": "code",
   "execution_count": 5,
   "metadata": {},
   "outputs": [
    {
     "data": {
      "text/plain": [
       "<class 'netCDF4._netCDF4.Variable'>\n",
       "float32 brightness_temperature_19H(scans_loc1, measurements_loc1)\n",
       "    standard_name: brightness_temperature\n",
       "    long_name: NOAA FCDR of 19.35 GHz horizontally polarized brightness temperature\n",
       "    units: kelvin\n",
       "    valid_range: [  50.  350.]\n",
       "    _FillValue: -100.0\n",
       "    coordinates: longitude_loc1 latitude_loc1\n",
       "    gsx_field_of_view: efov_19H\n",
       "    gsx_azimuth_angle: earth_azimuth_angle_loc1\n",
       "    gsx_incidence_angle: earth_incidence_angle_loc1\n",
       "unlimited dimensions: \n",
       "current shape = (380, 64)\n",
       "filling on"
      ]
     },
     "execution_count": 5,
     "metadata": {},
     "output_type": "execute_result"
    }
   ],
   "source": [
    "f.variables['brightness_temperature_19H']"
   ]
  },
  {
   "cell_type": "code",
   "execution_count": 21,
   "metadata": {},
   "outputs": [],
   "source": [
    "data = f.variables['brightness_temperature_19H'][:]\n",
    "np.shape(data)\n",
    "f.close()"
   ]
  },
  {
   "cell_type": "code",
   "execution_count": 22,
   "metadata": {},
   "outputs": [
    {
     "data": {
      "text/plain": [
       "(99.0, 288.53)"
      ]
     },
     "execution_count": 22,
     "metadata": {},
     "output_type": "execute_result"
    }
   ],
   "source": [
    "np.amin(data), np.amax(data)"
   ]
  },
  {
   "cell_type": "code",
   "execution_count": null,
   "metadata": {},
   "outputs": [],
   "source": [
    "def add_new_swath(image, image_index, list, list_index):\n",
    "    f = Dataset(list[list_index], \"r\", format=\"NETCDF\")\n",
    "    data = f.variables['fcdr_tb37h_env2'][:]\n",
    "    image[0:data.shape[0], image_index * 90: (image_index * 90) + data.shape[1]] = data\n",
    "    print(\"data:\", np.amin(data), np.amax(data))\n",
    "    print(\"image:\",np.amin(image), np.amax(image))\n",
    "    f.close()\n",
    "    return(image)"
   ]
  },
  {
   "cell_type": "code",
   "execution_count": null,
   "metadata": {},
   "outputs": [],
   "source": [
    "my_image = np.zeros((3230,90 * 10))\n",
    "my_image.fill(250.)\n",
    "my_image = add_new_swath(my_image, 8, list, 0)\n",
    "my_image = add_new_swath(my_image, 7, list, 1)\n",
    "my_image = add_new_swath(my_image, 5, list, 2)\n",
    "my_image = add_new_swath(my_image, 3, list, 3)\n",
    "my_image = add_new_swath(my_image, 2, list, 4)\n",
    "my_image = add_new_swath(my_image, 1, list, 5)"
   ]
  },
  {
   "cell_type": "code",
   "execution_count": null,
   "metadata": {},
   "outputs": [],
   "source": [
    "my_image.shape"
   ]
  },
  {
   "cell_type": "code",
   "execution_count": 23,
   "metadata": {},
   "outputs": [
    {
     "data": {
      "text/plain": [
       "(-0.5, 63.5, 1600.5, -0.5)"
      ]
     },
     "execution_count": 23,
     "metadata": {},
     "output_type": "execute_result"
    },
    {
     "data": {
      "image/png": "[encoded data removed]",
      "text/plain": [
       "<matplotlib.figure.Figure at 0x1146c35c0>"
      ]
     },
     "metadata": {},
     "output_type": "display_data"
    }
   ],
   "source": [
    "fig, ax = plt.subplots(1, 1)\n",
    "plt.imshow(data, cmap=plt.cm.gray, interpolation='None',\n",
    "          vmin=50., vmax=300.)\n",
    "plt.axis('off')"
   ]
  },
  {
   "cell_type": "code",
   "execution_count": null,
   "metadata": {},
   "outputs": [],
   "source": [
    "outfile = \"/Users/brodzik/CSU_swath_20121201_right_side.jpg\"\n",
    "fig.savefig(outfile,dpi=1200)"
   ]
  },
  {
   "cell_type": "code",
   "execution_count": null,
   "metadata": {},
   "outputs": [],
   "source": [
    "my_image = np.zeros((3230,90 * 10))\n",
    "my_image.fill(250.)\n",
    "my_image = add_new_swath(my_image, 9, list, 6)\n",
    "my_image = add_new_swath(my_image, 8, list, 7)\n",
    "my_image = add_new_swath(my_image, 6, list, 8)\n",
    "my_image = add_new_swath(my_image, 4, list, 9)\n",
    "my_image = add_new_swath(my_image, 3, list, 10)\n",
    "my_image = add_new_swath(my_image, 2, list, 11)\n",
    "my_image = add_new_swath(my_image, 1, list, 12)\n",
    "my_image = add_new_swath(my_image, 0, list, 13)\n"
   ]
  },
  {
   "cell_type": "code",
   "execution_count": null,
   "metadata": {},
   "outputs": [],
   "source": [
    "fig, ax = plt.subplots(1, 1)\n",
    "plt.imshow(my_image, cmap=plt.cm.gray, interpolation='None',\n",
    "          vmin=50., vmax=300.)\n",
    "plt.axis('off')"
   ]
  },
  {
   "cell_type": "code",
   "execution_count": null,
   "metadata": {},
   "outputs": [],
   "source": [
    "outfile = \"/Users/brodzik/CSU_swath_20121201_left_side.jpg\"\n",
    "fig.savefig(outfile,dpi=1200)"
   ]
  },
  {
   "cell_type": "code",
   "execution_count": null,
   "metadata": {},
   "outputs": [],
   "source": [
    "def swath_shapes(list):\n",
    "    for filename in list:\n",
    "        f = Dataset(filename, \"r\", format=\"NETCDF\")\n",
    "        print(filename, np.shape(f.variables['fcdr_tb37h_env2']))\n",
    "        f.close()"
   ]
  },
  {
   "cell_type": "code",
   "execution_count": null,
   "metadata": {},
   "outputs": [],
   "source": [
    "swath_shapes(list)"
   ]
  },
  {
   "cell_type": "code",
   "execution_count": null,
   "metadata": {},
   "outputs": [],
   "source": []
  }
 ],
 "metadata": {
  "kernelspec": {
   "display_name": "Python 3",
   "language": "python",
   "name": "python3"
  },
  "language_info": {
   "codemirror_mode": {
    "name": "ipython",
    "version": 3
   },
   "file_extension": ".py",
   "mimetype": "text/x-python",
   "name": "python",
   "nbconvert_exporter": "python",
   "pygments_lexer": "ipython3",
   "version": "3.6.5"
  }
 },
 "nbformat": 4,
 "nbformat_minor": 1
}
