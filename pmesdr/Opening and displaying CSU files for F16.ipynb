{
 "cells": [
  {
   "cell_type": "code",
   "execution_count": 3,
   "metadata": {},
   "outputs": [
    {
     "name": "stdout",
     "output_type": "stream",
     "text": [
      "Populating the interactive namespace from numpy and matplotlib\n"
     ]
    }
   ],
   "source": [
    "import glob\n",
    "import matplotlib.pyplot as plt\n",
    "from netCDF4 import Dataset\n",
    "import numpy as np\n",
    "%pylab inline"
   ]
  },
  {
   "cell_type": "code",
   "execution_count": 4,
   "metadata": {},
   "outputs": [
    {
     "name": "stdout",
     "output_type": "stream",
     "text": [
      "/Users/brodzik/projects/PMESDR/brodzik\n",
      "GSX_CSU_SSMIS_FCDR_V01R00_F16_D20051101_S0017_E0159_R10515.nc\n",
      "GSX_CSU_SSMIS_FCDR_V01R00_F16_D20051101_S0159_E0341_R10516.nc\n",
      "GSX_CSU_SSMIS_FCDR_V01R00_F16_D20051101_S0341_E0523_R10517.nc\n",
      "GSX_CSU_SSMIS_FCDR_V01R00_F16_D20051101_S0523_E0705_R10518.nc\n",
      "GSX_CSU_SSMIS_FCDR_V01R00_F16_D20051101_S0705_E0847_R10519.nc\n",
      "GSX_CSU_SSMIS_FCDR_V01R00_F16_D20051101_S1029_E1211_R10521.nc\n",
      "GSX_CSU_SSMIS_FCDR_V01R00_F16_D20051101_S1211_E1353_R10522.nc\n",
      "GSX_CSU_SSMIS_FCDR_V01R00_F16_D20051101_S1353_E1535_R10523.nc\n",
      "GSX_CSU_SSMIS_FCDR_V01R00_F16_D20051101_S1535_E1716_R10524.nc\n",
      "GSX_CSU_SSMIS_FCDR_V01R00_F16_D20051101_S1716_E1858_R10525.nc\n",
      "GSX_CSU_SSMIS_FCDR_V01R00_F16_D20051101_S2222_E0004_R10528.nc\n",
      "GSX_CSU_SSMIS_FCDR_V01R00_F16_D20051102_S0004_E0146_R10529.nc\n",
      "GSX_CSU_SSMIS_FCDR_V01R00_F16_D20051102_S0146_E0328_R10530.nc\n",
      "GSX_CSU_SSMIS_FCDR_V01R00_F16_D20051102_S0328_E0510_R10531.nc\n",
      "GSX_CSU_SSMIS_FCDR_V01R00_F16_D20051102_S0652_E0834_R10533.nc\n",
      "GSX_CSU_SSMIS_FCDR_V01R00_F16_D20051102_S0834_E1016_R10534.nc\n",
      "GSX_CSU_SSMIS_FCDR_V01R00_F16_D20051102_S1016_E1158_R10535.nc\n"
     ]
    }
   ],
   "source": [
    "%cd ~/projects/PMESDR/brodzik\n",
    "%ls GSX*F16*"
   ]
  },
  {
   "cell_type": "code",
   "execution_count": 5,
   "metadata": {},
   "outputs": [
    {
     "data": {
      "text/plain": [
       "['GSX_CSU_SSMIS_FCDR_V01R00_F16_D20051101_S1353_E1535_R10523.nc']"
      ]
     },
     "execution_count": 5,
     "metadata": {},
     "output_type": "execute_result"
    }
   ],
   "source": [
    "list = glob.glob(\"GSX*R10523.nc\")\n",
    "list"
   ]
  },
  {
   "cell_type": "code",
   "execution_count": 8,
   "metadata": {},
   "outputs": [
    {
     "ename": "OSError",
     "evalue": "NetCDF: Unknown file format",
     "output_type": "error",
     "traceback": [
      "\u001b[0;31m---------------------------------------------------------------------------\u001b[0m",
      "\u001b[0;31mOSError\u001b[0m                                   Traceback (most recent call last)",
      "\u001b[0;32m<ipython-input-8-59489e3f761a>\u001b[0m in \u001b[0;36m<module>\u001b[0;34m()\u001b[0m\n\u001b[0;32m----> 1\u001b[0;31m \u001b[0mf\u001b[0m \u001b[0;34m=\u001b[0m \u001b[0mDataset\u001b[0m\u001b[0;34m(\u001b[0m\u001b[0mlist\u001b[0m\u001b[0;34m[\u001b[0m\u001b[0;36m0\u001b[0m\u001b[0;34m]\u001b[0m\u001b[0;34m,\u001b[0m \u001b[0;34m\"r\"\u001b[0m\u001b[0;34m,\u001b[0m \u001b[0mformat\u001b[0m\u001b[0;34m=\u001b[0m\u001b[0;34m\"NETCDF\"\u001b[0m\u001b[0;34m)\u001b[0m\u001b[0;34m\u001b[0m\u001b[0m\n\u001b[0m\u001b[1;32m      2\u001b[0m \u001b[0mf\u001b[0m\u001b[0;34m\u001b[0m\u001b[0m\n",
      "\u001b[0;32mnetCDF4/_netCDF4.pyx\u001b[0m in \u001b[0;36mnetCDF4._netCDF4.Dataset.__init__\u001b[0;34m()\u001b[0m\n",
      "\u001b[0;32mnetCDF4/_netCDF4.pyx\u001b[0m in \u001b[0;36mnetCDF4._netCDF4._ensure_nc_success\u001b[0;34m()\u001b[0m\n",
      "\u001b[0;31mOSError\u001b[0m: NetCDF: Unknown file format"
     ]
    }
   ],
   "source": [
    "f = Dataset(list[0], \"r\", format=\"NETCDF\")\n",
    "f"
   ]
  },
  {
   "cell_type": "code",
   "execution_count": null,
   "metadata": {},
   "outputs": [],
   "source": [
    "f.variables['brightness_temperature_19H']"
   ]
  },
  {
   "cell_type": "code",
   "execution_count": null,
   "metadata": {},
   "outputs": [],
   "source": [
    "data = f.variables['brightness_temperature_19H'][:]\n",
    "np.shape(data)\n",
    "f.close()"
   ]
  },
  {
   "cell_type": "code",
   "execution_count": null,
   "metadata": {},
   "outputs": [],
   "source": [
    "np.amin(data), np.amax(data)"
   ]
  },
  {
   "cell_type": "code",
   "execution_count": null,
   "metadata": {},
   "outputs": [],
   "source": [
    "def add_new_swath(image, image_index, list, list_index):\n",
    "    f = Dataset(list[list_index], \"r\", format=\"NETCDF\")\n",
    "    data = f.variables['fcdr_tb37h_env2'][:]\n",
    "    image[0:data.shape[0], image_index * 90: (image_index * 90) + data.shape[1]] = data\n",
    "    print(\"data:\", np.amin(data), np.amax(data))\n",
    "    print(\"image:\",np.amin(image), np.amax(image))\n",
    "    f.close()\n",
    "    return(image)"
   ]
  },
  {
   "cell_type": "code",
   "execution_count": null,
   "metadata": {},
   "outputs": [],
   "source": [
    "my_image = np.zeros((3230,90 * 10))\n",
    "my_image.fill(250.)\n",
    "my_image = add_new_swath(my_image, 8, list, 0)\n",
    "my_image = add_new_swath(my_image, 7, list, 1)\n",
    "my_image = add_new_swath(my_image, 5, list, 2)\n",
    "my_image = add_new_swath(my_image, 3, list, 3)\n",
    "my_image = add_new_swath(my_image, 2, list, 4)\n",
    "my_image = add_new_swath(my_image, 1, list, 5)"
   ]
  },
  {
   "cell_type": "code",
   "execution_count": null,
   "metadata": {},
   "outputs": [],
   "source": [
    "my_image.shape"
   ]
  },
  {
   "cell_type": "code",
   "execution_count": null,
   "metadata": {},
   "outputs": [],
   "source": [
    "fig, ax = plt.subplots(1, 1)\n",
    "plt.imshow(data, cmap=plt.cm.gray, interpolation='None',\n",
    "          vmin=50., vmax=300.)\n",
    "plt.axis('off')"
   ]
  },
  {
   "cell_type": "code",
   "execution_count": null,
   "metadata": {},
   "outputs": [],
   "source": [
    "outfile = \"/Users/brodzik/CSU_swath_20121201_right_side.jpg\"\n",
    "fig.savefig(outfile,dpi=1200)"
   ]
  },
  {
   "cell_type": "code",
   "execution_count": null,
   "metadata": {},
   "outputs": [],
   "source": [
    "my_image = np.zeros((3230,90 * 10))\n",
    "my_image.fill(250.)\n",
    "my_image = add_new_swath(my_image, 9, list, 6)\n",
    "my_image = add_new_swath(my_image, 8, list, 7)\n",
    "my_image = add_new_swath(my_image, 6, list, 8)\n",
    "my_image = add_new_swath(my_image, 4, list, 9)\n",
    "my_image = add_new_swath(my_image, 3, list, 10)\n",
    "my_image = add_new_swath(my_image, 2, list, 11)\n",
    "my_image = add_new_swath(my_image, 1, list, 12)\n",
    "my_image = add_new_swath(my_image, 0, list, 13)\n"
   ]
  },
  {
   "cell_type": "code",
   "execution_count": null,
   "metadata": {},
   "outputs": [],
   "source": [
    "fig, ax = plt.subplots(1, 1)\n",
    "plt.imshow(my_image, cmap=plt.cm.gray, interpolation='None',\n",
    "          vmin=50., vmax=300.)\n",
    "plt.axis('off')"
   ]
  },
  {
   "cell_type": "code",
   "execution_count": null,
   "metadata": {},
   "outputs": [],
   "source": [
    "outfile = \"/Users/brodzik/CSU_swath_20121201_left_side.jpg\"\n",
    "fig.savefig(outfile,dpi=1200)"
   ]
  },
  {
   "cell_type": "code",
   "execution_count": null,
   "metadata": {},
   "outputs": [],
   "source": [
    "def swath_shapes(list):\n",
    "    for filename in list:\n",
    "        f = Dataset(filename, \"r\", format=\"NETCDF\")\n",
    "        print(filename, np.shape(f.variables['fcdr_tb37h_env2']))\n",
    "        f.close()"
   ]
  },
  {
   "cell_type": "code",
   "execution_count": null,
   "metadata": {},
   "outputs": [],
   "source": [
    "swath_shapes(list)"
   ]
  },
  {
   "cell_type": "code",
   "execution_count": null,
   "metadata": {},
   "outputs": [],
   "source": []
  }
 ],
 "metadata": {
  "kernelspec": {
   "display_name": "Python 3",
   "language": "python",
   "name": "python3"
  },
  "language_info": {
   "codemirror_mode": {
    "name": "ipython",
    "version": 3
   },
   "file_extension": ".py",
   "mimetype": "text/x-python",
   "name": "python",
   "nbconvert_exporter": "python",
   "pygments_lexer": "ipython3",
   "version": "3.6.2"
  }
 },
 "nbformat": 4,
 "nbformat_minor": 1
}
