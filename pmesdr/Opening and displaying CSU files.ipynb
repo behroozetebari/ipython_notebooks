{
 "cells": [
  {
   "cell_type": "code",
   "execution_count": 1,
   "metadata": {
    "collapsed": false
   },
   "outputs": [
    {
     "name": "stdout",
     "output_type": "stream",
     "text": [
      "Populating the interactive namespace from numpy and matplotlib\n"
     ]
    },
    {
     "name": "stderr",
     "output_type": "stream",
     "text": [
      "/Users/brodzik/.conda/envs/pmesdr/lib/python2.7/site-packages/matplotlib/font_manager.py:273: UserWarning: Matplotlib is building the font cache using fc-list. This may take a moment.\n",
      "  warnings.warn('Matplotlib is building the font cache using fc-list. This may take a moment.')\n"
     ]
    }
   ],
   "source": [
    "import glob\n",
    "import matplotlib.pyplot as plt\n",
    "from netCDF4 import Dataset\n",
    "import numpy as np\n",
    "%pylab inline"
   ]
  },
  {
   "cell_type": "code",
   "execution_count": 2,
   "metadata": {
    "collapsed": false
   },
   "outputs": [
    {
     "name": "stdout",
     "output_type": "stream",
     "text": [
      "/Users/brodzik/projects/PMESDR/CSU_FCDR/F17/1212/121201\n",
      "CSU_SSMIS_FCDR_V01R00_F17_D20121201_S0020_E0202_R31339.nc\n",
      "CSU_SSMIS_FCDR_V01R00_F17_D20121201_S0202_E0344_R31340.nc\n",
      "CSU_SSMIS_FCDR_V01R00_F17_D20121201_S0344_E0526_R31341.nc\n",
      "CSU_SSMIS_FCDR_V01R00_F17_D20121201_S0526_E0708_R31342.nc\n",
      "CSU_SSMIS_FCDR_V01R00_F17_D20121201_S0708_E0850_R31343.nc\n",
      "CSU_SSMIS_FCDR_V01R00_F17_D20121201_S0850_E1032_R31344.nc\n",
      "CSU_SSMIS_FCDR_V01R00_F17_D20121201_S1032_E1214_R31345.nc\n",
      "CSU_SSMIS_FCDR_V01R00_F17_D20121201_S1214_E1356_R31346.nc\n",
      "CSU_SSMIS_FCDR_V01R00_F17_D20121201_S1356_E1538_R31347.nc\n",
      "CSU_SSMIS_FCDR_V01R00_F17_D20121201_S1538_E1720_R31348.nc\n",
      "CSU_SSMIS_FCDR_V01R00_F17_D20121201_S1720_E1902_R31349.nc\n",
      "CSU_SSMIS_FCDR_V01R00_F17_D20121201_S1902_E2044_R31350.nc\n",
      "CSU_SSMIS_FCDR_V01R00_F17_D20121201_S2044_E2225_R31351.nc\n",
      "CSU_SSMIS_FCDR_V01R00_F17_D20121201_S2226_E0007_R31352.nc\n"
     ]
    }
   ],
   "source": [
    "%cd ~/projects/PMESDR/CSU_FCDR/F17/1212/121201\n",
    "%ls"
   ]
  },
  {
   "cell_type": "code",
   "execution_count": 3,
   "metadata": {
    "collapsed": false
   },
   "outputs": [
    {
     "data": {
      "text/plain": [
       "['CSU_SSMIS_FCDR_V01R00_F17_D20121201_S0708_E0850_R31343.nc',\n",
       " 'CSU_SSMIS_FCDR_V01R00_F17_D20121201_S2226_E0007_R31352.nc',\n",
       " 'CSU_SSMIS_FCDR_V01R00_F17_D20121201_S0850_E1032_R31344.nc',\n",
       " 'CSU_SSMIS_FCDR_V01R00_F17_D20121201_S1720_E1902_R31349.nc',\n",
       " 'CSU_SSMIS_FCDR_V01R00_F17_D20121201_S1214_E1356_R31346.nc',\n",
       " 'CSU_SSMIS_FCDR_V01R00_F17_D20121201_S1032_E1214_R31345.nc',\n",
       " 'CSU_SSMIS_FCDR_V01R00_F17_D20121201_S0020_E0202_R31339.nc',\n",
       " 'CSU_SSMIS_FCDR_V01R00_F17_D20121201_S0526_E0708_R31342.nc',\n",
       " 'CSU_SSMIS_FCDR_V01R00_F17_D20121201_S1538_E1720_R31348.nc',\n",
       " 'CSU_SSMIS_FCDR_V01R00_F17_D20121201_S1902_E2044_R31350.nc',\n",
       " 'CSU_SSMIS_FCDR_V01R00_F17_D20121201_S0344_E0526_R31341.nc',\n",
       " 'CSU_SSMIS_FCDR_V01R00_F17_D20121201_S1356_E1538_R31347.nc',\n",
       " 'CSU_SSMIS_FCDR_V01R00_F17_D20121201_S2044_E2225_R31351.nc',\n",
       " 'CSU_SSMIS_FCDR_V01R00_F17_D20121201_S0202_E0344_R31340.nc']"
      ]
     },
     "execution_count": 3,
     "metadata": {},
     "output_type": "execute_result"
    }
   ],
   "source": [
    "list = glob.glob(\"*nc\")\n",
    "list"
   ]
  },
  {
   "cell_type": "code",
   "execution_count": 4,
   "metadata": {
    "collapsed": false
   },
   "outputs": [
    {
     "data": {
      "text/plain": [
       "<type 'netCDF4._netCDF4.Dataset'>\n",
       "root group (NETCDF4 data model, file format HDF5):\n",
       "    Conventions: CF-1.6\n",
       "    Metadata_Conventions: CF-1.6, Unidata Dataset Discovery v1.0, NOAA CDR v1.0, GDS v2.0\n",
       "    standard_name_vocabulary: CF Standard Name Table (v20, 11 September 2012)\n",
       "    id: CSU_SSMIS_FCDR_V01R00_F17_D20121201_S0708_E0850_R31343.nc\n",
       "    naming_authority: gov.noaa.ncdc\n",
       "    metadata_link: gov.noaa.ncdc:C00827\n",
       "    title: CSU SSMIS FCDR\n",
       "    product_version: V01R00\n",
       "    revision_date: 2013-05-13\n",
       "    summary: Colorado State University Special Sensor Microwave Imager/Sounder (SSMIS) Fundamental Climate Data Record (FCDR) of intercalibrated brightness temperatures\n",
       "    keywords: EARTH SCIENCE > SPECTRAL/ENGINEERING > MICROWAVE > BRIGHTNESS TEMPERATURE\n",
       "    keywords_vocabulary: NASA Global Change Master Directory (GCMD) Earth Science Keywords, Version 6.0\n",
       "    platform: DMSP 5D-3/F17 > Defense Meteorological Satellite Program-F17\n",
       "    sensor: SSMIS > Special Sensor Microwave Imager/Sounder\n",
       "    cdm_data_type: Swath\n",
       "    cdr_program: NOAA Climate Data Record Program for satellites, FY 2013\n",
       "    cdr_variable: fcdr_tb19v_env1, fcdr_tb19h_env1, fcdr_tb22v_env1, fcdr_tb37v_env2, fcdr_tb37h_env2, fcdr_tb91v_img2, fcdr_tb91h_img2\n",
       "    source: SSMIS_TDRBASE_V01R03_F17_D20121201_S0708_E0850_R31343.nc\n",
       "    date_created: 2013-05-14T17:43MDT\n",
       "    creator_name: Wesley Berg\n",
       "    creator_url: http://rain.atmos.colostate.edu/FCDR\n",
       "    creator_email: fcdr@atmos.colostate.edu\n",
       "    institution: Colorado State University, Dept. of Atmospheric Science, Kummerow research group\n",
       "    processing_level: NOAA Level 2\n",
       "    geospatial_lat_min:  -89.19\n",
       "    geospatial_lat_max:   88.96\n",
       "    geospatial_lon_min: -180.00\n",
       "    geospatial_lon_max:  180.00\n",
       "    geospatial_lat_units: degrees_north\n",
       "    geospatial_lon_units: degrees_east\n",
       "    spatial_resolution: 19 V/H GHz: 45km X 74km, 22 V GHz: 45km X 74km, 37 V/H GHz: 28km X 45km, 91 V/H GHz: 13km X 16km, 150 and 183 GHz channels: 13km x 16km, lower and upper atmosphere sounding channels: 18km x 27km\n",
       "    time_coverage_start: 2012-12-01T07:08:38Z\n",
       "    time_coverage_end: 2012-12-01T08:50:33Z\n",
       "    time_coverage_duration: PT1H41M55S\n",
       "    license: No restrictions on access or use\n",
       "    contributor_name: Christian Kummerow, Wesley Berg, Mathew Sapiano\n",
       "    contributor_role: Principal investigator, Co-Investigator and developer with overall responsibility for FCDR data software and documentation, Responsible for intercalibration geolocation and cross-track bias adjustments including associated software and documentation\n",
       "    orbit_number: 31343\n",
       "    dimensions(sizes): npixel_img(180), npixel_env(90), npixel_las(60), npixel_uas(30), nscan(3220), ntest(9), nsensor(6), numchar(23)\n",
       "    variables(dimensions): float64 \u001b[4morbit\u001b[0m(nscan), float32 \u001b[4mspacecraft_lat\u001b[0m(nscan), float32 \u001b[4mspacecraft_lon\u001b[0m(nscan), float32 \u001b[4mspacecraft_alt\u001b[0m(nscan), float64 \u001b[4mscan_time\u001b[0m(nscan), |S1 \u001b[4mscan_datetime\u001b[0m(nscan,numchar), float32 \u001b[4mlat_env1\u001b[0m(nscan,npixel_env), float32 \u001b[4mlon_env1\u001b[0m(nscan,npixel_env), float32 \u001b[4meia_env1\u001b[0m(nscan,npixel_env), int8 \u001b[4msun_glint_env1\u001b[0m(nscan,npixel_env), int8 \u001b[4mquality_env1\u001b[0m(nscan,npixel_env), float32 \u001b[4mfcdr_tb19v_env1\u001b[0m(nscan,npixel_env), float32 \u001b[4mfcdr_tb19h_env1\u001b[0m(nscan,npixel_env), float32 \u001b[4mfcdr_tb22v_env1\u001b[0m(nscan,npixel_env), float32 \u001b[4mlat_env2\u001b[0m(nscan,npixel_env), float32 \u001b[4mlon_env2\u001b[0m(nscan,npixel_env), float32 \u001b[4meia_env2\u001b[0m(nscan,npixel_env), int8 \u001b[4msun_glint_env2\u001b[0m(nscan,npixel_env), int8 \u001b[4mquality_env2\u001b[0m(nscan,npixel_env), float32 \u001b[4mfcdr_tb37v_env2\u001b[0m(nscan,npixel_env), float32 \u001b[4mfcdr_tb37h_env2\u001b[0m(nscan,npixel_env), float32 \u001b[4mlat_img1\u001b[0m(nscan,npixel_img), float32 \u001b[4mlon_img1\u001b[0m(nscan,npixel_img), float32 \u001b[4meia_img1\u001b[0m(nscan,npixel_img), int8 \u001b[4msun_glint_img1\u001b[0m(nscan,npixel_img), int8 \u001b[4mquality_img1\u001b[0m(nscan,npixel_img), float32 \u001b[4mtb150h_img1\u001b[0m(nscan,npixel_img), float32 \u001b[4mtb183_1h_img1\u001b[0m(nscan,npixel_img), float32 \u001b[4mtb183_3h_img1\u001b[0m(nscan,npixel_img), float32 \u001b[4mtb183_7h_img1\u001b[0m(nscan,npixel_img), float32 \u001b[4mlat_img2\u001b[0m(nscan,npixel_img), float32 \u001b[4mlon_img2\u001b[0m(nscan,npixel_img), float32 \u001b[4meia_img2\u001b[0m(nscan,npixel_img), int8 \u001b[4msun_glint_img2\u001b[0m(nscan,npixel_img), int8 \u001b[4mquality_img2\u001b[0m(nscan,npixel_img), float32 \u001b[4mfcdr_tb91v_img2\u001b[0m(nscan,npixel_img), float32 \u001b[4mfcdr_tb91h_img2\u001b[0m(nscan,npixel_img), float32 \u001b[4mlat_las\u001b[0m(nscan,npixel_las), float32 \u001b[4mlon_las\u001b[0m(nscan,npixel_las), float32 \u001b[4meia_las\u001b[0m(nscan,npixel_las), int8 \u001b[4msun_glint_las\u001b[0m(nscan,npixel_las), int8 \u001b[4mquality_las\u001b[0m(nscan,npixel_las), float32 \u001b[4mtb50h_ch1_las\u001b[0m(nscan,npixel_las), float32 \u001b[4mtb52h_ch2_las\u001b[0m(nscan,npixel_las), float32 \u001b[4mtb53h_ch3_las\u001b[0m(nscan,npixel_las), float32 \u001b[4mtb54h_ch4_las\u001b[0m(nscan,npixel_las), float32 \u001b[4mtb55h_ch5_las\u001b[0m(nscan,npixel_las), float32 \u001b[4mtb57rc_ch6_las\u001b[0m(nscan,npixel_las), float32 \u001b[4mtb59rc_ch7_las\u001b[0m(nscan,npixel_las), float32 \u001b[4mtb60rc_ch24_las\u001b[0m(nscan,npixel_las), float32 \u001b[4mlat_uas\u001b[0m(nscan,npixel_uas), float32 \u001b[4mlon_uas\u001b[0m(nscan,npixel_uas), float32 \u001b[4meia_uas\u001b[0m(nscan,npixel_uas), int8 \u001b[4msun_glint_uas\u001b[0m(nscan,npixel_uas), int8 \u001b[4mquality_uas\u001b[0m(nscan,npixel_uas), float32 \u001b[4mtb63rc_ch19_uas\u001b[0m(nscan,npixel_uas), float32 \u001b[4mtb60rc_ch20_uas\u001b[0m(nscan,npixel_uas), float32 \u001b[4mtb60rc_ch21_uas\u001b[0m(nscan,npixel_uas), float32 \u001b[4mtb60rc_ch22_uas\u001b[0m(nscan,npixel_uas), float32 \u001b[4mtb60rc_ch23_uas\u001b[0m(nscan,npixel_uas), int32 \u001b[4mquality_tests\u001b[0m(ntest), float32 \u001b[4mnominal_elevation_angle\u001b[0m(), float32 \u001b[4mspacecraft_roll\u001b[0m(), float32 \u001b[4mspacecraft_pitch\u001b[0m(), float32 \u001b[4mspacecraft_yaw\u001b[0m(), float32 \u001b[4mdelta_elevation_angle\u001b[0m(nsensor), float32 \u001b[4msensor_roll\u001b[0m(nsensor), float32 \u001b[4msensor_pitch\u001b[0m(nsensor), float32 \u001b[4msensor_yaw\u001b[0m(nsensor), |S1 \u001b[4mcrs\u001b[0m()\n",
       "    groups: "
      ]
     },
     "execution_count": 4,
     "metadata": {},
     "output_type": "execute_result"
    }
   ],
   "source": [
    "f = Dataset(list[0], \"r\", format=\"NETCDF\")\n",
    "f"
   ]
  },
  {
   "cell_type": "code",
   "execution_count": 5,
   "metadata": {
    "collapsed": false
   },
   "outputs": [
    {
     "data": {
      "text/plain": [
       "<type 'netCDF4._netCDF4.Variable'>\n",
       "float32 fcdr_tb37h_env2(nscan, npixel_env)\n",
       "    units: kelvin\n",
       "    _FillValue: -9999.9\n",
       "    valid_range: [  50.  350.]\n",
       "    standard_name: brightness_temperature\n",
       "    long_name: NOAA FCDR of 37.0 GHz horizontally-polarized brightness temperature (channel 15)\n",
       "    coordinates: lon_env2 lat_env2\n",
       "    grid_mapping: crs\n",
       "unlimited dimensions: \n",
       "current shape = (3220, 90)\n",
       "filling on"
      ]
     },
     "execution_count": 5,
     "metadata": {},
     "output_type": "execute_result"
    }
   ],
   "source": [
    "f.variables['fcdr_tb37h_env2']"
   ]
  },
  {
   "cell_type": "code",
   "execution_count": 33,
   "metadata": {
    "collapsed": false
   },
   "outputs": [],
   "source": [
    "data = f.variables['fcdr_tb37h_env2'][:]\n",
    "np.shape(data)\n",
    "f.close()"
   ]
  },
  {
   "cell_type": "code",
   "execution_count": 7,
   "metadata": {
    "collapsed": false
   },
   "outputs": [
    {
     "data": {
      "text/plain": [
       "(126.21, 295.95001)"
      ]
     },
     "execution_count": 7,
     "metadata": {},
     "output_type": "execute_result"
    }
   ],
   "source": [
    "np.amin(data), np.amax(data)"
   ]
  },
  {
   "cell_type": "code",
   "execution_count": 9,
   "metadata": {
    "collapsed": false
   },
   "outputs": [
    {
     "data": {
      "text/plain": [
       "8400"
      ]
     },
     "execution_count": 9,
     "metadata": {},
     "output_type": "execute_result"
    }
   ],
   "source": [
    "28 * 300"
   ]
  },
  {
   "cell_type": "markdown",
   "metadata": {},
   "source": [
    "For 28\" wide poster panel at 300 dpi, it should be 8400 pixels across;\n",
    "If I keep the 90-pixel wide swaths, this gives me 94 swaths to work with,\n",
    "but if i just randomly make them in groups of fibonacci numbers, say:\n",
    "\n",
    "5 + 1 + 2 + 3 + 1 + 2 = 14 + 6 blanks = 20, try this:\n",
    "Left side:\n",
    "\n",
    "5 + 1 + 2\n",
    "\n",
    "Right side:\n",
    "\n",
    "+ 3 + 1 + 2 +\n"
   ]
  },
  {
   "cell_type": "code",
   "execution_count": 76,
   "metadata": {
    "collapsed": false
   },
   "outputs": [
    {
     "data": {
      "text/plain": [
       "(3230, 90)"
      ]
     },
     "execution_count": 76,
     "metadata": {},
     "output_type": "execute_result"
    }
   ],
   "source": [
    "blank = np.zeros((3230,90))\n",
    "np.shape(blank)"
   ]
  },
  {
   "cell_type": "code",
   "execution_count": 140,
   "metadata": {
    "collapsed": true
   },
   "outputs": [],
   "source": [
    "def add_new_swath(image, image_index, list, list_index):\n",
    "    f = Dataset(list[list_index], \"r\", format=\"NETCDF\")\n",
    "    data = f.variables['fcdr_tb37h_env2'][:]\n",
    "    image[0:data.shape[0], image_index * 90: (image_index * 90) + data.shape[1]] = data\n",
    "    print(\"data:\", np.amin(data), np.amax(data))\n",
    "    print(\"image:\",np.amin(image), np.amax(image))\n",
    "    f.close()\n",
    "    return(image)"
   ]
  },
  {
   "cell_type": "code",
   "execution_count": 154,
   "metadata": {
    "collapsed": false
   },
   "outputs": [
    {
     "name": "stdout",
     "output_type": "stream",
     "text": [
      "('data:', 126.21, 295.95001)\n",
      "('image:', 126.20999908447266, 295.95001220703125)\n",
      "('data:', 127.73, 289.51001)\n",
      "('image:', 126.20999908447266, 295.95001220703125)\n",
      "('data:', 125.34, 288.63)\n",
      "('image:', 125.33999633789062, 295.95001220703125)\n",
      "('data:', 125.62, 289.79001)\n",
      "('image:', 125.33999633789062, 295.95001220703125)\n",
      "('data:', 127.3, 283.75)\n",
      "('image:', 125.33999633789062, 295.95001220703125)\n",
      "('data:', 127.7, 285.81)\n",
      "('image:', 125.33999633789062, 295.95001220703125)\n"
     ]
    }
   ],
   "source": [
    "my_image = np.zeros((3230,90 * 10))\n",
    "my_image.fill(250.)\n",
    "my_image = add_new_swath(my_image, 8, list, 0)\n",
    "my_image = add_new_swath(my_image, 7, list, 1)\n",
    "my_image = add_new_swath(my_image, 5, list, 2)\n",
    "my_image = add_new_swath(my_image, 3, list, 3)\n",
    "my_image = add_new_swath(my_image, 2, list, 4)\n",
    "my_image = add_new_swath(my_image, 1, list, 5)"
   ]
  },
  {
   "cell_type": "code",
   "execution_count": 142,
   "metadata": {
    "collapsed": false
   },
   "outputs": [
    {
     "data": {
      "text/plain": [
       "(3230, 900)"
      ]
     },
     "execution_count": 142,
     "metadata": {},
     "output_type": "execute_result"
    }
   ],
   "source": [
    "my_image.shape"
   ]
  },
  {
   "cell_type": "code",
   "execution_count": 155,
   "metadata": {
    "collapsed": false
   },
   "outputs": [
    {
     "data": {
      "text/plain": [
       "(-0.5, 899.5, 3229.5, -0.5)"
      ]
     },
     "execution_count": 155,
     "metadata": {},
     "output_type": "execute_result"
    },
    {
     "data": {
      "image/png": "[encoded data removed]",
      "text/plain": [
       "<matplotlib.figure.Figure at 0x10f257090>"
      ]
     },
     "metadata": {},
     "output_type": "display_data"
    }
   ],
   "source": [
    "fig, ax = plt.subplots(1, 1)\n",
    "plt.imshow(my_image, cmap=plt.cm.gray, interpolation='None',\n",
    "          vmin=50., vmax=300.)\n",
    "plt.axis('off')"
   ]
  },
  {
   "cell_type": "code",
   "execution_count": 156,
   "metadata": {
    "collapsed": false
   },
   "outputs": [],
   "source": [
    "outfile = \"/Users/brodzik/CSU_swath_20121201_right_side.jpg\"\n",
    "fig.savefig(outfile,dpi=1200)"
   ]
  },
  {
   "cell_type": "code",
   "execution_count": 157,
   "metadata": {
    "collapsed": false
   },
   "outputs": [
    {
     "name": "stdout",
     "output_type": "stream",
     "text": [
      "('data:', 130.05, 287.63)\n",
      "('image:', 130.05000305175781, 287.6300048828125)\n",
      "('data:', 126.16, 284.63)\n",
      "('image:', 126.16000366210938, 287.6300048828125)\n",
      "('data:', 126.89, 289.29999)\n",
      "('image:', 126.16000366210938, 289.29998779296875)\n",
      "('data:', 125.87, 289.69)\n",
      "('image:', 125.87000274658203, 289.69000244140625)\n",
      "('data:', 126.98, 284.72)\n",
      "('image:', 125.87000274658203, 289.69000244140625)\n",
      "('data:', 127.71, 292.23001)\n",
      "('image:', 125.87000274658203, 292.23001098632812)\n",
      "('data:', 126.26, 292.87)\n",
      "('image:', 125.87000274658203, 292.8699951171875)\n",
      "('data:', 125.76, 285.42999)\n",
      "('image:', 125.76000213623047, 292.8699951171875)\n"
     ]
    }
   ],
   "source": [
    "my_image = np.zeros((3230,90 * 10))\n",
    "my_image.fill(250.)\n",
    "my_image = add_new_swath(my_image, 9, list, 6)\n",
    "my_image = add_new_swath(my_image, 8, list, 7)\n",
    "my_image = add_new_swath(my_image, 6, list, 8)\n",
    "my_image = add_new_swath(my_image, 4, list, 9)\n",
    "my_image = add_new_swath(my_image, 3, list, 10)\n",
    "my_image = add_new_swath(my_image, 2, list, 11)\n",
    "my_image = add_new_swath(my_image, 1, list, 12)\n",
    "my_image = add_new_swath(my_image, 0, list, 13)\n"
   ]
  },
  {
   "cell_type": "code",
   "execution_count": 160,
   "metadata": {
    "collapsed": false
   },
   "outputs": [
    {
     "data": {
      "text/plain": [
       "(-0.5, 899.5, 3229.5, -0.5)"
      ]
     },
     "execution_count": 160,
     "metadata": {},
     "output_type": "execute_result"
    },
    {
     "data": {
      "image/png": "[encoded data removed]",
      "text/plain": [
       "<matplotlib.figure.Figure at 0x11974d810>"
      ]
     },
     "metadata": {},
     "output_type": "display_data"
    }
   ],
   "source": [
    "fig, ax = plt.subplots(1, 1)\n",
    "plt.imshow(my_image, cmap=plt.cm.gray, interpolation='None',\n",
    "          vmin=50., vmax=300.)\n",
    "plt.axis('off')"
   ]
  },
  {
   "cell_type": "code",
   "execution_count": 161,
   "metadata": {
    "collapsed": false
   },
   "outputs": [],
   "source": [
    "outfile = \"/Users/brodzik/CSU_swath_20121201_left_side.jpg\"\n",
    "fig.savefig(outfile,dpi=1200)"
   ]
  },
  {
   "cell_type": "code",
   "execution_count": 53,
   "metadata": {
    "collapsed": true
   },
   "outputs": [],
   "source": [
    "def swath_shapes(list):\n",
    "    for filename in list:\n",
    "        f = Dataset(filename, \"r\", format=\"NETCDF\")\n",
    "        print(filename, np.shape(f.variables['fcdr_tb37h_env2']))\n",
    "        f.close()"
   ]
  },
  {
   "cell_type": "code",
   "execution_count": 54,
   "metadata": {
    "collapsed": false
   },
   "outputs": [
    {
     "name": "stdout",
     "output_type": "stream",
     "text": [
      "('CSU_SSMIS_FCDR_V01R00_F17_D20121201_S0708_E0850_R31343.nc', (3220, 90))\n",
      "('CSU_SSMIS_FCDR_V01R00_F17_D20121201_S2226_E0007_R31352.nc', (3206, 90))\n",
      "('CSU_SSMIS_FCDR_V01R00_F17_D20121201_S0850_E1032_R31344.nc', (3220, 90))\n",
      "('CSU_SSMIS_FCDR_V01R00_F17_D20121201_S1720_E1902_R31349.nc', (3220, 90))\n",
      "('CSU_SSMIS_FCDR_V01R00_F17_D20121201_S1214_E1356_R31346.nc', (3218, 90))\n",
      "('CSU_SSMIS_FCDR_V01R00_F17_D20121201_S1032_E1214_R31345.nc', (3204, 90))\n",
      "('CSU_SSMIS_FCDR_V01R00_F17_D20121201_S0020_E0202_R31339.nc', (3220, 90))\n",
      "('CSU_SSMIS_FCDR_V01R00_F17_D20121201_S0526_E0708_R31342.nc', (3218, 90))\n",
      "('CSU_SSMIS_FCDR_V01R00_F17_D20121201_S1538_E1720_R31348.nc', (3205, 90))\n",
      "('CSU_SSMIS_FCDR_V01R00_F17_D20121201_S1902_E2044_R31350.nc', (3221, 90))\n",
      "('CSU_SSMIS_FCDR_V01R00_F17_D20121201_S0344_E0526_R31341.nc', (3218, 90))\n",
      "('CSU_SSMIS_FCDR_V01R00_F17_D20121201_S1356_E1538_R31347.nc', (3221, 90))\n",
      "('CSU_SSMIS_FCDR_V01R00_F17_D20121201_S2044_E2225_R31351.nc', (3221, 90))\n",
      "('CSU_SSMIS_FCDR_V01R00_F17_D20121201_S0202_E0344_R31340.nc', (3221, 90))\n"
     ]
    }
   ],
   "source": [
    "swath_shapes(list)"
   ]
  },
  {
   "cell_type": "code",
   "execution_count": null,
   "metadata": {
    "collapsed": true
   },
   "outputs": [],
   "source": []
  }
 ],
 "metadata": {
  "kernelspec": {
   "display_name": "Python 2",
   "language": "python",
   "name": "python2"
  },
  "language_info": {
   "codemirror_mode": {
    "name": "ipython",
    "version": 2
   },
   "file_extension": ".py",
   "mimetype": "text/x-python",
   "name": "python",
   "nbconvert_exporter": "python",
   "pygments_lexer": "ipython2",
   "version": "2.7.12"
  }
 },
 "nbformat": 4,
 "nbformat_minor": 0
}
