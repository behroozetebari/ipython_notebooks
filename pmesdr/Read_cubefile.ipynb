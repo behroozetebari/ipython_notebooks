{
 "cells": [
  {
   "cell_type": "markdown",
   "metadata": {},
   "source": [
    "# Read_cubefile\n",
    "\n",
    "This notebook opens the GLaIL cubefiles for 18H and 36H, GRD and SIR and displays them.\n",
    "It also does a quick check for which layers are populated.  \n",
    "\n",
    "N.B. AMSRE-E was launched in 2002, so there are a lot of masked layers at the beginning of the year if you look at 2002 \n",
    "data."
   ]
  },
  {
   "cell_type": "code",
   "execution_count": null,
   "metadata": {},
   "outputs": [],
   "source": [
    "%pylab notebook\n",
    "import glob\n",
    "import matplotlib.pyplot as plt\n",
    "from netCDF4 import Dataset\n",
    "import numpy as np\n",
    "import sys"
   ]
  },
  {
   "cell_type": "code",
   "execution_count": null,
   "metadata": {
    "scrolled": true
   },
   "outputs": [],
   "source": [
    "%cd /work/PMESDR/v1.3/F19_SSMIS/N/cubes_UIB\n",
    "%ls -las"
   ]
  },
  {
   "cell_type": "code",
   "execution_count": null,
   "metadata": {},
   "outputs": [],
   "source": [
    "list = sort(glob.glob(\"*2015.TB.nc\"))\n",
    "list"
   ]
  },
  {
   "cell_type": "code",
   "execution_count": null,
   "metadata": {},
   "outputs": [],
   "source": [
    "def read_cube_layer(file, varname, i):\n",
    "    fid = Dataset(file, \"r\", \"NETCDF4\")\n",
    "    data = fid.variables[varname][i,:,:]\n",
    "    print(data.shape, np.amin(data), np.amax(data))\n",
    "    fid.close()\n",
    "    return data"
   ]
  },
  {
   "cell_type": "code",
   "execution_count": null,
   "metadata": {},
   "outputs": [],
   "source": [
    "layer_index = 61\n",
    "d18h = read_cube_layer(list[1], \"TB\", layer_index)\n",
    "d36h = read_cube_layer(list[5], \"TB\", layer_index)"
   ]
  },
  {
   "cell_type": "code",
   "execution_count": null,
   "metadata": {},
   "outputs": [],
   "source": [
    "# This step is only needed if you know the beginning of the year has a lot of missing data\n",
    "#for i in np.arange(0,730,40):  # or whatever steps you want to take through the cube\n",
    "#    data = read_cube_layer(file, \"TB\", i)\n",
    "#    print(\"i=%d, min=%f, max=%f\" % (i, np.amin(data), np.amax(data)))\n",
    "    "
   ]
  },
  {
   "cell_type": "code",
   "execution_count": null,
   "metadata": {
    "scrolled": false
   },
   "outputs": [],
   "source": [
    "fig, ax = plt.subplots(nrows=1, ncols=2, figsize=(10, 6))\n",
    "ax[0].imshow(d18h)\n",
    "ax[0].set_title(\"19H, layer_index=%d\" % layer_index)\n",
    "ax[1].imshow(d36h)\n",
    "ax[1].set_title(\"37H, layer_index=%d\" % layer_index)\n",
    "fig.tight_layout()"
   ]
  },
  {
   "cell_type": "markdown",
   "metadata": {},
   "source": [
    "# Look at 18H and 36H data for GRD and SIR, doy = 721 (index=720)"
   ]
  },
  {
   "cell_type": "code",
   "execution_count": null,
   "metadata": {},
   "outputs": [],
   "source": [
    "list = sort(glob.glob(\"*H-*2015.TB.nc\"))\n",
    "list"
   ]
  },
  {
   "cell_type": "code",
   "execution_count": null,
   "metadata": {
    "scrolled": false
   },
   "outputs": [],
   "source": [
    "fig, ax = plt.subplots(nrows=2, ncols=2, figsize=(10, 10))\n",
    "for j in np.arange(0,4):\n",
    "    this_ax = ax[int(j/2), mod(j,2)]\n",
    "    data = read_cube_layer(list[j], \"TB\", layer_index)\n",
    "    img = this_ax.imshow(data, vmin=80, vmax=270)\n",
    "    fig.colorbar(img, ax=this_ax)\n",
    "    this_ax.set_title(list[j][-27:-3])\n",
    "fig.tight_layout()"
   ]
  },
  {
   "cell_type": "code",
   "execution_count": null,
   "metadata": {},
   "outputs": [],
   "source": []
  }
 ],
 "metadata": {
  "kernelspec": {
   "display_name": "cetb",
   "language": "python",
   "name": "cetb"
  },
  "language_info": {
   "codemirror_mode": {
    "name": "ipython",
    "version": 3
   },
   "file_extension": ".py",
   "mimetype": "text/x-python",
   "name": "python",
   "nbconvert_exporter": "python",
   "pygments_lexer": "ipython3",
   "version": "3.6.4"
  }
 },
 "nbformat": 4,
 "nbformat_minor": 2
}
