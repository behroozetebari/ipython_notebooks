{
 "cells": [
  {
   "cell_type": "markdown",
   "metadata": {},
   "source": [
    "# Read_cubefile\n",
    "\n",
    "This notebook opens the GLaIL cubefiles for 18H and 36H, GRD and SIR and displays them.\n",
    "It also does a quick check for which layers are populated.  Note that AMSRE-E was launched in \n",
    "2002, so there are a lot of masked layers at the beginning of the year if you look at 2002 \n",
    "data."
   ]
  },
  {
   "cell_type": "code",
   "execution_count": null,
   "metadata": {},
   "outputs": [],
   "source": [
    "%pylab notebook\n",
    "import glob\n",
    "import matplotlib.pyplot as plt\n",
    "from netCDF4 import Dataset\n",
    "import numpy as np\n",
    "import sys"
   ]
  },
  {
   "cell_type": "code",
   "execution_count": null,
   "metadata": {},
   "outputs": [],
   "source": [
    "%cd /work/PMESDR/v1.3/AQUA_AMSRE/N/cubes_UIB\n",
    "%ls"
   ]
  },
  {
   "cell_type": "code",
   "execution_count": null,
   "metadata": {},
   "outputs": [],
   "source": [
    "list = glob.glob(\"*2002.TB.nc\")\n",
    "list"
   ]
  },
  {
   "cell_type": "code",
   "execution_count": null,
   "metadata": {},
   "outputs": [],
   "source": [
    "file_grd = list[0]\n",
    "#file_sir = list[1]\n",
    "#print(file_grd, file_sir)\n",
    "file_grd"
   ]
  },
  {
   "cell_type": "code",
   "execution_count": null,
   "metadata": {},
   "outputs": [],
   "source": [
    "fid_grd = Dataset(file_grd, \"r\", \"NETCDF4\")\n",
    "#fid_sir = Dataset(file_sir, \"r\", \"NETCDF4\")"
   ]
  },
  {
   "cell_type": "code",
   "execution_count": null,
   "metadata": {},
   "outputs": [],
   "source": [
    "tb_grd = fid_grd.variables[\"TB\"][:]\n",
    "#tb_sir = fid_sir.variables[\"TB\"][:]\n",
    "print(tb_grd.shape)\n",
    "#print(tb_sir.shape)"
   ]
  },
  {
   "cell_type": "code",
   "execution_count": null,
   "metadata": {},
   "outputs": [],
   "source": [
    "print(np.amin(tb_grd), np.amax(tb_grd))\n",
    "#print(np.amin(tb_sir), np.amax(tb_sir))"
   ]
  },
  {
   "cell_type": "code",
   "execution_count": null,
   "metadata": {},
   "outputs": [],
   "source": [
    "for i in np.arange(0,730,40):\n",
    "    print(i)\n",
    "    layer_grd = tb_grd[i,:,:]\n",
    "    #layer_sir = tb_sir[i,:,:]\n",
    "    print(\"i=%d, grd: min=%f, max=%f\" % (i, np.amin(layer_grd), np.amax(layer_grd)))\n",
    "    #print(\"i=%d, sir: min=%f, max=%f\" % (i, np.amin(layer_sir), np.amax(layer_sir)))\n",
    "    "
   ]
  },
  {
   "cell_type": "code",
   "execution_count": null,
   "metadata": {},
   "outputs": [],
   "source": [
    "print(np.amin(layer_grd), np.amax(layer_grd))\n",
    "#print(np.amin(layer_sir), np.amax(layer_sir))"
   ]
  },
  {
   "cell_type": "code",
   "execution_count": null,
   "metadata": {
    "scrolled": false
   },
   "outputs": [],
   "source": [
    "fig, ax = plt.subplots(nrows=1, ncols=2)\n",
    "ax[0].imshow(layer_grd)\n",
    "ax[0].set_title(\"GRD, i=%d\" % i)\n",
    "#ax[1].imshow(layer_sir)\n",
    "#ax[1].set_title(\"SIR, i=%d\" % i)"
   ]
  },
  {
   "cell_type": "code",
   "execution_count": null,
   "metadata": {},
   "outputs": [],
   "source": [
    "fid_grd.close()\n",
    "#fid_sir.close()"
   ]
  },
  {
   "cell_type": "markdown",
   "metadata": {},
   "source": [
    "# Look at 18H and 36H data for GRD and SIR, doy = 721 (index=720)"
   ]
  },
  {
   "cell_type": "code",
   "execution_count": null,
   "metadata": {
    "scrolled": false
   },
   "outputs": [],
   "source": [
    "fig, ax = plt.subplots(nrows=2, ncols=2)\n",
    "i = 720\n",
    "for j in np.arange(0,4):\n",
    "    this_ax = ax[int(j/2), mod(j,2)]\n",
    "    fid = Dataset(list[j], \"r\", \"NETCDF4\")\n",
    "    layer = fid.variables[\"TB\"][i,:,:]\n",
    "    img = this_ax.imshow(layer, vmin=80, vmax=270)\n",
    "    fig.colorbar(img, ax=this_ax)\n",
    "    this_ax.set_title(list[j][-27:-3])\n",
    "fig.tight_layout()"
   ]
  },
  {
   "cell_type": "code",
   "execution_count": null,
   "metadata": {},
   "outputs": [],
   "source": []
  }
 ],
 "metadata": {
  "kernelspec": {
   "display_name": "cetb",
   "language": "python",
   "name": "cetb"
  },
  "language_info": {
   "codemirror_mode": {
    "name": "ipython",
    "version": 3
   },
   "file_extension": ".py",
   "mimetype": "text/x-python",
   "name": "python",
   "nbconvert_exporter": "python",
   "pygments_lexer": "ipython3",
   "version": "3.6.4"
  }
 },
 "nbformat": 4,
 "nbformat_minor": 2
}
