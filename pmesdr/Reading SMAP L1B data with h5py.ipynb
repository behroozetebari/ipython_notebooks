{
 "cells": [
  {
   "cell_type": "code",
   "execution_count": 10,
   "metadata": {},
   "outputs": [
    {
     "name": "stdout",
     "output_type": "stream",
     "text": [
      "Populating the interactive namespace from numpy and matplotlib\n"
     ]
    }
   ],
   "source": [
    "%pylab notebook\n",
    "from netCDF4 import Dataset\n",
    "import h5py\n",
    "import numpy as np\n",
    "import os"
   ]
  },
  {
   "cell_type": "code",
   "execution_count": 11,
   "metadata": {},
   "outputs": [
    {
     "name": "stdout",
     "output_type": "stream",
     "text": [
      "/Users/brodzik/cetb_data/SMAP\n",
      "SMAP_L1B_TB_07567_A_20160701T223832_R13080_001.h5\r\n"
     ]
    }
   ],
   "source": [
    "%cd ~/cetb_data/SMAP\n",
    "%ls"
   ]
  },
  {
   "cell_type": "code",
   "execution_count": 12,
   "metadata": {},
   "outputs": [],
   "source": [
    "#df = Dataset('SMAP_L1B_TB_07567_A_20160701T223832_R13080_001.h5', 'r', 'HDFEOS')\n",
    "f = h5py.File('SMAP_L1B_TB_07567_A_20160701T223832_R13080_001.h5', mode='r')"
   ]
  },
  {
   "cell_type": "markdown",
   "metadata": {},
   "source": [
    "See h5py docs: http://docs.h5py.org/en/latest/quick.html"
   ]
  },
  {
   "cell_type": "code",
   "execution_count": 23,
   "metadata": {},
   "outputs": [
    {
     "name": "stdout",
     "output_type": "stream",
     "text": [
      "Metadata\n",
      "Brightness_Temperature\n",
      "Calibration_Data\n",
      "Spacecraft_Data\n",
      "HighResolution_Calibration_Data\n"
     ]
    }
   ],
   "source": [
    "for name in f:\n",
    "    print(name)"
   ]
  },
  {
   "cell_type": "code",
   "execution_count": 27,
   "metadata": {},
   "outputs": [
    {
     "data": {
      "text/plain": [
       "['Metadata',\n",
       " 'Brightness_Temperature',\n",
       " 'Calibration_Data',\n",
       " 'Spacecraft_Data',\n",
       " 'HighResolution_Calibration_Data']"
      ]
     },
     "execution_count": 27,
     "metadata": {},
     "output_type": "execute_result"
    }
   ],
   "source": [
    "datasetNames = [n for n in f.keys()]\n",
    "datasetNames"
   ]
  },
  {
   "cell_type": "code",
   "execution_count": 25,
   "metadata": {},
   "outputs": [
    {
     "name": "stdout",
     "output_type": "stream",
     "text": [
      "Keys: KeysView(<HDF5 file \"SMAP_L1B_TB_07567_A_20160701T223832_R13080_001.h5\" (mode r)>)\n"
     ]
    }
   ],
   "source": [
    "print(\"Keys: %s\" % f.keys())"
   ]
  },
  {
   "cell_type": "code",
   "execution_count": 31,
   "metadata": {},
   "outputs": [
    {
     "data": {
      "text/plain": [
       "['AcquisitionInformation',\n",
       " 'DataQuality',\n",
       " 'ProductSpecificationDocument',\n",
       " 'SeriesIdentification',\n",
       " 'DatasetIdentification',\n",
       " 'Extent',\n",
       " 'QADatasetIdentification',\n",
       " 'GridSpatialRepresentation',\n",
       " 'OrbitMeasuredLocation',\n",
       " 'Lineage',\n",
       " 'ProcessStep']"
      ]
     },
     "execution_count": 31,
     "metadata": {},
     "output_type": "execute_result"
    }
   ],
   "source": [
    "metadataNames = [n for n in f['Metadata'].keys()]\n",
    "metadataNames"
   ]
  },
  {
   "cell_type": "code",
   "execution_count": 35,
   "metadata": {},
   "outputs": [
    {
     "data": {
      "text/plain": [
       "['DomainConsistency',\n",
       " 'CompletenessOmission',\n",
       " 'SubbandCompletenessOmission',\n",
       " 'RFICompletenessOmission']"
      ]
     },
     "execution_count": 35,
     "metadata": {},
     "output_type": "execute_result"
    }
   ],
   "source": [
    "dqNames = [n for n in f['Metadata/DataQuality'].keys()]\n",
    "dqNames"
   ]
  },
  {
   "cell_type": "code",
   "execution_count": 42,
   "metadata": {},
   "outputs": [
    {
     "data": {
      "text/plain": [
       "<HDF5 group \"/Metadata/DataQuality/CompletenessOmission\" (0 members)>"
      ]
     },
     "execution_count": 42,
     "metadata": {},
     "output_type": "execute_result"
    }
   ],
   "source": [
    "qualityData = f['Metadata/DataQuality/CompletenessOmission']\n",
    "qualityData"
   ]
  },
  {
   "cell_type": "code",
   "execution_count": 43,
   "metadata": {},
   "outputs": [
    {
     "name": "stdout",
     "output_type": "stream",
     "text": [
      "measureDescription\n",
      "b'Percent of radiometer footprints in the product relative to the expected number of footprints that the radiometer should acquire based on the instrument pulse rate and the time period covered by a spacecraft half orbit.'\n",
      "nameOfMeasure\n",
      "b'Percent of Missing Data'\n",
      "unitOfMeasure\n",
      "b'percent'\n",
      "value\n",
      "0.0642963\n",
      "evaluationMethodType\n",
      "b'directInternal'\n"
     ]
    }
   ],
   "source": [
    "for a in qualityData.attrs:\n",
    "    print(a)\n",
    "    print(qualityData.attrs[a])"
   ]
  },
  {
   "cell_type": "code",
   "execution_count": 57,
   "metadata": {},
   "outputs": [
    {
     "data": {
      "text/plain": [
       "<HDF5 group \"/Metadata/Extent\" (0 members)>"
      ]
     },
     "execution_count": 57,
     "metadata": {},
     "output_type": "execute_result"
    }
   ],
   "source": [
    "extentData = f['Metadata/Extent']\n",
    "extentData"
   ]
  },
  {
   "cell_type": "code",
   "execution_count": 58,
   "metadata": {},
   "outputs": [
    {
     "data": {
      "text/plain": [
       "[]"
      ]
     },
     "execution_count": 58,
     "metadata": {},
     "output_type": "execute_result"
    }
   ],
   "source": [
    "extentNames = [n for n in extentData.keys()]\n",
    "extentNames"
   ]
  },
  {
   "cell_type": "code",
   "execution_count": 61,
   "metadata": {},
   "outputs": [
    {
     "name": "stdout",
     "output_type": "stream",
     "text": [
      "description\n",
      "b'The SMAP spacecraft downlinks radiometer data over a 1000 km wide swath.  Data acquired over land or over identified external calibration sources are classed as high resolution and contain sub-band information.  Data acquired over ocean are classed as low resolution and are limited to full band data.'\n",
      "polygonPosList\n",
      "[ -86.93000031   19.77000046  -86.68000031   -5.23000002  -85.43000031\n",
      "  -29.22999954  -80.          -52.5         -70.          -63.34999847\n",
      "  -60.          -67.55000305  -50.          -70.41000366  -40.\n",
      "  -72.58000183  -30.          -74.77999878  -20.          -76.75        -10.\n",
      "  -78.73999786    0.          -80.73000336   10.          -82.98999786\n",
      "   20.          -85.25         30.          -88.27999878   40.\n",
      "  -91.83000183   50.          -96.91000366   60.         -104.55000305\n",
      "   70.         -120.34999847   75.68000031 -145.3500061    77.18000031\n",
      " -170.3500061    87.18000031 -170.3500061    86.68000031 -145.3500061\n",
      "   85.43000031 -121.34999847   80.          -99.08000183   70.\n",
      "  -88.48000336   60.          -84.27999878   50.          -81.16999817\n",
      "   40.          -79.           30.          -76.80000305   20.\n",
      "  -74.83000183   10.          -72.83999634    0.          -70.84999847\n",
      "  -10.          -68.58999634  -20.          -66.08000183  -30.\n",
      "  -63.29999924  -40.          -59.5         -50.          -54.66999817\n",
      "  -60.          -46.52999878  -70.          -30.22999954  -75.68000031\n",
      "   -5.23000002  -76.93000031   19.77000046  -86.93000031   19.77000046]\n",
      "rangeBeginningDateTime\n",
      "b'2016-07-01T22:38:31.819Z'\n",
      "rangeEndingDateTime\n",
      "b'2016-07-01T23:31:53.222Z'\n"
     ]
    }
   ],
   "source": [
    "for a in extentData.attrs:\n",
    "    print(a)\n",
    "    print(extentData.attrs[a])"
   ]
  },
  {
   "cell_type": "code",
   "execution_count": null,
   "metadata": {},
   "outputs": [],
   "source": []
  }
 ],
 "metadata": {
  "kernelspec": {
   "display_name": "Python 3",
   "language": "python",
   "name": "python3"
  },
  "language_info": {
   "codemirror_mode": {
    "name": "ipython",
    "version": 3
   },
   "file_extension": ".py",
   "mimetype": "text/x-python",
   "name": "python",
   "nbconvert_exporter": "python",
   "pygments_lexer": "ipython3",
   "version": "3.6.2"
  }
 },
 "nbformat": 4,
 "nbformat_minor": 2
}
