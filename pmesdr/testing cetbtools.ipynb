{
 "cells": [
  {
   "cell_type": "code",
   "execution_count": 1,
   "metadata": {
    "collapsed": true
   },
   "outputs": [],
   "source": [
    "from cetbtools.ease2conv import Ease2Transform"
   ]
  },
  {
   "cell_type": "code",
   "execution_count": 2,
   "metadata": {
    "collapsed": false
   },
   "outputs": [
    {
     "data": {
      "text/plain": [
       "['__doc__',\n",
       " '__init__',\n",
       " '__module__',\n",
       " 'epsg4326Proj4text',\n",
       " 'geographic_to_grid',\n",
       " 'grid_to_geographic',\n",
       " 'grid_to_map',\n",
       " 'gridname',\n",
       " 'map_to_grid']"
      ]
     },
     "execution_count": 2,
     "metadata": {},
     "output_type": "execute_result"
    }
   ],
   "source": [
    "dir(Ease2Transform)"
   ]
  },
  {
   "cell_type": "code",
   "execution_count": 3,
   "metadata": {
    "collapsed": false
   },
   "outputs": [
    {
     "name": "stdout",
     "output_type": "stream",
     "text": [
      "Help on class Ease2Transform in module cetbtools.ease2conv:\n",
      "\n",
      "class Ease2Transform\n",
      " |  The Ease2Transform class provides map projection conversion routines\n",
      " |  for geographic (lat/lon), grid (row/col), and map (x,y) locations in\n",
      " |  EASE-Grid 2.0 projections.\n",
      " |  \n",
      " |  2016-02-27 M. J. Brodzik brodzik@nsidc.org 303-492-8263\n",
      " |  National Snow & Ice Data Center, Boulder CO\n",
      " |  Copyright (C) 2016 Regents of the University of Colorado at Boulder\n",
      " |  \n",
      " |  Methods defined here:\n",
      " |  \n",
      " |  __init__(self, gridname=None, verbose=False)\n",
      " |      cetbtools.ease2conv.EASE2Transform(gridname)\n",
      " |      \n",
      " |      Returns a Transform object for the specified gridname.\n",
      " |      \n",
      " |      Parameters: gridname : string\n",
      " |                      EASE-Grid 2.0 gridname, following the pattern:\n",
      " |                      \"EASE2-<proj><res>km\", where:\n",
      " |                      <proj> is \"N\", \"S\" or \"T\"\n",
      " |                      <res> is \"25\", \"12.5\", \"6.25\" or \"3.125\"\n",
      " |                  verbose: bool, optional\n",
      " |                      If set to True, write verbose output to stderr\n",
      " |      \n",
      " |      Returns: initialized transformer for gridname\n",
      " |      \n",
      " |      Example:\n",
      " |      \n",
      " |      from cetbtools.ease2conv import Ease2Transform\n",
      " |      N25grid = Ease2Transform(\"EASE2_N25km\")\n",
      " |  \n",
      " |  geographic_to_grid(self, lat, lon)\n",
      " |      cetbtools.ease2conv.Ease2Transform.geographic_to_grid(lat, lon)\n",
      " |      \n",
      " |      Parameters: lat, lon : scalars\n",
      " |                      geographic coordinates (in degrees) to convert\n",
      " |      \n",
      " |      Returns: (row, col) converted grid location, grid origin defined as\n",
      " |                      (row, col) = (0., 0.) at center of UL grid cell\n",
      " |      \n",
      " |      Example:\n",
      " |      \n",
      " |      from cetbtools.ease2conv import Ease2Transform\n",
      " |      \n",
      " |      N25grid = Ease2Transform(\"EASE2_N25km\")\n",
      " |      (row, col) = N25grid.geographic_to_grid(90., 0.)\n",
      " |      \n",
      " |      Returns (row, col) = (359.5, 359.5), grid location of North pole\n",
      " |  \n",
      " |  grid_to_geographic(self, row, col)\n",
      " |      cetbtools.ease2conv.Ease2Transform.grid_to_geographic(row, col)\n",
      " |      \n",
      " |      Parameters: row, col : scalars\n",
      " |                      grid locations to convert, grid origin defined as\n",
      " |                      (row, col) = (0., 0.) at center of UL grid cell\n",
      " |      \n",
      " |      Returns: (lat, lon) geographic coordinates in degrees\n",
      " |      \n",
      " |      Example:\n",
      " |      \n",
      " |      from cetbtools.ease2conv import Ease2Transform\n",
      " |      \n",
      " |      N25grid = Ease2Transform(\"EASE2_N25km\")\n",
      " |      (lat, lon) = N25grid.grid_to_geographic(359.5, 359.5)\n",
      " |      \n",
      " |      Returns (lat, lon) = (90., 0.), North pole\n",
      " |  \n",
      " |  grid_to_map(self, row, col)\n",
      " |      cetbtools.ease2conv.Ease2Transform.grid_to_map(row, col)\n",
      " |      \n",
      " |      Parameters: row, col : scalars\n",
      " |                      grid locations to convert, grid origin defined as\n",
      " |                      (row, col) = (0., 0.) at center of UL grid cell\n",
      " |      \n",
      " |      Returns: (x, y) map coordinates in meters\n",
      " |      \n",
      " |      Example:\n",
      " |      \n",
      " |      from cetbtools.ease2conv import Ease2Transform\n",
      " |      \n",
      " |      N25grid = Ease2Transform(\"EASE2_N25km\")\n",
      " |      (x, y) = N25grid.grid_to_map(-0.5, -0.5)\n",
      " |      \n",
      " |      Returns (x, y) = (-9000000., 9000000), UL corner of UL cell\n",
      " |  \n",
      " |  map_to_grid(self, x, y)\n",
      " |      cetbtools.ease2conv.Ease2Transform.map_to_grid(x, y)\n",
      " |      \n",
      " |      Parameters: x, y : scalars\n",
      " |                      map locations (in meters) to convert\n",
      " |      \n",
      " |      Returns: (row, col) grid coordinates, grid origin defined as\n",
      " |                      (row, col) = (0., 0.) at center of UL grid cell\n",
      " |      \n",
      " |      Example:\n",
      " |      \n",
      " |      from cetbtools.ease2conv import Ease2Transform\n",
      " |      \n",
      " |      N25grid = Ease2Transform(\"EASE2_N25km\")\n",
      " |      (row, col) = N25grid.map_to_grid(-9000000., 9000000.)\n",
      " |      \n",
      " |      Returns (row, col) = (-0.5, -0.5), UL corner of UL cell\n",
      " |  \n",
      " |  ----------------------------------------------------------------------\n",
      " |  Data and other attributes defined here:\n",
      " |  \n",
      " |  epsg4326Proj4text = '+proj=longlat +ellps=WGS84 +datum=WGS84 +no_defs'\n",
      " |  \n",
      " |  gridname = None\n",
      "\n"
     ]
    }
   ],
   "source": [
    "help(Ease2Transform)"
   ]
  },
  {
   "cell_type": "code",
   "execution_count": null,
   "metadata": {
    "collapsed": true
   },
   "outputs": [],
   "source": []
  }
 ],
 "metadata": {
  "kernelspec": {
   "display_name": "Python 2",
   "language": "python",
   "name": "python2"
  },
  "language_info": {
   "codemirror_mode": {
    "name": "ipython",
    "version": 2
   },
   "file_extension": ".py",
   "mimetype": "text/x-python",
   "name": "python",
   "nbconvert_exporter": "python",
   "pygments_lexer": "ipython2",
   "version": "2.7.11"
  }
 },
 "nbformat": 4,
 "nbformat_minor": 0
}
