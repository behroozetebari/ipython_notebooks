{
 "cells": [
  {
   "cell_type": "markdown",
   "metadata": {},
   "source": [
    "# Reading SM product from NSIDC"
   ]
  },
  {
   "cell_type": "code",
   "execution_count": 1,
   "metadata": {},
   "outputs": [],
   "source": [
    "import matplotlib.pyplot as plt\n",
    "from netCDF4 import Dataset\n",
    "import numpy as np\n",
    "import seaborn as sns\n",
    "\n",
    "%matplotlib notebook"
   ]
  },
  {
   "cell_type": "code",
   "execution_count": 2,
   "metadata": {},
   "outputs": [
    {
     "name": "stdout",
     "output_type": "stream",
     "text": [
      "/Users/brodzik/SPL3SMP.004\n",
      "SMAP_L3_SM_P_20150415_R14010_001.h5\r\n"
     ]
    }
   ],
   "source": [
    "dir = \"/Users/brodzik/SPL3SMP.004\"\n",
    "%cd $dir\n",
    "%ls"
   ]
  },
  {
   "cell_type": "code",
   "execution_count": 3,
   "metadata": {
    "scrolled": false
   },
   "outputs": [],
   "source": [
    "file = \"SMAP_L3_SM_P_20150415_R14010_001.h5\"\n",
    "f = Dataset(file, \"r\", 'HDF5')\n",
    "#f.groups\n",
    "lats = f.groups['Soil_Moisture_Retrieval_Data_AM'].variables['latitude'][:]\n",
    "lons = f.groups['Soil_Moisture_Retrieval_Data_AM'].variables['longitude'][:]\n",
    "lats_pm = f.groups['Soil_Moisture_Retrieval_Data_PM'].variables['latitude_pm'][:]\n",
    "lons_pm = f.groups['Soil_Moisture_Retrieval_Data_PM'].variables['longitude_pm'][:]"
   ]
  },
  {
   "cell_type": "code",
   "execution_count": 4,
   "metadata": {},
   "outputs": [
    {
     "data": {
      "text/plain": [
       "<class 'netCDF4._netCDF4.Variable'>\n",
       "float32 latitude(phony_dim_0, phony_dim_1)\n",
       "    long_name: Latitude of the center of the Earth based grid cell.\n",
       "    units: degrees_north\n",
       "path = /Soil_Moisture_Retrieval_Data_AM\n",
       "unlimited dimensions: \n",
       "current shape = (406, 964)\n",
       "filling off"
      ]
     },
     "execution_count": 4,
     "metadata": {},
     "output_type": "execute_result"
    }
   ],
   "source": [
    "f.groups['Soil_Moisture_Retrieval_Data_AM'].variables['latitude']"
   ]
  },
  {
   "cell_type": "code",
   "execution_count": 5,
   "metadata": {},
   "outputs": [
    {
     "data": {
      "text/plain": [
       "<class 'netCDF4._netCDF4.Variable'>\n",
       "float32 latitude_pm(phony_dim_3, phony_dim_4)\n",
       "    long_name: Latitude of the center of the Earth based grid cell.\n",
       "    coordinates: /Soil_Moisture_Retrieval_Data_AM/latitude /Soil_Moisture_Retrieval_Data_AM/longitude\n",
       "    valid_min: -90.0\n",
       "    valid_max: 90.0\n",
       "    _FillValue: -9999.0\n",
       "    units: degrees_north\n",
       "path = /Soil_Moisture_Retrieval_Data_PM\n",
       "unlimited dimensions: \n",
       "current shape = (406, 964)\n",
       "filling off"
      ]
     },
     "execution_count": 5,
     "metadata": {},
     "output_type": "execute_result"
    }
   ],
   "source": [
    "f.groups['Soil_Moisture_Retrieval_Data_PM'].variables['latitude_pm']"
   ]
  },
  {
   "cell_type": "code",
   "execution_count": 6,
   "metadata": {},
   "outputs": [
    {
     "data": {
      "text/plain": [
       "((406, 964), (406, 964), (406, 964), (406, 964))"
      ]
     },
     "execution_count": 6,
     "metadata": {},
     "output_type": "execute_result"
    }
   ],
   "source": [
    "lats.shape, lons.shape, lats_pm.shape, lons_pm.shape\n"
   ]
  },
  {
   "cell_type": "code",
   "execution_count": 7,
   "metadata": {},
   "outputs": [
    {
     "data": {
      "text/plain": [
       "(-83.631973, 83.631973, -179.81328, 179.81328)"
      ]
     },
     "execution_count": 7,
     "metadata": {},
     "output_type": "execute_result"
    }
   ],
   "source": [
    "np.min(lats), np.max(lats), np.min(lons), np.max(lons)\n",
    "np.min(lats_pm), np.max(lats_pm), np.min(lons_pm), np.max(lons_pm)"
   ]
  },
  {
   "cell_type": "markdown",
   "metadata": {},
   "source": [
    "# Look at the AM latitudes in the left-most column"
   ]
  },
  {
   "cell_type": "code",
   "execution_count": 8,
   "metadata": {
    "scrolled": false
   },
   "outputs": [
    {
     "data": {
      "text/plain": [
       "masked_array(data = [83.63197326660156 81.48033142089844 79.76895904541016 78.302978515625\n",
       " 76.99910736083984 75.81256866455078 74.71601104736328 73.6912612915039\n",
       " 72.72552490234375 71.80941009521484 70.93574523925781 70.09893035888672\n",
       " 69.29449462890625 68.51880645751953 67.76883697509766 67.04206085205078\n",
       " 66.33634948730469 65.64984893798828 64.98098754882812 64.32837677001953\n",
       " 63.6908073425293 63.06719970703125 62.45660400390625 61.8581657409668\n",
       " 61.2711296081543 60.694801330566406 60.12855529785156 59.57182693481445\n",
       " 59.02409744262695 58.484893798828125 57.95378875732422 57.43037033081055\n",
       " 56.91427993774414 56.40517044067383 55.90272903442383 55.40665817260742\n",
       " 54.91668701171875 54.432559967041016 53.95403289794922 53.48088836669922\n",
       " 53.01291275024414 52.54990768432617 52.09169387817383 51.63808822631836\n",
       " 51.18893051147461 50.74406051635742 50.3033332824707 49.86661148071289\n",
       " 49.43375778198242 49.0046501159668 48.57916259765625 48.157188415527344\n",
       " 47.738616943359375 47.323341369628906 46.9112663269043 46.502296447753906\n",
       " 46.09634017944336 45.69331359863281 45.29313278198242 44.895721435546875\n",
       " 44.500999450683594 44.10889434814453 43.71934127807617 43.33226776123047\n",
       " 42.947608947753906 42.5653076171875 42.185302734375 41.80752944946289\n",
       " 41.431941986083984 41.0584831237793 40.68709945678711 40.317745208740234\n",
       " 39.95036697387695 39.58491897583008 39.22135925292969 38.859642028808594\n",
       " 38.499725341796875 38.141571044921875 37.78513717651367 37.43038558959961\n",
       " 37.07727813720703 36.72578048706055 36.3758544921875 36.02747344970703\n",
       " 35.68059539794922 35.3351936340332 34.991233825683594 34.64868927001953\n",
       " 34.30752944946289 33.96772384643555 33.62924575805664 33.29206848144531\n",
       " 32.9561653137207 32.62150955200195 32.28807830810547 31.955841064453125\n",
       " 31.624780654907227 31.294872283935547 30.96609115600586 30.638416290283203\n",
       " 30.311826705932617 29.986299514770508 29.661813735961914\n",
       " 29.338350296020508 29.01589012145996 28.694414138793945 28.373899459838867\n",
       " 28.054332733154297 27.73569107055664 27.41796112060547 27.10112190246582\n",
       " 26.785158157348633 26.47005271911621 -9999.0 -9999.0 -9999.0 -9999.0\n",
       " -9999.0 -9999.0 -9999.0 -9999.0 -9999.0 -9999.0 -9999.0 -9999.0 -9999.0\n",
       " -9999.0 -9999.0 -9999.0 -9999.0 -9999.0 -9999.0 -9999.0 -9999.0 -9999.0\n",
       " -9999.0 -9999.0 -9999.0 -9999.0 -9999.0 -9999.0 -9999.0 -9999.0 -9999.0\n",
       " -9999.0 -9999.0 -9999.0 -9999.0 -9999.0 -9999.0 -9999.0 -9999.0 -9999.0\n",
       " -9999.0 -9999.0 -9999.0 -9999.0 -9999.0 -9999.0 -9999.0 -9999.0 -9999.0\n",
       " -9999.0 -9999.0 -9999.0 -9999.0 -9999.0 -9999.0 -9999.0 -9999.0 -9999.0\n",
       " -9999.0 -9999.0 -9999.0 -9999.0 -9999.0 -9999.0 -9999.0 -9999.0 -9999.0\n",
       " -9999.0 -9999.0 -9999.0 -9999.0 -9999.0 -9999.0 -9999.0 -9999.0 -9999.0\n",
       " -9999.0 -9999.0 -9999.0 -9999.0 -9999.0 -9999.0 -9999.0 -9999.0 -9999.0\n",
       " -9999.0 -9999.0 -9999.0 -9999.0 -9999.0 -9999.0 -9999.0 -9999.0 -9999.0\n",
       " -9999.0 -9999.0 -9999.0 -9999.0 -9999.0 -9999.0 -9999.0 -9999.0 -9999.0\n",
       " -9999.0 -9999.0 -9999.0 -9999.0 -9999.0 -9999.0 -9999.0 -9999.0 -9999.0\n",
       " -9999.0 -9999.0 -9999.0 -9999.0 -9999.0 -9999.0 -9999.0 -9999.0 -9999.0\n",
       " -9999.0 -9999.0 -9999.0 -9999.0 -9999.0 -9999.0 -9999.0 -9999.0 -9999.0\n",
       " -9999.0 -9999.0 -9999.0 -9999.0 -9999.0 -9999.0 -9999.0 -9999.0 -9999.0\n",
       " -9999.0 -9999.0 -9999.0 -9999.0 -9999.0 -9999.0 -9999.0 -9999.0 -9999.0\n",
       " -9999.0 -9999.0 -9999.0 -9999.0 -9999.0 -9999.0 -9999.0 -9999.0 -9999.0\n",
       " -9999.0 -9999.0 -9999.0 -9999.0 -9999.0 -9999.0 -9999.0 -9999.0 -9999.0\n",
       " -9999.0 -9999.0 -9999.0 -9999.0 -9999.0 -9999.0 -9999.0 -9999.0 -9999.0\n",
       " -9999.0 -9999.0 -9999.0 -9999.0 -9999.0 -9999.0 -9999.0 -9999.0 -9999.0\n",
       " -9999.0 -9999.0 -9999.0 -9999.0 -9999.0 -9999.0 -9999.0 -9999.0 -9999.0\n",
       " -9999.0 -9999.0 -9999.0 -9999.0 -9999.0 -9999.0 -9999.0 -32.9561653137207\n",
       " -33.29206848144531 -33.62924575805664 -33.96772384643555\n",
       " -34.30752944946289 -34.64868927001953 -34.991233825683594\n",
       " -35.3351936340332 -35.68059539794922 -36.02747344970703 -36.3758544921875\n",
       " -36.72578048706055 -37.07727813720703 -37.43038558959961\n",
       " -37.78513717651367 -38.141571044921875 -38.499725341796875\n",
       " -38.859642028808594 -39.22135925292969 -39.58491897583008\n",
       " -39.95036697387695 -40.317745208740234 -40.68709945678711\n",
       " -41.0584831237793 -41.431941986083984 -41.80752944946289 -42.185302734375\n",
       " -42.5653076171875 -42.947608947753906 -43.33226776123047\n",
       " -43.71934127807617 -44.10889434814453 -44.500999450683594\n",
       " -44.895721435546875 -45.29313278198242 -45.69331359863281\n",
       " -46.09634017944336 -46.502296447753906 -46.9112663269043\n",
       " -47.323341369628906 -47.738616943359375 -48.157188415527344\n",
       " -48.57916259765625 -49.0046501159668 -49.43375778198242 -49.86661148071289\n",
       " -50.3033332824707 -50.74406051635742 -51.18893051147461 -51.63808822631836\n",
       " -52.09169387817383 -52.54990768432617 -53.01291275024414\n",
       " -53.48088836669922 -53.95403289794922 -54.432559967041016\n",
       " -54.91668701171875 -55.40665817260742 -55.90272903442383\n",
       " -56.40517044067383 -56.91427993774414 -57.43037033081055\n",
       " -57.95378875732422 -58.484893798828125 -59.02409744262695\n",
       " -59.57182693481445 -60.12855529785156 -60.694801330566406\n",
       " -61.2711296081543 -61.8581657409668 -62.45660400390625 -63.06719970703125\n",
       " -63.6908073425293 -64.32837677001953 -64.98098754882812 -65.64984893798828\n",
       " -66.33634948730469 -67.04206085205078 -67.76883697509766\n",
       " -68.51880645751953 -69.29449462890625 -70.09893035888672\n",
       " -70.93574523925781 -71.80941009521484 -72.72552490234375 -73.6912612915039\n",
       " -74.71601104736328 -75.81256866455078 -76.99910736083984 -78.302978515625\n",
       " -79.76895904541016 -81.48033142089844 -83.63197326660156],\n",
       "             mask = [False False False False False False False False False False False False\n",
       " False False False False False False False False False False False False\n",
       " False False False False False False False False False False False False\n",
       " False False False False False False False False False False False False\n",
       " False False False False False False False False False False False False\n",
       " False False False False False False False False False False False False\n",
       " False False False False False False False False False False False False\n",
       " False False False False False False False False False False False False\n",
       " False False False False False False False False False False False False\n",
       " False False False False False False False False False False False False\n",
       " False False False False False False False False False False False False\n",
       " False False False False False False False False False False False False\n",
       " False False False False False False False False False False False False\n",
       " False False False False False False False False False False False False\n",
       " False False False False False False False False False False False False\n",
       " False False False False False False False False False False False False\n",
       " False False False False False False False False False False False False\n",
       " False False False False False False False False False False False False\n",
       " False False False False False False False False False False False False\n",
       " False False False False False False False False False False False False\n",
       " False False False False False False False False False False False False\n",
       " False False False False False False False False False False False False\n",
       " False False False False False False False False False False False False\n",
       " False False False False False False False False False False False False\n",
       " False False False False False False False False False False False False\n",
       " False False False False False False False False False False False False\n",
       " False False False False False False False False False False False False\n",
       " False False False False False False False False False False False False\n",
       " False False False False False False False False False False False False\n",
       " False False False False False False False False False False False False\n",
       " False False False False False False False False False False False False\n",
       " False False False False False False False False False False False False\n",
       " False False False False False False False False False False False False\n",
       " False False False False False False False False False False],\n",
       "       fill_value = 9.96921e+36)"
      ]
     },
     "execution_count": 8,
     "metadata": {},
     "output_type": "execute_result"
    }
   ],
   "source": [
    "lats[:,0]"
   ]
  },
  {
   "cell_type": "markdown",
   "metadata": {},
   "source": [
    "# Look at the leftmost column in the PM group"
   ]
  },
  {
   "cell_type": "code",
   "execution_count": 9,
   "metadata": {
    "scrolled": false
   },
   "outputs": [
    {
     "data": {
      "text/plain": [
       "masked_array(data = [83.63197326660156 81.48033142089844 79.76895904541016 78.302978515625\n",
       " 76.99910736083984 75.81256866455078 74.71601104736328 73.6912612915039\n",
       " 72.72552490234375 71.80941009521484 70.93574523925781 70.09893035888672\n",
       " 69.29449462890625 68.51880645751953 67.76883697509766 67.04206085205078\n",
       " 66.33634948730469 65.64984893798828 64.98098754882812 64.32837677001953\n",
       " 63.6908073425293 63.06719970703125 62.45660400390625 61.8581657409668\n",
       " 61.2711296081543 60.694801330566406 60.12855529785156 59.57182693481445\n",
       " 59.02409744262695 58.484893798828125 57.95378875732422 57.43037033081055\n",
       " 56.91427993774414 56.40517044067383 55.90272903442383 55.40665817260742\n",
       " 54.91668701171875 54.432559967041016 53.95403289794922 53.48088836669922\n",
       " 53.01291275024414 52.54990768432617 52.09169387817383 51.63808822631836\n",
       " 51.18893051147461 50.74406051635742 50.3033332824707 49.86661148071289\n",
       " 49.43375778198242 49.0046501159668 48.57916259765625 48.157188415527344\n",
       " 47.738616943359375 47.323341369628906 46.9112663269043 46.502296447753906\n",
       " 46.09634017944336 45.69331359863281 45.29313278198242 44.895721435546875\n",
       " -- -- -- -- -- -- -- -- -- -- -- -- -- -- -- -- -- -- -- -- -- -- -- -- --\n",
       " -- -- -- -- -- -- -- -- -- -- -- -- -- -- -- -- -- -- -- -- -- -- -- -- --\n",
       " -- -- -- -- -- -- -- -- -- -- -- -- -- -- -- -- -- -- -- -- -- -- -- -- --\n",
       " -- -- -- -- -- -- -- -- -- -- -- -- -- -- -- -- -- -- -- -- -- -- -- -- --\n",
       " -- -- -- -- -- -- -- -- -- -- -- -- -- -- -- -- -- -- -- -- -- -- -- -- --\n",
       " -- -- -- -- -- -- -- -- -- -- -- -- -- -- -- -- -- -- -- -- -- -- -- -- --\n",
       " -- -- -- -- -- -- -- -- -- -- -- -- -- -- -- -- -- -- -- -- -- --\n",
       " -8.360933303833008 -8.646432876586914 -8.932143211364746\n",
       " -9.218071937561035 -9.504225730895996 -9.790613174438477\n",
       " -10.077241897583008 -10.364118576049805 -10.651251792907715\n",
       " -10.938648223876953 -11.226317405700684 -11.514265060424805\n",
       " -11.80250072479248 -12.091032028198242 -12.379866600036621\n",
       " -12.669013023376465 -12.958478927612305 -13.248273849487305\n",
       " -13.538405418395996 -13.828882217407227 -14.119712829589844\n",
       " -14.410905838012695 -14.702469825744629 -14.994413375854492\n",
       " -15.286746978759766 -15.57947826385498 -15.8726167678833\n",
       " -16.16617202758789 -16.46015167236328 -16.754568099975586\n",
       " -17.049428939819336 -17.344745635986328 -17.640525817871094\n",
       " -17.93678092956543 -18.233518600463867 -18.53075408935547\n",
       " -18.828493118286133 -19.12674903869629 -19.42552947998047\n",
       " -19.724849700927734 -20.024717330932617 -20.325143814086914\n",
       " -20.626142501831055 -20.92772102355957 -21.229896545410156\n",
       " -21.532676696777344 -21.836074829101562 -22.14010238647461\n",
       " -22.444772720336914 -22.750099182128906 -23.056093215942383\n",
       " -23.362770080566406 -23.67013931274414 -23.97821807861328\n",
       " -24.287019729614258 -24.596555709838867 -24.906843185424805\n",
       " -25.2178955078125 -25.529726028442383 -25.84235382080078\n",
       " -26.155790328979492 -26.47005271911621 -26.785158157348633\n",
       " -27.10112190246582 -27.41796112060547 -27.73569107055664\n",
       " -28.054332733154297 -28.373899459838867 -28.694414138793945\n",
       " -29.01589012145996 -29.338350296020508 -29.661813735961914\n",
       " -29.986299514770508 -30.311826705932617 -30.638416290283203\n",
       " -30.96609115600586 -31.294872283935547 -31.624780654907227\n",
       " -31.955841064453125 -32.28807830810547 -32.62150955200195\n",
       " -32.9561653137207 -33.29206848144531 -33.62924575805664 -33.96772384643555\n",
       " -34.30752944946289 -34.64868927001953 -34.991233825683594\n",
       " -35.3351936340332 -35.68059539794922 -36.02747344970703 -36.3758544921875\n",
       " -36.72578048706055 -37.07727813720703 -37.43038558959961\n",
       " -37.78513717651367 -38.141571044921875 -38.499725341796875\n",
       " -38.859642028808594 -39.22135925292969 -39.58491897583008\n",
       " -39.95036697387695 -40.317745208740234 -40.68709945678711\n",
       " -41.0584831237793 -41.431941986083984 -41.80752944946289 -42.185302734375\n",
       " -42.5653076171875 -42.947608947753906 -43.33226776123047\n",
       " -43.71934127807617 -44.10889434814453 -44.500999450683594\n",
       " -44.895721435546875 -45.29313278198242 -45.69331359863281\n",
       " -46.09634017944336 -46.502296447753906 -46.9112663269043\n",
       " -47.323341369628906 -47.738616943359375 -48.157188415527344\n",
       " -48.57916259765625 -49.0046501159668 -49.43375778198242 -49.86661148071289\n",
       " -50.3033332824707 -50.74406051635742 -51.18893051147461 -51.63808822631836\n",
       " -52.09169387817383 -52.54990768432617 -53.01291275024414\n",
       " -53.48088836669922 -- -- -- -- -- -- -- -- -- -- -- -- -- -- -- --\n",
       " -62.45660400390625 -63.06719970703125 -63.6908073425293 -64.32837677001953\n",
       " -64.98098754882812 -65.64984893798828 -66.33634948730469\n",
       " -67.04206085205078 -67.76883697509766 -68.51880645751953\n",
       " -69.29449462890625 -70.09893035888672 -70.93574523925781\n",
       " -71.80941009521484 -72.72552490234375 -73.6912612915039 -74.71601104736328\n",
       " -75.81256866455078 -76.99910736083984 -78.302978515625 -79.76895904541016\n",
       " -81.48033142089844 -83.63197326660156],\n",
       "             mask = [False False False False False False False False False False False False\n",
       " False False False False False False False False False False False False\n",
       " False False False False False False False False False False False False\n",
       " False False False False False False False False False False False False\n",
       " False False False False False False False False False False False False\n",
       "  True  True  True  True  True  True  True  True  True  True  True  True\n",
       "  True  True  True  True  True  True  True  True  True  True  True  True\n",
       "  True  True  True  True  True  True  True  True  True  True  True  True\n",
       "  True  True  True  True  True  True  True  True  True  True  True  True\n",
       "  True  True  True  True  True  True  True  True  True  True  True  True\n",
       "  True  True  True  True  True  True  True  True  True  True  True  True\n",
       "  True  True  True  True  True  True  True  True  True  True  True  True\n",
       "  True  True  True  True  True  True  True  True  True  True  True  True\n",
       "  True  True  True  True  True  True  True  True  True  True  True  True\n",
       "  True  True  True  True  True  True  True  True  True  True  True  True\n",
       "  True  True  True  True  True  True  True  True  True  True  True  True\n",
       "  True  True  True  True  True  True  True  True  True  True  True  True\n",
       "  True  True  True  True  True  True  True  True  True  True  True  True\n",
       "  True  True  True  True  True  True  True  True  True  True  True  True\n",
       "  True  True  True  True False False False False False False False False\n",
       " False False False False False False False False False False False False\n",
       " False False False False False False False False False False False False\n",
       " False False False False False False False False False False False False\n",
       " False False False False False False False False False False False False\n",
       " False False False False False False False False False False False False\n",
       " False False False False False False False False False False False False\n",
       " False False False False False False False False False False False False\n",
       " False False False False False False False False False False False False\n",
       " False False False False False False False False False False False False\n",
       " False False False False False False False False False False False False\n",
       " False False False False False False False  True  True  True  True  True\n",
       "  True  True  True  True  True  True  True  True  True  True  True False\n",
       " False False False False False False False False False False False False\n",
       " False False False False False False False False False False],\n",
       "       fill_value = -9999.0)"
      ]
     },
     "execution_count": 9,
     "metadata": {},
     "output_type": "execute_result"
    }
   ],
   "source": [
    "lats_pm[:,0]"
   ]
  },
  {
   "cell_type": "code",
   "execution_count": 11,
   "metadata": {
    "scrolled": false
   },
   "outputs": [
    {
     "data": {
      "text/plain": [
       "(-0.5, 963.5, 405.5, -0.5)"
      ]
     },
     "execution_count": 11,
     "metadata": {},
     "output_type": "execute_result"
    },
    {
     "data": {
      "image/png": "[encoded data removed]",
      "text/plain": [
       "<Figure size 864x576 with 2 Axes>"
      ]
     },
     "metadata": {},
     "output_type": "display_data"
    }
   ],
   "source": [
    "fig, axes = plt.subplots(2,1, figsize=(12,8))\n",
    "axes[0].imshow(lats, cmap='Greys', vmin=np.amin(-90.), vmax=np.amax(90.), interpolation='None')\n",
    "axes[0].set_title(\"lats\")\n",
    "axes[0].axis('off')\n",
    "axes[1].imshow(lats_pm, cmap='Greys', vmin=np.amin(-90.), vmax=np.amax(90.), interpolation='None')\n",
    "axes[1].set_title(\"lats\")\n",
    "axes[1].axis('off')\n"
   ]
  },
  {
   "cell_type": "code",
   "execution_count": null,
   "metadata": {},
   "outputs": [],
   "source": []
  }
 ],
 "metadata": {
  "kernelspec": {
   "display_name": "Python 3",
   "language": "python",
   "name": "python3"
  },
  "language_info": {
   "codemirror_mode": {
    "name": "ipython",
    "version": 3
   },
   "file_extension": ".py",
   "mimetype": "text/x-python",
   "name": "python",
   "nbconvert_exporter": "python",
   "pygments_lexer": "ipython3",
   "version": "3.6.5"
  }
 },
 "nbformat": 4,
 "nbformat_minor": 2
}
